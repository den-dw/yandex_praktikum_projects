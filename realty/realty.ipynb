{
 "cells": [
  {
   "cell_type": "markdown",
   "metadata": {
    "toc": true
   },
   "source": [
    "<h1>Содержание<span class=\"tocSkip\"></span></h1>\n",
    "<div class=\"toc\"><ul class=\"toc-item\"><li><span><a href=\"#Изучение-данных-из-файла\" data-toc-modified-id=\"Изучение-данных-из-файла-1\"><span class=\"toc-item-num\">1&nbsp;&nbsp;</span>Изучение данных из файла</a></span><ul class=\"toc-item\"><li><span><a href=\"#Вывод\" data-toc-modified-id=\"Вывод-1.1\"><span class=\"toc-item-num\">1.1&nbsp;&nbsp;</span>Вывод</a></span></li></ul></li><li><span><a href=\"#Предобработка-данных\" data-toc-modified-id=\"Предобработка-данных-2\"><span class=\"toc-item-num\">2&nbsp;&nbsp;</span>Предобработка данных</a></span></li><li><span><a href=\"#Расчёты-и-добавление-результатов-в-таблицу\" data-toc-modified-id=\"Расчёты-и-добавление-результатов-в-таблицу-3\"><span class=\"toc-item-num\">3&nbsp;&nbsp;</span>Расчёты и добавление результатов в таблицу</a></span></li><li><span><a href=\"#Исследовательский-анализ-данных\" data-toc-modified-id=\"Исследовательский-анализ-данных-4\"><span class=\"toc-item-num\">4&nbsp;&nbsp;</span>Исследовательский анализ данных</a></span></li><li><span><a href=\"#Общий-вывод\" data-toc-modified-id=\"Общий-вывод-5\"><span class=\"toc-item-num\">5&nbsp;&nbsp;</span>Общий вывод</a></span></li><li><span><a href=\"#Чек-лист-готовности-проекта\" data-toc-modified-id=\"Чек-лист-готовности-проекта-6\"><span class=\"toc-item-num\">6&nbsp;&nbsp;</span>Чек-лист готовности проекта</a></span></li></ul></div>"
   ]
  },
  {
   "cell_type": "markdown",
   "metadata": {},
   "source": [
    "# Исследование объявлений о продаже квартир\n",
    "\n",
    "В вашем распоряжении данные сервиса Яндекc Недвижимость — архив объявлений о продаже квартир в Санкт-Петербурге и соседних населённых пунктах за несколько лет. Нужно научиться определять рыночную стоимость объектов недвижимости. Ваша задача — установить параметры. Это позволит построить автоматизированную систему: она отследит аномалии и мошенническую деятельность. \n",
    "\n",
    "По каждой квартире на продажу доступны два вида данных. Первые вписаны пользователем, вторые получены автоматически на основе картографических данных. Например, расстояние до центра, аэропорта, ближайшего парка и водоёма. "
   ]
  },
  {
   "cell_type": "markdown",
   "metadata": {},
   "source": [
    "# Описание данных\n",
    "* ```airports_nearest``` — расстояние до ближайшего аэропорта в метрах (м)\n",
    "* ```balcony``` — число балконов\n",
    "* ```ceiling_height``` — высота потолков (м)\n",
    "* ```cityCenters_nearest``` — расстояние до центра города (м)\n",
    "* ```days_exposition``` — сколько дней было размещено объявление (от публикации до снятия)\n",
    "* ```first_day_exposition``` — дата публикации\n",
    "* ```floor``` — этаж\n",
    "* ```floors_total``` — всего этажей в доме\n",
    "* ```is_apartment``` — апартаменты (булев тип)\n",
    "* ```kitchen_area``` — площадь кухни в квадратных метрах (м²)\n",
    "* ```last_price``` — цена на момент снятия с публикации\n",
    "* ```living_area``` — жилая площадь в квадратных метрах (м²)\n",
    "* ```locality_name``` — название населённого пункта\n",
    "* ```open_plan``` — свободная планировка (булев тип)\n",
    "* ```parks_around3000``` — число парков в радиусе 3 км\n",
    "* ```parks_nearest``` — расстояние до ближайшего парка (м)\n",
    "* ```ponds_around3000``` — число водоёмов в радиусе 3 км\n",
    "* ```ponds_nearest``` — расстояние до ближайшего водоёма (м)\n",
    "* ```rooms``` — число комнат\n",
    "* ```studio``` — квартира-студия (булев тип)\n",
    "* ```total_area``` — площадь квартиры в квадратных метрах (м²)\n",
    "* ```total_images``` — число фотографий квартиры в объявлении"
   ]
  },
  {
   "cell_type": "code",
   "execution_count": 99,
   "metadata": {},
   "outputs": [],
   "source": [
    "import pandas as pd\n",
    "import numpy as np\n",
    "import seaborn as sns\n",
    "import warnings"
   ]
  },
  {
   "cell_type": "code",
   "execution_count": 3,
   "metadata": {},
   "outputs": [],
   "source": [
    "pd.options.display.max_columns = 30"
   ]
  },
  {
   "cell_type": "markdown",
   "metadata": {},
   "source": [
    "## Изучение данных из файла"
   ]
  },
  {
   "cell_type": "code",
   "execution_count": 4,
   "metadata": {},
   "outputs": [],
   "source": [
    "data_raw = pd.read_csv('https://code.s3.yandex.net/datasets/real_estate_data.csv', sep='\\t')"
   ]
  },
  {
   "cell_type": "code",
   "execution_count": 5,
   "metadata": {},
   "outputs": [
    {
     "data": {
      "text/html": [
       "<div>\n",
       "<style scoped>\n",
       "    .dataframe tbody tr th:only-of-type {\n",
       "        vertical-align: middle;\n",
       "    }\n",
       "\n",
       "    .dataframe tbody tr th {\n",
       "        vertical-align: top;\n",
       "    }\n",
       "\n",
       "    .dataframe thead th {\n",
       "        text-align: right;\n",
       "    }\n",
       "</style>\n",
       "<table border=\"1\" class=\"dataframe\">\n",
       "  <thead>\n",
       "    <tr style=\"text-align: right;\">\n",
       "      <th></th>\n",
       "      <th>total_images</th>\n",
       "      <th>last_price</th>\n",
       "      <th>total_area</th>\n",
       "      <th>first_day_exposition</th>\n",
       "      <th>rooms</th>\n",
       "      <th>ceiling_height</th>\n",
       "      <th>floors_total</th>\n",
       "      <th>living_area</th>\n",
       "      <th>floor</th>\n",
       "      <th>is_apartment</th>\n",
       "      <th>studio</th>\n",
       "      <th>open_plan</th>\n",
       "      <th>kitchen_area</th>\n",
       "      <th>balcony</th>\n",
       "      <th>locality_name</th>\n",
       "      <th>airports_nearest</th>\n",
       "      <th>cityCenters_nearest</th>\n",
       "      <th>parks_around3000</th>\n",
       "      <th>parks_nearest</th>\n",
       "      <th>ponds_around3000</th>\n",
       "      <th>ponds_nearest</th>\n",
       "      <th>days_exposition</th>\n",
       "    </tr>\n",
       "  </thead>\n",
       "  <tbody>\n",
       "    <tr>\n",
       "      <th>0</th>\n",
       "      <td>20</td>\n",
       "      <td>13000000.0</td>\n",
       "      <td>108.00</td>\n",
       "      <td>2019-03-07T00:00:00</td>\n",
       "      <td>3</td>\n",
       "      <td>2.70</td>\n",
       "      <td>16.0</td>\n",
       "      <td>51.0</td>\n",
       "      <td>8</td>\n",
       "      <td>NaN</td>\n",
       "      <td>False</td>\n",
       "      <td>False</td>\n",
       "      <td>25.00</td>\n",
       "      <td>NaN</td>\n",
       "      <td>Санкт-Петербург</td>\n",
       "      <td>18863.0</td>\n",
       "      <td>16028.0</td>\n",
       "      <td>1.0</td>\n",
       "      <td>482.0</td>\n",
       "      <td>2.0</td>\n",
       "      <td>755.0</td>\n",
       "      <td>NaN</td>\n",
       "    </tr>\n",
       "    <tr>\n",
       "      <th>1</th>\n",
       "      <td>7</td>\n",
       "      <td>3350000.0</td>\n",
       "      <td>40.40</td>\n",
       "      <td>2018-12-04T00:00:00</td>\n",
       "      <td>1</td>\n",
       "      <td>NaN</td>\n",
       "      <td>11.0</td>\n",
       "      <td>18.6</td>\n",
       "      <td>1</td>\n",
       "      <td>NaN</td>\n",
       "      <td>False</td>\n",
       "      <td>False</td>\n",
       "      <td>11.00</td>\n",
       "      <td>2.0</td>\n",
       "      <td>посёлок Шушары</td>\n",
       "      <td>12817.0</td>\n",
       "      <td>18603.0</td>\n",
       "      <td>0.0</td>\n",
       "      <td>NaN</td>\n",
       "      <td>0.0</td>\n",
       "      <td>NaN</td>\n",
       "      <td>81.0</td>\n",
       "    </tr>\n",
       "    <tr>\n",
       "      <th>2</th>\n",
       "      <td>10</td>\n",
       "      <td>5196000.0</td>\n",
       "      <td>56.00</td>\n",
       "      <td>2015-08-20T00:00:00</td>\n",
       "      <td>2</td>\n",
       "      <td>NaN</td>\n",
       "      <td>5.0</td>\n",
       "      <td>34.3</td>\n",
       "      <td>4</td>\n",
       "      <td>NaN</td>\n",
       "      <td>False</td>\n",
       "      <td>False</td>\n",
       "      <td>8.30</td>\n",
       "      <td>0.0</td>\n",
       "      <td>Санкт-Петербург</td>\n",
       "      <td>21741.0</td>\n",
       "      <td>13933.0</td>\n",
       "      <td>1.0</td>\n",
       "      <td>90.0</td>\n",
       "      <td>2.0</td>\n",
       "      <td>574.0</td>\n",
       "      <td>558.0</td>\n",
       "    </tr>\n",
       "    <tr>\n",
       "      <th>3</th>\n",
       "      <td>0</td>\n",
       "      <td>64900000.0</td>\n",
       "      <td>159.00</td>\n",
       "      <td>2015-07-24T00:00:00</td>\n",
       "      <td>3</td>\n",
       "      <td>NaN</td>\n",
       "      <td>14.0</td>\n",
       "      <td>NaN</td>\n",
       "      <td>9</td>\n",
       "      <td>NaN</td>\n",
       "      <td>False</td>\n",
       "      <td>False</td>\n",
       "      <td>NaN</td>\n",
       "      <td>0.0</td>\n",
       "      <td>Санкт-Петербург</td>\n",
       "      <td>28098.0</td>\n",
       "      <td>6800.0</td>\n",
       "      <td>2.0</td>\n",
       "      <td>84.0</td>\n",
       "      <td>3.0</td>\n",
       "      <td>234.0</td>\n",
       "      <td>424.0</td>\n",
       "    </tr>\n",
       "    <tr>\n",
       "      <th>4</th>\n",
       "      <td>2</td>\n",
       "      <td>10000000.0</td>\n",
       "      <td>100.00</td>\n",
       "      <td>2018-06-19T00:00:00</td>\n",
       "      <td>2</td>\n",
       "      <td>3.03</td>\n",
       "      <td>14.0</td>\n",
       "      <td>32.0</td>\n",
       "      <td>13</td>\n",
       "      <td>NaN</td>\n",
       "      <td>False</td>\n",
       "      <td>False</td>\n",
       "      <td>41.00</td>\n",
       "      <td>NaN</td>\n",
       "      <td>Санкт-Петербург</td>\n",
       "      <td>31856.0</td>\n",
       "      <td>8098.0</td>\n",
       "      <td>2.0</td>\n",
       "      <td>112.0</td>\n",
       "      <td>1.0</td>\n",
       "      <td>48.0</td>\n",
       "      <td>121.0</td>\n",
       "    </tr>\n",
       "    <tr>\n",
       "      <th>...</th>\n",
       "      <td>...</td>\n",
       "      <td>...</td>\n",
       "      <td>...</td>\n",
       "      <td>...</td>\n",
       "      <td>...</td>\n",
       "      <td>...</td>\n",
       "      <td>...</td>\n",
       "      <td>...</td>\n",
       "      <td>...</td>\n",
       "      <td>...</td>\n",
       "      <td>...</td>\n",
       "      <td>...</td>\n",
       "      <td>...</td>\n",
       "      <td>...</td>\n",
       "      <td>...</td>\n",
       "      <td>...</td>\n",
       "      <td>...</td>\n",
       "      <td>...</td>\n",
       "      <td>...</td>\n",
       "      <td>...</td>\n",
       "      <td>...</td>\n",
       "      <td>...</td>\n",
       "    </tr>\n",
       "    <tr>\n",
       "      <th>23694</th>\n",
       "      <td>9</td>\n",
       "      <td>9700000.0</td>\n",
       "      <td>133.81</td>\n",
       "      <td>2017-03-21T00:00:00</td>\n",
       "      <td>3</td>\n",
       "      <td>3.70</td>\n",
       "      <td>5.0</td>\n",
       "      <td>73.3</td>\n",
       "      <td>3</td>\n",
       "      <td>NaN</td>\n",
       "      <td>False</td>\n",
       "      <td>False</td>\n",
       "      <td>13.83</td>\n",
       "      <td>NaN</td>\n",
       "      <td>Санкт-Петербург</td>\n",
       "      <td>24665.0</td>\n",
       "      <td>4232.0</td>\n",
       "      <td>1.0</td>\n",
       "      <td>796.0</td>\n",
       "      <td>3.0</td>\n",
       "      <td>381.0</td>\n",
       "      <td>NaN</td>\n",
       "    </tr>\n",
       "    <tr>\n",
       "      <th>23695</th>\n",
       "      <td>14</td>\n",
       "      <td>3100000.0</td>\n",
       "      <td>59.00</td>\n",
       "      <td>2018-01-15T00:00:00</td>\n",
       "      <td>3</td>\n",
       "      <td>NaN</td>\n",
       "      <td>5.0</td>\n",
       "      <td>38.0</td>\n",
       "      <td>4</td>\n",
       "      <td>NaN</td>\n",
       "      <td>False</td>\n",
       "      <td>False</td>\n",
       "      <td>8.50</td>\n",
       "      <td>NaN</td>\n",
       "      <td>Тосно</td>\n",
       "      <td>NaN</td>\n",
       "      <td>NaN</td>\n",
       "      <td>NaN</td>\n",
       "      <td>NaN</td>\n",
       "      <td>NaN</td>\n",
       "      <td>NaN</td>\n",
       "      <td>45.0</td>\n",
       "    </tr>\n",
       "    <tr>\n",
       "      <th>23696</th>\n",
       "      <td>18</td>\n",
       "      <td>2500000.0</td>\n",
       "      <td>56.70</td>\n",
       "      <td>2018-02-11T00:00:00</td>\n",
       "      <td>2</td>\n",
       "      <td>NaN</td>\n",
       "      <td>3.0</td>\n",
       "      <td>29.7</td>\n",
       "      <td>1</td>\n",
       "      <td>NaN</td>\n",
       "      <td>False</td>\n",
       "      <td>False</td>\n",
       "      <td>NaN</td>\n",
       "      <td>NaN</td>\n",
       "      <td>село Рождествено</td>\n",
       "      <td>NaN</td>\n",
       "      <td>NaN</td>\n",
       "      <td>NaN</td>\n",
       "      <td>NaN</td>\n",
       "      <td>NaN</td>\n",
       "      <td>NaN</td>\n",
       "      <td>NaN</td>\n",
       "    </tr>\n",
       "    <tr>\n",
       "      <th>23697</th>\n",
       "      <td>13</td>\n",
       "      <td>11475000.0</td>\n",
       "      <td>76.75</td>\n",
       "      <td>2017-03-28T00:00:00</td>\n",
       "      <td>2</td>\n",
       "      <td>3.00</td>\n",
       "      <td>17.0</td>\n",
       "      <td>NaN</td>\n",
       "      <td>12</td>\n",
       "      <td>NaN</td>\n",
       "      <td>False</td>\n",
       "      <td>False</td>\n",
       "      <td>23.30</td>\n",
       "      <td>2.0</td>\n",
       "      <td>Санкт-Петербург</td>\n",
       "      <td>39140.0</td>\n",
       "      <td>10364.0</td>\n",
       "      <td>2.0</td>\n",
       "      <td>173.0</td>\n",
       "      <td>3.0</td>\n",
       "      <td>196.0</td>\n",
       "      <td>602.0</td>\n",
       "    </tr>\n",
       "    <tr>\n",
       "      <th>23698</th>\n",
       "      <td>4</td>\n",
       "      <td>1350000.0</td>\n",
       "      <td>32.30</td>\n",
       "      <td>2017-07-21T00:00:00</td>\n",
       "      <td>1</td>\n",
       "      <td>2.50</td>\n",
       "      <td>5.0</td>\n",
       "      <td>12.3</td>\n",
       "      <td>1</td>\n",
       "      <td>NaN</td>\n",
       "      <td>False</td>\n",
       "      <td>False</td>\n",
       "      <td>9.00</td>\n",
       "      <td>NaN</td>\n",
       "      <td>поселок Новый Учхоз</td>\n",
       "      <td>NaN</td>\n",
       "      <td>NaN</td>\n",
       "      <td>NaN</td>\n",
       "      <td>NaN</td>\n",
       "      <td>NaN</td>\n",
       "      <td>NaN</td>\n",
       "      <td>NaN</td>\n",
       "    </tr>\n",
       "  </tbody>\n",
       "</table>\n",
       "<p>23699 rows × 22 columns</p>\n",
       "</div>"
      ],
      "text/plain": [
       "       total_images  last_price  total_area first_day_exposition  rooms  \\\n",
       "0                20  13000000.0      108.00  2019-03-07T00:00:00      3   \n",
       "1                 7   3350000.0       40.40  2018-12-04T00:00:00      1   \n",
       "2                10   5196000.0       56.00  2015-08-20T00:00:00      2   \n",
       "3                 0  64900000.0      159.00  2015-07-24T00:00:00      3   \n",
       "4                 2  10000000.0      100.00  2018-06-19T00:00:00      2   \n",
       "...             ...         ...         ...                  ...    ...   \n",
       "23694             9   9700000.0      133.81  2017-03-21T00:00:00      3   \n",
       "23695            14   3100000.0       59.00  2018-01-15T00:00:00      3   \n",
       "23696            18   2500000.0       56.70  2018-02-11T00:00:00      2   \n",
       "23697            13  11475000.0       76.75  2017-03-28T00:00:00      2   \n",
       "23698             4   1350000.0       32.30  2017-07-21T00:00:00      1   \n",
       "\n",
       "       ceiling_height  floors_total  living_area  floor is_apartment  studio  \\\n",
       "0                2.70          16.0         51.0      8          NaN   False   \n",
       "1                 NaN          11.0         18.6      1          NaN   False   \n",
       "2                 NaN           5.0         34.3      4          NaN   False   \n",
       "3                 NaN          14.0          NaN      9          NaN   False   \n",
       "4                3.03          14.0         32.0     13          NaN   False   \n",
       "...               ...           ...          ...    ...          ...     ...   \n",
       "23694            3.70           5.0         73.3      3          NaN   False   \n",
       "23695             NaN           5.0         38.0      4          NaN   False   \n",
       "23696             NaN           3.0         29.7      1          NaN   False   \n",
       "23697            3.00          17.0          NaN     12          NaN   False   \n",
       "23698            2.50           5.0         12.3      1          NaN   False   \n",
       "\n",
       "       open_plan  kitchen_area  balcony        locality_name  \\\n",
       "0          False         25.00      NaN      Санкт-Петербург   \n",
       "1          False         11.00      2.0       посёлок Шушары   \n",
       "2          False          8.30      0.0      Санкт-Петербург   \n",
       "3          False           NaN      0.0      Санкт-Петербург   \n",
       "4          False         41.00      NaN      Санкт-Петербург   \n",
       "...          ...           ...      ...                  ...   \n",
       "23694      False         13.83      NaN      Санкт-Петербург   \n",
       "23695      False          8.50      NaN                Тосно   \n",
       "23696      False           NaN      NaN     село Рождествено   \n",
       "23697      False         23.30      2.0      Санкт-Петербург   \n",
       "23698      False          9.00      NaN  поселок Новый Учхоз   \n",
       "\n",
       "       airports_nearest  cityCenters_nearest  parks_around3000  parks_nearest  \\\n",
       "0               18863.0              16028.0               1.0          482.0   \n",
       "1               12817.0              18603.0               0.0            NaN   \n",
       "2               21741.0              13933.0               1.0           90.0   \n",
       "3               28098.0               6800.0               2.0           84.0   \n",
       "4               31856.0               8098.0               2.0          112.0   \n",
       "...                 ...                  ...               ...            ...   \n",
       "23694           24665.0               4232.0               1.0          796.0   \n",
       "23695               NaN                  NaN               NaN            NaN   \n",
       "23696               NaN                  NaN               NaN            NaN   \n",
       "23697           39140.0              10364.0               2.0          173.0   \n",
       "23698               NaN                  NaN               NaN            NaN   \n",
       "\n",
       "       ponds_around3000  ponds_nearest  days_exposition  \n",
       "0                   2.0          755.0              NaN  \n",
       "1                   0.0            NaN             81.0  \n",
       "2                   2.0          574.0            558.0  \n",
       "3                   3.0          234.0            424.0  \n",
       "4                   1.0           48.0            121.0  \n",
       "...                 ...            ...              ...  \n",
       "23694               3.0          381.0              NaN  \n",
       "23695               NaN            NaN             45.0  \n",
       "23696               NaN            NaN              NaN  \n",
       "23697               3.0          196.0            602.0  \n",
       "23698               NaN            NaN              NaN  \n",
       "\n",
       "[23699 rows x 22 columns]"
      ]
     },
     "execution_count": 5,
     "metadata": {},
     "output_type": "execute_result"
    }
   ],
   "source": [
    "data_raw"
   ]
  },
  {
   "cell_type": "code",
   "execution_count": 6,
   "metadata": {},
   "outputs": [
    {
     "name": "stdout",
     "output_type": "stream",
     "text": [
      "<class 'pandas.core.frame.DataFrame'>\n",
      "RangeIndex: 23699 entries, 0 to 23698\n",
      "Data columns (total 22 columns):\n",
      " #   Column                Non-Null Count  Dtype  \n",
      "---  ------                --------------  -----  \n",
      " 0   total_images          23699 non-null  int64  \n",
      " 1   last_price            23699 non-null  float64\n",
      " 2   total_area            23699 non-null  float64\n",
      " 3   first_day_exposition  23699 non-null  object \n",
      " 4   rooms                 23699 non-null  int64  \n",
      " 5   ceiling_height        14504 non-null  float64\n",
      " 6   floors_total          23613 non-null  float64\n",
      " 7   living_area           21796 non-null  float64\n",
      " 8   floor                 23699 non-null  int64  \n",
      " 9   is_apartment          2775 non-null   object \n",
      " 10  studio                23699 non-null  bool   \n",
      " 11  open_plan             23699 non-null  bool   \n",
      " 12  kitchen_area          21421 non-null  float64\n",
      " 13  balcony               12180 non-null  float64\n",
      " 14  locality_name         23650 non-null  object \n",
      " 15  airports_nearest      18157 non-null  float64\n",
      " 16  cityCenters_nearest   18180 non-null  float64\n",
      " 17  parks_around3000      18181 non-null  float64\n",
      " 18  parks_nearest         8079 non-null   float64\n",
      " 19  ponds_around3000      18181 non-null  float64\n",
      " 20  ponds_nearest         9110 non-null   float64\n",
      " 21  days_exposition       20518 non-null  float64\n",
      "dtypes: bool(2), float64(14), int64(3), object(3)\n",
      "memory usage: 3.7+ MB\n"
     ]
    }
   ],
   "source": [
    "data_raw.info()"
   ]
  },
  {
   "cell_type": "code",
   "execution_count": 7,
   "metadata": {
    "scrolled": false
   },
   "outputs": [
    {
     "data": {
      "text/plain": [
       "total_images                0\n",
       "last_price                  0\n",
       "total_area                  0\n",
       "first_day_exposition        0\n",
       "rooms                       0\n",
       "ceiling_height           9195\n",
       "floors_total               86\n",
       "living_area              1903\n",
       "floor                       0\n",
       "is_apartment            20924\n",
       "studio                      0\n",
       "open_plan                   0\n",
       "kitchen_area             2278\n",
       "balcony                 11519\n",
       "locality_name              49\n",
       "airports_nearest         5542\n",
       "cityCenters_nearest      5519\n",
       "parks_around3000         5518\n",
       "parks_nearest           15620\n",
       "ponds_around3000         5518\n",
       "ponds_nearest           14589\n",
       "days_exposition          3181\n",
       "dtype: int64"
      ]
     },
     "execution_count": 7,
     "metadata": {},
     "output_type": "execute_result"
    }
   ],
   "source": [
    "data_raw.isna().sum()"
   ]
  },
  {
   "cell_type": "code",
   "execution_count": 8,
   "metadata": {
    "scrolled": true
   },
   "outputs": [
    {
     "data": {
      "text/html": [
       "<div>\n",
       "<style scoped>\n",
       "    .dataframe tbody tr th:only-of-type {\n",
       "        vertical-align: middle;\n",
       "    }\n",
       "\n",
       "    .dataframe tbody tr th {\n",
       "        vertical-align: top;\n",
       "    }\n",
       "\n",
       "    .dataframe thead th {\n",
       "        text-align: right;\n",
       "    }\n",
       "</style>\n",
       "<table border=\"1\" class=\"dataframe\">\n",
       "  <thead>\n",
       "    <tr style=\"text-align: right;\">\n",
       "      <th></th>\n",
       "      <th>total_images</th>\n",
       "      <th>last_price</th>\n",
       "      <th>total_area</th>\n",
       "      <th>rooms</th>\n",
       "      <th>ceiling_height</th>\n",
       "      <th>floors_total</th>\n",
       "      <th>living_area</th>\n",
       "      <th>floor</th>\n",
       "      <th>kitchen_area</th>\n",
       "      <th>balcony</th>\n",
       "      <th>airports_nearest</th>\n",
       "      <th>cityCenters_nearest</th>\n",
       "      <th>parks_around3000</th>\n",
       "      <th>parks_nearest</th>\n",
       "      <th>ponds_around3000</th>\n",
       "      <th>ponds_nearest</th>\n",
       "      <th>days_exposition</th>\n",
       "    </tr>\n",
       "  </thead>\n",
       "  <tbody>\n",
       "    <tr>\n",
       "      <th>count</th>\n",
       "      <td>23699.000000</td>\n",
       "      <td>2.369900e+04</td>\n",
       "      <td>23699.000000</td>\n",
       "      <td>23699.000000</td>\n",
       "      <td>14504.000000</td>\n",
       "      <td>23613.000000</td>\n",
       "      <td>21796.000000</td>\n",
       "      <td>23699.000000</td>\n",
       "      <td>21421.000000</td>\n",
       "      <td>12180.000000</td>\n",
       "      <td>18157.000000</td>\n",
       "      <td>18180.000000</td>\n",
       "      <td>18181.000000</td>\n",
       "      <td>8079.000000</td>\n",
       "      <td>18181.000000</td>\n",
       "      <td>9110.000000</td>\n",
       "      <td>20518.000000</td>\n",
       "    </tr>\n",
       "    <tr>\n",
       "      <th>mean</th>\n",
       "      <td>9.858475</td>\n",
       "      <td>6.541549e+06</td>\n",
       "      <td>60.348651</td>\n",
       "      <td>2.070636</td>\n",
       "      <td>2.771499</td>\n",
       "      <td>10.673824</td>\n",
       "      <td>34.457852</td>\n",
       "      <td>5.892358</td>\n",
       "      <td>10.569807</td>\n",
       "      <td>1.150082</td>\n",
       "      <td>28793.672193</td>\n",
       "      <td>14191.277833</td>\n",
       "      <td>0.611408</td>\n",
       "      <td>490.804555</td>\n",
       "      <td>0.770255</td>\n",
       "      <td>517.980900</td>\n",
       "      <td>180.888634</td>\n",
       "    </tr>\n",
       "    <tr>\n",
       "      <th>std</th>\n",
       "      <td>5.682529</td>\n",
       "      <td>1.088701e+07</td>\n",
       "      <td>35.654083</td>\n",
       "      <td>1.078405</td>\n",
       "      <td>1.261056</td>\n",
       "      <td>6.597173</td>\n",
       "      <td>22.030445</td>\n",
       "      <td>4.885249</td>\n",
       "      <td>5.905438</td>\n",
       "      <td>1.071300</td>\n",
       "      <td>12630.880622</td>\n",
       "      <td>8608.386210</td>\n",
       "      <td>0.802074</td>\n",
       "      <td>342.317995</td>\n",
       "      <td>0.938346</td>\n",
       "      <td>277.720643</td>\n",
       "      <td>219.727988</td>\n",
       "    </tr>\n",
       "    <tr>\n",
       "      <th>min</th>\n",
       "      <td>0.000000</td>\n",
       "      <td>1.219000e+04</td>\n",
       "      <td>12.000000</td>\n",
       "      <td>0.000000</td>\n",
       "      <td>1.000000</td>\n",
       "      <td>1.000000</td>\n",
       "      <td>2.000000</td>\n",
       "      <td>1.000000</td>\n",
       "      <td>1.300000</td>\n",
       "      <td>0.000000</td>\n",
       "      <td>0.000000</td>\n",
       "      <td>181.000000</td>\n",
       "      <td>0.000000</td>\n",
       "      <td>1.000000</td>\n",
       "      <td>0.000000</td>\n",
       "      <td>13.000000</td>\n",
       "      <td>1.000000</td>\n",
       "    </tr>\n",
       "    <tr>\n",
       "      <th>25%</th>\n",
       "      <td>6.000000</td>\n",
       "      <td>3.400000e+06</td>\n",
       "      <td>40.000000</td>\n",
       "      <td>1.000000</td>\n",
       "      <td>2.520000</td>\n",
       "      <td>5.000000</td>\n",
       "      <td>18.600000</td>\n",
       "      <td>2.000000</td>\n",
       "      <td>7.000000</td>\n",
       "      <td>0.000000</td>\n",
       "      <td>18585.000000</td>\n",
       "      <td>9238.000000</td>\n",
       "      <td>0.000000</td>\n",
       "      <td>288.000000</td>\n",
       "      <td>0.000000</td>\n",
       "      <td>294.000000</td>\n",
       "      <td>45.000000</td>\n",
       "    </tr>\n",
       "    <tr>\n",
       "      <th>50%</th>\n",
       "      <td>9.000000</td>\n",
       "      <td>4.650000e+06</td>\n",
       "      <td>52.000000</td>\n",
       "      <td>2.000000</td>\n",
       "      <td>2.650000</td>\n",
       "      <td>9.000000</td>\n",
       "      <td>30.000000</td>\n",
       "      <td>4.000000</td>\n",
       "      <td>9.100000</td>\n",
       "      <td>1.000000</td>\n",
       "      <td>26726.000000</td>\n",
       "      <td>13098.500000</td>\n",
       "      <td>0.000000</td>\n",
       "      <td>455.000000</td>\n",
       "      <td>1.000000</td>\n",
       "      <td>502.000000</td>\n",
       "      <td>95.000000</td>\n",
       "    </tr>\n",
       "    <tr>\n",
       "      <th>75%</th>\n",
       "      <td>14.000000</td>\n",
       "      <td>6.800000e+06</td>\n",
       "      <td>69.900000</td>\n",
       "      <td>3.000000</td>\n",
       "      <td>2.800000</td>\n",
       "      <td>16.000000</td>\n",
       "      <td>42.300000</td>\n",
       "      <td>8.000000</td>\n",
       "      <td>12.000000</td>\n",
       "      <td>2.000000</td>\n",
       "      <td>37273.000000</td>\n",
       "      <td>16293.000000</td>\n",
       "      <td>1.000000</td>\n",
       "      <td>612.000000</td>\n",
       "      <td>1.000000</td>\n",
       "      <td>729.000000</td>\n",
       "      <td>232.000000</td>\n",
       "    </tr>\n",
       "    <tr>\n",
       "      <th>max</th>\n",
       "      <td>50.000000</td>\n",
       "      <td>7.630000e+08</td>\n",
       "      <td>900.000000</td>\n",
       "      <td>19.000000</td>\n",
       "      <td>100.000000</td>\n",
       "      <td>60.000000</td>\n",
       "      <td>409.700000</td>\n",
       "      <td>33.000000</td>\n",
       "      <td>112.000000</td>\n",
       "      <td>5.000000</td>\n",
       "      <td>84869.000000</td>\n",
       "      <td>65968.000000</td>\n",
       "      <td>3.000000</td>\n",
       "      <td>3190.000000</td>\n",
       "      <td>3.000000</td>\n",
       "      <td>1344.000000</td>\n",
       "      <td>1580.000000</td>\n",
       "    </tr>\n",
       "  </tbody>\n",
       "</table>\n",
       "</div>"
      ],
      "text/plain": [
       "       total_images    last_price    total_area         rooms  ceiling_height  \\\n",
       "count  23699.000000  2.369900e+04  23699.000000  23699.000000    14504.000000   \n",
       "mean       9.858475  6.541549e+06     60.348651      2.070636        2.771499   \n",
       "std        5.682529  1.088701e+07     35.654083      1.078405        1.261056   \n",
       "min        0.000000  1.219000e+04     12.000000      0.000000        1.000000   \n",
       "25%        6.000000  3.400000e+06     40.000000      1.000000        2.520000   \n",
       "50%        9.000000  4.650000e+06     52.000000      2.000000        2.650000   \n",
       "75%       14.000000  6.800000e+06     69.900000      3.000000        2.800000   \n",
       "max       50.000000  7.630000e+08    900.000000     19.000000      100.000000   \n",
       "\n",
       "       floors_total   living_area         floor  kitchen_area       balcony  \\\n",
       "count  23613.000000  21796.000000  23699.000000  21421.000000  12180.000000   \n",
       "mean      10.673824     34.457852      5.892358     10.569807      1.150082   \n",
       "std        6.597173     22.030445      4.885249      5.905438      1.071300   \n",
       "min        1.000000      2.000000      1.000000      1.300000      0.000000   \n",
       "25%        5.000000     18.600000      2.000000      7.000000      0.000000   \n",
       "50%        9.000000     30.000000      4.000000      9.100000      1.000000   \n",
       "75%       16.000000     42.300000      8.000000     12.000000      2.000000   \n",
       "max       60.000000    409.700000     33.000000    112.000000      5.000000   \n",
       "\n",
       "       airports_nearest  cityCenters_nearest  parks_around3000  parks_nearest  \\\n",
       "count      18157.000000         18180.000000      18181.000000    8079.000000   \n",
       "mean       28793.672193         14191.277833          0.611408     490.804555   \n",
       "std        12630.880622          8608.386210          0.802074     342.317995   \n",
       "min            0.000000           181.000000          0.000000       1.000000   \n",
       "25%        18585.000000          9238.000000          0.000000     288.000000   \n",
       "50%        26726.000000         13098.500000          0.000000     455.000000   \n",
       "75%        37273.000000         16293.000000          1.000000     612.000000   \n",
       "max        84869.000000         65968.000000          3.000000    3190.000000   \n",
       "\n",
       "       ponds_around3000  ponds_nearest  days_exposition  \n",
       "count      18181.000000    9110.000000     20518.000000  \n",
       "mean           0.770255     517.980900       180.888634  \n",
       "std            0.938346     277.720643       219.727988  \n",
       "min            0.000000      13.000000         1.000000  \n",
       "25%            0.000000     294.000000        45.000000  \n",
       "50%            1.000000     502.000000        95.000000  \n",
       "75%            1.000000     729.000000       232.000000  \n",
       "max            3.000000    1344.000000      1580.000000  "
      ]
     },
     "execution_count": 8,
     "metadata": {},
     "output_type": "execute_result"
    }
   ],
   "source": [
    "data_raw.describe()"
   ]
  },
  {
   "cell_type": "markdown",
   "metadata": {},
   "source": [
    "### Вывод"
   ]
  },
  {
   "cell_type": "markdown",
   "metadata": {},
   "source": [
    "Пропущены следующие данные: \n",
    "- ceiling_height\n",
    "- floors_total\n",
    "- living_area\n",
    "- is_apartment\n",
    "- kitchen_area\n",
    "- balcony\n",
    "- locality_name\n",
    "- airports_nearest\n",
    "- cityCenters_nearest\n",
    "- parks_around3000\n",
    "- parks_nearest\n",
    "- ponds_around3000\n",
    "- ponds_nearest\n",
    "- days_exposition  \n",
    "  \n",
    "Изучим подробнее пропуски в следующем шаге.  \n",
    "Также нужно изменить типы данных в столбцах first_day_exposition, last_price, floors_total, is_apartment, balcony, parks_around3000, ponds_around3000, days_exposition"
   ]
  },
  {
   "cell_type": "markdown",
   "metadata": {},
   "source": [
    "## Предобработка данных"
   ]
  },
  {
   "cell_type": "code",
   "execution_count": 9,
   "metadata": {},
   "outputs": [],
   "source": [
    "data = data_raw.copy()"
   ]
  },
  {
   "cell_type": "markdown",
   "metadata": {},
   "source": [
    "В нашей выборке есть данные количеством этажей 1. Многоквартирные дома начинаются от 2 этажей.  \n",
    "Также есть аномально высокие знаечния. Согалсно статье https://lenobldoma.ru/doma-po-etazham самый выскоий дом в ленинградской обалсти имеет 29 этажей.  \n",
    "Удалим записи с количеством этажей равным 1 и более 29."
   ]
  },
  {
   "cell_type": "code",
   "execution_count": 10,
   "metadata": {},
   "outputs": [],
   "source": [
    "data = data[~(data.floors_total == 1) & ~(data.floors_total > 29)]"
   ]
  },
  {
   "cell_type": "markdown",
   "metadata": {},
   "source": [
    "Записи с пропущенным населенном пунктом или количество этажей удалим. Таких у нас 86 и 56 записей."
   ]
  },
  {
   "cell_type": "code",
   "execution_count": 11,
   "metadata": {},
   "outputs": [],
   "source": [
    "data.dropna(subset=['locality_name', 'floors_total'], inplace=True)"
   ]
  },
  {
   "cell_type": "markdown",
   "metadata": {},
   "source": [
    "living_area, kitchen_area нужны для наших расчетов, заполним их произведением общей площади на корреляцию общей площади от соовтетсвующего параметра.\n",
    "В студиях же не будем трогать kitchen_area, так как там нет кухни как таковой."
   ]
  },
  {
   "cell_type": "code",
   "execution_count": 12,
   "metadata": {},
   "outputs": [],
   "source": [
    "data.loc[data.living_area.isna(), 'living_area'] = data[data.living_area.isna()]['total_area'] * data.living_area.corr(data.total_area)"
   ]
  },
  {
   "cell_type": "code",
   "execution_count": 13,
   "metadata": {},
   "outputs": [
    {
     "data": {
      "text/plain": [
       "array([nan])"
      ]
     },
     "execution_count": 13,
     "metadata": {},
     "output_type": "execute_result"
    }
   ],
   "source": [
    "data[data.studio == True]['kitchen_area'].unique()"
   ]
  },
  {
   "cell_type": "code",
   "execution_count": 14,
   "metadata": {},
   "outputs": [],
   "source": [
    "data.loc[(data.studio == False) & (data.kitchen_area.isna()), 'kitchen_area'] = \\\n",
    " data[(data.studio == False) & (data.kitchen_area.isna())]['total_area'] * \\\n",
    " data[data.studio == False]['kitchen_area'].corr(data.total_area)"
   ]
  },
  {
   "cell_type": "markdown",
   "metadata": {},
   "source": [
    "В столбцах ponds_around3000, parks_around3000, balcony пропущенные значения означают отсутсвие. Заменим пустые значения на соответсвующие.  \n",
    "В ponds_nearest и parks_nearest не будем заполнять пропуски, так как нет возможности высчитать расстояние. Стоит указать дата-инженерам/разработчикам."
   ]
  },
  {
   "cell_type": "code",
   "execution_count": 15,
   "metadata": {},
   "outputs": [
    {
     "data": {
      "text/plain": [
       "0"
      ]
     },
     "execution_count": 15,
     "metadata": {},
     "output_type": "execute_result"
    }
   ],
   "source": [
    "data.balcony.fillna(0, inplace=True)\n",
    "data.balcony.isna().sum()"
   ]
  },
  {
   "cell_type": "code",
   "execution_count": 16,
   "metadata": {},
   "outputs": [
    {
     "data": {
      "text/plain": [
       "0"
      ]
     },
     "execution_count": 16,
     "metadata": {},
     "output_type": "execute_result"
    }
   ],
   "source": [
    "data.ponds_around3000.fillna(0, inplace=True)\n",
    "data.ponds_around3000.isna().sum()"
   ]
  },
  {
   "cell_type": "code",
   "execution_count": 17,
   "metadata": {},
   "outputs": [
    {
     "data": {
      "text/plain": [
       "0"
      ]
     },
     "execution_count": 17,
     "metadata": {},
     "output_type": "execute_result"
    }
   ],
   "source": [
    "data.parks_around3000.fillna(0, inplace=True)\n",
    "data.parks_around3000.isna().sum()"
   ]
  },
  {
   "cell_type": "markdown",
   "metadata": {},
   "source": [
    "В столбце is_apartment заменям пустые значения на False и поменяем тип данных в столбце на bool"
   ]
  },
  {
   "cell_type": "code",
   "execution_count": 18,
   "metadata": {},
   "outputs": [
    {
     "data": {
      "text/plain": [
       "0"
      ]
     },
     "execution_count": 18,
     "metadata": {},
     "output_type": "execute_result"
    }
   ],
   "source": [
    "data.is_apartment.fillna(False, inplace=True)\n",
    "data.is_apartment.isna().sum()"
   ]
  },
  {
   "cell_type": "code",
   "execution_count": 19,
   "metadata": {},
   "outputs": [],
   "source": [
    "data.is_apartment = data.is_apartment.astype('bool')"
   ]
  },
  {
   "cell_type": "markdown",
   "metadata": {},
   "source": [
    "Поменяем тип данных столбца с датой."
   ]
  },
  {
   "cell_type": "code",
   "execution_count": 20,
   "metadata": {},
   "outputs": [],
   "source": [
    "data.first_day_exposition = pd.to_datetime(data.first_day_exposition, format='%Y-%m-%dT%H:%M:%S')"
   ]
  },
  {
   "cell_type": "markdown",
   "metadata": {},
   "source": [
    "Заполним пропуски в высоте потолков по следующему алгоритму:\n",
    "- если певрый этаж, возьмем медианное значение высоты потолков на 1 этаже в домах с такой же этажностью;\n",
    "- если последний этаж, то медианными значениями на последнем этаже домов с такой же этажностью;\n",
    "- иначе медианными значениями медианными значениями домов с такой же этажностью."
   ]
  },
  {
   "cell_type": "code",
   "execution_count": 21,
   "metadata": {},
   "outputs": [],
   "source": [
    "def make_height(row):\n",
    "    if row.floor == 1: \n",
    "        return data[(data.floor == 1) & (data.floors_total == row.floors_total)].ceiling_height.median()\n",
    "    elif (row.floor == row.floors_total): \n",
    "        with warnings.catch_warnings():\n",
    "            warnings.simplefilter(\"ignore\", category=RuntimeWarning) \n",
    "            height = data[(data.floor == data.floors_total) & (data.floors_total == row.floors_total)].ceiling_height.median()\n",
    "            #в наших данных всего 6 записей с квартирами на 21 этаже в 21-этажнме доме, и у всех нету данных по высоте потолков\n",
    "            #поэтому такой костыль\n",
    "            if ~(height > 0): next\n",
    "            else: return height\n",
    "\n",
    "    return data[data.floors_total == row.floors_total].ceiling_height.median()"
   ]
  },
  {
   "cell_type": "code",
   "execution_count": 22,
   "metadata": {
    "scrolled": false
   },
   "outputs": [],
   "source": [
    "data.loc[data.ceiling_height.isna(), 'ceiling_height'] = (\n",
    "    data[data.ceiling_height.isna()]\n",
    "    .apply(make_height, axis=1))"
   ]
  },
  {
   "cell_type": "markdown",
   "metadata": {},
   "source": [
    "Также пропущены значения в airports_nearest - не можем вычислить в виду отсутсвия данных.  \n",
    "В случае с пропускмаи в cityCenters_nearest - некоторые объекты недвижимости находятся не в городе, поэтому значения пропущены. В случае городов - вычислить не можем."
   ]
  },
  {
   "cell_type": "code",
   "execution_count": 23,
   "metadata": {
    "scrolled": true
   },
   "outputs": [
    {
     "data": {
      "text/plain": [
       "total_images                0\n",
       "last_price                  0\n",
       "total_area                  0\n",
       "first_day_exposition        0\n",
       "rooms                       0\n",
       "ceiling_height              0\n",
       "floors_total                0\n",
       "living_area                 0\n",
       "floor                       0\n",
       "is_apartment                0\n",
       "studio                      0\n",
       "open_plan                   0\n",
       "kitchen_area              145\n",
       "balcony                     0\n",
       "locality_name               0\n",
       "airports_nearest         5505\n",
       "cityCenters_nearest      5482\n",
       "parks_around3000            0\n",
       "parks_nearest           15483\n",
       "ponds_around3000            0\n",
       "ponds_nearest           14507\n",
       "days_exposition          3159\n",
       "dtype: int64"
      ]
     },
     "execution_count": 23,
     "metadata": {},
     "output_type": "execute_result"
    }
   ],
   "source": [
    "data.isna().sum()"
   ]
  },
  {
   "cell_type": "markdown",
   "metadata": {},
   "source": [
    "Пропущенные значения days_exposition заменим на 0 и поменяем тип данных на целочисленный.  \n",
    "При дальнейшем анализе будем учитывать, что 0 - означет не продано. До этого минимальное значе в столбце было - 0."
   ]
  },
  {
   "cell_type": "code",
   "execution_count": 24,
   "metadata": {},
   "outputs": [],
   "source": [
    "data.days_exposition = data.days_exposition.fillna(0).astype('int')"
   ]
  },
  {
   "cell_type": "markdown",
   "metadata": {},
   "source": [
    "Заменим типы данных столбцов last_price, floors_total, balcony, parks_around3000, ponds_around3000 на целочисленные."
   ]
  },
  {
   "cell_type": "code",
   "execution_count": 25,
   "metadata": {},
   "outputs": [],
   "source": [
    "data.last_price = data.last_price.astype('int')\n",
    "data.floors_total = data.floors_total.astype('int')\n",
    "data.balcony = data.balcony.astype('int')\n",
    "data.parks_around3000 = data.parks_around3000.astype('int')\n",
    "data.ponds_around3000 = data.ponds_around3000.astype('int')"
   ]
  },
  {
   "cell_type": "markdown",
   "metadata": {},
   "source": [
    "## Расчёты и добавление результатов в таблицу"
   ]
  },
  {
   "cell_type": "markdown",
   "metadata": {},
   "source": [
    "Добавим\n",
    "* цену квадратного метра;\n",
    "* день недели, месяц и год публикации объявления;\n",
    "* этаж квартиры; варианты — первый, последний, другой;\n",
    "* соотношение жилой и общей площади, а также отношение площади кухни к общей.\n"
   ]
  },
  {
   "cell_type": "markdown",
   "metadata": {},
   "source": [
    "Цена квадратного метра."
   ]
  },
  {
   "cell_type": "code",
   "execution_count": 26,
   "metadata": {},
   "outputs": [],
   "source": [
    "data['m_price'] = round(data.last_price / data.total_area, 2)"
   ]
  },
  {
   "cell_type": "markdown",
   "metadata": {},
   "source": [
    "День недели публикации объявления."
   ]
  },
  {
   "cell_type": "code",
   "execution_count": 27,
   "metadata": {},
   "outputs": [],
   "source": [
    "data['day_of_public'] = pd.DatetimeIndex(data.first_day_exposition).dayofweek"
   ]
  },
  {
   "cell_type": "markdown",
   "metadata": {},
   "source": [
    "Месяц публикации объявления."
   ]
  },
  {
   "cell_type": "code",
   "execution_count": 28,
   "metadata": {},
   "outputs": [],
   "source": [
    "data['month_of_public'] = pd.DatetimeIndex(data.first_day_exposition).month"
   ]
  },
  {
   "cell_type": "markdown",
   "metadata": {},
   "source": [
    "Год публикации объяления."
   ]
  },
  {
   "cell_type": "code",
   "execution_count": 29,
   "metadata": {},
   "outputs": [],
   "source": [
    "data['year_of_public'] = pd.DatetimeIndex(data.first_day_exposition).year"
   ]
  },
  {
   "cell_type": "markdown",
   "metadata": {},
   "source": [
    "Напишем функцию для определения этажа и применим ее."
   ]
  },
  {
   "cell_type": "code",
   "execution_count": 30,
   "metadata": {},
   "outputs": [],
   "source": [
    "def what_the_floor(row):\n",
    "    if row.floor == 1: return 'первый'\n",
    "    if row.floor == row.floors_total: return 'последний'\n",
    "    return 'другой'"
   ]
  },
  {
   "cell_type": "code",
   "execution_count": 31,
   "metadata": {},
   "outputs": [],
   "source": [
    "data['first_last_floor'] = data.apply(what_the_floor, axis=1)"
   ]
  },
  {
   "cell_type": "markdown",
   "metadata": {},
   "source": [
    "Соотношение жилой и общей площади, а также отношение площади кухни к общей."
   ]
  },
  {
   "cell_type": "code",
   "execution_count": 32,
   "metadata": {},
   "outputs": [],
   "source": [
    "data['living_to_total_area'] = round(data.living_area / data.total_area, 2)"
   ]
  },
  {
   "cell_type": "code",
   "execution_count": 33,
   "metadata": {},
   "outputs": [],
   "source": [
    "data['kitchen_to_living_area'] = round(data.kitchen_area / data.living_area, 2)"
   ]
  },
  {
   "cell_type": "code",
   "execution_count": 34,
   "metadata": {
    "scrolled": false
   },
   "outputs": [
    {
     "data": {
      "text/html": [
       "<div>\n",
       "<style scoped>\n",
       "    .dataframe tbody tr th:only-of-type {\n",
       "        vertical-align: middle;\n",
       "    }\n",
       "\n",
       "    .dataframe tbody tr th {\n",
       "        vertical-align: top;\n",
       "    }\n",
       "\n",
       "    .dataframe thead th {\n",
       "        text-align: right;\n",
       "    }\n",
       "</style>\n",
       "<table border=\"1\" class=\"dataframe\">\n",
       "  <thead>\n",
       "    <tr style=\"text-align: right;\">\n",
       "      <th></th>\n",
       "      <th>total_images</th>\n",
       "      <th>last_price</th>\n",
       "      <th>total_area</th>\n",
       "      <th>first_day_exposition</th>\n",
       "      <th>rooms</th>\n",
       "      <th>ceiling_height</th>\n",
       "      <th>floors_total</th>\n",
       "      <th>living_area</th>\n",
       "      <th>floor</th>\n",
       "      <th>is_apartment</th>\n",
       "      <th>studio</th>\n",
       "      <th>open_plan</th>\n",
       "      <th>kitchen_area</th>\n",
       "      <th>balcony</th>\n",
       "      <th>locality_name</th>\n",
       "      <th>airports_nearest</th>\n",
       "      <th>cityCenters_nearest</th>\n",
       "      <th>parks_around3000</th>\n",
       "      <th>parks_nearest</th>\n",
       "      <th>ponds_around3000</th>\n",
       "      <th>ponds_nearest</th>\n",
       "      <th>days_exposition</th>\n",
       "      <th>m_price</th>\n",
       "      <th>day_of_public</th>\n",
       "      <th>month_of_public</th>\n",
       "      <th>year_of_public</th>\n",
       "      <th>first_last_floor</th>\n",
       "      <th>living_to_total_area</th>\n",
       "      <th>kitchen_to_living_area</th>\n",
       "    </tr>\n",
       "  </thead>\n",
       "  <tbody>\n",
       "    <tr>\n",
       "      <th>0</th>\n",
       "      <td>20</td>\n",
       "      <td>13000000</td>\n",
       "      <td>108.00</td>\n",
       "      <td>2019-03-07</td>\n",
       "      <td>3</td>\n",
       "      <td>2.700</td>\n",
       "      <td>16</td>\n",
       "      <td>51.000000</td>\n",
       "      <td>8</td>\n",
       "      <td>False</td>\n",
       "      <td>False</td>\n",
       "      <td>False</td>\n",
       "      <td>25.000000</td>\n",
       "      <td>0</td>\n",
       "      <td>Санкт-Петербург</td>\n",
       "      <td>18863.0</td>\n",
       "      <td>16028.0</td>\n",
       "      <td>1</td>\n",
       "      <td>482.0</td>\n",
       "      <td>2</td>\n",
       "      <td>755.0</td>\n",
       "      <td>0</td>\n",
       "      <td>120370.37</td>\n",
       "      <td>3</td>\n",
       "      <td>3</td>\n",
       "      <td>2019</td>\n",
       "      <td>другой</td>\n",
       "      <td>0.47</td>\n",
       "      <td>0.49</td>\n",
       "    </tr>\n",
       "    <tr>\n",
       "      <th>1</th>\n",
       "      <td>7</td>\n",
       "      <td>3350000</td>\n",
       "      <td>40.40</td>\n",
       "      <td>2018-12-04</td>\n",
       "      <td>1</td>\n",
       "      <td>2.715</td>\n",
       "      <td>11</td>\n",
       "      <td>18.600000</td>\n",
       "      <td>1</td>\n",
       "      <td>False</td>\n",
       "      <td>False</td>\n",
       "      <td>False</td>\n",
       "      <td>11.000000</td>\n",
       "      <td>2</td>\n",
       "      <td>посёлок Шушары</td>\n",
       "      <td>12817.0</td>\n",
       "      <td>18603.0</td>\n",
       "      <td>0</td>\n",
       "      <td>NaN</td>\n",
       "      <td>0</td>\n",
       "      <td>NaN</td>\n",
       "      <td>81</td>\n",
       "      <td>82920.79</td>\n",
       "      <td>1</td>\n",
       "      <td>12</td>\n",
       "      <td>2018</td>\n",
       "      <td>первый</td>\n",
       "      <td>0.46</td>\n",
       "      <td>0.59</td>\n",
       "    </tr>\n",
       "    <tr>\n",
       "      <th>2</th>\n",
       "      <td>10</td>\n",
       "      <td>5196000</td>\n",
       "      <td>56.00</td>\n",
       "      <td>2015-08-20</td>\n",
       "      <td>2</td>\n",
       "      <td>2.550</td>\n",
       "      <td>5</td>\n",
       "      <td>34.300000</td>\n",
       "      <td>4</td>\n",
       "      <td>False</td>\n",
       "      <td>False</td>\n",
       "      <td>False</td>\n",
       "      <td>8.300000</td>\n",
       "      <td>0</td>\n",
       "      <td>Санкт-Петербург</td>\n",
       "      <td>21741.0</td>\n",
       "      <td>13933.0</td>\n",
       "      <td>1</td>\n",
       "      <td>90.0</td>\n",
       "      <td>2</td>\n",
       "      <td>574.0</td>\n",
       "      <td>558</td>\n",
       "      <td>92785.71</td>\n",
       "      <td>3</td>\n",
       "      <td>8</td>\n",
       "      <td>2015</td>\n",
       "      <td>другой</td>\n",
       "      <td>0.61</td>\n",
       "      <td>0.24</td>\n",
       "    </tr>\n",
       "    <tr>\n",
       "      <th>3</th>\n",
       "      <td>0</td>\n",
       "      <td>64900000</td>\n",
       "      <td>159.00</td>\n",
       "      <td>2015-07-24</td>\n",
       "      <td>3</td>\n",
       "      <td>2.600</td>\n",
       "      <td>14</td>\n",
       "      <td>149.446418</td>\n",
       "      <td>9</td>\n",
       "      <td>False</td>\n",
       "      <td>False</td>\n",
       "      <td>False</td>\n",
       "      <td>96.937629</td>\n",
       "      <td>0</td>\n",
       "      <td>Санкт-Петербург</td>\n",
       "      <td>28098.0</td>\n",
       "      <td>6800.0</td>\n",
       "      <td>2</td>\n",
       "      <td>84.0</td>\n",
       "      <td>3</td>\n",
       "      <td>234.0</td>\n",
       "      <td>424</td>\n",
       "      <td>408176.10</td>\n",
       "      <td>4</td>\n",
       "      <td>7</td>\n",
       "      <td>2015</td>\n",
       "      <td>другой</td>\n",
       "      <td>0.94</td>\n",
       "      <td>0.65</td>\n",
       "    </tr>\n",
       "    <tr>\n",
       "      <th>4</th>\n",
       "      <td>2</td>\n",
       "      <td>10000000</td>\n",
       "      <td>100.00</td>\n",
       "      <td>2018-06-19</td>\n",
       "      <td>2</td>\n",
       "      <td>3.030</td>\n",
       "      <td>14</td>\n",
       "      <td>32.000000</td>\n",
       "      <td>13</td>\n",
       "      <td>False</td>\n",
       "      <td>False</td>\n",
       "      <td>False</td>\n",
       "      <td>41.000000</td>\n",
       "      <td>0</td>\n",
       "      <td>Санкт-Петербург</td>\n",
       "      <td>31856.0</td>\n",
       "      <td>8098.0</td>\n",
       "      <td>2</td>\n",
       "      <td>112.0</td>\n",
       "      <td>1</td>\n",
       "      <td>48.0</td>\n",
       "      <td>121</td>\n",
       "      <td>100000.00</td>\n",
       "      <td>1</td>\n",
       "      <td>6</td>\n",
       "      <td>2018</td>\n",
       "      <td>другой</td>\n",
       "      <td>0.32</td>\n",
       "      <td>1.28</td>\n",
       "    </tr>\n",
       "    <tr>\n",
       "      <th>...</th>\n",
       "      <td>...</td>\n",
       "      <td>...</td>\n",
       "      <td>...</td>\n",
       "      <td>...</td>\n",
       "      <td>...</td>\n",
       "      <td>...</td>\n",
       "      <td>...</td>\n",
       "      <td>...</td>\n",
       "      <td>...</td>\n",
       "      <td>...</td>\n",
       "      <td>...</td>\n",
       "      <td>...</td>\n",
       "      <td>...</td>\n",
       "      <td>...</td>\n",
       "      <td>...</td>\n",
       "      <td>...</td>\n",
       "      <td>...</td>\n",
       "      <td>...</td>\n",
       "      <td>...</td>\n",
       "      <td>...</td>\n",
       "      <td>...</td>\n",
       "      <td>...</td>\n",
       "      <td>...</td>\n",
       "      <td>...</td>\n",
       "      <td>...</td>\n",
       "      <td>...</td>\n",
       "      <td>...</td>\n",
       "      <td>...</td>\n",
       "      <td>...</td>\n",
       "    </tr>\n",
       "    <tr>\n",
       "      <th>23694</th>\n",
       "      <td>9</td>\n",
       "      <td>9700000</td>\n",
       "      <td>133.81</td>\n",
       "      <td>2017-03-21</td>\n",
       "      <td>3</td>\n",
       "      <td>3.700</td>\n",
       "      <td>5</td>\n",
       "      <td>73.300000</td>\n",
       "      <td>3</td>\n",
       "      <td>False</td>\n",
       "      <td>False</td>\n",
       "      <td>False</td>\n",
       "      <td>13.830000</td>\n",
       "      <td>0</td>\n",
       "      <td>Санкт-Петербург</td>\n",
       "      <td>24665.0</td>\n",
       "      <td>4232.0</td>\n",
       "      <td>1</td>\n",
       "      <td>796.0</td>\n",
       "      <td>3</td>\n",
       "      <td>381.0</td>\n",
       "      <td>0</td>\n",
       "      <td>72490.85</td>\n",
       "      <td>1</td>\n",
       "      <td>3</td>\n",
       "      <td>2017</td>\n",
       "      <td>другой</td>\n",
       "      <td>0.55</td>\n",
       "      <td>0.19</td>\n",
       "    </tr>\n",
       "    <tr>\n",
       "      <th>23695</th>\n",
       "      <td>14</td>\n",
       "      <td>3100000</td>\n",
       "      <td>59.00</td>\n",
       "      <td>2018-01-15</td>\n",
       "      <td>3</td>\n",
       "      <td>2.550</td>\n",
       "      <td>5</td>\n",
       "      <td>38.000000</td>\n",
       "      <td>4</td>\n",
       "      <td>False</td>\n",
       "      <td>False</td>\n",
       "      <td>False</td>\n",
       "      <td>8.500000</td>\n",
       "      <td>0</td>\n",
       "      <td>Тосно</td>\n",
       "      <td>NaN</td>\n",
       "      <td>NaN</td>\n",
       "      <td>0</td>\n",
       "      <td>NaN</td>\n",
       "      <td>0</td>\n",
       "      <td>NaN</td>\n",
       "      <td>45</td>\n",
       "      <td>52542.37</td>\n",
       "      <td>0</td>\n",
       "      <td>1</td>\n",
       "      <td>2018</td>\n",
       "      <td>другой</td>\n",
       "      <td>0.64</td>\n",
       "      <td>0.22</td>\n",
       "    </tr>\n",
       "    <tr>\n",
       "      <th>23696</th>\n",
       "      <td>18</td>\n",
       "      <td>2500000</td>\n",
       "      <td>56.70</td>\n",
       "      <td>2018-02-11</td>\n",
       "      <td>2</td>\n",
       "      <td>2.750</td>\n",
       "      <td>3</td>\n",
       "      <td>29.700000</td>\n",
       "      <td>1</td>\n",
       "      <td>False</td>\n",
       "      <td>False</td>\n",
       "      <td>False</td>\n",
       "      <td>34.568324</td>\n",
       "      <td>0</td>\n",
       "      <td>село Рождествено</td>\n",
       "      <td>NaN</td>\n",
       "      <td>NaN</td>\n",
       "      <td>0</td>\n",
       "      <td>NaN</td>\n",
       "      <td>0</td>\n",
       "      <td>NaN</td>\n",
       "      <td>0</td>\n",
       "      <td>44091.71</td>\n",
       "      <td>6</td>\n",
       "      <td>2</td>\n",
       "      <td>2018</td>\n",
       "      <td>первый</td>\n",
       "      <td>0.52</td>\n",
       "      <td>1.16</td>\n",
       "    </tr>\n",
       "    <tr>\n",
       "      <th>23697</th>\n",
       "      <td>13</td>\n",
       "      <td>11475000</td>\n",
       "      <td>76.75</td>\n",
       "      <td>2017-03-28</td>\n",
       "      <td>2</td>\n",
       "      <td>3.000</td>\n",
       "      <td>17</td>\n",
       "      <td>72.138444</td>\n",
       "      <td>12</td>\n",
       "      <td>False</td>\n",
       "      <td>False</td>\n",
       "      <td>False</td>\n",
       "      <td>23.300000</td>\n",
       "      <td>2</td>\n",
       "      <td>Санкт-Петербург</td>\n",
       "      <td>39140.0</td>\n",
       "      <td>10364.0</td>\n",
       "      <td>2</td>\n",
       "      <td>173.0</td>\n",
       "      <td>3</td>\n",
       "      <td>196.0</td>\n",
       "      <td>602</td>\n",
       "      <td>149511.40</td>\n",
       "      <td>1</td>\n",
       "      <td>3</td>\n",
       "      <td>2017</td>\n",
       "      <td>другой</td>\n",
       "      <td>0.94</td>\n",
       "      <td>0.32</td>\n",
       "    </tr>\n",
       "    <tr>\n",
       "      <th>23698</th>\n",
       "      <td>4</td>\n",
       "      <td>1350000</td>\n",
       "      <td>32.30</td>\n",
       "      <td>2017-07-21</td>\n",
       "      <td>1</td>\n",
       "      <td>2.500</td>\n",
       "      <td>5</td>\n",
       "      <td>12.300000</td>\n",
       "      <td>1</td>\n",
       "      <td>False</td>\n",
       "      <td>False</td>\n",
       "      <td>False</td>\n",
       "      <td>9.000000</td>\n",
       "      <td>0</td>\n",
       "      <td>поселок Новый Учхоз</td>\n",
       "      <td>NaN</td>\n",
       "      <td>NaN</td>\n",
       "      <td>0</td>\n",
       "      <td>NaN</td>\n",
       "      <td>0</td>\n",
       "      <td>NaN</td>\n",
       "      <td>0</td>\n",
       "      <td>41795.67</td>\n",
       "      <td>4</td>\n",
       "      <td>7</td>\n",
       "      <td>2017</td>\n",
       "      <td>первый</td>\n",
       "      <td>0.38</td>\n",
       "      <td>0.73</td>\n",
       "    </tr>\n",
       "  </tbody>\n",
       "</table>\n",
       "<p>23508 rows × 29 columns</p>\n",
       "</div>"
      ],
      "text/plain": [
       "       total_images  last_price  total_area first_day_exposition  rooms  \\\n",
       "0                20    13000000      108.00           2019-03-07      3   \n",
       "1                 7     3350000       40.40           2018-12-04      1   \n",
       "2                10     5196000       56.00           2015-08-20      2   \n",
       "3                 0    64900000      159.00           2015-07-24      3   \n",
       "4                 2    10000000      100.00           2018-06-19      2   \n",
       "...             ...         ...         ...                  ...    ...   \n",
       "23694             9     9700000      133.81           2017-03-21      3   \n",
       "23695            14     3100000       59.00           2018-01-15      3   \n",
       "23696            18     2500000       56.70           2018-02-11      2   \n",
       "23697            13    11475000       76.75           2017-03-28      2   \n",
       "23698             4     1350000       32.30           2017-07-21      1   \n",
       "\n",
       "       ceiling_height  floors_total  living_area  floor  is_apartment  studio  \\\n",
       "0               2.700            16    51.000000      8         False   False   \n",
       "1               2.715            11    18.600000      1         False   False   \n",
       "2               2.550             5    34.300000      4         False   False   \n",
       "3               2.600            14   149.446418      9         False   False   \n",
       "4               3.030            14    32.000000     13         False   False   \n",
       "...               ...           ...          ...    ...           ...     ...   \n",
       "23694           3.700             5    73.300000      3         False   False   \n",
       "23695           2.550             5    38.000000      4         False   False   \n",
       "23696           2.750             3    29.700000      1         False   False   \n",
       "23697           3.000            17    72.138444     12         False   False   \n",
       "23698           2.500             5    12.300000      1         False   False   \n",
       "\n",
       "       open_plan  kitchen_area  balcony        locality_name  \\\n",
       "0          False     25.000000        0      Санкт-Петербург   \n",
       "1          False     11.000000        2       посёлок Шушары   \n",
       "2          False      8.300000        0      Санкт-Петербург   \n",
       "3          False     96.937629        0      Санкт-Петербург   \n",
       "4          False     41.000000        0      Санкт-Петербург   \n",
       "...          ...           ...      ...                  ...   \n",
       "23694      False     13.830000        0      Санкт-Петербург   \n",
       "23695      False      8.500000        0                Тосно   \n",
       "23696      False     34.568324        0     село Рождествено   \n",
       "23697      False     23.300000        2      Санкт-Петербург   \n",
       "23698      False      9.000000        0  поселок Новый Учхоз   \n",
       "\n",
       "       airports_nearest  cityCenters_nearest  parks_around3000  parks_nearest  \\\n",
       "0               18863.0              16028.0                 1          482.0   \n",
       "1               12817.0              18603.0                 0            NaN   \n",
       "2               21741.0              13933.0                 1           90.0   \n",
       "3               28098.0               6800.0                 2           84.0   \n",
       "4               31856.0               8098.0                 2          112.0   \n",
       "...                 ...                  ...               ...            ...   \n",
       "23694           24665.0               4232.0                 1          796.0   \n",
       "23695               NaN                  NaN                 0            NaN   \n",
       "23696               NaN                  NaN                 0            NaN   \n",
       "23697           39140.0              10364.0                 2          173.0   \n",
       "23698               NaN                  NaN                 0            NaN   \n",
       "\n",
       "       ponds_around3000  ponds_nearest  days_exposition    m_price  \\\n",
       "0                     2          755.0                0  120370.37   \n",
       "1                     0            NaN               81   82920.79   \n",
       "2                     2          574.0              558   92785.71   \n",
       "3                     3          234.0              424  408176.10   \n",
       "4                     1           48.0              121  100000.00   \n",
       "...                 ...            ...              ...        ...   \n",
       "23694                 3          381.0                0   72490.85   \n",
       "23695                 0            NaN               45   52542.37   \n",
       "23696                 0            NaN                0   44091.71   \n",
       "23697                 3          196.0              602  149511.40   \n",
       "23698                 0            NaN                0   41795.67   \n",
       "\n",
       "       day_of_public  month_of_public  year_of_public first_last_floor  \\\n",
       "0                  3                3            2019           другой   \n",
       "1                  1               12            2018           первый   \n",
       "2                  3                8            2015           другой   \n",
       "3                  4                7            2015           другой   \n",
       "4                  1                6            2018           другой   \n",
       "...              ...              ...             ...              ...   \n",
       "23694              1                3            2017           другой   \n",
       "23695              0                1            2018           другой   \n",
       "23696              6                2            2018           первый   \n",
       "23697              1                3            2017           другой   \n",
       "23698              4                7            2017           первый   \n",
       "\n",
       "       living_to_total_area  kitchen_to_living_area  \n",
       "0                      0.47                    0.49  \n",
       "1                      0.46                    0.59  \n",
       "2                      0.61                    0.24  \n",
       "3                      0.94                    0.65  \n",
       "4                      0.32                    1.28  \n",
       "...                     ...                     ...  \n",
       "23694                  0.55                    0.19  \n",
       "23695                  0.64                    0.22  \n",
       "23696                  0.52                    1.16  \n",
       "23697                  0.94                    0.32  \n",
       "23698                  0.38                    0.73  \n",
       "\n",
       "[23508 rows x 29 columns]"
      ]
     },
     "execution_count": 34,
     "metadata": {},
     "output_type": "execute_result"
    }
   ],
   "source": [
    "data"
   ]
  },
  {
   "cell_type": "markdown",
   "metadata": {},
   "source": [
    "## Исследовательский анализ данных"
   ]
  },
  {
   "cell_type": "markdown",
   "metadata": {},
   "source": [
    "Изучим следующие параметры: площадь, цена, число комнат, высота потолков"
   ]
  },
  {
   "cell_type": "code",
   "execution_count": 35,
   "metadata": {},
   "outputs": [
    {
     "data": {
      "text/html": [
       "<div>\n",
       "<style scoped>\n",
       "    .dataframe tbody tr th:only-of-type {\n",
       "        vertical-align: middle;\n",
       "    }\n",
       "\n",
       "    .dataframe tbody tr th {\n",
       "        vertical-align: top;\n",
       "    }\n",
       "\n",
       "    .dataframe thead th {\n",
       "        text-align: right;\n",
       "    }\n",
       "</style>\n",
       "<table border=\"1\" class=\"dataframe\">\n",
       "  <thead>\n",
       "    <tr style=\"text-align: right;\">\n",
       "      <th></th>\n",
       "      <th>total_area</th>\n",
       "      <th>last_price</th>\n",
       "      <th>rooms</th>\n",
       "      <th>ceiling_height</th>\n",
       "    </tr>\n",
       "  </thead>\n",
       "  <tbody>\n",
       "    <tr>\n",
       "      <th>count</th>\n",
       "      <td>23508.000000</td>\n",
       "      <td>2.350800e+04</td>\n",
       "      <td>23508.000000</td>\n",
       "      <td>23508.000000</td>\n",
       "    </tr>\n",
       "    <tr>\n",
       "      <th>mean</th>\n",
       "      <td>60.322114</td>\n",
       "      <td>6.543942e+06</td>\n",
       "      <td>2.070827</td>\n",
       "      <td>2.733409</td>\n",
       "    </tr>\n",
       "    <tr>\n",
       "      <th>std</th>\n",
       "      <td>35.685334</td>\n",
       "      <td>1.092298e+07</td>\n",
       "      <td>1.079222</td>\n",
       "      <td>0.982250</td>\n",
       "    </tr>\n",
       "    <tr>\n",
       "      <th>min</th>\n",
       "      <td>12.000000</td>\n",
       "      <td>1.219000e+04</td>\n",
       "      <td>0.000000</td>\n",
       "      <td>1.000000</td>\n",
       "    </tr>\n",
       "    <tr>\n",
       "      <th>25%</th>\n",
       "      <td>40.000000</td>\n",
       "      <td>3.400000e+06</td>\n",
       "      <td>1.000000</td>\n",
       "      <td>2.550000</td>\n",
       "    </tr>\n",
       "    <tr>\n",
       "      <th>50%</th>\n",
       "      <td>52.000000</td>\n",
       "      <td>4.648500e+06</td>\n",
       "      <td>2.000000</td>\n",
       "      <td>2.650000</td>\n",
       "    </tr>\n",
       "    <tr>\n",
       "      <th>75%</th>\n",
       "      <td>69.700000</td>\n",
       "      <td>6.790000e+06</td>\n",
       "      <td>3.000000</td>\n",
       "      <td>2.750000</td>\n",
       "    </tr>\n",
       "    <tr>\n",
       "      <th>max</th>\n",
       "      <td>900.000000</td>\n",
       "      <td>7.630000e+08</td>\n",
       "      <td>19.000000</td>\n",
       "      <td>100.000000</td>\n",
       "    </tr>\n",
       "  </tbody>\n",
       "</table>\n",
       "</div>"
      ],
      "text/plain": [
       "         total_area    last_price         rooms  ceiling_height\n",
       "count  23508.000000  2.350800e+04  23508.000000    23508.000000\n",
       "mean      60.322114  6.543942e+06      2.070827        2.733409\n",
       "std       35.685334  1.092298e+07      1.079222        0.982250\n",
       "min       12.000000  1.219000e+04      0.000000        1.000000\n",
       "25%       40.000000  3.400000e+06      1.000000        2.550000\n",
       "50%       52.000000  4.648500e+06      2.000000        2.650000\n",
       "75%       69.700000  6.790000e+06      3.000000        2.750000\n",
       "max      900.000000  7.630000e+08     19.000000      100.000000"
      ]
     },
     "execution_count": 35,
     "metadata": {},
     "output_type": "execute_result"
    }
   ],
   "source": [
    "data[['total_area', 'last_price', 'rooms', 'ceiling_height']].describe()"
   ]
  },
  {
   "cell_type": "code",
   "execution_count": 36,
   "metadata": {},
   "outputs": [
    {
     "data": {
      "text/plain": [
       "<AxesSubplot:>"
      ]
     },
     "execution_count": 36,
     "metadata": {},
     "output_type": "execute_result"
    },
    {
     "data": {
      "image/png": "[encoded data removed]",
      "text/plain": [
       "<Figure size 432x288 with 1 Axes>"
      ]
     },
     "metadata": {
      "needs_background": "light"
     },
     "output_type": "display_data"
    }
   ],
   "source": [
    "data.ceiling_height.hist(bins=50, range=(2, 5))"
   ]
  },
  {
   "cell_type": "markdown",
   "metadata": {},
   "source": [
    "В основном высота потолков в наших записях от 2.5 до 3.\n"
   ]
  },
  {
   "cell_type": "code",
   "execution_count": 37,
   "metadata": {
    "scrolled": false
   },
   "outputs": [
    {
     "data": {
      "text/plain": [
       "<AxesSubplot:>"
      ]
     },
     "execution_count": 37,
     "metadata": {},
     "output_type": "execute_result"
    },
    {
     "data": {
      "image/png": "[encoded data removed]",
      "text/plain": [
       "<Figure size 432x288 with 1 Axes>"
      ]
     },
     "metadata": {
      "needs_background": "light"
     },
     "output_type": "display_data"
    }
   ],
   "source": [
    "data.ceiling_height.hist(range=(2.5, 3))"
   ]
  },
  {
   "cell_type": "code",
   "execution_count": 38,
   "metadata": {},
   "outputs": [
    {
     "data": {
      "text/plain": [
       "1594"
      ]
     },
     "execution_count": 38,
     "metadata": {},
     "output_type": "execute_result"
    }
   ],
   "source": [
    "data[(data.ceiling_height < 2.5) | (data.ceiling_height > 3)].ceiling_height.count()"
   ]
  },
  {
   "cell_type": "markdown",
   "metadata": {},
   "source": [
    "Наиболее часто встречающаяся высота 2.5-2.55 м."
   ]
  },
  {
   "cell_type": "markdown",
   "metadata": {},
   "source": [
    "Избавимся от записей, не подходящих под наший условия."
   ]
  },
  {
   "cell_type": "code",
   "execution_count": 39,
   "metadata": {},
   "outputs": [],
   "source": [
    "data = data[(data.ceiling_height >= 2.5) & (data.ceiling_height <= 3)]"
   ]
  },
  {
   "cell_type": "code",
   "execution_count": 40,
   "metadata": {},
   "outputs": [
    {
     "data": {
      "text/plain": [
       "<AxesSubplot:>"
      ]
     },
     "execution_count": 40,
     "metadata": {},
     "output_type": "execute_result"
    },
    {
     "data": {
      "image/png": "[encoded data removed]",
      "text/plain": [
       "<Figure size 432x288 with 1 Axes>"
      ]
     },
     "metadata": {
      "needs_background": "light"
     },
     "output_type": "display_data"
    }
   ],
   "source": [
    "data.total_area.hist(bins=500)"
   ]
  },
  {
   "cell_type": "code",
   "execution_count": 41,
   "metadata": {},
   "outputs": [
    {
     "data": {
      "text/plain": [
       "1242"
      ]
     },
     "execution_count": 41,
     "metadata": {},
     "output_type": "execute_result"
    }
   ],
   "source": [
    "data[data.total_area > 100].total_area.count()"
   ]
  },
  {
   "cell_type": "markdown",
   "metadata": {},
   "source": [
    "В площади также имеются аномальнов высокие значения. Уберем из нашей выборки квартиры площадью более 100 кв.м. "
   ]
  },
  {
   "cell_type": "code",
   "execution_count": 42,
   "metadata": {
    "scrolled": true
   },
   "outputs": [
    {
     "data": {
      "text/plain": [
       "<AxesSubplot:>"
      ]
     },
     "execution_count": 42,
     "metadata": {},
     "output_type": "execute_result"
    },
    {
     "data": {
      "image/png": "[encoded data removed]",
      "text/plain": [
       "<Figure size 432x288 with 1 Axes>"
      ]
     },
     "metadata": {
      "needs_background": "light"
     },
     "output_type": "display_data"
    }
   ],
   "source": [
    "data.total_area.hist(bins=50, range=(0,100))"
   ]
  },
  {
   "cell_type": "markdown",
   "metadata": {},
   "source": [
    "В основном площадь недвижимости в нашей выгрузке от 30 до 65 кв.м."
   ]
  },
  {
   "cell_type": "code",
   "execution_count": 43,
   "metadata": {},
   "outputs": [],
   "source": [
    "data = data[data.total_area < 100]"
   ]
  },
  {
   "cell_type": "code",
   "execution_count": 44,
   "metadata": {
    "scrolled": true
   },
   "outputs": [
    {
     "data": {
      "text/plain": [
       "<AxesSubplot:>"
      ]
     },
     "execution_count": 44,
     "metadata": {},
     "output_type": "execute_result"
    },
    {
     "data": {
      "image/png": "[encoded data removed]",
      "text/plain": [
       "<Figure size 432x288 with 1 Axes>"
      ]
     },
     "metadata": {
      "needs_background": "light"
     },
     "output_type": "display_data"
    }
   ],
   "source": [
    "data.rooms.hist(bins=10)"
   ]
  },
  {
   "cell_type": "markdown",
   "metadata": {},
   "source": [
    "Квартиры с количество комнат > 4 встрчеаются редко, уберем их из анализа."
   ]
  },
  {
   "cell_type": "code",
   "execution_count": 45,
   "metadata": {},
   "outputs": [],
   "source": [
    "data = data[data.rooms <= 4]"
   ]
  },
  {
   "cell_type": "code",
   "execution_count": 46,
   "metadata": {},
   "outputs": [
    {
     "data": {
      "text/plain": [
       "<AxesSubplot:>"
      ]
     },
     "execution_count": 46,
     "metadata": {},
     "output_type": "execute_result"
    },
    {
     "data": {
      "image/png": "[encoded data removed]",
      "text/plain": [
       "<Figure size 432x288 with 1 Axes>"
      ]
     },
     "metadata": {
      "needs_background": "light"
     },
     "output_type": "display_data"
    }
   ],
   "source": [
    "data.rooms.hist()"
   ]
  },
  {
   "cell_type": "markdown",
   "metadata": {},
   "source": [
    "Чаще всего встречается недвижимость с 1 или 2 комнатами. Студий и вариантов с 4 комнатами совсем мало."
   ]
  },
  {
   "cell_type": "code",
   "execution_count": 47,
   "metadata": {},
   "outputs": [
    {
     "data": {
      "text/plain": [
       "<AxesSubplot:>"
      ]
     },
     "execution_count": 47,
     "metadata": {},
     "output_type": "execute_result"
    },
    {
     "data": {
      "image/png": "[encoded data removed]",
      "text/plain": [
       "<Figure size 432x288 with 1 Axes>"
      ]
     },
     "metadata": {
      "needs_background": "light"
     },
     "output_type": "display_data"
    }
   ],
   "source": [
    "data.last_price.hist(bins=200)"
   ]
  },
  {
   "cell_type": "markdown",
   "metadata": {},
   "source": [
    "Стоимость большинства квартир менее 10 000 000, уберем остальные квартиры из анализа."
   ]
  },
  {
   "cell_type": "code",
   "execution_count": 102,
   "metadata": {},
   "outputs": [
    {
     "data": {
      "text/plain": [
       "<AxesSubplot:>"
      ]
     },
     "execution_count": 102,
     "metadata": {},
     "output_type": "execute_result"
    },
    {
     "data": {
      "image/png": "[encoded data removed]",
      "text/plain": [
       "<Figure size 432x288 with 1 Axes>"
      ]
     },
     "metadata": {
      "needs_background": "light"
     },
     "output_type": "display_data"
    }
   ],
   "source": [
    "data.last_price.hist(bins=200, range=(0, 1*1e7))"
   ]
  },
  {
   "cell_type": "code",
   "execution_count": 103,
   "metadata": {},
   "outputs": [],
   "source": [
    "data = data[data.last_price <= 1*1e7]"
   ]
  },
  {
   "cell_type": "markdown",
   "metadata": {},
   "source": [
    "В основном недвидимость продается от 2 до 6 млн."
   ]
  },
  {
   "cell_type": "markdown",
   "metadata": {},
   "source": [
    "Изучим время продажи квартиры. 0 в наших значениях означает, что квартира еще в продаже."
   ]
  },
  {
   "cell_type": "code",
   "execution_count": 104,
   "metadata": {},
   "outputs": [],
   "source": [
    "data_sold = data[data.days_exposition > 0]"
   ]
  },
  {
   "cell_type": "code",
   "execution_count": 105,
   "metadata": {},
   "outputs": [
    {
     "data": {
      "text/plain": [
       "<AxesSubplot:>"
      ]
     },
     "execution_count": 105,
     "metadata": {},
     "output_type": "execute_result"
    },
    {
     "data": {
      "image/png": "[encoded data removed]",
      "text/plain": [
       "<Figure size 432x288 with 1 Axes>"
      ]
     },
     "metadata": {
      "needs_background": "light"
     },
     "output_type": "display_data"
    }
   ],
   "source": [
    "data_sold.days_exposition.hist(bins=300)"
   ]
  },
  {
   "cell_type": "markdown",
   "metadata": {},
   "source": [
    "В основном квартиры продаются в первые 100 дней."
   ]
  },
  {
   "cell_type": "code",
   "execution_count": 106,
   "metadata": {},
   "outputs": [
    {
     "data": {
      "text/plain": [
       "<AxesSubplot:>"
      ]
     },
     "execution_count": 106,
     "metadata": {},
     "output_type": "execute_result"
    },
    {
     "data": {
      "image/png": "[encoded data removed]",
      "text/plain": [
       "<Figure size 432x288 with 1 Axes>"
      ]
     },
     "metadata": {
      "needs_background": "light"
     },
     "output_type": "display_data"
    }
   ],
   "source": [
    "data_sold.days_exposition.hist(bins=50, range=(0,220))"
   ]
  },
  {
   "cell_type": "code",
   "execution_count": 107,
   "metadata": {},
   "outputs": [
    {
     "data": {
      "text/plain": [
       "count    17410.000000\n",
       "mean       167.580184\n",
       "std        205.331390\n",
       "min          1.000000\n",
       "25%         43.000000\n",
       "50%         89.000000\n",
       "75%        212.000000\n",
       "max       1580.000000\n",
       "Name: days_exposition, dtype: float64"
      ]
     },
     "execution_count": 107,
     "metadata": {},
     "output_type": "execute_result"
    }
   ],
   "source": [
    "data_sold.days_exposition.describe()"
   ]
  },
  {
   "cell_type": "markdown",
   "metadata": {},
   "source": [
    "В 50% случаев продажа квартиры занимает <= 90 дней. В первые 43 дня продается всего 25% квартир.  \n",
    "Встречаются случаи, когда квартиры продаются и более 2-х лет.  \n",
    "Межквартильынй размах - стандартная продажа, то есть от 43 до 215 дней от дня пуликации объявления заниамет продажа квартиры.\n",
    "Будем считать, что продажа прошла необычно быстро при сроке менее 10 дней, а необычно долго более 215 дней."
   ]
  },
  {
   "cell_type": "markdown",
   "metadata": {},
   "source": [
    "Рассмотрим, какие факторы больше всего влияют на стоимость квартиры:\n",
    "- изучим, зависит ли цена от площади, числа комнат, удалённости от центра;\n",
    "- изучим зависимость цены от того, на каком этаже расположена квартира: первом, последнем или другом; \n",
    "- также изучим зависимость от даты размещения: дня недели, месяца и года."
   ]
  },
  {
   "cell_type": "code",
   "execution_count": 108,
   "metadata": {},
   "outputs": [
    {
     "data": {
      "text/html": [
       "<div>\n",
       "<style scoped>\n",
       "    .dataframe tbody tr th:only-of-type {\n",
       "        vertical-align: middle;\n",
       "    }\n",
       "\n",
       "    .dataframe tbody tr th {\n",
       "        vertical-align: top;\n",
       "    }\n",
       "\n",
       "    .dataframe thead th {\n",
       "        text-align: right;\n",
       "    }\n",
       "</style>\n",
       "<table border=\"1\" class=\"dataframe\">\n",
       "  <thead>\n",
       "    <tr style=\"text-align: right;\">\n",
       "      <th></th>\n",
       "      <th>last_price</th>\n",
       "      <th>total_area</th>\n",
       "      <th>rooms</th>\n",
       "      <th>cityCenters_nearest</th>\n",
       "    </tr>\n",
       "  </thead>\n",
       "  <tbody>\n",
       "    <tr>\n",
       "      <th>last_price</th>\n",
       "      <td>1.000000</td>\n",
       "      <td>0.645126</td>\n",
       "      <td>0.396015</td>\n",
       "      <td>-0.305622</td>\n",
       "    </tr>\n",
       "    <tr>\n",
       "      <th>total_area</th>\n",
       "      <td>0.645126</td>\n",
       "      <td>1.000000</td>\n",
       "      <td>0.805228</td>\n",
       "      <td>-0.053121</td>\n",
       "    </tr>\n",
       "    <tr>\n",
       "      <th>rooms</th>\n",
       "      <td>0.396015</td>\n",
       "      <td>0.805228</td>\n",
       "      <td>1.000000</td>\n",
       "      <td>-0.021313</td>\n",
       "    </tr>\n",
       "    <tr>\n",
       "      <th>cityCenters_nearest</th>\n",
       "      <td>-0.305622</td>\n",
       "      <td>-0.053121</td>\n",
       "      <td>-0.021313</td>\n",
       "      <td>1.000000</td>\n",
       "    </tr>\n",
       "  </tbody>\n",
       "</table>\n",
       "</div>"
      ],
      "text/plain": [
       "                     last_price  total_area     rooms  cityCenters_nearest\n",
       "last_price             1.000000    0.645126  0.396015            -0.305622\n",
       "total_area             0.645126    1.000000  0.805228            -0.053121\n",
       "rooms                  0.396015    0.805228  1.000000            -0.021313\n",
       "cityCenters_nearest   -0.305622   -0.053121 -0.021313             1.000000"
      ]
     },
     "execution_count": 108,
     "metadata": {},
     "output_type": "execute_result"
    }
   ],
   "source": [
    "data[['last_price', 'total_area', 'rooms', 'cityCenters_nearest']].corr()"
   ]
  },
  {
   "cell_type": "markdown",
   "metadata": {},
   "source": [
    "Стоимость в большей степени зависит от площади квартиры, которая в свую очередь сильно зависит от количества комнат. Удаленность от центра также влияет на стоимость, но не так сильно."
   ]
  },
  {
   "cell_type": "code",
   "execution_count": 109,
   "metadata": {},
   "outputs": [
    {
     "data": {
      "text/plain": [
       "другой       14459\n",
       "последний     2660\n",
       "первый        2559\n",
       "Name: first_last_floor, dtype: int64"
      ]
     },
     "execution_count": 109,
     "metadata": {},
     "output_type": "execute_result"
    }
   ],
   "source": [
    "data.first_last_floor.value_counts()"
   ]
  },
  {
   "cell_type": "code",
   "execution_count": 110,
   "metadata": {},
   "outputs": [],
   "source": [
    "data_floor = data.pivot_table(index='first_last_floor', values='last_price', aggfunc=['min', 'max', 'median'])"
   ]
  },
  {
   "cell_type": "code",
   "execution_count": 111,
   "metadata": {},
   "outputs": [],
   "source": [
    "data_floor.columns = ['min', 'max', 'median']"
   ]
  },
  {
   "cell_type": "code",
   "execution_count": 112,
   "metadata": {},
   "outputs": [
    {
     "data": {
      "text/html": [
       "<div>\n",
       "<style scoped>\n",
       "    .dataframe tbody tr th:only-of-type {\n",
       "        vertical-align: middle;\n",
       "    }\n",
       "\n",
       "    .dataframe tbody tr th {\n",
       "        vertical-align: top;\n",
       "    }\n",
       "\n",
       "    .dataframe thead th {\n",
       "        text-align: right;\n",
       "    }\n",
       "</style>\n",
       "<table border=\"1\" class=\"dataframe\">\n",
       "  <thead>\n",
       "    <tr style=\"text-align: right;\">\n",
       "      <th></th>\n",
       "      <th>min</th>\n",
       "      <th>max</th>\n",
       "      <th>median</th>\n",
       "    </tr>\n",
       "    <tr>\n",
       "      <th>first_last_floor</th>\n",
       "      <th></th>\n",
       "      <th></th>\n",
       "      <th></th>\n",
       "    </tr>\n",
       "  </thead>\n",
       "  <tbody>\n",
       "    <tr>\n",
       "      <th>другой</th>\n",
       "      <td>450000</td>\n",
       "      <td>10000000</td>\n",
       "      <td>4400000</td>\n",
       "    </tr>\n",
       "    <tr>\n",
       "      <th>последний</th>\n",
       "      <td>430000</td>\n",
       "      <td>10000000</td>\n",
       "      <td>3850000</td>\n",
       "    </tr>\n",
       "    <tr>\n",
       "      <th>первый</th>\n",
       "      <td>430000</td>\n",
       "      <td>10000000</td>\n",
       "      <td>3700000</td>\n",
       "    </tr>\n",
       "  </tbody>\n",
       "</table>\n",
       "</div>"
      ],
      "text/plain": [
       "                     min       max   median\n",
       "first_last_floor                           \n",
       "другой            450000  10000000  4400000\n",
       "последний         430000  10000000  3850000\n",
       "первый            430000  10000000  3700000"
      ]
     },
     "execution_count": 112,
     "metadata": {},
     "output_type": "execute_result"
    }
   ],
   "source": [
    "data_floor.sort_values(by='median', ascending=False)"
   ]
  },
  {
   "cell_type": "code",
   "execution_count": 130,
   "metadata": {},
   "outputs": [],
   "source": [
    "sns.set_theme(style='whitegrid')"
   ]
  },
  {
   "cell_type": "code",
   "execution_count": 131,
   "metadata": {},
   "outputs": [
    {
     "data": {
      "text/plain": [
       "<AxesSubplot:xlabel='first_last_floor', ylabel='last_price'>"
      ]
     },
     "execution_count": 131,
     "metadata": {},
     "output_type": "execute_result"
    },
    {
     "data": {
      "image/png": "[encoded data removed]",
      "text/plain": [
       "<Figure size 432x288 with 1 Axes>"
      ]
     },
     "metadata": {},
     "output_type": "display_data"
    }
   ],
   "source": [
    "sns.boxplot(x='first_last_floor', y='last_price', data=data)"
   ]
  },
  {
   "cell_type": "markdown",
   "metadata": {},
   "source": [
    "В среднем стоимость квартир, не находящихся на первом или последнем этаже ниже. При этом квартиры на первом этаже дешевле квартир на последнем этаже."
   ]
  },
  {
   "cell_type": "code",
   "execution_count": 133,
   "metadata": {},
   "outputs": [
    {
     "data": {
      "text/plain": [
       "<AxesSubplot:xlabel='day_of_public', ylabel='last_price'>"
      ]
     },
     "execution_count": 133,
     "metadata": {},
     "output_type": "execute_result"
    },
    {
     "data": {
      "image/png": "[encoded data removed]",
      "text/plain": [
       "<Figure size 432x288 with 1 Axes>"
      ]
     },
     "metadata": {},
     "output_type": "display_data"
    }
   ],
   "source": [
    "sns.boxplot(x='day_of_public', y='last_price', data=data)"
   ]
  },
  {
   "cell_type": "code",
   "execution_count": 137,
   "metadata": {},
   "outputs": [
    {
     "data": {
      "text/plain": [
       "<AxesSubplot:xlabel='month_of_public', ylabel='last_price'>"
      ]
     },
     "execution_count": 137,
     "metadata": {},
     "output_type": "execute_result"
    },
    {
     "data": {
      "image/png": "[encoded data removed]",
      "text/plain": [
       "<Figure size 432x288 with 1 Axes>"
      ]
     },
     "metadata": {},
     "output_type": "display_data"
    }
   ],
   "source": [
    "sns.boxplot(x='month_of_public', y='last_price', data=data)"
   ]
  },
  {
   "cell_type": "code",
   "execution_count": 135,
   "metadata": {},
   "outputs": [
    {
     "data": {
      "text/plain": [
       "<AxesSubplot:xlabel='year_of_public', ylabel='last_price'>"
      ]
     },
     "execution_count": 135,
     "metadata": {},
     "output_type": "execute_result"
    },
    {
     "data": {
      "image/png": "[encoded data removed]",
      "text/plain": [
       "<Figure size 432x288 with 1 Axes>"
      ]
     },
     "metadata": {},
     "output_type": "display_data"
    }
   ],
   "source": [
    "sns.boxplot(x='year_of_public', y='last_price', data=data)"
   ]
  },
  {
   "cell_type": "markdown",
   "metadata": {},
   "source": [
    "Зависимости дня недели, месяца или года на стоимость квартиры не наблюдается."
   ]
  },
  {
   "cell_type": "markdown",
   "metadata": {},
   "source": [
    "Выберем 10 населённых пунктов с наибольшим числом объявлений и осчитаем среднюю цену квадратного метра в этих населённых пунктах. Выделим населённые пункты с самой высокой и низкой стоимостью жилья. "
   ]
  },
  {
   "cell_type": "code",
   "execution_count": 66,
   "metadata": {},
   "outputs": [],
   "source": [
    "top10_location = data.groupby('locality_name')['rooms'].count().sort_values(ascending=False).head(10)"
   ]
  },
  {
   "cell_type": "code",
   "execution_count": 67,
   "metadata": {},
   "outputs": [
    {
     "data": {
      "text/plain": [
       "locality_name\n",
       "Санкт-Петербург      12577\n",
       "посёлок Мурино         516\n",
       "посёлок Шушары         429\n",
       "Всеволожск             385\n",
       "посёлок Парголово      323\n",
       "Колпино                322\n",
       "Пушкин                 319\n",
       "деревня Кудрово        297\n",
       "Гатчина                295\n",
       "Выборг                 210\n",
       "Name: rooms, dtype: int64"
      ]
     },
     "execution_count": 67,
     "metadata": {},
     "output_type": "execute_result"
    }
   ],
   "source": [
    "top10_location"
   ]
  },
  {
   "cell_type": "code",
   "execution_count": 68,
   "metadata": {},
   "outputs": [
    {
     "data": {
      "text/plain": [
       "locality_name\n",
       "Санкт-Петербург      102083.330\n",
       "Пушкин                98437.500\n",
       "посёлок Парголово     92051.280\n",
       "деревня Кудрово       91803.280\n",
       "посёлок Мурино        86076.875\n",
       "посёлок Шушары        76923.080\n",
       "Колпино               74729.185\n",
       "Гатчина               67796.610\n",
       "Всеволожск            65686.270\n",
       "Выборг                57860.640\n",
       "Name: m_price, dtype: float64"
      ]
     },
     "execution_count": 68,
     "metadata": {},
     "output_type": "execute_result"
    }
   ],
   "source": [
    "data[data.locality_name.isin(top10_location.index)].groupby('locality_name').m_price.median().sort_values(ascending=False)"
   ]
  },
  {
   "cell_type": "markdown",
   "metadata": {},
   "source": [
    "Самая высокая средняя цена за квадратный метр в нашей выборке в г. Санкт-Петербург, а самая низкая - Всеволожск."
   ]
  },
  {
   "cell_type": "markdown",
   "metadata": {},
   "source": [
    "<font color='blue'><b>Комментарий ревьюера: </b></font> ✔️\\\n",
    "<font color='green'> 👍"
   ]
  },
  {
   "cell_type": "markdown",
   "metadata": {},
   "source": [
    "Выясним, какая область входит в центр Санкт-Петербурга:\n",
    "- создадим столбец с расстоянием до центра в километрах: округлим до целых значений; \n",
    "- после этого посчитаем среднюю цену для каждого километра; \n",
    "- построим график: он должен показывать, как цена зависит от удалённости от центра;\n",
    "- определим границу, где график сильно меняется, — это и будет центральная зона."
   ]
  },
  {
   "cell_type": "code",
   "execution_count": 69,
   "metadata": {},
   "outputs": [],
   "source": [
    "data_spb = data[data.locality_name == 'Санкт-Петербург']"
   ]
  },
  {
   "cell_type": "code",
   "execution_count": 70,
   "metadata": {
    "scrolled": true
   },
   "outputs": [
    {
     "name": "stderr",
     "output_type": "stream",
     "text": [
      "/tmp/ipykernel_36/1197778740.py:1: SettingWithCopyWarning: \n",
      "A value is trying to be set on a copy of a slice from a DataFrame.\n",
      "Try using .loc[row_indexer,col_indexer] = value instead\n",
      "\n",
      "See the caveats in the documentation: https://pandas.pydata.org/pandas-docs/stable/user_guide/indexing.html#returning-a-view-versus-a-copy\n",
      "  data_spb['km_to_center'] = data_spb.cityCenters_nearest / 1000\n"
     ]
    }
   ],
   "source": [
    "data_spb['km_to_center'] = data_spb.cityCenters_nearest / 1000"
   ]
  },
  {
   "cell_type": "code",
   "execution_count": 71,
   "metadata": {},
   "outputs": [
    {
     "name": "stderr",
     "output_type": "stream",
     "text": [
      "/opt/conda/lib/python3.9/site-packages/pandas/core/generic.py:5494: SettingWithCopyWarning: \n",
      "A value is trying to be set on a copy of a slice from a DataFrame.\n",
      "Try using .loc[row_indexer,col_indexer] = value instead\n",
      "\n",
      "See the caveats in the documentation: https://pandas.pydata.org/pandas-docs/stable/user_guide/indexing.html#returning-a-view-versus-a-copy\n",
      "  self[name] = value\n"
     ]
    }
   ],
   "source": [
    "data_spb.km_to_center = data_spb.km_to_center.round()"
   ]
  },
  {
   "cell_type": "code",
   "execution_count": 72,
   "metadata": {},
   "outputs": [
    {
     "data": {
      "text/plain": [
       "<AxesSubplot:xlabel='km_to_center'>"
      ]
     },
     "execution_count": 72,
     "metadata": {},
     "output_type": "execute_result"
    },
    {
     "data": {
      "image/png": "[encoded data removed]",
      "text/plain": [
       "<Figure size 432x288 with 1 Axes>"
      ]
     },
     "metadata": {
      "needs_background": "light"
     },
     "output_type": "display_data"
    }
   ],
   "source": [
    "data_spb.groupby('km_to_center').last_price.median().plot(style='o-', grid=True)"
   ]
  },
  {
   "cell_type": "markdown",
   "metadata": {},
   "source": [
    "Видно снижение цен начиная с 6-го километр. Будем счтать центром отдальнесть 5 и менее км."
   ]
  },
  {
   "cell_type": "markdown",
   "metadata": {},
   "source": [
    "Выделим сегмент квартир в центре и проанализируем эту территорию и изучим следующие параметры: площадь, цена, число комнат, высота потолков.  \n",
    "Также выделим факторы, которые влияют на стоимость квартиры (число комнат, этаж, удалённость от центра, дата размещения объявления)."
   ]
  },
  {
   "cell_type": "code",
   "execution_count": 73,
   "metadata": {},
   "outputs": [],
   "source": [
    "data_spb_center = data_spb[data_spb.km_to_center <= 5]"
   ]
  },
  {
   "cell_type": "code",
   "execution_count": 74,
   "metadata": {},
   "outputs": [
    {
     "data": {
      "text/plain": [
       "array([[<AxesSubplot:title={'center':'total_area'}>,\n",
       "        <AxesSubplot:title={'center':'last_price'}>],\n",
       "       [<AxesSubplot:title={'center':'rooms'}>,\n",
       "        <AxesSubplot:title={'center':'ceiling_height'}>]], dtype=object)"
      ]
     },
     "execution_count": 74,
     "metadata": {},
     "output_type": "execute_result"
    },
    {
     "data": {
      "image/png": "[encoded data removed]",
      "text/plain": [
       "<Figure size 1080x720 with 4 Axes>"
      ]
     },
     "metadata": {
      "needs_background": "light"
     },
     "output_type": "display_data"
    }
   ],
   "source": [
    "data_spb_center[['total_area', 'last_price', 'rooms', 'ceiling_height']].hist(figsize=(15,10), bins = 50)"
   ]
  },
  {
   "cell_type": "markdown",
   "metadata": {},
   "source": [
    "В центер Санкт Петербурга преобладают 2-комнатные квартиры, квартиры с высотой потолка 3 м., площадью 60 кв. м. стоимостью 7 000 000."
   ]
  },
  {
   "cell_type": "code",
   "execution_count": 145,
   "metadata": {
    "scrolled": true
   },
   "outputs": [
    {
     "data": {
      "text/html": [
       "<div>\n",
       "<style scoped>\n",
       "    .dataframe tbody tr th:only-of-type {\n",
       "        vertical-align: middle;\n",
       "    }\n",
       "\n",
       "    .dataframe tbody tr th {\n",
       "        vertical-align: top;\n",
       "    }\n",
       "\n",
       "    .dataframe thead th {\n",
       "        text-align: right;\n",
       "    }\n",
       "</style>\n",
       "<table border=\"1\" class=\"dataframe\">\n",
       "  <thead>\n",
       "    <tr style=\"text-align: right;\">\n",
       "      <th></th>\n",
       "      <th>floor</th>\n",
       "      <th>last_price</th>\n",
       "      <th>rooms</th>\n",
       "      <th>cityCenters_nearest</th>\n",
       "    </tr>\n",
       "  </thead>\n",
       "  <tbody>\n",
       "    <tr>\n",
       "      <th>floor</th>\n",
       "      <td>1.00000</td>\n",
       "      <td>0.182610</td>\n",
       "      <td>-0.161000</td>\n",
       "      <td>0.244660</td>\n",
       "    </tr>\n",
       "    <tr>\n",
       "      <th>last_price</th>\n",
       "      <td>0.18261</td>\n",
       "      <td>1.000000</td>\n",
       "      <td>0.384843</td>\n",
       "      <td>-0.025324</td>\n",
       "    </tr>\n",
       "    <tr>\n",
       "      <th>rooms</th>\n",
       "      <td>-0.16100</td>\n",
       "      <td>0.384843</td>\n",
       "      <td>1.000000</td>\n",
       "      <td>-0.149409</td>\n",
       "    </tr>\n",
       "    <tr>\n",
       "      <th>cityCenters_nearest</th>\n",
       "      <td>0.24466</td>\n",
       "      <td>-0.025324</td>\n",
       "      <td>-0.149409</td>\n",
       "      <td>1.000000</td>\n",
       "    </tr>\n",
       "  </tbody>\n",
       "</table>\n",
       "</div>"
      ],
      "text/plain": [
       "                       floor  last_price     rooms  cityCenters_nearest\n",
       "floor                1.00000    0.182610 -0.161000             0.244660\n",
       "last_price           0.18261    1.000000  0.384843            -0.025324\n",
       "rooms               -0.16100    0.384843  1.000000            -0.149409\n",
       "cityCenters_nearest  0.24466   -0.025324 -0.149409             1.000000"
      ]
     },
     "execution_count": 145,
     "metadata": {},
     "output_type": "execute_result"
    }
   ],
   "source": [
    "data_spb_center[['floor', 'last_price', 'rooms', 'cityCenters_nearest']].corr()"
   ]
  },
  {
   "cell_type": "markdown",
   "metadata": {},
   "source": [
    "На стоимость квартир в центер слабо влияет количество комнат. Это объясняется влиянием количества комнат на площадь квартиры.  \n",
    "Непосредственная близость к центру города квартир, находящихся в центральном районе, никак не влияет на стоимость."
   ]
  },
  {
   "cell_type": "code",
   "execution_count": 76,
   "metadata": {
    "scrolled": true
   },
   "outputs": [
    {
     "data": {
      "text/html": [
       "<div>\n",
       "<style scoped>\n",
       "    .dataframe tbody tr th:only-of-type {\n",
       "        vertical-align: middle;\n",
       "    }\n",
       "\n",
       "    .dataframe tbody tr th {\n",
       "        vertical-align: top;\n",
       "    }\n",
       "\n",
       "    .dataframe thead th {\n",
       "        text-align: right;\n",
       "    }\n",
       "</style>\n",
       "<table border=\"1\" class=\"dataframe\">\n",
       "  <thead>\n",
       "    <tr style=\"text-align: right;\">\n",
       "      <th></th>\n",
       "      <th>min</th>\n",
       "      <th>max</th>\n",
       "      <th>median</th>\n",
       "    </tr>\n",
       "    <tr>\n",
       "      <th>first_last_floor</th>\n",
       "      <th></th>\n",
       "      <th></th>\n",
       "      <th></th>\n",
       "    </tr>\n",
       "  </thead>\n",
       "  <tbody>\n",
       "    <tr>\n",
       "      <th>другой</th>\n",
       "      <td>2100000</td>\n",
       "      <td>12000000</td>\n",
       "      <td>7400000</td>\n",
       "    </tr>\n",
       "    <tr>\n",
       "      <th>первый</th>\n",
       "      <td>1600000</td>\n",
       "      <td>12000000</td>\n",
       "      <td>6050000</td>\n",
       "    </tr>\n",
       "    <tr>\n",
       "      <th>последний</th>\n",
       "      <td>3100000</td>\n",
       "      <td>12000000</td>\n",
       "      <td>7300000</td>\n",
       "    </tr>\n",
       "  </tbody>\n",
       "</table>\n",
       "</div>"
      ],
      "text/plain": [
       "                      min       max   median\n",
       "first_last_floor                            \n",
       "другой            2100000  12000000  7400000\n",
       "первый            1600000  12000000  6050000\n",
       "последний         3100000  12000000  7300000"
      ]
     },
     "execution_count": 76,
     "metadata": {},
     "output_type": "execute_result"
    }
   ],
   "source": [
    "data_spb_center_floor = data_spb_center.pivot_table(index='first_last_floor', values='last_price', aggfunc=['min', 'max', 'median'])\n",
    "data_spb_center_floor.columns = ['min', 'max', 'median']\n",
    "data_spb_center_floor"
   ]
  },
  {
   "cell_type": "code",
   "execution_count": 138,
   "metadata": {},
   "outputs": [
    {
     "data": {
      "text/plain": [
       "<AxesSubplot:xlabel='first_last_floor', ylabel='last_price'>"
      ]
     },
     "execution_count": 138,
     "metadata": {},
     "output_type": "execute_result"
    },
    {
     "data": {
      "image/png": "[encoded data removed]",
      "text/plain": [
       "<Figure size 432x288 with 1 Axes>"
      ]
     },
     "metadata": {},
     "output_type": "display_data"
    }
   ],
   "source": [
    "sns.boxplot(x='first_last_floor', y='last_price', data=data_spb_center)"
   ]
  },
  {
   "cell_type": "markdown",
   "metadata": {},
   "source": [
    "При этом в центре города последние этажи ценятся больше."
   ]
  },
  {
   "cell_type": "code",
   "execution_count": 147,
   "metadata": {},
   "outputs": [
    {
     "data": {
      "text/plain": [
       "<AxesSubplot:xlabel='day_of_public', ylabel='last_price'>"
      ]
     },
     "execution_count": 147,
     "metadata": {},
     "output_type": "execute_result"
    },
    {
     "data": {
      "image/png": "[encoded data removed]",
      "text/plain": [
       "<Figure size 432x288 with 1 Axes>"
      ]
     },
     "metadata": {},
     "output_type": "display_data"
    }
   ],
   "source": [
    "sns.boxplot(x='day_of_public', y='last_price', data=data_spb_center)"
   ]
  },
  {
   "cell_type": "code",
   "execution_count": 148,
   "metadata": {},
   "outputs": [
    {
     "data": {
      "text/plain": [
       "<AxesSubplot:xlabel='month_of_public', ylabel='last_price'>"
      ]
     },
     "execution_count": 148,
     "metadata": {},
     "output_type": "execute_result"
    },
    {
     "data": {
      "image/png": "[encoded data removed]",
      "text/plain": [
       "<Figure size 432x288 with 1 Axes>"
      ]
     },
     "metadata": {},
     "output_type": "display_data"
    }
   ],
   "source": [
    "sns.boxplot(x='month_of_public', y='last_price', data=data_spb_center)"
   ]
  },
  {
   "cell_type": "code",
   "execution_count": 149,
   "metadata": {},
   "outputs": [
    {
     "data": {
      "text/plain": [
       "<AxesSubplot:xlabel='year_of_public', ylabel='last_price'>"
      ]
     },
     "execution_count": 149,
     "metadata": {},
     "output_type": "execute_result"
    },
    {
     "data": {
      "image/png": "[encoded data removed]",
      "text/plain": [
       "<Figure size 432x288 with 1 Axes>"
      ]
     },
     "metadata": {},
     "output_type": "display_data"
    }
   ],
   "source": [
    "sns.boxplot(x='year_of_public', y='last_price', data=data_spb_center)"
   ]
  },
  {
   "cell_type": "markdown",
   "metadata": {},
   "source": [
    "Квартиры в центре продавались дешевле с 2015 по 2018 год.\n",
    "В соатльном ккой-либо заивсимости от даты публикации не наблюдается."
   ]
  },
  {
   "cell_type": "markdown",
   "metadata": {},
   "source": [
    "Сравним с общими показателями."
   ]
  },
  {
   "cell_type": "code",
   "execution_count": 144,
   "metadata": {},
   "outputs": [
    {
     "data": {
      "text/html": [
       "<div>\n",
       "<style scoped>\n",
       "    .dataframe tbody tr th:only-of-type {\n",
       "        vertical-align: middle;\n",
       "    }\n",
       "\n",
       "    .dataframe tbody tr th {\n",
       "        vertical-align: top;\n",
       "    }\n",
       "\n",
       "    .dataframe thead th {\n",
       "        text-align: right;\n",
       "    }\n",
       "</style>\n",
       "<table border=\"1\" class=\"dataframe\">\n",
       "  <thead>\n",
       "    <tr style=\"text-align: right;\">\n",
       "      <th></th>\n",
       "      <th>floor</th>\n",
       "      <th>last_price</th>\n",
       "      <th>rooms</th>\n",
       "      <th>cityCenters_nearest</th>\n",
       "    </tr>\n",
       "  </thead>\n",
       "  <tbody>\n",
       "    <tr>\n",
       "      <th>floor</th>\n",
       "      <td>0.000000</td>\n",
       "      <td>0.010636</td>\n",
       "      <td>-0.020305</td>\n",
       "      <td>0.203928</td>\n",
       "    </tr>\n",
       "    <tr>\n",
       "      <th>last_price</th>\n",
       "      <td>0.010636</td>\n",
       "      <td>0.000000</td>\n",
       "      <td>-0.011172</td>\n",
       "      <td>-0.280298</td>\n",
       "    </tr>\n",
       "    <tr>\n",
       "      <th>rooms</th>\n",
       "      <td>-0.020305</td>\n",
       "      <td>-0.011172</td>\n",
       "      <td>0.000000</td>\n",
       "      <td>0.128096</td>\n",
       "    </tr>\n",
       "    <tr>\n",
       "      <th>cityCenters_nearest</th>\n",
       "      <td>0.203928</td>\n",
       "      <td>-0.280298</td>\n",
       "      <td>0.128096</td>\n",
       "      <td>0.000000</td>\n",
       "    </tr>\n",
       "  </tbody>\n",
       "</table>\n",
       "</div>"
      ],
      "text/plain": [
       "                        floor  last_price     rooms  cityCenters_nearest\n",
       "floor                0.000000    0.010636 -0.020305             0.203928\n",
       "last_price           0.010636    0.000000 -0.011172            -0.280298\n",
       "rooms               -0.020305   -0.011172  0.000000             0.128096\n",
       "cityCenters_nearest  0.203928   -0.280298  0.128096             0.000000"
      ]
     },
     "execution_count": 144,
     "metadata": {},
     "output_type": "execute_result"
    }
   ],
   "source": [
    "abs(data_spb_center[['floor', 'last_price', 'rooms', 'cityCenters_nearest']].corr()) - abs(data[['floor', 'last_price', 'rooms', 'cityCenters_nearest']].corr())"
   ]
  },
  {
   "cell_type": "markdown",
   "metadata": {},
   "source": [
    "В общем и целом факторы, влияющие на стоимость недвижимости, для центра города и других вариантов сходятся.\n",
    "Единственное существенно отличие - в центральном районе непосредственная близость к центру практически не влияет на стоимость."
   ]
  },
  {
   "cell_type": "markdown",
   "metadata": {},
   "source": [
    "## Общий вывод"
   ]
  },
  {
   "cell_type": "markdown",
   "metadata": {},
   "source": [
    "Стоимость недвижимсоти напрямую зависит от площади. Также влияет количество комнат и близость к центру.  \n",
    "На первых и последних этажах квартиры продают дешевле, за исключением центар города.\n",
    "В центральном районе города (на примере Санкт-Петербурга в радиусе 5 км от центра) недвижимость на последних этажах продают дороже, на первых же также стоимость ниже других вариантов.\n",
    "В стандартных вариантах недвижимости высота потолков от 2.5 до 3 м. Остальные варианты встречаются редко.\n",
    "Также в стандартных объялениях в основном следующие параметры:\n",
    "- количество комнат <= 4;\n",
    "- стоимость до 12 000 000;\n",
    "- площадь <= 100 кв.м.  \n",
    "  \n",
    "Стандартный срок продажи недвижимости от 42 до 220 дней."
   ]
  }
 ],
 "metadata": {
  "ExecuteTimeLog": [
   {
    "duration": 785,
    "start_time": "2022-03-12T06:30:12.431Z"
   },
   {
    "duration": 77,
    "start_time": "2022-03-12T06:30:53.801Z"
   },
   {
    "duration": 72,
    "start_time": "2022-03-12T06:31:13.032Z"
   },
   {
    "duration": 23,
    "start_time": "2022-03-12T06:31:13.303Z"
   },
   {
    "duration": 92,
    "start_time": "2022-03-12T06:31:24.104Z"
   },
   {
    "duration": 62,
    "start_time": "2022-03-12T06:31:24.446Z"
   },
   {
    "duration": 12,
    "start_time": "2022-03-12T06:32:36.384Z"
   },
   {
    "duration": 9,
    "start_time": "2022-03-12T06:32:40.856Z"
   },
   {
    "duration": 12,
    "start_time": "2022-03-12T06:32:47.916Z"
   },
   {
    "duration": 16,
    "start_time": "2022-03-12T06:33:05.447Z"
   },
   {
    "duration": 13,
    "start_time": "2022-03-12T06:45:27.412Z"
   },
   {
    "duration": 56,
    "start_time": "2022-03-12T06:52:26.633Z"
   },
   {
    "duration": 13,
    "start_time": "2022-03-12T06:53:41.809Z"
   },
   {
    "duration": 454,
    "start_time": "2022-03-12T06:54:24.041Z"
   },
   {
    "duration": 8,
    "start_time": "2022-03-12T06:54:30.002Z"
   },
   {
    "duration": 322,
    "start_time": "2022-03-12T06:54:40.280Z"
   },
   {
    "duration": 7,
    "start_time": "2022-03-12T06:54:47.658Z"
   },
   {
    "duration": 334,
    "start_time": "2022-03-12T06:54:52.297Z"
   },
   {
    "duration": 7,
    "start_time": "2022-03-12T06:55:17.170Z"
   },
   {
    "duration": 23,
    "start_time": "2022-03-12T06:55:31.417Z"
   },
   {
    "duration": 335,
    "start_time": "2022-03-12T06:55:36.417Z"
   },
   {
    "duration": 24,
    "start_time": "2022-03-12T06:55:39.592Z"
   },
   {
    "duration": 316,
    "start_time": "2022-03-12T07:01:26.016Z"
   },
   {
    "duration": 56,
    "start_time": "2022-03-12T07:01:31.751Z"
   },
   {
    "duration": 36,
    "start_time": "2022-03-12T07:02:22.024Z"
   },
   {
    "duration": 12,
    "start_time": "2022-03-12T07:04:24.039Z"
   },
   {
    "duration": 8,
    "start_time": "2022-03-12T07:04:32.478Z"
   },
   {
    "duration": 10,
    "start_time": "2022-03-12T07:08:20.703Z"
   },
   {
    "duration": 7,
    "start_time": "2022-03-12T07:08:35.174Z"
   },
   {
    "duration": 746,
    "start_time": "2022-03-14T06:24:34.643Z"
   },
   {
    "duration": 4,
    "start_time": "2022-03-14T06:25:23.797Z"
   },
   {
    "duration": 89,
    "start_time": "2022-03-14T06:25:25.060Z"
   },
   {
    "duration": 55,
    "start_time": "2022-03-14T06:25:25.317Z"
   },
   {
    "duration": 17,
    "start_time": "2022-03-14T06:25:37.012Z"
   },
   {
    "duration": 106,
    "start_time": "2022-03-14T06:25:48.332Z"
   },
   {
    "duration": 81,
    "start_time": "2022-03-14T06:28:14.828Z"
   },
   {
    "duration": 46,
    "start_time": "2022-03-14T06:28:15.508Z"
   },
   {
    "duration": 16,
    "start_time": "2022-03-14T06:28:17.447Z"
   },
   {
    "duration": 13,
    "start_time": "2022-03-14T06:28:17.987Z"
   },
   {
    "duration": 109,
    "start_time": "2022-03-14T06:28:21.019Z"
   },
   {
    "duration": 8,
    "start_time": "2022-03-14T06:28:22.404Z"
   },
   {
    "duration": 55,
    "start_time": "2022-03-14T06:28:31.499Z"
   },
   {
    "duration": 5,
    "start_time": "2022-03-14T06:29:01.779Z"
   },
   {
    "duration": 46,
    "start_time": "2022-03-14T06:29:13.764Z"
   },
   {
    "duration": 510,
    "start_time": "2022-03-14T06:29:26.165Z"
   },
   {
    "duration": 27,
    "start_time": "2022-03-14T06:29:30.292Z"
   },
   {
    "duration": 27,
    "start_time": "2022-03-14T06:37:11.660Z"
   },
   {
    "duration": 7,
    "start_time": "2022-03-14T06:44:29.304Z"
   },
   {
    "duration": 5,
    "start_time": "2022-03-14T06:44:37.221Z"
   },
   {
    "duration": 91,
    "start_time": "2022-03-14T06:44:43.880Z"
   },
   {
    "duration": 10,
    "start_time": "2022-03-14T06:44:48.958Z"
   },
   {
    "duration": 66,
    "start_time": "2022-03-14T06:44:54.086Z"
   },
   {
    "duration": 6,
    "start_time": "2022-03-14T06:46:00.784Z"
   },
   {
    "duration": 8,
    "start_time": "2022-03-14T06:46:12.943Z"
   },
   {
    "duration": 8,
    "start_time": "2022-03-14T06:46:28.294Z"
   },
   {
    "duration": 46,
    "start_time": "2022-03-14T06:46:36.790Z"
   },
   {
    "duration": 47,
    "start_time": "2022-03-14T06:47:52.022Z"
   },
   {
    "duration": 15,
    "start_time": "2022-03-14T06:48:56.110Z"
   },
   {
    "duration": 277,
    "start_time": "2022-03-14T06:49:24.510Z"
   },
   {
    "duration": 12,
    "start_time": "2022-03-14T06:49:41.503Z"
   },
   {
    "duration": 287,
    "start_time": "2022-03-14T06:49:49.629Z"
   },
   {
    "duration": 16,
    "start_time": "2022-03-14T06:49:53.388Z"
   },
   {
    "duration": 15,
    "start_time": "2022-03-14T06:50:23.053Z"
   },
   {
    "duration": 14,
    "start_time": "2022-03-14T06:50:36.181Z"
   },
   {
    "duration": 16,
    "start_time": "2022-03-14T06:50:49.852Z"
   },
   {
    "duration": 13,
    "start_time": "2022-03-14T06:51:35.220Z"
   },
   {
    "duration": 19,
    "start_time": "2022-03-14T06:51:54.676Z"
   },
   {
    "duration": 20,
    "start_time": "2022-03-14T06:52:03.452Z"
   },
   {
    "duration": 17,
    "start_time": "2022-03-14T06:52:19.404Z"
   },
   {
    "duration": 13,
    "start_time": "2022-03-14T06:52:24.108Z"
   },
   {
    "duration": 13,
    "start_time": "2022-03-14T06:52:29.029Z"
   },
   {
    "duration": 14,
    "start_time": "2022-03-14T06:52:37.308Z"
   },
   {
    "duration": 14,
    "start_time": "2022-03-14T06:52:48.276Z"
   },
   {
    "duration": 19,
    "start_time": "2022-03-14T06:52:56.924Z"
   },
   {
    "duration": 13,
    "start_time": "2022-03-14T06:53:04.715Z"
   },
   {
    "duration": 13,
    "start_time": "2022-03-14T06:54:24.811Z"
   },
   {
    "duration": 12,
    "start_time": "2022-03-14T06:56:13.595Z"
   },
   {
    "duration": 48,
    "start_time": "2022-03-14T06:56:15.682Z"
   },
   {
    "duration": 7,
    "start_time": "2022-03-14T07:00:41.321Z"
   },
   {
    "duration": 7,
    "start_time": "2022-03-14T07:00:42.281Z"
   },
   {
    "duration": 7,
    "start_time": "2022-03-14T07:00:42.945Z"
   },
   {
    "duration": 7,
    "start_time": "2022-03-14T07:00:43.289Z"
   },
   {
    "duration": 48,
    "start_time": "2022-03-14T07:00:44.410Z"
   },
   {
    "duration": 11,
    "start_time": "2022-03-14T07:01:25.954Z"
   },
   {
    "duration": 47,
    "start_time": "2022-03-14T07:01:28.089Z"
   },
   {
    "duration": 7,
    "start_time": "2022-03-14T07:01:39.177Z"
   },
   {
    "duration": 8,
    "start_time": "2022-03-14T07:01:40.049Z"
   },
   {
    "duration": 8,
    "start_time": "2022-03-14T07:01:40.304Z"
   },
   {
    "duration": 8,
    "start_time": "2022-03-14T07:01:40.624Z"
   },
   {
    "duration": 45,
    "start_time": "2022-03-14T07:01:42.201Z"
   },
   {
    "duration": 6,
    "start_time": "2022-03-14T07:01:59.053Z"
   },
   {
    "duration": 6,
    "start_time": "2022-03-14T07:02:07.714Z"
   },
   {
    "duration": 20,
    "start_time": "2022-03-14T07:02:22.809Z"
   },
   {
    "duration": 48,
    "start_time": "2022-03-14T07:02:55.767Z"
   },
   {
    "duration": 75,
    "start_time": "2022-03-14T07:03:17.360Z"
   },
   {
    "duration": 44,
    "start_time": "2022-03-14T07:03:29.120Z"
   },
   {
    "duration": 7,
    "start_time": "2022-03-14T07:03:44.952Z"
   },
   {
    "duration": 8,
    "start_time": "2022-03-14T07:03:51.624Z"
   },
   {
    "duration": 11,
    "start_time": "2022-03-14T07:04:58.688Z"
   },
   {
    "duration": 46,
    "start_time": "2022-03-14T07:04:59.928Z"
   },
   {
    "duration": 12,
    "start_time": "2022-03-14T07:06:38.225Z"
   },
   {
    "duration": 12,
    "start_time": "2022-03-14T07:06:53.912Z"
   },
   {
    "duration": 12,
    "start_time": "2022-03-14T07:07:25.002Z"
   },
   {
    "duration": 14,
    "start_time": "2022-03-14T07:07:45.157Z"
   },
   {
    "duration": 8,
    "start_time": "2022-03-14T07:10:53.301Z"
   },
   {
    "duration": 8,
    "start_time": "2022-03-14T07:10:53.565Z"
   },
   {
    "duration": 8,
    "start_time": "2022-03-14T07:10:53.917Z"
   },
   {
    "duration": 11,
    "start_time": "2022-03-14T07:12:05.901Z"
   },
   {
    "duration": 7,
    "start_time": "2022-03-14T07:12:14.165Z"
   },
   {
    "duration": 7,
    "start_time": "2022-03-14T07:12:27.221Z"
   },
   {
    "duration": 7,
    "start_time": "2022-03-14T07:12:31.414Z"
   },
   {
    "duration": 7,
    "start_time": "2022-03-14T07:12:54.357Z"
   },
   {
    "duration": 5,
    "start_time": "2022-03-14T07:13:08.805Z"
   },
   {
    "duration": 46,
    "start_time": "2022-03-14T07:49:27.313Z"
   },
   {
    "duration": 13,
    "start_time": "2022-03-14T07:49:43.456Z"
   },
   {
    "duration": 11,
    "start_time": "2022-03-14T07:50:15.034Z"
   },
   {
    "duration": 10,
    "start_time": "2022-03-14T08:23:13.894Z"
   },
   {
    "duration": 49,
    "start_time": "2022-03-14T08:24:30.397Z"
   },
   {
    "duration": 66,
    "start_time": "2022-03-14T08:25:20.895Z"
   },
   {
    "duration": 48,
    "start_time": "2022-03-14T08:27:38.837Z"
   },
   {
    "duration": 46,
    "start_time": "2022-03-14T08:27:55.828Z"
   },
   {
    "duration": 91,
    "start_time": "2022-03-14T08:30:22.404Z"
   },
   {
    "duration": 104,
    "start_time": "2022-03-14T08:30:37.387Z"
   },
   {
    "duration": 12,
    "start_time": "2022-03-14T08:30:45.827Z"
   },
   {
    "duration": 130,
    "start_time": "2022-03-14T08:31:12.244Z"
   },
   {
    "duration": 10,
    "start_time": "2022-03-14T08:31:15.507Z"
   },
   {
    "duration": 48,
    "start_time": "2022-03-14T08:31:53.964Z"
   },
   {
    "duration": 49,
    "start_time": "2022-03-14T08:33:03.699Z"
   },
   {
    "duration": 50,
    "start_time": "2022-03-14T08:34:01.539Z"
   },
   {
    "duration": 48,
    "start_time": "2022-03-14T08:34:16.388Z"
   },
   {
    "duration": 15,
    "start_time": "2022-03-14T08:35:09.572Z"
   },
   {
    "duration": 48,
    "start_time": "2022-03-14T08:35:36.401Z"
   },
   {
    "duration": 5,
    "start_time": "2022-03-14T08:41:18.688Z"
   },
   {
    "duration": 4,
    "start_time": "2022-03-14T08:41:27.199Z"
   },
   {
    "duration": 28611,
    "start_time": "2022-03-14T08:41:58.808Z"
   },
   {
    "duration": 28492,
    "start_time": "2022-03-14T08:43:04.513Z"
   },
   {
    "duration": 12,
    "start_time": "2022-03-14T08:46:46.598Z"
   },
   {
    "duration": 46,
    "start_time": "2022-03-14T08:47:15.461Z"
   },
   {
    "duration": 26736,
    "start_time": "2022-03-14T08:47:56.909Z"
   },
   {
    "duration": 51,
    "start_time": "2022-03-14T08:48:30.933Z"
   },
   {
    "duration": 13,
    "start_time": "2022-03-14T08:53:38.892Z"
   },
   {
    "duration": 279,
    "start_time": "2022-03-14T08:54:30.412Z"
   },
   {
    "duration": 313,
    "start_time": "2022-03-14T08:55:05.102Z"
   },
   {
    "duration": 265,
    "start_time": "2022-03-14T08:55:13.251Z"
   },
   {
    "duration": 265,
    "start_time": "2022-03-14T08:55:25.780Z"
   },
   {
    "duration": 45,
    "start_time": "2022-03-14T08:55:32.243Z"
   },
   {
    "duration": 33,
    "start_time": "2022-03-14T08:55:39.572Z"
   },
   {
    "duration": 67,
    "start_time": "2022-03-14T08:56:06.060Z"
   },
   {
    "duration": 49,
    "start_time": "2022-03-14T12:31:08.101Z"
   },
   {
    "duration": 10,
    "start_time": "2022-03-14T12:31:31.770Z"
   },
   {
    "duration": 48,
    "start_time": "2022-03-14T12:32:24.955Z"
   },
   {
    "duration": 4,
    "start_time": "2022-03-14T12:36:38.619Z"
   },
   {
    "duration": 5,
    "start_time": "2022-03-14T12:36:47.082Z"
   },
   {
    "duration": 10,
    "start_time": "2022-03-14T12:36:48.210Z"
   },
   {
    "duration": 8,
    "start_time": "2022-03-14T12:36:48.561Z"
   },
   {
    "duration": 7,
    "start_time": "2022-03-14T12:36:48.872Z"
   },
   {
    "duration": 10,
    "start_time": "2022-03-14T12:36:51.201Z"
   },
   {
    "duration": 4,
    "start_time": "2022-03-14T12:36:51.401Z"
   },
   {
    "duration": 13,
    "start_time": "2022-03-14T12:36:52.456Z"
   },
   {
    "duration": 12,
    "start_time": "2022-03-14T12:36:52.657Z"
   },
   {
    "duration": 47,
    "start_time": "2022-03-14T12:36:57.193Z"
   },
   {
    "duration": 74,
    "start_time": "2022-03-14T12:36:59.835Z"
   },
   {
    "duration": 6,
    "start_time": "2022-03-14T12:37:01.593Z"
   },
   {
    "duration": 25522,
    "start_time": "2022-03-14T12:37:02.849Z"
   },
   {
    "duration": 49,
    "start_time": "2022-03-14T12:37:29.456Z"
   },
   {
    "duration": 10,
    "start_time": "2022-03-14T12:38:14.392Z"
   },
   {
    "duration": 10,
    "start_time": "2022-03-14T12:38:22.000Z"
   },
   {
    "duration": 10,
    "start_time": "2022-03-14T12:38:25.713Z"
   },
   {
    "duration": 11,
    "start_time": "2022-03-14T12:38:38.450Z"
   },
   {
    "duration": 12,
    "start_time": "2022-03-14T12:39:02.280Z"
   },
   {
    "duration": 11,
    "start_time": "2022-03-14T12:39:06.249Z"
   },
   {
    "duration": 7,
    "start_time": "2022-03-14T12:39:31.095Z"
   },
   {
    "duration": 195,
    "start_time": "2022-03-14T12:40:05.723Z"
   },
   {
    "duration": 32,
    "start_time": "2022-03-14T12:40:08.337Z"
   },
   {
    "duration": 12,
    "start_time": "2022-03-14T12:41:40.865Z"
   },
   {
    "duration": 30,
    "start_time": "2022-03-14T12:43:07.992Z"
   },
   {
    "duration": 72,
    "start_time": "2022-03-14T12:45:36.031Z"
   },
   {
    "duration": 13,
    "start_time": "2022-03-14T12:45:45.679Z"
   },
   {
    "duration": 17,
    "start_time": "2022-03-14T12:45:58.094Z"
   },
   {
    "duration": 10,
    "start_time": "2022-03-14T12:46:06.806Z"
   },
   {
    "duration": 7,
    "start_time": "2022-03-14T12:46:11.783Z"
   },
   {
    "duration": 12,
    "start_time": "2022-03-14T12:46:12.822Z"
   },
   {
    "duration": 11,
    "start_time": "2022-03-14T12:46:13.750Z"
   },
   {
    "duration": 6,
    "start_time": "2022-03-14T12:47:29.207Z"
   },
   {
    "duration": 7,
    "start_time": "2022-03-14T12:47:37.886Z"
   },
   {
    "duration": 14,
    "start_time": "2022-03-14T12:47:39.215Z"
   },
   {
    "duration": 8,
    "start_time": "2022-03-14T12:47:40.288Z"
   },
   {
    "duration": 8,
    "start_time": "2022-03-14T12:47:40.646Z"
   },
   {
    "duration": 8,
    "start_time": "2022-03-14T12:47:40.894Z"
   },
   {
    "duration": 10,
    "start_time": "2022-03-14T12:47:43.318Z"
   },
   {
    "duration": 5,
    "start_time": "2022-03-14T12:47:45.246Z"
   },
   {
    "duration": 11,
    "start_time": "2022-03-14T12:47:47.310Z"
   },
   {
    "duration": 13,
    "start_time": "2022-03-14T12:47:48.007Z"
   },
   {
    "duration": 48,
    "start_time": "2022-03-14T12:47:52.904Z"
   },
   {
    "duration": 48,
    "start_time": "2022-03-14T12:47:55.718Z"
   },
   {
    "duration": 6,
    "start_time": "2022-03-14T12:48:01.637Z"
   },
   {
    "duration": 39021,
    "start_time": "2022-03-14T12:48:02.982Z"
   },
   {
    "duration": 66,
    "start_time": "2022-03-14T12:48:42.006Z"
   },
   {
    "duration": 47,
    "start_time": "2022-03-14T12:48:53.551Z"
   },
   {
    "duration": 10,
    "start_time": "2022-03-14T12:48:59.533Z"
   },
   {
    "duration": 10,
    "start_time": "2022-03-14T12:49:00.486Z"
   },
   {
    "duration": 7,
    "start_time": "2022-03-14T12:49:02.806Z"
   },
   {
    "duration": 13,
    "start_time": "2022-03-14T12:49:23.214Z"
   },
   {
    "duration": 13,
    "start_time": "2022-03-14T12:49:25.461Z"
   },
   {
    "duration": 14,
    "start_time": "2022-03-14T12:49:38.806Z"
   },
   {
    "duration": 66,
    "start_time": "2022-03-14T12:49:53.103Z"
   },
   {
    "duration": 15,
    "start_time": "2022-03-14T12:50:44.622Z"
   },
   {
    "duration": 22,
    "start_time": "2022-03-14T12:51:37.678Z"
   },
   {
    "duration": 63,
    "start_time": "2022-03-14T12:51:44.502Z"
   },
   {
    "duration": 2747,
    "start_time": "2022-03-14T12:52:57.133Z"
   },
   {
    "duration": 14,
    "start_time": "2022-03-14T12:53:02.828Z"
   },
   {
    "duration": 15,
    "start_time": "2022-03-14T12:53:28.510Z"
   },
   {
    "duration": 8,
    "start_time": "2022-03-14T12:54:13.981Z"
   },
   {
    "duration": 93,
    "start_time": "2022-03-14T12:54:22.109Z"
   },
   {
    "duration": 1885,
    "start_time": "2022-03-14T12:54:28.540Z"
   },
   {
    "duration": 8,
    "start_time": "2022-03-14T12:54:58.332Z"
   },
   {
    "duration": 2426,
    "start_time": "2022-03-14T12:55:00.988Z"
   },
   {
    "duration": 7,
    "start_time": "2022-03-14T12:55:07.645Z"
   },
   {
    "duration": 2035,
    "start_time": "2022-03-14T12:55:08.252Z"
   },
   {
    "duration": 5,
    "start_time": "2022-03-14T12:55:23.452Z"
   },
   {
    "duration": 2209,
    "start_time": "2022-03-14T12:55:23.851Z"
   },
   {
    "duration": 2209,
    "start_time": "2022-03-14T12:55:42.084Z"
   },
   {
    "duration": 2290,
    "start_time": "2022-03-14T12:55:48.876Z"
   },
   {
    "duration": 8,
    "start_time": "2022-03-14T12:56:17.660Z"
   },
   {
    "duration": 2555,
    "start_time": "2022-03-14T12:56:18.404Z"
   },
   {
    "duration": 12,
    "start_time": "2022-03-14T12:56:57.733Z"
   },
   {
    "duration": 14,
    "start_time": "2022-03-14T12:57:02.317Z"
   },
   {
    "duration": 10,
    "start_time": "2022-03-14T12:57:08.435Z"
   },
   {
    "duration": 11,
    "start_time": "2022-03-14T12:57:12.116Z"
   },
   {
    "duration": 10,
    "start_time": "2022-03-14T12:57:19.315Z"
   },
   {
    "duration": 308,
    "start_time": "2022-03-14T12:59:10.611Z"
   },
   {
    "duration": 4,
    "start_time": "2022-03-14T12:59:21.131Z"
   },
   {
    "duration": 262,
    "start_time": "2022-03-14T12:59:30.603Z"
   },
   {
    "duration": 5,
    "start_time": "2022-03-14T12:59:34.155Z"
   },
   {
    "duration": 100,
    "start_time": "2022-03-14T13:00:15.723Z"
   },
   {
    "duration": 6,
    "start_time": "2022-03-14T13:00:22.986Z"
   },
   {
    "duration": 1680,
    "start_time": "2022-03-14T13:00:26.435Z"
   },
   {
    "duration": 1743,
    "start_time": "2022-03-14T13:00:30.131Z"
   },
   {
    "duration": 26,
    "start_time": "2022-03-14T13:01:35.931Z"
   },
   {
    "duration": 25,
    "start_time": "2022-03-14T13:01:47.282Z"
   },
   {
    "duration": 25,
    "start_time": "2022-03-14T13:01:50.050Z"
   },
   {
    "duration": 23,
    "start_time": "2022-03-14T13:02:18.714Z"
   },
   {
    "duration": 52,
    "start_time": "2022-03-14T13:09:51.265Z"
   },
   {
    "duration": 74,
    "start_time": "2022-03-14T13:10:11.825Z"
   },
   {
    "duration": 79,
    "start_time": "2022-03-14T13:15:22.841Z"
   },
   {
    "duration": 12,
    "start_time": "2022-03-14T13:21:10.669Z"
   },
   {
    "duration": 26,
    "start_time": "2022-03-14T13:21:11.344Z"
   },
   {
    "duration": 9,
    "start_time": "2022-03-14T13:21:23.573Z"
   },
   {
    "duration": 18,
    "start_time": "2022-03-14T13:22:07.293Z"
   },
   {
    "duration": 8,
    "start_time": "2022-03-14T13:22:08.685Z"
   },
   {
    "duration": 10,
    "start_time": "2022-03-14T13:22:08.967Z"
   },
   {
    "duration": 8,
    "start_time": "2022-03-14T13:22:09.268Z"
   },
   {
    "duration": 11,
    "start_time": "2022-03-14T13:22:11.820Z"
   },
   {
    "duration": 4,
    "start_time": "2022-03-14T13:22:12.380Z"
   },
   {
    "duration": 12,
    "start_time": "2022-03-14T13:22:15.180Z"
   },
   {
    "duration": 12,
    "start_time": "2022-03-14T13:22:15.484Z"
   },
   {
    "duration": 48,
    "start_time": "2022-03-14T13:22:27.244Z"
   },
   {
    "duration": 65,
    "start_time": "2022-03-14T13:22:32.597Z"
   },
   {
    "duration": 10,
    "start_time": "2022-03-14T13:22:37.140Z"
   },
   {
    "duration": 22,
    "start_time": "2022-03-14T13:22:39.580Z"
   },
   {
    "duration": 11,
    "start_time": "2022-03-14T13:22:47.116Z"
   },
   {
    "duration": 8,
    "start_time": "2022-03-14T13:22:47.772Z"
   },
   {
    "duration": 7,
    "start_time": "2022-03-14T13:23:10.301Z"
   },
   {
    "duration": 55805,
    "start_time": "2022-03-14T13:23:11.629Z"
   },
   {
    "duration": 5,
    "start_time": "2022-03-14T13:26:37.724Z"
   },
   {
    "duration": 28802,
    "start_time": "2022-03-14T13:26:49.011Z"
   },
   {
    "duration": 7,
    "start_time": "2022-03-14T13:28:10.243Z"
   },
   {
    "duration": 29194,
    "start_time": "2022-03-14T13:28:11.258Z"
   },
   {
    "duration": 27492,
    "start_time": "2022-03-14T13:29:04.875Z"
   },
   {
    "duration": 6,
    "start_time": "2022-03-14T13:30:59.323Z"
   },
   {
    "duration": 22956,
    "start_time": "2022-03-14T13:30:59.699Z"
   },
   {
    "duration": 21734,
    "start_time": "2022-03-14T13:31:39.066Z"
   },
   {
    "duration": 38424,
    "start_time": "2022-03-14T13:32:50.817Z"
   },
   {
    "duration": 50,
    "start_time": "2022-03-14T13:33:40.144Z"
   },
   {
    "duration": 11,
    "start_time": "2022-03-14T13:34:00.497Z"
   },
   {
    "duration": 21,
    "start_time": "2022-03-14T13:34:00.801Z"
   },
   {
    "duration": 24,
    "start_time": "2022-03-14T13:34:10.434Z"
   },
   {
    "duration": 66,
    "start_time": "2022-03-14T13:34:17.026Z"
   },
   {
    "duration": 40080,
    "start_time": "2022-03-14T13:34:49.050Z"
   },
   {
    "duration": 6,
    "start_time": "2022-03-14T13:36:05.528Z"
   },
   {
    "duration": 21983,
    "start_time": "2022-03-14T13:36:08.896Z"
   },
   {
    "duration": 33,
    "start_time": "2022-03-14T13:36:34.817Z"
   },
   {
    "duration": 18,
    "start_time": "2022-03-14T13:37:33.009Z"
   },
   {
    "duration": 77,
    "start_time": "2022-03-14T13:37:39.778Z"
   },
   {
    "duration": 10,
    "start_time": "2022-03-14T13:38:01.505Z"
   },
   {
    "duration": 8,
    "start_time": "2022-03-14T13:38:29.913Z"
   },
   {
    "duration": 42,
    "start_time": "2022-03-14T13:38:34.152Z"
   },
   {
    "duration": 6,
    "start_time": "2022-03-14T13:38:51.559Z"
   },
   {
    "duration": 38,
    "start_time": "2022-03-14T13:38:52.040Z"
   },
   {
    "duration": 29,
    "start_time": "2022-03-14T13:39:03.879Z"
   },
   {
    "duration": 7,
    "start_time": "2022-03-14T13:39:05.584Z"
   },
   {
    "duration": 29,
    "start_time": "2022-03-14T13:39:06.191Z"
   },
   {
    "duration": 32,
    "start_time": "2022-03-14T13:39:13.874Z"
   },
   {
    "duration": 30,
    "start_time": "2022-03-14T13:39:16.023Z"
   },
   {
    "duration": 32,
    "start_time": "2022-03-14T13:39:16.671Z"
   },
   {
    "duration": 13,
    "start_time": "2022-03-14T13:40:20.973Z"
   },
   {
    "duration": 12,
    "start_time": "2022-03-14T13:40:26.632Z"
   },
   {
    "duration": 53,
    "start_time": "2022-03-14T13:41:52.312Z"
   },
   {
    "duration": 5,
    "start_time": "2022-03-14T13:47:13.382Z"
   },
   {
    "duration": 61,
    "start_time": "2022-03-14T13:47:13.741Z"
   },
   {
    "duration": 6,
    "start_time": "2022-03-14T13:47:51.335Z"
   },
   {
    "duration": 60,
    "start_time": "2022-03-14T13:47:51.822Z"
   },
   {
    "duration": 101,
    "start_time": "2022-03-14T13:51:51.133Z"
   },
   {
    "duration": 81,
    "start_time": "2022-03-14T13:51:57.756Z"
   },
   {
    "duration": 96,
    "start_time": "2022-03-14T13:52:03.348Z"
   },
   {
    "duration": 98,
    "start_time": "2022-03-14T13:52:12.836Z"
   },
   {
    "duration": 9,
    "start_time": "2022-03-14T13:52:16.012Z"
   },
   {
    "duration": 44,
    "start_time": "2022-03-14T13:52:17.413Z"
   },
   {
    "duration": 6,
    "start_time": "2022-03-14T13:52:27.213Z"
   },
   {
    "duration": 394,
    "start_time": "2022-03-14T13:55:03.315Z"
   },
   {
    "duration": 5,
    "start_time": "2022-03-14T13:55:09.387Z"
   },
   {
    "duration": 40,
    "start_time": "2022-03-14T13:55:10.731Z"
   },
   {
    "duration": 43,
    "start_time": "2022-03-14T13:55:33.619Z"
   },
   {
    "duration": 17,
    "start_time": "2022-03-14T13:55:34.171Z"
   },
   {
    "duration": 9,
    "start_time": "2022-03-14T13:56:14.931Z"
   },
   {
    "duration": 4,
    "start_time": "2022-03-14T13:56:24.203Z"
   },
   {
    "duration": 14,
    "start_time": "2022-03-14T13:56:25.426Z"
   },
   {
    "duration": 17,
    "start_time": "2022-03-14T13:56:25.891Z"
   },
   {
    "duration": 13,
    "start_time": "2022-03-14T13:56:28.035Z"
   },
   {
    "duration": 8,
    "start_time": "2022-03-14T13:56:29.148Z"
   },
   {
    "duration": 10,
    "start_time": "2022-03-14T13:56:29.947Z"
   },
   {
    "duration": 8,
    "start_time": "2022-03-14T13:56:30.491Z"
   },
   {
    "duration": 10,
    "start_time": "2022-03-14T13:56:32.860Z"
   },
   {
    "duration": 5,
    "start_time": "2022-03-14T13:56:33.290Z"
   },
   {
    "duration": 12,
    "start_time": "2022-03-14T13:56:34.322Z"
   },
   {
    "duration": 13,
    "start_time": "2022-03-14T13:56:34.538Z"
   },
   {
    "duration": 48,
    "start_time": "2022-03-14T13:56:37.731Z"
   },
   {
    "duration": 46,
    "start_time": "2022-03-14T13:56:38.635Z"
   },
   {
    "duration": 11,
    "start_time": "2022-03-14T13:56:40.978Z"
   },
   {
    "duration": 29,
    "start_time": "2022-03-14T13:56:41.403Z"
   },
   {
    "duration": 12,
    "start_time": "2022-03-14T13:56:43.970Z"
   },
   {
    "duration": 8,
    "start_time": "2022-03-14T13:56:44.538Z"
   },
   {
    "duration": 36719,
    "start_time": "2022-03-14T13:56:50.546Z"
   },
   {
    "duration": 6,
    "start_time": "2022-03-14T13:57:47.538Z"
   },
   {
    "duration": 25450,
    "start_time": "2022-03-14T13:57:48.459Z"
   },
   {
    "duration": 25926,
    "start_time": "2022-03-14T13:59:34.618Z"
   },
   {
    "duration": 6,
    "start_time": "2022-03-14T14:05:23.864Z"
   },
   {
    "duration": 49,
    "start_time": "2022-03-14T14:06:12.608Z"
   },
   {
    "duration": 30169,
    "start_time": "2022-03-14T14:06:14.528Z"
   },
   {
    "duration": 23,
    "start_time": "2022-03-14T14:06:46.128Z"
   },
   {
    "duration": 13,
    "start_time": "2022-03-14T14:06:48.944Z"
   },
   {
    "duration": 65,
    "start_time": "2022-03-14T14:10:59.208Z"
   },
   {
    "duration": 23,
    "start_time": "2022-03-14T14:19:08.116Z"
   },
   {
    "duration": 36,
    "start_time": "2022-03-14T14:19:39.115Z"
   },
   {
    "duration": 46,
    "start_time": "2022-03-14T14:22:36.668Z"
   },
   {
    "duration": 76,
    "start_time": "2022-03-14T14:24:02.467Z"
   },
   {
    "duration": 12,
    "start_time": "2022-03-14T14:25:00.871Z"
   },
   {
    "duration": 60,
    "start_time": "2022-03-14T14:26:18.602Z"
   },
   {
    "duration": 36,
    "start_time": "2022-03-14T14:27:14.115Z"
   },
   {
    "duration": 648,
    "start_time": "2022-03-15T10:44:45.631Z"
   },
   {
    "duration": 3,
    "start_time": "2022-03-15T10:44:46.281Z"
   },
   {
    "duration": 91,
    "start_time": "2022-03-15T10:44:46.286Z"
   },
   {
    "duration": 38,
    "start_time": "2022-03-15T10:44:46.379Z"
   },
   {
    "duration": 11,
    "start_time": "2022-03-15T10:44:46.419Z"
   },
   {
    "duration": 12,
    "start_time": "2022-03-15T10:44:46.432Z"
   },
   {
    "duration": 308,
    "start_time": "2022-03-15T10:44:46.446Z"
   },
   {
    "duration": -2375,
    "start_time": "2022-03-15T10:44:49.132Z"
   },
   {
    "duration": -2376,
    "start_time": "2022-03-15T10:44:49.134Z"
   },
   {
    "duration": -2381,
    "start_time": "2022-03-15T10:44:49.140Z"
   },
   {
    "duration": -2382,
    "start_time": "2022-03-15T10:44:49.142Z"
   },
   {
    "duration": -2383,
    "start_time": "2022-03-15T10:44:49.143Z"
   },
   {
    "duration": -2383,
    "start_time": "2022-03-15T10:44:49.144Z"
   },
   {
    "duration": -2383,
    "start_time": "2022-03-15T10:44:49.145Z"
   },
   {
    "duration": -2383,
    "start_time": "2022-03-15T10:44:49.146Z"
   },
   {
    "duration": -2383,
    "start_time": "2022-03-15T10:44:49.147Z"
   },
   {
    "duration": -2384,
    "start_time": "2022-03-15T10:44:49.149Z"
   },
   {
    "duration": -2383,
    "start_time": "2022-03-15T10:44:49.150Z"
   },
   {
    "duration": -2383,
    "start_time": "2022-03-15T10:44:49.151Z"
   },
   {
    "duration": -2383,
    "start_time": "2022-03-15T10:44:49.152Z"
   },
   {
    "duration": -2387,
    "start_time": "2022-03-15T10:44:49.157Z"
   },
   {
    "duration": -2389,
    "start_time": "2022-03-15T10:44:49.160Z"
   },
   {
    "duration": 607,
    "start_time": "2022-03-15T10:45:32.728Z"
   },
   {
    "duration": 3,
    "start_time": "2022-03-15T10:45:33.338Z"
   },
   {
    "duration": 81,
    "start_time": "2022-03-15T10:45:33.344Z"
   },
   {
    "duration": 44,
    "start_time": "2022-03-15T10:45:33.427Z"
   },
   {
    "duration": 28,
    "start_time": "2022-03-15T10:45:33.473Z"
   },
   {
    "duration": 11,
    "start_time": "2022-03-15T10:45:33.503Z"
   },
   {
    "duration": 94,
    "start_time": "2022-03-15T10:45:33.515Z"
   },
   {
    "duration": 315,
    "start_time": "2022-03-15T10:45:33.611Z"
   },
   {
    "duration": -2376,
    "start_time": "2022-03-15T10:45:36.304Z"
   },
   {
    "duration": -2376,
    "start_time": "2022-03-15T10:45:36.305Z"
   },
   {
    "duration": -2377,
    "start_time": "2022-03-15T10:45:36.307Z"
   },
   {
    "duration": -2376,
    "start_time": "2022-03-15T10:45:36.308Z"
   },
   {
    "duration": -2376,
    "start_time": "2022-03-15T10:45:36.309Z"
   },
   {
    "duration": -2375,
    "start_time": "2022-03-15T10:45:36.310Z"
   },
   {
    "duration": -2376,
    "start_time": "2022-03-15T10:45:36.312Z"
   },
   {
    "duration": -2377,
    "start_time": "2022-03-15T10:45:36.314Z"
   },
   {
    "duration": -2378,
    "start_time": "2022-03-15T10:45:36.316Z"
   },
   {
    "duration": -2378,
    "start_time": "2022-03-15T10:45:36.317Z"
   },
   {
    "duration": -2382,
    "start_time": "2022-03-15T10:45:36.322Z"
   },
   {
    "duration": -2381,
    "start_time": "2022-03-15T10:45:36.323Z"
   },
   {
    "duration": -2381,
    "start_time": "2022-03-15T10:45:36.324Z"
   },
   {
    "duration": 595,
    "start_time": "2022-03-15T10:45:58.424Z"
   },
   {
    "duration": 3,
    "start_time": "2022-03-15T10:45:59.022Z"
   },
   {
    "duration": 84,
    "start_time": "2022-03-15T10:45:59.027Z"
   },
   {
    "duration": 39,
    "start_time": "2022-03-15T10:45:59.114Z"
   },
   {
    "duration": 12,
    "start_time": "2022-03-15T10:45:59.155Z"
   },
   {
    "duration": 36,
    "start_time": "2022-03-15T10:45:59.169Z"
   },
   {
    "duration": 77,
    "start_time": "2022-03-15T10:45:59.207Z"
   },
   {
    "duration": 17,
    "start_time": "2022-03-15T10:45:59.286Z"
   },
   {
    "duration": 10,
    "start_time": "2022-03-15T10:45:59.306Z"
   },
   {
    "duration": 13,
    "start_time": "2022-03-15T10:45:59.319Z"
   },
   {
    "duration": 12,
    "start_time": "2022-03-15T10:45:59.333Z"
   },
   {
    "duration": 9,
    "start_time": "2022-03-15T10:45:59.348Z"
   },
   {
    "duration": 7,
    "start_time": "2022-03-15T10:45:59.358Z"
   },
   {
    "duration": 38,
    "start_time": "2022-03-15T10:45:59.367Z"
   },
   {
    "duration": 9,
    "start_time": "2022-03-15T10:45:59.406Z"
   },
   {
    "duration": 6,
    "start_time": "2022-03-15T10:45:59.416Z"
   },
   {
    "duration": 11,
    "start_time": "2022-03-15T10:45:59.424Z"
   },
   {
    "duration": 6,
    "start_time": "2022-03-15T10:45:59.436Z"
   },
   {
    "duration": 17561,
    "start_time": "2022-03-15T10:45:59.444Z"
   },
   {
    "duration": 10,
    "start_time": "2022-03-15T11:37:14.559Z"
   },
   {
    "duration": 9,
    "start_time": "2022-03-15T11:37:48.514Z"
   },
   {
    "duration": 8,
    "start_time": "2022-03-15T11:39:08.063Z"
   },
   {
    "duration": 38,
    "start_time": "2022-03-15T11:39:15.117Z"
   },
   {
    "duration": 5,
    "start_time": "2022-03-15T11:39:34.998Z"
   },
   {
    "duration": 39,
    "start_time": "2022-03-15T11:39:35.869Z"
   },
   {
    "duration": 5,
    "start_time": "2022-03-15T12:36:32.086Z"
   },
   {
    "duration": 33,
    "start_time": "2022-03-15T12:36:34.541Z"
   },
   {
    "duration": 4,
    "start_time": "2022-03-15T12:37:00.333Z"
   },
   {
    "duration": 331,
    "start_time": "2022-03-15T12:37:27.205Z"
   },
   {
    "duration": 4,
    "start_time": "2022-03-15T12:37:59.381Z"
   },
   {
    "duration": 35,
    "start_time": "2022-03-15T12:38:02.404Z"
   },
   {
    "duration": 4,
    "start_time": "2022-03-15T12:43:09.986Z"
   },
   {
    "duration": 360,
    "start_time": "2022-03-15T12:43:10.402Z"
   },
   {
    "duration": 308,
    "start_time": "2022-03-15T12:43:22.326Z"
   },
   {
    "duration": 4,
    "start_time": "2022-03-15T12:44:15.066Z"
   },
   {
    "duration": 37,
    "start_time": "2022-03-15T12:44:18.187Z"
   },
   {
    "duration": 6,
    "start_time": "2022-03-15T12:45:43.554Z"
   },
   {
    "duration": 33,
    "start_time": "2022-03-15T12:45:46.570Z"
   },
   {
    "duration": 3,
    "start_time": "2022-03-15T12:46:46.090Z"
   },
   {
    "duration": 33,
    "start_time": "2022-03-15T12:46:46.095Z"
   },
   {
    "duration": 84,
    "start_time": "2022-03-15T12:46:46.130Z"
   },
   {
    "duration": 35,
    "start_time": "2022-03-15T12:46:46.218Z"
   },
   {
    "duration": 11,
    "start_time": "2022-03-15T12:46:46.255Z"
   },
   {
    "duration": 40,
    "start_time": "2022-03-15T12:46:46.268Z"
   },
   {
    "duration": 83,
    "start_time": "2022-03-15T12:46:46.310Z"
   },
   {
    "duration": 13,
    "start_time": "2022-03-15T12:46:46.396Z"
   },
   {
    "duration": 16,
    "start_time": "2022-03-15T12:46:46.419Z"
   },
   {
    "duration": 22,
    "start_time": "2022-03-15T12:46:46.437Z"
   },
   {
    "duration": 10,
    "start_time": "2022-03-15T12:46:46.461Z"
   },
   {
    "duration": 8,
    "start_time": "2022-03-15T12:46:46.473Z"
   },
   {
    "duration": 11,
    "start_time": "2022-03-15T12:46:46.482Z"
   },
   {
    "duration": 9,
    "start_time": "2022-03-15T12:46:46.506Z"
   },
   {
    "duration": 20,
    "start_time": "2022-03-15T12:46:46.518Z"
   },
   {
    "duration": 15,
    "start_time": "2022-03-15T12:46:46.540Z"
   },
   {
    "duration": 26,
    "start_time": "2022-03-15T12:46:46.557Z"
   },
   {
    "duration": 20,
    "start_time": "2022-03-15T12:46:46.585Z"
   },
   {
    "duration": 20027,
    "start_time": "2022-03-15T12:46:46.607Z"
   },
   {
    "duration": 9,
    "start_time": "2022-03-15T12:47:06.637Z"
   },
   {
    "duration": 6,
    "start_time": "2022-03-15T12:47:06.647Z"
   },
   {
    "duration": 10,
    "start_time": "2022-03-15T12:47:06.654Z"
   },
   {
    "duration": 7,
    "start_time": "2022-03-15T12:47:06.665Z"
   },
   {
    "duration": 63,
    "start_time": "2022-03-15T12:47:06.674Z"
   },
   {
    "duration": 88,
    "start_time": "2022-03-15T12:49:32.000Z"
   },
   {
    "duration": 7,
    "start_time": "2022-03-15T12:49:40.356Z"
   },
   {
    "duration": 339,
    "start_time": "2022-03-15T12:53:17.439Z"
   },
   {
    "duration": 7,
    "start_time": "2022-03-15T12:53:47.472Z"
   },
   {
    "duration": 10,
    "start_time": "2022-03-15T12:54:24.263Z"
   },
   {
    "duration": 18,
    "start_time": "2022-03-15T12:54:37.234Z"
   },
   {
    "duration": 4,
    "start_time": "2022-03-15T12:55:08.887Z"
   },
   {
    "duration": 35,
    "start_time": "2022-03-15T12:55:09.840Z"
   },
   {
    "duration": 77,
    "start_time": "2022-03-15T12:56:03.968Z"
   },
   {
    "duration": 41,
    "start_time": "2022-03-15T13:00:26.222Z"
   },
   {
    "duration": 14,
    "start_time": "2022-03-15T13:00:40.409Z"
   },
   {
    "duration": 714,
    "start_time": "2022-03-15T13:01:26.390Z"
   },
   {
    "duration": 4,
    "start_time": "2022-03-15T13:01:27.106Z"
   },
   {
    "duration": 96,
    "start_time": "2022-03-15T13:01:27.113Z"
   },
   {
    "duration": 43,
    "start_time": "2022-03-15T13:01:27.211Z"
   },
   {
    "duration": 15,
    "start_time": "2022-03-15T13:01:27.256Z"
   },
   {
    "duration": 32,
    "start_time": "2022-03-15T13:01:27.273Z"
   },
   {
    "duration": 103,
    "start_time": "2022-03-15T13:01:27.308Z"
   },
   {
    "duration": 6,
    "start_time": "2022-03-15T13:01:27.413Z"
   },
   {
    "duration": 33,
    "start_time": "2022-03-15T13:01:27.422Z"
   },
   {
    "duration": 17,
    "start_time": "2022-03-15T13:01:27.457Z"
   },
   {
    "duration": 11,
    "start_time": "2022-03-15T13:01:27.476Z"
   },
   {
    "duration": 6,
    "start_time": "2022-03-15T13:01:27.489Z"
   },
   {
    "duration": 27,
    "start_time": "2022-03-15T13:01:27.497Z"
   },
   {
    "duration": 42,
    "start_time": "2022-03-15T13:01:27.526Z"
   },
   {
    "duration": 10,
    "start_time": "2022-03-15T13:01:27.570Z"
   },
   {
    "duration": 7,
    "start_time": "2022-03-15T13:01:27.582Z"
   },
   {
    "duration": 30,
    "start_time": "2022-03-15T13:01:27.591Z"
   },
   {
    "duration": 12,
    "start_time": "2022-03-15T13:01:27.623Z"
   },
   {
    "duration": 16419,
    "start_time": "2022-03-15T13:01:27.637Z"
   },
   {
    "duration": 10,
    "start_time": "2022-03-15T13:01:44.058Z"
   },
   {
    "duration": 13,
    "start_time": "2022-03-15T13:01:44.070Z"
   },
   {
    "duration": 24,
    "start_time": "2022-03-15T13:01:44.085Z"
   },
   {
    "duration": 14,
    "start_time": "2022-03-15T13:01:44.112Z"
   },
   {
    "duration": 7,
    "start_time": "2022-03-15T13:03:28.770Z"
   },
   {
    "duration": 331,
    "start_time": "2022-03-15T13:04:49.220Z"
   },
   {
    "duration": 5,
    "start_time": "2022-03-15T13:04:55.593Z"
   },
   {
    "duration": 15,
    "start_time": "2022-03-15T13:06:43.322Z"
   },
   {
    "duration": 12,
    "start_time": "2022-03-15T13:06:50.514Z"
   },
   {
    "duration": 22,
    "start_time": "2022-03-15T13:07:04.314Z"
   },
   {
    "duration": 95,
    "start_time": "2022-03-15T13:07:10.441Z"
   },
   {
    "duration": 87,
    "start_time": "2022-03-15T13:07:15.833Z"
   },
   {
    "duration": 13,
    "start_time": "2022-03-15T13:07:18.065Z"
   },
   {
    "duration": 11,
    "start_time": "2022-03-15T13:07:30.816Z"
   },
   {
    "duration": 9,
    "start_time": "2022-03-15T13:08:59.896Z"
   },
   {
    "duration": 5,
    "start_time": "2022-03-15T13:09:04.484Z"
   },
   {
    "duration": 7,
    "start_time": "2022-03-15T13:09:08.448Z"
   },
   {
    "duration": 7,
    "start_time": "2022-03-15T13:09:16.152Z"
   },
   {
    "duration": 39,
    "start_time": "2022-03-15T13:09:29.807Z"
   },
   {
    "duration": 8,
    "start_time": "2022-03-15T13:10:36.320Z"
   },
   {
    "duration": 6,
    "start_time": "2022-03-15T13:10:44.151Z"
   },
   {
    "duration": 6,
    "start_time": "2022-03-15T13:11:25.784Z"
   },
   {
    "duration": 6,
    "start_time": "2022-03-15T13:11:40.335Z"
   },
   {
    "duration": 38,
    "start_time": "2022-03-15T13:11:47.512Z"
   },
   {
    "duration": 81,
    "start_time": "2022-03-15T13:13:13.911Z"
   },
   {
    "duration": 5,
    "start_time": "2022-03-15T13:15:02.896Z"
   },
   {
    "duration": 728,
    "start_time": "2022-03-15T13:16:01.790Z"
   },
   {
    "duration": 51,
    "start_time": "2022-03-15T13:16:04.695Z"
   },
   {
    "duration": 87,
    "start_time": "2022-03-15T13:16:58.422Z"
   },
   {
    "duration": 5,
    "start_time": "2022-03-15T13:17:43.174Z"
   },
   {
    "duration": 5,
    "start_time": "2022-03-15T13:18:25.118Z"
   },
   {
    "duration": 58,
    "start_time": "2022-03-15T13:18:25.526Z"
   },
   {
    "duration": 4,
    "start_time": "2022-03-15T14:28:43.377Z"
   },
   {
    "duration": 5,
    "start_time": "2022-03-15T14:28:44.632Z"
   },
   {
    "duration": 41,
    "start_time": "2022-03-15T14:28:45.777Z"
   },
   {
    "duration": 733,
    "start_time": "2022-03-16T13:56:26.399Z"
   },
   {
    "duration": 4,
    "start_time": "2022-03-16T13:56:27.135Z"
   },
   {
    "duration": 96,
    "start_time": "2022-03-16T13:56:27.142Z"
   },
   {
    "duration": 64,
    "start_time": "2022-03-16T13:56:27.241Z"
   },
   {
    "duration": 15,
    "start_time": "2022-03-16T13:56:27.308Z"
   },
   {
    "duration": 11,
    "start_time": "2022-03-16T13:56:27.325Z"
   },
   {
    "duration": 152,
    "start_time": "2022-03-16T13:56:27.339Z"
   },
   {
    "duration": 7,
    "start_time": "2022-03-16T13:56:27.494Z"
   },
   {
    "duration": 14,
    "start_time": "2022-03-16T13:56:27.505Z"
   },
   {
    "duration": 12,
    "start_time": "2022-03-16T13:56:27.522Z"
   },
   {
    "duration": 45,
    "start_time": "2022-03-16T13:56:27.537Z"
   },
   {
    "duration": 10,
    "start_time": "2022-03-16T13:56:27.585Z"
   },
   {
    "duration": 13,
    "start_time": "2022-03-16T13:56:27.598Z"
   },
   {
    "duration": 13,
    "start_time": "2022-03-16T13:56:27.613Z"
   },
   {
    "duration": 10,
    "start_time": "2022-03-16T13:56:27.628Z"
   },
   {
    "duration": 8,
    "start_time": "2022-03-16T13:56:27.674Z"
   },
   {
    "duration": 23,
    "start_time": "2022-03-16T13:56:27.688Z"
   },
   {
    "duration": 7,
    "start_time": "2022-03-16T13:56:27.713Z"
   },
   {
    "duration": 21208,
    "start_time": "2022-03-16T13:56:27.722Z"
   },
   {
    "duration": 9,
    "start_time": "2022-03-16T13:56:48.933Z"
   },
   {
    "duration": 6,
    "start_time": "2022-03-16T13:56:48.945Z"
   },
   {
    "duration": 15,
    "start_time": "2022-03-16T13:56:48.975Z"
   },
   {
    "duration": 13,
    "start_time": "2022-03-16T13:56:48.995Z"
   },
   {
    "duration": 8,
    "start_time": "2022-03-16T13:56:49.011Z"
   },
   {
    "duration": 9,
    "start_time": "2022-03-16T13:56:49.021Z"
   },
   {
    "duration": 10,
    "start_time": "2022-03-16T13:56:49.032Z"
   },
   {
    "duration": 4,
    "start_time": "2022-03-16T13:56:49.074Z"
   },
   {
    "duration": 1236,
    "start_time": "2022-03-16T13:56:49.081Z"
   },
   {
    "duration": 8,
    "start_time": "2022-03-16T13:56:50.319Z"
   },
   {
    "duration": 14,
    "start_time": "2022-03-16T13:56:50.329Z"
   },
   {
    "duration": 85,
    "start_time": "2022-03-16T13:56:50.345Z"
   },
   {
    "duration": 439,
    "start_time": "2022-03-16T13:58:55.145Z"
   },
   {
    "duration": 500,
    "start_time": "2022-03-16T13:59:06.511Z"
   },
   {
    "duration": 727,
    "start_time": "2022-03-16T13:59:11.258Z"
   },
   {
    "duration": 611,
    "start_time": "2022-03-16T13:59:34.826Z"
   },
   {
    "duration": 590,
    "start_time": "2022-03-16T13:59:40.802Z"
   },
   {
    "duration": 117,
    "start_time": "2022-03-16T13:59:51.042Z"
   },
   {
    "duration": 498,
    "start_time": "2022-03-16T13:59:53.075Z"
   },
   {
    "duration": 105,
    "start_time": "2022-03-16T13:59:57.113Z"
   },
   {
    "duration": 611,
    "start_time": "2022-03-16T14:00:01.833Z"
   },
   {
    "duration": 551,
    "start_time": "2022-03-16T14:00:35.369Z"
   },
   {
    "duration": 12,
    "start_time": "2022-03-16T14:00:53.298Z"
   },
   {
    "duration": 40,
    "start_time": "2022-03-16T14:01:57.595Z"
   },
   {
    "duration": 69,
    "start_time": "2022-03-16T14:02:38.485Z"
   },
   {
    "duration": 35,
    "start_time": "2022-03-16T14:02:44.936Z"
   },
   {
    "duration": 551,
    "start_time": "2022-03-16T14:03:18.969Z"
   },
   {
    "duration": 298,
    "start_time": "2022-03-16T14:04:48.640Z"
   },
   {
    "duration": 781,
    "start_time": "2022-03-16T14:07:20.153Z"
   },
   {
    "duration": 3,
    "start_time": "2022-03-16T14:07:20.938Z"
   },
   {
    "duration": 98,
    "start_time": "2022-03-16T14:07:20.945Z"
   },
   {
    "duration": 67,
    "start_time": "2022-03-16T14:07:21.045Z"
   },
   {
    "duration": 18,
    "start_time": "2022-03-16T14:07:21.114Z"
   },
   {
    "duration": 41,
    "start_time": "2022-03-16T14:07:21.135Z"
   },
   {
    "duration": 139,
    "start_time": "2022-03-16T14:07:21.179Z"
   },
   {
    "duration": 8,
    "start_time": "2022-03-16T14:07:21.323Z"
   },
   {
    "duration": 24,
    "start_time": "2022-03-16T14:07:21.334Z"
   },
   {
    "duration": 26,
    "start_time": "2022-03-16T14:07:21.360Z"
   },
   {
    "duration": 14,
    "start_time": "2022-03-16T14:07:21.389Z"
   },
   {
    "duration": 8,
    "start_time": "2022-03-16T14:07:21.406Z"
   },
   {
    "duration": 10,
    "start_time": "2022-03-16T14:07:21.416Z"
   },
   {
    "duration": 10,
    "start_time": "2022-03-16T14:07:21.428Z"
   },
   {
    "duration": 12,
    "start_time": "2022-03-16T14:07:21.475Z"
   },
   {
    "duration": 12,
    "start_time": "2022-03-16T14:07:21.490Z"
   },
   {
    "duration": 18,
    "start_time": "2022-03-16T14:07:21.504Z"
   },
   {
    "duration": 15,
    "start_time": "2022-03-16T14:07:21.525Z"
   },
   {
    "duration": 22326,
    "start_time": "2022-03-16T14:07:21.542Z"
   },
   {
    "duration": 14,
    "start_time": "2022-03-16T14:07:43.874Z"
   },
   {
    "duration": 46,
    "start_time": "2022-03-16T14:07:43.891Z"
   },
   {
    "duration": 33,
    "start_time": "2022-03-16T14:07:43.940Z"
   },
   {
    "duration": 43,
    "start_time": "2022-03-16T14:07:43.976Z"
   },
   {
    "duration": 36,
    "start_time": "2022-03-16T14:07:44.022Z"
   },
   {
    "duration": 51,
    "start_time": "2022-03-16T14:07:44.062Z"
   },
   {
    "duration": 26,
    "start_time": "2022-03-16T14:07:44.118Z"
   },
   {
    "duration": 43,
    "start_time": "2022-03-16T14:07:44.147Z"
   },
   {
    "duration": 1524,
    "start_time": "2022-03-16T14:07:44.193Z"
   },
   {
    "duration": 6,
    "start_time": "2022-03-16T14:07:45.719Z"
   },
   {
    "duration": 33,
    "start_time": "2022-03-16T14:07:45.727Z"
   },
   {
    "duration": 82,
    "start_time": "2022-03-16T14:07:45.762Z"
   },
   {
    "duration": 39,
    "start_time": "2022-03-16T14:07:45.846Z"
   },
   {
    "duration": 740,
    "start_time": "2022-03-16T14:07:45.887Z"
   },
   {
    "duration": 83,
    "start_time": "2022-03-16T14:07:46.629Z"
   },
   {
    "duration": 199,
    "start_time": "2022-03-16T14:08:35.190Z"
   },
   {
    "duration": 2066,
    "start_time": "2022-03-16T14:08:50.733Z"
   },
   {
    "duration": 912,
    "start_time": "2022-03-16T14:09:03.141Z"
   },
   {
    "duration": 229,
    "start_time": "2022-03-16T14:09:19.189Z"
   },
   {
    "duration": 525,
    "start_time": "2022-03-16T14:09:33.420Z"
   },
   {
    "duration": 808,
    "start_time": "2022-03-16T14:09:36.011Z"
   },
   {
    "duration": 893,
    "start_time": "2022-03-16T14:09:44.085Z"
   },
   {
    "duration": 344,
    "start_time": "2022-03-16T14:10:32.918Z"
   },
   {
    "duration": 645,
    "start_time": "2022-03-16T14:10:58.188Z"
   },
   {
    "duration": 404,
    "start_time": "2022-03-16T14:11:02.491Z"
   },
   {
    "duration": 329,
    "start_time": "2022-03-16T14:11:20.469Z"
   },
   {
    "duration": 344,
    "start_time": "2022-03-16T14:11:24.235Z"
   },
   {
    "duration": 449,
    "start_time": "2022-03-16T14:11:27.684Z"
   },
   {
    "duration": 436,
    "start_time": "2022-03-16T14:11:29.867Z"
   },
   {
    "duration": 542,
    "start_time": "2022-03-16T14:11:37.146Z"
   },
   {
    "duration": 325,
    "start_time": "2022-03-16T14:12:00.946Z"
   },
   {
    "duration": 552,
    "start_time": "2022-03-16T14:12:26.387Z"
   },
   {
    "duration": 743,
    "start_time": "2022-03-16T14:12:45.155Z"
   },
   {
    "duration": 647,
    "start_time": "2022-03-16T14:12:51.171Z"
   },
   {
    "duration": 596,
    "start_time": "2022-03-16T14:12:59.459Z"
   },
   {
    "duration": 429,
    "start_time": "2022-03-16T14:13:07.283Z"
   },
   {
    "duration": 492,
    "start_time": "2022-03-16T14:13:11.244Z"
   },
   {
    "duration": 433,
    "start_time": "2022-03-16T14:13:16.620Z"
   },
   {
    "duration": 547,
    "start_time": "2022-03-16T14:13:25.755Z"
   },
   {
    "duration": 720,
    "start_time": "2022-03-16T14:13:31.643Z"
   },
   {
    "duration": 67,
    "start_time": "2022-03-16T14:15:44.867Z"
   },
   {
    "duration": 51,
    "start_time": "2022-03-16T14:16:20.393Z"
   },
   {
    "duration": 87,
    "start_time": "2022-03-16T14:21:11.553Z"
   },
   {
    "duration": 60,
    "start_time": "2022-03-16T14:22:06.484Z"
   },
   {
    "duration": 462,
    "start_time": "2022-03-16T14:23:23.168Z"
   },
   {
    "duration": 525,
    "start_time": "2022-03-16T14:23:29.233Z"
   },
   {
    "duration": 69,
    "start_time": "2022-03-16T14:23:46.537Z"
   },
   {
    "duration": 431,
    "start_time": "2022-03-16T14:23:55.704Z"
   },
   {
    "duration": 426,
    "start_time": "2022-03-16T14:24:19.921Z"
   },
   {
    "duration": 340,
    "start_time": "2022-03-16T14:24:25.351Z"
   },
   {
    "duration": 604,
    "start_time": "2022-03-16T14:24:38.032Z"
   },
   {
    "duration": 322,
    "start_time": "2022-03-16T14:24:47.783Z"
   },
   {
    "duration": 316,
    "start_time": "2022-03-16T14:25:10.776Z"
   },
   {
    "duration": 318,
    "start_time": "2022-03-16T14:25:22.360Z"
   },
   {
    "duration": 309,
    "start_time": "2022-03-16T14:25:27.343Z"
   },
   {
    "duration": 317,
    "start_time": "2022-03-16T14:25:57.248Z"
   },
   {
    "duration": 61,
    "start_time": "2022-03-16T14:27:29.031Z"
   },
   {
    "duration": 1208,
    "start_time": "2022-03-16T14:27:34.247Z"
   },
   {
    "duration": 70,
    "start_time": "2022-03-16T14:28:00.271Z"
   },
   {
    "duration": 883,
    "start_time": "2022-03-16T14:28:12.094Z"
   },
   {
    "duration": 33,
    "start_time": "2022-03-16T14:28:33.295Z"
   },
   {
    "duration": 18,
    "start_time": "2022-03-16T14:29:12.911Z"
   },
   {
    "duration": 1666,
    "start_time": "2022-03-16T14:29:30.544Z"
   },
   {
    "duration": 1494,
    "start_time": "2022-03-16T14:30:10.862Z"
   },
   {
    "duration": 898,
    "start_time": "2022-03-16T14:30:25.118Z"
   },
   {
    "duration": 881,
    "start_time": "2022-03-16T14:30:32.486Z"
   },
   {
    "duration": 981,
    "start_time": "2022-03-16T14:30:35.950Z"
   },
   {
    "duration": 898,
    "start_time": "2022-03-16T14:30:39.878Z"
   },
   {
    "duration": 903,
    "start_time": "2022-03-16T14:30:56.062Z"
   },
   {
    "duration": 604,
    "start_time": "2022-03-16T14:31:03.065Z"
   },
   {
    "duration": 19,
    "start_time": "2022-03-16T14:32:03.747Z"
   },
   {
    "duration": 15,
    "start_time": "2022-03-16T14:32:50.973Z"
   },
   {
    "duration": 12,
    "start_time": "2022-03-16T14:33:03.605Z"
   },
   {
    "duration": 11,
    "start_time": "2022-03-16T14:33:06.197Z"
   },
   {
    "duration": 15,
    "start_time": "2022-03-16T14:34:22.678Z"
   },
   {
    "duration": 2537,
    "start_time": "2022-03-16T14:34:23.556Z"
   },
   {
    "duration": 10,
    "start_time": "2022-03-16T14:34:31.150Z"
   },
   {
    "duration": 605,
    "start_time": "2022-03-16T14:34:46.685Z"
   },
   {
    "duration": 698,
    "start_time": "2022-03-16T14:34:53.765Z"
   },
   {
    "duration": 12,
    "start_time": "2022-03-16T14:35:19.206Z"
   },
   {
    "duration": 379,
    "start_time": "2022-03-16T14:36:42.509Z"
   },
   {
    "duration": 15,
    "start_time": "2022-03-16T14:36:47.183Z"
   },
   {
    "duration": 23,
    "start_time": "2022-03-16T14:37:15.229Z"
   },
   {
    "duration": 14,
    "start_time": "2022-03-16T14:37:27.485Z"
   },
   {
    "duration": 11,
    "start_time": "2022-03-16T14:37:33.524Z"
   },
   {
    "duration": 14,
    "start_time": "2022-03-16T14:37:43.364Z"
   },
   {
    "duration": 10,
    "start_time": "2022-03-16T14:38:23.836Z"
   },
   {
    "duration": 13,
    "start_time": "2022-03-16T14:38:59.812Z"
   },
   {
    "duration": 12,
    "start_time": "2022-03-16T14:39:20.485Z"
   },
   {
    "duration": 7,
    "start_time": "2022-03-16T14:39:33.467Z"
   },
   {
    "duration": 18,
    "start_time": "2022-03-16T14:40:16.880Z"
   },
   {
    "duration": 29,
    "start_time": "2022-03-16T14:40:22.868Z"
   },
   {
    "duration": 17,
    "start_time": "2022-03-16T14:40:36.699Z"
   },
   {
    "duration": 15,
    "start_time": "2022-03-16T14:40:43.435Z"
   },
   {
    "duration": 31,
    "start_time": "2022-03-16T14:41:36.772Z"
   },
   {
    "duration": 22,
    "start_time": "2022-03-16T14:41:52.011Z"
   },
   {
    "duration": 31,
    "start_time": "2022-03-16T14:42:26.887Z"
   },
   {
    "duration": 733,
    "start_time": "2022-03-16T14:43:23.219Z"
   },
   {
    "duration": 9,
    "start_time": "2022-03-16T14:43:40.762Z"
   },
   {
    "duration": 26,
    "start_time": "2022-03-16T14:44:09.372Z"
   },
   {
    "duration": 415,
    "start_time": "2022-03-16T14:44:14.971Z"
   },
   {
    "duration": 333,
    "start_time": "2022-03-16T14:44:46.226Z"
   },
   {
    "duration": 890,
    "start_time": "2022-03-16T14:45:00.683Z"
   },
   {
    "duration": 575,
    "start_time": "2022-03-17T07:01:18.972Z"
   },
   {
    "duration": 5,
    "start_time": "2022-03-17T07:01:19.550Z"
   },
   {
    "duration": 120,
    "start_time": "2022-03-17T07:01:19.558Z"
   },
   {
    "duration": 60,
    "start_time": "2022-03-17T07:01:19.682Z"
   },
   {
    "duration": 46,
    "start_time": "2022-03-17T07:01:19.745Z"
   },
   {
    "duration": 12,
    "start_time": "2022-03-17T07:01:19.793Z"
   },
   {
    "duration": 118,
    "start_time": "2022-03-17T07:01:19.807Z"
   },
   {
    "duration": 5,
    "start_time": "2022-03-17T07:01:19.927Z"
   },
   {
    "duration": 17,
    "start_time": "2022-03-17T07:01:19.935Z"
   },
   {
    "duration": 34,
    "start_time": "2022-03-17T07:01:19.956Z"
   },
   {
    "duration": 12,
    "start_time": "2022-03-17T07:01:19.992Z"
   },
   {
    "duration": 8,
    "start_time": "2022-03-17T07:01:20.006Z"
   },
   {
    "duration": 13,
    "start_time": "2022-03-17T07:01:20.016Z"
   },
   {
    "duration": 15,
    "start_time": "2022-03-17T07:01:20.031Z"
   },
   {
    "duration": 38,
    "start_time": "2022-03-17T07:01:20.048Z"
   },
   {
    "duration": 11,
    "start_time": "2022-03-17T07:01:20.089Z"
   },
   {
    "duration": 27,
    "start_time": "2022-03-17T07:01:20.102Z"
   },
   {
    "duration": 10,
    "start_time": "2022-03-17T07:01:20.132Z"
   },
   {
    "duration": 15041,
    "start_time": "2022-03-17T07:01:20.144Z"
   },
   {
    "duration": 11,
    "start_time": "2022-03-17T07:01:35.193Z"
   },
   {
    "duration": 13,
    "start_time": "2022-03-17T07:01:35.206Z"
   },
   {
    "duration": 18,
    "start_time": "2022-03-17T07:01:35.221Z"
   },
   {
    "duration": 26,
    "start_time": "2022-03-17T07:01:35.241Z"
   },
   {
    "duration": 30,
    "start_time": "2022-03-17T07:01:35.270Z"
   },
   {
    "duration": 30,
    "start_time": "2022-03-17T07:01:35.303Z"
   },
   {
    "duration": 19,
    "start_time": "2022-03-17T07:01:35.335Z"
   },
   {
    "duration": 12,
    "start_time": "2022-03-17T07:01:35.356Z"
   },
   {
    "duration": 765,
    "start_time": "2022-03-17T07:01:35.372Z"
   },
   {
    "duration": 6,
    "start_time": "2022-03-17T07:01:36.140Z"
   },
   {
    "duration": 8,
    "start_time": "2022-03-17T07:01:36.149Z"
   },
   {
    "duration": 79,
    "start_time": "2022-03-17T07:01:36.159Z"
   },
   {
    "duration": 57,
    "start_time": "2022-03-17T07:01:36.242Z"
   },
   {
    "duration": 1129,
    "start_time": "2022-03-17T07:01:36.303Z"
   },
   {
    "duration": 267,
    "start_time": "2022-03-17T07:01:37.435Z"
   },
   {
    "duration": 11,
    "start_time": "2022-03-17T07:01:37.705Z"
   },
   {
    "duration": 12,
    "start_time": "2022-03-17T07:01:37.718Z"
   },
   {
    "duration": 1231,
    "start_time": "2022-03-17T07:01:37.733Z"
   },
   {
    "duration": 20,
    "start_time": "2022-03-17T07:01:38.967Z"
   },
   {
    "duration": 504,
    "start_time": "2022-03-17T07:01:38.989Z"
   },
   {
    "duration": 10,
    "start_time": "2022-03-17T07:01:39.496Z"
   },
   {
    "duration": 316,
    "start_time": "2022-03-17T07:01:39.508Z"
   },
   {
    "duration": 20,
    "start_time": "2022-03-17T07:01:39.827Z"
   },
   {
    "duration": 641,
    "start_time": "2022-03-17T07:01:39.849Z"
   },
   {
    "duration": 9,
    "start_time": "2022-03-17T07:03:03.651Z"
   },
   {
    "duration": 5,
    "start_time": "2022-03-17T07:03:09.386Z"
   },
   {
    "duration": 8,
    "start_time": "2022-03-17T07:03:09.756Z"
   },
   {
    "duration": 7,
    "start_time": "2022-03-17T07:03:15.754Z"
   },
   {
    "duration": 10,
    "start_time": "2022-03-17T07:03:16.708Z"
   },
   {
    "duration": 17,
    "start_time": "2022-03-17T07:03:17.444Z"
   },
   {
    "duration": 11,
    "start_time": "2022-03-17T07:03:19.196Z"
   },
   {
    "duration": 8,
    "start_time": "2022-03-17T07:03:19.963Z"
   },
   {
    "duration": 8,
    "start_time": "2022-03-17T07:03:20.699Z"
   },
   {
    "duration": 9,
    "start_time": "2022-03-17T07:03:20.995Z"
   },
   {
    "duration": 11,
    "start_time": "2022-03-17T07:03:22.843Z"
   },
   {
    "duration": 5,
    "start_time": "2022-03-17T07:03:23.547Z"
   },
   {
    "duration": 11,
    "start_time": "2022-03-17T07:03:25.035Z"
   },
   {
    "duration": 6,
    "start_time": "2022-03-17T07:03:27.763Z"
   },
   {
    "duration": 15083,
    "start_time": "2022-03-17T07:03:28.291Z"
   },
   {
    "duration": 6,
    "start_time": "2022-03-17T07:03:50.923Z"
   },
   {
    "duration": 148,
    "start_time": "2022-03-17T07:04:56.812Z"
   },
   {
    "duration": 6,
    "start_time": "2022-03-17T07:05:13.620Z"
   },
   {
    "duration": 8,
    "start_time": "2022-03-17T07:05:16.867Z"
   },
   {
    "duration": 6,
    "start_time": "2022-03-17T07:05:36.436Z"
   },
   {
    "duration": 8,
    "start_time": "2022-03-17T07:05:37.835Z"
   },
   {
    "duration": 6,
    "start_time": "2022-03-17T07:06:01.915Z"
   },
   {
    "duration": 30543,
    "start_time": "2022-03-17T07:06:19.642Z"
   },
   {
    "duration": 8,
    "start_time": "2022-03-17T07:06:58.506Z"
   },
   {
    "duration": 7,
    "start_time": "2022-03-17T07:07:22.210Z"
   },
   {
    "duration": 134,
    "start_time": "2022-03-17T07:07:26.618Z"
   },
   {
    "duration": 7,
    "start_time": "2022-03-17T07:07:27.593Z"
   },
   {
    "duration": 134,
    "start_time": "2022-03-17T07:07:29.074Z"
   },
   {
    "duration": 6,
    "start_time": "2022-03-17T07:07:29.369Z"
   },
   {
    "duration": 5,
    "start_time": "2022-03-17T07:07:57.570Z"
   },
   {
    "duration": 16011,
    "start_time": "2022-03-17T07:07:57.874Z"
   },
   {
    "duration": 7,
    "start_time": "2022-03-17T07:08:19.329Z"
   },
   {
    "duration": 6,
    "start_time": "2022-03-17T07:08:20.426Z"
   },
   {
    "duration": 6,
    "start_time": "2022-03-17T07:08:21.145Z"
   },
   {
    "duration": 7,
    "start_time": "2022-03-17T07:08:21.817Z"
   },
   {
    "duration": 6,
    "start_time": "2022-03-17T07:08:22.486Z"
   },
   {
    "duration": 7,
    "start_time": "2022-03-17T07:08:23.226Z"
   },
   {
    "duration": 14,
    "start_time": "2022-03-17T07:08:25.802Z"
   },
   {
    "duration": 13,
    "start_time": "2022-03-17T07:09:02.817Z"
   },
   {
    "duration": 62,
    "start_time": "2022-03-17T07:09:57.345Z"
   },
   {
    "duration": 20,
    "start_time": "2022-03-17T07:10:36.529Z"
   },
   {
    "duration": 9,
    "start_time": "2022-03-17T07:11:09.314Z"
   },
   {
    "duration": 5,
    "start_time": "2022-03-17T07:11:11.697Z"
   },
   {
    "duration": 16296,
    "start_time": "2022-03-17T07:11:12.906Z"
   },
   {
    "duration": 12,
    "start_time": "2022-03-17T07:11:45.937Z"
   },
   {
    "duration": 48,
    "start_time": "2022-03-17T07:13:10.384Z"
   },
   {
    "duration": 532,
    "start_time": "2022-03-17T07:13:56.401Z"
   },
   {
    "duration": 4,
    "start_time": "2022-03-17T07:13:57.863Z"
   },
   {
    "duration": 110,
    "start_time": "2022-03-17T07:13:59.392Z"
   },
   {
    "duration": 60,
    "start_time": "2022-03-17T07:13:59.793Z"
   },
   {
    "duration": 22,
    "start_time": "2022-03-17T07:14:02.192Z"
   },
   {
    "duration": 17,
    "start_time": "2022-03-17T07:14:02.408Z"
   },
   {
    "duration": 98,
    "start_time": "2022-03-17T07:14:04.145Z"
   },
   {
    "duration": 6,
    "start_time": "2022-03-17T07:14:06.750Z"
   },
   {
    "duration": 15,
    "start_time": "2022-03-17T07:14:08.543Z"
   },
   {
    "duration": 14,
    "start_time": "2022-03-17T07:14:09.879Z"
   },
   {
    "duration": 13,
    "start_time": "2022-03-17T07:14:10.680Z"
   },
   {
    "duration": 9,
    "start_time": "2022-03-17T07:14:12.016Z"
   },
   {
    "duration": 8,
    "start_time": "2022-03-17T07:14:20.808Z"
   },
   {
    "duration": 7,
    "start_time": "2022-03-17T07:14:21.303Z"
   },
   {
    "duration": 10,
    "start_time": "2022-03-17T07:14:23.056Z"
   },
   {
    "duration": 5,
    "start_time": "2022-03-17T07:14:23.295Z"
   },
   {
    "duration": 10,
    "start_time": "2022-03-17T07:14:24.564Z"
   },
   {
    "duration": 6,
    "start_time": "2022-03-17T07:14:27.672Z"
   },
   {
    "duration": 7,
    "start_time": "2022-03-17T07:14:28.390Z"
   },
   {
    "duration": 5,
    "start_time": "2022-03-17T07:14:36.024Z"
   },
   {
    "duration": 13727,
    "start_time": "2022-03-17T07:14:38.879Z"
   },
   {
    "duration": 12,
    "start_time": "2022-03-17T07:14:52.608Z"
   },
   {
    "duration": 6,
    "start_time": "2022-03-17T07:15:04.312Z"
   },
   {
    "duration": 16,
    "start_time": "2022-03-17T07:15:15.705Z"
   },
   {
    "duration": 12,
    "start_time": "2022-03-17T07:15:16.446Z"
   },
   {
    "duration": 31,
    "start_time": "2022-03-17T07:15:23.256Z"
   },
   {
    "duration": 8,
    "start_time": "2022-03-17T07:16:12.809Z"
   },
   {
    "duration": 9,
    "start_time": "2022-03-17T07:16:21.039Z"
   },
   {
    "duration": 9,
    "start_time": "2022-03-17T07:17:15.550Z"
   },
   {
    "duration": 6,
    "start_time": "2022-03-17T07:17:30.343Z"
   },
   {
    "duration": 33,
    "start_time": "2022-03-17T07:17:46.454Z"
   },
   {
    "duration": 9,
    "start_time": "2022-03-17T07:17:56.262Z"
   },
   {
    "duration": 145,
    "start_time": "2022-03-17T07:18:11.350Z"
   },
   {
    "duration": 9,
    "start_time": "2022-03-17T07:18:15.734Z"
   },
   {
    "duration": 9,
    "start_time": "2022-03-17T07:18:37.502Z"
   },
   {
    "duration": 9,
    "start_time": "2022-03-17T07:18:47.574Z"
   },
   {
    "duration": 6,
    "start_time": "2022-03-17T07:18:52.702Z"
   },
   {
    "duration": 10,
    "start_time": "2022-03-17T07:18:53.222Z"
   },
   {
    "duration": 7,
    "start_time": "2022-03-17T07:19:43.902Z"
   },
   {
    "duration": 18,
    "start_time": "2022-03-17T07:19:45.701Z"
   },
   {
    "duration": 6,
    "start_time": "2022-03-17T07:20:01.588Z"
   },
   {
    "duration": 7,
    "start_time": "2022-03-17T07:20:20.405Z"
   },
   {
    "duration": 102,
    "start_time": "2022-03-17T07:20:22.693Z"
   },
   {
    "duration": 6,
    "start_time": "2022-03-17T07:20:48.509Z"
   },
   {
    "duration": 17,
    "start_time": "2022-03-17T07:20:49.677Z"
   },
   {
    "duration": 6,
    "start_time": "2022-03-17T07:21:10.246Z"
   },
   {
    "duration": 5,
    "start_time": "2022-03-17T07:21:21.584Z"
   },
   {
    "duration": 152,
    "start_time": "2022-03-17T07:21:29.039Z"
   },
   {
    "duration": 6,
    "start_time": "2022-03-17T07:21:33.604Z"
   },
   {
    "duration": 5,
    "start_time": "2022-03-17T07:21:42.461Z"
   },
   {
    "duration": 6,
    "start_time": "2022-03-17T07:23:13.896Z"
   },
   {
    "duration": 18,
    "start_time": "2022-03-17T07:23:17.805Z"
   },
   {
    "duration": 5,
    "start_time": "2022-03-17T07:25:32.652Z"
   },
   {
    "duration": 18,
    "start_time": "2022-03-17T07:25:34.243Z"
   },
   {
    "duration": 7,
    "start_time": "2022-03-17T07:26:23.132Z"
   },
   {
    "duration": 21,
    "start_time": "2022-03-17T07:26:24.731Z"
   },
   {
    "duration": 6,
    "start_time": "2022-03-17T07:26:42.948Z"
   },
   {
    "duration": 23,
    "start_time": "2022-03-17T07:26:45.491Z"
   },
   {
    "duration": 12,
    "start_time": "2022-03-17T07:26:48.467Z"
   },
   {
    "duration": 7,
    "start_time": "2022-03-17T07:27:23.844Z"
   },
   {
    "duration": 9,
    "start_time": "2022-03-17T07:27:25.642Z"
   },
   {
    "duration": 6,
    "start_time": "2022-03-17T07:27:45.244Z"
   },
   {
    "duration": 6,
    "start_time": "2022-03-17T07:27:46.195Z"
   },
   {
    "duration": 15404,
    "start_time": "2022-03-17T07:27:47.035Z"
   },
   {
    "duration": 11,
    "start_time": "2022-03-17T07:28:17.034Z"
   },
   {
    "duration": 4,
    "start_time": "2022-03-17T07:28:40.571Z"
   },
   {
    "duration": 5,
    "start_time": "2022-03-17T07:28:42.123Z"
   },
   {
    "duration": 14962,
    "start_time": "2022-03-17T07:28:44.947Z"
   },
   {
    "duration": 6,
    "start_time": "2022-03-17T07:33:23.418Z"
   },
   {
    "duration": 9,
    "start_time": "2022-03-17T07:33:27.184Z"
   },
   {
    "duration": 5,
    "start_time": "2022-03-17T07:33:28.304Z"
   },
   {
    "duration": 65,
    "start_time": "2022-03-17T07:33:29.097Z"
   },
   {
    "duration": 4,
    "start_time": "2022-03-17T07:33:47.937Z"
   },
   {
    "duration": 14254,
    "start_time": "2022-03-17T07:33:53.825Z"
   },
   {
    "duration": 11,
    "start_time": "2022-03-17T07:34:15.209Z"
   },
   {
    "duration": 9,
    "start_time": "2022-03-17T07:35:12.367Z"
   },
   {
    "duration": 515,
    "start_time": "2022-03-17T07:35:26.663Z"
   },
   {
    "duration": 5,
    "start_time": "2022-03-17T07:35:27.183Z"
   },
   {
    "duration": 108,
    "start_time": "2022-03-17T07:35:27.871Z"
   },
   {
    "duration": 62,
    "start_time": "2022-03-17T07:35:28.072Z"
   },
   {
    "duration": 22,
    "start_time": "2022-03-17T07:35:29.824Z"
   },
   {
    "duration": 12,
    "start_time": "2022-03-17T07:35:31.304Z"
   },
   {
    "duration": 161,
    "start_time": "2022-03-17T07:35:31.509Z"
   },
   {
    "duration": 7,
    "start_time": "2022-03-17T07:35:34.360Z"
   },
   {
    "duration": 19,
    "start_time": "2022-03-17T07:35:36.368Z"
   },
   {
    "duration": 22,
    "start_time": "2022-03-17T07:35:37.399Z"
   },
   {
    "duration": 13,
    "start_time": "2022-03-17T07:35:38.127Z"
   },
   {
    "duration": 8,
    "start_time": "2022-03-17T07:35:54.983Z"
   },
   {
    "duration": 7,
    "start_time": "2022-03-17T07:35:55.223Z"
   },
   {
    "duration": 10,
    "start_time": "2022-03-17T07:35:55.480Z"
   },
   {
    "duration": 11,
    "start_time": "2022-03-17T07:35:57.480Z"
   },
   {
    "duration": 4,
    "start_time": "2022-03-17T07:35:57.687Z"
   },
   {
    "duration": 11,
    "start_time": "2022-03-17T07:35:58.656Z"
   },
   {
    "duration": 7,
    "start_time": "2022-03-17T07:36:00.336Z"
   },
   {
    "duration": 13543,
    "start_time": "2022-03-17T07:36:00.703Z"
   },
   {
    "duration": 14,
    "start_time": "2022-03-17T07:36:18.943Z"
   },
   {
    "duration": 6,
    "start_time": "2022-03-17T07:36:21.496Z"
   },
   {
    "duration": 12,
    "start_time": "2022-03-17T07:36:22.423Z"
   },
   {
    "duration": 10,
    "start_time": "2022-03-17T07:36:24.583Z"
   },
   {
    "duration": 8,
    "start_time": "2022-03-17T07:36:25.110Z"
   },
   {
    "duration": 8,
    "start_time": "2022-03-17T07:36:25.495Z"
   },
   {
    "duration": 7,
    "start_time": "2022-03-17T07:36:25.839Z"
   },
   {
    "duration": 4,
    "start_time": "2022-03-17T07:36:26.196Z"
   },
   {
    "duration": 711,
    "start_time": "2022-03-17T07:36:26.367Z"
   },
   {
    "duration": 7,
    "start_time": "2022-03-17T07:36:28.479Z"
   },
   {
    "duration": 7,
    "start_time": "2022-03-17T07:36:29.478Z"
   },
   {
    "duration": 75,
    "start_time": "2022-03-17T07:36:29.488Z"
   },
   {
    "duration": 689,
    "start_time": "2022-03-17T07:36:44.639Z"
   },
   {
    "duration": 220,
    "start_time": "2022-03-17T07:36:47.855Z"
   },
   {
    "duration": 15,
    "start_time": "2022-03-17T07:36:49.895Z"
   },
   {
    "duration": 10,
    "start_time": "2022-03-17T07:36:52.655Z"
   },
   {
    "duration": 1214,
    "start_time": "2022-03-17T07:36:53.215Z"
   },
   {
    "duration": 9,
    "start_time": "2022-03-17T07:36:56.871Z"
   },
   {
    "duration": 418,
    "start_time": "2022-03-17T07:36:57.583Z"
   },
   {
    "duration": 10,
    "start_time": "2022-03-17T07:37:28.008Z"
   },
   {
    "duration": 209,
    "start_time": "2022-03-17T07:37:28.239Z"
   },
   {
    "duration": 36,
    "start_time": "2022-03-17T07:37:40.927Z"
   },
   {
    "duration": 61,
    "start_time": "2022-03-17T07:37:55.599Z"
   },
   {
    "duration": 156,
    "start_time": "2022-03-17T07:38:06.697Z"
   },
   {
    "duration": 56,
    "start_time": "2022-03-17T07:38:13.615Z"
   },
   {
    "duration": 9,
    "start_time": "2022-03-17T07:39:24.335Z"
   },
   {
    "duration": 536,
    "start_time": "2022-03-17T07:39:25.799Z"
   },
   {
    "duration": 562,
    "start_time": "2022-03-17T07:40:05.623Z"
   },
   {
    "duration": 624,
    "start_time": "2022-03-17T07:40:12.488Z"
   },
   {
    "duration": 859,
    "start_time": "2022-03-17T07:40:40.606Z"
   },
   {
    "duration": 685,
    "start_time": "2022-03-17T07:40:57.575Z"
   },
   {
    "duration": 12,
    "start_time": "2022-03-17T07:41:59.950Z"
   },
   {
    "duration": 608,
    "start_time": "2022-03-17T07:42:38.806Z"
   },
   {
    "duration": 13,
    "start_time": "2022-03-17T07:43:20.638Z"
   },
   {
    "duration": 1142,
    "start_time": "2022-03-17T07:43:26.527Z"
   },
   {
    "duration": 13,
    "start_time": "2022-03-17T07:43:30.190Z"
   },
   {
    "duration": 223,
    "start_time": "2022-03-17T07:44:54.189Z"
   },
   {
    "duration": 500,
    "start_time": "2022-03-17T07:45:08.957Z"
   },
   {
    "duration": 1059,
    "start_time": "2022-03-17T07:45:19.045Z"
   },
   {
    "duration": 11,
    "start_time": "2022-03-17T07:45:36.990Z"
   },
   {
    "duration": 1251,
    "start_time": "2022-03-17T07:46:01.854Z"
   },
   {
    "duration": 17,
    "start_time": "2022-03-17T07:46:12.805Z"
   },
   {
    "duration": 784,
    "start_time": "2022-03-17T07:46:41.862Z"
   },
   {
    "duration": 611,
    "start_time": "2022-03-17T07:46:49.340Z"
   },
   {
    "duration": 593,
    "start_time": "2022-03-17T07:47:53.884Z"
   },
   {
    "duration": 9,
    "start_time": "2022-03-17T07:48:34.099Z"
   },
   {
    "duration": 884,
    "start_time": "2022-03-17T07:48:42.020Z"
   },
   {
    "duration": 2941,
    "start_time": "2022-03-17T07:48:56.773Z"
   },
   {
    "duration": 106,
    "start_time": "2022-03-17T07:49:06.068Z"
   },
   {
    "duration": 224,
    "start_time": "2022-03-17T07:49:10.341Z"
   },
   {
    "duration": 803,
    "start_time": "2022-03-17T07:49:32.147Z"
   },
   {
    "duration": 12,
    "start_time": "2022-03-17T07:50:23.723Z"
   },
   {
    "duration": 10,
    "start_time": "2022-03-17T07:50:36.180Z"
   },
   {
    "duration": 10,
    "start_time": "2022-03-17T07:50:46.371Z"
   },
   {
    "duration": 65,
    "start_time": "2022-03-17T07:51:13.675Z"
   },
   {
    "duration": 1395,
    "start_time": "2022-03-17T07:52:15.974Z"
   },
   {
    "duration": 546,
    "start_time": "2022-03-17T07:52:26.275Z"
   },
   {
    "duration": 671,
    "start_time": "2022-03-17T07:52:36.874Z"
   },
   {
    "duration": 361,
    "start_time": "2022-03-17T07:53:06.675Z"
   },
   {
    "duration": 403,
    "start_time": "2022-03-17T07:53:17.282Z"
   },
   {
    "duration": 13,
    "start_time": "2022-03-17T07:53:30.514Z"
   },
   {
    "duration": 94,
    "start_time": "2022-03-17T07:56:43.098Z"
   },
   {
    "duration": 18,
    "start_time": "2022-03-17T07:59:21.762Z"
   },
   {
    "duration": 14,
    "start_time": "2022-03-17T08:00:03.953Z"
   },
   {
    "duration": 17,
    "start_time": "2022-03-17T08:00:08.289Z"
   },
   {
    "duration": 13,
    "start_time": "2022-03-17T08:02:54.248Z"
   },
   {
    "duration": 12,
    "start_time": "2022-03-17T08:03:13.425Z"
   },
   {
    "duration": 42,
    "start_time": "2022-03-17T08:04:59.257Z"
   },
   {
    "duration": 184,
    "start_time": "2022-03-17T08:05:39.679Z"
   },
   {
    "duration": 9,
    "start_time": "2022-03-17T08:05:56.784Z"
   },
   {
    "duration": 273,
    "start_time": "2022-03-17T08:07:07.559Z"
   },
   {
    "duration": 43,
    "start_time": "2022-03-17T08:29:58.545Z"
   },
   {
    "duration": 46,
    "start_time": "2022-03-17T08:31:30.784Z"
   },
   {
    "duration": 4602,
    "start_time": "2022-03-17T08:33:29.847Z"
   },
   {
    "duration": 37,
    "start_time": "2022-03-17T08:36:49.853Z"
   },
   {
    "duration": 5,
    "start_time": "2022-03-17T08:37:49.662Z"
   },
   {
    "duration": 4415,
    "start_time": "2022-03-17T08:37:51.751Z"
   },
   {
    "duration": 4157,
    "start_time": "2022-03-17T08:38:08.302Z"
   },
   {
    "duration": 12,
    "start_time": "2022-03-17T08:38:35.886Z"
   },
   {
    "duration": 5,
    "start_time": "2022-03-17T08:38:41.860Z"
   },
   {
    "duration": 34,
    "start_time": "2022-03-17T08:38:43.692Z"
   },
   {
    "duration": 4,
    "start_time": "2022-03-17T08:38:43.997Z"
   },
   {
    "duration": 10,
    "start_time": "2022-03-17T08:38:44.467Z"
   },
   {
    "duration": 5032,
    "start_time": "2022-03-17T08:38:48.093Z"
   },
   {
    "duration": 4743,
    "start_time": "2022-03-17T08:39:01.149Z"
   },
   {
    "duration": 6,
    "start_time": "2022-03-17T08:39:15.182Z"
   },
   {
    "duration": 249,
    "start_time": "2022-03-17T08:39:35.638Z"
   },
   {
    "duration": 206,
    "start_time": "2022-03-17T08:40:07.366Z"
   },
   {
    "duration": 255,
    "start_time": "2022-03-17T08:40:47.742Z"
   },
   {
    "duration": 11,
    "start_time": "2022-03-17T08:41:20.734Z"
   },
   {
    "duration": 52,
    "start_time": "2022-03-17T08:41:29.941Z"
   },
   {
    "duration": 5,
    "start_time": "2022-03-17T08:41:35.356Z"
   },
   {
    "duration": 11,
    "start_time": "2022-03-17T08:41:36.027Z"
   },
   {
    "duration": 185,
    "start_time": "2022-03-17T08:42:37.821Z"
   },
   {
    "duration": 14,
    "start_time": "2022-03-17T08:43:14.204Z"
   },
   {
    "duration": 38,
    "start_time": "2022-03-17T08:43:28.036Z"
   },
   {
    "duration": 5,
    "start_time": "2022-03-17T08:43:28.493Z"
   },
   {
    "duration": 15,
    "start_time": "2022-03-17T08:43:28.948Z"
   },
   {
    "duration": 16,
    "start_time": "2022-03-17T08:45:53.052Z"
   },
   {
    "duration": 17,
    "start_time": "2022-03-17T08:46:20.572Z"
   },
   {
    "duration": 18,
    "start_time": "2022-03-17T08:49:39.691Z"
   },
   {
    "duration": 13,
    "start_time": "2022-03-17T08:49:49.637Z"
   },
   {
    "duration": 15,
    "start_time": "2022-03-17T08:50:08.002Z"
   },
   {
    "duration": 12,
    "start_time": "2022-03-17T08:50:12.862Z"
   },
   {
    "duration": 9,
    "start_time": "2022-03-17T08:50:32.178Z"
   },
   {
    "duration": 7,
    "start_time": "2022-03-17T08:50:37.113Z"
   },
   {
    "duration": 6,
    "start_time": "2022-03-17T08:50:53.850Z"
   },
   {
    "duration": 9,
    "start_time": "2022-03-17T08:55:35.576Z"
   },
   {
    "duration": 7,
    "start_time": "2022-03-17T08:55:41.768Z"
   },
   {
    "duration": 14,
    "start_time": "2022-03-17T08:56:47.257Z"
   },
   {
    "duration": 12,
    "start_time": "2022-03-17T08:57:09.833Z"
   },
   {
    "duration": 63,
    "start_time": "2022-03-17T08:57:22.081Z"
   },
   {
    "duration": 14,
    "start_time": "2022-03-17T08:57:28.215Z"
   },
   {
    "duration": 16,
    "start_time": "2022-03-17T08:57:44.855Z"
   },
   {
    "duration": 18,
    "start_time": "2022-03-17T08:57:59.927Z"
   },
   {
    "duration": 67,
    "start_time": "2022-03-17T09:01:30.336Z"
   },
   {
    "duration": 15,
    "start_time": "2022-03-17T09:02:51.391Z"
   },
   {
    "duration": 14,
    "start_time": "2022-03-17T09:03:06.967Z"
   },
   {
    "duration": 82,
    "start_time": "2022-03-17T09:03:08.222Z"
   },
   {
    "duration": 21,
    "start_time": "2022-03-17T09:05:54.070Z"
   },
   {
    "duration": 90,
    "start_time": "2022-03-17T09:05:59.679Z"
   },
   {
    "duration": 11,
    "start_time": "2022-03-17T09:07:34.053Z"
   },
   {
    "duration": 78,
    "start_time": "2022-03-17T09:07:36.574Z"
   },
   {
    "duration": 27,
    "start_time": "2022-03-17T09:08:30.150Z"
   },
   {
    "duration": 69,
    "start_time": "2022-03-17T09:08:32.702Z"
   },
   {
    "duration": 95,
    "start_time": "2022-03-17T09:09:09.261Z"
   },
   {
    "duration": 570,
    "start_time": "2022-03-17T09:09:18.437Z"
   },
   {
    "duration": 4,
    "start_time": "2022-03-17T09:09:19.010Z"
   },
   {
    "duration": 162,
    "start_time": "2022-03-17T09:09:19.017Z"
   },
   {
    "duration": 66,
    "start_time": "2022-03-17T09:09:19.181Z"
   },
   {
    "duration": 44,
    "start_time": "2022-03-17T09:09:19.250Z"
   },
   {
    "duration": 18,
    "start_time": "2022-03-17T09:09:19.296Z"
   },
   {
    "duration": 163,
    "start_time": "2022-03-17T09:09:19.317Z"
   },
   {
    "duration": 6,
    "start_time": "2022-03-17T09:09:19.483Z"
   },
   {
    "duration": 48,
    "start_time": "2022-03-17T09:09:19.491Z"
   },
   {
    "duration": 17,
    "start_time": "2022-03-17T09:09:19.542Z"
   },
   {
    "duration": 14,
    "start_time": "2022-03-17T09:09:19.562Z"
   },
   {
    "duration": 26,
    "start_time": "2022-03-17T09:09:19.578Z"
   },
   {
    "duration": 26,
    "start_time": "2022-03-17T09:09:19.606Z"
   },
   {
    "duration": 28,
    "start_time": "2022-03-17T09:09:19.639Z"
   },
   {
    "duration": 22,
    "start_time": "2022-03-17T09:09:19.670Z"
   },
   {
    "duration": 9,
    "start_time": "2022-03-17T09:09:19.694Z"
   },
   {
    "duration": 17,
    "start_time": "2022-03-17T09:09:19.706Z"
   },
   {
    "duration": 25,
    "start_time": "2022-03-17T09:09:19.726Z"
   },
   {
    "duration": 14159,
    "start_time": "2022-03-17T09:09:19.754Z"
   },
   {
    "duration": 11,
    "start_time": "2022-03-17T09:09:33.915Z"
   },
   {
    "duration": 10,
    "start_time": "2022-03-17T09:09:33.928Z"
   },
   {
    "duration": 19,
    "start_time": "2022-03-17T09:09:33.941Z"
   },
   {
    "duration": 21,
    "start_time": "2022-03-17T09:09:33.962Z"
   },
   {
    "duration": 11,
    "start_time": "2022-03-17T09:09:33.985Z"
   },
   {
    "duration": 7,
    "start_time": "2022-03-17T09:09:33.998Z"
   },
   {
    "duration": 7,
    "start_time": "2022-03-17T09:09:34.008Z"
   },
   {
    "duration": 7,
    "start_time": "2022-03-17T09:09:34.017Z"
   },
   {
    "duration": 756,
    "start_time": "2022-03-17T09:09:34.026Z"
   },
   {
    "duration": 6,
    "start_time": "2022-03-17T09:09:34.785Z"
   },
   {
    "duration": 29,
    "start_time": "2022-03-17T09:09:34.793Z"
   },
   {
    "duration": 74,
    "start_time": "2022-03-17T09:09:34.825Z"
   },
   {
    "duration": 45,
    "start_time": "2022-03-17T09:09:34.901Z"
   },
   {
    "duration": 1010,
    "start_time": "2022-03-17T09:09:34.948Z"
   },
   {
    "duration": 278,
    "start_time": "2022-03-17T09:09:35.960Z"
   },
   {
    "duration": 12,
    "start_time": "2022-03-17T09:09:36.242Z"
   },
   {
    "duration": 31,
    "start_time": "2022-03-17T09:09:36.257Z"
   },
   {
    "duration": 1316,
    "start_time": "2022-03-17T09:09:36.291Z"
   },
   {
    "duration": 10,
    "start_time": "2022-03-17T09:09:37.610Z"
   },
   {
    "duration": 474,
    "start_time": "2022-03-17T09:09:37.623Z"
   },
   {
    "duration": 10,
    "start_time": "2022-03-17T09:09:38.100Z"
   },
   {
    "duration": 258,
    "start_time": "2022-03-17T09:09:38.116Z"
   },
   {
    "duration": 13,
    "start_time": "2022-03-17T09:09:38.376Z"
   },
   {
    "duration": 710,
    "start_time": "2022-03-17T09:09:38.392Z"
   },
   {
    "duration": 679,
    "start_time": "2022-03-17T09:09:39.104Z"
   },
   {
    "duration": 9,
    "start_time": "2022-03-17T09:09:39.786Z"
   },
   {
    "duration": 40,
    "start_time": "2022-03-17T09:09:39.798Z"
   },
   {
    "duration": 1004,
    "start_time": "2022-03-17T09:09:39.840Z"
   },
   {
    "duration": 548,
    "start_time": "2022-03-17T09:09:40.850Z"
   },
   {
    "duration": 11,
    "start_time": "2022-03-17T09:09:41.401Z"
   },
   {
    "duration": 58,
    "start_time": "2022-03-17T09:09:41.415Z"
   },
   {
    "duration": 32,
    "start_time": "2022-03-17T09:09:41.477Z"
   },
   {
    "duration": 65,
    "start_time": "2022-03-17T09:09:41.512Z"
   },
   {
    "duration": 26,
    "start_time": "2022-03-17T09:09:41.579Z"
   },
   {
    "duration": 29,
    "start_time": "2022-03-17T09:09:41.608Z"
   },
   {
    "duration": 69,
    "start_time": "2022-03-17T09:09:41.640Z"
   },
   {
    "duration": 38,
    "start_time": "2022-03-17T09:09:41.712Z"
   },
   {
    "duration": 25,
    "start_time": "2022-03-17T09:09:41.753Z"
   },
   {
    "duration": 71,
    "start_time": "2022-03-17T09:09:41.780Z"
   },
   {
    "duration": 81,
    "start_time": "2022-03-17T09:09:41.853Z"
   },
   {
    "duration": 48,
    "start_time": "2022-03-17T09:09:41.937Z"
   },
   {
    "duration": 66,
    "start_time": "2022-03-17T09:09:56.774Z"
   },
   {
    "duration": 25,
    "start_time": "2022-03-17T09:10:18.860Z"
   },
   {
    "duration": 70,
    "start_time": "2022-03-17T09:10:20.829Z"
   },
   {
    "duration": 13,
    "start_time": "2022-03-17T09:10:44.707Z"
   },
   {
    "duration": 14,
    "start_time": "2022-03-17T09:11:28.453Z"
   },
   {
    "duration": 64,
    "start_time": "2022-03-17T09:11:29.558Z"
   },
   {
    "duration": 114,
    "start_time": "2022-03-17T09:12:17.581Z"
   },
   {
    "duration": 14,
    "start_time": "2022-03-17T09:12:44.076Z"
   },
   {
    "duration": 78,
    "start_time": "2022-03-17T09:14:18.103Z"
   },
   {
    "duration": 491,
    "start_time": "2022-03-17T09:14:22.898Z"
   },
   {
    "duration": 4,
    "start_time": "2022-03-17T09:14:23.393Z"
   },
   {
    "duration": 130,
    "start_time": "2022-03-17T09:14:23.399Z"
   },
   {
    "duration": 74,
    "start_time": "2022-03-17T09:14:23.531Z"
   },
   {
    "duration": 22,
    "start_time": "2022-03-17T09:14:23.608Z"
   },
   {
    "duration": 13,
    "start_time": "2022-03-17T09:14:23.633Z"
   },
   {
    "duration": 145,
    "start_time": "2022-03-17T09:14:23.648Z"
   },
   {
    "duration": 5,
    "start_time": "2022-03-17T09:14:23.795Z"
   },
   {
    "duration": 17,
    "start_time": "2022-03-17T09:14:23.803Z"
   },
   {
    "duration": 15,
    "start_time": "2022-03-17T09:14:23.822Z"
   },
   {
    "duration": 43,
    "start_time": "2022-03-17T09:14:23.839Z"
   },
   {
    "duration": 8,
    "start_time": "2022-03-17T09:14:23.885Z"
   },
   {
    "duration": 9,
    "start_time": "2022-03-17T09:14:23.896Z"
   },
   {
    "duration": 7,
    "start_time": "2022-03-17T09:14:23.910Z"
   },
   {
    "duration": 23,
    "start_time": "2022-03-17T09:14:23.920Z"
   },
   {
    "duration": 42,
    "start_time": "2022-03-17T09:14:23.946Z"
   },
   {
    "duration": 15,
    "start_time": "2022-03-17T09:14:23.991Z"
   },
   {
    "duration": 14,
    "start_time": "2022-03-17T09:14:24.009Z"
   },
   {
    "duration": 14738,
    "start_time": "2022-03-17T09:14:24.026Z"
   },
   {
    "duration": 17,
    "start_time": "2022-03-17T09:14:38.766Z"
   },
   {
    "duration": 6,
    "start_time": "2022-03-17T09:14:38.786Z"
   },
   {
    "duration": 13,
    "start_time": "2022-03-17T09:14:38.794Z"
   },
   {
    "duration": 6,
    "start_time": "2022-03-17T09:14:38.809Z"
   },
   {
    "duration": 8,
    "start_time": "2022-03-17T09:14:38.816Z"
   },
   {
    "duration": 8,
    "start_time": "2022-03-17T09:14:38.826Z"
   },
   {
    "duration": 49,
    "start_time": "2022-03-17T09:14:38.836Z"
   },
   {
    "duration": 4,
    "start_time": "2022-03-17T09:14:38.887Z"
   },
   {
    "duration": 719,
    "start_time": "2022-03-17T09:14:38.894Z"
   },
   {
    "duration": 7,
    "start_time": "2022-03-17T09:14:39.615Z"
   },
   {
    "duration": 10,
    "start_time": "2022-03-17T09:14:39.624Z"
   },
   {
    "duration": 75,
    "start_time": "2022-03-17T09:14:39.637Z"
   },
   {
    "duration": 32,
    "start_time": "2022-03-17T09:14:39.715Z"
   },
   {
    "duration": 707,
    "start_time": "2022-03-17T09:14:39.750Z"
   },
   {
    "duration": 246,
    "start_time": "2022-03-17T09:14:40.460Z"
   },
   {
    "duration": 11,
    "start_time": "2022-03-17T09:14:40.709Z"
   },
   {
    "duration": 33,
    "start_time": "2022-03-17T09:14:40.723Z"
   },
   {
    "duration": 1313,
    "start_time": "2022-03-17T09:14:40.759Z"
   },
   {
    "duration": 14,
    "start_time": "2022-03-17T09:14:42.075Z"
   },
   {
    "duration": 420,
    "start_time": "2022-03-17T09:14:42.092Z"
   },
   {
    "duration": 12,
    "start_time": "2022-03-17T09:14:42.515Z"
   },
   {
    "duration": 243,
    "start_time": "2022-03-17T09:14:42.535Z"
   },
   {
    "duration": 11,
    "start_time": "2022-03-17T09:14:42.783Z"
   },
   {
    "duration": 730,
    "start_time": "2022-03-17T09:14:42.797Z"
   },
   {
    "duration": 697,
    "start_time": "2022-03-17T09:14:43.529Z"
   },
   {
    "duration": 11,
    "start_time": "2022-03-17T09:14:44.230Z"
   },
   {
    "duration": 10,
    "start_time": "2022-03-17T09:14:44.243Z"
   },
   {
    "duration": 967,
    "start_time": "2022-03-17T09:14:44.256Z"
   },
   {
    "duration": 781,
    "start_time": "2022-03-17T09:14:45.226Z"
   },
   {
    "duration": 14,
    "start_time": "2022-03-17T09:14:46.010Z"
   },
   {
    "duration": 21,
    "start_time": "2022-03-17T09:14:46.028Z"
   },
   {
    "duration": 35,
    "start_time": "2022-03-17T09:14:46.051Z"
   },
   {
    "duration": 40,
    "start_time": "2022-03-17T09:14:46.088Z"
   },
   {
    "duration": 4,
    "start_time": "2022-03-17T09:14:46.130Z"
   },
   {
    "duration": 52,
    "start_time": "2022-03-17T09:14:46.137Z"
   },
   {
    "duration": 25,
    "start_time": "2022-03-17T09:14:46.192Z"
   },
   {
    "duration": 11,
    "start_time": "2022-03-17T09:14:46.220Z"
   },
   {
    "duration": 8,
    "start_time": "2022-03-17T09:14:46.234Z"
   },
   {
    "duration": 49,
    "start_time": "2022-03-17T09:14:46.246Z"
   },
   {
    "duration": 66,
    "start_time": "2022-03-17T09:14:46.297Z"
   },
   {
    "duration": 11,
    "start_time": "2022-03-17T09:14:46.383Z"
   },
   {
    "duration": 68,
    "start_time": "2022-03-17T09:14:51.085Z"
   },
   {
    "duration": 12,
    "start_time": "2022-03-17T09:17:27.844Z"
   },
   {
    "duration": 74,
    "start_time": "2022-03-17T09:18:09.342Z"
   },
   {
    "duration": 18,
    "start_time": "2022-03-17T09:18:21.371Z"
   },
   {
    "duration": 7,
    "start_time": "2022-03-17T09:18:32.604Z"
   },
   {
    "duration": 65,
    "start_time": "2022-03-17T09:18:35.524Z"
   },
   {
    "duration": 632,
    "start_time": "2022-03-17T09:19:06.664Z"
   },
   {
    "duration": 4,
    "start_time": "2022-03-17T09:19:07.299Z"
   },
   {
    "duration": 153,
    "start_time": "2022-03-17T09:19:07.307Z"
   },
   {
    "duration": 68,
    "start_time": "2022-03-17T09:19:07.463Z"
   },
   {
    "duration": 51,
    "start_time": "2022-03-17T09:19:07.536Z"
   },
   {
    "duration": 14,
    "start_time": "2022-03-17T09:19:07.589Z"
   },
   {
    "duration": 136,
    "start_time": "2022-03-17T09:19:07.606Z"
   },
   {
    "duration": 5,
    "start_time": "2022-03-17T09:19:07.745Z"
   },
   {
    "duration": 34,
    "start_time": "2022-03-17T09:19:07.753Z"
   },
   {
    "duration": 17,
    "start_time": "2022-03-17T09:19:07.790Z"
   },
   {
    "duration": 24,
    "start_time": "2022-03-17T09:19:07.809Z"
   },
   {
    "duration": 22,
    "start_time": "2022-03-17T09:19:07.835Z"
   },
   {
    "duration": 16,
    "start_time": "2022-03-17T09:19:07.860Z"
   },
   {
    "duration": 16,
    "start_time": "2022-03-17T09:19:07.883Z"
   },
   {
    "duration": 18,
    "start_time": "2022-03-17T09:19:07.901Z"
   },
   {
    "duration": 22,
    "start_time": "2022-03-17T09:19:07.922Z"
   },
   {
    "duration": 15,
    "start_time": "2022-03-17T09:19:07.947Z"
   },
   {
    "duration": 16,
    "start_time": "2022-03-17T09:19:07.964Z"
   },
   {
    "duration": 13810,
    "start_time": "2022-03-17T09:19:07.982Z"
   },
   {
    "duration": 10,
    "start_time": "2022-03-17T09:19:21.795Z"
   },
   {
    "duration": 6,
    "start_time": "2022-03-17T09:19:21.808Z"
   },
   {
    "duration": 13,
    "start_time": "2022-03-17T09:19:21.815Z"
   },
   {
    "duration": 11,
    "start_time": "2022-03-17T09:19:21.830Z"
   },
   {
    "duration": 41,
    "start_time": "2022-03-17T09:19:21.844Z"
   },
   {
    "duration": 9,
    "start_time": "2022-03-17T09:19:21.887Z"
   },
   {
    "duration": 9,
    "start_time": "2022-03-17T09:19:21.898Z"
   },
   {
    "duration": 5,
    "start_time": "2022-03-17T09:19:21.909Z"
   },
   {
    "duration": 856,
    "start_time": "2022-03-17T09:19:21.916Z"
   },
   {
    "duration": 11,
    "start_time": "2022-03-17T09:19:22.775Z"
   },
   {
    "duration": 10,
    "start_time": "2022-03-17T09:19:22.788Z"
   },
   {
    "duration": 87,
    "start_time": "2022-03-17T09:19:22.800Z"
   },
   {
    "duration": 43,
    "start_time": "2022-03-17T09:19:22.889Z"
   },
   {
    "duration": 868,
    "start_time": "2022-03-17T09:19:22.936Z"
   },
   {
    "duration": 270,
    "start_time": "2022-03-17T09:19:23.806Z"
   },
   {
    "duration": 10,
    "start_time": "2022-03-17T09:19:24.083Z"
   },
   {
    "duration": 10,
    "start_time": "2022-03-17T09:19:24.098Z"
   },
   {
    "duration": 1287,
    "start_time": "2022-03-17T09:19:24.110Z"
   },
   {
    "duration": 10,
    "start_time": "2022-03-17T09:19:25.399Z"
   },
   {
    "duration": 424,
    "start_time": "2022-03-17T09:19:25.412Z"
   },
   {
    "duration": 12,
    "start_time": "2022-03-17T09:19:25.839Z"
   },
   {
    "duration": 261,
    "start_time": "2022-03-17T09:19:25.860Z"
   },
   {
    "duration": 10,
    "start_time": "2022-03-17T09:19:26.123Z"
   },
   {
    "duration": 666,
    "start_time": "2022-03-17T09:19:26.136Z"
   },
   {
    "duration": 685,
    "start_time": "2022-03-17T09:19:26.804Z"
   },
   {
    "duration": 11,
    "start_time": "2022-03-17T09:19:27.492Z"
   },
   {
    "duration": 23,
    "start_time": "2022-03-17T09:19:27.505Z"
   },
   {
    "duration": 827,
    "start_time": "2022-03-17T09:19:27.531Z"
   },
   {
    "duration": 470,
    "start_time": "2022-03-17T09:19:28.361Z"
   },
   {
    "duration": 12,
    "start_time": "2022-03-17T09:19:28.834Z"
   },
   {
    "duration": 41,
    "start_time": "2022-03-17T09:19:28.848Z"
   },
   {
    "duration": 11,
    "start_time": "2022-03-17T09:19:28.891Z"
   },
   {
    "duration": 44,
    "start_time": "2022-03-17T09:19:28.904Z"
   },
   {
    "duration": 4,
    "start_time": "2022-03-17T09:19:28.951Z"
   },
   {
    "duration": 30,
    "start_time": "2022-03-17T09:19:28.957Z"
   },
   {
    "duration": 29,
    "start_time": "2022-03-17T09:19:28.989Z"
   },
   {
    "duration": 9,
    "start_time": "2022-03-17T09:19:29.020Z"
   },
   {
    "duration": 8,
    "start_time": "2022-03-17T09:19:29.032Z"
   },
   {
    "duration": 49,
    "start_time": "2022-03-17T09:19:29.042Z"
   },
   {
    "duration": 11,
    "start_time": "2022-03-17T09:19:29.093Z"
   },
   {
    "duration": 8,
    "start_time": "2022-03-17T09:19:29.107Z"
   },
   {
    "duration": 86,
    "start_time": "2022-03-17T09:19:29.118Z"
   },
   {
    "duration": 86,
    "start_time": "2022-03-17T09:19:35.684Z"
   },
   {
    "duration": 122,
    "start_time": "2022-03-17T09:19:53.771Z"
   },
   {
    "duration": 13,
    "start_time": "2022-03-17T09:20:33.626Z"
   },
   {
    "duration": 356,
    "start_time": "2022-03-17T09:20:55.978Z"
   },
   {
    "duration": 5,
    "start_time": "2022-03-17T09:21:00.387Z"
   },
   {
    "duration": 18,
    "start_time": "2022-03-17T09:21:29.178Z"
   },
   {
    "duration": 9,
    "start_time": "2022-03-17T09:21:37.258Z"
   },
   {
    "duration": 77,
    "start_time": "2022-03-17T09:21:40.010Z"
   },
   {
    "duration": 59,
    "start_time": "2022-03-17T09:22:02.035Z"
   },
   {
    "duration": 6,
    "start_time": "2022-03-17T09:24:20.705Z"
   },
   {
    "duration": 9,
    "start_time": "2022-03-17T09:24:24.241Z"
   },
   {
    "duration": 7,
    "start_time": "2022-03-17T09:24:29.953Z"
   },
   {
    "duration": 5,
    "start_time": "2022-03-17T09:24:30.817Z"
   },
   {
    "duration": 37,
    "start_time": "2022-03-17T09:24:32.257Z"
   },
   {
    "duration": 138,
    "start_time": "2022-03-17T09:24:44.705Z"
   },
   {
    "duration": 9,
    "start_time": "2022-03-17T09:25:12.297Z"
   },
   {
    "duration": 7,
    "start_time": "2022-03-17T09:25:12.640Z"
   },
   {
    "duration": 5,
    "start_time": "2022-03-17T09:25:13.273Z"
   },
   {
    "duration": 112,
    "start_time": "2022-03-17T09:25:14.285Z"
   },
   {
    "duration": 88,
    "start_time": "2022-03-17T09:25:50.469Z"
   },
   {
    "duration": 12,
    "start_time": "2022-03-17T09:27:15.841Z"
   },
   {
    "duration": 245,
    "start_time": "2022-03-17T09:28:04.953Z"
   },
   {
    "duration": 10,
    "start_time": "2022-03-17T11:08:13.458Z"
   },
   {
    "duration": 529,
    "start_time": "2022-03-17T11:08:24.467Z"
   },
   {
    "duration": 216,
    "start_time": "2022-03-17T11:08:34.106Z"
   },
   {
    "duration": 203,
    "start_time": "2022-03-17T11:08:48.202Z"
   },
   {
    "duration": 62,
    "start_time": "2022-03-17T11:12:30.787Z"
   },
   {
    "duration": 7,
    "start_time": "2022-03-17T11:15:44.796Z"
   },
   {
    "duration": 6,
    "start_time": "2022-03-17T11:15:51.376Z"
   },
   {
    "duration": 30,
    "start_time": "2022-03-17T11:16:34.656Z"
   },
   {
    "duration": 281,
    "start_time": "2022-03-17T11:17:30.328Z"
   },
   {
    "duration": 485,
    "start_time": "2022-03-17T11:17:40.000Z"
   },
   {
    "duration": 249,
    "start_time": "2022-03-17T11:18:20.311Z"
   },
   {
    "duration": 312,
    "start_time": "2022-03-17T11:18:27.407Z"
   },
   {
    "duration": 584,
    "start_time": "2022-03-17T11:18:30.554Z"
   },
   {
    "duration": 580,
    "start_time": "2022-03-17T11:18:48.216Z"
   },
   {
    "duration": 950,
    "start_time": "2022-03-17T11:19:04.975Z"
   },
   {
    "duration": 1127,
    "start_time": "2022-03-17T11:19:22.627Z"
   },
   {
    "duration": 1911,
    "start_time": "2022-03-17T11:20:37.664Z"
   },
   {
    "duration": 1176,
    "start_time": "2022-03-17T11:21:11.111Z"
   },
   {
    "duration": 16,
    "start_time": "2022-03-17T11:22:38.687Z"
   },
   {
    "duration": 429,
    "start_time": "2022-03-17T11:26:58.918Z"
   },
   {
    "duration": 79,
    "start_time": "2022-03-17T11:36:06.780Z"
   },
   {
    "duration": 18,
    "start_time": "2022-03-17T11:36:32.100Z"
   },
   {
    "duration": 20,
    "start_time": "2022-03-17T11:37:57.331Z"
   },
   {
    "duration": 15,
    "start_time": "2022-03-17T11:38:03.339Z"
   },
   {
    "duration": 25,
    "start_time": "2022-03-17T11:38:07.627Z"
   },
   {
    "duration": 45,
    "start_time": "2022-03-17T11:48:48.288Z"
   },
   {
    "duration": 35,
    "start_time": "2022-03-17T11:49:02.584Z"
   },
   {
    "duration": 40,
    "start_time": "2022-03-17T11:49:36.512Z"
   },
   {
    "duration": 39,
    "start_time": "2022-03-17T11:49:55.319Z"
   },
   {
    "duration": 437,
    "start_time": "2022-03-28T10:37:05.618Z"
   },
   {
    "duration": 4,
    "start_time": "2022-03-28T10:37:06.403Z"
   },
   {
    "duration": 99,
    "start_time": "2022-03-28T10:37:08.139Z"
   },
   {
    "duration": 44,
    "start_time": "2022-03-28T10:37:08.757Z"
   },
   {
    "duration": 17,
    "start_time": "2022-03-28T10:37:11.315Z"
   },
   {
    "duration": 11,
    "start_time": "2022-03-28T10:37:11.508Z"
   },
   {
    "duration": 100,
    "start_time": "2022-03-28T10:37:15.893Z"
   },
   {
    "duration": 37,
    "start_time": "2022-03-28T10:37:42.668Z"
   },
   {
    "duration": 31,
    "start_time": "2022-03-28T10:38:17.005Z"
   },
   {
    "duration": 75,
    "start_time": "2022-03-28T10:38:27.524Z"
   },
   {
    "duration": 12,
    "start_time": "2022-03-28T10:38:33.035Z"
   },
   {
    "duration": 65,
    "start_time": "2022-03-28T10:38:40.923Z"
   },
   {
    "duration": 95,
    "start_time": "2022-03-28T10:41:40.179Z"
   },
   {
    "duration": 37,
    "start_time": "2022-03-28T10:41:40.483Z"
   },
   {
    "duration": 17,
    "start_time": "2022-03-28T10:41:40.794Z"
   },
   {
    "duration": 13,
    "start_time": "2022-03-28T10:41:42.769Z"
   },
   {
    "duration": 83,
    "start_time": "2022-03-28T10:41:43.643Z"
   },
   {
    "duration": 4,
    "start_time": "2022-03-28T10:41:49.681Z"
   },
   {
    "duration": 9,
    "start_time": "2022-03-28T10:41:51.009Z"
   },
   {
    "duration": 6,
    "start_time": "2022-03-28T10:44:27.050Z"
   },
   {
    "duration": 7,
    "start_time": "2022-03-28T10:55:28.928Z"
   },
   {
    "duration": 6,
    "start_time": "2022-03-28T10:55:36.024Z"
   },
   {
    "duration": 165,
    "start_time": "2022-03-28T11:07:42.316Z"
   },
   {
    "duration": 186,
    "start_time": "2022-03-28T11:08:30.675Z"
   },
   {
    "duration": 11,
    "start_time": "2022-03-28T11:08:39.179Z"
   },
   {
    "duration": 189,
    "start_time": "2022-03-28T11:08:43.338Z"
   },
   {
    "duration": 168,
    "start_time": "2022-03-28T11:08:53.355Z"
   },
   {
    "duration": 13,
    "start_time": "2022-03-28T11:09:11.082Z"
   },
   {
    "duration": 7,
    "start_time": "2022-03-28T11:09:22.338Z"
   },
   {
    "duration": 197,
    "start_time": "2022-03-28T11:09:29.757Z"
   },
   {
    "duration": 199,
    "start_time": "2022-03-28T11:09:47.740Z"
   },
   {
    "duration": 11,
    "start_time": "2022-03-28T11:09:53.226Z"
   },
   {
    "duration": 177,
    "start_time": "2022-03-28T11:10:11.116Z"
   },
   {
    "duration": 10,
    "start_time": "2022-03-28T11:10:35.714Z"
   },
   {
    "duration": 9,
    "start_time": "2022-03-28T11:10:43.131Z"
   },
   {
    "duration": 8,
    "start_time": "2022-03-28T11:10:47.603Z"
   },
   {
    "duration": 6,
    "start_time": "2022-03-28T11:10:57.571Z"
   },
   {
    "duration": 6,
    "start_time": "2022-03-28T11:11:07.787Z"
   },
   {
    "duration": 40,
    "start_time": "2022-03-28T11:12:16.642Z"
   },
   {
    "duration": 39,
    "start_time": "2022-03-28T11:13:09.643Z"
   },
   {
    "duration": 9,
    "start_time": "2022-03-28T11:13:30.448Z"
   },
   {
    "duration": 6,
    "start_time": "2022-03-28T11:13:38.818Z"
   },
   {
    "duration": 10,
    "start_time": "2022-03-28T11:13:45.434Z"
   },
   {
    "duration": 7,
    "start_time": "2022-03-28T11:13:48.794Z"
   },
   {
    "duration": 7,
    "start_time": "2022-03-28T11:14:09.467Z"
   },
   {
    "duration": 11,
    "start_time": "2022-03-28T11:14:14.233Z"
   },
   {
    "duration": 166,
    "start_time": "2022-03-28T11:15:54.649Z"
   },
   {
    "duration": 14,
    "start_time": "2022-03-28T11:16:05.986Z"
   },
   {
    "duration": 198,
    "start_time": "2022-03-28T11:16:17.666Z"
   },
   {
    "duration": 7,
    "start_time": "2022-03-28T11:16:25.193Z"
   },
   {
    "duration": 14,
    "start_time": "2022-03-28T11:16:31.880Z"
   },
   {
    "duration": 199,
    "start_time": "2022-03-28T11:16:35.041Z"
   },
   {
    "duration": 191,
    "start_time": "2022-03-28T11:16:43.554Z"
   },
   {
    "duration": 12,
    "start_time": "2022-03-28T11:16:55.136Z"
   },
   {
    "duration": 1936,
    "start_time": "2022-03-28T11:19:51.945Z"
   },
   {
    "duration": 6,
    "start_time": "2022-03-28T11:19:59.520Z"
   },
   {
    "duration": 6,
    "start_time": "2022-03-28T11:20:01.889Z"
   },
   {
    "duration": 6,
    "start_time": "2022-03-28T11:20:02.232Z"
   },
   {
    "duration": 8,
    "start_time": "2022-03-28T11:20:05.999Z"
   },
   {
    "duration": 4,
    "start_time": "2022-03-28T11:20:06.463Z"
   },
   {
    "duration": 9,
    "start_time": "2022-03-28T11:20:07.088Z"
   },
   {
    "duration": 5,
    "start_time": "2022-03-28T11:20:11.512Z"
   },
   {
    "duration": 12569,
    "start_time": "2022-03-28T11:20:13.575Z"
   },
   {
    "duration": 10,
    "start_time": "2022-03-28T11:20:31.073Z"
   },
   {
    "duration": 6,
    "start_time": "2022-03-28T11:20:50.288Z"
   },
   {
    "duration": 11,
    "start_time": "2022-03-28T11:20:55.656Z"
   },
   {
    "duration": 5,
    "start_time": "2022-03-28T11:21:00.680Z"
   },
   {
    "duration": 7,
    "start_time": "2022-03-28T11:21:01.273Z"
   },
   {
    "duration": 22,
    "start_time": "2022-03-28T11:21:01.708Z"
   },
   {
    "duration": 5,
    "start_time": "2022-03-28T11:21:02.049Z"
   },
   {
    "duration": 4,
    "start_time": "2022-03-28T11:21:02.392Z"
   },
   {
    "duration": 513,
    "start_time": "2022-03-28T11:21:02.552Z"
   },
   {
    "duration": 6,
    "start_time": "2022-03-28T11:21:04.296Z"
   },
   {
    "duration": 7,
    "start_time": "2022-03-28T11:21:04.473Z"
   },
   {
    "duration": 46,
    "start_time": "2022-03-28T11:21:04.655Z"
   },
   {
    "duration": 30,
    "start_time": "2022-03-28T11:21:18.801Z"
   },
   {
    "duration": 204,
    "start_time": "2022-03-28T11:21:19.361Z"
   },
   {
    "duration": 210,
    "start_time": "2022-03-28T11:21:36.104Z"
   },
   {
    "duration": 12,
    "start_time": "2022-03-28T11:21:37.851Z"
   },
   {
    "duration": 9,
    "start_time": "2022-03-28T11:21:38.545Z"
   },
   {
    "duration": 842,
    "start_time": "2022-03-28T11:21:38.809Z"
   },
   {
    "duration": 8,
    "start_time": "2022-03-28T11:21:40.960Z"
   },
   {
    "duration": 576,
    "start_time": "2022-03-28T11:21:41.681Z"
   },
   {
    "duration": 158,
    "start_time": "2022-03-28T11:21:44.264Z"
   },
   {
    "duration": 10,
    "start_time": "2022-03-28T11:21:47.752Z"
   },
   {
    "duration": 400,
    "start_time": "2022-03-28T11:21:48.176Z"
   },
   {
    "duration": 184,
    "start_time": "2022-03-28T11:22:24.292Z"
   },
   {
    "duration": 183,
    "start_time": "2022-03-28T11:22:58.329Z"
   },
   {
    "duration": 408,
    "start_time": "2022-03-28T11:23:03.393Z"
   },
   {
    "duration": 408,
    "start_time": "2022-03-28T11:23:05.825Z"
   },
   {
    "duration": 9,
    "start_time": "2022-03-28T11:23:08.544Z"
   },
   {
    "duration": 8,
    "start_time": "2022-03-28T11:24:55.416Z"
   },
   {
    "duration": 281,
    "start_time": "2022-03-28T11:25:47.174Z"
   },
   {
    "duration": 249,
    "start_time": "2022-03-28T11:27:39.625Z"
   },
   {
    "duration": 161,
    "start_time": "2022-03-28T11:27:46.697Z"
   },
   {
    "duration": 190,
    "start_time": "2022-03-28T11:28:06.193Z"
   },
   {
    "duration": 196,
    "start_time": "2022-03-28T11:28:15.413Z"
   },
   {
    "duration": 9,
    "start_time": "2022-03-28T11:28:34.344Z"
   },
   {
    "duration": 174,
    "start_time": "2022-03-28T11:28:34.720Z"
   },
   {
    "duration": 707,
    "start_time": "2022-03-28T11:29:47.034Z"
   },
   {
    "duration": 394,
    "start_time": "2022-03-28T11:29:51.000Z"
   },
   {
    "duration": 10,
    "start_time": "2022-03-28T11:29:52.393Z"
   },
   {
    "duration": 33,
    "start_time": "2022-03-28T11:34:45.312Z"
   },
   {
    "duration": 7,
    "start_time": "2022-03-28T11:34:55.976Z"
   },
   {
    "duration": 542,
    "start_time": "2022-03-28T11:34:56.376Z"
   },
   {
    "duration": 259,
    "start_time": "2022-03-28T11:35:01.671Z"
   },
   {
    "duration": 11,
    "start_time": "2022-03-28T11:35:07.466Z"
   },
   {
    "duration": 186,
    "start_time": "2022-03-28T11:35:58.584Z"
   },
   {
    "duration": 776,
    "start_time": "2022-03-28T11:39:20.064Z"
   },
   {
    "duration": 843,
    "start_time": "2022-03-28T11:39:44.488Z"
   },
   {
    "duration": 255,
    "start_time": "2022-03-28T11:41:10.791Z"
   },
   {
    "duration": 282,
    "start_time": "2022-03-28T11:41:17.767Z"
   },
   {
    "duration": 248,
    "start_time": "2022-03-28T11:42:36.566Z"
   },
   {
    "duration": 290,
    "start_time": "2022-03-28T11:42:57.659Z"
   },
   {
    "duration": 259,
    "start_time": "2022-03-28T11:43:06.822Z"
   },
   {
    "duration": 204,
    "start_time": "2022-03-28T11:43:37.751Z"
   },
   {
    "duration": 209,
    "start_time": "2022-03-28T11:43:41.638Z"
   },
   {
    "duration": 214,
    "start_time": "2022-03-28T11:44:12.127Z"
   },
   {
    "duration": 211,
    "start_time": "2022-03-28T11:44:35.728Z"
   },
   {
    "duration": 206,
    "start_time": "2022-03-28T11:44:40.678Z"
   },
   {
    "duration": 289,
    "start_time": "2022-03-28T11:44:56.334Z"
   },
   {
    "duration": 274,
    "start_time": "2022-03-28T11:45:00.910Z"
   },
   {
    "duration": 297,
    "start_time": "2022-03-28T11:45:19.318Z"
   },
   {
    "duration": 204,
    "start_time": "2022-03-28T11:45:50.509Z"
   },
   {
    "duration": 316,
    "start_time": "2022-03-28T11:46:08.231Z"
   },
   {
    "duration": 144,
    "start_time": "2022-03-28T11:46:30.357Z"
   },
   {
    "duration": 264,
    "start_time": "2022-03-28T11:46:35.143Z"
   },
   {
    "duration": 286,
    "start_time": "2022-03-28T11:46:39.342Z"
   },
   {
    "duration": 280,
    "start_time": "2022-03-28T11:46:42.895Z"
   },
   {
    "duration": 246,
    "start_time": "2022-03-28T11:47:10.398Z"
   },
   {
    "duration": 235,
    "start_time": "2022-03-28T11:47:22.062Z"
   },
   {
    "duration": 628,
    "start_time": "2022-03-28T11:52:03.334Z"
   },
   {
    "duration": 271,
    "start_time": "2022-03-28T11:52:54.750Z"
   },
   {
    "duration": 9,
    "start_time": "2022-03-28T11:57:01.789Z"
   },
   {
    "duration": 6,
    "start_time": "2022-03-28T11:57:08.499Z"
   },
   {
    "duration": 5,
    "start_time": "2022-03-28T11:57:08.732Z"
   },
   {
    "duration": 13,
    "start_time": "2022-03-28T11:57:10.187Z"
   },
   {
    "duration": 10,
    "start_time": "2022-03-28T11:57:11.380Z"
   },
   {
    "duration": 6,
    "start_time": "2022-03-28T11:57:11.589Z"
   },
   {
    "duration": 6,
    "start_time": "2022-03-28T11:57:13.454Z"
   },
   {
    "duration": 171,
    "start_time": "2022-03-28T11:57:13.709Z"
   },
   {
    "duration": 7,
    "start_time": "2022-03-28T11:57:16.227Z"
   },
   {
    "duration": 848,
    "start_time": "2022-03-28T11:57:16.412Z"
   },
   {
    "duration": 17,
    "start_time": "2022-03-28T11:57:22.762Z"
   },
   {
    "duration": 42,
    "start_time": "2022-03-28T11:57:23.635Z"
   },
   {
    "duration": 12,
    "start_time": "2022-03-28T11:57:26.002Z"
   },
   {
    "duration": 13,
    "start_time": "2022-03-28T11:57:32.666Z"
   },
   {
    "duration": 239,
    "start_time": "2022-03-28T11:59:24.932Z"
   },
   {
    "duration": 235,
    "start_time": "2022-03-28T11:59:42.036Z"
   },
   {
    "duration": 216,
    "start_time": "2022-03-28T12:00:05.429Z"
   },
   {
    "duration": 34384,
    "start_time": "2022-03-28T12:00:45.907Z"
   },
   {
    "duration": 48,
    "start_time": "2022-03-28T12:19:05.465Z"
   },
   {
    "duration": 391,
    "start_time": "2022-03-28T12:19:21.254Z"
   },
   {
    "duration": 3,
    "start_time": "2022-03-28T12:19:21.647Z"
   },
   {
    "duration": 1577,
    "start_time": "2022-03-28T12:19:21.652Z"
   },
   {
    "duration": 37,
    "start_time": "2022-03-28T12:19:23.231Z"
   },
   {
    "duration": 32,
    "start_time": "2022-03-28T12:19:23.270Z"
   },
   {
    "duration": 9,
    "start_time": "2022-03-28T12:19:23.304Z"
   },
   {
    "duration": 89,
    "start_time": "2022-03-28T12:19:23.314Z"
   },
   {
    "duration": 4,
    "start_time": "2022-03-28T12:19:23.405Z"
   },
   {
    "duration": 16,
    "start_time": "2022-03-28T12:19:23.411Z"
   },
   {
    "duration": 11,
    "start_time": "2022-03-28T12:19:23.429Z"
   },
   {
    "duration": 7,
    "start_time": "2022-03-28T12:19:23.441Z"
   },
   {
    "duration": 5,
    "start_time": "2022-03-28T12:19:23.450Z"
   },
   {
    "duration": 15,
    "start_time": "2022-03-28T12:19:23.457Z"
   },
   {
    "duration": 30,
    "start_time": "2022-03-28T12:19:23.474Z"
   },
   {
    "duration": 8,
    "start_time": "2022-03-28T12:19:23.506Z"
   },
   {
    "duration": 5,
    "start_time": "2022-03-28T12:19:23.515Z"
   },
   {
    "duration": 10,
    "start_time": "2022-03-28T12:19:23.521Z"
   },
   {
    "duration": 4,
    "start_time": "2022-03-28T12:19:23.533Z"
   },
   {
    "duration": 12,
    "start_time": "2022-03-28T12:19:23.538Z"
   },
   {
    "duration": 43,
    "start_time": "2022-03-28T12:19:23.552Z"
   },
   {
    "duration": 10379,
    "start_time": "2022-03-28T12:19:23.597Z"
   },
   {
    "duration": 8,
    "start_time": "2022-03-28T12:19:33.978Z"
   },
   {
    "duration": 19,
    "start_time": "2022-03-28T12:19:33.987Z"
   },
   {
    "duration": 25,
    "start_time": "2022-03-28T12:19:34.007Z"
   },
   {
    "duration": 18,
    "start_time": "2022-03-28T12:19:34.034Z"
   },
   {
    "duration": 22,
    "start_time": "2022-03-28T12:19:34.054Z"
   },
   {
    "duration": 15,
    "start_time": "2022-03-28T12:19:34.078Z"
   },
   {
    "duration": 11,
    "start_time": "2022-03-28T12:19:34.097Z"
   },
   {
    "duration": 20,
    "start_time": "2022-03-28T12:19:34.110Z"
   },
   {
    "duration": 522,
    "start_time": "2022-03-28T12:19:34.132Z"
   },
   {
    "duration": 5,
    "start_time": "2022-03-28T12:19:34.655Z"
   },
   {
    "duration": 18,
    "start_time": "2022-03-28T12:19:34.661Z"
   },
   {
    "duration": 55,
    "start_time": "2022-03-28T12:19:34.680Z"
   },
   {
    "duration": 28,
    "start_time": "2022-03-28T12:19:34.737Z"
   },
   {
    "duration": 678,
    "start_time": "2022-03-28T12:19:34.767Z"
   },
   {
    "duration": 125,
    "start_time": "2022-03-28T12:19:35.447Z"
   },
   {
    "duration": 7,
    "start_time": "2022-03-28T12:19:35.574Z"
   },
   {
    "duration": 22,
    "start_time": "2022-03-28T12:19:35.583Z"
   },
   {
    "duration": 657,
    "start_time": "2022-03-28T12:19:35.606Z"
   },
   {
    "duration": 6,
    "start_time": "2022-03-28T12:19:36.264Z"
   },
   {
    "duration": 185,
    "start_time": "2022-03-28T12:19:36.272Z"
   },
   {
    "duration": 7,
    "start_time": "2022-03-28T12:19:36.459Z"
   },
   {
    "duration": 150,
    "start_time": "2022-03-28T12:19:36.468Z"
   },
   {
    "duration": 6,
    "start_time": "2022-03-28T12:19:36.620Z"
   },
   {
    "duration": 231,
    "start_time": "2022-03-28T12:19:36.628Z"
   },
   {
    "duration": 328,
    "start_time": "2022-03-28T12:19:36.861Z"
   },
   {
    "duration": 317,
    "start_time": "2022-03-28T12:19:37.191Z"
   },
   {
    "duration": 6,
    "start_time": "2022-03-28T12:19:37.510Z"
   },
   {
    "duration": 29,
    "start_time": "2022-03-28T12:19:37.518Z"
   },
   {
    "duration": 420,
    "start_time": "2022-03-28T12:19:37.549Z"
   },
   {
    "duration": 265,
    "start_time": "2022-03-28T12:19:37.971Z"
   },
   {
    "duration": 9,
    "start_time": "2022-03-28T12:19:38.238Z"
   },
   {
    "duration": 28,
    "start_time": "2022-03-28T12:19:38.249Z"
   },
   {
    "duration": 20,
    "start_time": "2022-03-28T12:19:38.279Z"
   },
   {
    "duration": 41,
    "start_time": "2022-03-28T12:19:38.301Z"
   },
   {
    "duration": 4,
    "start_time": "2022-03-28T12:19:38.343Z"
   },
   {
    "duration": 43,
    "start_time": "2022-03-28T12:19:38.348Z"
   },
   {
    "duration": 158,
    "start_time": "2022-03-28T12:19:38.392Z"
   },
   {
    "duration": 176,
    "start_time": "2022-03-28T12:19:38.551Z"
   },
   {
    "duration": 3,
    "start_time": "2022-03-28T12:19:38.728Z"
   },
   {
    "duration": 24,
    "start_time": "2022-03-28T12:19:38.732Z"
   },
   {
    "duration": 233,
    "start_time": "2022-03-28T12:19:38.758Z"
   },
   {
    "duration": 214,
    "start_time": "2022-03-28T12:19:38.992Z"
   },
   {
    "duration": 210,
    "start_time": "2022-03-28T12:19:39.208Z"
   },
   {
    "duration": 6,
    "start_time": "2022-03-28T12:19:39.420Z"
   },
   {
    "duration": 29,
    "start_time": "2022-03-28T12:19:39.427Z"
   },
   {
    "duration": 27,
    "start_time": "2022-03-28T12:19:39.458Z"
   },
   {
    "duration": 30,
    "start_time": "2022-03-28T12:19:39.487Z"
   },
   {
    "duration": 31,
    "start_time": "2022-03-28T12:19:39.519Z"
   },
   {
    "duration": 37,
    "start_time": "2022-03-28T12:19:39.552Z"
   },
   {
    "duration": 128,
    "start_time": "2022-03-28T12:19:39.591Z"
   },
   {
    "duration": 5,
    "start_time": "2022-03-28T12:19:39.720Z"
   },
   {
    "duration": 625,
    "start_time": "2022-03-28T12:19:39.727Z"
   },
   {
    "duration": 10,
    "start_time": "2022-03-28T12:19:40.354Z"
   },
   {
    "duration": 39,
    "start_time": "2022-03-28T12:19:40.366Z"
   },
   {
    "duration": 22,
    "start_time": "2022-03-28T12:19:40.406Z"
   },
   {
    "duration": 24,
    "start_time": "2022-03-28T12:19:40.429Z"
   },
   {
    "duration": 6,
    "start_time": "2022-03-28T12:21:25.917Z"
   },
   {
    "duration": 4,
    "start_time": "2022-03-28T12:21:28.844Z"
   },
   {
    "duration": 3,
    "start_time": "2022-03-28T12:21:34.532Z"
   },
   {
    "duration": 422,
    "start_time": "2022-03-28T12:21:43.372Z"
   },
   {
    "duration": 35,
    "start_time": "2022-03-28T12:21:50.645Z"
   },
   {
    "duration": 211,
    "start_time": "2022-03-28T12:21:53.549Z"
   },
   {
    "duration": 115,
    "start_time": "2022-03-28T12:21:56.509Z"
   },
   {
    "duration": 11,
    "start_time": "2022-03-28T12:22:34.765Z"
   },
   {
    "duration": 11,
    "start_time": "2022-03-28T12:22:40.954Z"
   },
   {
    "duration": 122,
    "start_time": "2022-03-28T12:23:07.062Z"
   },
   {
    "duration": 17,
    "start_time": "2022-03-28T12:23:40.403Z"
   },
   {
    "duration": 118,
    "start_time": "2022-03-28T12:23:44.506Z"
   },
   {
    "duration": 111,
    "start_time": "2022-03-28T12:23:49.859Z"
   },
   {
    "duration": 90,
    "start_time": "2022-03-28T12:23:53.213Z"
   },
   {
    "duration": 185,
    "start_time": "2022-03-28T12:30:31.111Z"
   },
   {
    "duration": 255,
    "start_time": "2022-03-28T12:31:10.978Z"
   },
   {
    "duration": 223,
    "start_time": "2022-03-28T12:37:23.679Z"
   },
   {
    "duration": 151,
    "start_time": "2022-03-28T12:37:30.415Z"
   },
   {
    "duration": 140,
    "start_time": "2022-03-28T12:38:02.790Z"
   },
   {
    "duration": 8,
    "start_time": "2022-03-28T12:38:35.807Z"
   },
   {
    "duration": 511,
    "start_time": "2022-03-28T12:38:50.871Z"
   },
   {
    "duration": 130,
    "start_time": "2022-03-28T12:38:58.447Z"
   },
   {
    "duration": 172,
    "start_time": "2022-03-28T12:40:57.678Z"
   },
   {
    "duration": 995,
    "start_time": "2022-03-28T12:43:36.318Z"
   },
   {
    "duration": 8,
    "start_time": "2022-03-28T12:43:51.469Z"
   },
   {
    "duration": 10,
    "start_time": "2022-03-28T12:43:55.628Z"
   },
   {
    "duration": 680,
    "start_time": "2022-03-28T12:43:56.132Z"
   },
   {
    "duration": 161,
    "start_time": "2022-03-28T12:43:58.580Z"
   },
   {
    "duration": 8,
    "start_time": "2022-03-28T12:44:00.245Z"
   },
   {
    "duration": 13,
    "start_time": "2022-03-28T12:44:02.506Z"
   },
   {
    "duration": 7,
    "start_time": "2022-03-28T12:44:03.828Z"
   },
   {
    "duration": 24,
    "start_time": "2022-03-28T12:44:05.356Z"
   },
   {
    "duration": 3,
    "start_time": "2022-03-28T12:44:05.540Z"
   },
   {
    "duration": 9,
    "start_time": "2022-03-28T12:44:05.732Z"
   },
   {
    "duration": 171,
    "start_time": "2022-03-28T12:44:07.803Z"
   },
   {
    "duration": 263,
    "start_time": "2022-03-28T12:44:31.005Z"
   },
   {
    "duration": 310,
    "start_time": "2022-03-28T12:44:40.972Z"
   },
   {
    "duration": 270,
    "start_time": "2022-03-28T12:44:42.005Z"
   },
   {
    "duration": 291,
    "start_time": "2022-03-28T12:45:18.125Z"
   },
   {
    "duration": 196,
    "start_time": "2022-03-28T12:45:58.340Z"
   },
   {
    "duration": 174,
    "start_time": "2022-03-28T12:46:05.924Z"
   },
   {
    "duration": 163,
    "start_time": "2022-03-28T12:46:19.380Z"
   },
   {
    "duration": 165,
    "start_time": "2022-03-28T12:46:22.731Z"
   },
   {
    "duration": 172,
    "start_time": "2022-03-28T12:46:36.131Z"
   },
   {
    "duration": 174,
    "start_time": "2022-03-28T12:46:39.867Z"
   },
   {
    "duration": 254,
    "start_time": "2022-03-28T12:46:50.139Z"
   },
   {
    "duration": 227,
    "start_time": "2022-03-28T12:48:25.371Z"
   },
   {
    "duration": 264,
    "start_time": "2022-03-28T12:48:45.980Z"
   },
   {
    "duration": 198,
    "start_time": "2022-03-28T12:49:18.413Z"
   },
   {
    "duration": 220,
    "start_time": "2022-03-28T12:49:31.764Z"
   },
   {
    "duration": 11,
    "start_time": "2022-03-28T12:50:26.643Z"
   },
   {
    "duration": 3,
    "start_time": "2022-03-28T12:50:37.346Z"
   },
   {
    "duration": 134,
    "start_time": "2022-03-28T12:50:38.369Z"
   },
   {
    "duration": 187,
    "start_time": "2022-03-28T12:50:42.370Z"
   },
   {
    "duration": 178,
    "start_time": "2022-03-28T12:50:43.459Z"
   },
   {
    "duration": 245,
    "start_time": "2022-03-28T12:50:47.018Z"
   },
   {
    "duration": 164,
    "start_time": "2022-03-28T12:50:48.867Z"
   },
   {
    "duration": 242,
    "start_time": "2022-03-28T12:51:53.842Z"
   },
   {
    "duration": 655,
    "start_time": "2022-03-28T12:51:57.529Z"
   },
   {
    "duration": 194,
    "start_time": "2022-03-28T12:56:39.176Z"
   },
   {
    "duration": 16,
    "start_time": "2022-03-28T12:57:00.447Z"
   },
   {
    "duration": 13,
    "start_time": "2022-03-28T12:57:00.856Z"
   },
   {
    "duration": 13,
    "start_time": "2022-03-28T12:57:44.319Z"
   },
   {
    "duration": 10,
    "start_time": "2022-03-28T12:57:54.096Z"
   },
   {
    "duration": 10,
    "start_time": "2022-03-28T12:58:44.273Z"
   },
   {
    "duration": 15,
    "start_time": "2022-03-28T12:58:54.887Z"
   },
   {
    "duration": 12,
    "start_time": "2022-03-28T13:00:26.135Z"
   },
   {
    "duration": 13,
    "start_time": "2022-03-28T13:00:50.285Z"
   },
   {
    "duration": 176,
    "start_time": "2022-03-28T13:00:59.815Z"
   },
   {
    "duration": 257,
    "start_time": "2022-03-28T13:01:29.094Z"
   },
   {
    "duration": 169,
    "start_time": "2022-03-28T13:01:54.309Z"
   }
  ],
  "kernelspec": {
   "display_name": "Python 3",
   "language": "python",
   "name": "python3"
  },
  "language_info": {
   "codemirror_mode": {
    "name": "ipython",
    "version": 3
   },
   "file_extension": ".py",
   "mimetype": "text/x-python",
   "name": "python",
   "nbconvert_exporter": "python",
   "pygments_lexer": "ipython3",
   "version": "3.8.8"
  },
  "toc": {
   "base_numbering": 1,
   "nav_menu": {},
   "number_sections": true,
   "sideBar": true,
   "skip_h1_title": true,
   "title_cell": "Содержание",
   "title_sidebar": "Contents",
   "toc_cell": true,
   "toc_position": {
    "height": "calc(100% - 180px)",
    "left": "10px",
    "top": "150px",
    "width": "272.391px"
   },
   "toc_section_display": true,
   "toc_window_display": true
  }
 },
 "nbformat": 4,
 "nbformat_minor": 4
}
