{
 "cells": [
  {
   "cell_type": "markdown",
   "metadata": {},
   "source": [
    "# Описание проекта\n",
    "Вы аналитик компании «Мегалайн» — федерального оператора сотовой связи. Клиентам предлагают два тарифных плана: «Смарт» и «Ультра». Чтобы скорректировать рекламный бюджет, коммерческий департамент хочет понять, какой тариф приносит больше денег.\n",
    "Вам предстоит сделать предварительный анализ тарифов на небольшой выборке клиентов. В вашем распоряжении данные 500 пользователей «Мегалайна»: кто они, откуда, каким тарифом пользуются, сколько звонков и сообщений каждый отправил за 2018 год. Нужно проанализировать поведение клиентов и сделать вывод — какой тариф лучше.\n",
    "\n",
    "## Описание тарифов\n",
    "### Тариф «Смарт»\n",
    "1. Ежемесячная плата: 550 рублей\n",
    "2. Включено 500 минут разговора, 50 сообщений и 15 Гб интернет-трафика\n",
    "3. Стоимость услуг сверх тарифного пакета:\n",
    "* минута разговора: 3 рубля\n",
    "* сообщение: 3 рубля\n",
    "* 1 Гб интернет-трафика: 200 рублей\n",
    "### Тариф «Ультра»\n",
    "1. Ежемесячная плата: 1950 рублей\n",
    "2. Включено 3000 минут разговора, 1000 сообщений и 30 Гб интернет-трафика\n",
    "3. Стоимость услуг сверх тарифного пакета:\n",
    "* минута разговора: 1 рубль\n",
    "* сообщение: 1 рубль\n",
    "* 1 Гб интернет-трафика: 150 рублей\n",
    "\n",
    "## Описание данных\n",
    "Таблица `users` (информация о пользователях):\n",
    "* *user_id* — уникальный идентификатор пользователя\n",
    "* *first_name* — имя пользователя\n",
    "* *last_name* — фамилия пользователя\n",
    "* *age* — возраст пользователя (годы)\n",
    "* *reg_date* — дата подключения тарифа (день, месяц, год)\n",
    "* *churn_date* — дата прекращения пользования тарифом (если значение пропущено, то тариф ещё действовал на момент выгрузки данных)\n",
    "* *city* — город проживания пользователя\n",
    "* *tariff* — название тарифного плана  \n",
    "  \n",
    "Таблица `calls` (информация о звонках):\n",
    "* *id* — уникальный номер звонка\n",
    "* *call_date* — дата звонка\n",
    "* *duration* — длительность звонка в минутах\n",
    "* *user_id* — идентификатор пользователя, сделавшего звонок  \n",
    "  \n",
    "Таблица `messages` (информация о сообщениях):\n",
    "* *id* — уникальный номер сообщения\n",
    "* *message_date* — дата сообщения\n",
    "* *user_id* — идентификатор пользователя, отправившего сообщение  \n",
    "  \n",
    "Таблица `internet` (информация об интернет-сессиях):\n",
    "* *id* — уникальный номер сессии\n",
    "* *mb_used* — объём потраченного за сессию интернет-трафика (в мегабайтах)\n",
    "* *session_date* — дата интернет-сессии\n",
    "* *user_id* — идентификатор пользователя  \n",
    "  \n",
    "Таблица `tariffs` (информация о тарифах):\n",
    "* *tariff_name* — название тарифа\n",
    "* *rub_monthly_fee* — ежемесячная абонентская плата в рублях\n",
    "* *minutes_included* — количество минут разговора в месяц, включённых в абонентскую плату\n",
    "* *messages_included* — количество сообщений в месяц, включённых в абонентскую плату\n",
    "* *mb_per_month_included* — объём интернет-трафика, включённого в абонентскую плату (в мегабайтах)\n",
    "* *rub_per_minute* — стоимость минуты разговора сверх тарифного пакета (например, если в тарифе 100 минут разговора в месяц, то со 101 минуты будет взиматься плата)\n",
    "* *rub_per_message* — стоимость отправки сообщения сверх тарифного пакета\n",
    "* *rub_per_gb* — стоимость дополнительного гигабайта интернет-трафика сверх тарифного пакета (1 гигабайт = 1024 мегабайта)"
   ]
  },
  {
   "cell_type": "code",
   "execution_count": 1,
   "metadata": {},
   "outputs": [],
   "source": [
    "import pandas as pd\n",
    "from scipy import stats as st\n",
    "import numpy as np\n",
    "import seaborn as sns\n",
    "import matplotlib.pyplot as plt"
   ]
  },
  {
   "cell_type": "code",
   "execution_count": 2,
   "metadata": {},
   "outputs": [],
   "source": [
    "import warnings\n",
    "\n",
    "warnings.filterwarnings(\"ignore\")"
   ]
  },
  {
   "cell_type": "code",
   "execution_count": 3,
   "metadata": {},
   "outputs": [],
   "source": [
    "calls = pd.read_csv('https://code.s3.yandex.net/datasets/calls.csv')\n",
    "internet = pd.read_csv('https://code.s3.yandex.net/datasets/internet.csv', index_col=0)\n",
    "messages = pd.read_csv('https://code.s3.yandex.net/datasets/messages.csv')\n",
    "tariffs = pd.read_csv('https://code.s3.yandex.net/datasets/tariffs.csv')\n",
    "users = pd.read_csv('https://code.s3.yandex.net/datasets/users.csv')"
   ]
  },
  {
   "cell_type": "markdown",
   "metadata": {},
   "source": [
    "## Обзор данных"
   ]
  },
  {
   "cell_type": "code",
   "execution_count": 4,
   "metadata": {},
   "outputs": [
    {
     "data": {
      "text/html": [
       "<div>\n",
       "<style scoped>\n",
       "    .dataframe tbody tr th:only-of-type {\n",
       "        vertical-align: middle;\n",
       "    }\n",
       "\n",
       "    .dataframe tbody tr th {\n",
       "        vertical-align: top;\n",
       "    }\n",
       "\n",
       "    .dataframe thead th {\n",
       "        text-align: right;\n",
       "    }\n",
       "</style>\n",
       "<table border=\"1\" class=\"dataframe\">\n",
       "  <thead>\n",
       "    <tr style=\"text-align: right;\">\n",
       "      <th></th>\n",
       "      <th>user_id</th>\n",
       "      <th>age</th>\n",
       "      <th>churn_date</th>\n",
       "      <th>city</th>\n",
       "      <th>first_name</th>\n",
       "      <th>last_name</th>\n",
       "      <th>reg_date</th>\n",
       "      <th>tariff</th>\n",
       "    </tr>\n",
       "  </thead>\n",
       "  <tbody>\n",
       "    <tr>\n",
       "      <th>0</th>\n",
       "      <td>1000</td>\n",
       "      <td>52</td>\n",
       "      <td>NaN</td>\n",
       "      <td>Краснодар</td>\n",
       "      <td>Рафаил</td>\n",
       "      <td>Верещагин</td>\n",
       "      <td>2018-05-25</td>\n",
       "      <td>ultra</td>\n",
       "    </tr>\n",
       "    <tr>\n",
       "      <th>1</th>\n",
       "      <td>1001</td>\n",
       "      <td>41</td>\n",
       "      <td>NaN</td>\n",
       "      <td>Москва</td>\n",
       "      <td>Иван</td>\n",
       "      <td>Ежов</td>\n",
       "      <td>2018-11-01</td>\n",
       "      <td>smart</td>\n",
       "    </tr>\n",
       "    <tr>\n",
       "      <th>2</th>\n",
       "      <td>1002</td>\n",
       "      <td>59</td>\n",
       "      <td>NaN</td>\n",
       "      <td>Стерлитамак</td>\n",
       "      <td>Евгений</td>\n",
       "      <td>Абрамович</td>\n",
       "      <td>2018-06-17</td>\n",
       "      <td>smart</td>\n",
       "    </tr>\n",
       "    <tr>\n",
       "      <th>3</th>\n",
       "      <td>1003</td>\n",
       "      <td>23</td>\n",
       "      <td>NaN</td>\n",
       "      <td>Москва</td>\n",
       "      <td>Белла</td>\n",
       "      <td>Белякова</td>\n",
       "      <td>2018-08-17</td>\n",
       "      <td>ultra</td>\n",
       "    </tr>\n",
       "    <tr>\n",
       "      <th>4</th>\n",
       "      <td>1004</td>\n",
       "      <td>68</td>\n",
       "      <td>NaN</td>\n",
       "      <td>Новокузнецк</td>\n",
       "      <td>Татьяна</td>\n",
       "      <td>Авдеенко</td>\n",
       "      <td>2018-05-14</td>\n",
       "      <td>ultra</td>\n",
       "    </tr>\n",
       "    <tr>\n",
       "      <th>...</th>\n",
       "      <td>...</td>\n",
       "      <td>...</td>\n",
       "      <td>...</td>\n",
       "      <td>...</td>\n",
       "      <td>...</td>\n",
       "      <td>...</td>\n",
       "      <td>...</td>\n",
       "      <td>...</td>\n",
       "    </tr>\n",
       "    <tr>\n",
       "      <th>495</th>\n",
       "      <td>1495</td>\n",
       "      <td>65</td>\n",
       "      <td>NaN</td>\n",
       "      <td>Иркутск</td>\n",
       "      <td>Авксентий</td>\n",
       "      <td>Фокин</td>\n",
       "      <td>2018-08-28</td>\n",
       "      <td>ultra</td>\n",
       "    </tr>\n",
       "    <tr>\n",
       "      <th>496</th>\n",
       "      <td>1496</td>\n",
       "      <td>36</td>\n",
       "      <td>NaN</td>\n",
       "      <td>Вологда</td>\n",
       "      <td>Трифон</td>\n",
       "      <td>Блохин</td>\n",
       "      <td>2018-01-27</td>\n",
       "      <td>smart</td>\n",
       "    </tr>\n",
       "    <tr>\n",
       "      <th>497</th>\n",
       "      <td>1497</td>\n",
       "      <td>32</td>\n",
       "      <td>NaN</td>\n",
       "      <td>Челябинск</td>\n",
       "      <td>Каролина</td>\n",
       "      <td>Агеева</td>\n",
       "      <td>2018-10-09</td>\n",
       "      <td>smart</td>\n",
       "    </tr>\n",
       "    <tr>\n",
       "      <th>498</th>\n",
       "      <td>1498</td>\n",
       "      <td>68</td>\n",
       "      <td>2018-10-25</td>\n",
       "      <td>Владикавказ</td>\n",
       "      <td>Всеволод</td>\n",
       "      <td>Акимчин</td>\n",
       "      <td>2018-07-19</td>\n",
       "      <td>smart</td>\n",
       "    </tr>\n",
       "    <tr>\n",
       "      <th>499</th>\n",
       "      <td>1499</td>\n",
       "      <td>35</td>\n",
       "      <td>NaN</td>\n",
       "      <td>Пермь</td>\n",
       "      <td>Гектор</td>\n",
       "      <td>Корнилов</td>\n",
       "      <td>2018-09-27</td>\n",
       "      <td>smart</td>\n",
       "    </tr>\n",
       "  </tbody>\n",
       "</table>\n",
       "<p>500 rows × 8 columns</p>\n",
       "</div>"
      ],
      "text/plain": [
       "     user_id  age  churn_date         city first_name  last_name    reg_date  \\\n",
       "0       1000   52         NaN    Краснодар     Рафаил  Верещагин  2018-05-25   \n",
       "1       1001   41         NaN       Москва       Иван       Ежов  2018-11-01   \n",
       "2       1002   59         NaN  Стерлитамак    Евгений  Абрамович  2018-06-17   \n",
       "3       1003   23         NaN       Москва      Белла   Белякова  2018-08-17   \n",
       "4       1004   68         NaN  Новокузнецк    Татьяна   Авдеенко  2018-05-14   \n",
       "..       ...  ...         ...          ...        ...        ...         ...   \n",
       "495     1495   65         NaN      Иркутск  Авксентий      Фокин  2018-08-28   \n",
       "496     1496   36         NaN      Вологда     Трифон     Блохин  2018-01-27   \n",
       "497     1497   32         NaN    Челябинск   Каролина     Агеева  2018-10-09   \n",
       "498     1498   68  2018-10-25  Владикавказ   Всеволод    Акимчин  2018-07-19   \n",
       "499     1499   35         NaN        Пермь     Гектор   Корнилов  2018-09-27   \n",
       "\n",
       "    tariff  \n",
       "0    ultra  \n",
       "1    smart  \n",
       "2    smart  \n",
       "3    ultra  \n",
       "4    ultra  \n",
       "..     ...  \n",
       "495  ultra  \n",
       "496  smart  \n",
       "497  smart  \n",
       "498  smart  \n",
       "499  smart  \n",
       "\n",
       "[500 rows x 8 columns]"
      ]
     },
     "execution_count": 4,
     "metadata": {},
     "output_type": "execute_result"
    }
   ],
   "source": [
    "users"
   ]
  },
  {
   "cell_type": "code",
   "execution_count": 5,
   "metadata": {},
   "outputs": [
    {
     "name": "stdout",
     "output_type": "stream",
     "text": [
      "<class 'pandas.core.frame.DataFrame'>\n",
      "RangeIndex: 500 entries, 0 to 499\n",
      "Data columns (total 8 columns):\n",
      " #   Column      Non-Null Count  Dtype \n",
      "---  ------      --------------  ----- \n",
      " 0   user_id     500 non-null    int64 \n",
      " 1   age         500 non-null    int64 \n",
      " 2   churn_date  38 non-null     object\n",
      " 3   city        500 non-null    object\n",
      " 4   first_name  500 non-null    object\n",
      " 5   last_name   500 non-null    object\n",
      " 6   reg_date    500 non-null    object\n",
      " 7   tariff      500 non-null    object\n",
      "dtypes: int64(2), object(6)\n",
      "memory usage: 31.4+ KB\n"
     ]
    }
   ],
   "source": [
    "users.info()"
   ]
  },
  {
   "cell_type": "markdown",
   "metadata": {},
   "source": [
    "Нужно поменять тип данных в *churn_date* и *reg_date* на datetime"
   ]
  },
  {
   "cell_type": "code",
   "execution_count": 6,
   "metadata": {},
   "outputs": [
    {
     "data": {
      "text/html": [
       "<div>\n",
       "<style scoped>\n",
       "    .dataframe tbody tr th:only-of-type {\n",
       "        vertical-align: middle;\n",
       "    }\n",
       "\n",
       "    .dataframe tbody tr th {\n",
       "        vertical-align: top;\n",
       "    }\n",
       "\n",
       "    .dataframe thead th {\n",
       "        text-align: right;\n",
       "    }\n",
       "</style>\n",
       "<table border=\"1\" class=\"dataframe\">\n",
       "  <thead>\n",
       "    <tr style=\"text-align: right;\">\n",
       "      <th></th>\n",
       "      <th>id</th>\n",
       "      <th>call_date</th>\n",
       "      <th>duration</th>\n",
       "      <th>user_id</th>\n",
       "    </tr>\n",
       "  </thead>\n",
       "  <tbody>\n",
       "    <tr>\n",
       "      <th>0</th>\n",
       "      <td>1000_0</td>\n",
       "      <td>2018-07-25</td>\n",
       "      <td>0.00</td>\n",
       "      <td>1000</td>\n",
       "    </tr>\n",
       "    <tr>\n",
       "      <th>1</th>\n",
       "      <td>1000_1</td>\n",
       "      <td>2018-08-17</td>\n",
       "      <td>0.00</td>\n",
       "      <td>1000</td>\n",
       "    </tr>\n",
       "    <tr>\n",
       "      <th>2</th>\n",
       "      <td>1000_2</td>\n",
       "      <td>2018-06-11</td>\n",
       "      <td>2.85</td>\n",
       "      <td>1000</td>\n",
       "    </tr>\n",
       "    <tr>\n",
       "      <th>3</th>\n",
       "      <td>1000_3</td>\n",
       "      <td>2018-09-21</td>\n",
       "      <td>13.80</td>\n",
       "      <td>1000</td>\n",
       "    </tr>\n",
       "    <tr>\n",
       "      <th>4</th>\n",
       "      <td>1000_4</td>\n",
       "      <td>2018-12-15</td>\n",
       "      <td>5.18</td>\n",
       "      <td>1000</td>\n",
       "    </tr>\n",
       "    <tr>\n",
       "      <th>...</th>\n",
       "      <td>...</td>\n",
       "      <td>...</td>\n",
       "      <td>...</td>\n",
       "      <td>...</td>\n",
       "    </tr>\n",
       "    <tr>\n",
       "      <th>202602</th>\n",
       "      <td>1499_215</td>\n",
       "      <td>2018-12-26</td>\n",
       "      <td>0.76</td>\n",
       "      <td>1499</td>\n",
       "    </tr>\n",
       "    <tr>\n",
       "      <th>202603</th>\n",
       "      <td>1499_216</td>\n",
       "      <td>2018-10-18</td>\n",
       "      <td>18.83</td>\n",
       "      <td>1499</td>\n",
       "    </tr>\n",
       "    <tr>\n",
       "      <th>202604</th>\n",
       "      <td>1499_217</td>\n",
       "      <td>2018-11-10</td>\n",
       "      <td>10.81</td>\n",
       "      <td>1499</td>\n",
       "    </tr>\n",
       "    <tr>\n",
       "      <th>202605</th>\n",
       "      <td>1499_218</td>\n",
       "      <td>2018-10-06</td>\n",
       "      <td>4.27</td>\n",
       "      <td>1499</td>\n",
       "    </tr>\n",
       "    <tr>\n",
       "      <th>202606</th>\n",
       "      <td>1499_219</td>\n",
       "      <td>2018-12-14</td>\n",
       "      <td>19.62</td>\n",
       "      <td>1499</td>\n",
       "    </tr>\n",
       "  </tbody>\n",
       "</table>\n",
       "<p>202607 rows × 4 columns</p>\n",
       "</div>"
      ],
      "text/plain": [
       "              id   call_date  duration  user_id\n",
       "0         1000_0  2018-07-25      0.00     1000\n",
       "1         1000_1  2018-08-17      0.00     1000\n",
       "2         1000_2  2018-06-11      2.85     1000\n",
       "3         1000_3  2018-09-21     13.80     1000\n",
       "4         1000_4  2018-12-15      5.18     1000\n",
       "...          ...         ...       ...      ...\n",
       "202602  1499_215  2018-12-26      0.76     1499\n",
       "202603  1499_216  2018-10-18     18.83     1499\n",
       "202604  1499_217  2018-11-10     10.81     1499\n",
       "202605  1499_218  2018-10-06      4.27     1499\n",
       "202606  1499_219  2018-12-14     19.62     1499\n",
       "\n",
       "[202607 rows x 4 columns]"
      ]
     },
     "execution_count": 6,
     "metadata": {},
     "output_type": "execute_result"
    }
   ],
   "source": [
    "calls"
   ]
  },
  {
   "cell_type": "code",
   "execution_count": 7,
   "metadata": {},
   "outputs": [
    {
     "name": "stdout",
     "output_type": "stream",
     "text": [
      "<class 'pandas.core.frame.DataFrame'>\n",
      "RangeIndex: 202607 entries, 0 to 202606\n",
      "Data columns (total 4 columns):\n",
      " #   Column     Non-Null Count   Dtype  \n",
      "---  ------     --------------   -----  \n",
      " 0   id         202607 non-null  object \n",
      " 1   call_date  202607 non-null  object \n",
      " 2   duration   202607 non-null  float64\n",
      " 3   user_id    202607 non-null  int64  \n",
      "dtypes: float64(1), int64(1), object(2)\n",
      "memory usage: 6.2+ MB\n"
     ]
    }
   ],
   "source": [
    "calls.info()"
   ]
  },
  {
   "cell_type": "markdown",
   "metadata": {},
   "source": [
    "Нужно поменять типы данных:\n",
    "* *call_date* на datetime\n",
    "* *duration* на int с округлением минут в большую сторону."
   ]
  },
  {
   "cell_type": "markdown",
   "metadata": {},
   "source": [
    "В данных вы есть звонки с нулевой продолжительностью (duration = 0.0). Это не ошибка: нулями обозначены пропущенные звонки."
   ]
  },
  {
   "cell_type": "code",
   "execution_count": 8,
   "metadata": {},
   "outputs": [
    {
     "data": {
      "text/html": [
       "<div>\n",
       "<style scoped>\n",
       "    .dataframe tbody tr th:only-of-type {\n",
       "        vertical-align: middle;\n",
       "    }\n",
       "\n",
       "    .dataframe tbody tr th {\n",
       "        vertical-align: top;\n",
       "    }\n",
       "\n",
       "    .dataframe thead th {\n",
       "        text-align: right;\n",
       "    }\n",
       "</style>\n",
       "<table border=\"1\" class=\"dataframe\">\n",
       "  <thead>\n",
       "    <tr style=\"text-align: right;\">\n",
       "      <th></th>\n",
       "      <th>id</th>\n",
       "      <th>mb_used</th>\n",
       "      <th>session_date</th>\n",
       "      <th>user_id</th>\n",
       "    </tr>\n",
       "  </thead>\n",
       "  <tbody>\n",
       "    <tr>\n",
       "      <th>0</th>\n",
       "      <td>1000_0</td>\n",
       "      <td>112.95</td>\n",
       "      <td>2018-11-25</td>\n",
       "      <td>1000</td>\n",
       "    </tr>\n",
       "    <tr>\n",
       "      <th>1</th>\n",
       "      <td>1000_1</td>\n",
       "      <td>1052.81</td>\n",
       "      <td>2018-09-07</td>\n",
       "      <td>1000</td>\n",
       "    </tr>\n",
       "    <tr>\n",
       "      <th>2</th>\n",
       "      <td>1000_2</td>\n",
       "      <td>1197.26</td>\n",
       "      <td>2018-06-25</td>\n",
       "      <td>1000</td>\n",
       "    </tr>\n",
       "    <tr>\n",
       "      <th>3</th>\n",
       "      <td>1000_3</td>\n",
       "      <td>550.27</td>\n",
       "      <td>2018-08-22</td>\n",
       "      <td>1000</td>\n",
       "    </tr>\n",
       "    <tr>\n",
       "      <th>4</th>\n",
       "      <td>1000_4</td>\n",
       "      <td>302.56</td>\n",
       "      <td>2018-09-24</td>\n",
       "      <td>1000</td>\n",
       "    </tr>\n",
       "    <tr>\n",
       "      <th>...</th>\n",
       "      <td>...</td>\n",
       "      <td>...</td>\n",
       "      <td>...</td>\n",
       "      <td>...</td>\n",
       "    </tr>\n",
       "    <tr>\n",
       "      <th>149391</th>\n",
       "      <td>1499_152</td>\n",
       "      <td>318.90</td>\n",
       "      <td>2018-10-03</td>\n",
       "      <td>1499</td>\n",
       "    </tr>\n",
       "    <tr>\n",
       "      <th>149392</th>\n",
       "      <td>1499_153</td>\n",
       "      <td>490.13</td>\n",
       "      <td>2018-12-14</td>\n",
       "      <td>1499</td>\n",
       "    </tr>\n",
       "    <tr>\n",
       "      <th>149393</th>\n",
       "      <td>1499_154</td>\n",
       "      <td>0.00</td>\n",
       "      <td>2018-10-27</td>\n",
       "      <td>1499</td>\n",
       "    </tr>\n",
       "    <tr>\n",
       "      <th>149394</th>\n",
       "      <td>1499_155</td>\n",
       "      <td>1246.32</td>\n",
       "      <td>2018-11-26</td>\n",
       "      <td>1499</td>\n",
       "    </tr>\n",
       "    <tr>\n",
       "      <th>149395</th>\n",
       "      <td>1499_156</td>\n",
       "      <td>544.37</td>\n",
       "      <td>2018-10-26</td>\n",
       "      <td>1499</td>\n",
       "    </tr>\n",
       "  </tbody>\n",
       "</table>\n",
       "<p>149396 rows × 4 columns</p>\n",
       "</div>"
      ],
      "text/plain": [
       "              id  mb_used session_date  user_id\n",
       "0         1000_0   112.95   2018-11-25     1000\n",
       "1         1000_1  1052.81   2018-09-07     1000\n",
       "2         1000_2  1197.26   2018-06-25     1000\n",
       "3         1000_3   550.27   2018-08-22     1000\n",
       "4         1000_4   302.56   2018-09-24     1000\n",
       "...          ...      ...          ...      ...\n",
       "149391  1499_152   318.90   2018-10-03     1499\n",
       "149392  1499_153   490.13   2018-12-14     1499\n",
       "149393  1499_154     0.00   2018-10-27     1499\n",
       "149394  1499_155  1246.32   2018-11-26     1499\n",
       "149395  1499_156   544.37   2018-10-26     1499\n",
       "\n",
       "[149396 rows x 4 columns]"
      ]
     },
     "execution_count": 8,
     "metadata": {},
     "output_type": "execute_result"
    }
   ],
   "source": [
    "internet"
   ]
  },
  {
   "cell_type": "code",
   "execution_count": 9,
   "metadata": {},
   "outputs": [
    {
     "name": "stdout",
     "output_type": "stream",
     "text": [
      "<class 'pandas.core.frame.DataFrame'>\n",
      "Int64Index: 149396 entries, 0 to 149395\n",
      "Data columns (total 4 columns):\n",
      " #   Column        Non-Null Count   Dtype  \n",
      "---  ------        --------------   -----  \n",
      " 0   id            149396 non-null  object \n",
      " 1   mb_used       149396 non-null  float64\n",
      " 2   session_date  149396 non-null  object \n",
      " 3   user_id       149396 non-null  int64  \n",
      "dtypes: float64(1), int64(1), object(2)\n",
      "memory usage: 5.7+ MB\n"
     ]
    }
   ],
   "source": [
    "internet.info()"
   ]
  },
  {
   "cell_type": "code",
   "execution_count": 10,
   "metadata": {},
   "outputs": [
    {
     "data": {
      "text/html": [
       "<div>\n",
       "<style scoped>\n",
       "    .dataframe tbody tr th:only-of-type {\n",
       "        vertical-align: middle;\n",
       "    }\n",
       "\n",
       "    .dataframe tbody tr th {\n",
       "        vertical-align: top;\n",
       "    }\n",
       "\n",
       "    .dataframe thead th {\n",
       "        text-align: right;\n",
       "    }\n",
       "</style>\n",
       "<table border=\"1\" class=\"dataframe\">\n",
       "  <thead>\n",
       "    <tr style=\"text-align: right;\">\n",
       "      <th></th>\n",
       "      <th>mb_used</th>\n",
       "      <th>user_id</th>\n",
       "    </tr>\n",
       "  </thead>\n",
       "  <tbody>\n",
       "    <tr>\n",
       "      <th>count</th>\n",
       "      <td>149396.000000</td>\n",
       "      <td>149396.000000</td>\n",
       "    </tr>\n",
       "    <tr>\n",
       "      <th>mean</th>\n",
       "      <td>370.192426</td>\n",
       "      <td>1252.099842</td>\n",
       "    </tr>\n",
       "    <tr>\n",
       "      <th>std</th>\n",
       "      <td>278.300951</td>\n",
       "      <td>144.050823</td>\n",
       "    </tr>\n",
       "    <tr>\n",
       "      <th>min</th>\n",
       "      <td>0.000000</td>\n",
       "      <td>1000.000000</td>\n",
       "    </tr>\n",
       "    <tr>\n",
       "      <th>25%</th>\n",
       "      <td>138.187500</td>\n",
       "      <td>1130.000000</td>\n",
       "    </tr>\n",
       "    <tr>\n",
       "      <th>50%</th>\n",
       "      <td>348.015000</td>\n",
       "      <td>1251.000000</td>\n",
       "    </tr>\n",
       "    <tr>\n",
       "      <th>75%</th>\n",
       "      <td>559.552500</td>\n",
       "      <td>1380.000000</td>\n",
       "    </tr>\n",
       "    <tr>\n",
       "      <th>max</th>\n",
       "      <td>1724.830000</td>\n",
       "      <td>1499.000000</td>\n",
       "    </tr>\n",
       "  </tbody>\n",
       "</table>\n",
       "</div>"
      ],
      "text/plain": [
       "             mb_used        user_id\n",
       "count  149396.000000  149396.000000\n",
       "mean      370.192426    1252.099842\n",
       "std       278.300951     144.050823\n",
       "min         0.000000    1000.000000\n",
       "25%       138.187500    1130.000000\n",
       "50%       348.015000    1251.000000\n",
       "75%       559.552500    1380.000000\n",
       "max      1724.830000    1499.000000"
      ]
     },
     "execution_count": 10,
     "metadata": {},
     "output_type": "execute_result"
    }
   ],
   "source": [
    "internet.describe()"
   ]
  },
  {
   "cell_type": "markdown",
   "metadata": {},
   "source": [
    "Тип данных *session_date* поменять на datetime.  \n",
    "Также нужно убрать сессии с 0-м трафиком."
   ]
  },
  {
   "cell_type": "code",
   "execution_count": 11,
   "metadata": {},
   "outputs": [
    {
     "data": {
      "text/html": [
       "<div>\n",
       "<style scoped>\n",
       "    .dataframe tbody tr th:only-of-type {\n",
       "        vertical-align: middle;\n",
       "    }\n",
       "\n",
       "    .dataframe tbody tr th {\n",
       "        vertical-align: top;\n",
       "    }\n",
       "\n",
       "    .dataframe thead th {\n",
       "        text-align: right;\n",
       "    }\n",
       "</style>\n",
       "<table border=\"1\" class=\"dataframe\">\n",
       "  <thead>\n",
       "    <tr style=\"text-align: right;\">\n",
       "      <th></th>\n",
       "      <th>id</th>\n",
       "      <th>message_date</th>\n",
       "      <th>user_id</th>\n",
       "    </tr>\n",
       "  </thead>\n",
       "  <tbody>\n",
       "    <tr>\n",
       "      <th>0</th>\n",
       "      <td>1000_0</td>\n",
       "      <td>2018-06-27</td>\n",
       "      <td>1000</td>\n",
       "    </tr>\n",
       "    <tr>\n",
       "      <th>1</th>\n",
       "      <td>1000_1</td>\n",
       "      <td>2018-10-08</td>\n",
       "      <td>1000</td>\n",
       "    </tr>\n",
       "    <tr>\n",
       "      <th>2</th>\n",
       "      <td>1000_2</td>\n",
       "      <td>2018-08-04</td>\n",
       "      <td>1000</td>\n",
       "    </tr>\n",
       "    <tr>\n",
       "      <th>3</th>\n",
       "      <td>1000_3</td>\n",
       "      <td>2018-06-16</td>\n",
       "      <td>1000</td>\n",
       "    </tr>\n",
       "    <tr>\n",
       "      <th>4</th>\n",
       "      <td>1000_4</td>\n",
       "      <td>2018-12-05</td>\n",
       "      <td>1000</td>\n",
       "    </tr>\n",
       "    <tr>\n",
       "      <th>...</th>\n",
       "      <td>...</td>\n",
       "      <td>...</td>\n",
       "      <td>...</td>\n",
       "    </tr>\n",
       "    <tr>\n",
       "      <th>123031</th>\n",
       "      <td>1499_179</td>\n",
       "      <td>2018-12-12</td>\n",
       "      <td>1499</td>\n",
       "    </tr>\n",
       "    <tr>\n",
       "      <th>123032</th>\n",
       "      <td>1499_180</td>\n",
       "      <td>2018-09-28</td>\n",
       "      <td>1499</td>\n",
       "    </tr>\n",
       "    <tr>\n",
       "      <th>123033</th>\n",
       "      <td>1499_181</td>\n",
       "      <td>2018-09-27</td>\n",
       "      <td>1499</td>\n",
       "    </tr>\n",
       "    <tr>\n",
       "      <th>123034</th>\n",
       "      <td>1499_182</td>\n",
       "      <td>2018-11-15</td>\n",
       "      <td>1499</td>\n",
       "    </tr>\n",
       "    <tr>\n",
       "      <th>123035</th>\n",
       "      <td>1499_183</td>\n",
       "      <td>2018-11-16</td>\n",
       "      <td>1499</td>\n",
       "    </tr>\n",
       "  </tbody>\n",
       "</table>\n",
       "<p>123036 rows × 3 columns</p>\n",
       "</div>"
      ],
      "text/plain": [
       "              id message_date  user_id\n",
       "0         1000_0   2018-06-27     1000\n",
       "1         1000_1   2018-10-08     1000\n",
       "2         1000_2   2018-08-04     1000\n",
       "3         1000_3   2018-06-16     1000\n",
       "4         1000_4   2018-12-05     1000\n",
       "...          ...          ...      ...\n",
       "123031  1499_179   2018-12-12     1499\n",
       "123032  1499_180   2018-09-28     1499\n",
       "123033  1499_181   2018-09-27     1499\n",
       "123034  1499_182   2018-11-15     1499\n",
       "123035  1499_183   2018-11-16     1499\n",
       "\n",
       "[123036 rows x 3 columns]"
      ]
     },
     "execution_count": 11,
     "metadata": {},
     "output_type": "execute_result"
    }
   ],
   "source": [
    "messages"
   ]
  },
  {
   "cell_type": "code",
   "execution_count": 12,
   "metadata": {},
   "outputs": [
    {
     "name": "stdout",
     "output_type": "stream",
     "text": [
      "<class 'pandas.core.frame.DataFrame'>\n",
      "RangeIndex: 123036 entries, 0 to 123035\n",
      "Data columns (total 3 columns):\n",
      " #   Column        Non-Null Count   Dtype \n",
      "---  ------        --------------   ----- \n",
      " 0   id            123036 non-null  object\n",
      " 1   message_date  123036 non-null  object\n",
      " 2   user_id       123036 non-null  int64 \n",
      "dtypes: int64(1), object(2)\n",
      "memory usage: 2.8+ MB\n"
     ]
    }
   ],
   "source": [
    "messages.info()"
   ]
  },
  {
   "cell_type": "markdown",
   "metadata": {},
   "source": [
    "Поменять тип данных *message_date* на datetime"
   ]
  },
  {
   "cell_type": "code",
   "execution_count": 13,
   "metadata": {},
   "outputs": [
    {
     "data": {
      "text/html": [
       "<div>\n",
       "<style scoped>\n",
       "    .dataframe tbody tr th:only-of-type {\n",
       "        vertical-align: middle;\n",
       "    }\n",
       "\n",
       "    .dataframe tbody tr th {\n",
       "        vertical-align: top;\n",
       "    }\n",
       "\n",
       "    .dataframe thead th {\n",
       "        text-align: right;\n",
       "    }\n",
       "</style>\n",
       "<table border=\"1\" class=\"dataframe\">\n",
       "  <thead>\n",
       "    <tr style=\"text-align: right;\">\n",
       "      <th></th>\n",
       "      <th>messages_included</th>\n",
       "      <th>mb_per_month_included</th>\n",
       "      <th>minutes_included</th>\n",
       "      <th>rub_monthly_fee</th>\n",
       "      <th>rub_per_gb</th>\n",
       "      <th>rub_per_message</th>\n",
       "      <th>rub_per_minute</th>\n",
       "      <th>tariff_name</th>\n",
       "    </tr>\n",
       "  </thead>\n",
       "  <tbody>\n",
       "    <tr>\n",
       "      <th>0</th>\n",
       "      <td>50</td>\n",
       "      <td>15360</td>\n",
       "      <td>500</td>\n",
       "      <td>550</td>\n",
       "      <td>200</td>\n",
       "      <td>3</td>\n",
       "      <td>3</td>\n",
       "      <td>smart</td>\n",
       "    </tr>\n",
       "    <tr>\n",
       "      <th>1</th>\n",
       "      <td>1000</td>\n",
       "      <td>30720</td>\n",
       "      <td>3000</td>\n",
       "      <td>1950</td>\n",
       "      <td>150</td>\n",
       "      <td>1</td>\n",
       "      <td>1</td>\n",
       "      <td>ultra</td>\n",
       "    </tr>\n",
       "  </tbody>\n",
       "</table>\n",
       "</div>"
      ],
      "text/plain": [
       "   messages_included  mb_per_month_included  minutes_included  \\\n",
       "0                 50                  15360               500   \n",
       "1               1000                  30720              3000   \n",
       "\n",
       "   rub_monthly_fee  rub_per_gb  rub_per_message  rub_per_minute tariff_name  \n",
       "0              550         200                3               3       smart  \n",
       "1             1950         150                1               1       ultra  "
      ]
     },
     "execution_count": 13,
     "metadata": {},
     "output_type": "execute_result"
    }
   ],
   "source": [
    "tariffs"
   ]
  },
  {
   "cell_type": "markdown",
   "metadata": {},
   "source": [
    "### Вывод"
   ]
  },
  {
   "cell_type": "markdown",
   "metadata": {},
   "source": [
    "Необходимо подготовить данные для дальнейшего анализа, а именно:\n",
    "1. В 'users' нужно поменять тип данных в столбцах *churn_date* и *reg_date* на datetime.\n",
    "2. В 'calls' нужно поменять типы данных в столбцах:\n",
    "* *call_date* на datetime\n",
    "* *duration* на int с округлением минут в большую сторону.\n",
    "3. В 'internet' тип данных столбца *session_date* поменять на datetime. Также нужно убрать сессии с 0-м трафиком.\n",
    "4. Поменять в 'messages' тип данных *message_date* на datetime"
   ]
  },
  {
   "cell_type": "markdown",
   "metadata": {},
   "source": [
    "Для каждого пользователя посчиатем:\n",
    "1. количество сделанных звонков и израсходованных минут разговора по месяцам;\n",
    "2. количество отправленных сообщений по месяцам;\n",
    "3. объем израсходованного интернет-трафика по месяцам;\n",
    "4. помесячную выручку с каждого пользователя."
   ]
  },
  {
   "cell_type": "markdown",
   "metadata": {},
   "source": [
    "## Подготовка данных"
   ]
  },
  {
   "cell_type": "code",
   "execution_count": 14,
   "metadata": {},
   "outputs": [],
   "source": [
    "users.churn_date = pd.to_datetime(users.churn_date, format='%Y-%m-%d')\n",
    "users.reg_date = pd.to_datetime(users.reg_date, format='%Y-%m-%d')"
   ]
  },
  {
   "cell_type": "code",
   "execution_count": 15,
   "metadata": {},
   "outputs": [],
   "source": [
    "calls.call_date = pd.to_datetime(calls.call_date)\n",
    "messages.message_date = pd.to_datetime(messages.message_date)\n",
    "internet.session_date = pd.to_datetime(internet.session_date)"
   ]
  },
  {
   "cell_type": "code",
   "execution_count": 16,
   "metadata": {},
   "outputs": [
    {
     "data": {
      "text/plain": [
       "id              19598\n",
       "mb_used         19598\n",
       "session_date    19598\n",
       "user_id         19598\n",
       "dtype: int64"
      ]
     },
     "execution_count": 16,
     "metadata": {},
     "output_type": "execute_result"
    }
   ],
   "source": [
    "internet[internet.mb_used == 0].count()"
   ]
  },
  {
   "cell_type": "code",
   "execution_count": 17,
   "metadata": {},
   "outputs": [],
   "source": [
    "internet = internet[internet.mb_used != 0]"
   ]
  },
  {
   "cell_type": "code",
   "execution_count": 18,
   "metadata": {},
   "outputs": [],
   "source": [
    "calls['month'] = calls.call_date.astype('datetime64[M]')\n",
    "internet['month'] = internet.session_date.astype('datetime64[M]')\n",
    "messages['month'] = messages.message_date.astype('datetime64[M]')"
   ]
  },
  {
   "cell_type": "code",
   "execution_count": 19,
   "metadata": {},
   "outputs": [],
   "source": [
    "calls.duration = (np.ceil(calls.duration)).astype('int')"
   ]
  },
  {
   "cell_type": "code",
   "execution_count": 20,
   "metadata": {},
   "outputs": [
    {
     "data": {
      "text/html": [
       "<div>\n",
       "<style scoped>\n",
       "    .dataframe tbody tr th:only-of-type {\n",
       "        vertical-align: middle;\n",
       "    }\n",
       "\n",
       "    .dataframe tbody tr th {\n",
       "        vertical-align: top;\n",
       "    }\n",
       "\n",
       "    .dataframe thead th {\n",
       "        text-align: right;\n",
       "    }\n",
       "</style>\n",
       "<table border=\"1\" class=\"dataframe\">\n",
       "  <thead>\n",
       "    <tr style=\"text-align: right;\">\n",
       "      <th></th>\n",
       "      <th>user_id</th>\n",
       "      <th>month</th>\n",
       "      <th>minutes</th>\n",
       "    </tr>\n",
       "  </thead>\n",
       "  <tbody>\n",
       "    <tr>\n",
       "      <th>0</th>\n",
       "      <td>1000</td>\n",
       "      <td>2018-05-01</td>\n",
       "      <td>159</td>\n",
       "    </tr>\n",
       "    <tr>\n",
       "      <th>1</th>\n",
       "      <td>1000</td>\n",
       "      <td>2018-06-01</td>\n",
       "      <td>172</td>\n",
       "    </tr>\n",
       "    <tr>\n",
       "      <th>2</th>\n",
       "      <td>1000</td>\n",
       "      <td>2018-07-01</td>\n",
       "      <td>340</td>\n",
       "    </tr>\n",
       "    <tr>\n",
       "      <th>3</th>\n",
       "      <td>1000</td>\n",
       "      <td>2018-08-01</td>\n",
       "      <td>408</td>\n",
       "    </tr>\n",
       "    <tr>\n",
       "      <th>4</th>\n",
       "      <td>1000</td>\n",
       "      <td>2018-09-01</td>\n",
       "      <td>466</td>\n",
       "    </tr>\n",
       "    <tr>\n",
       "      <th>...</th>\n",
       "      <td>...</td>\n",
       "      <td>...</td>\n",
       "      <td>...</td>\n",
       "    </tr>\n",
       "    <tr>\n",
       "      <th>3169</th>\n",
       "      <td>1498</td>\n",
       "      <td>2018-10-01</td>\n",
       "      <td>247</td>\n",
       "    </tr>\n",
       "    <tr>\n",
       "      <th>3170</th>\n",
       "      <td>1499</td>\n",
       "      <td>2018-09-01</td>\n",
       "      <td>70</td>\n",
       "    </tr>\n",
       "    <tr>\n",
       "      <th>3171</th>\n",
       "      <td>1499</td>\n",
       "      <td>2018-10-01</td>\n",
       "      <td>449</td>\n",
       "    </tr>\n",
       "    <tr>\n",
       "      <th>3172</th>\n",
       "      <td>1499</td>\n",
       "      <td>2018-11-01</td>\n",
       "      <td>612</td>\n",
       "    </tr>\n",
       "    <tr>\n",
       "      <th>3173</th>\n",
       "      <td>1499</td>\n",
       "      <td>2018-12-01</td>\n",
       "      <td>492</td>\n",
       "    </tr>\n",
       "  </tbody>\n",
       "</table>\n",
       "<p>3174 rows × 3 columns</p>\n",
       "</div>"
      ],
      "text/plain": [
       "      user_id      month  minutes\n",
       "0        1000 2018-05-01      159\n",
       "1        1000 2018-06-01      172\n",
       "2        1000 2018-07-01      340\n",
       "3        1000 2018-08-01      408\n",
       "4        1000 2018-09-01      466\n",
       "...       ...        ...      ...\n",
       "3169     1498 2018-10-01      247\n",
       "3170     1499 2018-09-01       70\n",
       "3171     1499 2018-10-01      449\n",
       "3172     1499 2018-11-01      612\n",
       "3173     1499 2018-12-01      492\n",
       "\n",
       "[3174 rows x 3 columns]"
      ]
     },
     "execution_count": 20,
     "metadata": {},
     "output_type": "execute_result"
    }
   ],
   "source": [
    "calls_per_month = calls.pivot_table(index = ['user_id', 'month'], values = 'duration', aggfunc='sum').reset_index().rename(columns={'duration': 'minutes'})\n",
    "calls_per_month"
   ]
  },
  {
   "cell_type": "code",
   "execution_count": 21,
   "metadata": {},
   "outputs": [
    {
     "data": {
      "text/html": [
       "<div>\n",
       "<style scoped>\n",
       "    .dataframe tbody tr th:only-of-type {\n",
       "        vertical-align: middle;\n",
       "    }\n",
       "\n",
       "    .dataframe tbody tr th {\n",
       "        vertical-align: top;\n",
       "    }\n",
       "\n",
       "    .dataframe thead th {\n",
       "        text-align: right;\n",
       "    }\n",
       "</style>\n",
       "<table border=\"1\" class=\"dataframe\">\n",
       "  <thead>\n",
       "    <tr style=\"text-align: right;\">\n",
       "      <th></th>\n",
       "      <th>user_id</th>\n",
       "      <th>month</th>\n",
       "      <th>gb</th>\n",
       "    </tr>\n",
       "  </thead>\n",
       "  <tbody>\n",
       "    <tr>\n",
       "      <th>0</th>\n",
       "      <td>1000</td>\n",
       "      <td>2018-05-01</td>\n",
       "      <td>3</td>\n",
       "    </tr>\n",
       "    <tr>\n",
       "      <th>1</th>\n",
       "      <td>1000</td>\n",
       "      <td>2018-06-01</td>\n",
       "      <td>23</td>\n",
       "    </tr>\n",
       "    <tr>\n",
       "      <th>2</th>\n",
       "      <td>1000</td>\n",
       "      <td>2018-07-01</td>\n",
       "      <td>14</td>\n",
       "    </tr>\n",
       "    <tr>\n",
       "      <th>3</th>\n",
       "      <td>1000</td>\n",
       "      <td>2018-08-01</td>\n",
       "      <td>14</td>\n",
       "    </tr>\n",
       "    <tr>\n",
       "      <th>4</th>\n",
       "      <td>1000</td>\n",
       "      <td>2018-09-01</td>\n",
       "      <td>15</td>\n",
       "    </tr>\n",
       "    <tr>\n",
       "      <th>...</th>\n",
       "      <td>...</td>\n",
       "      <td>...</td>\n",
       "      <td>...</td>\n",
       "    </tr>\n",
       "    <tr>\n",
       "      <th>3196</th>\n",
       "      <td>1498</td>\n",
       "      <td>2018-10-01</td>\n",
       "      <td>21</td>\n",
       "    </tr>\n",
       "    <tr>\n",
       "      <th>3197</th>\n",
       "      <td>1499</td>\n",
       "      <td>2018-09-01</td>\n",
       "      <td>2</td>\n",
       "    </tr>\n",
       "    <tr>\n",
       "      <th>3198</th>\n",
       "      <td>1499</td>\n",
       "      <td>2018-10-01</td>\n",
       "      <td>18</td>\n",
       "    </tr>\n",
       "    <tr>\n",
       "      <th>3199</th>\n",
       "      <td>1499</td>\n",
       "      <td>2018-11-01</td>\n",
       "      <td>18</td>\n",
       "    </tr>\n",
       "    <tr>\n",
       "      <th>3200</th>\n",
       "      <td>1499</td>\n",
       "      <td>2018-12-01</td>\n",
       "      <td>13</td>\n",
       "    </tr>\n",
       "  </tbody>\n",
       "</table>\n",
       "<p>3201 rows × 3 columns</p>\n",
       "</div>"
      ],
      "text/plain": [
       "      user_id      month  gb\n",
       "0        1000 2018-05-01   3\n",
       "1        1000 2018-06-01  23\n",
       "2        1000 2018-07-01  14\n",
       "3        1000 2018-08-01  14\n",
       "4        1000 2018-09-01  15\n",
       "...       ...        ...  ..\n",
       "3196     1498 2018-10-01  21\n",
       "3197     1499 2018-09-01   2\n",
       "3198     1499 2018-10-01  18\n",
       "3199     1499 2018-11-01  18\n",
       "3200     1499 2018-12-01  13\n",
       "\n",
       "[3201 rows x 3 columns]"
      ]
     },
     "execution_count": 21,
     "metadata": {},
     "output_type": "execute_result"
    }
   ],
   "source": [
    "gb_per_month = np.ceil(internet.groupby(['user_id', 'month'])['mb_used'].sum() / 1024).astype('int').reset_index().rename(columns={'mb_used': 'gb'})\n",
    "gb_per_month"
   ]
  },
  {
   "cell_type": "code",
   "execution_count": 22,
   "metadata": {},
   "outputs": [
    {
     "data": {
      "text/html": [
       "<div>\n",
       "<style scoped>\n",
       "    .dataframe tbody tr th:only-of-type {\n",
       "        vertical-align: middle;\n",
       "    }\n",
       "\n",
       "    .dataframe tbody tr th {\n",
       "        vertical-align: top;\n",
       "    }\n",
       "\n",
       "    .dataframe thead th {\n",
       "        text-align: right;\n",
       "    }\n",
       "</style>\n",
       "<table border=\"1\" class=\"dataframe\">\n",
       "  <thead>\n",
       "    <tr style=\"text-align: right;\">\n",
       "      <th></th>\n",
       "      <th>user_id</th>\n",
       "      <th>month</th>\n",
       "      <th>messages</th>\n",
       "    </tr>\n",
       "  </thead>\n",
       "  <tbody>\n",
       "    <tr>\n",
       "      <th>0</th>\n",
       "      <td>1000</td>\n",
       "      <td>2018-05-01</td>\n",
       "      <td>22</td>\n",
       "    </tr>\n",
       "    <tr>\n",
       "      <th>1</th>\n",
       "      <td>1000</td>\n",
       "      <td>2018-06-01</td>\n",
       "      <td>60</td>\n",
       "    </tr>\n",
       "    <tr>\n",
       "      <th>2</th>\n",
       "      <td>1000</td>\n",
       "      <td>2018-07-01</td>\n",
       "      <td>75</td>\n",
       "    </tr>\n",
       "    <tr>\n",
       "      <th>3</th>\n",
       "      <td>1000</td>\n",
       "      <td>2018-08-01</td>\n",
       "      <td>81</td>\n",
       "    </tr>\n",
       "    <tr>\n",
       "      <th>4</th>\n",
       "      <td>1000</td>\n",
       "      <td>2018-09-01</td>\n",
       "      <td>57</td>\n",
       "    </tr>\n",
       "    <tr>\n",
       "      <th>...</th>\n",
       "      <td>...</td>\n",
       "      <td>...</td>\n",
       "      <td>...</td>\n",
       "    </tr>\n",
       "    <tr>\n",
       "      <th>2712</th>\n",
       "      <td>1498</td>\n",
       "      <td>2018-10-01</td>\n",
       "      <td>42</td>\n",
       "    </tr>\n",
       "    <tr>\n",
       "      <th>2713</th>\n",
       "      <td>1499</td>\n",
       "      <td>2018-09-01</td>\n",
       "      <td>11</td>\n",
       "    </tr>\n",
       "    <tr>\n",
       "      <th>2714</th>\n",
       "      <td>1499</td>\n",
       "      <td>2018-10-01</td>\n",
       "      <td>48</td>\n",
       "    </tr>\n",
       "    <tr>\n",
       "      <th>2715</th>\n",
       "      <td>1499</td>\n",
       "      <td>2018-11-01</td>\n",
       "      <td>59</td>\n",
       "    </tr>\n",
       "    <tr>\n",
       "      <th>2716</th>\n",
       "      <td>1499</td>\n",
       "      <td>2018-12-01</td>\n",
       "      <td>66</td>\n",
       "    </tr>\n",
       "  </tbody>\n",
       "</table>\n",
       "<p>2717 rows × 3 columns</p>\n",
       "</div>"
      ],
      "text/plain": [
       "      user_id      month  messages\n",
       "0        1000 2018-05-01        22\n",
       "1        1000 2018-06-01        60\n",
       "2        1000 2018-07-01        75\n",
       "3        1000 2018-08-01        81\n",
       "4        1000 2018-09-01        57\n",
       "...       ...        ...       ...\n",
       "2712     1498 2018-10-01        42\n",
       "2713     1499 2018-09-01        11\n",
       "2714     1499 2018-10-01        48\n",
       "2715     1499 2018-11-01        59\n",
       "2716     1499 2018-12-01        66\n",
       "\n",
       "[2717 rows x 3 columns]"
      ]
     },
     "execution_count": 22,
     "metadata": {},
     "output_type": "execute_result"
    }
   ],
   "source": [
    "mes_per_month = messages.groupby(['user_id', 'month'])['id'].count().reset_index().rename(columns={'id':'messages'})\n",
    "mes_per_month"
   ]
  },
  {
   "cell_type": "code",
   "execution_count": 23,
   "metadata": {},
   "outputs": [
    {
     "data": {
      "text/html": [
       "<div>\n",
       "<style scoped>\n",
       "    .dataframe tbody tr th:only-of-type {\n",
       "        vertical-align: middle;\n",
       "    }\n",
       "\n",
       "    .dataframe tbody tr th {\n",
       "        vertical-align: top;\n",
       "    }\n",
       "\n",
       "    .dataframe thead th {\n",
       "        text-align: right;\n",
       "    }\n",
       "</style>\n",
       "<table border=\"1\" class=\"dataframe\">\n",
       "  <thead>\n",
       "    <tr style=\"text-align: right;\">\n",
       "      <th></th>\n",
       "      <th>user_id</th>\n",
       "      <th>month</th>\n",
       "      <th>minutes</th>\n",
       "      <th>gb</th>\n",
       "      <th>messages</th>\n",
       "      <th>tariff</th>\n",
       "    </tr>\n",
       "  </thead>\n",
       "  <tbody>\n",
       "    <tr>\n",
       "      <th>0</th>\n",
       "      <td>1000</td>\n",
       "      <td>2018-05-01</td>\n",
       "      <td>159.0</td>\n",
       "      <td>3.0</td>\n",
       "      <td>22.0</td>\n",
       "      <td>ultra</td>\n",
       "    </tr>\n",
       "    <tr>\n",
       "      <th>1</th>\n",
       "      <td>1000</td>\n",
       "      <td>2018-06-01</td>\n",
       "      <td>172.0</td>\n",
       "      <td>23.0</td>\n",
       "      <td>60.0</td>\n",
       "      <td>ultra</td>\n",
       "    </tr>\n",
       "    <tr>\n",
       "      <th>2</th>\n",
       "      <td>1000</td>\n",
       "      <td>2018-07-01</td>\n",
       "      <td>340.0</td>\n",
       "      <td>14.0</td>\n",
       "      <td>75.0</td>\n",
       "      <td>ultra</td>\n",
       "    </tr>\n",
       "    <tr>\n",
       "      <th>3</th>\n",
       "      <td>1000</td>\n",
       "      <td>2018-08-01</td>\n",
       "      <td>408.0</td>\n",
       "      <td>14.0</td>\n",
       "      <td>81.0</td>\n",
       "      <td>ultra</td>\n",
       "    </tr>\n",
       "    <tr>\n",
       "      <th>4</th>\n",
       "      <td>1000</td>\n",
       "      <td>2018-09-01</td>\n",
       "      <td>466.0</td>\n",
       "      <td>15.0</td>\n",
       "      <td>57.0</td>\n",
       "      <td>ultra</td>\n",
       "    </tr>\n",
       "    <tr>\n",
       "      <th>...</th>\n",
       "      <td>...</td>\n",
       "      <td>...</td>\n",
       "      <td>...</td>\n",
       "      <td>...</td>\n",
       "      <td>...</td>\n",
       "      <td>...</td>\n",
       "    </tr>\n",
       "    <tr>\n",
       "      <th>3211</th>\n",
       "      <td>1489</td>\n",
       "      <td>2018-10-01</td>\n",
       "      <td>NaN</td>\n",
       "      <td>20.0</td>\n",
       "      <td>21.0</td>\n",
       "      <td>smart</td>\n",
       "    </tr>\n",
       "    <tr>\n",
       "      <th>3212</th>\n",
       "      <td>1489</td>\n",
       "      <td>2018-11-01</td>\n",
       "      <td>NaN</td>\n",
       "      <td>18.0</td>\n",
       "      <td>20.0</td>\n",
       "      <td>smart</td>\n",
       "    </tr>\n",
       "    <tr>\n",
       "      <th>3213</th>\n",
       "      <td>1489</td>\n",
       "      <td>2018-12-01</td>\n",
       "      <td>NaN</td>\n",
       "      <td>17.0</td>\n",
       "      <td>35.0</td>\n",
       "      <td>smart</td>\n",
       "    </tr>\n",
       "    <tr>\n",
       "      <th>3214</th>\n",
       "      <td>1128</td>\n",
       "      <td>NaT</td>\n",
       "      <td>NaN</td>\n",
       "      <td>NaN</td>\n",
       "      <td>NaN</td>\n",
       "      <td>ultra</td>\n",
       "    </tr>\n",
       "    <tr>\n",
       "      <th>3215</th>\n",
       "      <td>1371</td>\n",
       "      <td>NaT</td>\n",
       "      <td>NaN</td>\n",
       "      <td>NaN</td>\n",
       "      <td>NaN</td>\n",
       "      <td>smart</td>\n",
       "    </tr>\n",
       "  </tbody>\n",
       "</table>\n",
       "<p>3216 rows × 6 columns</p>\n",
       "</div>"
      ],
      "text/plain": [
       "      user_id      month  minutes    gb  messages tariff\n",
       "0        1000 2018-05-01    159.0   3.0      22.0  ultra\n",
       "1        1000 2018-06-01    172.0  23.0      60.0  ultra\n",
       "2        1000 2018-07-01    340.0  14.0      75.0  ultra\n",
       "3        1000 2018-08-01    408.0  14.0      81.0  ultra\n",
       "4        1000 2018-09-01    466.0  15.0      57.0  ultra\n",
       "...       ...        ...      ...   ...       ...    ...\n",
       "3211     1489 2018-10-01      NaN  20.0      21.0  smart\n",
       "3212     1489 2018-11-01      NaN  18.0      20.0  smart\n",
       "3213     1489 2018-12-01      NaN  17.0      35.0  smart\n",
       "3214     1128        NaT      NaN   NaN       NaN  ultra\n",
       "3215     1371        NaT      NaN   NaN       NaN  smart\n",
       "\n",
       "[3216 rows x 6 columns]"
      ]
     },
     "execution_count": 23,
     "metadata": {},
     "output_type": "execute_result"
    }
   ],
   "source": [
    "user_per_month = (calls_per_month\n",
    " .merge(gb_per_month, on=['user_id', 'month'], how='outer')\n",
    " .merge(mes_per_month, on=['user_id', 'month'], how='outer')\n",
    " .merge(users[['user_id', 'tariff']], on='user_id', how='outer')\n",
    " )\n",
    "user_per_month"
   ]
  },
  {
   "cell_type": "code",
   "execution_count": 24,
   "metadata": {},
   "outputs": [
    {
     "data": {
      "text/html": [
       "<div>\n",
       "<style scoped>\n",
       "    .dataframe tbody tr th:only-of-type {\n",
       "        vertical-align: middle;\n",
       "    }\n",
       "\n",
       "    .dataframe tbody tr th {\n",
       "        vertical-align: top;\n",
       "    }\n",
       "\n",
       "    .dataframe thead th {\n",
       "        text-align: right;\n",
       "    }\n",
       "</style>\n",
       "<table border=\"1\" class=\"dataframe\">\n",
       "  <thead>\n",
       "    <tr style=\"text-align: right;\">\n",
       "      <th></th>\n",
       "      <th>user_id</th>\n",
       "      <th>month</th>\n",
       "      <th>minutes</th>\n",
       "      <th>gb</th>\n",
       "      <th>messages</th>\n",
       "      <th>tariff</th>\n",
       "    </tr>\n",
       "  </thead>\n",
       "  <tbody>\n",
       "    <tr>\n",
       "      <th>3214</th>\n",
       "      <td>1128</td>\n",
       "      <td>NaT</td>\n",
       "      <td>NaN</td>\n",
       "      <td>NaN</td>\n",
       "      <td>NaN</td>\n",
       "      <td>ultra</td>\n",
       "    </tr>\n",
       "    <tr>\n",
       "      <th>3215</th>\n",
       "      <td>1371</td>\n",
       "      <td>NaT</td>\n",
       "      <td>NaN</td>\n",
       "      <td>NaN</td>\n",
       "      <td>NaN</td>\n",
       "      <td>smart</td>\n",
       "    </tr>\n",
       "  </tbody>\n",
       "</table>\n",
       "</div>"
      ],
      "text/plain": [
       "      user_id month  minutes  gb  messages tariff\n",
       "3214     1128   NaT      NaN NaN       NaN  ultra\n",
       "3215     1371   NaT      NaN NaN       NaN  smart"
      ]
     },
     "execution_count": 24,
     "metadata": {},
     "output_type": "execute_result"
    }
   ],
   "source": [
    "user_per_month[user_per_month.month.isna()]"
   ]
  },
  {
   "cell_type": "code",
   "execution_count": 25,
   "metadata": {},
   "outputs": [],
   "source": [
    "user_per_month.dropna(subset=['month'], inplace=True)"
   ]
  },
  {
   "cell_type": "code",
   "execution_count": 26,
   "metadata": {},
   "outputs": [
    {
     "name": "stdout",
     "output_type": "stream",
     "text": [
      "<class 'pandas.core.frame.DataFrame'>\n",
      "Int64Index: 3214 entries, 0 to 3213\n",
      "Data columns (total 6 columns):\n",
      " #   Column    Non-Null Count  Dtype         \n",
      "---  ------    --------------  -----         \n",
      " 0   user_id   3214 non-null   int64         \n",
      " 1   month     3214 non-null   datetime64[ns]\n",
      " 2   minutes   3174 non-null   float64       \n",
      " 3   gb        3201 non-null   float64       \n",
      " 4   messages  2717 non-null   float64       \n",
      " 5   tariff    3214 non-null   object        \n",
      "dtypes: datetime64[ns](1), float64(3), int64(1), object(1)\n",
      "memory usage: 175.8+ KB\n"
     ]
    }
   ],
   "source": [
    "user_per_month.info()"
   ]
  },
  {
   "cell_type": "markdown",
   "metadata": {},
   "source": [
    "Функция для подсчета выручки с каждого пользователя."
   ]
  },
  {
   "cell_type": "code",
   "execution_count": 27,
   "metadata": {},
   "outputs": [],
   "source": [
    "def give_me_your_money(row):\n",
    "    tariff = row.tariff\n",
    "    mp = 0\n",
    "    minutes = 0\n",
    "    gbs = 0\n",
    "    mes = 0\n",
    "    minute_cost = 0\n",
    "    mes_cost = 0\n",
    "    gb_cost = 0\n",
    "    \n",
    "    if tariff == 'smart':\n",
    "        mp = 550\n",
    "        minutes = 500\n",
    "        gbs = 15\n",
    "        mes = 50\n",
    "        minute_cost = 3\n",
    "        mes_cost = 3\n",
    "        gb_cost = 200\n",
    "        \n",
    "    elif tariff == 'ultra':\n",
    "        mp = 1950\n",
    "        minutes = 3000\n",
    "        gbs = 30\n",
    "        mes = 1000\n",
    "        minute_cost = 1\n",
    "        mes_cost = 1\n",
    "        gb_cost = 150\n",
    "        \n",
    "    money_minutes = 0 if (row.minutes - minutes) <= 0 else (row.minutes - minutes) * minute_cost\n",
    "    money_internet = 0 if (row.gb - gbs) <= 0 else (row.gb - gbs) * gb_cost\n",
    "    money_mes = 0 if (row.messages - mes) <= 0 else (row.messages - mes) * mes_cost\n",
    "    \n",
    "    money = money_minutes + money_internet + money_mes + mp\n",
    "    return money"
   ]
  },
  {
   "cell_type": "code",
   "execution_count": 28,
   "metadata": {},
   "outputs": [
    {
     "data": {
      "text/html": [
       "<div>\n",
       "<style scoped>\n",
       "    .dataframe tbody tr th:only-of-type {\n",
       "        vertical-align: middle;\n",
       "    }\n",
       "\n",
       "    .dataframe tbody tr th {\n",
       "        vertical-align: top;\n",
       "    }\n",
       "\n",
       "    .dataframe thead th {\n",
       "        text-align: right;\n",
       "    }\n",
       "</style>\n",
       "<table border=\"1\" class=\"dataframe\">\n",
       "  <thead>\n",
       "    <tr style=\"text-align: right;\">\n",
       "      <th></th>\n",
       "      <th>user_id</th>\n",
       "      <th>month</th>\n",
       "      <th>minutes</th>\n",
       "      <th>gb</th>\n",
       "      <th>messages</th>\n",
       "      <th>tariff</th>\n",
       "      <th>money</th>\n",
       "    </tr>\n",
       "  </thead>\n",
       "  <tbody>\n",
       "    <tr>\n",
       "      <th>0</th>\n",
       "      <td>1000</td>\n",
       "      <td>2018-05-01</td>\n",
       "      <td>159.0</td>\n",
       "      <td>3.0</td>\n",
       "      <td>22.0</td>\n",
       "      <td>ultra</td>\n",
       "      <td>1950.0</td>\n",
       "    </tr>\n",
       "    <tr>\n",
       "      <th>1</th>\n",
       "      <td>1000</td>\n",
       "      <td>2018-06-01</td>\n",
       "      <td>172.0</td>\n",
       "      <td>23.0</td>\n",
       "      <td>60.0</td>\n",
       "      <td>ultra</td>\n",
       "      <td>1950.0</td>\n",
       "    </tr>\n",
       "    <tr>\n",
       "      <th>2</th>\n",
       "      <td>1000</td>\n",
       "      <td>2018-07-01</td>\n",
       "      <td>340.0</td>\n",
       "      <td>14.0</td>\n",
       "      <td>75.0</td>\n",
       "      <td>ultra</td>\n",
       "      <td>1950.0</td>\n",
       "    </tr>\n",
       "    <tr>\n",
       "      <th>3</th>\n",
       "      <td>1000</td>\n",
       "      <td>2018-08-01</td>\n",
       "      <td>408.0</td>\n",
       "      <td>14.0</td>\n",
       "      <td>81.0</td>\n",
       "      <td>ultra</td>\n",
       "      <td>1950.0</td>\n",
       "    </tr>\n",
       "    <tr>\n",
       "      <th>4</th>\n",
       "      <td>1000</td>\n",
       "      <td>2018-09-01</td>\n",
       "      <td>466.0</td>\n",
       "      <td>15.0</td>\n",
       "      <td>57.0</td>\n",
       "      <td>ultra</td>\n",
       "      <td>1950.0</td>\n",
       "    </tr>\n",
       "    <tr>\n",
       "      <th>...</th>\n",
       "      <td>...</td>\n",
       "      <td>...</td>\n",
       "      <td>...</td>\n",
       "      <td>...</td>\n",
       "      <td>...</td>\n",
       "      <td>...</td>\n",
       "      <td>...</td>\n",
       "    </tr>\n",
       "    <tr>\n",
       "      <th>3209</th>\n",
       "      <td>1489</td>\n",
       "      <td>2018-08-01</td>\n",
       "      <td>NaN</td>\n",
       "      <td>11.0</td>\n",
       "      <td>17.0</td>\n",
       "      <td>smart</td>\n",
       "      <td>550.0</td>\n",
       "    </tr>\n",
       "    <tr>\n",
       "      <th>3210</th>\n",
       "      <td>1489</td>\n",
       "      <td>2018-09-01</td>\n",
       "      <td>NaN</td>\n",
       "      <td>17.0</td>\n",
       "      <td>32.0</td>\n",
       "      <td>smart</td>\n",
       "      <td>950.0</td>\n",
       "    </tr>\n",
       "    <tr>\n",
       "      <th>3211</th>\n",
       "      <td>1489</td>\n",
       "      <td>2018-10-01</td>\n",
       "      <td>NaN</td>\n",
       "      <td>20.0</td>\n",
       "      <td>21.0</td>\n",
       "      <td>smart</td>\n",
       "      <td>1550.0</td>\n",
       "    </tr>\n",
       "    <tr>\n",
       "      <th>3212</th>\n",
       "      <td>1489</td>\n",
       "      <td>2018-11-01</td>\n",
       "      <td>NaN</td>\n",
       "      <td>18.0</td>\n",
       "      <td>20.0</td>\n",
       "      <td>smart</td>\n",
       "      <td>1150.0</td>\n",
       "    </tr>\n",
       "    <tr>\n",
       "      <th>3213</th>\n",
       "      <td>1489</td>\n",
       "      <td>2018-12-01</td>\n",
       "      <td>NaN</td>\n",
       "      <td>17.0</td>\n",
       "      <td>35.0</td>\n",
       "      <td>smart</td>\n",
       "      <td>950.0</td>\n",
       "    </tr>\n",
       "  </tbody>\n",
       "</table>\n",
       "<p>3214 rows × 7 columns</p>\n",
       "</div>"
      ],
      "text/plain": [
       "      user_id      month  minutes    gb  messages tariff   money\n",
       "0        1000 2018-05-01    159.0   3.0      22.0  ultra  1950.0\n",
       "1        1000 2018-06-01    172.0  23.0      60.0  ultra  1950.0\n",
       "2        1000 2018-07-01    340.0  14.0      75.0  ultra  1950.0\n",
       "3        1000 2018-08-01    408.0  14.0      81.0  ultra  1950.0\n",
       "4        1000 2018-09-01    466.0  15.0      57.0  ultra  1950.0\n",
       "...       ...        ...      ...   ...       ...    ...     ...\n",
       "3209     1489 2018-08-01      NaN  11.0      17.0  smart   550.0\n",
       "3210     1489 2018-09-01      NaN  17.0      32.0  smart   950.0\n",
       "3211     1489 2018-10-01      NaN  20.0      21.0  smart  1550.0\n",
       "3212     1489 2018-11-01      NaN  18.0      20.0  smart  1150.0\n",
       "3213     1489 2018-12-01      NaN  17.0      35.0  smart   950.0\n",
       "\n",
       "[3214 rows x 7 columns]"
      ]
     },
     "execution_count": 28,
     "metadata": {},
     "output_type": "execute_result"
    }
   ],
   "source": [
    "user_per_month['money'] = user_per_month.fillna(0).apply(give_me_your_money, axis=1)\n",
    "user_per_month"
   ]
  },
  {
   "cell_type": "markdown",
   "metadata": {},
   "source": [
    "## Анализ данных"
   ]
  },
  {
   "cell_type": "markdown",
   "metadata": {},
   "source": [
    "Рассмотрим сколько минут разговора, сколько сообщений и какой объём интернет-трафика требуется пользователям каждого тарифа в месяц?"
   ]
  },
  {
   "cell_type": "code",
   "execution_count": 29,
   "metadata": {},
   "outputs": [],
   "source": [
    "users_ultra = user_per_month[user_per_month.tariff=='ultra']\n",
    "users_smart = user_per_month[user_per_month.tariff=='smart']"
   ]
  },
  {
   "cell_type": "code",
   "execution_count": 30,
   "metadata": {},
   "outputs": [],
   "source": [
    "def hist_maker_and_table(df, name, in_smart, in_ultra):\n",
    "    cd = df.groupby(df.tariff)[name]\n",
    "    cd_desc = cd.describe()\n",
    "    cd_desc['var']= [np.var(cd.get_group('smart'), ddof=1), np.var(cd.get_group('ultra'), ddof=1)]\n",
    "    display(cd_desc)\n",
    "    smart = users_smart[name]\n",
    "    ultra = users_ultra[name]\n",
    "    plt.figure(figsize=(10,6))\n",
    "    plt.hist(smart, bins=50, color='blue', edgecolor='grey', alpha=0.5, label = 'smart', density = False)\n",
    "    plt.hist(ultra, bins=50, color='orange', edgecolor='grey', alpha=0.5,label = 'ultra', density = False)\n",
    "    plt.axvline(cd_desc['mean'][0], color='blue', linestyle='dashed', linewidth=3, label=f'Mean smart: {cd_desc[\"mean\"][0]:.2f}')\n",
    "    \n",
    "    plt.axvline(cd_desc['mean'][1], color='orange', linestyle='dashed', linewidth=3, label=f'Mean ultra: {cd_desc[\"mean\"][1]:.2f}')\n",
    "\n",
    "    plt.axvline(in_smart, color='blue', linestyle='solid', linewidth=3, label='Included in tariff smart')\n",
    "    plt.axvline(in_ultra, color='orange', linestyle='solid', linewidth=3, label='Included in tariff ultra')\n",
    "    plt.legend()\n",
    "    plt.title('Histogramm {}'.format(name))"
   ]
  },
  {
   "cell_type": "code",
   "execution_count": 31,
   "metadata": {},
   "outputs": [
    {
     "data": {
      "text/plain": [
       "<AxesSubplot:>"
      ]
     },
     "execution_count": 31,
     "metadata": {},
     "output_type": "execute_result"
    },
    {
     "data": {
      "image/png": "[encoded data removed]",
      "text/plain": [
       "<Figure size 1512x432 with 2 Axes>"
      ]
     },
     "metadata": {
      "needs_background": "light"
     },
     "output_type": "display_data"
    }
   ],
   "source": [
    "plt.figure(figsize=(21,6))\n",
    "users_smart.boxplot('minutes', ax = plt.subplot(1, 2, 2))\n",
    "users_ultra.boxplot('minutes', ax = plt.subplot(1, 2, 1))"
   ]
  },
  {
   "cell_type": "code",
   "execution_count": 32,
   "metadata": {},
   "outputs": [
    {
     "data": {
      "text/html": [
       "<div>\n",
       "<style scoped>\n",
       "    .dataframe tbody tr th:only-of-type {\n",
       "        vertical-align: middle;\n",
       "    }\n",
       "\n",
       "    .dataframe tbody tr th {\n",
       "        vertical-align: top;\n",
       "    }\n",
       "\n",
       "    .dataframe thead th {\n",
       "        text-align: right;\n",
       "    }\n",
       "</style>\n",
       "<table border=\"1\" class=\"dataframe\">\n",
       "  <thead>\n",
       "    <tr style=\"text-align: right;\">\n",
       "      <th></th>\n",
       "      <th>count</th>\n",
       "      <th>mean</th>\n",
       "      <th>std</th>\n",
       "      <th>min</th>\n",
       "      <th>25%</th>\n",
       "      <th>50%</th>\n",
       "      <th>75%</th>\n",
       "      <th>max</th>\n",
       "      <th>var</th>\n",
       "    </tr>\n",
       "    <tr>\n",
       "      <th>tariff</th>\n",
       "      <th></th>\n",
       "      <th></th>\n",
       "      <th></th>\n",
       "      <th></th>\n",
       "      <th></th>\n",
       "      <th></th>\n",
       "      <th></th>\n",
       "      <th></th>\n",
       "      <th></th>\n",
       "    </tr>\n",
       "  </thead>\n",
       "  <tbody>\n",
       "    <tr>\n",
       "      <th>smart</th>\n",
       "      <td>2223.0</td>\n",
       "      <td>419.062978</td>\n",
       "      <td>189.325618</td>\n",
       "      <td>0.0</td>\n",
       "      <td>285.0</td>\n",
       "      <td>423.0</td>\n",
       "      <td>545.5</td>\n",
       "      <td>1435.0</td>\n",
       "      <td>35844.189551</td>\n",
       "    </tr>\n",
       "    <tr>\n",
       "      <th>ultra</th>\n",
       "      <td>951.0</td>\n",
       "      <td>545.451104</td>\n",
       "      <td>306.925754</td>\n",
       "      <td>0.0</td>\n",
       "      <td>310.0</td>\n",
       "      <td>528.0</td>\n",
       "      <td>756.5</td>\n",
       "      <td>1673.0</td>\n",
       "      <td>94203.418396</td>\n",
       "    </tr>\n",
       "  </tbody>\n",
       "</table>\n",
       "</div>"
      ],
      "text/plain": [
       "         count        mean         std  min    25%    50%    75%     max  \\\n",
       "tariff                                                                     \n",
       "smart   2223.0  419.062978  189.325618  0.0  285.0  423.0  545.5  1435.0   \n",
       "ultra    951.0  545.451104  306.925754  0.0  310.0  528.0  756.5  1673.0   \n",
       "\n",
       "                 var  \n",
       "tariff                \n",
       "smart   35844.189551  \n",
       "ultra   94203.418396  "
      ]
     },
     "metadata": {},
     "output_type": "display_data"
    },
    {
     "data": {
      "image/png": "[encoded data removed]",
      "text/plain": [
       "<Figure size 720x432 with 1 Axes>"
      ]
     },
     "metadata": {
      "needs_background": "light"
     },
     "output_type": "display_data"
    }
   ],
   "source": [
    "hist_maker_and_table(user_per_month,'minutes',500,3000)"
   ]
  },
  {
   "cell_type": "markdown",
   "metadata": {},
   "source": [
    "- Пользователи тарифа Смарт в среднем в месяц тратят меньше минут разговора, чем пользователи тарифа Ультра.\n",
    "- На тарифе Смарт пользователи часто не укладываются в лимиты и доплачивают за звонки. А пользователи тарифа ультра всегда укладываются в установленный лимит минут, максимальное число минут разговора в месяц значительно меньше заложенных в него 3000."
   ]
  },
  {
   "cell_type": "code",
   "execution_count": 33,
   "metadata": {},
   "outputs": [
    {
     "data": {
      "text/plain": [
       "<AxesSubplot:>"
      ]
     },
     "execution_count": 33,
     "metadata": {},
     "output_type": "execute_result"
    },
    {
     "data": {
      "image/png": "[encoded data removed]",
      "text/plain": [
       "<Figure size 1512x432 with 2 Axes>"
      ]
     },
     "metadata": {
      "needs_background": "light"
     },
     "output_type": "display_data"
    }
   ],
   "source": [
    "plt.figure(figsize=(21,6))\n",
    "users_smart.boxplot('gb', ax = plt.subplot(1, 2, 2))\n",
    "users_ultra.boxplot('gb', ax = plt.subplot(1, 2, 1))"
   ]
  },
  {
   "cell_type": "code",
   "execution_count": 34,
   "metadata": {},
   "outputs": [
    {
     "data": {
      "text/html": [
       "<div>\n",
       "<style scoped>\n",
       "    .dataframe tbody tr th:only-of-type {\n",
       "        vertical-align: middle;\n",
       "    }\n",
       "\n",
       "    .dataframe tbody tr th {\n",
       "        vertical-align: top;\n",
       "    }\n",
       "\n",
       "    .dataframe thead th {\n",
       "        text-align: right;\n",
       "    }\n",
       "</style>\n",
       "<table border=\"1\" class=\"dataframe\">\n",
       "  <thead>\n",
       "    <tr style=\"text-align: right;\">\n",
       "      <th></th>\n",
       "      <th>count</th>\n",
       "      <th>mean</th>\n",
       "      <th>std</th>\n",
       "      <th>min</th>\n",
       "      <th>25%</th>\n",
       "      <th>50%</th>\n",
       "      <th>75%</th>\n",
       "      <th>max</th>\n",
       "      <th>var</th>\n",
       "    </tr>\n",
       "    <tr>\n",
       "      <th>tariff</th>\n",
       "      <th></th>\n",
       "      <th></th>\n",
       "      <th></th>\n",
       "      <th></th>\n",
       "      <th></th>\n",
       "      <th></th>\n",
       "      <th></th>\n",
       "      <th></th>\n",
       "      <th></th>\n",
       "    </tr>\n",
       "  </thead>\n",
       "  <tbody>\n",
       "    <tr>\n",
       "      <th>smart</th>\n",
       "      <td>2227.0</td>\n",
       "      <td>16.343511</td>\n",
       "      <td>5.728752</td>\n",
       "      <td>1.0</td>\n",
       "      <td>13.0</td>\n",
       "      <td>17.0</td>\n",
       "      <td>20.0</td>\n",
       "      <td>38.0</td>\n",
       "      <td>32.818605</td>\n",
       "    </tr>\n",
       "    <tr>\n",
       "      <th>ultra</th>\n",
       "      <td>974.0</td>\n",
       "      <td>19.714579</td>\n",
       "      <td>9.687335</td>\n",
       "      <td>1.0</td>\n",
       "      <td>12.0</td>\n",
       "      <td>19.0</td>\n",
       "      <td>27.0</td>\n",
       "      <td>49.0</td>\n",
       "      <td>93.844453</td>\n",
       "    </tr>\n",
       "  </tbody>\n",
       "</table>\n",
       "</div>"
      ],
      "text/plain": [
       "         count       mean       std  min   25%   50%   75%   max        var\n",
       "tariff                                                                     \n",
       "smart   2227.0  16.343511  5.728752  1.0  13.0  17.0  20.0  38.0  32.818605\n",
       "ultra    974.0  19.714579  9.687335  1.0  12.0  19.0  27.0  49.0  93.844453"
      ]
     },
     "metadata": {},
     "output_type": "display_data"
    },
    {
     "data": {
      "image/png": "[encoded data removed]",
      "text/plain": [
       "<Figure size 720x432 with 1 Axes>"
      ]
     },
     "metadata": {
      "needs_background": "light"
     },
     "output_type": "display_data"
    }
   ],
   "source": [
    "hist_maker_and_table(user_per_month,'gb',15,30)"
   ]
  },
  {
   "cell_type": "code",
   "execution_count": 35,
   "metadata": {},
   "outputs": [
    {
     "data": {
      "text/plain": [
       "14.0"
      ]
     },
     "execution_count": 35,
     "metadata": {},
     "output_type": "execute_result"
    }
   ],
   "source": [
    "np.ceil(100 * users_ultra.query('gb > 30')['user_id'].count() / users_ultra.user_id.count())"
   ]
  },
  {
   "cell_type": "markdown",
   "metadata": {},
   "source": [
    "- Больше половины пользователей тарифа смарт не укладываются в установленные лимиты по интернет-трафику. В тарифе ультра 14% пользователей тратит больше трафика.\n",
    "- В среднем пользователи тарифа ультра тратят больше интерент-тарфика."
   ]
  },
  {
   "cell_type": "code",
   "execution_count": 36,
   "metadata": {},
   "outputs": [
    {
     "data": {
      "text/plain": [
       "<AxesSubplot:>"
      ]
     },
     "execution_count": 36,
     "metadata": {},
     "output_type": "execute_result"
    },
    {
     "data": {
      "image/png": "[encoded data removed]",
      "text/plain": [
       "<Figure size 1512x432 with 2 Axes>"
      ]
     },
     "metadata": {
      "needs_background": "light"
     },
     "output_type": "display_data"
    }
   ],
   "source": [
    "plt.figure(figsize=(21,6))\n",
    "users_smart.boxplot('messages', ax = plt.subplot(1, 2, 2))\n",
    "users_ultra.boxplot('messages', ax = plt.subplot(1, 2, 1))"
   ]
  },
  {
   "cell_type": "markdown",
   "metadata": {},
   "source": [
    "Так как максимаьное количество отправленных сообщений у пользователей тарифа ультра 224, передадим нашей функции параметр включенных сообщений 300. Так гистограмма будет нагляднее."
   ]
  },
  {
   "cell_type": "code",
   "execution_count": 37,
   "metadata": {},
   "outputs": [
    {
     "data": {
      "text/html": [
       "<div>\n",
       "<style scoped>\n",
       "    .dataframe tbody tr th:only-of-type {\n",
       "        vertical-align: middle;\n",
       "    }\n",
       "\n",
       "    .dataframe tbody tr th {\n",
       "        vertical-align: top;\n",
       "    }\n",
       "\n",
       "    .dataframe thead th {\n",
       "        text-align: right;\n",
       "    }\n",
       "</style>\n",
       "<table border=\"1\" class=\"dataframe\">\n",
       "  <thead>\n",
       "    <tr style=\"text-align: right;\">\n",
       "      <th></th>\n",
       "      <th>count</th>\n",
       "      <th>mean</th>\n",
       "      <th>std</th>\n",
       "      <th>min</th>\n",
       "      <th>25%</th>\n",
       "      <th>50%</th>\n",
       "      <th>75%</th>\n",
       "      <th>max</th>\n",
       "      <th>var</th>\n",
       "    </tr>\n",
       "    <tr>\n",
       "      <th>tariff</th>\n",
       "      <th></th>\n",
       "      <th></th>\n",
       "      <th></th>\n",
       "      <th></th>\n",
       "      <th></th>\n",
       "      <th></th>\n",
       "      <th></th>\n",
       "      <th></th>\n",
       "      <th></th>\n",
       "    </tr>\n",
       "  </thead>\n",
       "  <tbody>\n",
       "    <tr>\n",
       "      <th>smart</th>\n",
       "      <td>1922.0</td>\n",
       "      <td>38.716441</td>\n",
       "      <td>26.787949</td>\n",
       "      <td>1.0</td>\n",
       "      <td>17.0</td>\n",
       "      <td>34.0</td>\n",
       "      <td>55.0</td>\n",
       "      <td>143.0</td>\n",
       "      <td>717.594201</td>\n",
       "    </tr>\n",
       "    <tr>\n",
       "      <th>ultra</th>\n",
       "      <td>795.0</td>\n",
       "      <td>61.161006</td>\n",
       "      <td>45.931026</td>\n",
       "      <td>1.0</td>\n",
       "      <td>24.0</td>\n",
       "      <td>51.0</td>\n",
       "      <td>87.5</td>\n",
       "      <td>224.0</td>\n",
       "      <td>2109.659183</td>\n",
       "    </tr>\n",
       "  </tbody>\n",
       "</table>\n",
       "</div>"
      ],
      "text/plain": [
       "         count       mean        std  min   25%   50%   75%    max  \\\n",
       "tariff                                                               \n",
       "smart   1922.0  38.716441  26.787949  1.0  17.0  34.0  55.0  143.0   \n",
       "ultra    795.0  61.161006  45.931026  1.0  24.0  51.0  87.5  224.0   \n",
       "\n",
       "                var  \n",
       "tariff               \n",
       "smart    717.594201  \n",
       "ultra   2109.659183  "
      ]
     },
     "metadata": {},
     "output_type": "display_data"
    },
    {
     "data": {
      "image/png": "[encoded data removed]",
      "text/plain": [
       "<Figure size 720x432 with 1 Axes>"
      ]
     },
     "metadata": {
      "needs_background": "light"
     },
     "output_type": "display_data"
    }
   ],
   "source": [
    "hist_maker_and_table(user_per_month,'messages',50,300)"
   ]
  },
  {
   "cell_type": "markdown",
   "metadata": {},
   "source": [
    "- В среднем пользователи тарифа ультра отправляют больше сообщений.\n",
    "- Значительная часть пользователей тарифа смарт не укладывается в лимиты. При этом пользователи тарифа ультра отправляют значительно меньшее количество мообщений, чем им выделено на тарифе."
   ]
  },
  {
   "cell_type": "code",
   "execution_count": 38,
   "metadata": {},
   "outputs": [
    {
     "data": {
      "text/html": [
       "<div>\n",
       "<style scoped>\n",
       "    .dataframe tbody tr th:only-of-type {\n",
       "        vertical-align: middle;\n",
       "    }\n",
       "\n",
       "    .dataframe tbody tr th {\n",
       "        vertical-align: top;\n",
       "    }\n",
       "\n",
       "    .dataframe thead tr th {\n",
       "        text-align: left;\n",
       "    }\n",
       "\n",
       "    .dataframe thead tr:last-of-type th {\n",
       "        text-align: right;\n",
       "    }\n",
       "</style>\n",
       "<table border=\"1\" class=\"dataframe\">\n",
       "  <thead>\n",
       "    <tr>\n",
       "      <th></th>\n",
       "      <th colspan=\"3\" halign=\"left\">mean</th>\n",
       "      <th colspan=\"3\" halign=\"left\">var</th>\n",
       "      <th colspan=\"3\" halign=\"left\">std</th>\n",
       "    </tr>\n",
       "    <tr>\n",
       "      <th></th>\n",
       "      <th>gb</th>\n",
       "      <th>messages</th>\n",
       "      <th>minutes</th>\n",
       "      <th>gb</th>\n",
       "      <th>messages</th>\n",
       "      <th>minutes</th>\n",
       "      <th>gb</th>\n",
       "      <th>messages</th>\n",
       "      <th>minutes</th>\n",
       "    </tr>\n",
       "    <tr>\n",
       "      <th>tariff</th>\n",
       "      <th></th>\n",
       "      <th></th>\n",
       "      <th></th>\n",
       "      <th></th>\n",
       "      <th></th>\n",
       "      <th></th>\n",
       "      <th></th>\n",
       "      <th></th>\n",
       "      <th></th>\n",
       "    </tr>\n",
       "  </thead>\n",
       "  <tbody>\n",
       "    <tr>\n",
       "      <th>smart</th>\n",
       "      <td>16.343511</td>\n",
       "      <td>38.716441</td>\n",
       "      <td>419.062978</td>\n",
       "      <td>32.818605</td>\n",
       "      <td>717.594201</td>\n",
       "      <td>35844.189551</td>\n",
       "      <td>5.728752</td>\n",
       "      <td>26.787949</td>\n",
       "      <td>189.325618</td>\n",
       "    </tr>\n",
       "    <tr>\n",
       "      <th>ultra</th>\n",
       "      <td>19.714579</td>\n",
       "      <td>61.161006</td>\n",
       "      <td>545.451104</td>\n",
       "      <td>93.844453</td>\n",
       "      <td>2109.659183</td>\n",
       "      <td>94203.418396</td>\n",
       "      <td>9.687335</td>\n",
       "      <td>45.931026</td>\n",
       "      <td>306.925754</td>\n",
       "    </tr>\n",
       "  </tbody>\n",
       "</table>\n",
       "</div>"
      ],
      "text/plain": [
       "             mean                               var               \\\n",
       "               gb   messages     minutes         gb     messages   \n",
       "tariff                                                             \n",
       "smart   16.343511  38.716441  419.062978  32.818605   717.594201   \n",
       "ultra   19.714579  61.161006  545.451104  93.844453  2109.659183   \n",
       "\n",
       "                           std                         \n",
       "             minutes        gb   messages     minutes  \n",
       "tariff                                                 \n",
       "smart   35844.189551  5.728752  26.787949  189.325618  \n",
       "ultra   94203.418396  9.687335  45.931026  306.925754  "
      ]
     },
     "execution_count": 38,
     "metadata": {},
     "output_type": "execute_result"
    }
   ],
   "source": [
    "user_per_month.pivot_table(index='tariff', values=['minutes', 'gb', 'messages'], aggfunc=['mean', 'var', 'std'])"
   ]
  },
  {
   "cell_type": "code",
   "execution_count": 39,
   "metadata": {},
   "outputs": [
    {
     "data": {
      "text/html": [
       "<div>\n",
       "<style scoped>\n",
       "    .dataframe tbody tr th:only-of-type {\n",
       "        vertical-align: middle;\n",
       "    }\n",
       "\n",
       "    .dataframe tbody tr th {\n",
       "        vertical-align: top;\n",
       "    }\n",
       "\n",
       "    .dataframe thead th {\n",
       "        text-align: right;\n",
       "    }\n",
       "</style>\n",
       "<table border=\"1\" class=\"dataframe\">\n",
       "  <thead>\n",
       "    <tr style=\"text-align: right;\">\n",
       "      <th></th>\n",
       "      <th>user_id</th>\n",
       "      <th>month</th>\n",
       "      <th>minutes</th>\n",
       "      <th>gb</th>\n",
       "      <th>messages</th>\n",
       "      <th>tariff</th>\n",
       "      <th>money</th>\n",
       "    </tr>\n",
       "  </thead>\n",
       "  <tbody>\n",
       "    <tr>\n",
       "      <th>3108</th>\n",
       "      <td>1486</td>\n",
       "      <td>2018-12-01</td>\n",
       "      <td>1007.0</td>\n",
       "      <td>38.0</td>\n",
       "      <td>83.0</td>\n",
       "      <td>smart</td>\n",
       "      <td>6770.0</td>\n",
       "    </tr>\n",
       "    <tr>\n",
       "      <th>260</th>\n",
       "      <td>1042</td>\n",
       "      <td>2018-12-01</td>\n",
       "      <td>728.0</td>\n",
       "      <td>37.0</td>\n",
       "      <td>75.0</td>\n",
       "      <td>smart</td>\n",
       "      <td>5709.0</td>\n",
       "    </tr>\n",
       "    <tr>\n",
       "      <th>3107</th>\n",
       "      <td>1486</td>\n",
       "      <td>2018-11-01</td>\n",
       "      <td>764.0</td>\n",
       "      <td>36.0</td>\n",
       "      <td>96.0</td>\n",
       "      <td>smart</td>\n",
       "      <td>5680.0</td>\n",
       "    </tr>\n",
       "    <tr>\n",
       "      <th>1622</th>\n",
       "      <td>1261</td>\n",
       "      <td>2018-12-01</td>\n",
       "      <td>1074.0</td>\n",
       "      <td>32.0</td>\n",
       "      <td>22.0</td>\n",
       "      <td>smart</td>\n",
       "      <td>5672.0</td>\n",
       "    </tr>\n",
       "    <tr>\n",
       "      <th>1793</th>\n",
       "      <td>1286</td>\n",
       "      <td>2018-12-01</td>\n",
       "      <td>739.0</td>\n",
       "      <td>35.0</td>\n",
       "      <td>68.0</td>\n",
       "      <td>smart</td>\n",
       "      <td>5321.0</td>\n",
       "    </tr>\n",
       "    <tr>\n",
       "      <th>1000</th>\n",
       "      <td>1159</td>\n",
       "      <td>2018-12-01</td>\n",
       "      <td>734.0</td>\n",
       "      <td>35.0</td>\n",
       "      <td>2.0</td>\n",
       "      <td>smart</td>\n",
       "      <td>5252.0</td>\n",
       "    </tr>\n",
       "    <tr>\n",
       "      <th>615</th>\n",
       "      <td>1098</td>\n",
       "      <td>2018-12-01</td>\n",
       "      <td>588.0</td>\n",
       "      <td>36.0</td>\n",
       "      <td>14.0</td>\n",
       "      <td>smart</td>\n",
       "      <td>5014.0</td>\n",
       "    </tr>\n",
       "    <tr>\n",
       "      <th>782</th>\n",
       "      <td>1124</td>\n",
       "      <td>2018-10-01</td>\n",
       "      <td>1225.0</td>\n",
       "      <td>49.0</td>\n",
       "      <td>121.0</td>\n",
       "      <td>ultra</td>\n",
       "      <td>4800.0</td>\n",
       "    </tr>\n",
       "    <tr>\n",
       "      <th>1621</th>\n",
       "      <td>1261</td>\n",
       "      <td>2018-11-01</td>\n",
       "      <td>738.0</td>\n",
       "      <td>32.0</td>\n",
       "      <td>25.0</td>\n",
       "      <td>smart</td>\n",
       "      <td>4664.0</td>\n",
       "    </tr>\n",
       "    <tr>\n",
       "      <th>1499</th>\n",
       "      <td>1240</td>\n",
       "      <td>2018-08-01</td>\n",
       "      <td>457.0</td>\n",
       "      <td>48.0</td>\n",
       "      <td>NaN</td>\n",
       "      <td>ultra</td>\n",
       "      <td>4650.0</td>\n",
       "    </tr>\n",
       "    <tr>\n",
       "      <th>1914</th>\n",
       "      <td>1306</td>\n",
       "      <td>2018-12-01</td>\n",
       "      <td>484.0</td>\n",
       "      <td>35.0</td>\n",
       "      <td>NaN</td>\n",
       "      <td>smart</td>\n",
       "      <td>4550.0</td>\n",
       "    </tr>\n",
       "    <tr>\n",
       "      <th>1069</th>\n",
       "      <td>1172</td>\n",
       "      <td>2018-06-01</td>\n",
       "      <td>541.0</td>\n",
       "      <td>34.0</td>\n",
       "      <td>2.0</td>\n",
       "      <td>smart</td>\n",
       "      <td>4473.0</td>\n",
       "    </tr>\n",
       "    <tr>\n",
       "      <th>856</th>\n",
       "      <td>1138</td>\n",
       "      <td>2018-08-01</td>\n",
       "      <td>859.0</td>\n",
       "      <td>29.0</td>\n",
       "      <td>3.0</td>\n",
       "      <td>smart</td>\n",
       "      <td>4427.0</td>\n",
       "    </tr>\n",
       "    <tr>\n",
       "      <th>1359</th>\n",
       "      <td>1216</td>\n",
       "      <td>2018-12-01</td>\n",
       "      <td>1435.0</td>\n",
       "      <td>20.0</td>\n",
       "      <td>64.0</td>\n",
       "      <td>smart</td>\n",
       "      <td>4397.0</td>\n",
       "    </tr>\n",
       "    <tr>\n",
       "      <th>2280</th>\n",
       "      <td>1365</td>\n",
       "      <td>2018-12-01</td>\n",
       "      <td>782.0</td>\n",
       "      <td>30.0</td>\n",
       "      <td>43.0</td>\n",
       "      <td>smart</td>\n",
       "      <td>4396.0</td>\n",
       "    </tr>\n",
       "  </tbody>\n",
       "</table>\n",
       "</div>"
      ],
      "text/plain": [
       "      user_id      month  minutes    gb  messages tariff   money\n",
       "3108     1486 2018-12-01   1007.0  38.0      83.0  smart  6770.0\n",
       "260      1042 2018-12-01    728.0  37.0      75.0  smart  5709.0\n",
       "3107     1486 2018-11-01    764.0  36.0      96.0  smart  5680.0\n",
       "1622     1261 2018-12-01   1074.0  32.0      22.0  smart  5672.0\n",
       "1793     1286 2018-12-01    739.0  35.0      68.0  smart  5321.0\n",
       "1000     1159 2018-12-01    734.0  35.0       2.0  smart  5252.0\n",
       "615      1098 2018-12-01    588.0  36.0      14.0  smart  5014.0\n",
       "782      1124 2018-10-01   1225.0  49.0     121.0  ultra  4800.0\n",
       "1621     1261 2018-11-01    738.0  32.0      25.0  smart  4664.0\n",
       "1499     1240 2018-08-01    457.0  48.0       NaN  ultra  4650.0\n",
       "1914     1306 2018-12-01    484.0  35.0       NaN  smart  4550.0\n",
       "1069     1172 2018-06-01    541.0  34.0       2.0  smart  4473.0\n",
       "856      1138 2018-08-01    859.0  29.0       3.0  smart  4427.0\n",
       "1359     1216 2018-12-01   1435.0  20.0      64.0  smart  4397.0\n",
       "2280     1365 2018-12-01    782.0  30.0      43.0  smart  4396.0"
      ]
     },
     "execution_count": 39,
     "metadata": {},
     "output_type": "execute_result"
    }
   ],
   "source": [
    "user_per_month.sort_values(by='money', ascending=False).head(15)"
   ]
  },
  {
   "cell_type": "code",
   "execution_count": 40,
   "metadata": {},
   "outputs": [
    {
     "data": {
      "text/plain": [
       "count    2229.000000\n",
       "mean     1289.973531\n",
       "std       818.404367\n",
       "min       550.000000\n",
       "25%       550.000000\n",
       "50%      1023.000000\n",
       "75%      1750.000000\n",
       "max      6770.000000\n",
       "Name: money, dtype: float64"
      ]
     },
     "execution_count": 40,
     "metadata": {},
     "output_type": "execute_result"
    }
   ],
   "source": [
    "users_smart.money.describe()"
   ]
  },
  {
   "cell_type": "code",
   "execution_count": 41,
   "metadata": {},
   "outputs": [
    {
     "data": {
      "text/plain": [
       "count     985.000000\n",
       "mean     2070.152284\n",
       "std       376.187114\n",
       "min      1950.000000\n",
       "25%      1950.000000\n",
       "50%      1950.000000\n",
       "75%      1950.000000\n",
       "max      4800.000000\n",
       "Name: money, dtype: float64"
      ]
     },
     "execution_count": 41,
     "metadata": {},
     "output_type": "execute_result"
    }
   ],
   "source": [
    "users_ultra.money.describe()"
   ]
  },
  {
   "cell_type": "markdown",
   "metadata": {},
   "source": [
    "Пользовтели тарифа ультра в среднем используют больше минут, сообщений и интрнет-трафика.\n",
    "Пользователям же тарифа смарт постоянно не достаточно установленных лимитов, большая часть доплачивает за дополнительные минуты, сообщения и гигабайты."
   ]
  },
  {
   "cell_type": "markdown",
   "metadata": {},
   "source": [
    "## Проверка гипотез"
   ]
  },
  {
   "cell_type": "code",
   "execution_count": 42,
   "metadata": {},
   "outputs": [
    {
     "data": {
      "text/plain": [
       "141373.07325620347"
      ]
     },
     "execution_count": 42,
     "metadata": {},
     "output_type": "execute_result"
    }
   ],
   "source": [
    "np.var(users_ultra.money)"
   ]
  },
  {
   "cell_type": "code",
   "execution_count": 43,
   "metadata": {},
   "outputs": [
    {
     "data": {
      "text/plain": [
       "669485.2209234245"
      ]
     },
     "execution_count": 43,
     "metadata": {},
     "output_type": "execute_result"
    }
   ],
   "source": [
    "np.var(users_smart.money)"
   ]
  },
  {
   "cell_type": "code",
   "execution_count": 44,
   "metadata": {},
   "outputs": [],
   "source": [
    "alpha = .05"
   ]
  },
  {
   "cell_type": "markdown",
   "metadata": {},
   "source": [
    "### Гипотеза 1. Средняя выручка пользователей тарифов «Ультра» и «Смарт» различаются\n",
    "Н0: средняя выручка пользователей тарифов «Ультра» и «Смарт» равны.  \n",
    "Н1: средняя выручка пользователей тарифов «Ультра» и «Смарт» не равны."
   ]
  },
  {
   "cell_type": "code",
   "execution_count": 45,
   "metadata": {},
   "outputs": [],
   "source": [
    "res1 = st.ttest_ind(users_ultra.money, users_smart.money, equal_var=False)"
   ]
  },
  {
   "cell_type": "code",
   "execution_count": 46,
   "metadata": {},
   "outputs": [
    {
     "name": "stdout",
     "output_type": "stream",
     "text": [
      "pvalue: 4.2606313931076085e-250\n",
      "Средняя выручка пользователей тарифов «Ультра» и «Смарт» различаются\n"
     ]
    }
   ],
   "source": [
    "print(f'pvalue: {res1.pvalue}')\n",
    "if res1.pvalue < alpha: \n",
    "    print('Средняя выручка пользователей тарифов «Ультра» и «Смарт» различаются')\n",
    "else: print('Средняя выручка пользователей тарифов «Ультра» и «Смарт» равны.')"
   ]
  },
  {
   "cell_type": "markdown",
   "metadata": {},
   "source": [
    "p-значение достаточно мало, что дает основание отвергнуть предположение об отсутствии различий между выручками у разных тарифных планов, т.е. маловероятна случайность результатов теста гипотезы."
   ]
  },
  {
   "cell_type": "markdown",
   "metadata": {},
   "source": [
    "### Гипотеза 2. Средняя выручка пользователей из Москвы отличается от выручки пользователей из других регионов\n",
    "Н0: средняя выручка пользователей из Москвы равна выручке пользователей из других регионов.  \n",
    "Н1: средняя выручка пользователей из Москвы не равна выручке пользователей из других регионов."
   ]
  },
  {
   "cell_type": "code",
   "execution_count": 47,
   "metadata": {},
   "outputs": [
    {
     "data": {
      "text/html": [
       "<div>\n",
       "<style scoped>\n",
       "    .dataframe tbody tr th:only-of-type {\n",
       "        vertical-align: middle;\n",
       "    }\n",
       "\n",
       "    .dataframe tbody tr th {\n",
       "        vertical-align: top;\n",
       "    }\n",
       "\n",
       "    .dataframe thead th {\n",
       "        text-align: right;\n",
       "    }\n",
       "</style>\n",
       "<table border=\"1\" class=\"dataframe\">\n",
       "  <thead>\n",
       "    <tr style=\"text-align: right;\">\n",
       "      <th></th>\n",
       "      <th>user_id</th>\n",
       "      <th>month</th>\n",
       "      <th>minutes</th>\n",
       "      <th>gb</th>\n",
       "      <th>messages</th>\n",
       "      <th>tariff</th>\n",
       "      <th>money</th>\n",
       "      <th>city</th>\n",
       "    </tr>\n",
       "  </thead>\n",
       "  <tbody>\n",
       "    <tr>\n",
       "      <th>0</th>\n",
       "      <td>1000</td>\n",
       "      <td>2018-05-01</td>\n",
       "      <td>159.0</td>\n",
       "      <td>3.0</td>\n",
       "      <td>22.0</td>\n",
       "      <td>ultra</td>\n",
       "      <td>1950.0</td>\n",
       "      <td>Краснодар</td>\n",
       "    </tr>\n",
       "    <tr>\n",
       "      <th>1</th>\n",
       "      <td>1000</td>\n",
       "      <td>2018-06-01</td>\n",
       "      <td>172.0</td>\n",
       "      <td>23.0</td>\n",
       "      <td>60.0</td>\n",
       "      <td>ultra</td>\n",
       "      <td>1950.0</td>\n",
       "      <td>Краснодар</td>\n",
       "    </tr>\n",
       "    <tr>\n",
       "      <th>2</th>\n",
       "      <td>1000</td>\n",
       "      <td>2018-07-01</td>\n",
       "      <td>340.0</td>\n",
       "      <td>14.0</td>\n",
       "      <td>75.0</td>\n",
       "      <td>ultra</td>\n",
       "      <td>1950.0</td>\n",
       "      <td>Краснодар</td>\n",
       "    </tr>\n",
       "    <tr>\n",
       "      <th>3</th>\n",
       "      <td>1000</td>\n",
       "      <td>2018-08-01</td>\n",
       "      <td>408.0</td>\n",
       "      <td>14.0</td>\n",
       "      <td>81.0</td>\n",
       "      <td>ultra</td>\n",
       "      <td>1950.0</td>\n",
       "      <td>Краснодар</td>\n",
       "    </tr>\n",
       "    <tr>\n",
       "      <th>4</th>\n",
       "      <td>1000</td>\n",
       "      <td>2018-09-01</td>\n",
       "      <td>466.0</td>\n",
       "      <td>15.0</td>\n",
       "      <td>57.0</td>\n",
       "      <td>ultra</td>\n",
       "      <td>1950.0</td>\n",
       "      <td>Краснодар</td>\n",
       "    </tr>\n",
       "    <tr>\n",
       "      <th>...</th>\n",
       "      <td>...</td>\n",
       "      <td>...</td>\n",
       "      <td>...</td>\n",
       "      <td>...</td>\n",
       "      <td>...</td>\n",
       "      <td>...</td>\n",
       "      <td>...</td>\n",
       "      <td>...</td>\n",
       "    </tr>\n",
       "    <tr>\n",
       "      <th>3209</th>\n",
       "      <td>1489</td>\n",
       "      <td>2018-08-01</td>\n",
       "      <td>NaN</td>\n",
       "      <td>11.0</td>\n",
       "      <td>17.0</td>\n",
       "      <td>smart</td>\n",
       "      <td>550.0</td>\n",
       "      <td>Санкт-Петербург</td>\n",
       "    </tr>\n",
       "    <tr>\n",
       "      <th>3210</th>\n",
       "      <td>1489</td>\n",
       "      <td>2018-09-01</td>\n",
       "      <td>NaN</td>\n",
       "      <td>17.0</td>\n",
       "      <td>32.0</td>\n",
       "      <td>smart</td>\n",
       "      <td>950.0</td>\n",
       "      <td>Санкт-Петербург</td>\n",
       "    </tr>\n",
       "    <tr>\n",
       "      <th>3211</th>\n",
       "      <td>1489</td>\n",
       "      <td>2018-10-01</td>\n",
       "      <td>NaN</td>\n",
       "      <td>20.0</td>\n",
       "      <td>21.0</td>\n",
       "      <td>smart</td>\n",
       "      <td>1550.0</td>\n",
       "      <td>Санкт-Петербург</td>\n",
       "    </tr>\n",
       "    <tr>\n",
       "      <th>3212</th>\n",
       "      <td>1489</td>\n",
       "      <td>2018-11-01</td>\n",
       "      <td>NaN</td>\n",
       "      <td>18.0</td>\n",
       "      <td>20.0</td>\n",
       "      <td>smart</td>\n",
       "      <td>1150.0</td>\n",
       "      <td>Санкт-Петербург</td>\n",
       "    </tr>\n",
       "    <tr>\n",
       "      <th>3213</th>\n",
       "      <td>1489</td>\n",
       "      <td>2018-12-01</td>\n",
       "      <td>NaN</td>\n",
       "      <td>17.0</td>\n",
       "      <td>35.0</td>\n",
       "      <td>smart</td>\n",
       "      <td>950.0</td>\n",
       "      <td>Санкт-Петербург</td>\n",
       "    </tr>\n",
       "  </tbody>\n",
       "</table>\n",
       "<p>3214 rows × 8 columns</p>\n",
       "</div>"
      ],
      "text/plain": [
       "      user_id      month  minutes    gb  messages tariff   money  \\\n",
       "0        1000 2018-05-01    159.0   3.0      22.0  ultra  1950.0   \n",
       "1        1000 2018-06-01    172.0  23.0      60.0  ultra  1950.0   \n",
       "2        1000 2018-07-01    340.0  14.0      75.0  ultra  1950.0   \n",
       "3        1000 2018-08-01    408.0  14.0      81.0  ultra  1950.0   \n",
       "4        1000 2018-09-01    466.0  15.0      57.0  ultra  1950.0   \n",
       "...       ...        ...      ...   ...       ...    ...     ...   \n",
       "3209     1489 2018-08-01      NaN  11.0      17.0  smart   550.0   \n",
       "3210     1489 2018-09-01      NaN  17.0      32.0  smart   950.0   \n",
       "3211     1489 2018-10-01      NaN  20.0      21.0  smart  1550.0   \n",
       "3212     1489 2018-11-01      NaN  18.0      20.0  smart  1150.0   \n",
       "3213     1489 2018-12-01      NaN  17.0      35.0  smart   950.0   \n",
       "\n",
       "                 city  \n",
       "0           Краснодар  \n",
       "1           Краснодар  \n",
       "2           Краснодар  \n",
       "3           Краснодар  \n",
       "4           Краснодар  \n",
       "...               ...  \n",
       "3209  Санкт-Петербург  \n",
       "3210  Санкт-Петербург  \n",
       "3211  Санкт-Петербург  \n",
       "3212  Санкт-Петербург  \n",
       "3213  Санкт-Петербург  \n",
       "\n",
       "[3214 rows x 8 columns]"
      ]
     },
     "execution_count": 47,
     "metadata": {},
     "output_type": "execute_result"
    }
   ],
   "source": [
    "user_per_month = user_per_month.merge(users[['user_id', 'city']], on='user_id', how='left')\n",
    "user_per_month"
   ]
  },
  {
   "cell_type": "code",
   "execution_count": 48,
   "metadata": {},
   "outputs": [],
   "source": [
    "user_msc = user_per_month[user_per_month.city == 'Москва']\n",
    "user_other = user_per_month[user_per_month.city != 'Москва']"
   ]
  },
  {
   "cell_type": "code",
   "execution_count": 49,
   "metadata": {},
   "outputs": [
    {
     "data": {
      "text/plain": [
       "564710.7117467273"
      ]
     },
     "execution_count": 49,
     "metadata": {},
     "output_type": "execute_result"
    }
   ],
   "source": [
    "np.var(user_msc.money) "
   ]
  },
  {
   "cell_type": "code",
   "execution_count": 50,
   "metadata": {},
   "outputs": [
    {
     "data": {
      "text/plain": [
       "653886.3270894174"
      ]
     },
     "execution_count": 50,
     "metadata": {},
     "output_type": "execute_result"
    }
   ],
   "source": [
    "np.var(user_other.money)"
   ]
  },
  {
   "cell_type": "code",
   "execution_count": 51,
   "metadata": {},
   "outputs": [],
   "source": [
    "res2 = st.ttest_ind(user_msc.money, user_other.money)"
   ]
  },
  {
   "cell_type": "code",
   "execution_count": 52,
   "metadata": {},
   "outputs": [
    {
     "name": "stdout",
     "output_type": "stream",
     "text": [
      "pvalue: 0.5440152911670224\n",
      "Средняя выручка пользователей из Москвы равна выручке пользователей из других регионов\n"
     ]
    }
   ],
   "source": [
    "print(f'pvalue: {res2.pvalue}')\n",
    "if res2.pvalue < alpha:\n",
    "    print('Cредняя выручка пользователей из Москвы отличается от выручки пользователей из других регионов.')\n",
    "else:\n",
    "    print('Средняя выручка пользователей из Москвы равна выручке пользователей из других регионов')"
   ]
  },
  {
   "cell_type": "markdown",
   "metadata": {},
   "source": [
    "p-значение достаточно большое, что не дает оснований отвергнуть предположение о различии средней выручки пользователей из Москвы от вырчуки в других регионах, т.е. маловероятна случайность результатов теста гипотезы."
   ]
  },
  {
   "cell_type": "markdown",
   "metadata": {},
   "source": [
    "## Общий вывод"
   ]
  },
  {
   "cell_type": "markdown",
   "metadata": {},
   "source": [
    "Большая часть пользователей тарифа смарт не укладывается в установленные лимиты. Выручка от пользователей этого тарифа доходит до 6750.\n",
    "Пользователи же тарифа ультра в основном укладываются, лишь 14% пользователям недостаточно выделенного интернет-трафика.  \n",
    "\n",
    "Выдвинув гипотезы и проверив их мы пришли к выводу, что средняя выручка пользователей тарифов «Ультра» и «Смарт» различаются, а средняя выручка пользователей из Москвы не отличается от выручки пользователей из других регионов."
   ]
  },
  {
   "cell_type": "markdown",
   "metadata": {},
   "source": [
    "Средняя выручка от пользователей тарифа \"Ультра\" больше.  \n",
    "Соотвественно этот тариф выгоднее для оператора и следует уделить ему больше внимания при составлении рекламного бюджета."
   ]
  }
 ],
 "metadata": {
  "ExecuteTimeLog": [
   {
    "duration": 1093,
    "start_time": "2022-04-01T06:35:05.548Z"
   },
   {
    "duration": 530,
    "start_time": "2022-04-01T06:38:38.484Z"
   },
   {
    "duration": 30,
    "start_time": "2022-04-01T06:38:58.212Z"
   },
   {
    "duration": 16,
    "start_time": "2022-04-01T06:39:20.484Z"
   },
   {
    "duration": 16,
    "start_time": "2022-04-01T06:39:28.052Z"
   },
   {
    "duration": 33,
    "start_time": "2022-04-01T06:39:35.851Z"
   },
   {
    "duration": 19,
    "start_time": "2022-04-01T06:39:49.411Z"
   },
   {
    "duration": 27,
    "start_time": "2022-04-01T06:39:59.828Z"
   },
   {
    "duration": 14,
    "start_time": "2022-04-01T06:40:39.916Z"
   },
   {
    "duration": 26,
    "start_time": "2022-04-01T06:40:47.484Z"
   },
   {
    "duration": 12,
    "start_time": "2022-04-01T06:40:54.103Z"
   },
   {
    "duration": 31,
    "start_time": "2022-04-01T06:42:07.814Z"
   },
   {
    "duration": 8,
    "start_time": "2022-04-01T07:38:21.815Z"
   },
   {
    "duration": 52,
    "start_time": "2022-04-01T07:38:29.639Z"
   },
   {
    "duration": 51,
    "start_time": "2022-04-01T07:38:51.479Z"
   },
   {
    "duration": 58,
    "start_time": "2022-04-01T07:39:30.096Z"
   },
   {
    "duration": 12,
    "start_time": "2022-04-01T07:39:42.480Z"
   },
   {
    "duration": 135,
    "start_time": "2022-04-01T07:40:01.279Z"
   },
   {
    "duration": 162,
    "start_time": "2022-04-01T07:40:04.879Z"
   },
   {
    "duration": 9,
    "start_time": "2022-04-01T07:40:08.415Z"
   },
   {
    "duration": 35,
    "start_time": "2022-04-01T07:40:18.192Z"
   },
   {
    "duration": 67,
    "start_time": "2022-04-01T07:41:31.655Z"
   },
   {
    "duration": 73,
    "start_time": "2022-04-01T07:41:56.078Z"
   },
   {
    "duration": 8,
    "start_time": "2022-04-01T07:42:52.559Z"
   },
   {
    "duration": 51,
    "start_time": "2022-04-01T07:43:19.038Z"
   },
   {
    "duration": 47,
    "start_time": "2022-04-01T07:43:37.270Z"
   },
   {
    "duration": 40,
    "start_time": "2022-04-01T07:44:16.613Z"
   },
   {
    "duration": 7,
    "start_time": "2022-04-01T07:44:30.351Z"
   },
   {
    "duration": 8,
    "start_time": "2022-04-01T07:44:35.557Z"
   },
   {
    "duration": 9,
    "start_time": "2022-04-01T07:44:44.413Z"
   },
   {
    "duration": 9,
    "start_time": "2022-04-01T07:44:55.173Z"
   },
   {
    "duration": 7,
    "start_time": "2022-04-01T07:45:19.909Z"
   },
   {
    "duration": 20,
    "start_time": "2022-04-01T07:45:23.965Z"
   },
   {
    "duration": 17,
    "start_time": "2022-04-01T07:46:07.134Z"
   },
   {
    "duration": 12,
    "start_time": "2022-04-01T07:46:11.285Z"
   },
   {
    "duration": 12,
    "start_time": "2022-04-01T07:46:16.654Z"
   },
   {
    "duration": 14,
    "start_time": "2022-04-01T07:46:23.549Z"
   },
   {
    "duration": 27,
    "start_time": "2022-04-01T07:46:47.509Z"
   },
   {
    "duration": 20,
    "start_time": "2022-04-01T07:46:58.797Z"
   },
   {
    "duration": 24,
    "start_time": "2022-04-01T07:47:08.676Z"
   },
   {
    "duration": 9,
    "start_time": "2022-04-01T07:47:18.669Z"
   },
   {
    "duration": 27,
    "start_time": "2022-04-01T07:48:11.837Z"
   },
   {
    "duration": 27,
    "start_time": "2022-04-01T07:48:15.556Z"
   },
   {
    "duration": 26,
    "start_time": "2022-04-01T07:48:39.028Z"
   },
   {
    "duration": 1028,
    "start_time": "2022-04-01T07:49:08.807Z"
   },
   {
    "duration": 516,
    "start_time": "2022-04-01T07:49:09.838Z"
   },
   {
    "duration": 29,
    "start_time": "2022-04-01T07:49:10.357Z"
   },
   {
    "duration": 15,
    "start_time": "2022-04-01T07:49:10.388Z"
   },
   {
    "duration": 18,
    "start_time": "2022-04-01T07:49:10.406Z"
   },
   {
    "duration": 59,
    "start_time": "2022-04-01T07:49:10.426Z"
   },
   {
    "duration": 17,
    "start_time": "2022-04-01T07:49:10.487Z"
   },
   {
    "duration": 45,
    "start_time": "2022-04-01T07:49:10.507Z"
   },
   {
    "duration": 44,
    "start_time": "2022-04-01T07:49:10.555Z"
   },
   {
    "duration": 14,
    "start_time": "2022-04-01T07:49:10.601Z"
   },
   {
    "duration": 26,
    "start_time": "2022-04-01T07:49:10.617Z"
   },
   {
    "duration": 11,
    "start_time": "2022-04-01T07:49:10.645Z"
   },
   {
    "duration": 9,
    "start_time": "2022-04-01T07:49:10.684Z"
   },
   {
    "duration": 128,
    "start_time": "2022-04-01T07:49:10.696Z"
   },
   {
    "duration": 20,
    "start_time": "2022-04-01T07:49:10.826Z"
   },
   {
    "duration": 12,
    "start_time": "2022-04-01T07:49:10.848Z"
   },
   {
    "duration": 85,
    "start_time": "2022-04-01T07:49:10.862Z"
   },
   {
    "duration": 6,
    "start_time": "2022-04-01T07:49:10.950Z"
   },
   {
    "duration": 67,
    "start_time": "2022-04-01T07:49:10.959Z"
   },
   {
    "duration": 11,
    "start_time": "2022-04-01T07:49:11.029Z"
   },
   {
    "duration": 55,
    "start_time": "2022-04-01T07:49:11.043Z"
   },
   {
    "duration": 28,
    "start_time": "2022-04-01T07:49:52.581Z"
   },
   {
    "duration": 139,
    "start_time": "2022-04-01T11:12:20.560Z"
   },
   {
    "duration": 19,
    "start_time": "2022-04-01T11:12:25.375Z"
   },
   {
    "duration": 28,
    "start_time": "2022-04-01T11:12:35.136Z"
   },
   {
    "duration": 17,
    "start_time": "2022-04-01T11:13:03.588Z"
   },
   {
    "duration": 48,
    "start_time": "2022-04-01T11:14:49.151Z"
   },
   {
    "duration": 24,
    "start_time": "2022-04-01T11:15:27.030Z"
   },
   {
    "duration": 29,
    "start_time": "2022-04-01T11:15:34.815Z"
   },
   {
    "duration": 29,
    "start_time": "2022-04-01T11:17:47.638Z"
   },
   {
    "duration": 20,
    "start_time": "2022-04-01T14:48:57.689Z"
   },
   {
    "duration": 16,
    "start_time": "2022-04-01T14:50:34.625Z"
   },
   {
    "duration": 15,
    "start_time": "2022-04-01T14:50:38.801Z"
   },
   {
    "duration": 24,
    "start_time": "2022-04-01T14:51:17.369Z"
   },
   {
    "duration": 32,
    "start_time": "2022-04-01T14:51:36.711Z"
   },
   {
    "duration": 42,
    "start_time": "2022-04-01T14:52:58.807Z"
   },
   {
    "duration": 33,
    "start_time": "2022-04-01T14:53:08.417Z"
   },
   {
    "duration": 35,
    "start_time": "2022-04-01T14:53:13.415Z"
   },
   {
    "duration": 30,
    "start_time": "2022-04-01T14:53:38.336Z"
   },
   {
    "duration": 20,
    "start_time": "2022-04-01T14:53:41.527Z"
   },
   {
    "duration": 33,
    "start_time": "2022-04-01T14:53:44.191Z"
   },
   {
    "duration": 41,
    "start_time": "2022-04-01T14:54:03.352Z"
   },
   {
    "duration": 23,
    "start_time": "2022-04-01T14:54:24.816Z"
   },
   {
    "duration": 9,
    "start_time": "2022-04-01T14:54:34.695Z"
   },
   {
    "duration": 23,
    "start_time": "2022-04-01T14:54:41.222Z"
   },
   {
    "duration": 13,
    "start_time": "2022-04-01T14:55:01.270Z"
   },
   {
    "duration": 23,
    "start_time": "2022-04-01T14:55:11.703Z"
   },
   {
    "duration": 12,
    "start_time": "2022-04-01T14:55:21.911Z"
   },
   {
    "duration": 15,
    "start_time": "2022-04-01T14:55:27.247Z"
   },
   {
    "duration": 20,
    "start_time": "2022-04-01T14:55:55.895Z"
   },
   {
    "duration": 15,
    "start_time": "2022-04-01T14:56:35.610Z"
   },
   {
    "duration": 121,
    "start_time": "2022-04-01T14:56:58.391Z"
   },
   {
    "duration": 22,
    "start_time": "2022-04-01T14:57:02.814Z"
   },
   {
    "duration": 20,
    "start_time": "2022-04-01T14:57:09.046Z"
   },
   {
    "duration": 26,
    "start_time": "2022-04-01T14:57:17.286Z"
   },
   {
    "duration": 101,
    "start_time": "2022-04-01T14:58:40.296Z"
   },
   {
    "duration": 10,
    "start_time": "2022-04-01T14:58:43.325Z"
   },
   {
    "duration": 31,
    "start_time": "2022-04-01T14:59:17.870Z"
   },
   {
    "duration": 10,
    "start_time": "2022-04-01T14:59:24.133Z"
   },
   {
    "duration": 15,
    "start_time": "2022-04-01T14:59:34.478Z"
   },
   {
    "duration": 8,
    "start_time": "2022-04-01T14:59:47.871Z"
   },
   {
    "duration": 10,
    "start_time": "2022-04-01T15:00:05.519Z"
   },
   {
    "duration": 9,
    "start_time": "2022-04-01T15:00:42.310Z"
   },
   {
    "duration": 9,
    "start_time": "2022-04-01T15:00:50.101Z"
   },
   {
    "duration": 10,
    "start_time": "2022-04-01T15:00:53.189Z"
   },
   {
    "duration": 21,
    "start_time": "2022-04-01T15:26:22.399Z"
   },
   {
    "duration": 21,
    "start_time": "2022-04-01T15:26:28.166Z"
   },
   {
    "duration": 134,
    "start_time": "2022-04-01T15:27:12.485Z"
   },
   {
    "duration": 109,
    "start_time": "2022-04-01T15:27:17.997Z"
   },
   {
    "duration": 110,
    "start_time": "2022-04-01T15:27:24.045Z"
   },
   {
    "duration": 123,
    "start_time": "2022-04-01T15:27:29.173Z"
   },
   {
    "duration": 29,
    "start_time": "2022-04-01T15:27:35.333Z"
   },
   {
    "duration": 111,
    "start_time": "2022-04-01T15:27:42.581Z"
   },
   {
    "duration": 29,
    "start_time": "2022-04-01T15:27:45.459Z"
   },
   {
    "duration": 27,
    "start_time": "2022-04-01T15:27:54.038Z"
   },
   {
    "duration": 19,
    "start_time": "2022-04-01T15:28:29.758Z"
   },
   {
    "duration": 19,
    "start_time": "2022-04-01T15:28:34.126Z"
   },
   {
    "duration": 19,
    "start_time": "2022-04-01T15:28:43.765Z"
   },
   {
    "duration": 21,
    "start_time": "2022-04-01T15:28:54.732Z"
   },
   {
    "duration": 28,
    "start_time": "2022-04-01T15:29:34.510Z"
   },
   {
    "duration": 1764,
    "start_time": "2022-04-01T15:30:25.165Z"
   },
   {
    "duration": 28,
    "start_time": "2022-04-01T15:30:34.789Z"
   },
   {
    "duration": 123,
    "start_time": "2022-04-01T15:30:42.525Z"
   },
   {
    "duration": 28,
    "start_time": "2022-04-01T15:30:48.693Z"
   },
   {
    "duration": 33,
    "start_time": "2022-04-01T15:30:57.412Z"
   },
   {
    "duration": 23,
    "start_time": "2022-04-01T15:31:17.980Z"
   },
   {
    "duration": 14,
    "start_time": "2022-04-01T15:31:29.012Z"
   },
   {
    "duration": 40,
    "start_time": "2022-04-01T15:31:38.283Z"
   },
   {
    "duration": 11,
    "start_time": "2022-04-01T15:31:52.588Z"
   },
   {
    "duration": 10,
    "start_time": "2022-04-01T15:31:57.620Z"
   },
   {
    "duration": 11,
    "start_time": "2022-04-01T15:32:33.404Z"
   },
   {
    "duration": 41,
    "start_time": "2022-04-01T15:33:09.388Z"
   },
   {
    "duration": 15,
    "start_time": "2022-04-01T15:33:33.627Z"
   },
   {
    "duration": 17,
    "start_time": "2022-04-01T15:34:36.582Z"
   },
   {
    "duration": 25,
    "start_time": "2022-04-01T15:34:58.859Z"
   },
   {
    "duration": 8,
    "start_time": "2022-04-01T15:35:10.298Z"
   },
   {
    "duration": 15,
    "start_time": "2022-04-01T15:35:15.795Z"
   },
   {
    "duration": 166,
    "start_time": "2022-04-01T15:39:04.730Z"
   },
   {
    "duration": 4,
    "start_time": "2022-04-01T15:39:16.794Z"
   },
   {
    "duration": 103,
    "start_time": "2022-04-01T15:44:04.504Z"
   },
   {
    "duration": 102,
    "start_time": "2022-04-01T15:44:19.047Z"
   },
   {
    "duration": 50,
    "start_time": "2022-04-01T15:44:25.688Z"
   },
   {
    "duration": 27,
    "start_time": "2022-04-01T15:44:27.840Z"
   },
   {
    "duration": 29,
    "start_time": "2022-04-01T15:44:28.016Z"
   },
   {
    "duration": 38,
    "start_time": "2022-04-01T15:44:29.593Z"
   },
   {
    "duration": 15,
    "start_time": "2022-04-01T15:44:29.744Z"
   },
   {
    "duration": 7,
    "start_time": "2022-04-01T15:44:31.753Z"
   },
   {
    "duration": 21,
    "start_time": "2022-04-01T15:44:32.287Z"
   },
   {
    "duration": 6,
    "start_time": "2022-04-01T15:48:29.544Z"
   },
   {
    "duration": 7,
    "start_time": "2022-04-01T15:48:52.534Z"
   },
   {
    "duration": 98,
    "start_time": "2022-04-01T15:49:14.111Z"
   },
   {
    "duration": 98,
    "start_time": "2022-04-01T15:49:25.215Z"
   },
   {
    "duration": 6,
    "start_time": "2022-04-01T15:50:44.182Z"
   },
   {
    "duration": 137,
    "start_time": "2022-04-01T15:50:46.445Z"
   },
   {
    "duration": 8,
    "start_time": "2022-04-01T15:51:56.094Z"
   },
   {
    "duration": 177,
    "start_time": "2022-04-01T15:51:57.949Z"
   },
   {
    "duration": 10,
    "start_time": "2022-04-01T15:52:11.758Z"
   },
   {
    "duration": 170,
    "start_time": "2022-04-01T15:52:12.629Z"
   },
   {
    "duration": 7,
    "start_time": "2022-04-01T15:52:48.766Z"
   },
   {
    "duration": 175,
    "start_time": "2022-04-01T15:52:49.877Z"
   },
   {
    "duration": 172,
    "start_time": "2022-04-01T15:53:27.517Z"
   },
   {
    "duration": 16,
    "start_time": "2022-04-01T15:53:31.396Z"
   },
   {
    "duration": 171,
    "start_time": "2022-04-01T15:53:42.845Z"
   },
   {
    "duration": 164,
    "start_time": "2022-04-01T15:54:23.813Z"
   },
   {
    "duration": 181,
    "start_time": "2022-04-01T15:55:02.788Z"
   },
   {
    "duration": 15,
    "start_time": "2022-04-01T15:57:51.643Z"
   },
   {
    "duration": 22,
    "start_time": "2022-04-01T15:57:55.764Z"
   },
   {
    "duration": 34,
    "start_time": "2022-04-01T15:58:38.868Z"
   },
   {
    "duration": 816,
    "start_time": "2022-04-01T16:00:04.498Z"
   },
   {
    "duration": 30,
    "start_time": "2022-04-01T16:00:14.315Z"
   },
   {
    "duration": 18,
    "start_time": "2022-04-01T16:00:31.282Z"
   },
   {
    "duration": 13,
    "start_time": "2022-04-01T16:00:43.602Z"
   },
   {
    "duration": 17,
    "start_time": "2022-04-01T16:00:50.411Z"
   },
   {
    "duration": 208,
    "start_time": "2022-04-01T16:01:24.563Z"
   },
   {
    "duration": 35,
    "start_time": "2022-04-01T16:01:50.013Z"
   },
   {
    "duration": 85,
    "start_time": "2022-04-01T16:02:30.579Z"
   },
   {
    "duration": 37,
    "start_time": "2022-04-01T16:03:24.250Z"
   },
   {
    "duration": 111,
    "start_time": "2022-04-01T16:04:26.960Z"
   },
   {
    "duration": 220,
    "start_time": "2022-04-01T16:04:33.058Z"
   },
   {
    "duration": 232,
    "start_time": "2022-04-01T16:04:43.385Z"
   },
   {
    "duration": 234,
    "start_time": "2022-04-01T16:04:49.953Z"
   },
   {
    "duration": 13,
    "start_time": "2022-04-01T16:05:05.170Z"
   },
   {
    "duration": 87,
    "start_time": "2022-04-01T16:05:11.321Z"
   },
   {
    "duration": 235,
    "start_time": "2022-04-01T16:05:15.961Z"
   },
   {
    "duration": 247,
    "start_time": "2022-04-01T16:05:31.386Z"
   },
   {
    "duration": 224,
    "start_time": "2022-04-01T16:05:48.545Z"
   },
   {
    "duration": 344,
    "start_time": "2022-04-01T16:05:52.786Z"
   },
   {
    "duration": 238,
    "start_time": "2022-04-01T16:05:58.531Z"
   },
   {
    "duration": 225,
    "start_time": "2022-04-01T16:06:25.051Z"
   },
   {
    "duration": 222,
    "start_time": "2022-04-01T16:06:29.418Z"
   },
   {
    "duration": 3,
    "start_time": "2022-04-01T16:10:12.065Z"
   },
   {
    "duration": 11,
    "start_time": "2022-04-01T16:11:25.081Z"
   },
   {
    "duration": 140,
    "start_time": "2022-04-01T16:11:46.904Z"
   },
   {
    "duration": 6,
    "start_time": "2022-04-01T16:12:08.871Z"
   },
   {
    "duration": 9,
    "start_time": "2022-04-01T16:12:17.983Z"
   },
   {
    "duration": 5,
    "start_time": "2022-04-01T16:12:38.512Z"
   },
   {
    "duration": 11,
    "start_time": "2022-04-01T16:12:43.113Z"
   },
   {
    "duration": 12,
    "start_time": "2022-04-01T16:12:48.792Z"
   },
   {
    "duration": 7,
    "start_time": "2022-04-01T16:12:56.215Z"
   },
   {
    "duration": 135,
    "start_time": "2022-04-01T16:12:58.774Z"
   },
   {
    "duration": 7,
    "start_time": "2022-04-01T16:13:15.905Z"
   },
   {
    "duration": 7,
    "start_time": "2022-04-01T16:14:48.910Z"
   },
   {
    "duration": 6,
    "start_time": "2022-04-01T16:15:04.920Z"
   },
   {
    "duration": 7,
    "start_time": "2022-04-01T16:15:27.575Z"
   },
   {
    "duration": 6,
    "start_time": "2022-04-01T16:16:39.142Z"
   },
   {
    "duration": 6,
    "start_time": "2022-04-01T16:19:50.854Z"
   },
   {
    "duration": 34,
    "start_time": "2022-04-01T16:21:19.508Z"
   },
   {
    "duration": 7,
    "start_time": "2022-04-01T16:21:45.549Z"
   },
   {
    "duration": 7,
    "start_time": "2022-04-01T16:21:56.974Z"
   },
   {
    "duration": 11,
    "start_time": "2022-04-01T16:22:27.294Z"
   },
   {
    "duration": 34,
    "start_time": "2022-04-01T16:22:32.580Z"
   },
   {
    "duration": 37,
    "start_time": "2022-04-01T16:22:36.453Z"
   },
   {
    "duration": 1430,
    "start_time": "2022-04-01T16:22:44.930Z"
   },
   {
    "duration": 522,
    "start_time": "2022-04-01T16:22:46.362Z"
   },
   {
    "duration": 25,
    "start_time": "2022-04-01T16:22:46.886Z"
   },
   {
    "duration": 28,
    "start_time": "2022-04-01T16:22:46.914Z"
   },
   {
    "duration": 37,
    "start_time": "2022-04-01T16:22:46.944Z"
   },
   {
    "duration": 53,
    "start_time": "2022-04-01T16:22:46.983Z"
   },
   {
    "duration": 31,
    "start_time": "2022-04-01T16:22:47.038Z"
   },
   {
    "duration": 43,
    "start_time": "2022-04-01T16:22:47.071Z"
   },
   {
    "duration": 36,
    "start_time": "2022-04-01T16:22:47.116Z"
   },
   {
    "duration": 13,
    "start_time": "2022-04-01T16:22:47.155Z"
   },
   {
    "duration": 25,
    "start_time": "2022-04-01T16:22:47.183Z"
   },
   {
    "duration": 17,
    "start_time": "2022-04-01T16:22:47.211Z"
   },
   {
    "duration": 27,
    "start_time": "2022-04-01T16:22:47.232Z"
   },
   {
    "duration": 125,
    "start_time": "2022-04-01T16:22:47.261Z"
   },
   {
    "duration": 19,
    "start_time": "2022-04-01T16:22:47.388Z"
   },
   {
    "duration": 17,
    "start_time": "2022-04-01T16:22:47.409Z"
   },
   {
    "duration": 90,
    "start_time": "2022-04-01T16:22:47.428Z"
   },
   {
    "duration": 8,
    "start_time": "2022-04-01T16:22:47.520Z"
   },
   {
    "duration": 65,
    "start_time": "2022-04-01T16:22:47.530Z"
   },
   {
    "duration": 28,
    "start_time": "2022-04-01T16:22:47.597Z"
   },
   {
    "duration": 30,
    "start_time": "2022-04-01T16:22:47.627Z"
   },
   {
    "duration": 40,
    "start_time": "2022-04-01T16:22:47.684Z"
   },
   {
    "duration": 15,
    "start_time": "2022-04-01T16:22:47.726Z"
   },
   {
    "duration": 41,
    "start_time": "2022-04-01T16:22:47.743Z"
   },
   {
    "duration": 28,
    "start_time": "2022-04-01T16:22:47.786Z"
   },
   {
    "duration": 9,
    "start_time": "2022-04-01T16:22:47.817Z"
   },
   {
    "duration": 210,
    "start_time": "2022-04-01T16:22:47.828Z"
   },
   {
    "duration": 33,
    "start_time": "2022-04-01T16:22:48.041Z"
   },
   {
    "duration": 88,
    "start_time": "2022-04-01T16:22:48.076Z"
   },
   {
    "duration": 53,
    "start_time": "2022-04-01T16:22:48.166Z"
   },
   {
    "duration": 21,
    "start_time": "2022-04-01T16:22:48.221Z"
   },
   {
    "duration": 56,
    "start_time": "2022-04-01T16:22:48.244Z"
   },
   {
    "duration": 29,
    "start_time": "2022-04-01T16:22:48.303Z"
   },
   {
    "duration": 273,
    "start_time": "2022-04-01T16:22:48.334Z"
   },
   {
    "duration": 4,
    "start_time": "2022-04-01T16:22:48.609Z"
   },
   {
    "duration": 39,
    "start_time": "2022-04-01T16:22:48.615Z"
   },
   {
    "duration": 71,
    "start_time": "2022-04-01T16:22:48.656Z"
   },
   {
    "duration": 9,
    "start_time": "2022-04-01T16:23:36.996Z"
   },
   {
    "duration": 153,
    "start_time": "2022-04-01T16:25:18.732Z"
   },
   {
    "duration": 15,
    "start_time": "2022-04-01T16:25:32.147Z"
   },
   {
    "duration": 7,
    "start_time": "2022-04-01T16:27:44.523Z"
   },
   {
    "duration": 7,
    "start_time": "2022-04-01T16:28:14.122Z"
   },
   {
    "duration": 8,
    "start_time": "2022-04-01T16:28:27.275Z"
   },
   {
    "duration": 6,
    "start_time": "2022-04-01T16:28:40.915Z"
   },
   {
    "duration": 6,
    "start_time": "2022-04-01T16:28:43.291Z"
   },
   {
    "duration": 7,
    "start_time": "2022-04-01T16:29:01.867Z"
   },
   {
    "duration": 7,
    "start_time": "2022-04-01T16:29:08.683Z"
   },
   {
    "duration": 7,
    "start_time": "2022-04-01T16:29:11.754Z"
   },
   {
    "duration": 13,
    "start_time": "2022-04-01T16:30:40.435Z"
   },
   {
    "duration": 6,
    "start_time": "2022-04-01T16:30:55.194Z"
   },
   {
    "duration": 6,
    "start_time": "2022-04-01T16:31:31.282Z"
   },
   {
    "duration": 16,
    "start_time": "2022-04-01T16:35:55.464Z"
   },
   {
    "duration": 198,
    "start_time": "2022-04-01T16:36:08.976Z"
   },
   {
    "duration": 1774,
    "start_time": "2022-04-02T08:17:36.028Z"
   },
   {
    "duration": 4,
    "start_time": "2022-04-02T08:17:41.180Z"
   },
   {
    "duration": 523,
    "start_time": "2022-04-02T08:17:41.187Z"
   },
   {
    "duration": 24,
    "start_time": "2022-04-02T08:17:41.712Z"
   },
   {
    "duration": 17,
    "start_time": "2022-04-02T08:17:41.740Z"
   },
   {
    "duration": 44,
    "start_time": "2022-04-02T08:17:41.760Z"
   },
   {
    "duration": 34,
    "start_time": "2022-04-02T08:17:41.807Z"
   },
   {
    "duration": 44,
    "start_time": "2022-04-02T08:17:41.844Z"
   },
   {
    "duration": 39,
    "start_time": "2022-04-02T08:17:41.891Z"
   },
   {
    "duration": 62,
    "start_time": "2022-04-02T08:17:41.933Z"
   },
   {
    "duration": 20,
    "start_time": "2022-04-02T08:17:41.999Z"
   },
   {
    "duration": 48,
    "start_time": "2022-04-02T08:17:42.022Z"
   },
   {
    "duration": 29,
    "start_time": "2022-04-02T08:17:42.073Z"
   },
   {
    "duration": 11,
    "start_time": "2022-04-02T08:17:42.109Z"
   },
   {
    "duration": 189,
    "start_time": "2022-04-02T08:17:42.123Z"
   },
   {
    "duration": 19,
    "start_time": "2022-04-02T08:17:42.315Z"
   },
   {
    "duration": 13,
    "start_time": "2022-04-02T08:17:42.336Z"
   },
   {
    "duration": 96,
    "start_time": "2022-04-02T08:17:42.351Z"
   },
   {
    "duration": 7,
    "start_time": "2022-04-02T08:17:42.449Z"
   },
   {
    "duration": 77,
    "start_time": "2022-04-02T08:17:42.458Z"
   },
   {
    "duration": 52,
    "start_time": "2022-04-02T08:17:42.537Z"
   },
   {
    "duration": 30,
    "start_time": "2022-04-02T08:17:42.592Z"
   },
   {
    "duration": 40,
    "start_time": "2022-04-02T08:17:42.625Z"
   },
   {
    "duration": 15,
    "start_time": "2022-04-02T08:17:42.696Z"
   },
   {
    "duration": 8,
    "start_time": "2022-04-02T08:17:42.713Z"
   },
   {
    "duration": 20,
    "start_time": "2022-04-02T08:17:42.723Z"
   },
   {
    "duration": 7,
    "start_time": "2022-04-02T08:17:42.746Z"
   },
   {
    "duration": 217,
    "start_time": "2022-04-02T08:17:42.755Z"
   },
   {
    "duration": 33,
    "start_time": "2022-04-02T08:17:42.982Z"
   },
   {
    "duration": 661,
    "start_time": "2022-04-02T08:17:43.018Z"
   },
   {
    "duration": 577,
    "start_time": "2022-04-02T08:17:43.681Z"
   },
   {
    "duration": 58,
    "start_time": "2022-04-02T08:17:44.260Z"
   },
   {
    "duration": 9,
    "start_time": "2022-04-02T08:17:44.321Z"
   },
   {
    "duration": 6,
    "start_time": "2022-04-02T08:17:44.333Z"
   },
   {
    "duration": 221,
    "start_time": "2022-04-02T08:17:44.341Z"
   },
   {
    "duration": 255,
    "start_time": "2022-04-02T08:17:44.565Z"
   },
   {
    "duration": 4,
    "start_time": "2022-04-02T08:17:44.823Z"
   },
   {
    "duration": 7,
    "start_time": "2022-04-02T08:17:44.833Z"
   },
   {
    "duration": 67,
    "start_time": "2022-04-02T08:17:44.842Z"
   },
   {
    "duration": 10,
    "start_time": "2022-04-02T08:17:44.913Z"
   },
   {
    "duration": 7,
    "start_time": "2022-04-02T08:17:44.925Z"
   },
   {
    "duration": 7,
    "start_time": "2022-04-02T08:17:44.935Z"
   },
   {
    "duration": 44,
    "start_time": "2022-04-02T08:17:44.945Z"
   },
   {
    "duration": 42,
    "start_time": "2022-04-02T08:18:58.440Z"
   },
   {
    "duration": 13,
    "start_time": "2022-04-02T08:19:53.938Z"
   },
   {
    "duration": 17,
    "start_time": "2022-04-02T08:20:41.758Z"
   },
   {
    "duration": 16,
    "start_time": "2022-04-02T08:21:09.630Z"
   },
   {
    "duration": 142,
    "start_time": "2022-04-02T08:21:19.633Z"
   },
   {
    "duration": 17,
    "start_time": "2022-04-02T08:21:25.505Z"
   },
   {
    "duration": 167,
    "start_time": "2022-04-02T08:24:10.190Z"
   },
   {
    "duration": 11,
    "start_time": "2022-04-02T08:24:16.614Z"
   },
   {
    "duration": 9,
    "start_time": "2022-04-02T08:24:20.164Z"
   },
   {
    "duration": 9,
    "start_time": "2022-04-02T08:24:25.290Z"
   },
   {
    "duration": 9,
    "start_time": "2022-04-02T08:25:04.745Z"
   },
   {
    "duration": 9,
    "start_time": "2022-04-02T08:25:11.259Z"
   },
   {
    "duration": 44,
    "start_time": "2022-04-02T08:27:05.602Z"
   },
   {
    "duration": 189,
    "start_time": "2022-04-02T08:28:30.111Z"
   },
   {
    "duration": 333,
    "start_time": "2022-04-02T08:28:36.518Z"
   },
   {
    "duration": 201,
    "start_time": "2022-04-02T08:28:45.440Z"
   },
   {
    "duration": 223,
    "start_time": "2022-04-02T08:28:57.198Z"
   },
   {
    "duration": 7,
    "start_time": "2022-04-02T08:35:12.818Z"
   },
   {
    "duration": 142,
    "start_time": "2022-04-02T08:35:34.012Z"
   },
   {
    "duration": 9,
    "start_time": "2022-04-02T08:35:38.693Z"
   },
   {
    "duration": 8,
    "start_time": "2022-04-02T08:35:44.744Z"
   },
   {
    "duration": 9,
    "start_time": "2022-04-02T08:35:54.098Z"
   },
   {
    "duration": 225,
    "start_time": "2022-04-02T08:36:20.851Z"
   },
   {
    "duration": 199,
    "start_time": "2022-04-02T08:36:29.160Z"
   },
   {
    "duration": 187,
    "start_time": "2022-04-02T08:36:35.835Z"
   },
   {
    "duration": 234,
    "start_time": "2022-04-02T08:36:51.224Z"
   },
   {
    "duration": 351,
    "start_time": "2022-04-02T08:37:15.113Z"
   },
   {
    "duration": 538,
    "start_time": "2022-04-02T08:37:20.553Z"
   },
   {
    "duration": 240,
    "start_time": "2022-04-02T09:47:29.663Z"
   },
   {
    "duration": 277,
    "start_time": "2022-04-02T09:48:04.882Z"
   },
   {
    "duration": 266,
    "start_time": "2022-04-02T09:48:37.211Z"
   },
   {
    "duration": 203,
    "start_time": "2022-04-02T09:49:22.969Z"
   },
   {
    "duration": 269,
    "start_time": "2022-04-02T09:49:36.490Z"
   },
   {
    "duration": 20,
    "start_time": "2022-04-02T09:50:34.641Z"
   },
   {
    "duration": 251,
    "start_time": "2022-04-02T09:51:58.145Z"
   },
   {
    "duration": 25,
    "start_time": "2022-04-02T09:57:58.949Z"
   },
   {
    "duration": 10,
    "start_time": "2022-04-02T10:05:28.633Z"
   },
   {
    "duration": 179,
    "start_time": "2022-04-02T10:44:39.856Z"
   },
   {
    "duration": 158,
    "start_time": "2022-04-02T10:44:53.649Z"
   },
   {
    "duration": 143,
    "start_time": "2022-04-02T10:45:09.741Z"
   },
   {
    "duration": 27,
    "start_time": "2022-04-02T10:48:26.604Z"
   },
   {
    "duration": 33,
    "start_time": "2022-04-02T10:49:42.435Z"
   },
   {
    "duration": 27,
    "start_time": "2022-04-02T10:49:46.878Z"
   },
   {
    "duration": 40,
    "start_time": "2022-04-02T10:50:02.171Z"
   },
   {
    "duration": 163,
    "start_time": "2022-04-02T10:54:49.640Z"
   },
   {
    "duration": 4,
    "start_time": "2022-04-02T10:55:50.625Z"
   },
   {
    "duration": 31,
    "start_time": "2022-04-02T10:58:23.502Z"
   },
   {
    "duration": 365,
    "start_time": "2022-04-02T10:58:31.231Z"
   },
   {
    "duration": 21,
    "start_time": "2022-04-02T10:58:45.419Z"
   },
   {
    "duration": 194,
    "start_time": "2022-04-02T10:58:50.609Z"
   },
   {
    "duration": 272,
    "start_time": "2022-04-02T10:59:10.965Z"
   },
   {
    "duration": 447,
    "start_time": "2022-04-02T10:59:41.591Z"
   },
   {
    "duration": 331,
    "start_time": "2022-04-02T10:59:47.510Z"
   },
   {
    "duration": 304,
    "start_time": "2022-04-02T10:59:57.697Z"
   },
   {
    "duration": 604,
    "start_time": "2022-04-02T11:00:18.988Z"
   },
   {
    "duration": 381,
    "start_time": "2022-04-02T11:01:38.886Z"
   },
   {
    "duration": 329,
    "start_time": "2022-04-02T11:01:55.662Z"
   },
   {
    "duration": 3173,
    "start_time": "2022-04-02T11:02:46.462Z"
   },
   {
    "duration": 19,
    "start_time": "2022-04-02T11:03:41.131Z"
   },
   {
    "duration": 12,
    "start_time": "2022-04-02T11:03:53.632Z"
   },
   {
    "duration": 11,
    "start_time": "2022-04-02T11:04:00.696Z"
   },
   {
    "duration": 533,
    "start_time": "2022-04-02T11:04:14.377Z"
   },
   {
    "duration": 17,
    "start_time": "2022-04-02T11:07:58.290Z"
   },
   {
    "duration": 1471,
    "start_time": "2022-04-02T11:09:46.850Z"
   },
   {
    "duration": 492,
    "start_time": "2022-04-02T11:09:48.324Z"
   },
   {
    "duration": 28,
    "start_time": "2022-04-02T11:09:48.818Z"
   },
   {
    "duration": 16,
    "start_time": "2022-04-02T11:09:48.848Z"
   },
   {
    "duration": 17,
    "start_time": "2022-04-02T11:09:48.881Z"
   },
   {
    "duration": 36,
    "start_time": "2022-04-02T11:09:48.900Z"
   },
   {
    "duration": 44,
    "start_time": "2022-04-02T11:09:48.938Z"
   },
   {
    "duration": 27,
    "start_time": "2022-04-02T11:09:48.985Z"
   },
   {
    "duration": 30,
    "start_time": "2022-04-02T11:09:49.014Z"
   },
   {
    "duration": 48,
    "start_time": "2022-04-02T11:09:49.046Z"
   },
   {
    "duration": 29,
    "start_time": "2022-04-02T11:09:49.096Z"
   },
   {
    "duration": 13,
    "start_time": "2022-04-02T11:09:49.127Z"
   },
   {
    "duration": 40,
    "start_time": "2022-04-02T11:09:49.142Z"
   },
   {
    "duration": 166,
    "start_time": "2022-04-02T11:09:49.189Z"
   },
   {
    "duration": 24,
    "start_time": "2022-04-02T11:09:49.359Z"
   },
   {
    "duration": 14,
    "start_time": "2022-04-02T11:09:49.386Z"
   },
   {
    "duration": 90,
    "start_time": "2022-04-02T11:09:49.403Z"
   },
   {
    "duration": 9,
    "start_time": "2022-04-02T11:09:49.496Z"
   },
   {
    "duration": 50,
    "start_time": "2022-04-02T11:09:49.507Z"
   },
   {
    "duration": 29,
    "start_time": "2022-04-02T11:09:49.583Z"
   },
   {
    "duration": 30,
    "start_time": "2022-04-02T11:09:49.614Z"
   },
   {
    "duration": 68,
    "start_time": "2022-04-02T11:09:49.646Z"
   },
   {
    "duration": 14,
    "start_time": "2022-04-02T11:09:49.716Z"
   },
   {
    "duration": 10,
    "start_time": "2022-04-02T11:09:49.732Z"
   },
   {
    "duration": 45,
    "start_time": "2022-04-02T11:09:49.744Z"
   },
   {
    "duration": 9,
    "start_time": "2022-04-02T11:09:49.791Z"
   },
   {
    "duration": 199,
    "start_time": "2022-04-02T11:09:49.802Z"
   },
   {
    "duration": 7,
    "start_time": "2022-04-02T11:09:50.004Z"
   },
   {
    "duration": 38,
    "start_time": "2022-04-02T11:09:50.013Z"
   },
   {
    "duration": 169,
    "start_time": "2022-04-02T11:09:50.054Z"
   },
   {
    "duration": 0,
    "start_time": "2022-04-02T11:09:50.226Z"
   },
   {
    "duration": 0,
    "start_time": "2022-04-02T11:09:50.228Z"
   },
   {
    "duration": 0,
    "start_time": "2022-04-02T11:09:50.230Z"
   },
   {
    "duration": 0,
    "start_time": "2022-04-02T11:09:50.234Z"
   },
   {
    "duration": 0,
    "start_time": "2022-04-02T11:09:50.236Z"
   },
   {
    "duration": 0,
    "start_time": "2022-04-02T11:09:50.239Z"
   },
   {
    "duration": 0,
    "start_time": "2022-04-02T11:09:50.241Z"
   },
   {
    "duration": 0,
    "start_time": "2022-04-02T11:09:50.243Z"
   },
   {
    "duration": 0,
    "start_time": "2022-04-02T11:09:50.245Z"
   },
   {
    "duration": 0,
    "start_time": "2022-04-02T11:09:50.247Z"
   },
   {
    "duration": 0,
    "start_time": "2022-04-02T11:09:50.283Z"
   },
   {
    "duration": 0,
    "start_time": "2022-04-02T11:09:50.285Z"
   },
   {
    "duration": 0,
    "start_time": "2022-04-02T11:09:50.287Z"
   },
   {
    "duration": 0,
    "start_time": "2022-04-02T11:09:50.289Z"
   },
   {
    "duration": 0,
    "start_time": "2022-04-02T11:09:50.292Z"
   },
   {
    "duration": 0,
    "start_time": "2022-04-02T11:09:50.294Z"
   },
   {
    "duration": 0,
    "start_time": "2022-04-02T11:09:50.296Z"
   },
   {
    "duration": 0,
    "start_time": "2022-04-02T11:09:50.298Z"
   },
   {
    "duration": 0,
    "start_time": "2022-04-02T11:09:50.300Z"
   },
   {
    "duration": 0,
    "start_time": "2022-04-02T11:09:50.303Z"
   },
   {
    "duration": 0,
    "start_time": "2022-04-02T11:09:50.305Z"
   },
   {
    "duration": 0,
    "start_time": "2022-04-02T11:09:50.308Z"
   },
   {
    "duration": 544,
    "start_time": "2022-04-02T11:10:16.888Z"
   },
   {
    "duration": 583,
    "start_time": "2022-04-02T11:10:25.575Z"
   },
   {
    "duration": 13,
    "start_time": "2022-04-02T11:10:35.995Z"
   },
   {
    "duration": 708,
    "start_time": "2022-04-02T11:10:38.922Z"
   },
   {
    "duration": 367,
    "start_time": "2022-04-02T11:12:43.703Z"
   },
   {
    "duration": 45,
    "start_time": "2022-04-02T11:13:03.907Z"
   },
   {
    "duration": 16,
    "start_time": "2022-04-02T11:13:05.169Z"
   },
   {
    "duration": 83,
    "start_time": "2022-04-02T11:13:13.300Z"
   },
   {
    "duration": 6,
    "start_time": "2022-04-02T11:13:23.908Z"
   },
   {
    "duration": 7,
    "start_time": "2022-04-02T11:13:24.272Z"
   },
   {
    "duration": 236,
    "start_time": "2022-04-02T11:13:25.025Z"
   },
   {
    "duration": 296,
    "start_time": "2022-04-02T11:13:26.302Z"
   },
   {
    "duration": 444,
    "start_time": "2022-04-02T11:16:06.730Z"
   },
   {
    "duration": 258,
    "start_time": "2022-04-02T11:16:25.048Z"
   },
   {
    "duration": 364,
    "start_time": "2022-04-02T11:16:37.207Z"
   },
   {
    "duration": 1033,
    "start_time": "2022-04-02T11:17:02.328Z"
   },
   {
    "duration": 192,
    "start_time": "2022-04-02T11:17:56.759Z"
   },
   {
    "duration": 314,
    "start_time": "2022-04-02T11:18:20.145Z"
   },
   {
    "duration": 985,
    "start_time": "2022-04-02T11:18:49.297Z"
   },
   {
    "duration": 655,
    "start_time": "2022-04-02T11:19:10.234Z"
   },
   {
    "duration": 807,
    "start_time": "2022-04-02T11:19:42.116Z"
   },
   {
    "duration": 10,
    "start_time": "2022-04-02T11:57:38.587Z"
   },
   {
    "duration": 695,
    "start_time": "2022-04-02T11:57:42.246Z"
   },
   {
    "duration": 10,
    "start_time": "2022-04-02T11:58:50.597Z"
   },
   {
    "duration": 678,
    "start_time": "2022-04-02T11:58:53.589Z"
   },
   {
    "duration": 9,
    "start_time": "2022-04-02T12:01:11.228Z"
   },
   {
    "duration": 668,
    "start_time": "2022-04-02T12:01:11.240Z"
   },
   {
    "duration": 146,
    "start_time": "2022-04-02T12:04:24.808Z"
   },
   {
    "duration": 151,
    "start_time": "2022-04-02T12:04:41.076Z"
   },
   {
    "duration": 180,
    "start_time": "2022-04-02T12:04:53.366Z"
   },
   {
    "duration": 10,
    "start_time": "2022-04-02T12:05:00.680Z"
   },
   {
    "duration": 665,
    "start_time": "2022-04-02T12:05:03.039Z"
   },
   {
    "duration": 9,
    "start_time": "2022-04-02T12:05:24.704Z"
   },
   {
    "duration": 751,
    "start_time": "2022-04-02T12:05:27.122Z"
   },
   {
    "duration": 10,
    "start_time": "2022-04-02T12:05:57.075Z"
   },
   {
    "duration": 655,
    "start_time": "2022-04-02T12:06:02.527Z"
   },
   {
    "duration": 27,
    "start_time": "2022-04-02T12:15:10.896Z"
   },
   {
    "duration": 14,
    "start_time": "2022-04-02T12:15:16.843Z"
   },
   {
    "duration": 13,
    "start_time": "2022-04-02T12:15:41.617Z"
   },
   {
    "duration": 16,
    "start_time": "2022-04-02T12:15:48.347Z"
   },
   {
    "duration": 10,
    "start_time": "2022-04-02T12:16:03.836Z"
   },
   {
    "duration": 9,
    "start_time": "2022-04-02T12:16:31.904Z"
   },
   {
    "duration": 11,
    "start_time": "2022-04-02T12:16:57.729Z"
   },
   {
    "duration": 4,
    "start_time": "2022-04-02T12:27:19.476Z"
   },
   {
    "duration": 6,
    "start_time": "2022-04-02T12:27:21.676Z"
   },
   {
    "duration": 35,
    "start_time": "2022-04-02T12:27:23.604Z"
   },
   {
    "duration": 9,
    "start_time": "2022-04-02T12:27:23.815Z"
   },
   {
    "duration": 8,
    "start_time": "2022-04-02T12:27:24.392Z"
   },
   {
    "duration": 6,
    "start_time": "2022-04-02T12:27:24.696Z"
   },
   {
    "duration": 7,
    "start_time": "2022-04-02T12:27:25.064Z"
   },
   {
    "duration": 5,
    "start_time": "2022-04-02T12:28:55.046Z"
   },
   {
    "duration": 5,
    "start_time": "2022-04-02T12:29:18.312Z"
   },
   {
    "duration": 5,
    "start_time": "2022-04-02T12:30:26.796Z"
   },
   {
    "duration": 256,
    "start_time": "2022-04-02T12:31:57.773Z"
   },
   {
    "duration": 6,
    "start_time": "2022-04-02T12:32:05.846Z"
   },
   {
    "duration": 5,
    "start_time": "2022-04-02T12:32:30.768Z"
   },
   {
    "duration": 5,
    "start_time": "2022-04-02T12:32:39.218Z"
   },
   {
    "duration": 5,
    "start_time": "2022-04-02T12:32:53.700Z"
   },
   {
    "duration": 25,
    "start_time": "2022-04-02T12:57:46.915Z"
   },
   {
    "duration": 27,
    "start_time": "2022-04-02T12:57:55.003Z"
   },
   {
    "duration": 24,
    "start_time": "2022-04-02T12:58:47.676Z"
   },
   {
    "duration": 10,
    "start_time": "2022-04-02T13:00:09.060Z"
   },
   {
    "duration": 13,
    "start_time": "2022-04-02T13:00:22.259Z"
   },
   {
    "duration": 1315,
    "start_time": "2022-04-13T06:19:08.682Z"
   },
   {
    "duration": 421,
    "start_time": "2022-04-13T06:19:09.999Z"
   },
   {
    "duration": 16,
    "start_time": "2022-04-13T06:19:10.422Z"
   },
   {
    "duration": 10,
    "start_time": "2022-04-13T06:19:10.440Z"
   },
   {
    "duration": 12,
    "start_time": "2022-04-13T06:19:10.452Z"
   },
   {
    "duration": 27,
    "start_time": "2022-04-13T06:19:10.465Z"
   },
   {
    "duration": 17,
    "start_time": "2022-04-13T06:19:10.494Z"
   },
   {
    "duration": 22,
    "start_time": "2022-04-13T06:19:10.512Z"
   },
   {
    "duration": 23,
    "start_time": "2022-04-13T06:19:10.536Z"
   },
   {
    "duration": 9,
    "start_time": "2022-04-13T06:19:10.561Z"
   },
   {
    "duration": 47,
    "start_time": "2022-04-13T06:19:10.572Z"
   },
   {
    "duration": 9,
    "start_time": "2022-04-13T06:19:10.621Z"
   },
   {
    "duration": 11,
    "start_time": "2022-04-13T06:19:10.632Z"
   },
   {
    "duration": 132,
    "start_time": "2022-04-13T06:19:10.645Z"
   },
   {
    "duration": 14,
    "start_time": "2022-04-13T06:19:10.778Z"
   },
   {
    "duration": 12,
    "start_time": "2022-04-13T06:19:10.800Z"
   },
   {
    "duration": 60,
    "start_time": "2022-04-13T06:19:10.813Z"
   },
   {
    "duration": 6,
    "start_time": "2022-04-13T06:19:10.875Z"
   },
   {
    "duration": 58,
    "start_time": "2022-04-13T06:19:10.883Z"
   },
   {
    "duration": 21,
    "start_time": "2022-04-13T06:19:10.943Z"
   },
   {
    "duration": 48,
    "start_time": "2022-04-13T06:19:10.966Z"
   },
   {
    "duration": 35,
    "start_time": "2022-04-13T06:19:11.016Z"
   },
   {
    "duration": 10,
    "start_time": "2022-04-13T06:19:11.053Z"
   },
   {
    "duration": 6,
    "start_time": "2022-04-13T06:19:11.064Z"
   },
   {
    "duration": 35,
    "start_time": "2022-04-13T06:19:11.072Z"
   },
   {
    "duration": 5,
    "start_time": "2022-04-13T06:19:11.109Z"
   },
   {
    "duration": 117,
    "start_time": "2022-04-13T06:19:11.116Z"
   },
   {
    "duration": 5,
    "start_time": "2022-04-13T06:19:11.236Z"
   },
   {
    "duration": 7,
    "start_time": "2022-04-13T06:19:11.243Z"
   },
   {
    "duration": 222,
    "start_time": "2022-04-13T06:19:11.252Z"
   },
   {
    "duration": 565,
    "start_time": "2022-04-13T06:19:11.476Z"
   },
   {
    "duration": 311,
    "start_time": "2022-04-13T06:19:12.043Z"
   },
   {
    "duration": 598,
    "start_time": "2022-04-13T06:19:12.356Z"
   },
   {
    "duration": 8,
    "start_time": "2022-04-13T06:19:12.956Z"
   },
   {
    "duration": 297,
    "start_time": "2022-04-13T06:19:12.966Z"
   },
   {
    "duration": 724,
    "start_time": "2022-04-13T06:19:13.264Z"
   },
   {
    "duration": 34,
    "start_time": "2022-04-13T06:19:13.990Z"
   },
   {
    "duration": 13,
    "start_time": "2022-04-13T06:19:14.025Z"
   },
   {
    "duration": 8,
    "start_time": "2022-04-13T06:19:14.039Z"
   },
   {
    "duration": 9,
    "start_time": "2022-04-13T06:19:14.049Z"
   },
   {
    "duration": 8,
    "start_time": "2022-04-13T06:19:14.060Z"
   },
   {
    "duration": 4,
    "start_time": "2022-04-13T06:19:14.070Z"
   },
   {
    "duration": 32,
    "start_time": "2022-04-13T06:19:14.076Z"
   },
   {
    "duration": 6,
    "start_time": "2022-04-13T06:19:14.109Z"
   },
   {
    "duration": 23,
    "start_time": "2022-04-13T06:19:14.116Z"
   },
   {
    "duration": 6,
    "start_time": "2022-04-13T06:19:14.141Z"
   },
   {
    "duration": 14,
    "start_time": "2022-04-13T06:19:14.149Z"
   },
   {
    "duration": 6,
    "start_time": "2022-04-13T06:19:14.165Z"
   },
   {
    "duration": 6,
    "start_time": "2022-04-13T06:19:14.173Z"
   },
   {
    "duration": 21,
    "start_time": "2022-04-13T06:19:14.180Z"
   },
   {
    "duration": 8,
    "start_time": "2022-04-13T06:20:29.532Z"
   },
   {
    "duration": 7,
    "start_time": "2022-04-13T14:25:58.916Z"
   },
   {
    "duration": 1214,
    "start_time": "2022-04-13T14:26:05.070Z"
   },
   {
    "duration": 3,
    "start_time": "2022-04-13T14:26:06.286Z"
   },
   {
    "duration": 342,
    "start_time": "2022-04-13T14:26:06.290Z"
   },
   {
    "duration": 15,
    "start_time": "2022-04-13T14:26:06.634Z"
   },
   {
    "duration": 10,
    "start_time": "2022-04-13T14:26:06.651Z"
   },
   {
    "duration": 12,
    "start_time": "2022-04-13T14:26:06.662Z"
   },
   {
    "duration": 22,
    "start_time": "2022-04-13T14:26:06.675Z"
   },
   {
    "duration": 30,
    "start_time": "2022-04-13T14:26:06.699Z"
   },
   {
    "duration": 20,
    "start_time": "2022-04-13T14:26:06.730Z"
   },
   {
    "duration": 20,
    "start_time": "2022-04-13T14:26:06.752Z"
   },
   {
    "duration": 8,
    "start_time": "2022-04-13T14:26:06.774Z"
   },
   {
    "duration": 40,
    "start_time": "2022-04-13T14:26:06.784Z"
   },
   {
    "duration": 7,
    "start_time": "2022-04-13T14:26:06.826Z"
   },
   {
    "duration": 7,
    "start_time": "2022-04-13T14:26:06.834Z"
   },
   {
    "duration": 80,
    "start_time": "2022-04-13T14:26:06.843Z"
   },
   {
    "duration": 12,
    "start_time": "2022-04-13T14:26:06.925Z"
   },
   {
    "duration": 25,
    "start_time": "2022-04-13T14:26:06.939Z"
   },
   {
    "duration": 57,
    "start_time": "2022-04-13T14:26:06.965Z"
   },
   {
    "duration": 5,
    "start_time": "2022-04-13T14:26:07.024Z"
   },
   {
    "duration": 65,
    "start_time": "2022-04-13T14:26:07.031Z"
   },
   {
    "duration": 17,
    "start_time": "2022-04-13T14:26:07.098Z"
   },
   {
    "duration": 37,
    "start_time": "2022-04-13T14:26:07.116Z"
   },
   {
    "duration": 25,
    "start_time": "2022-04-13T14:26:07.155Z"
   },
   {
    "duration": 9,
    "start_time": "2022-04-13T14:26:07.182Z"
   },
   {
    "duration": 14,
    "start_time": "2022-04-13T14:26:07.192Z"
   },
   {
    "duration": 25,
    "start_time": "2022-04-13T14:26:07.207Z"
   },
   {
    "duration": 10,
    "start_time": "2022-04-13T14:26:07.233Z"
   },
   {
    "duration": 111,
    "start_time": "2022-04-13T14:26:07.247Z"
   },
   {
    "duration": 5,
    "start_time": "2022-04-13T14:26:07.360Z"
   },
   {
    "duration": 22,
    "start_time": "2022-04-13T14:26:07.367Z"
   },
   {
    "duration": 238,
    "start_time": "2022-04-13T14:26:07.391Z"
   },
   {
    "duration": 531,
    "start_time": "2022-04-13T14:26:07.631Z"
   },
   {
    "duration": 189,
    "start_time": "2022-04-13T14:26:08.164Z"
   },
   {
    "duration": 459,
    "start_time": "2022-04-13T14:26:08.354Z"
   },
   {
    "duration": 12,
    "start_time": "2022-04-13T14:26:08.815Z"
   },
   {
    "duration": 195,
    "start_time": "2022-04-13T14:26:08.829Z"
   },
   {
    "duration": 488,
    "start_time": "2022-04-13T14:26:09.025Z"
   },
   {
    "duration": 34,
    "start_time": "2022-04-13T14:26:09.515Z"
   },
   {
    "duration": 14,
    "start_time": "2022-04-13T14:26:09.550Z"
   },
   {
    "duration": 7,
    "start_time": "2022-04-13T14:26:09.566Z"
   },
   {
    "duration": 7,
    "start_time": "2022-04-13T14:26:09.575Z"
   },
   {
    "duration": 6,
    "start_time": "2022-04-13T14:26:09.584Z"
   },
   {
    "duration": 4,
    "start_time": "2022-04-13T14:26:09.624Z"
   },
   {
    "duration": 5,
    "start_time": "2022-04-13T14:26:09.630Z"
   },
   {
    "duration": 5,
    "start_time": "2022-04-13T14:26:09.636Z"
   },
   {
    "duration": 5,
    "start_time": "2022-04-13T14:26:09.643Z"
   },
   {
    "duration": 21,
    "start_time": "2022-04-13T14:26:09.650Z"
   },
   {
    "duration": 5,
    "start_time": "2022-04-13T14:26:09.673Z"
   },
   {
    "duration": 4,
    "start_time": "2022-04-13T14:26:09.680Z"
   },
   {
    "duration": 40,
    "start_time": "2022-04-13T14:26:09.685Z"
   },
   {
    "duration": 3,
    "start_time": "2022-04-13T14:26:09.727Z"
   },
   {
    "duration": 6,
    "start_time": "2022-04-13T14:26:09.731Z"
   },
   {
    "duration": 42,
    "start_time": "2022-04-13T14:28:33.638Z"
   },
   {
    "duration": 37,
    "start_time": "2022-04-13T14:28:38.655Z"
   },
   {
    "duration": 1189,
    "start_time": "2022-04-13T14:28:53.117Z"
   },
   {
    "duration": 3,
    "start_time": "2022-04-13T14:28:54.308Z"
   },
   {
    "duration": 351,
    "start_time": "2022-04-13T14:28:54.312Z"
   },
   {
    "duration": 17,
    "start_time": "2022-04-13T14:28:54.665Z"
   },
   {
    "duration": 13,
    "start_time": "2022-04-13T14:28:54.685Z"
   },
   {
    "duration": 15,
    "start_time": "2022-04-13T14:28:54.699Z"
   },
   {
    "duration": 24,
    "start_time": "2022-04-13T14:28:54.715Z"
   },
   {
    "duration": 11,
    "start_time": "2022-04-13T14:28:54.741Z"
   },
   {
    "duration": 18,
    "start_time": "2022-04-13T14:28:54.754Z"
   },
   {
    "duration": 20,
    "start_time": "2022-04-13T14:28:54.774Z"
   },
   {
    "duration": 33,
    "start_time": "2022-04-13T14:28:54.796Z"
   },
   {
    "duration": 14,
    "start_time": "2022-04-13T14:28:54.831Z"
   },
   {
    "duration": 6,
    "start_time": "2022-04-13T14:28:54.847Z"
   },
   {
    "duration": 7,
    "start_time": "2022-04-13T14:28:54.855Z"
   },
   {
    "duration": 117,
    "start_time": "2022-04-13T14:28:54.863Z"
   },
   {
    "duration": 12,
    "start_time": "2022-04-13T14:28:54.982Z"
   },
   {
    "duration": 9,
    "start_time": "2022-04-13T14:28:54.996Z"
   },
   {
    "duration": 53,
    "start_time": "2022-04-13T14:28:55.006Z"
   },
   {
    "duration": 5,
    "start_time": "2022-04-13T14:28:55.061Z"
   },
   {
    "duration": 42,
    "start_time": "2022-04-13T14:28:55.067Z"
   },
   {
    "duration": 24,
    "start_time": "2022-04-13T14:28:55.111Z"
   },
   {
    "duration": 19,
    "start_time": "2022-04-13T14:28:55.137Z"
   },
   {
    "duration": 24,
    "start_time": "2022-04-13T14:28:55.157Z"
   },
   {
    "duration": 8,
    "start_time": "2022-04-13T14:28:55.183Z"
   },
   {
    "duration": 9,
    "start_time": "2022-04-13T14:28:55.193Z"
   },
   {
    "duration": 28,
    "start_time": "2022-04-13T14:28:55.203Z"
   },
   {
    "duration": 5,
    "start_time": "2022-04-13T14:28:55.232Z"
   },
   {
    "duration": 116,
    "start_time": "2022-04-13T14:28:55.239Z"
   },
   {
    "duration": 4,
    "start_time": "2022-04-13T14:28:55.357Z"
   },
   {
    "duration": 6,
    "start_time": "2022-04-13T14:28:55.362Z"
   },
   {
    "duration": 233,
    "start_time": "2022-04-13T14:28:55.370Z"
   },
   {
    "duration": 422,
    "start_time": "2022-04-13T14:28:55.605Z"
   },
   {
    "duration": 184,
    "start_time": "2022-04-13T14:28:56.029Z"
   },
   {
    "duration": 398,
    "start_time": "2022-04-13T14:28:56.215Z"
   },
   {
    "duration": 11,
    "start_time": "2022-04-13T14:28:56.615Z"
   },
   {
    "duration": 184,
    "start_time": "2022-04-13T14:28:56.627Z"
   },
   {
    "duration": 519,
    "start_time": "2022-04-13T14:28:56.813Z"
   },
   {
    "duration": 27,
    "start_time": "2022-04-13T14:28:57.334Z"
   },
   {
    "duration": 13,
    "start_time": "2022-04-13T14:28:57.363Z"
   },
   {
    "duration": 8,
    "start_time": "2022-04-13T14:28:57.377Z"
   },
   {
    "duration": 6,
    "start_time": "2022-04-13T14:28:57.388Z"
   },
   {
    "duration": 30,
    "start_time": "2022-04-13T14:28:57.396Z"
   },
   {
    "duration": 4,
    "start_time": "2022-04-13T14:28:57.427Z"
   },
   {
    "duration": 5,
    "start_time": "2022-04-13T14:28:57.432Z"
   },
   {
    "duration": 6,
    "start_time": "2022-04-13T14:28:57.438Z"
   },
   {
    "duration": 5,
    "start_time": "2022-04-13T14:28:57.445Z"
   },
   {
    "duration": 23,
    "start_time": "2022-04-13T14:28:57.451Z"
   },
   {
    "duration": 4,
    "start_time": "2022-04-13T14:28:57.476Z"
   },
   {
    "duration": 4,
    "start_time": "2022-04-13T14:28:57.482Z"
   },
   {
    "duration": 6,
    "start_time": "2022-04-13T14:28:57.487Z"
   },
   {
    "duration": 4,
    "start_time": "2022-04-13T14:28:57.523Z"
   },
   {
    "duration": 6,
    "start_time": "2022-04-13T14:28:57.528Z"
   },
   {
    "duration": 140,
    "start_time": "2022-04-13T14:29:56.872Z"
   }
  ],
  "kernelspec": {
   "display_name": "Python 3",
   "language": "python",
   "name": "python3"
  },
  "language_info": {
   "codemirror_mode": {
    "name": "ipython",
    "version": 3
   },
   "file_extension": ".py",
   "mimetype": "text/x-python",
   "name": "python",
   "nbconvert_exporter": "python",
   "pygments_lexer": "ipython3",
   "version": "3.8.8"
  },
  "toc": {
   "base_numbering": 1,
   "nav_menu": {
    "height": "237.986px",
    "width": "272.795px"
   },
   "number_sections": true,
   "sideBar": true,
   "skip_h1_title": true,
   "title_cell": "Table of Contents",
   "title_sidebar": "Contents",
   "toc_cell": false,
   "toc_position": {},
   "toc_section_display": true,
   "toc_window_display": false
  }
 },
 "nbformat": 4,
 "nbformat_minor": 2
}
