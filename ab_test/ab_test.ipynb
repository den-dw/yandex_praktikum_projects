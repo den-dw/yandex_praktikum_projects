{
 "cells": [
  {
   "cell_type": "markdown",
   "metadata": {},
   "source": [
    "<span style=\"color:green\">**Поздравляю, твой проект принят!**</span>\n",
    "\n",
    "Отличная работа, получился настоящий аналитический отчет. Поставленные задачи были успешно выполнены! Дал дополнительные комментарии и ответил на вопросы. Желаю успехов в учебе и со следующими проектами!\n",
    "\n",
    "\n",
    "<span style=\"color:purple\">**Привет еще раз!**</span> v2\n",
    "\n",
    "Денис, спасибо, что доработал проект и учел рекомендации. Стало лучше. Но в работе еще остались некоторые недочеты. Дал дополнительные комментарии. Жду твою работу!\n",
    "\n",
    "Оформление комментариев оставим таким же, только обозначим номер проверки.\n",
    "\n",
    "<span style=\"color:purple\">**Привет, Денис!**</span>\n",
    "\n",
    "Меня зовут **Василий Удинкан** и я - ревьювер, буду проверять твой проект. Ты проделал большую работу над проектом, но давай сделаем его еще лучше.\n",
    "\n",
    "Если не против, я буду обращаться к тебе на \"ТЫ\". Если это неприемлемо, обязательно напиши мне в комментариях – мы прейдем на \"ВЫ\".\n",
    "\n",
    "Спасибо, что сдал проект. В тетради ты сможешь найти мои комментарии. Пострайся учесть эти комментарии в ходе выполнения дальнейших проектов.\n",
    "\n",
    "Твой проект обладает хорошей структурой и понятной логикой исследования. Тем не менее, в нём обнаружились недочёты, которые необходимо будет исправить.\n",
    "\n",
    "Обрати внимание, я буду выделять свои комментарии цветом, в зависимости от того, какие действия, важность и особенности тебя ждут в процессе проверки.\n",
    "\n",
    "<div class=\"alert alert-block alert-success\">\n",
    "\n",
    "**Комментарий ревьювера (все отлично)**\n",
    "    \n",
    "Такими комментариями я буду помечать хорошо проделаную работу, а так же хорошо проделаную работу над ошибками.\n",
    "</div>\n",
    "\n",
    "<div class=\"alert alert-block alert-warning\">\n",
    "\n",
    "**Комментарий ревьювера (что можно улучшить)**\n",
    "    \n",
    "После таких комментариев ничего исправлять не нужно, но я дам рекомендации на будущее и подскажу, что можно улучшить.\n",
    "</div>\n",
    "\n",
    "<div class=\"alert alert-block alert-danger\">\n",
    "    \n",
    "**Комментарий ревьювера (недочет, который нужно доработать)**\n",
    "    \n",
    "Если ты видишь такой комментарий, значит я указываю тебе на недочёт, его нужно исправить. Без такого исправления я не приму твою работу:)\n",
    "</div>\n",
    "\n",
    "**Пожалуста, не удаляй мои комментарии. При повторной проверке, я буду ориентироваться на них.**\n",
    "\n",
    "<span style=\"color:blue\"> Можешь под моими комментариями оставлять свои, в которых опиши свои испарвления. Это облегчит процесс проверки и мне, и тебе:) Например, вот так:</span>\n",
    "\n",
    "<div class=\"alert alert-block alert-info\">\n",
    "<b>КОММЕНТАРИЙ ОТ УЧЕНИКА: </b>\n",
    "</div>\n",
    "\n",
    "Приступим!"
   ]
  },
  {
   "cell_type": "markdown",
   "metadata": {},
   "source": [
    "# Описание проекта\n",
    "\n",
    "Вы — аналитик крупного интернет-магазина. Вместе с отделом маркетинга вы подготовили список гипотез для увеличения выручки.\n",
    "Приоритизируйте гипотезы, запустите A/B-тест и проанализируйте результаты."
   ]
  },
  {
   "cell_type": "markdown",
   "metadata": {},
   "source": [
    "Приоритизируем гипотезы, затем запустим A/B-тест и проанализируем результаты."
   ]
  },
  {
   "cell_type": "markdown",
   "metadata": {},
   "source": [
    "В 1 части необходимо приоритизировать гипотезы:\n",
    "- примените фреймворк ICE для приоритизации гипотез и отсортируем их по убыванию приоритета;\n",
    "- применим фреймворк RICE для приоритизации гипотез и отсортируем их по убыванию приоритета;\n",
    "- рассмотрим, как изменилась приоритизация гипотез при применении RICE вместо ICE и объясним, почему так произошло.\n"
   ]
  },
  {
   "cell_type": "markdown",
   "metadata": {},
   "source": [
    "Во второй части проанализируем результаты проведенного  A/B-теста:\n",
    "- рассмотрим графики кумулятивной выручки по группам, кумулятивного среднего чека по группам, относительного изменения кумулятивного среднего чека группы B к группе A, кумулятивной конверсии по группам, относительного изменения кумулятивной конверсии группы B к группе A;\n",
    "- рассмотрим точечне графики количества заказов по пользователям и стоимостей заказов, найдем 95 и 99 перцентили количества заказов на пользователя и стоимости заказов;\n",
    "- проверим гипотезы о различиях в конверсии между группами и различиях в среднем чеке заказа между группами по \"сырым\" данным и «очищенным»;\n",
    "- подведем итоги теста."
   ]
  },
  {
   "cell_type": "markdown",
   "metadata": {},
   "source": [
    "<div class=\"alert alert-block alert-danger\">\n",
    "    \n",
    "**Комментарий ревьювера (недочет, который нужно доработать)**\n",
    "\n",
    "Цели проекта обозначены, стоит также описать задачи, необходимые для выполнения поставленных целей.\n",
    "</div>"
   ]
  },
  {
   "cell_type": "markdown",
   "metadata": {},
   "source": [
    "<div class=\"alert alert-block alert-info\">\n",
    "<b>КОММЕНТАРИЙ ОТ УЧЕНИКА: </b><p>\n",
    "    Добавил небольшое описание того, что буду делать в проекте.\n",
    "</div>"
   ]
  },
  {
   "cell_type": "markdown",
   "metadata": {},
   "source": [
    "<div class=\"alert alert-block alert-danger\">\n",
    "    \n",
    "**Комментарий ревьювера v2 (недочет, который нужно доработать)**\n",
    "\n",
    "Скорее ты просто перефразировал цели проекта. Задачи – это шаги, необходимые для выполнения поставленных целей.\n",
    "</div>"
   ]
  },
  {
   "cell_type": "markdown",
   "metadata": {},
   "source": [
    "<div class=\"alert alert-block alert-info\">\n",
    "<b>КОММЕНТАРИЙ ОТ УЧЕНИКА: </b><p>\n",
    "    Расписал поподробнее\n",
    "</div>"
   ]
  },
  {
   "cell_type": "markdown",
   "metadata": {},
   "source": [
    "<div class=\"alert alert-block alert-success\">\n",
    "\n",
    "**Комментарий ревьювера v3 (все отлично)**\n",
    "    \n",
    "Супер! Получилось хорошее введение в работу, понятно чему она посвящена и какие этапы она содержит.\n",
    "</div>"
   ]
  },
  {
   "cell_type": "code",
   "execution_count": 1,
   "metadata": {},
   "outputs": [],
   "source": [
    "import pandas as pd\n",
    "import scipy.stats as st\n",
    "import datetime as dt\n",
    "import numpy as np\n",
    "from matplotlib import pyplot as plt"
   ]
  },
  {
   "cell_type": "code",
   "execution_count": 2,
   "metadata": {},
   "outputs": [],
   "source": [
    "pd.options.display.max_colwidth = 150"
   ]
  },
  {
   "cell_type": "markdown",
   "metadata": {},
   "source": [
    "<div class=\"alert alert-block alert-success\">\n",
    "\n",
    "**Комментарий ревьювера (все отлично)**\n",
    "    \n",
    "Правильно, что импортируешь необходимые библиотеки в первой ячейке. Так твой коллега, запускающий работу, будет в курсе используемых в ней библиотек и сможет настроить свое окружение при нефобходимости.\n",
    "</div>"
   ]
  },
  {
   "cell_type": "markdown",
   "metadata": {},
   "source": [
    "## Часть 1. Приоритизация гипотез."
   ]
  },
  {
   "cell_type": "markdown",
   "metadata": {},
   "source": [
    "### Описание данных"
   ]
  },
  {
   "cell_type": "markdown",
   "metadata": {},
   "source": [
    "**`/datasets/hypothesis.csv`**\n",
    "* `Hypothesis` — краткое описание гипотезы;\n",
    "* `Reach` — охват пользователей по 10-балльной шкале;\n",
    "* `Impact` — влияние на пользователей по 10-балльной шкале;\n",
    "* `Confidence` — уверенность в гипотезе по 10-балльной шкале;\n",
    "* `Efforts` — затраты ресурсов на проверку гипотезы по 10-балльной шкале. Чем больше значение Efforts, тем дороже проверка гипотезы."
   ]
  },
  {
   "cell_type": "code",
   "execution_count": 3,
   "metadata": {},
   "outputs": [],
   "source": [
    "hypoyhesis = pd.read_csv('/datasets/hypothesis.csv')"
   ]
  },
  {
   "cell_type": "markdown",
   "metadata": {},
   "source": [
    "### ICE\n",
    "Применим фреймворк ICE для приоритизации гипотез. Отсортируем их по убыванию приоритета."
   ]
  },
  {
   "cell_type": "code",
   "execution_count": 4,
   "metadata": {},
   "outputs": [
    {
     "data": {
      "text/html": [
       "<div>\n",
       "<style scoped>\n",
       "    .dataframe tbody tr th:only-of-type {\n",
       "        vertical-align: middle;\n",
       "    }\n",
       "\n",
       "    .dataframe tbody tr th {\n",
       "        vertical-align: top;\n",
       "    }\n",
       "\n",
       "    .dataframe thead th {\n",
       "        text-align: right;\n",
       "    }\n",
       "</style>\n",
       "<table border=\"1\" class=\"dataframe\">\n",
       "  <thead>\n",
       "    <tr style=\"text-align: right;\">\n",
       "      <th></th>\n",
       "      <th>Hypothesis</th>\n",
       "      <th>Reach</th>\n",
       "      <th>Impact</th>\n",
       "      <th>Confidence</th>\n",
       "      <th>Efforts</th>\n",
       "      <th>ICE</th>\n",
       "    </tr>\n",
       "  </thead>\n",
       "  <tbody>\n",
       "    <tr>\n",
       "      <th>8</th>\n",
       "      <td>Запустить акцию, дающую скидку на товар в день рождения</td>\n",
       "      <td>1</td>\n",
       "      <td>9</td>\n",
       "      <td>9</td>\n",
       "      <td>5</td>\n",
       "      <td>16.200000</td>\n",
       "    </tr>\n",
       "    <tr>\n",
       "      <th>0</th>\n",
       "      <td>Добавить два новых канала привлечения трафика, что позволит привлекать на 30% больше пользователей</td>\n",
       "      <td>3</td>\n",
       "      <td>10</td>\n",
       "      <td>8</td>\n",
       "      <td>6</td>\n",
       "      <td>13.333333</td>\n",
       "    </tr>\n",
       "    <tr>\n",
       "      <th>7</th>\n",
       "      <td>Добавить форму подписки на все основные страницы, чтобы собрать базу клиентов для email-рассылок</td>\n",
       "      <td>10</td>\n",
       "      <td>7</td>\n",
       "      <td>8</td>\n",
       "      <td>5</td>\n",
       "      <td>11.200000</td>\n",
       "    </tr>\n",
       "    <tr>\n",
       "      <th>6</th>\n",
       "      <td>Показать на главной странице баннеры с актуальными акциями и распродажами, чтобы увеличить конверсию</td>\n",
       "      <td>5</td>\n",
       "      <td>3</td>\n",
       "      <td>8</td>\n",
       "      <td>3</td>\n",
       "      <td>8.000000</td>\n",
       "    </tr>\n",
       "    <tr>\n",
       "      <th>2</th>\n",
       "      <td>Добавить блоки рекомендаций товаров на сайт интернет магазина, чтобы повысить конверсию и средний чек заказа</td>\n",
       "      <td>8</td>\n",
       "      <td>3</td>\n",
       "      <td>7</td>\n",
       "      <td>3</td>\n",
       "      <td>7.000000</td>\n",
       "    </tr>\n",
       "    <tr>\n",
       "      <th>1</th>\n",
       "      <td>Запустить собственную службу доставки, что сократит срок доставки заказов</td>\n",
       "      <td>2</td>\n",
       "      <td>5</td>\n",
       "      <td>4</td>\n",
       "      <td>10</td>\n",
       "      <td>2.000000</td>\n",
       "    </tr>\n",
       "    <tr>\n",
       "      <th>5</th>\n",
       "      <td>Добавить страницу отзывов клиентов о магазине, что позволит увеличить количество заказов</td>\n",
       "      <td>3</td>\n",
       "      <td>2</td>\n",
       "      <td>2</td>\n",
       "      <td>3</td>\n",
       "      <td>1.333333</td>\n",
       "    </tr>\n",
       "    <tr>\n",
       "      <th>3</th>\n",
       "      <td>Изменить структура категорий, что увеличит конверсию, т.к. пользователи быстрее найдут нужный товар</td>\n",
       "      <td>8</td>\n",
       "      <td>3</td>\n",
       "      <td>3</td>\n",
       "      <td>8</td>\n",
       "      <td>1.125000</td>\n",
       "    </tr>\n",
       "    <tr>\n",
       "      <th>4</th>\n",
       "      <td>Изменить цвет фона главной страницы, чтобы увеличить вовлеченность пользователей</td>\n",
       "      <td>3</td>\n",
       "      <td>1</td>\n",
       "      <td>1</td>\n",
       "      <td>1</td>\n",
       "      <td>1.000000</td>\n",
       "    </tr>\n",
       "  </tbody>\n",
       "</table>\n",
       "</div>"
      ],
      "text/plain": [
       "                                                                                                     Hypothesis  \\\n",
       "8                                                       Запустить акцию, дающую скидку на товар в день рождения   \n",
       "0            Добавить два новых канала привлечения трафика, что позволит привлекать на 30% больше пользователей   \n",
       "7              Добавить форму подписки на все основные страницы, чтобы собрать базу клиентов для email-рассылок   \n",
       "6          Показать на главной странице баннеры с актуальными акциями и распродажами, чтобы увеличить конверсию   \n",
       "2  Добавить блоки рекомендаций товаров на сайт интернет магазина, чтобы повысить конверсию и средний чек заказа   \n",
       "1                                     Запустить собственную службу доставки, что сократит срок доставки заказов   \n",
       "5                      Добавить страницу отзывов клиентов о магазине, что позволит увеличить количество заказов   \n",
       "3           Изменить структура категорий, что увеличит конверсию, т.к. пользователи быстрее найдут нужный товар   \n",
       "4                              Изменить цвет фона главной страницы, чтобы увеличить вовлеченность пользователей   \n",
       "\n",
       "   Reach  Impact  Confidence  Efforts        ICE  \n",
       "8      1       9           9        5  16.200000  \n",
       "0      3      10           8        6  13.333333  \n",
       "7     10       7           8        5  11.200000  \n",
       "6      5       3           8        3   8.000000  \n",
       "2      8       3           7        3   7.000000  \n",
       "1      2       5           4       10   2.000000  \n",
       "5      3       2           2        3   1.333333  \n",
       "3      8       3           3        8   1.125000  \n",
       "4      3       1           1        1   1.000000  "
      ]
     },
     "execution_count": 4,
     "metadata": {},
     "output_type": "execute_result"
    }
   ],
   "source": [
    "hypoyhesis['ICE'] = hypoyhesis.Impact * hypoyhesis.Confidence / hypoyhesis.Efforts\n",
    "hypoyhesis.sort_values(by = 'ICE', ascending=False, inplace = True)\n",
    "hypoyhesis"
   ]
  },
  {
   "cell_type": "markdown",
   "metadata": {},
   "source": [
    "<div class=\"alert alert-block alert-warning\">\n",
    "\n",
    "**Комментарий ревьювера (что можно улучшить)**\n",
    "    \n",
    "Можно увеличить ширину столбцов, если полностью не помещается информация, для этого можно написать следующий код: \n",
    "    \n",
    "    pd.options.display.max_colwidth = 150\n",
    "</div>"
   ]
  },
  {
   "cell_type": "markdown",
   "metadata": {},
   "source": [
    "Наиболее перспективны гипотезы 8, 0 и 7."
   ]
  },
  {
   "cell_type": "markdown",
   "metadata": {},
   "source": [
    "### RICE\n",
    "Применим фреймворк RICE для приоритизации гипотез. Отсортируем их по убыванию приоритета."
   ]
  },
  {
   "cell_type": "code",
   "execution_count": 5,
   "metadata": {},
   "outputs": [
    {
     "data": {
      "text/html": [
       "<div>\n",
       "<style scoped>\n",
       "    .dataframe tbody tr th:only-of-type {\n",
       "        vertical-align: middle;\n",
       "    }\n",
       "\n",
       "    .dataframe tbody tr th {\n",
       "        vertical-align: top;\n",
       "    }\n",
       "\n",
       "    .dataframe thead th {\n",
       "        text-align: right;\n",
       "    }\n",
       "</style>\n",
       "<table border=\"1\" class=\"dataframe\">\n",
       "  <thead>\n",
       "    <tr style=\"text-align: right;\">\n",
       "      <th></th>\n",
       "      <th>Hypothesis</th>\n",
       "      <th>Reach</th>\n",
       "      <th>Impact</th>\n",
       "      <th>Confidence</th>\n",
       "      <th>Efforts</th>\n",
       "      <th>ICE</th>\n",
       "      <th>RICE</th>\n",
       "    </tr>\n",
       "  </thead>\n",
       "  <tbody>\n",
       "    <tr>\n",
       "      <th>7</th>\n",
       "      <td>Добавить форму подписки на все основные страницы, чтобы собрать базу клиентов для email-рассылок</td>\n",
       "      <td>10</td>\n",
       "      <td>7</td>\n",
       "      <td>8</td>\n",
       "      <td>5</td>\n",
       "      <td>11.200000</td>\n",
       "      <td>112.0</td>\n",
       "    </tr>\n",
       "    <tr>\n",
       "      <th>2</th>\n",
       "      <td>Добавить блоки рекомендаций товаров на сайт интернет магазина, чтобы повысить конверсию и средний чек заказа</td>\n",
       "      <td>8</td>\n",
       "      <td>3</td>\n",
       "      <td>7</td>\n",
       "      <td>3</td>\n",
       "      <td>7.000000</td>\n",
       "      <td>56.0</td>\n",
       "    </tr>\n",
       "    <tr>\n",
       "      <th>0</th>\n",
       "      <td>Добавить два новых канала привлечения трафика, что позволит привлекать на 30% больше пользователей</td>\n",
       "      <td>3</td>\n",
       "      <td>10</td>\n",
       "      <td>8</td>\n",
       "      <td>6</td>\n",
       "      <td>13.333333</td>\n",
       "      <td>40.0</td>\n",
       "    </tr>\n",
       "    <tr>\n",
       "      <th>6</th>\n",
       "      <td>Показать на главной странице баннеры с актуальными акциями и распродажами, чтобы увеличить конверсию</td>\n",
       "      <td>5</td>\n",
       "      <td>3</td>\n",
       "      <td>8</td>\n",
       "      <td>3</td>\n",
       "      <td>8.000000</td>\n",
       "      <td>40.0</td>\n",
       "    </tr>\n",
       "    <tr>\n",
       "      <th>8</th>\n",
       "      <td>Запустить акцию, дающую скидку на товар в день рождения</td>\n",
       "      <td>1</td>\n",
       "      <td>9</td>\n",
       "      <td>9</td>\n",
       "      <td>5</td>\n",
       "      <td>16.200000</td>\n",
       "      <td>16.2</td>\n",
       "    </tr>\n",
       "    <tr>\n",
       "      <th>3</th>\n",
       "      <td>Изменить структура категорий, что увеличит конверсию, т.к. пользователи быстрее найдут нужный товар</td>\n",
       "      <td>8</td>\n",
       "      <td>3</td>\n",
       "      <td>3</td>\n",
       "      <td>8</td>\n",
       "      <td>1.125000</td>\n",
       "      <td>9.0</td>\n",
       "    </tr>\n",
       "    <tr>\n",
       "      <th>1</th>\n",
       "      <td>Запустить собственную службу доставки, что сократит срок доставки заказов</td>\n",
       "      <td>2</td>\n",
       "      <td>5</td>\n",
       "      <td>4</td>\n",
       "      <td>10</td>\n",
       "      <td>2.000000</td>\n",
       "      <td>4.0</td>\n",
       "    </tr>\n",
       "    <tr>\n",
       "      <th>5</th>\n",
       "      <td>Добавить страницу отзывов клиентов о магазине, что позволит увеличить количество заказов</td>\n",
       "      <td>3</td>\n",
       "      <td>2</td>\n",
       "      <td>2</td>\n",
       "      <td>3</td>\n",
       "      <td>1.333333</td>\n",
       "      <td>4.0</td>\n",
       "    </tr>\n",
       "    <tr>\n",
       "      <th>4</th>\n",
       "      <td>Изменить цвет фона главной страницы, чтобы увеличить вовлеченность пользователей</td>\n",
       "      <td>3</td>\n",
       "      <td>1</td>\n",
       "      <td>1</td>\n",
       "      <td>1</td>\n",
       "      <td>1.000000</td>\n",
       "      <td>3.0</td>\n",
       "    </tr>\n",
       "  </tbody>\n",
       "</table>\n",
       "</div>"
      ],
      "text/plain": [
       "                                                                                                     Hypothesis  \\\n",
       "7              Добавить форму подписки на все основные страницы, чтобы собрать базу клиентов для email-рассылок   \n",
       "2  Добавить блоки рекомендаций товаров на сайт интернет магазина, чтобы повысить конверсию и средний чек заказа   \n",
       "0            Добавить два новых канала привлечения трафика, что позволит привлекать на 30% больше пользователей   \n",
       "6          Показать на главной странице баннеры с актуальными акциями и распродажами, чтобы увеличить конверсию   \n",
       "8                                                       Запустить акцию, дающую скидку на товар в день рождения   \n",
       "3           Изменить структура категорий, что увеличит конверсию, т.к. пользователи быстрее найдут нужный товар   \n",
       "1                                     Запустить собственную службу доставки, что сократит срок доставки заказов   \n",
       "5                      Добавить страницу отзывов клиентов о магазине, что позволит увеличить количество заказов   \n",
       "4                              Изменить цвет фона главной страницы, чтобы увеличить вовлеченность пользователей   \n",
       "\n",
       "   Reach  Impact  Confidence  Efforts        ICE   RICE  \n",
       "7     10       7           8        5  11.200000  112.0  \n",
       "2      8       3           7        3   7.000000   56.0  \n",
       "0      3      10           8        6  13.333333   40.0  \n",
       "6      5       3           8        3   8.000000   40.0  \n",
       "8      1       9           9        5  16.200000   16.2  \n",
       "3      8       3           3        8   1.125000    9.0  \n",
       "1      2       5           4       10   2.000000    4.0  \n",
       "5      3       2           2        3   1.333333    4.0  \n",
       "4      3       1           1        1   1.000000    3.0  "
      ]
     },
     "execution_count": 5,
     "metadata": {},
     "output_type": "execute_result"
    }
   ],
   "source": [
    "hypoyhesis['RICE'] = hypoyhesis.Reach * hypoyhesis.Impact * hypoyhesis.Confidence / hypoyhesis.Efforts\n",
    "hypoyhesis.sort_values(by = 'RICE', ascending=False, inplace = True)\n",
    "hypoyhesis"
   ]
  },
  {
   "cell_type": "markdown",
   "metadata": {},
   "source": [
    "При примении RICE наиболее перспективны гипотезы 7, 2, 0 и 6.  \n",
    "Отличие от ICE объясняется высокими показателями охвата (Reach) у этих гипотез."
   ]
  },
  {
   "cell_type": "markdown",
   "metadata": {},
   "source": [
    "Гипотезы 7 и 0 входят в ТОП в обоих фремворках. Эти гипотезы обладают высокими уверенностью и охватом. В первую очередь стоит обратить внимание на них."
   ]
  },
  {
   "cell_type": "markdown",
   "metadata": {},
   "source": [
    "<div class=\"alert alert-block alert-success\">\n",
    "\n",
    "**Комментарий ревьювера (все отлично)**\n",
    "    \n",
    "Все верно, охват меняет приоритезацию. Отличие фреймворков определено.\n",
    "</div>"
   ]
  },
  {
   "cell_type": "markdown",
   "metadata": {},
   "source": [
    "## Часть 2. Анализ A/B-теста"
   ]
  },
  {
   "cell_type": "markdown",
   "metadata": {},
   "source": [
    "**`/datasets/orders.csv`**\n",
    "* `transactionId` — идентификатор заказа;\n",
    "* `visitorId` — идентификатор пользователя, совершившего заказ;\n",
    "* `date` — дата, когда был совершён заказ;\n",
    "* `revenue` — выручка заказа;\n",
    "* `group` — группа A/B-теста, в которую попал заказ.  \n",
    "\n",
    "**`/datasets/visitors.csv`**\n",
    "* `date` — дата;\n",
    "* `group` — группа A/B-теста;\n",
    "* `visitors` — количество пользователей в указанную дату в указанной группе A/B-теста"
   ]
  },
  {
   "cell_type": "code",
   "execution_count": 6,
   "metadata": {},
   "outputs": [],
   "source": [
    "def df_info(df):\n",
    "    display(df.head())\n",
    "    display(df.info())\n",
    "    print(f'Дубликатов - {df.duplicated().sum()}, пропусков - {df.isna().sum().sum()}')"
   ]
  },
  {
   "cell_type": "markdown",
   "metadata": {},
   "source": [
    "<div class=\"alert alert-block alert-success\">\n",
    "\n",
    "**Комментарий ревьювера (все отлично)**\n",
    "    \n",
    "Функция – отличный способ автоматизировать и оптимизировать процесс.\n",
    "</div>"
   ]
  },
  {
   "cell_type": "code",
   "execution_count": 7,
   "metadata": {},
   "outputs": [],
   "source": [
    "orders = pd.read_csv('/datasets/orders.csv')\n",
    "visitors = pd.read_csv('/datasets/visitors.csv')"
   ]
  },
  {
   "cell_type": "code",
   "execution_count": 8,
   "metadata": {},
   "outputs": [
    {
     "data": {
      "text/html": [
       "<div>\n",
       "<style scoped>\n",
       "    .dataframe tbody tr th:only-of-type {\n",
       "        vertical-align: middle;\n",
       "    }\n",
       "\n",
       "    .dataframe tbody tr th {\n",
       "        vertical-align: top;\n",
       "    }\n",
       "\n",
       "    .dataframe thead th {\n",
       "        text-align: right;\n",
       "    }\n",
       "</style>\n",
       "<table border=\"1\" class=\"dataframe\">\n",
       "  <thead>\n",
       "    <tr style=\"text-align: right;\">\n",
       "      <th></th>\n",
       "      <th>transactionId</th>\n",
       "      <th>visitorId</th>\n",
       "      <th>date</th>\n",
       "      <th>revenue</th>\n",
       "      <th>group</th>\n",
       "    </tr>\n",
       "  </thead>\n",
       "  <tbody>\n",
       "    <tr>\n",
       "      <th>0</th>\n",
       "      <td>3667963787</td>\n",
       "      <td>3312258926</td>\n",
       "      <td>2019-08-15</td>\n",
       "      <td>1650</td>\n",
       "      <td>B</td>\n",
       "    </tr>\n",
       "    <tr>\n",
       "      <th>1</th>\n",
       "      <td>2804400009</td>\n",
       "      <td>3642806036</td>\n",
       "      <td>2019-08-15</td>\n",
       "      <td>730</td>\n",
       "      <td>B</td>\n",
       "    </tr>\n",
       "    <tr>\n",
       "      <th>2</th>\n",
       "      <td>2961555356</td>\n",
       "      <td>4069496402</td>\n",
       "      <td>2019-08-15</td>\n",
       "      <td>400</td>\n",
       "      <td>A</td>\n",
       "    </tr>\n",
       "    <tr>\n",
       "      <th>3</th>\n",
       "      <td>3797467345</td>\n",
       "      <td>1196621759</td>\n",
       "      <td>2019-08-15</td>\n",
       "      <td>9759</td>\n",
       "      <td>B</td>\n",
       "    </tr>\n",
       "    <tr>\n",
       "      <th>4</th>\n",
       "      <td>2282983706</td>\n",
       "      <td>2322279887</td>\n",
       "      <td>2019-08-15</td>\n",
       "      <td>2308</td>\n",
       "      <td>B</td>\n",
       "    </tr>\n",
       "  </tbody>\n",
       "</table>\n",
       "</div>"
      ],
      "text/plain": [
       "   transactionId   visitorId        date  revenue group\n",
       "0     3667963787  3312258926  2019-08-15     1650     B\n",
       "1     2804400009  3642806036  2019-08-15      730     B\n",
       "2     2961555356  4069496402  2019-08-15      400     A\n",
       "3     3797467345  1196621759  2019-08-15     9759     B\n",
       "4     2282983706  2322279887  2019-08-15     2308     B"
      ]
     },
     "metadata": {},
     "output_type": "display_data"
    },
    {
     "name": "stdout",
     "output_type": "stream",
     "text": [
      "<class 'pandas.core.frame.DataFrame'>\n",
      "RangeIndex: 1197 entries, 0 to 1196\n",
      "Data columns (total 5 columns):\n",
      " #   Column         Non-Null Count  Dtype \n",
      "---  ------         --------------  ----- \n",
      " 0   transactionId  1197 non-null   int64 \n",
      " 1   visitorId      1197 non-null   int64 \n",
      " 2   date           1197 non-null   object\n",
      " 3   revenue        1197 non-null   int64 \n",
      " 4   group          1197 non-null   object\n",
      "dtypes: int64(3), object(2)\n",
      "memory usage: 46.9+ KB\n"
     ]
    },
    {
     "data": {
      "text/plain": [
       "None"
      ]
     },
     "metadata": {},
     "output_type": "display_data"
    },
    {
     "name": "stdout",
     "output_type": "stream",
     "text": [
      "Дубликатов - 0, пропусков - 0\n"
     ]
    }
   ],
   "source": [
    "df_info(orders)"
   ]
  },
  {
   "cell_type": "code",
   "execution_count": 9,
   "metadata": {},
   "outputs": [
    {
     "data": {
      "text/html": [
       "<div>\n",
       "<style scoped>\n",
       "    .dataframe tbody tr th:only-of-type {\n",
       "        vertical-align: middle;\n",
       "    }\n",
       "\n",
       "    .dataframe tbody tr th {\n",
       "        vertical-align: top;\n",
       "    }\n",
       "\n",
       "    .dataframe thead th {\n",
       "        text-align: right;\n",
       "    }\n",
       "</style>\n",
       "<table border=\"1\" class=\"dataframe\">\n",
       "  <thead>\n",
       "    <tr style=\"text-align: right;\">\n",
       "      <th></th>\n",
       "      <th>date</th>\n",
       "      <th>group</th>\n",
       "      <th>visitors</th>\n",
       "    </tr>\n",
       "  </thead>\n",
       "  <tbody>\n",
       "    <tr>\n",
       "      <th>0</th>\n",
       "      <td>2019-08-01</td>\n",
       "      <td>A</td>\n",
       "      <td>719</td>\n",
       "    </tr>\n",
       "    <tr>\n",
       "      <th>1</th>\n",
       "      <td>2019-08-02</td>\n",
       "      <td>A</td>\n",
       "      <td>619</td>\n",
       "    </tr>\n",
       "    <tr>\n",
       "      <th>2</th>\n",
       "      <td>2019-08-03</td>\n",
       "      <td>A</td>\n",
       "      <td>507</td>\n",
       "    </tr>\n",
       "    <tr>\n",
       "      <th>3</th>\n",
       "      <td>2019-08-04</td>\n",
       "      <td>A</td>\n",
       "      <td>717</td>\n",
       "    </tr>\n",
       "    <tr>\n",
       "      <th>4</th>\n",
       "      <td>2019-08-05</td>\n",
       "      <td>A</td>\n",
       "      <td>756</td>\n",
       "    </tr>\n",
       "  </tbody>\n",
       "</table>\n",
       "</div>"
      ],
      "text/plain": [
       "         date group  visitors\n",
       "0  2019-08-01     A       719\n",
       "1  2019-08-02     A       619\n",
       "2  2019-08-03     A       507\n",
       "3  2019-08-04     A       717\n",
       "4  2019-08-05     A       756"
      ]
     },
     "metadata": {},
     "output_type": "display_data"
    },
    {
     "name": "stdout",
     "output_type": "stream",
     "text": [
      "<class 'pandas.core.frame.DataFrame'>\n",
      "RangeIndex: 62 entries, 0 to 61\n",
      "Data columns (total 3 columns):\n",
      " #   Column    Non-Null Count  Dtype \n",
      "---  ------    --------------  ----- \n",
      " 0   date      62 non-null     object\n",
      " 1   group     62 non-null     object\n",
      " 2   visitors  62 non-null     int64 \n",
      "dtypes: int64(1), object(2)\n",
      "memory usage: 1.6+ KB\n"
     ]
    },
    {
     "data": {
      "text/plain": [
       "None"
      ]
     },
     "metadata": {},
     "output_type": "display_data"
    },
    {
     "name": "stdout",
     "output_type": "stream",
     "text": [
      "Дубликатов - 0, пропусков - 0\n"
     ]
    }
   ],
   "source": [
    "df_info(visitors)"
   ]
  },
  {
   "cell_type": "code",
   "execution_count": 10,
   "metadata": {},
   "outputs": [],
   "source": [
    "orders.date = pd.to_datetime(orders.date)\n",
    "visitors.date = pd.to_datetime(visitors.date)"
   ]
  },
  {
   "cell_type": "code",
   "execution_count": 11,
   "metadata": {},
   "outputs": [
    {
     "data": {
      "text/plain": [
       "group    58\n",
       "dtype: int64"
      ]
     },
     "execution_count": 11,
     "metadata": {},
     "output_type": "execute_result"
    }
   ],
   "source": [
    "orders.groupby('visitorId').agg({'group': 'nunique'}).query('group > 1').count()"
   ]
  },
  {
   "cell_type": "markdown",
   "metadata": {},
   "source": [
    "В нашем тесте 58 пользователей оказались в обеих группах. Стоит пообщаться с техническими спеицалистами, как это могло произойти."
   ]
  },
  {
   "cell_type": "markdown",
   "metadata": {},
   "source": [
    "<div class=\"alert alert-block alert-danger\">\n",
    "    \n",
    "**Комментарий ревьювера (недочет, который нужно доработать)**\n",
    "\n",
    "Перед анализом A/B-теста стоит изучить данные: проверить на пропуски и дубликаты. Также выяснить, есть ли в данных пользователи, которые входят одновременно в обе группы.\n",
    "    \n",
    "</div>"
   ]
  },
  {
   "cell_type": "markdown",
   "metadata": {},
   "source": [
    "<div class=\"alert alert-block alert-info\">\n",
    "<b>КОММЕНТАРИЙ ОТ УЧЕНИКА: </b><p>\n",
    "    Действительно оказалось, что 58 пользователей в обеих группах. Но вот что с ними делать... \n",
    "</div>"
   ]
  },
  {
   "cell_type": "markdown",
   "metadata": {},
   "source": [
    "<div class=\"alert alert-block alert-success\">\n",
    "\n",
    "**Комментарий ревьювера v2 (все отлично)**\n",
    "    \n",
    "Абсолютно нормально их оставить, так как их количество незначительно. В реальной работе главное передать информацию об ошибке распределения коллегам, ответственным за проведения теста, чтобы исправить недочет в будущем.\n",
    "</div>"
   ]
  },
  {
   "cell_type": "markdown",
   "metadata": {},
   "source": [
    "### Кумулятивная выручка по группам"
   ]
  },
  {
   "cell_type": "code",
   "execution_count": 12,
   "metadata": {},
   "outputs": [],
   "source": [
    "datesGr = orders[['date', 'group']].drop_duplicates()"
   ]
  },
  {
   "cell_type": "code",
   "execution_count": 13,
   "metadata": {},
   "outputs": [
    {
     "data": {
      "text/html": [
       "<div>\n",
       "<style scoped>\n",
       "    .dataframe tbody tr th:only-of-type {\n",
       "        vertical-align: middle;\n",
       "    }\n",
       "\n",
       "    .dataframe tbody tr th {\n",
       "        vertical-align: top;\n",
       "    }\n",
       "\n",
       "    .dataframe thead th {\n",
       "        text-align: right;\n",
       "    }\n",
       "</style>\n",
       "<table border=\"1\" class=\"dataframe\">\n",
       "  <thead>\n",
       "    <tr style=\"text-align: right;\">\n",
       "      <th></th>\n",
       "      <th>date</th>\n",
       "      <th>group</th>\n",
       "      <th>orders</th>\n",
       "      <th>clients</th>\n",
       "      <th>revenue</th>\n",
       "      <th>visitors</th>\n",
       "    </tr>\n",
       "  </thead>\n",
       "  <tbody>\n",
       "    <tr>\n",
       "      <th>0</th>\n",
       "      <td>2019-08-01</td>\n",
       "      <td>A</td>\n",
       "      <td>24</td>\n",
       "      <td>20</td>\n",
       "      <td>148579</td>\n",
       "      <td>719</td>\n",
       "    </tr>\n",
       "    <tr>\n",
       "      <th>1</th>\n",
       "      <td>2019-08-01</td>\n",
       "      <td>B</td>\n",
       "      <td>21</td>\n",
       "      <td>20</td>\n",
       "      <td>101217</td>\n",
       "      <td>713</td>\n",
       "    </tr>\n",
       "    <tr>\n",
       "      <th>2</th>\n",
       "      <td>2019-08-02</td>\n",
       "      <td>A</td>\n",
       "      <td>44</td>\n",
       "      <td>38</td>\n",
       "      <td>242401</td>\n",
       "      <td>1338</td>\n",
       "    </tr>\n",
       "    <tr>\n",
       "      <th>3</th>\n",
       "      <td>2019-08-02</td>\n",
       "      <td>B</td>\n",
       "      <td>45</td>\n",
       "      <td>43</td>\n",
       "      <td>266748</td>\n",
       "      <td>1294</td>\n",
       "    </tr>\n",
       "    <tr>\n",
       "      <th>4</th>\n",
       "      <td>2019-08-03</td>\n",
       "      <td>A</td>\n",
       "      <td>68</td>\n",
       "      <td>62</td>\n",
       "      <td>354874</td>\n",
       "      <td>1845</td>\n",
       "    </tr>\n",
       "    <tr>\n",
       "      <th>...</th>\n",
       "      <td>...</td>\n",
       "      <td>...</td>\n",
       "      <td>...</td>\n",
       "      <td>...</td>\n",
       "      <td>...</td>\n",
       "      <td>...</td>\n",
       "    </tr>\n",
       "    <tr>\n",
       "      <th>57</th>\n",
       "      <td>2019-08-29</td>\n",
       "      <td>B</td>\n",
       "      <td>596</td>\n",
       "      <td>544</td>\n",
       "      <td>5559398</td>\n",
       "      <td>17708</td>\n",
       "    </tr>\n",
       "    <tr>\n",
       "      <th>58</th>\n",
       "      <td>2019-08-30</td>\n",
       "      <td>A</td>\n",
       "      <td>545</td>\n",
       "      <td>493</td>\n",
       "      <td>4022970</td>\n",
       "      <td>18037</td>\n",
       "    </tr>\n",
       "    <tr>\n",
       "      <th>59</th>\n",
       "      <td>2019-08-30</td>\n",
       "      <td>B</td>\n",
       "      <td>620</td>\n",
       "      <td>567</td>\n",
       "      <td>5774631</td>\n",
       "      <td>18198</td>\n",
       "    </tr>\n",
       "    <tr>\n",
       "      <th>60</th>\n",
       "      <td>2019-08-31</td>\n",
       "      <td>A</td>\n",
       "      <td>557</td>\n",
       "      <td>503</td>\n",
       "      <td>4084803</td>\n",
       "      <td>18736</td>\n",
       "    </tr>\n",
       "    <tr>\n",
       "      <th>61</th>\n",
       "      <td>2019-08-31</td>\n",
       "      <td>B</td>\n",
       "      <td>640</td>\n",
       "      <td>586</td>\n",
       "      <td>5907760</td>\n",
       "      <td>18916</td>\n",
       "    </tr>\n",
       "  </tbody>\n",
       "</table>\n",
       "<p>62 rows × 6 columns</p>\n",
       "</div>"
      ],
      "text/plain": [
       "         date group  orders  clients  revenue  visitors\n",
       "0  2019-08-01     A      24       20   148579       719\n",
       "1  2019-08-01     B      21       20   101217       713\n",
       "2  2019-08-02     A      44       38   242401      1338\n",
       "3  2019-08-02     B      45       43   266748      1294\n",
       "4  2019-08-03     A      68       62   354874      1845\n",
       "..        ...   ...     ...      ...      ...       ...\n",
       "57 2019-08-29     B     596      544  5559398     17708\n",
       "58 2019-08-30     A     545      493  4022970     18037\n",
       "59 2019-08-30     B     620      567  5774631     18198\n",
       "60 2019-08-31     A     557      503  4084803     18736\n",
       "61 2019-08-31     B     640      586  5907760     18916\n",
       "\n",
       "[62 rows x 6 columns]"
      ]
     },
     "execution_count": 13,
     "metadata": {},
     "output_type": "execute_result"
    }
   ],
   "source": [
    "ordersAgg = datesGr.apply(\n",
    "    lambda x: orders[(orders.date <= x.date) & (orders.group == x.group)]\n",
    "    .agg({'date': 'max', 'group': 'max', 'transactionId': 'nunique', 'visitorId': 'nunique', 'revenue': 'sum'}),\n",
    "    axis = 1\n",
    ").sort_values(by=['date', 'group'])\n",
    "\n",
    "visitorsAgg = datesGr.apply(\n",
    "    lambda x: visitors[(visitors.date <= x.date) & (visitors.group == x.group)]\n",
    "    .agg({'date': 'max', 'group': 'max', 'visitors': 'sum'}),\n",
    "    axis = 1\n",
    ").sort_values(by=['date', 'group'])\n",
    "\n",
    "dataAgg = ordersAgg.merge(visitorsAgg, on=['date', 'group'])\n",
    "dataAgg.columns = ['date', 'group', 'orders', 'clients', 'revenue', 'visitors']\n",
    "dataAgg"
   ]
  },
  {
   "cell_type": "markdown",
   "metadata": {},
   "source": [
    "<div class=\"alert alert-block alert-danger\">\n",
    "    \n",
    "**Комментарий ревьювера (недочет, который нужно доработать)**\n",
    "\n",
    "Кумулятивные данные некорректно собраны.\n",
    "    \n",
    "</div>"
   ]
  },
  {
   "cell_type": "markdown",
   "metadata": {},
   "source": [
    "<div class=\"alert alert-block alert-info\">\n",
    "<b>КОММЕНТАРИЙ ОТ УЧЕНИКА: </b><p>\n",
    "    Done. Напутал в знаках условия\n",
    "</div>"
   ]
  },
  {
   "cell_type": "markdown",
   "metadata": {},
   "source": [
    "<div class=\"alert alert-block alert-success\">\n",
    "\n",
    "**Комментарий ревьювера v2 (все отлично)**\n",
    "    \n",
    "Вот теперь все верно!\n",
    "</div>"
   ]
  },
  {
   "cell_type": "code",
   "execution_count": 14,
   "metadata": {},
   "outputs": [],
   "source": [
    "cumulativeA = dataAgg[dataAgg.group == 'A']\n",
    "cumulativeB = dataAgg[dataAgg.group == 'B']"
   ]
  },
  {
   "cell_type": "code",
   "execution_count": 15,
   "metadata": {},
   "outputs": [
    {
     "data": {
      "image/png": "[encoded data removed]",
      "text/plain": [
       "<Figure size 864x432 with 1 Axes>"
      ]
     },
     "metadata": {
      "needs_background": "light"
     },
     "output_type": "display_data"
    }
   ],
   "source": [
    "plt.figure(figsize=(12, 6))\n",
    "plt.title('Кумулятивная выручка по группам')\n",
    "plt.xlabel('Дата')\n",
    "plt.ylabel('Выручка')\n",
    "plt.plot(cumulativeA.date, cumulativeA.revenue, label = 'Группа A')\n",
    "plt.plot(cumulativeB.date, cumulativeB.revenue, label = 'Группа B')\n",
    "plt.grid()\n",
    "plt.legend()\n",
    "plt.show()"
   ]
  },
  {
   "cell_type": "markdown",
   "metadata": {},
   "source": [
    "<div class=\"alert alert-block alert-danger\">\n",
    "    \n",
    "**Комментарий ревьювера (недочет, который нужно доработать)**\n",
    "\n",
    "Грфики в отчете (кроме точечных) некорректны из-за ошибки при сборе кумулятивных данных.\n",
    "    \n",
    "</div>"
   ]
  },
  {
   "cell_type": "markdown",
   "metadata": {},
   "source": [
    "<div class=\"alert alert-block alert-danger\">\n",
    "    \n",
    "**Комментарий ревьювера (недочет, который нужно доработать)**\n",
    "    \n",
    "В отчете требуется оформить графики. Добавить подписи осей, названия (в том числе точечные графики).\n",
    "    \n",
    "    \n",
    "Рекомендую также изучить новые библиотеки визуализации и новые методы в уже изученных.  Прикрепляю несколько интересных ссылок по визуализации:\n",
    "    \n",
    "https://pythonworld.ru/novosti-mira-python/scientific-graphics-in-python.html\n",
    "\n",
    "https://coderlessons.com/tutorials/python-technologies/izuchai-siborna/siborn-kratkoe-rukovodstvo\n",
    "\n",
    "https://tproger.ru/translations/python-data-vizualization/\n",
    "</div>"
   ]
  },
  {
   "cell_type": "markdown",
   "metadata": {},
   "source": [
    "<div class=\"alert alert-block alert-info\">\n",
    "<b>КОММЕНТАРИЙ ОТ УЧЕНИКА: </b><p>\n",
    "    Done\n",
    "</div>"
   ]
  },
  {
   "cell_type": "markdown",
   "metadata": {},
   "source": [
    "<div class=\"alert alert-block alert-success\">\n",
    "\n",
    "**Комментарий ревьювера v2 (все отлично)**\n",
    "    \n",
    "👍\n",
    "</div>"
   ]
  },
  {
   "cell_type": "markdown",
   "metadata": {},
   "source": [
    "Группа B стабильно показывает лучший результат."
   ]
  },
  {
   "cell_type": "markdown",
   "metadata": {},
   "source": [
    "<div class=\"alert alert-block alert-success\">\n",
    "\n",
    "**Комментарий ревьювера v2 (все отлично)**\n",
    "    \n",
    "Согласен с выводом.\n",
    "    \n",
    "</div>"
   ]
  },
  {
   "cell_type": "markdown",
   "metadata": {},
   "source": [
    "### Кумулятивный средний чек по группам"
   ]
  },
  {
   "cell_type": "code",
   "execution_count": 16,
   "metadata": {},
   "outputs": [
    {
     "data": {
      "image/png": "[encoded data removed]",
      "text/plain": [
       "<Figure size 864x432 with 1 Axes>"
      ]
     },
     "metadata": {
      "needs_background": "light"
     },
     "output_type": "display_data"
    }
   ],
   "source": [
    "plt.figure(figsize=(12, 6))\n",
    "plt.title('Кумулятивный средний чек по группам')\n",
    "plt.xlabel('Дата')\n",
    "plt.ylabel('Средний чек')\n",
    "plt.plot(cumulativeA.date, cumulativeA.revenue / cumulativeA.clients, label = 'Группа A')\n",
    "plt.plot(cumulativeB.date, cumulativeB.revenue / cumulativeB.clients, label = 'Группа B')\n",
    "plt.grid()\n",
    "plt.legend()\n",
    "plt.show()"
   ]
  },
  {
   "cell_type": "markdown",
   "metadata": {},
   "source": [
    "Группа B в основном показывает результат лучше.   \n",
    "19 августа наблюдается резкий скачок, возможно был выброс."
   ]
  },
  {
   "cell_type": "markdown",
   "metadata": {},
   "source": [
    "<div class=\"alert alert-block alert-success\">\n",
    "\n",
    "**Комментарий ревьювера v2 (все отлично)**\n",
    "    \n",
    "Всё верно по выводу! Похоже есть аномалии.\n",
    "\n",
    "</div>"
   ]
  },
  {
   "cell_type": "markdown",
   "metadata": {},
   "source": [
    "###  Относительное изменение кумулятивного среднего чека группы B к группе A"
   ]
  },
  {
   "cell_type": "code",
   "execution_count": 17,
   "metadata": {},
   "outputs": [],
   "source": [
    "cumulativeRevenue = cumulativeA.merge(cumulativeB, on='date', suffixes=['A', 'B'])"
   ]
  },
  {
   "cell_type": "code",
   "execution_count": 18,
   "metadata": {},
   "outputs": [
    {
     "data": {
      "image/png": "[encoded data removed]",
      "text/plain": [
       "<Figure size 864x432 with 1 Axes>"
      ]
     },
     "metadata": {
      "needs_background": "light"
     },
     "output_type": "display_data"
    }
   ],
   "source": [
    "plt.figure(figsize=(12, 6))\n",
    "plt.title('Относительное изменение кумулятивного среднего чека группы B к группе A')\n",
    "plt.xlabel('Дата')\n",
    "plt.plot(cumulativeRevenue.date, cumulativeRevenue.revenueB / cumulativeRevenue.revenueA - 1)\n",
    "plt.grid()\n",
    "plt.axhline(0, linestyle='--', color='black')\n",
    "plt.show()"
   ]
  },
  {
   "cell_type": "markdown",
   "metadata": {},
   "source": [
    "Измнения гурппы B в сравнении с группой А стабильно полодительны. Наблюадется тот же выброс."
   ]
  },
  {
   "cell_type": "markdown",
   "metadata": {},
   "source": [
    "<div class=\"alert alert-block alert-success\">\n",
    "\n",
    "**Комментарий ревьювера v2 (все отлично)**\n",
    "    \n",
    "Согласен с выводом!\n",
    "</div>"
   ]
  },
  {
   "cell_type": "markdown",
   "metadata": {},
   "source": [
    "### Кумулятивная конверсия по группам"
   ]
  },
  {
   "cell_type": "code",
   "execution_count": 19,
   "metadata": {},
   "outputs": [],
   "source": [
    "dataAgg['conversion'] = dataAgg.orders / dataAgg.visitors\n",
    "cumulativeConversionA = dataAgg[dataAgg.group == 'A'][['date', 'group', 'conversion']]\n",
    "cumulativeConversionB = dataAgg[dataAgg.group == 'B'][['date', 'group', 'conversion']]"
   ]
  },
  {
   "cell_type": "markdown",
   "metadata": {},
   "source": [
    "<div class=\"alert alert-block alert-danger\">\n",
    "    \n",
    "**Комментарий ревьювера v2 (недочет, который нужно доработать)**\n",
    "\n",
    "Конверсия ошибочно расчитана. Нужно вместо столбца `clients` использовать `orders`.\n",
    "    \n",
    "</div>"
   ]
  },
  {
   "cell_type": "markdown",
   "metadata": {},
   "source": [
    "<div class=\"alert alert-block alert-info\">\n",
    "<b>КОММЕНТАРИЙ ОТ УЧЕНИКА: </b><p>\n",
    "    Done.\n",
    "</div>"
   ]
  },
  {
   "cell_type": "markdown",
   "metadata": {},
   "source": [
    "<div class=\"alert alert-block alert-success\">\n",
    "\n",
    "**Комментарий ревьювера v3 (все отлично)**\n",
    "    \n",
    "Теперь правильно.\n",
    "</div>"
   ]
  },
  {
   "cell_type": "code",
   "execution_count": 20,
   "metadata": {},
   "outputs": [
    {
     "data": {
      "image/png": "[encoded data removed]",
      "text/plain": [
       "<Figure size 864x432 with 1 Axes>"
      ]
     },
     "metadata": {
      "needs_background": "light"
     },
     "output_type": "display_data"
    }
   ],
   "source": [
    "plt.figure(figsize=(12, 6))\n",
    "plt.title('Кумулятивная конверсия по группам')\n",
    "plt.xlabel('Дата')\n",
    "plt.ylabel('Конверсия')\n",
    "plt.plot(cumulativeA.date, cumulativeConversionA.conversion, label = 'Группа A')\n",
    "plt.plot(cumulativeB.date, cumulativeConversionB.conversion, label = 'Группа B')\n",
    "plt.grid()\n",
    "plt.legend()\n",
    "plt.show()"
   ]
  },
  {
   "cell_type": "markdown",
   "metadata": {},
   "source": [
    "Стабильнотсь конверсии не наблюдадется в обеих группах. В первые дни теста в некоторые дни конверсия выше в группе B, в некоторые лидирует группа A. Затем группа B лидиурет и стабильно опережает группу A."
   ]
  },
  {
   "cell_type": "markdown",
   "metadata": {},
   "source": [
    "<div class=\"alert alert-block alert-success\">\n",
    "\n",
    "**Комментарий ревьювера v3 (все отлично)**\n",
    "    \n",
    "Нестабильность в начале теста достаточно нормальное явление. Ближе к концу конверсии обеих групп стабилизируются и устанавливаются около определенных значений.\n",
    "</div>"
   ]
  },
  {
   "cell_type": "markdown",
   "metadata": {},
   "source": [
    "### Относительное изменение кумулятивной конверсии группы B к группе A"
   ]
  },
  {
   "cell_type": "code",
   "execution_count": 21,
   "metadata": {},
   "outputs": [],
   "source": [
    "cumulativeConversion = cumulativeConversionA.merge(cumulativeConversionB, on='date', suffixes=['A', 'B'])"
   ]
  },
  {
   "cell_type": "code",
   "execution_count": 22,
   "metadata": {},
   "outputs": [
    {
     "data": {
      "image/png": "[encoded data removed]",
      "text/plain": [
       "<Figure size 864x432 with 1 Axes>"
      ]
     },
     "metadata": {
      "needs_background": "light"
     },
     "output_type": "display_data"
    }
   ],
   "source": [
    "plt.figure(figsize=(12, 6))\n",
    "plt.title('Относительное изменение кумулятивной конверсии группы B к группе A')\n",
    "plt.xlabel('Дата')\n",
    "plt.plot(cumulativeConversion.date, cumulativeConversion.conversionB / cumulativeConversion.conversionA - 1)\n",
    "plt.grid()\n",
    "plt.axhline(0, linestyle='--', color='black')\n",
    "plt.show()"
   ]
  },
  {
   "cell_type": "markdown",
   "metadata": {},
   "source": [
    "Группа B показывает конверсию выше группы A."
   ]
  },
  {
   "cell_type": "markdown",
   "metadata": {},
   "source": [
    "<div class=\"alert alert-block alert-danger\">\n",
    "    \n",
    "**Комментарий ревьювера v2 (недочет, который нужно доработать)**\n",
    "\n",
    "Выводы по конверсиям могут измениться после исправления расчетов.\n",
    "    \n",
    "</div>"
   ]
  },
  {
   "cell_type": "markdown",
   "metadata": {},
   "source": [
    "<div class=\"alert alert-block alert-success\">\n",
    "\n",
    "**Комментарий ревьювера v3 (все отлично)**\n",
    "    \n",
    "Все верно по выводам.\n",
    "</div>"
   ]
  },
  {
   "cell_type": "markdown",
   "metadata": {},
   "source": [
    "<div class=\"alert alert-block alert-success\">\n",
    "\n",
    "**Комментарий ревьювера (все отлично)**\n",
    "    \n",
    "Отличная практика давать комментарий сразу под графиком.\n",
    "\n",
    "</div>"
   ]
  },
  {
   "cell_type": "markdown",
   "metadata": {},
   "source": [
    "### Количество заказов по пользователям"
   ]
  },
  {
   "cell_type": "code",
   "execution_count": 23,
   "metadata": {},
   "outputs": [],
   "source": [
    "ordersByVisitors = (\n",
    "    orders.groupby('visitorId', as_index=False)\n",
    "    .agg({'transactionId': 'nunique'})\n",
    ")\n",
    "ordersByVisitors.columns = ['visitorId', 'orders']"
   ]
  },
  {
   "cell_type": "code",
   "execution_count": 24,
   "metadata": {},
   "outputs": [
    {
     "data": {
      "image/png": "[encoded data removed]",
      "text/plain": [
       "<Figure size 432x288 with 1 Axes>"
      ]
     },
     "metadata": {
      "needs_background": "light"
     },
     "output_type": "display_data"
    }
   ],
   "source": [
    "plt.title('Количество заказов по пользователям')\n",
    "plt.xlabel('Пользователь')\n",
    "plt.ylabel('Количество заказов')\n",
    "plt.scatter(\n",
    "    pd.Series(range(0, len(ordersByVisitors))),\n",
    "    ordersByVisitors.orders\n",
    ")\n",
    "plt.show()"
   ]
  },
  {
   "cell_type": "markdown",
   "metadata": {},
   "source": [
    "<div class=\"alert alert-block alert-danger\">\n",
    "    \n",
    "**Комментарий ревьювера (недочет, который нужно доработать)**\n",
    "    \n",
    "Нужно оформить точечные графики в работе. Добавить название и подпись оси X.\n",
    "</div>"
   ]
  },
  {
   "cell_type": "markdown",
   "metadata": {},
   "source": [
    "<div class=\"alert alert-block alert-info\">\n",
    "<b>КОММЕНТАРИЙ ОТ УЧЕНИКА: </b><p>\n",
    "    Done\n",
    "</div>"
   ]
  },
  {
   "cell_type": "markdown",
   "metadata": {},
   "source": [
    "<div class=\"alert alert-block alert-success\">\n",
    "\n",
    "**Комментарий ревьювера v2 (все отлично)**\n",
    "    \n",
    "Графики в отчете подготовлены!\n",
    "\n",
    "</div>"
   ]
  },
  {
   "cell_type": "markdown",
   "metadata": {},
   "source": [
    "Большая часть пользователей делает до 2 заказов. Имеются выбросые с 8+ заказами."
   ]
  },
  {
   "cell_type": "markdown",
   "metadata": {},
   "source": [
    "### 95-й и 99-й перцентили количества заказов на пользователя"
   ]
  },
  {
   "cell_type": "code",
   "execution_count": 25,
   "metadata": {},
   "outputs": [
    {
     "data": {
      "text/plain": [
       "array([2., 4.])"
      ]
     },
     "execution_count": 25,
     "metadata": {},
     "output_type": "execute_result"
    }
   ],
   "source": [
    "np.percentile(ordersByVisitors.orders, [95, 99])"
   ]
  },
  {
   "cell_type": "markdown",
   "metadata": {},
   "source": [
    "95% пользователей сделало не более 2 заказов. 4 и более заказов сделал лишь 1% пользователей."
   ]
  },
  {
   "cell_type": "markdown",
   "metadata": {},
   "source": [
    "<div class=\"alert alert-block alert-success\">\n",
    "\n",
    "**Комментарий ревьювера (все отлично)**\n",
    "    \n",
    "Отлично, перцентили количества заказов на пользователя рассчитаны верно. Согласен с выделенной границей. Какое значение можно считать границей аномальных значений?\n",
    "</div>"
   ]
  },
  {
   "cell_type": "markdown",
   "metadata": {},
   "source": [
    "### Точечный график стоимостей заказов"
   ]
  },
  {
   "cell_type": "code",
   "execution_count": 26,
   "metadata": {},
   "outputs": [
    {
     "data": {
      "image/png": "[encoded data removed]",
      "text/plain": [
       "<Figure size 864x432 with 1 Axes>"
      ]
     },
     "metadata": {
      "needs_background": "light"
     },
     "output_type": "display_data"
    }
   ],
   "source": [
    "x_values = pd.Series(range(0, len(orders.revenue)))\n",
    "plt.figure(figsize=(12, 6))\n",
    "plt.title('График стоимостей заказов')\n",
    "plt.xlabel('Заказ')\n",
    "plt.ylabel('Стоимость')\n",
    "plt.scatter(x_values, orders.revenue)\n",
    "plt.grid()"
   ]
  },
  {
   "cell_type": "markdown",
   "metadata": {},
   "source": [
    "2 выброса не дают увидеть полную картину. Построим гарфик для заказов дешевле 0.2 * 10^6"
   ]
  },
  {
   "cell_type": "code",
   "execution_count": 27,
   "metadata": {},
   "outputs": [
    {
     "data": {
      "image/png": "[encoded data removed]",
      "text/plain": [
       "<Figure size 864x432 with 1 Axes>"
      ]
     },
     "metadata": {
      "needs_background": "light"
     },
     "output_type": "display_data"
    }
   ],
   "source": [
    "x_values = pd.Series(range(0, len(orders[orders.revenue < 200000].revenue)))\n",
    "plt.figure(figsize=(12, 6))\n",
    "plt.title('График стоимостей заказов')\n",
    "plt.xlabel('Заказ')\n",
    "plt.ylabel('Стоимость')\n",
    "plt.scatter(x_values, orders[orders.revenue < 200000].revenue)\n",
    "plt.grid()"
   ]
  },
  {
   "cell_type": "markdown",
   "metadata": {},
   "source": [
    "Большая часть заказов дешевле 30 000."
   ]
  },
  {
   "cell_type": "markdown",
   "metadata": {},
   "source": [
    "### 95-й и 99-й перцентили стоимости заказов"
   ]
  },
  {
   "cell_type": "code",
   "execution_count": 28,
   "metadata": {},
   "outputs": [
    {
     "data": {
      "text/plain": [
       "array([28000. , 58233.2])"
      ]
     },
     "execution_count": 28,
     "metadata": {},
     "output_type": "execute_result"
    }
   ],
   "source": [
    "np.percentile(orders.revenue, [95, 99])"
   ]
  },
  {
   "cell_type": "markdown",
   "metadata": {},
   "source": [
    "Лишь 5% заказов дороде 28000 и 1% дороже 58233."
   ]
  },
  {
   "cell_type": "markdown",
   "metadata": {},
   "source": [
    "<div class=\"alert alert-block alert-success\">\n",
    "\n",
    "**Комментарий ревьювера (все отлично)**\n",
    "    \n",
    "Перцентили величины заказа рассчитаны верно. Что возьмем за аномалию?\n",
    "</div>"
   ]
  },
  {
   "cell_type": "markdown",
   "metadata": {},
   "source": [
    "### Cтатистическая значимость различий в конверсии между группами по «сырым» данным"
   ]
  },
  {
   "cell_type": "markdown",
   "metadata": {},
   "source": [
    "В этом пункте и последующех будем использовать тест Уилкоксона-Манна-Уитни с критическим уровнем сатистической значимости 0.05"
   ]
  },
  {
   "cell_type": "markdown",
   "metadata": {},
   "source": [
    "Н0: В конверсии между группами A и B нет различий.   \n",
    "Н1: Коверсии группы A и B различны."
   ]
  },
  {
   "cell_type": "markdown",
   "metadata": {},
   "source": [
    "<div class=\"alert alert-block alert-danger\">\n",
    "    \n",
    "**Комментарий ревьювера (недочет, который нужно доработать)**\n",
    "    \n",
    "Нужно оформить этап проверки гипотез.\n",
    "    \n",
    "1. Сформулируй гипотезы по каждому из тестов;\n",
    "    \n",
    "2. Уровень статистической значимости;\n",
    "    \n",
    "3. Тест используемый для проверки гипотез.\n",
    "</div>"
   ]
  },
  {
   "cell_type": "markdown",
   "metadata": {},
   "source": [
    "<div class=\"alert alert-block alert-info\">\n",
    "<b>КОММЕНТАРИЙ ОТ УЧЕНИКА: </b><p>\n",
    "    Done\n",
    "</div>"
   ]
  },
  {
   "cell_type": "markdown",
   "metadata": {},
   "source": [
    "<div class=\"alert alert-block alert-success\">\n",
    "\n",
    "**Комментарий ревьювера v2 (все отлично)**\n",
    "    \n",
    "👍\n",
    "\n",
    "</div>"
   ]
  },
  {
   "cell_type": "code",
   "execution_count": 29,
   "metadata": {},
   "outputs": [],
   "source": [
    "alpha = .05"
   ]
  },
  {
   "cell_type": "code",
   "execution_count": 30,
   "metadata": {},
   "outputs": [],
   "source": [
    "ordersByVisitorsA = orders[orders.group == 'A'].groupby('visitorId', as_index = False).transactionId.nunique()\n",
    "ordersByVisitorsA.columns = ['visitorId', 'orders']\n",
    "ordersByVisitorsB = orders[orders.group == 'B'].groupby('visitorId', as_index = False).transactionId.nunique()\n",
    "ordersByVisitorsB.columns = ['visitorId', 'orders']"
   ]
  },
  {
   "cell_type": "code",
   "execution_count": 31,
   "metadata": {},
   "outputs": [],
   "source": [
    "sampleA = pd.concat(\n",
    "    [ordersByVisitorsA.orders, \n",
    "     pd.Series(0, index=np.arange(visitors[visitors.group == 'A'].visitors.sum() - len(ordersByVisitorsA)), name='orders')], axis=0\n",
    ")\n",
    "\n",
    "sampleB = pd.concat(\n",
    "    [ordersByVisitorsB.orders, \n",
    "     pd.Series(0, index=np.arange(visitors[visitors.group == 'B'].visitors.sum() - len(ordersByVisitorsA)))], axis=0\n",
    ")"
   ]
  },
  {
   "cell_type": "code",
   "execution_count": 32,
   "metadata": {},
   "outputs": [
    {
     "data": {
      "text/plain": [
       "0.020456112148351076"
      ]
     },
     "execution_count": 32,
     "metadata": {},
     "output_type": "execute_result"
    }
   ],
   "source": [
    "st.mannwhitneyu(sampleA, sampleB)[1]"
   ]
  },
  {
   "cell_type": "code",
   "execution_count": 33,
   "metadata": {},
   "outputs": [
    {
     "data": {
      "text/plain": [
       "0.13310697728303378"
      ]
     },
     "execution_count": 33,
     "metadata": {},
     "output_type": "execute_result"
    }
   ],
   "source": [
    "sampleB.mean() / sampleA.mean() - 1"
   ]
  },
  {
   "cell_type": "markdown",
   "metadata": {},
   "source": [
    "*P-value* ниже 0.05. Значит, нулевую гипотезу о том, что статистически значимых различий в конверсии между группами нет, отвергаем.   \n",
    "Конверсия группы B выше на 13 %."
   ]
  },
  {
   "cell_type": "markdown",
   "metadata": {},
   "source": [
    "<div class=\"alert alert-block alert-success\">\n",
    "\n",
    "**Комментарий ревьювера (все отлично)**\n",
    "    \n",
    "Согласен. Группа B лучше по результатам этого теста.\n",
    "</div>"
   ]
  },
  {
   "cell_type": "markdown",
   "metadata": {},
   "source": [
    "### Cтатистическая значимость различий в среднем чеке заказа между группами по «сырым» данным"
   ]
  },
  {
   "cell_type": "markdown",
   "metadata": {},
   "source": [
    "Н0: Различий в среднем чеке заказа между группами нет.   \n",
    "Н1: У групп разные средние чеки заказа."
   ]
  },
  {
   "cell_type": "code",
   "execution_count": 34,
   "metadata": {},
   "outputs": [
    {
     "data": {
      "text/plain": [
       "0.7292909855432458"
      ]
     },
     "execution_count": 34,
     "metadata": {},
     "output_type": "execute_result"
    }
   ],
   "source": [
    "st.mannwhitneyu(orders[orders.group == 'A'].revenue, orders[orders.group == 'B'].revenue)[1]"
   ]
  },
  {
   "cell_type": "code",
   "execution_count": 35,
   "metadata": {},
   "outputs": [
    {
     "data": {
      "text/plain": [
       "0.2587136699126005"
      ]
     },
     "execution_count": 35,
     "metadata": {},
     "output_type": "execute_result"
    }
   ],
   "source": [
    "orders[orders.group == 'B'].revenue.mean() / orders[orders.group == 'A'].revenue.mean() - 1"
   ]
  },
  {
   "cell_type": "markdown",
   "metadata": {},
   "source": [
    "Значение *p-value* значительно больше 0.05. Значит, причин отвергать нулевую гипотезу и считать, что в среднем чеке есть различия, нет. Хотя средний чек группы B выше среднего чека группы A."
   ]
  },
  {
   "cell_type": "markdown",
   "metadata": {},
   "source": [
    "<div class=\"alert alert-block alert-success\">\n",
    "\n",
    "**Комментарий ревьювера (все отлично)**\n",
    "    \n",
    "Ты верно сделал вывод, что статистически значимых различий в среднем чеке нет. Тест прошел успешно.\n",
    "</div>"
   ]
  },
  {
   "cell_type": "markdown",
   "metadata": {},
   "source": [
    "### Очистка данных"
   ]
  },
  {
   "cell_type": "code",
   "execution_count": 36,
   "metadata": {},
   "outputs": [
    {
     "data": {
      "text/plain": [
       "18       199603092\n",
       "23       237748145\n",
       "68       611059232\n",
       "146     1230306981\n",
       "189     1614305549\n",
       "           ...    \n",
       "1136    1307669133\n",
       "1137     759473111\n",
       "1142    2606908679\n",
       "1189     393266494\n",
       "1196    2108080724\n",
       "Name: visitorId, Length: 84, dtype: int64"
      ]
     },
     "execution_count": 36,
     "metadata": {},
     "output_type": "execute_result"
    }
   ],
   "source": [
    "visitrosWithManyOrders = pd.concat([ordersByVisitorsA[ordersByVisitorsA.orders > 2], \n",
    "                                    ordersByVisitorsB[ordersByVisitorsB.orders > 2]], axis=0).visitorId\n",
    "\n",
    "visitrosWithExpensiveOrders = orders[orders.revenue > 28000].visitorId\n",
    "abnormal = pd.concat([visitrosWithManyOrders, visitrosWithExpensiveOrders], axis=0)\n",
    "abnormal"
   ]
  },
  {
   "cell_type": "code",
   "execution_count": 37,
   "metadata": {},
   "outputs": [
    {
     "data": {
      "text/plain": [
       "0.08147429679922405"
      ]
     },
     "execution_count": 37,
     "metadata": {},
     "output_type": "execute_result"
    }
   ],
   "source": [
    "len(abnormal) / orders.visitorId.nunique()"
   ]
  },
  {
   "cell_type": "markdown",
   "metadata": {},
   "source": [
    "Убрали все заказы дороже 28000 и заказы от пользователей, сделавших более 2 заказов. Таких было 84 шт., что составляет 8%."
   ]
  },
  {
   "cell_type": "markdown",
   "metadata": {},
   "source": [
    "<div class=\"alert alert-block alert-success\">\n",
    "\n",
    "**Комментарий ревьювера (все отлично)**\n",
    "    \n",
    "Здорово, что посчитал долю удаленных данных. Как видим, данных мы потеряли немного.\n",
    "    \n",
    "</div>"
   ]
  },
  {
   "cell_type": "markdown",
   "metadata": {},
   "source": [
    "### Статистическая значимость различий в конверсии между группами по «очищенным» данным"
   ]
  },
  {
   "cell_type": "markdown",
   "metadata": {},
   "source": [
    "Н0: В конверсии между группами A и B нет различий.   \n",
    "Н1: Коверсии группы A и B различны."
   ]
  },
  {
   "cell_type": "code",
   "execution_count": 38,
   "metadata": {},
   "outputs": [],
   "source": [
    "sampleAFiltered = pd.concat(\n",
    "    [ordersByVisitorsA[~ordersByVisitorsA.visitorId.isin(abnormal)].orders, \n",
    "     pd.Series(0, index=np.arange(visitors[visitors.group == 'A'].visitors.sum() - len(ordersByVisitorsA)), name='orders')], \n",
    "    axis=0\n",
    ")\n",
    "\n",
    "sampleBFiltered = pd.concat(\n",
    "    [ordersByVisitorsB[~ordersByVisitorsB.visitorId.isin(abnormal)].orders, \n",
    "     pd.Series(0, index=np.arange(visitors[visitors.group == 'B'].visitors.sum() - len(ordersByVisitorsA)))], \n",
    "    axis=0\n",
    ")"
   ]
  },
  {
   "cell_type": "code",
   "execution_count": 39,
   "metadata": {},
   "outputs": [
    {
     "data": {
      "text/plain": [
       "0.015849322181567916"
      ]
     },
     "execution_count": 39,
     "metadata": {},
     "output_type": "execute_result"
    }
   ],
   "source": [
    "st.mannwhitneyu(sampleAFiltered, sampleBFiltered)[1]"
   ]
  },
  {
   "cell_type": "code",
   "execution_count": 40,
   "metadata": {},
   "outputs": [
    {
     "data": {
      "text/plain": [
       "0.16756519418814375"
      ]
     },
     "execution_count": 40,
     "metadata": {},
     "output_type": "execute_result"
    }
   ],
   "source": [
    "sampleBFiltered.mean() / sampleAFiltered.mean() - 1"
   ]
  },
  {
   "cell_type": "markdown",
   "metadata": {},
   "source": [
    "*P-value* стало еще ниже. Разница в конверсии увеличилась до 16.7 %."
   ]
  },
  {
   "cell_type": "markdown",
   "metadata": {},
   "source": [
    "<div class=\"alert alert-block alert-success\">\n",
    "\n",
    "**Комментарий ревьювера (все отлично)**\n",
    "    \n",
    "Всё верно, статистически значимые различия по конверсии по-прежнему есть.\n",
    "</div>"
   ]
  },
  {
   "cell_type": "markdown",
   "metadata": {},
   "source": [
    "### Статистическая значимость различий в среднем чеке заказа между группами по «очищенным» данным"
   ]
  },
  {
   "cell_type": "markdown",
   "metadata": {},
   "source": [
    "Н0: Различий в среднем чеке заказа между группами нет.   \n",
    "Н1: У групп разные средние чеки заказа."
   ]
  },
  {
   "cell_type": "code",
   "execution_count": 41,
   "metadata": {},
   "outputs": [
    {
     "data": {
      "text/plain": [
       "0.738481751314565"
      ]
     },
     "execution_count": 41,
     "metadata": {},
     "output_type": "execute_result"
    }
   ],
   "source": [
    "st.mannwhitneyu(\n",
    "    orders[(orders.group == 'A') & (~orders.visitorId.isin(abnormal))].revenue, \n",
    "    orders[(orders.group == 'B') & (~orders.visitorId.isin(abnormal))].revenue\n",
    ")[1]"
   ]
  },
  {
   "cell_type": "code",
   "execution_count": 42,
   "metadata": {},
   "outputs": [
    {
     "data": {
      "text/plain": [
       "-0.019624288331982598"
      ]
     },
     "execution_count": 42,
     "metadata": {},
     "output_type": "execute_result"
    }
   ],
   "source": [
    "(orders[(orders.group == 'B') & (~orders.visitorId.isin(abnormal))].revenue.mean() / \n",
    " orders[(orders.group == 'A') & (~orders.visitorId.isin(abnormal))].revenue.mean() - 1)"
   ]
  },
  {
   "cell_type": "markdown",
   "metadata": {},
   "source": [
    "Результаты по конверсии практически не изменились.   \n",
    "А вот разница в среднем чеке после удаления аномалий исчезла."
   ]
  },
  {
   "cell_type": "markdown",
   "metadata": {},
   "source": [
    "<div class=\"alert alert-block alert-success\">\n",
    "\n",
    "**Комментарий ревьювера (все отлично)**\n",
    "    \n",
    "Согласен с результатом теста. После очистки статистически значимых отличий по среднему чему не появилось.\n",
    "</div>"
   ]
  },
  {
   "cell_type": "markdown",
   "metadata": {},
   "source": [
    "### Решение по результатам теста и объясните его"
   ]
  },
  {
   "cell_type": "markdown",
   "metadata": {},
   "source": [
    "Варианты решений: \n",
    "- 1. Остановить тест, зафиксировать победу одной из групп. \n",
    "- 2. Остановить тест, зафиксировать отсутствие различий между группами. \n",
    "- 3. Продолжить тест."
   ]
  },
  {
   "cell_type": "markdown",
   "metadata": {},
   "source": [
    "Имеющиеся факты:\n",
    "* имеются статистически значимые различия по конверсии между группами и по «сырым», и по данным после фильтрации аномалий;\n",
    "* конверсия в группе B увеличилась;\n",
    "* нет статистически значимого различия по среднему чеку между группами ни по «сырым», ни по данным после фильтрации аномалий;\n",
    "* без учета аномалий средний чек остался на том же уровне."
   ]
  },
  {
   "cell_type": "markdown",
   "metadata": {},
   "source": [
    "Исходя из обнаруженных фактов, тест следует остановить и признать его успешным. Группа B показала лучшую конверсию, а средний чек не изменился."
   ]
  },
  {
   "cell_type": "markdown",
   "metadata": {},
   "source": [
    "### Общие выводы"
   ]
  },
  {
   "cell_type": "markdown",
   "metadata": {},
   "source": [
    "По результатам приоритезации гипотез по фремворкам ICE и RICE попали в топ в обоих вариантах следующие гипотезы:\n",
    "* Добавить форму подписки на все основные страницы, чтобы собрать базу клиентов для email-рассылок\n",
    "* Добавить два новых канала привлечения трафика, что позволит привлекать на 30% больше пользователей\n"
   ]
  },
  {
   "cell_type": "markdown",
   "metadata": {},
   "source": [
    "При анализе полученных данных после проведения A/B-теста было выявлено 58 пользователей, которые входят в обе группы. Стоит обратиться к техническим специалистам."
   ]
  },
  {
   "cell_type": "markdown",
   "metadata": {},
   "source": [
    "По результатам A/B-теста было принято решение признать его успешным и остановить.  \n",
    "Кумулятивная выручка, кумулятивный средний чек и кумулятивная конверсия выше в группе B.   \n",
    "В данных имеются аномальные данные: пользователи, сделавшие более 2 заказов (не >5% пользователей), и заказы дороже 22000 (не >5% заказов)."
   ]
  },
  {
   "cell_type": "markdown",
   "metadata": {},
   "source": [
    "<div class=\"alert alert-block alert-success\">\n",
    "\n",
    "**Комментарий ревьювера (все отлично)**\n",
    "    \n",
    "Согласен с решением по результатам. Тест прошел успешно!\n",
    "</div>"
   ]
  },
  {
   "cell_type": "markdown",
   "metadata": {},
   "source": [
    "<div class=\"alert alert-block alert-danger\">\n",
    "    \n",
    "**Комментарий ревьювера (недочет, который нужно доработать)**\n",
    "    \n",
    "Не хватает краткого общего вывода по всем выполненным задачам в проекте, в том числе по приоритезации гипотез.\n",
    "</div>"
   ]
  },
  {
   "cell_type": "markdown",
   "metadata": {},
   "source": [
    "<div class=\"alert alert-block alert-danger\">\n",
    "    \n",
    "**Комментарий ревьювера v2 (недочет, который нужно доработать)**\n",
    "    \n",
    "Замечание актуально, есть вывод только по результатам теста.\n",
    "</div>"
   ]
  },
  {
   "cell_type": "markdown",
   "metadata": {},
   "source": [
    "<div class=\"alert alert-block alert-info\">\n",
    "<b>КОММЕНТАРИЙ ОТ УЧЕНИКА: </b><p>\n",
    "    Добавил общий вывод\n",
    "</div>"
   ]
  },
  {
   "cell_type": "markdown",
   "metadata": {},
   "source": [
    "<div class=\"alert alert-block alert-success\">\n",
    "\n",
    "**Комментарий ревьювера v3 (все отлично)**\n",
    "    \n",
    "Все результаты работы отражены, цели исследования успешно выполнены!\n",
    "</div>"
   ]
  },
  {
   "cell_type": "markdown",
   "metadata": {},
   "source": [
    "<div class=\"alert alert-block alert-warning\">\n",
    "\n",
    "**Комментарий ревьювера (общий вывод)**\n",
    "    \n",
    "Денис, мне понравилась твоя работа! Выводы хорошо структурированы и достаточно содержательны, умеешь считать перцентили. Спасибо за четкие комментарии по результатам исследования, аккуратный код и качественное оформление отчета! Это упростило проверку. Для принятия твоей работы нужно исправить критические замечания. Жду твою работу!\n",
    "    \n",
    "Еще есть несколько рекомендаций, которые помогут тебе с будущими проектами. Жду твою работу!\n",
    "</div>"
   ]
  },
  {
   "cell_type": "code",
   "execution_count": null,
   "metadata": {},
   "outputs": [],
   "source": []
  }
 ],
 "metadata": {
  "ExecuteTimeLog": [
   {
    "duration": 1711,
    "start_time": "2022-05-25T07:42:07.880Z"
   },
   {
    "duration": 69,
    "start_time": "2022-05-25T07:42:37.028Z"
   },
   {
    "duration": 15,
    "start_time": "2022-05-25T07:44:22.420Z"
   },
   {
    "duration": 11,
    "start_time": "2022-05-25T07:44:36.084Z"
   },
   {
    "duration": 17,
    "start_time": "2022-05-25T07:45:50.745Z"
   },
   {
    "duration": 99,
    "start_time": "2022-05-25T07:51:58.971Z"
   },
   {
    "duration": 13,
    "start_time": "2022-05-25T07:52:09.005Z"
   },
   {
    "duration": 132,
    "start_time": "2022-05-25T07:52:19.072Z"
   },
   {
    "duration": 9,
    "start_time": "2022-05-25T07:56:05.204Z"
   },
   {
    "duration": 14,
    "start_time": "2022-05-25T07:56:20.808Z"
   },
   {
    "duration": 5,
    "start_time": "2022-05-25T07:56:45.807Z"
   },
   {
    "duration": 8,
    "start_time": "2022-05-25T07:56:47.072Z"
   },
   {
    "duration": 11,
    "start_time": "2022-05-25T07:57:06.707Z"
   },
   {
    "duration": 8,
    "start_time": "2022-05-25T07:57:27.876Z"
   },
   {
    "duration": 3,
    "start_time": "2022-05-25T07:58:02.556Z"
   },
   {
    "duration": 11,
    "start_time": "2022-05-25T07:58:13.679Z"
   },
   {
    "duration": 3,
    "start_time": "2022-05-25T07:58:29.251Z"
   },
   {
    "duration": 15,
    "start_time": "2022-05-25T07:58:30.527Z"
   },
   {
    "duration": 3,
    "start_time": "2022-05-25T07:58:56.435Z"
   },
   {
    "duration": 25,
    "start_time": "2022-05-25T07:58:57.679Z"
   },
   {
    "duration": 3,
    "start_time": "2022-05-25T08:07:44.795Z"
   },
   {
    "duration": 18,
    "start_time": "2022-05-25T08:07:46.027Z"
   },
   {
    "duration": 7,
    "start_time": "2022-05-25T08:08:12.514Z"
   },
   {
    "duration": 4,
    "start_time": "2022-05-25T08:08:22.957Z"
   },
   {
    "duration": 21,
    "start_time": "2022-05-25T08:08:24.179Z"
   },
   {
    "duration": 7,
    "start_time": "2022-05-25T08:08:41.179Z"
   },
   {
    "duration": 3,
    "start_time": "2022-05-25T08:08:54.555Z"
   },
   {
    "duration": 21,
    "start_time": "2022-05-25T08:08:56.031Z"
   },
   {
    "duration": 61,
    "start_time": "2022-05-25T08:09:08.416Z"
   },
   {
    "duration": 19,
    "start_time": "2022-05-25T08:09:21.151Z"
   },
   {
    "duration": 16,
    "start_time": "2022-05-25T08:09:29.987Z"
   },
   {
    "duration": 3,
    "start_time": "2022-05-25T08:09:37.047Z"
   },
   {
    "duration": 33,
    "start_time": "2022-05-25T08:09:38.474Z"
   },
   {
    "duration": 16,
    "start_time": "2022-05-25T08:09:45.428Z"
   },
   {
    "duration": 11,
    "start_time": "2022-05-25T08:10:24.643Z"
   },
   {
    "duration": 7,
    "start_time": "2022-05-25T08:10:32.835Z"
   },
   {
    "duration": 16,
    "start_time": "2022-05-25T08:10:37.243Z"
   },
   {
    "duration": 18,
    "start_time": "2022-05-25T08:10:48.339Z"
   },
   {
    "duration": 19,
    "start_time": "2022-05-25T08:10:51.736Z"
   },
   {
    "duration": 21,
    "start_time": "2022-05-25T08:14:30.788Z"
   },
   {
    "duration": 6,
    "start_time": "2022-05-25T08:14:48.155Z"
   },
   {
    "duration": 6,
    "start_time": "2022-05-25T08:19:22.535Z"
   },
   {
    "duration": 71,
    "start_time": "2022-05-25T08:24:01.328Z"
   },
   {
    "duration": 53,
    "start_time": "2022-05-25T08:24:06.687Z"
   },
   {
    "duration": 8,
    "start_time": "2022-05-25T08:24:16.377Z"
   },
   {
    "duration": 24,
    "start_time": "2022-05-25T08:24:16.876Z"
   },
   {
    "duration": 249,
    "start_time": "2022-05-25T08:24:48.787Z"
   },
   {
    "duration": 211,
    "start_time": "2022-05-25T08:27:05.251Z"
   },
   {
    "duration": 8,
    "start_time": "2022-05-25T08:31:22.620Z"
   },
   {
    "duration": 752,
    "start_time": "2022-05-25T08:32:24.087Z"
   },
   {
    "duration": 208,
    "start_time": "2022-05-25T08:32:33.619Z"
   },
   {
    "duration": 16,
    "start_time": "2022-05-25T08:32:56.603Z"
   },
   {
    "duration": 10,
    "start_time": "2022-05-25T08:33:52.017Z"
   },
   {
    "duration": 226,
    "start_time": "2022-05-25T08:33:57.323Z"
   },
   {
    "duration": 243,
    "start_time": "2022-05-25T08:34:07.584Z"
   },
   {
    "duration": 327,
    "start_time": "2022-05-25T08:34:24.284Z"
   },
   {
    "duration": 232,
    "start_time": "2022-05-25T08:34:51.681Z"
   },
   {
    "duration": 249,
    "start_time": "2022-05-25T08:35:49.692Z"
   },
   {
    "duration": 224,
    "start_time": "2022-05-25T08:35:59.428Z"
   },
   {
    "duration": 244,
    "start_time": "2022-05-25T08:36:37.080Z"
   },
   {
    "duration": 224,
    "start_time": "2022-05-25T08:37:12.569Z"
   },
   {
    "duration": 266,
    "start_time": "2022-05-25T08:37:57.988Z"
   },
   {
    "duration": 257,
    "start_time": "2022-05-25T08:39:35.626Z"
   },
   {
    "duration": 226,
    "start_time": "2022-05-25T08:42:27.254Z"
   },
   {
    "duration": 234,
    "start_time": "2022-05-25T08:43:41.329Z"
   },
   {
    "duration": 10,
    "start_time": "2022-05-25T08:45:50.480Z"
   },
   {
    "duration": 7,
    "start_time": "2022-05-25T08:45:57.317Z"
   },
   {
    "duration": 226,
    "start_time": "2022-05-25T08:46:39.363Z"
   },
   {
    "duration": 212,
    "start_time": "2022-05-25T08:46:47.452Z"
   },
   {
    "duration": 365,
    "start_time": "2022-05-25T08:47:17.920Z"
   },
   {
    "duration": 369,
    "start_time": "2022-05-25T08:47:26.588Z"
   },
   {
    "duration": 313,
    "start_time": "2022-05-25T08:52:46.843Z"
   },
   {
    "duration": 6,
    "start_time": "2022-05-25T08:54:00.958Z"
   },
   {
    "duration": 249,
    "start_time": "2022-05-25T08:54:16.503Z"
   },
   {
    "duration": 228,
    "start_time": "2022-05-25T08:54:33.498Z"
   },
   {
    "duration": 243,
    "start_time": "2022-05-25T08:54:52.555Z"
   },
   {
    "duration": 7,
    "start_time": "2022-05-25T08:55:05.823Z"
   },
   {
    "duration": 383,
    "start_time": "2022-05-25T08:55:07.275Z"
   },
   {
    "duration": 278,
    "start_time": "2022-05-25T08:56:20.323Z"
   },
   {
    "duration": 319,
    "start_time": "2022-05-25T09:05:48.155Z"
   },
   {
    "duration": 4,
    "start_time": "2022-05-25T09:08:00.879Z"
   },
   {
    "duration": 12,
    "start_time": "2022-05-25T09:09:10.223Z"
   },
   {
    "duration": 9,
    "start_time": "2022-05-25T09:09:17.782Z"
   },
   {
    "duration": 319,
    "start_time": "2022-05-25T09:09:41.875Z"
   },
   {
    "duration": 8,
    "start_time": "2022-05-25T09:10:41.022Z"
   },
   {
    "duration": 380,
    "start_time": "2022-05-25T09:11:03.915Z"
   },
   {
    "duration": 8,
    "start_time": "2022-05-25T09:14:46.026Z"
   },
   {
    "duration": 150,
    "start_time": "2022-05-25T09:15:20.290Z"
   },
   {
    "duration": 11,
    "start_time": "2022-05-25T09:15:25.635Z"
   },
   {
    "duration": 170,
    "start_time": "2022-05-25T09:15:47.199Z"
   },
   {
    "duration": 9,
    "start_time": "2022-05-25T09:15:59.658Z"
   },
   {
    "duration": 23,
    "start_time": "2022-05-25T09:16:41.824Z"
   },
   {
    "duration": 8,
    "start_time": "2022-05-25T09:16:47.130Z"
   },
   {
    "duration": 9,
    "start_time": "2022-05-25T09:16:48.274Z"
   },
   {
    "duration": 158,
    "start_time": "2022-05-25T09:17:21.266Z"
   },
   {
    "duration": 8,
    "start_time": "2022-05-25T09:20:16.189Z"
   },
   {
    "duration": 137,
    "start_time": "2022-05-25T09:20:33.490Z"
   },
   {
    "duration": 11,
    "start_time": "2022-05-25T09:35:56.204Z"
   },
   {
    "duration": 135,
    "start_time": "2022-05-25T09:35:56.896Z"
   },
   {
    "duration": 6,
    "start_time": "2022-05-25T09:36:25.915Z"
   },
   {
    "duration": 6,
    "start_time": "2022-05-25T09:36:35.161Z"
   },
   {
    "duration": 5,
    "start_time": "2022-05-25T09:37:07.489Z"
   },
   {
    "duration": 149,
    "start_time": "2022-05-25T09:40:03.201Z"
   },
   {
    "duration": 7,
    "start_time": "2022-05-25T09:41:19.841Z"
   },
   {
    "duration": 6,
    "start_time": "2022-05-25T09:43:15.968Z"
   },
   {
    "duration": 7,
    "start_time": "2022-05-25T09:43:23.259Z"
   },
   {
    "duration": 1443,
    "start_time": "2022-05-27T06:33:13.908Z"
   },
   {
    "duration": 61,
    "start_time": "2022-05-27T06:33:15.355Z"
   },
   {
    "duration": 18,
    "start_time": "2022-05-27T06:33:15.418Z"
   },
   {
    "duration": 25,
    "start_time": "2022-05-27T06:33:15.439Z"
   },
   {
    "duration": 13,
    "start_time": "2022-05-27T06:33:15.466Z"
   },
   {
    "duration": 162,
    "start_time": "2022-05-27T06:33:15.480Z"
   },
   {
    "duration": 29,
    "start_time": "2022-05-27T06:33:15.647Z"
   },
   {
    "duration": 37,
    "start_time": "2022-05-27T06:33:15.678Z"
   },
   {
    "duration": 7,
    "start_time": "2022-05-27T06:33:15.717Z"
   },
   {
    "duration": 44,
    "start_time": "2022-05-27T06:33:15.732Z"
   },
   {
    "duration": 324,
    "start_time": "2022-05-27T06:33:15.778Z"
   },
   {
    "duration": 5,
    "start_time": "2022-05-27T06:33:16.103Z"
   },
   {
    "duration": 439,
    "start_time": "2022-05-27T06:33:16.109Z"
   },
   {
    "duration": 330,
    "start_time": "2022-05-27T06:33:16.550Z"
   },
   {
    "duration": 6,
    "start_time": "2022-05-27T06:33:16.882Z"
   },
   {
    "duration": 380,
    "start_time": "2022-05-27T06:33:16.890Z"
   },
   {
    "duration": 11,
    "start_time": "2022-05-27T06:33:17.272Z"
   },
   {
    "duration": 277,
    "start_time": "2022-05-27T06:33:17.285Z"
   },
   {
    "duration": 7,
    "start_time": "2022-05-27T06:33:17.565Z"
   },
   {
    "duration": 249,
    "start_time": "2022-05-27T06:33:17.574Z"
   },
   {
    "duration": 0,
    "start_time": "2022-05-27T06:33:17.825Z"
   },
   {
    "duration": 0,
    "start_time": "2022-05-27T06:33:17.830Z"
   },
   {
    "duration": 0,
    "start_time": "2022-05-27T06:33:17.830Z"
   },
   {
    "duration": 0,
    "start_time": "2022-05-27T06:33:17.831Z"
   },
   {
    "duration": 0,
    "start_time": "2022-05-27T06:33:17.831Z"
   },
   {
    "duration": 320,
    "start_time": "2022-05-27T06:33:50.754Z"
   },
   {
    "duration": 7,
    "start_time": "2022-05-27T06:33:55.090Z"
   },
   {
    "duration": 147,
    "start_time": "2022-05-27T06:33:55.912Z"
   },
   {
    "duration": 6,
    "start_time": "2022-05-27T06:33:58.966Z"
   },
   {
    "duration": 131,
    "start_time": "2022-05-27T06:34:00.100Z"
   },
   {
    "duration": 6,
    "start_time": "2022-05-27T06:34:02.065Z"
   },
   {
    "duration": 4,
    "start_time": "2022-05-27T06:37:48.903Z"
   },
   {
    "duration": 30,
    "start_time": "2022-05-27T06:38:59.423Z"
   },
   {
    "duration": 7,
    "start_time": "2022-05-27T06:39:17.863Z"
   },
   {
    "duration": 14,
    "start_time": "2022-05-27T06:39:28.930Z"
   },
   {
    "duration": 10,
    "start_time": "2022-05-27T06:40:55.112Z"
   },
   {
    "duration": 10,
    "start_time": "2022-05-27T06:46:10.700Z"
   },
   {
    "duration": 8,
    "start_time": "2022-05-27T06:46:14.508Z"
   },
   {
    "duration": 13,
    "start_time": "2022-05-27T06:46:49.188Z"
   },
   {
    "duration": 19,
    "start_time": "2022-05-27T06:47:08.430Z"
   },
   {
    "duration": 17,
    "start_time": "2022-05-27T06:47:10.524Z"
   },
   {
    "duration": 17,
    "start_time": "2022-05-27T06:48:31.377Z"
   },
   {
    "duration": 10,
    "start_time": "2022-05-27T06:48:49.115Z"
   },
   {
    "duration": 13,
    "start_time": "2022-05-27T06:48:49.469Z"
   },
   {
    "duration": 11,
    "start_time": "2022-05-27T06:48:55.899Z"
   },
   {
    "duration": 14,
    "start_time": "2022-05-27T06:48:57.780Z"
   },
   {
    "duration": 58,
    "start_time": "2022-05-27T06:50:09.499Z"
   },
   {
    "duration": 12,
    "start_time": "2022-05-27T06:50:18.378Z"
   },
   {
    "duration": 14,
    "start_time": "2022-05-27T06:50:19.567Z"
   },
   {
    "duration": 10,
    "start_time": "2022-05-27T06:51:21.066Z"
   },
   {
    "duration": 9,
    "start_time": "2022-05-27T06:53:04.514Z"
   },
   {
    "duration": 6,
    "start_time": "2022-05-27T06:53:05.113Z"
   },
   {
    "duration": 8,
    "start_time": "2022-05-27T06:53:13.455Z"
   },
   {
    "duration": 62,
    "start_time": "2022-05-27T06:53:15.446Z"
   },
   {
    "duration": 2,
    "start_time": "2022-05-27T06:53:45.216Z"
   },
   {
    "duration": 10,
    "start_time": "2022-05-27T06:55:09.658Z"
   },
   {
    "duration": 4,
    "start_time": "2022-05-27T06:55:16.585Z"
   },
   {
    "duration": 52,
    "start_time": "2022-05-27T06:55:21.549Z"
   },
   {
    "duration": 10,
    "start_time": "2022-05-27T06:55:35.800Z"
   },
   {
    "duration": 6,
    "start_time": "2022-05-27T07:05:10.542Z"
   },
   {
    "duration": 7,
    "start_time": "2022-05-27T07:11:36.394Z"
   },
   {
    "duration": 8,
    "start_time": "2022-05-27T07:12:16.041Z"
   },
   {
    "duration": 10,
    "start_time": "2022-05-27T07:12:23.379Z"
   },
   {
    "duration": 10,
    "start_time": "2022-05-27T07:12:42.344Z"
   },
   {
    "duration": 13,
    "start_time": "2022-05-27T07:14:40.465Z"
   },
   {
    "duration": 10,
    "start_time": "2022-05-27T07:14:54.793Z"
   },
   {
    "duration": 11,
    "start_time": "2022-05-27T07:15:14.142Z"
   },
   {
    "duration": 13,
    "start_time": "2022-05-27T07:15:46.024Z"
   },
   {
    "duration": 51,
    "start_time": "2022-05-27T07:15:55.464Z"
   },
   {
    "duration": 12,
    "start_time": "2022-05-27T07:17:45.368Z"
   },
   {
    "duration": 192,
    "start_time": "2022-05-27T10:10:03.411Z"
   },
   {
    "duration": 140,
    "start_time": "2022-05-27T10:10:07.491Z"
   },
   {
    "duration": 167,
    "start_time": "2022-05-27T10:10:22.811Z"
   },
   {
    "duration": 153,
    "start_time": "2022-05-27T10:12:02.150Z"
   },
   {
    "duration": 158,
    "start_time": "2022-05-27T10:12:35.251Z"
   },
   {
    "duration": 170,
    "start_time": "2022-05-27T10:12:49.220Z"
   },
   {
    "duration": 53,
    "start_time": "2022-05-27T10:45:16.677Z"
   },
   {
    "duration": 9,
    "start_time": "2022-05-27T10:49:22.404Z"
   },
   {
    "duration": 5,
    "start_time": "2022-05-27T10:50:01.707Z"
   },
   {
    "duration": 5,
    "start_time": "2022-05-27T10:50:18.268Z"
   },
   {
    "duration": 5,
    "start_time": "2022-05-27T11:01:18.561Z"
   },
   {
    "duration": 17,
    "start_time": "2022-05-27T11:01:23.321Z"
   },
   {
    "duration": 6,
    "start_time": "2022-05-27T11:01:29.593Z"
   },
   {
    "duration": 18,
    "start_time": "2022-05-27T11:01:50.521Z"
   },
   {
    "duration": 4,
    "start_time": "2022-05-27T11:02:10.596Z"
   },
   {
    "duration": 4,
    "start_time": "2022-05-27T11:02:18.418Z"
   },
   {
    "duration": 5,
    "start_time": "2022-05-27T11:02:22.439Z"
   },
   {
    "duration": 7,
    "start_time": "2022-05-27T11:03:48.185Z"
   },
   {
    "duration": 5,
    "start_time": "2022-05-27T11:03:52.873Z"
   },
   {
    "duration": 8,
    "start_time": "2022-05-27T11:04:01.849Z"
   },
   {
    "duration": 8,
    "start_time": "2022-05-27T11:04:05.863Z"
   },
   {
    "duration": 8,
    "start_time": "2022-05-27T11:04:59.985Z"
   },
   {
    "duration": 43,
    "start_time": "2022-05-27T11:05:01.025Z"
   },
   {
    "duration": 5,
    "start_time": "2022-05-27T11:05:01.760Z"
   },
   {
    "duration": 9,
    "start_time": "2022-05-27T11:05:04.472Z"
   },
   {
    "duration": 7,
    "start_time": "2022-05-27T11:05:05.140Z"
   },
   {
    "duration": 13,
    "start_time": "2022-05-27T11:05:08.784Z"
   },
   {
    "duration": 6,
    "start_time": "2022-05-27T11:05:09.376Z"
   },
   {
    "duration": 15,
    "start_time": "2022-05-27T11:05:10.824Z"
   },
   {
    "duration": 45,
    "start_time": "2022-05-27T11:05:12.808Z"
   },
   {
    "duration": 5,
    "start_time": "2022-05-27T11:05:23.377Z"
   },
   {
    "duration": 10,
    "start_time": "2022-05-27T11:07:36.440Z"
   },
   {
    "duration": 314,
    "start_time": "2022-05-27T11:16:31.887Z"
   },
   {
    "duration": 1252,
    "start_time": "2022-05-27T15:56:50.393Z"
   },
   {
    "duration": 66,
    "start_time": "2022-05-27T15:56:51.647Z"
   },
   {
    "duration": 19,
    "start_time": "2022-05-27T15:56:51.715Z"
   },
   {
    "duration": 12,
    "start_time": "2022-05-27T15:56:51.736Z"
   },
   {
    "duration": 6,
    "start_time": "2022-05-27T15:56:51.750Z"
   },
   {
    "duration": 131,
    "start_time": "2022-05-27T15:56:51.758Z"
   },
   {
    "duration": 20,
    "start_time": "2022-05-27T15:56:51.891Z"
   },
   {
    "duration": 24,
    "start_time": "2022-05-27T15:56:51.913Z"
   },
   {
    "duration": 7,
    "start_time": "2022-05-27T15:56:51.939Z"
   },
   {
    "duration": 11,
    "start_time": "2022-05-27T15:56:51.949Z"
   },
   {
    "duration": 300,
    "start_time": "2022-05-27T15:56:51.962Z"
   },
   {
    "duration": 6,
    "start_time": "2022-05-27T15:56:52.264Z"
   },
   {
    "duration": 345,
    "start_time": "2022-05-27T15:56:52.271Z"
   },
   {
    "duration": 294,
    "start_time": "2022-05-27T15:56:52.619Z"
   },
   {
    "duration": 6,
    "start_time": "2022-05-27T15:56:52.915Z"
   },
   {
    "duration": 318,
    "start_time": "2022-05-27T15:56:52.923Z"
   },
   {
    "duration": 7,
    "start_time": "2022-05-27T15:56:53.243Z"
   },
   {
    "duration": 228,
    "start_time": "2022-05-27T15:56:53.252Z"
   },
   {
    "duration": 8,
    "start_time": "2022-05-27T15:56:53.482Z"
   },
   {
    "duration": 341,
    "start_time": "2022-05-27T15:56:53.492Z"
   },
   {
    "duration": 8,
    "start_time": "2022-05-27T15:56:53.836Z"
   },
   {
    "duration": 137,
    "start_time": "2022-05-27T15:56:53.845Z"
   },
   {
    "duration": 6,
    "start_time": "2022-05-27T15:56:53.983Z"
   },
   {
    "duration": 152,
    "start_time": "2022-05-27T15:56:54.002Z"
   },
   {
    "duration": 159,
    "start_time": "2022-05-27T15:56:54.156Z"
   },
   {
    "duration": 6,
    "start_time": "2022-05-27T15:56:54.317Z"
   },
   {
    "duration": 11,
    "start_time": "2022-05-27T15:56:54.325Z"
   },
   {
    "duration": 14,
    "start_time": "2022-05-27T15:56:54.338Z"
   },
   {
    "duration": 6,
    "start_time": "2022-05-27T15:56:54.354Z"
   },
   {
    "duration": 44,
    "start_time": "2022-05-27T15:56:54.361Z"
   },
   {
    "duration": 5,
    "start_time": "2022-05-27T15:56:54.406Z"
   },
   {
    "duration": 11,
    "start_time": "2022-05-27T15:56:54.412Z"
   },
   {
    "duration": 7,
    "start_time": "2022-05-27T15:56:54.424Z"
   },
   {
    "duration": 14,
    "start_time": "2022-05-27T15:56:54.432Z"
   },
   {
    "duration": 28,
    "start_time": "2022-05-27T15:56:54.447Z"
   },
   {
    "duration": 22,
    "start_time": "2022-05-27T15:56:54.477Z"
   },
   {
    "duration": 28,
    "start_time": "2022-05-27T15:56:54.500Z"
   },
   {
    "duration": 5,
    "start_time": "2022-05-27T15:56:54.530Z"
   },
   {
    "duration": 12,
    "start_time": "2022-05-27T15:56:54.537Z"
   },
   {
    "duration": 9,
    "start_time": "2022-05-27T15:56:54.551Z"
   },
   {
    "duration": 323,
    "start_time": "2022-05-27T16:15:12.951Z"
   },
   {
    "duration": 6,
    "start_time": "2022-05-27T16:15:18.914Z"
   },
   {
    "duration": 223,
    "start_time": "2022-05-27T16:15:19.582Z"
   },
   {
    "duration": 336,
    "start_time": "2022-05-27T16:15:28.476Z"
   },
   {
    "duration": 6,
    "start_time": "2022-05-27T16:15:29.190Z"
   },
   {
    "duration": 258,
    "start_time": "2022-05-27T16:15:29.808Z"
   },
   {
    "duration": 1027,
    "start_time": "2022-05-27T16:50:04.625Z"
   },
   {
    "duration": 28,
    "start_time": "2022-05-27T16:50:05.654Z"
   },
   {
    "duration": 20,
    "start_time": "2022-05-27T16:50:05.683Z"
   },
   {
    "duration": 18,
    "start_time": "2022-05-27T16:50:05.705Z"
   },
   {
    "duration": 12,
    "start_time": "2022-05-27T16:50:05.726Z"
   },
   {
    "duration": 53,
    "start_time": "2022-05-27T16:50:05.741Z"
   },
   {
    "duration": 22,
    "start_time": "2022-05-27T16:50:05.797Z"
   },
   {
    "duration": 15,
    "start_time": "2022-05-27T16:50:05.820Z"
   },
   {
    "duration": 6,
    "start_time": "2022-05-27T16:50:05.836Z"
   },
   {
    "duration": 9,
    "start_time": "2022-05-27T16:50:05.845Z"
   },
   {
    "duration": 316,
    "start_time": "2022-05-27T16:50:05.856Z"
   },
   {
    "duration": 5,
    "start_time": "2022-05-27T16:50:06.173Z"
   },
   {
    "duration": 333,
    "start_time": "2022-05-27T16:50:06.181Z"
   },
   {
    "duration": 299,
    "start_time": "2022-05-27T16:50:06.516Z"
   },
   {
    "duration": 6,
    "start_time": "2022-05-27T16:50:06.817Z"
   },
   {
    "duration": 320,
    "start_time": "2022-05-27T16:50:06.825Z"
   },
   {
    "duration": 7,
    "start_time": "2022-05-27T16:50:07.147Z"
   },
   {
    "duration": 240,
    "start_time": "2022-05-27T16:50:07.156Z"
   },
   {
    "duration": 10,
    "start_time": "2022-05-27T16:50:07.402Z"
   },
   {
    "duration": 327,
    "start_time": "2022-05-27T16:50:07.413Z"
   },
   {
    "duration": 9,
    "start_time": "2022-05-27T16:50:07.742Z"
   },
   {
    "duration": 141,
    "start_time": "2022-05-27T16:50:07.753Z"
   },
   {
    "duration": 6,
    "start_time": "2022-05-27T16:50:07.901Z"
   },
   {
    "duration": 181,
    "start_time": "2022-05-27T16:50:07.909Z"
   },
   {
    "duration": 174,
    "start_time": "2022-05-27T16:50:08.092Z"
   },
   {
    "duration": 6,
    "start_time": "2022-05-27T16:50:08.268Z"
   },
   {
    "duration": 12,
    "start_time": "2022-05-27T16:50:08.276Z"
   },
   {
    "duration": 19,
    "start_time": "2022-05-27T16:50:08.303Z"
   },
   {
    "duration": 11,
    "start_time": "2022-05-27T16:50:08.325Z"
   },
   {
    "duration": 53,
    "start_time": "2022-05-27T16:50:08.338Z"
   },
   {
    "duration": 11,
    "start_time": "2022-05-27T16:50:08.395Z"
   },
   {
    "duration": 22,
    "start_time": "2022-05-27T16:50:08.408Z"
   },
   {
    "duration": 21,
    "start_time": "2022-05-27T16:50:08.432Z"
   },
   {
    "duration": 21,
    "start_time": "2022-05-27T16:50:08.456Z"
   },
   {
    "duration": 16,
    "start_time": "2022-05-27T16:50:08.479Z"
   },
   {
    "duration": 42,
    "start_time": "2022-05-27T16:50:08.497Z"
   },
   {
    "duration": 89,
    "start_time": "2022-05-27T16:50:08.541Z"
   },
   {
    "duration": 8,
    "start_time": "2022-05-27T16:50:08.632Z"
   },
   {
    "duration": 30,
    "start_time": "2022-05-27T16:50:08.642Z"
   },
   {
    "duration": 18,
    "start_time": "2022-05-27T16:50:08.674Z"
   },
   {
    "duration": 1216,
    "start_time": "2022-05-27T16:50:44.580Z"
   },
   {
    "duration": 28,
    "start_time": "2022-05-27T16:50:45.801Z"
   },
   {
    "duration": 17,
    "start_time": "2022-05-27T16:50:45.831Z"
   },
   {
    "duration": 13,
    "start_time": "2022-05-27T16:50:45.849Z"
   },
   {
    "duration": 8,
    "start_time": "2022-05-27T16:50:45.865Z"
   },
   {
    "duration": 56,
    "start_time": "2022-05-27T16:50:45.875Z"
   },
   {
    "duration": 24,
    "start_time": "2022-05-27T16:50:45.934Z"
   },
   {
    "duration": 19,
    "start_time": "2022-05-27T16:50:45.960Z"
   },
   {
    "duration": 8,
    "start_time": "2022-05-27T16:50:45.981Z"
   },
   {
    "duration": 14,
    "start_time": "2022-05-27T16:50:45.991Z"
   },
   {
    "duration": 356,
    "start_time": "2022-05-27T16:50:46.008Z"
   },
   {
    "duration": 6,
    "start_time": "2022-05-27T16:50:46.366Z"
   },
   {
    "duration": 364,
    "start_time": "2022-05-27T16:50:46.374Z"
   },
   {
    "duration": 333,
    "start_time": "2022-05-27T16:50:46.741Z"
   },
   {
    "duration": 11,
    "start_time": "2022-05-27T16:50:47.077Z"
   },
   {
    "duration": 344,
    "start_time": "2022-05-27T16:50:47.090Z"
   },
   {
    "duration": 10,
    "start_time": "2022-05-27T16:50:47.436Z"
   },
   {
    "duration": 233,
    "start_time": "2022-05-27T16:50:47.448Z"
   },
   {
    "duration": 23,
    "start_time": "2022-05-27T16:50:47.683Z"
   },
   {
    "duration": 332,
    "start_time": "2022-05-27T16:50:47.708Z"
   },
   {
    "duration": 9,
    "start_time": "2022-05-27T16:50:48.042Z"
   },
   {
    "duration": 174,
    "start_time": "2022-05-27T16:50:48.053Z"
   },
   {
    "duration": 5,
    "start_time": "2022-05-27T16:50:48.229Z"
   },
   {
    "duration": 196,
    "start_time": "2022-05-27T16:50:48.236Z"
   },
   {
    "duration": 174,
    "start_time": "2022-05-27T16:50:48.434Z"
   },
   {
    "duration": 12,
    "start_time": "2022-05-27T16:50:48.610Z"
   },
   {
    "duration": 3,
    "start_time": "2022-05-27T16:50:48.624Z"
   },
   {
    "duration": 15,
    "start_time": "2022-05-27T16:50:48.629Z"
   },
   {
    "duration": 10,
    "start_time": "2022-05-27T16:50:48.646Z"
   },
   {
    "duration": 70,
    "start_time": "2022-05-27T16:50:48.658Z"
   },
   {
    "duration": 5,
    "start_time": "2022-05-27T16:50:48.730Z"
   },
   {
    "duration": 10,
    "start_time": "2022-05-27T16:50:48.737Z"
   },
   {
    "duration": 7,
    "start_time": "2022-05-27T16:50:48.749Z"
   },
   {
    "duration": 14,
    "start_time": "2022-05-27T16:50:48.758Z"
   },
   {
    "duration": 33,
    "start_time": "2022-05-27T16:50:48.773Z"
   },
   {
    "duration": 11,
    "start_time": "2022-05-27T16:50:48.809Z"
   },
   {
    "duration": 51,
    "start_time": "2022-05-27T16:50:48.822Z"
   },
   {
    "duration": 29,
    "start_time": "2022-05-27T16:50:48.875Z"
   },
   {
    "duration": 11,
    "start_time": "2022-05-27T16:50:48.906Z"
   },
   {
    "duration": 16,
    "start_time": "2022-05-27T16:50:48.919Z"
   },
   {
    "duration": 56,
    "start_time": "2022-05-29T18:49:46.340Z"
   },
   {
    "duration": 1281,
    "start_time": "2022-05-29T18:49:48.648Z"
   },
   {
    "duration": 4,
    "start_time": "2022-05-29T18:49:49.931Z"
   },
   {
    "duration": 3,
    "start_time": "2022-05-29T18:49:55.990Z"
   },
   {
    "duration": 5,
    "start_time": "2022-05-29T18:49:55.995Z"
   },
   {
    "duration": 71,
    "start_time": "2022-05-29T18:49:56.002Z"
   },
   {
    "duration": 16,
    "start_time": "2022-05-29T18:49:56.075Z"
   },
   {
    "duration": 12,
    "start_time": "2022-05-29T18:49:56.093Z"
   },
   {
    "duration": 6,
    "start_time": "2022-05-29T18:49:56.107Z"
   },
   {
    "duration": 122,
    "start_time": "2022-05-29T18:49:56.114Z"
   },
   {
    "duration": 18,
    "start_time": "2022-05-29T18:49:56.238Z"
   },
   {
    "duration": 18,
    "start_time": "2022-05-29T18:49:56.257Z"
   },
   {
    "duration": 7,
    "start_time": "2022-05-29T18:49:56.277Z"
   },
   {
    "duration": 7,
    "start_time": "2022-05-29T18:49:56.286Z"
   },
   {
    "duration": 286,
    "start_time": "2022-05-29T18:49:56.296Z"
   },
   {
    "duration": 4,
    "start_time": "2022-05-29T18:49:56.584Z"
   },
   {
    "duration": 343,
    "start_time": "2022-05-29T18:49:56.590Z"
   },
   {
    "duration": 350,
    "start_time": "2022-05-29T18:49:56.934Z"
   },
   {
    "duration": 7,
    "start_time": "2022-05-29T18:49:57.285Z"
   },
   {
    "duration": 401,
    "start_time": "2022-05-29T18:49:57.293Z"
   },
   {
    "duration": 7,
    "start_time": "2022-05-29T18:49:57.696Z"
   },
   {
    "duration": 244,
    "start_time": "2022-05-29T18:49:57.705Z"
   },
   {
    "duration": 7,
    "start_time": "2022-05-29T18:49:57.951Z"
   },
   {
    "duration": 320,
    "start_time": "2022-05-29T18:49:57.960Z"
   },
   {
    "duration": 7,
    "start_time": "2022-05-29T18:49:58.282Z"
   },
   {
    "duration": 135,
    "start_time": "2022-05-29T18:49:58.291Z"
   },
   {
    "duration": 16,
    "start_time": "2022-05-29T18:49:58.428Z"
   },
   {
    "duration": 165,
    "start_time": "2022-05-29T18:49:58.446Z"
   },
   {
    "duration": 152,
    "start_time": "2022-05-29T18:49:58.613Z"
   },
   {
    "duration": 4,
    "start_time": "2022-05-29T18:49:58.767Z"
   },
   {
    "duration": 3,
    "start_time": "2022-05-29T18:49:58.773Z"
   },
   {
    "duration": 14,
    "start_time": "2022-05-29T18:49:58.778Z"
   },
   {
    "duration": 7,
    "start_time": "2022-05-29T18:49:58.794Z"
   },
   {
    "duration": 49,
    "start_time": "2022-05-29T18:49:58.802Z"
   },
   {
    "duration": 6,
    "start_time": "2022-05-29T18:49:58.853Z"
   },
   {
    "duration": 12,
    "start_time": "2022-05-29T18:49:58.860Z"
   },
   {
    "duration": 8,
    "start_time": "2022-05-29T18:49:58.874Z"
   },
   {
    "duration": 11,
    "start_time": "2022-05-29T18:49:58.883Z"
   },
   {
    "duration": 10,
    "start_time": "2022-05-29T18:49:58.896Z"
   },
   {
    "duration": 39,
    "start_time": "2022-05-29T18:49:58.907Z"
   },
   {
    "duration": 27,
    "start_time": "2022-05-29T18:49:58.948Z"
   },
   {
    "duration": 4,
    "start_time": "2022-05-29T18:49:58.977Z"
   },
   {
    "duration": 9,
    "start_time": "2022-05-29T18:49:58.983Z"
   },
   {
    "duration": 8,
    "start_time": "2022-05-29T18:49:58.994Z"
   },
   {
    "duration": 8,
    "start_time": "2022-05-29T18:51:21.142Z"
   },
   {
    "duration": 6,
    "start_time": "2022-05-29T18:51:42.537Z"
   },
   {
    "duration": 6,
    "start_time": "2022-05-29T18:52:12.864Z"
   },
   {
    "duration": 7,
    "start_time": "2022-05-29T18:52:16.479Z"
   },
   {
    "duration": 3,
    "start_time": "2022-05-29T18:54:46.358Z"
   },
   {
    "duration": 73,
    "start_time": "2022-05-29T18:54:50.282Z"
   },
   {
    "duration": 3,
    "start_time": "2022-05-29T18:55:00.912Z"
   },
   {
    "duration": 18,
    "start_time": "2022-05-29T18:55:03.878Z"
   },
   {
    "duration": 4,
    "start_time": "2022-05-29T18:55:35.613Z"
   },
   {
    "duration": 28,
    "start_time": "2022-05-29T18:55:39.416Z"
   },
   {
    "duration": 6,
    "start_time": "2022-05-29T18:56:29.593Z"
   },
   {
    "duration": 6,
    "start_time": "2022-05-29T18:56:34.130Z"
   },
   {
    "duration": 7,
    "start_time": "2022-05-29T18:56:39.253Z"
   },
   {
    "duration": 3,
    "start_time": "2022-05-29T18:56:59.355Z"
   },
   {
    "duration": 20,
    "start_time": "2022-05-29T18:57:02.249Z"
   },
   {
    "duration": 18,
    "start_time": "2022-05-29T18:57:04.173Z"
   },
   {
    "duration": 14,
    "start_time": "2022-05-29T18:57:41.464Z"
   },
   {
    "duration": 7,
    "start_time": "2022-05-29T18:57:55.705Z"
   },
   {
    "duration": 9,
    "start_time": "2022-05-29T18:58:01.250Z"
   },
   {
    "duration": 14,
    "start_time": "2022-05-29T19:00:01.190Z"
   },
   {
    "duration": 13,
    "start_time": "2022-05-29T19:00:20.243Z"
   },
   {
    "duration": 14,
    "start_time": "2022-05-29T19:00:24.014Z"
   },
   {
    "duration": 13,
    "start_time": "2022-05-29T19:00:33.527Z"
   },
   {
    "duration": 15,
    "start_time": "2022-05-29T19:00:37.196Z"
   },
   {
    "duration": 10,
    "start_time": "2022-05-29T19:01:24.265Z"
   },
   {
    "duration": 10,
    "start_time": "2022-05-29T19:01:47.073Z"
   },
   {
    "duration": 165,
    "start_time": "2022-05-29T19:08:12.801Z"
   },
   {
    "duration": 32,
    "start_time": "2022-05-29T19:11:26.586Z"
   },
   {
    "duration": 15,
    "start_time": "2022-05-29T19:11:40.353Z"
   },
   {
    "duration": 19,
    "start_time": "2022-05-29T19:12:10.474Z"
   },
   {
    "duration": 187,
    "start_time": "2022-05-29T19:15:39.678Z"
   },
   {
    "duration": 269,
    "start_time": "2022-05-29T19:17:13.436Z"
   },
   {
    "duration": 5,
    "start_time": "2022-05-29T19:17:26.544Z"
   },
   {
    "duration": 209,
    "start_time": "2022-05-29T19:17:27.314Z"
   },
   {
    "duration": 228,
    "start_time": "2022-05-29T19:17:50.632Z"
   },
   {
    "duration": 298,
    "start_time": "2022-05-29T19:18:00.962Z"
   },
   {
    "duration": 206,
    "start_time": "2022-05-29T19:18:11.835Z"
   },
   {
    "duration": 3,
    "start_time": "2022-05-29T19:19:11.437Z"
   },
   {
    "duration": 3,
    "start_time": "2022-05-29T19:19:11.444Z"
   },
   {
    "duration": 27,
    "start_time": "2022-05-29T19:19:11.450Z"
   },
   {
    "duration": 11,
    "start_time": "2022-05-29T19:19:11.479Z"
   },
   {
    "duration": 15,
    "start_time": "2022-05-29T19:19:11.491Z"
   },
   {
    "duration": 4,
    "start_time": "2022-05-29T19:19:11.508Z"
   },
   {
    "duration": 59,
    "start_time": "2022-05-29T19:19:11.514Z"
   },
   {
    "duration": 18,
    "start_time": "2022-05-29T19:19:11.574Z"
   },
   {
    "duration": 16,
    "start_time": "2022-05-29T19:19:11.594Z"
   },
   {
    "duration": 5,
    "start_time": "2022-05-29T19:19:11.612Z"
   },
   {
    "duration": 29,
    "start_time": "2022-05-29T19:19:11.620Z"
   },
   {
    "duration": 9,
    "start_time": "2022-05-29T19:19:11.651Z"
   },
   {
    "duration": 6,
    "start_time": "2022-05-29T19:19:11.662Z"
   },
   {
    "duration": 282,
    "start_time": "2022-05-29T19:19:11.670Z"
   },
   {
    "duration": 5,
    "start_time": "2022-05-29T19:19:11.954Z"
   },
   {
    "duration": 217,
    "start_time": "2022-05-29T19:19:11.961Z"
   },
   {
    "duration": 222,
    "start_time": "2022-05-29T19:19:12.179Z"
   },
   {
    "duration": 6,
    "start_time": "2022-05-29T19:19:12.402Z"
   },
   {
    "duration": 346,
    "start_time": "2022-05-29T19:19:12.410Z"
   },
   {
    "duration": 7,
    "start_time": "2022-05-29T19:19:12.758Z"
   },
   {
    "duration": 244,
    "start_time": "2022-05-29T19:19:12.767Z"
   },
   {
    "duration": 7,
    "start_time": "2022-05-29T19:19:13.012Z"
   },
   {
    "duration": 347,
    "start_time": "2022-05-29T19:19:13.021Z"
   },
   {
    "duration": 6,
    "start_time": "2022-05-29T19:19:13.371Z"
   },
   {
    "duration": 129,
    "start_time": "2022-05-29T19:19:13.379Z"
   },
   {
    "duration": 5,
    "start_time": "2022-05-29T19:19:13.510Z"
   },
   {
    "duration": 149,
    "start_time": "2022-05-29T19:19:13.517Z"
   },
   {
    "duration": 153,
    "start_time": "2022-05-29T19:19:13.668Z"
   },
   {
    "duration": 6,
    "start_time": "2022-05-29T19:19:13.823Z"
   },
   {
    "duration": 3,
    "start_time": "2022-05-29T19:19:13.840Z"
   },
   {
    "duration": 13,
    "start_time": "2022-05-29T19:19:13.844Z"
   },
   {
    "duration": 8,
    "start_time": "2022-05-29T19:19:13.859Z"
   },
   {
    "duration": 26,
    "start_time": "2022-05-29T19:19:13.868Z"
   },
   {
    "duration": 4,
    "start_time": "2022-05-29T19:19:13.896Z"
   },
   {
    "duration": 13,
    "start_time": "2022-05-29T19:19:13.901Z"
   },
   {
    "duration": 31,
    "start_time": "2022-05-29T19:19:13.915Z"
   },
   {
    "duration": 9,
    "start_time": "2022-05-29T19:19:13.947Z"
   },
   {
    "duration": 5,
    "start_time": "2022-05-29T19:19:13.958Z"
   },
   {
    "duration": 8,
    "start_time": "2022-05-29T19:19:13.964Z"
   },
   {
    "duration": 26,
    "start_time": "2022-05-29T19:19:13.973Z"
   },
   {
    "duration": 5,
    "start_time": "2022-05-29T19:19:14.000Z"
   },
   {
    "duration": 40,
    "start_time": "2022-05-29T19:19:14.006Z"
   },
   {
    "duration": 20,
    "start_time": "2022-05-29T19:19:14.047Z"
   },
   {
    "duration": 10,
    "start_time": "2022-05-29T19:48:27.214Z"
   },
   {
    "duration": 13,
    "start_time": "2022-05-29T19:48:46.480Z"
   },
   {
    "duration": 17,
    "start_time": "2022-05-29T19:49:05.033Z"
   },
   {
    "duration": 12,
    "start_time": "2022-05-29T19:49:54.272Z"
   },
   {
    "duration": 11,
    "start_time": "2022-05-29T19:50:40.672Z"
   },
   {
    "duration": 222,
    "start_time": "2022-05-29T19:54:53.805Z"
   },
   {
    "duration": 243,
    "start_time": "2022-05-29T19:54:59.820Z"
   },
   {
    "duration": 219,
    "start_time": "2022-05-29T19:56:11.293Z"
   },
   {
    "duration": 226,
    "start_time": "2022-05-29T19:56:47.571Z"
   },
   {
    "duration": 146,
    "start_time": "2022-05-29T19:57:26.813Z"
   },
   {
    "duration": 123,
    "start_time": "2022-05-29T19:59:54.099Z"
   },
   {
    "duration": 123,
    "start_time": "2022-05-29T20:00:16.751Z"
   },
   {
    "duration": 127,
    "start_time": "2022-05-29T20:01:03.254Z"
   },
   {
    "duration": 154,
    "start_time": "2022-05-29T20:02:33.016Z"
   },
   {
    "duration": 204,
    "start_time": "2022-05-29T20:02:56.901Z"
   },
   {
    "duration": 66,
    "start_time": "2022-05-30T05:36:29.435Z"
   },
   {
    "duration": 1017,
    "start_time": "2022-05-30T05:36:34.177Z"
   },
   {
    "duration": 3,
    "start_time": "2022-05-30T05:36:35.196Z"
   },
   {
    "duration": 32,
    "start_time": "2022-05-30T05:36:35.200Z"
   },
   {
    "duration": 17,
    "start_time": "2022-05-30T05:36:35.234Z"
   },
   {
    "duration": 13,
    "start_time": "2022-05-30T05:36:35.253Z"
   },
   {
    "duration": 5,
    "start_time": "2022-05-30T05:36:35.267Z"
   },
   {
    "duration": 53,
    "start_time": "2022-05-30T05:36:35.273Z"
   },
   {
    "duration": 20,
    "start_time": "2022-05-30T05:36:35.327Z"
   },
   {
    "duration": 23,
    "start_time": "2022-05-30T05:36:35.349Z"
   },
   {
    "duration": 6,
    "start_time": "2022-05-30T05:36:35.374Z"
   },
   {
    "duration": 46,
    "start_time": "2022-05-30T05:36:35.382Z"
   },
   {
    "duration": 5,
    "start_time": "2022-05-30T05:36:35.430Z"
   },
   {
    "duration": 277,
    "start_time": "2022-05-30T05:36:35.437Z"
   },
   {
    "duration": 5,
    "start_time": "2022-05-30T05:36:35.727Z"
   },
   {
    "duration": 310,
    "start_time": "2022-05-30T05:36:35.733Z"
   },
   {
    "duration": 318,
    "start_time": "2022-05-30T05:36:36.045Z"
   },
   {
    "duration": 7,
    "start_time": "2022-05-30T05:36:36.365Z"
   },
   {
    "duration": 307,
    "start_time": "2022-05-30T05:36:36.374Z"
   },
   {
    "duration": 7,
    "start_time": "2022-05-30T05:36:36.683Z"
   },
   {
    "duration": 10,
    "start_time": "2022-05-30T05:36:36.691Z"
   },
   {
    "duration": 224,
    "start_time": "2022-05-30T05:36:36.702Z"
   },
   {
    "duration": 6,
    "start_time": "2022-05-30T05:36:36.927Z"
   },
   {
    "duration": 300,
    "start_time": "2022-05-30T05:36:36.935Z"
   },
   {
    "duration": 7,
    "start_time": "2022-05-30T05:36:37.237Z"
   },
   {
    "duration": 137,
    "start_time": "2022-05-30T05:36:37.245Z"
   },
   {
    "duration": 5,
    "start_time": "2022-05-30T05:36:37.384Z"
   },
   {
    "duration": 165,
    "start_time": "2022-05-30T05:36:37.391Z"
   },
   {
    "duration": 163,
    "start_time": "2022-05-30T05:36:37.558Z"
   },
   {
    "duration": 5,
    "start_time": "2022-05-30T05:36:37.727Z"
   },
   {
    "duration": 7,
    "start_time": "2022-05-30T05:36:37.734Z"
   },
   {
    "duration": 18,
    "start_time": "2022-05-30T05:36:37.742Z"
   },
   {
    "duration": 8,
    "start_time": "2022-05-30T05:36:37.762Z"
   },
   {
    "duration": 29,
    "start_time": "2022-05-30T05:36:37.772Z"
   },
   {
    "duration": 24,
    "start_time": "2022-05-30T05:36:37.803Z"
   },
   {
    "duration": 9,
    "start_time": "2022-05-30T05:36:37.829Z"
   },
   {
    "duration": 8,
    "start_time": "2022-05-30T05:36:37.840Z"
   },
   {
    "duration": 14,
    "start_time": "2022-05-30T05:36:37.850Z"
   },
   {
    "duration": 5,
    "start_time": "2022-05-30T05:36:37.866Z"
   },
   {
    "duration": 9,
    "start_time": "2022-05-30T05:36:37.873Z"
   },
   {
    "duration": 59,
    "start_time": "2022-05-30T05:36:37.884Z"
   },
   {
    "duration": 5,
    "start_time": "2022-05-30T05:36:37.946Z"
   },
   {
    "duration": 12,
    "start_time": "2022-05-30T05:36:37.952Z"
   },
   {
    "duration": 9,
    "start_time": "2022-05-30T05:36:37.965Z"
   },
   {
    "duration": 12,
    "start_time": "2022-05-30T05:39:00.296Z"
   },
   {
    "duration": 7,
    "start_time": "2022-05-30T05:39:50.983Z"
   },
   {
    "duration": 220,
    "start_time": "2022-05-30T05:39:53.352Z"
   },
   {
    "duration": 1135,
    "start_time": "2022-05-30T05:44:40.786Z"
   },
   {
    "duration": 6,
    "start_time": "2022-05-30T05:44:41.923Z"
   },
   {
    "duration": 33,
    "start_time": "2022-05-30T05:44:41.931Z"
   },
   {
    "duration": 21,
    "start_time": "2022-05-30T05:44:41.966Z"
   },
   {
    "duration": 14,
    "start_time": "2022-05-30T05:44:41.990Z"
   },
   {
    "duration": 4,
    "start_time": "2022-05-30T05:44:42.006Z"
   },
   {
    "duration": 59,
    "start_time": "2022-05-30T05:44:42.012Z"
   },
   {
    "duration": 26,
    "start_time": "2022-05-30T05:44:42.073Z"
   },
   {
    "duration": 18,
    "start_time": "2022-05-30T05:44:42.101Z"
   },
   {
    "duration": 6,
    "start_time": "2022-05-30T05:44:42.120Z"
   },
   {
    "duration": 17,
    "start_time": "2022-05-30T05:44:42.128Z"
   },
   {
    "duration": 6,
    "start_time": "2022-05-30T05:44:42.147Z"
   },
   {
    "duration": 273,
    "start_time": "2022-05-30T05:44:42.154Z"
   },
   {
    "duration": 4,
    "start_time": "2022-05-30T05:44:42.430Z"
   },
   {
    "duration": 356,
    "start_time": "2022-05-30T05:44:42.436Z"
   },
   {
    "duration": 293,
    "start_time": "2022-05-30T05:44:42.794Z"
   },
   {
    "duration": 6,
    "start_time": "2022-05-30T05:44:43.089Z"
   },
   {
    "duration": 352,
    "start_time": "2022-05-30T05:44:43.097Z"
   },
   {
    "duration": 7,
    "start_time": "2022-05-30T05:44:43.451Z"
   },
   {
    "duration": 251,
    "start_time": "2022-05-30T05:44:43.460Z"
   },
   {
    "duration": 14,
    "start_time": "2022-05-30T05:44:43.713Z"
   },
   {
    "duration": 307,
    "start_time": "2022-05-30T05:44:43.729Z"
   },
   {
    "duration": 5,
    "start_time": "2022-05-30T05:44:44.039Z"
   },
   {
    "duration": 143,
    "start_time": "2022-05-30T05:44:44.046Z"
   },
   {
    "duration": 5,
    "start_time": "2022-05-30T05:44:44.191Z"
   },
   {
    "duration": 186,
    "start_time": "2022-05-30T05:44:44.197Z"
   },
   {
    "duration": 171,
    "start_time": "2022-05-30T05:44:44.385Z"
   },
   {
    "duration": 5,
    "start_time": "2022-05-30T05:44:44.558Z"
   },
   {
    "duration": 5,
    "start_time": "2022-05-30T05:44:44.564Z"
   },
   {
    "duration": 12,
    "start_time": "2022-05-30T05:44:44.571Z"
   },
   {
    "duration": 10,
    "start_time": "2022-05-30T05:44:44.584Z"
   },
   {
    "duration": 71,
    "start_time": "2022-05-30T05:44:44.595Z"
   },
   {
    "duration": 6,
    "start_time": "2022-05-30T05:44:44.668Z"
   },
   {
    "duration": 21,
    "start_time": "2022-05-30T05:44:44.676Z"
   },
   {
    "duration": 15,
    "start_time": "2022-05-30T05:44:44.699Z"
   },
   {
    "duration": 13,
    "start_time": "2022-05-30T05:44:44.715Z"
   },
   {
    "duration": 14,
    "start_time": "2022-05-30T05:44:44.731Z"
   },
   {
    "duration": 10,
    "start_time": "2022-05-30T05:44:44.746Z"
   },
   {
    "duration": 44,
    "start_time": "2022-05-30T05:44:44.758Z"
   },
   {
    "duration": 5,
    "start_time": "2022-05-30T05:44:44.804Z"
   },
   {
    "duration": 19,
    "start_time": "2022-05-30T05:44:44.827Z"
   },
   {
    "duration": 26,
    "start_time": "2022-05-30T05:44:44.848Z"
   },
   {
    "duration": 1137,
    "start_time": "2022-05-30T05:46:09.028Z"
   },
   {
    "duration": 3,
    "start_time": "2022-05-30T05:46:10.167Z"
   },
   {
    "duration": 36,
    "start_time": "2022-05-30T05:46:10.171Z"
   },
   {
    "duration": 16,
    "start_time": "2022-05-30T05:46:10.209Z"
   },
   {
    "duration": 12,
    "start_time": "2022-05-30T05:46:10.226Z"
   },
   {
    "duration": 12,
    "start_time": "2022-05-30T05:46:10.239Z"
   },
   {
    "duration": 55,
    "start_time": "2022-05-30T05:46:10.253Z"
   },
   {
    "duration": 21,
    "start_time": "2022-05-30T05:46:10.309Z"
   },
   {
    "duration": 17,
    "start_time": "2022-05-30T05:46:10.331Z"
   },
   {
    "duration": 6,
    "start_time": "2022-05-30T05:46:10.351Z"
   },
   {
    "duration": 16,
    "start_time": "2022-05-30T05:46:10.359Z"
   },
   {
    "duration": 10,
    "start_time": "2022-05-30T05:46:10.376Z"
   },
   {
    "duration": 294,
    "start_time": "2022-05-30T05:46:10.388Z"
   },
   {
    "duration": 4,
    "start_time": "2022-05-30T05:46:10.684Z"
   },
   {
    "duration": 363,
    "start_time": "2022-05-30T05:46:10.690Z"
   },
   {
    "duration": 279,
    "start_time": "2022-05-30T05:46:11.054Z"
   },
   {
    "duration": 6,
    "start_time": "2022-05-30T05:46:11.335Z"
   },
   {
    "duration": 301,
    "start_time": "2022-05-30T05:46:11.343Z"
   },
   {
    "duration": 7,
    "start_time": "2022-05-30T05:46:11.646Z"
   },
   {
    "duration": 237,
    "start_time": "2022-05-30T05:46:11.655Z"
   },
   {
    "duration": 8,
    "start_time": "2022-05-30T05:46:11.894Z"
   },
   {
    "duration": 315,
    "start_time": "2022-05-30T05:46:11.903Z"
   },
   {
    "duration": 12,
    "start_time": "2022-05-30T05:46:12.219Z"
   },
   {
    "duration": 129,
    "start_time": "2022-05-30T05:46:12.233Z"
   },
   {
    "duration": 5,
    "start_time": "2022-05-30T05:46:12.364Z"
   },
   {
    "duration": 175,
    "start_time": "2022-05-30T05:46:12.370Z"
   },
   {
    "duration": 189,
    "start_time": "2022-05-30T05:46:12.548Z"
   },
   {
    "duration": 5,
    "start_time": "2022-05-30T05:46:12.743Z"
   },
   {
    "duration": 6,
    "start_time": "2022-05-30T05:46:12.749Z"
   },
   {
    "duration": 15,
    "start_time": "2022-05-30T05:46:12.756Z"
   },
   {
    "duration": 6,
    "start_time": "2022-05-30T05:46:12.772Z"
   },
   {
    "duration": 49,
    "start_time": "2022-05-30T05:46:12.780Z"
   },
   {
    "duration": 4,
    "start_time": "2022-05-30T05:46:12.831Z"
   },
   {
    "duration": 11,
    "start_time": "2022-05-30T05:46:12.837Z"
   },
   {
    "duration": 7,
    "start_time": "2022-05-30T05:46:12.849Z"
   },
   {
    "duration": 9,
    "start_time": "2022-05-30T05:46:12.857Z"
   },
   {
    "duration": 6,
    "start_time": "2022-05-30T05:46:12.867Z"
   },
   {
    "duration": 9,
    "start_time": "2022-05-30T05:46:12.874Z"
   },
   {
    "duration": 57,
    "start_time": "2022-05-30T05:46:12.884Z"
   },
   {
    "duration": 4,
    "start_time": "2022-05-30T05:46:12.943Z"
   },
   {
    "duration": 11,
    "start_time": "2022-05-30T05:46:12.948Z"
   },
   {
    "duration": 7,
    "start_time": "2022-05-30T05:46:12.960Z"
   },
   {
    "duration": 1841,
    "start_time": "2022-05-30T08:02:26.349Z"
   },
   {
    "duration": 4,
    "start_time": "2022-05-30T08:02:28.193Z"
   },
   {
    "duration": 70,
    "start_time": "2022-05-30T08:02:28.198Z"
   },
   {
    "duration": 21,
    "start_time": "2022-05-30T08:02:28.271Z"
   },
   {
    "duration": 16,
    "start_time": "2022-05-30T08:02:28.294Z"
   },
   {
    "duration": 8,
    "start_time": "2022-05-30T08:02:28.312Z"
   },
   {
    "duration": 152,
    "start_time": "2022-05-30T08:02:28.322Z"
   },
   {
    "duration": 24,
    "start_time": "2022-05-30T08:02:28.476Z"
   },
   {
    "duration": 23,
    "start_time": "2022-05-30T08:02:28.502Z"
   },
   {
    "duration": 16,
    "start_time": "2022-05-30T08:02:28.528Z"
   },
   {
    "duration": 19,
    "start_time": "2022-05-30T08:02:28.546Z"
   },
   {
    "duration": 7,
    "start_time": "2022-05-30T08:02:28.567Z"
   },
   {
    "duration": 326,
    "start_time": "2022-05-30T08:02:28.576Z"
   },
   {
    "duration": 6,
    "start_time": "2022-05-30T08:02:28.904Z"
   },
   {
    "duration": 380,
    "start_time": "2022-05-30T08:02:28.912Z"
   },
   {
    "duration": 333,
    "start_time": "2022-05-30T08:02:29.294Z"
   },
   {
    "duration": 13,
    "start_time": "2022-05-30T08:02:29.628Z"
   },
   {
    "duration": 380,
    "start_time": "2022-05-30T08:02:29.643Z"
   },
   {
    "duration": 17,
    "start_time": "2022-05-30T08:02:30.025Z"
   },
   {
    "duration": 271,
    "start_time": "2022-05-30T08:02:30.044Z"
   },
   {
    "duration": 7,
    "start_time": "2022-05-30T08:02:30.317Z"
   },
   {
    "duration": 345,
    "start_time": "2022-05-30T08:02:30.326Z"
   },
   {
    "duration": 8,
    "start_time": "2022-05-30T08:02:30.673Z"
   },
   {
    "duration": 161,
    "start_time": "2022-05-30T08:02:30.683Z"
   },
   {
    "duration": 6,
    "start_time": "2022-05-30T08:02:30.846Z"
   },
   {
    "duration": 194,
    "start_time": "2022-05-30T08:02:30.854Z"
   },
   {
    "duration": 211,
    "start_time": "2022-05-30T08:02:31.051Z"
   },
   {
    "duration": 6,
    "start_time": "2022-05-30T08:02:31.266Z"
   },
   {
    "duration": 17,
    "start_time": "2022-05-30T08:02:31.274Z"
   },
   {
    "duration": 24,
    "start_time": "2022-05-30T08:02:31.293Z"
   },
   {
    "duration": 18,
    "start_time": "2022-05-30T08:02:31.319Z"
   },
   {
    "duration": 49,
    "start_time": "2022-05-30T08:02:31.339Z"
   },
   {
    "duration": 9,
    "start_time": "2022-05-30T08:02:31.390Z"
   },
   {
    "duration": 22,
    "start_time": "2022-05-30T08:02:31.401Z"
   },
   {
    "duration": 17,
    "start_time": "2022-05-30T08:02:31.425Z"
   },
   {
    "duration": 19,
    "start_time": "2022-05-30T08:02:31.444Z"
   },
   {
    "duration": 20,
    "start_time": "2022-05-30T08:02:31.465Z"
   },
   {
    "duration": 16,
    "start_time": "2022-05-30T08:02:31.487Z"
   },
   {
    "duration": 36,
    "start_time": "2022-05-30T08:02:31.506Z"
   },
   {
    "duration": 6,
    "start_time": "2022-05-30T08:02:31.545Z"
   },
   {
    "duration": 26,
    "start_time": "2022-05-30T08:02:31.552Z"
   },
   {
    "duration": 9,
    "start_time": "2022-05-30T08:02:31.580Z"
   },
   {
    "duration": 9,
    "start_time": "2022-05-30T08:03:18.365Z"
   },
   {
    "duration": 257,
    "start_time": "2022-05-30T08:03:20.602Z"
   },
   {
    "duration": 7,
    "start_time": "2022-05-30T08:04:50.450Z"
   },
   {
    "duration": 374,
    "start_time": "2022-05-30T08:04:50.827Z"
   },
   {
    "duration": 1094,
    "start_time": "2022-05-31T06:02:00.154Z"
   },
   {
    "duration": 3,
    "start_time": "2022-05-31T06:02:01.250Z"
   },
   {
    "duration": 83,
    "start_time": "2022-05-31T06:02:01.255Z"
   },
   {
    "duration": 18,
    "start_time": "2022-05-31T06:02:01.339Z"
   },
   {
    "duration": 19,
    "start_time": "2022-05-31T06:02:01.359Z"
   },
   {
    "duration": 25,
    "start_time": "2022-05-31T06:02:01.380Z"
   },
   {
    "duration": 155,
    "start_time": "2022-05-31T06:02:01.407Z"
   },
   {
    "duration": 20,
    "start_time": "2022-05-31T06:02:01.564Z"
   },
   {
    "duration": 24,
    "start_time": "2022-05-31T06:02:01.586Z"
   },
   {
    "duration": 19,
    "start_time": "2022-05-31T06:02:01.612Z"
   },
   {
    "duration": 47,
    "start_time": "2022-05-31T06:02:01.633Z"
   },
   {
    "duration": 28,
    "start_time": "2022-05-31T06:02:01.682Z"
   },
   {
    "duration": 387,
    "start_time": "2022-05-31T06:02:01.714Z"
   },
   {
    "duration": 8,
    "start_time": "2022-05-31T06:02:02.103Z"
   },
   {
    "duration": 437,
    "start_time": "2022-05-31T06:02:02.113Z"
   },
   {
    "duration": 313,
    "start_time": "2022-05-31T06:02:02.552Z"
   },
   {
    "duration": 7,
    "start_time": "2022-05-31T06:02:02.867Z"
   },
   {
    "duration": 290,
    "start_time": "2022-05-31T06:02:02.877Z"
   },
   {
    "duration": 7,
    "start_time": "2022-05-31T06:02:03.169Z"
   },
   {
    "duration": 271,
    "start_time": "2022-05-31T06:02:03.178Z"
   },
   {
    "duration": 7,
    "start_time": "2022-05-31T06:02:03.450Z"
   },
   {
    "duration": 306,
    "start_time": "2022-05-31T06:02:03.459Z"
   },
   {
    "duration": 7,
    "start_time": "2022-05-31T06:02:03.767Z"
   },
   {
    "duration": 135,
    "start_time": "2022-05-31T06:02:03.775Z"
   },
   {
    "duration": 6,
    "start_time": "2022-05-31T06:02:03.912Z"
   },
   {
    "duration": 171,
    "start_time": "2022-05-31T06:02:03.919Z"
   },
   {
    "duration": 173,
    "start_time": "2022-05-31T06:02:04.091Z"
   },
   {
    "duration": 5,
    "start_time": "2022-05-31T06:02:04.266Z"
   },
   {
    "duration": 5,
    "start_time": "2022-05-31T06:02:04.274Z"
   },
   {
    "duration": 15,
    "start_time": "2022-05-31T06:02:04.280Z"
   },
   {
    "duration": 8,
    "start_time": "2022-05-31T06:02:04.296Z"
   },
   {
    "duration": 42,
    "start_time": "2022-05-31T06:02:04.305Z"
   },
   {
    "duration": 5,
    "start_time": "2022-05-31T06:02:04.348Z"
   },
   {
    "duration": 22,
    "start_time": "2022-05-31T06:02:04.355Z"
   },
   {
    "duration": 20,
    "start_time": "2022-05-31T06:02:04.379Z"
   },
   {
    "duration": 12,
    "start_time": "2022-05-31T06:02:04.401Z"
   },
   {
    "duration": 9,
    "start_time": "2022-05-31T06:02:04.415Z"
   },
   {
    "duration": 20,
    "start_time": "2022-05-31T06:02:04.425Z"
   },
   {
    "duration": 27,
    "start_time": "2022-05-31T06:02:04.446Z"
   },
   {
    "duration": 5,
    "start_time": "2022-05-31T06:02:04.475Z"
   },
   {
    "duration": 12,
    "start_time": "2022-05-31T06:02:04.482Z"
   },
   {
    "duration": 13,
    "start_time": "2022-05-31T06:02:04.496Z"
   },
   {
    "duration": 1106,
    "start_time": "2022-05-31T06:14:11.250Z"
   },
   {
    "duration": 3,
    "start_time": "2022-05-31T06:14:12.358Z"
   },
   {
    "duration": 43,
    "start_time": "2022-05-31T06:14:12.365Z"
   },
   {
    "duration": 16,
    "start_time": "2022-05-31T06:14:12.409Z"
   },
   {
    "duration": 12,
    "start_time": "2022-05-31T06:14:12.427Z"
   },
   {
    "duration": 3,
    "start_time": "2022-05-31T06:14:12.440Z"
   },
   {
    "duration": 56,
    "start_time": "2022-05-31T06:14:12.444Z"
   },
   {
    "duration": 19,
    "start_time": "2022-05-31T06:14:12.502Z"
   },
   {
    "duration": 16,
    "start_time": "2022-05-31T06:14:12.522Z"
   },
   {
    "duration": 5,
    "start_time": "2022-05-31T06:14:12.540Z"
   },
   {
    "duration": 12,
    "start_time": "2022-05-31T06:14:12.547Z"
   },
   {
    "duration": 9,
    "start_time": "2022-05-31T06:14:12.560Z"
   },
   {
    "duration": 264,
    "start_time": "2022-05-31T06:14:12.570Z"
   },
   {
    "duration": 4,
    "start_time": "2022-05-31T06:14:12.844Z"
   },
   {
    "duration": 328,
    "start_time": "2022-05-31T06:14:12.850Z"
   },
   {
    "duration": 282,
    "start_time": "2022-05-31T06:14:13.180Z"
   },
   {
    "duration": 6,
    "start_time": "2022-05-31T06:14:13.464Z"
   },
   {
    "duration": 303,
    "start_time": "2022-05-31T06:14:13.471Z"
   },
   {
    "duration": 7,
    "start_time": "2022-05-31T06:14:13.775Z"
   },
   {
    "duration": 243,
    "start_time": "2022-05-31T06:14:13.784Z"
   },
   {
    "duration": 6,
    "start_time": "2022-05-31T06:14:14.029Z"
   },
   {
    "duration": 312,
    "start_time": "2022-05-31T06:14:14.036Z"
   },
   {
    "duration": 7,
    "start_time": "2022-05-31T06:14:14.349Z"
   },
   {
    "duration": 136,
    "start_time": "2022-05-31T06:14:14.357Z"
   },
   {
    "duration": 6,
    "start_time": "2022-05-31T06:14:14.495Z"
   },
   {
    "duration": 173,
    "start_time": "2022-05-31T06:14:14.502Z"
   },
   {
    "duration": 160,
    "start_time": "2022-05-31T06:14:14.676Z"
   },
   {
    "duration": 5,
    "start_time": "2022-05-31T06:14:14.844Z"
   },
   {
    "duration": 12,
    "start_time": "2022-05-31T06:14:14.851Z"
   },
   {
    "duration": 15,
    "start_time": "2022-05-31T06:14:14.865Z"
   },
   {
    "duration": 6,
    "start_time": "2022-05-31T06:14:14.882Z"
   },
   {
    "duration": 33,
    "start_time": "2022-05-31T06:14:14.890Z"
   },
   {
    "duration": 5,
    "start_time": "2022-05-31T06:14:14.924Z"
   },
   {
    "duration": 11,
    "start_time": "2022-05-31T06:14:14.945Z"
   },
   {
    "duration": 8,
    "start_time": "2022-05-31T06:14:14.958Z"
   },
   {
    "duration": 10,
    "start_time": "2022-05-31T06:14:14.968Z"
   },
   {
    "duration": 6,
    "start_time": "2022-05-31T06:14:14.979Z"
   },
   {
    "duration": 8,
    "start_time": "2022-05-31T06:14:14.987Z"
   },
   {
    "duration": 59,
    "start_time": "2022-05-31T06:14:14.996Z"
   },
   {
    "duration": 5,
    "start_time": "2022-05-31T06:14:15.057Z"
   },
   {
    "duration": 16,
    "start_time": "2022-05-31T06:14:15.067Z"
   },
   {
    "duration": 8,
    "start_time": "2022-05-31T06:14:15.086Z"
   }
  ],
  "kernelspec": {
   "display_name": "Python 3 (ipykernel)",
   "language": "python",
   "name": "python3"
  },
  "language_info": {
   "codemirror_mode": {
    "name": "ipython",
    "version": 3
   },
   "file_extension": ".py",
   "mimetype": "text/x-python",
   "name": "python",
   "nbconvert_exporter": "python",
   "pygments_lexer": "ipython3",
   "version": "3.9.5"
  },
  "toc": {
   "base_numbering": 1,
   "nav_menu": {
    "height": "98px",
    "width": "162px"
   },
   "number_sections": true,
   "sideBar": true,
   "skip_h1_title": true,
   "title_cell": "Table of Contents",
   "title_sidebar": "Contents",
   "toc_cell": false,
   "toc_position": {},
   "toc_section_display": true,
   "toc_window_display": false
  }
 },
 "nbformat": 4,
 "nbformat_minor": 2
}
