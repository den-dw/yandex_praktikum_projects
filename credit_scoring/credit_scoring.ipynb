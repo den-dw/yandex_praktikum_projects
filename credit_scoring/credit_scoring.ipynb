{
 "cells": [
  {
   "cell_type": "markdown",
   "id": "b8bf7b10",
   "metadata": {},
   "source": [
    "# Исследование надежности заемщиков."
   ]
  },
  {
   "cell_type": "markdown",
   "id": "2d4d6510",
   "metadata": {},
   "source": [
    "# Описание проекта\n",
    "\n",
    "Заказчик — кредитный отдел банка. Нужно разобраться, влияет ли семейное положение и количество детей клиента на факт погашения кредита в срок. Входные данные от банка — статистика о платёжеспособности клиентов.\n",
    "Результаты исследования будут учтены при построении модели кредитного скоринга — специальной системы, которая оценивает способность потенциального заёмщика вернуть кредит банку."
   ]
  },
  {
   "cell_type": "markdown",
   "id": "2ec46007",
   "metadata": {},
   "source": [
    "# Описание данных\n",
    "- children — количество детей в семье\n",
    "- days_employed — общий трудовой стаж в днях\n",
    "- dob_years — возраст клиента в годах\n",
    "- education — уровень образования клиента\n",
    "- education_id — идентификатор уровня образования\n",
    "- family_status — семейное положение\n",
    "- family_status_id — идентификатор семейного положения\n",
    "- gender — пол клиента\n",
    "- income_type — тип занятости\n",
    "- debt — имел ли задолженность по возврату кредитов\n",
    "- total_income — ежемесячный доход\n",
    "- purpose — цель получения кредита"
   ]
  },
  {
   "cell_type": "markdown",
   "id": "a6920fdb",
   "metadata": {},
   "source": [
    "## Шаг 1. Обзор данных"
   ]
  },
  {
   "cell_type": "code",
   "execution_count": 1,
   "id": "207a3993",
   "metadata": {},
   "outputs": [],
   "source": [
    "import pandas as pd\n",
    "import seaborn as sns\n",
    "from matplotlib import pyplot as plt\n",
    "\n",
    "%matplotlib inline"
   ]
  },
  {
   "cell_type": "code",
   "execution_count": 2,
   "id": "829bdd5c",
   "metadata": {},
   "outputs": [],
   "source": [
    "data_original = pd.read_csv('https://code.s3.yandex.net/datasets/data.csv')\n",
    "data = data_original.copy()"
   ]
  },
  {
   "cell_type": "code",
   "execution_count": 3,
   "id": "abc8854c",
   "metadata": {},
   "outputs": [
    {
     "data": {
      "text/html": [
       "<div>\n",
       "<style scoped>\n",
       "    .dataframe tbody tr th:only-of-type {\n",
       "        vertical-align: middle;\n",
       "    }\n",
       "\n",
       "    .dataframe tbody tr th {\n",
       "        vertical-align: top;\n",
       "    }\n",
       "\n",
       "    .dataframe thead th {\n",
       "        text-align: right;\n",
       "    }\n",
       "</style>\n",
       "<table border=\"1\" class=\"dataframe\">\n",
       "  <thead>\n",
       "    <tr style=\"text-align: right;\">\n",
       "      <th></th>\n",
       "      <th>children</th>\n",
       "      <th>days_employed</th>\n",
       "      <th>dob_years</th>\n",
       "      <th>education</th>\n",
       "      <th>education_id</th>\n",
       "      <th>family_status</th>\n",
       "      <th>family_status_id</th>\n",
       "      <th>gender</th>\n",
       "      <th>income_type</th>\n",
       "      <th>debt</th>\n",
       "      <th>total_income</th>\n",
       "      <th>purpose</th>\n",
       "    </tr>\n",
       "  </thead>\n",
       "  <tbody>\n",
       "    <tr>\n",
       "      <td>0</td>\n",
       "      <td>1</td>\n",
       "      <td>-8437.673028</td>\n",
       "      <td>42</td>\n",
       "      <td>высшее</td>\n",
       "      <td>0</td>\n",
       "      <td>женат / замужем</td>\n",
       "      <td>0</td>\n",
       "      <td>F</td>\n",
       "      <td>сотрудник</td>\n",
       "      <td>0</td>\n",
       "      <td>253875.639453</td>\n",
       "      <td>покупка жилья</td>\n",
       "    </tr>\n",
       "    <tr>\n",
       "      <td>1</td>\n",
       "      <td>1</td>\n",
       "      <td>-4024.803754</td>\n",
       "      <td>36</td>\n",
       "      <td>среднее</td>\n",
       "      <td>1</td>\n",
       "      <td>женат / замужем</td>\n",
       "      <td>0</td>\n",
       "      <td>F</td>\n",
       "      <td>сотрудник</td>\n",
       "      <td>0</td>\n",
       "      <td>112080.014102</td>\n",
       "      <td>приобретение автомобиля</td>\n",
       "    </tr>\n",
       "    <tr>\n",
       "      <td>2</td>\n",
       "      <td>0</td>\n",
       "      <td>-5623.422610</td>\n",
       "      <td>33</td>\n",
       "      <td>Среднее</td>\n",
       "      <td>1</td>\n",
       "      <td>женат / замужем</td>\n",
       "      <td>0</td>\n",
       "      <td>M</td>\n",
       "      <td>сотрудник</td>\n",
       "      <td>0</td>\n",
       "      <td>145885.952297</td>\n",
       "      <td>покупка жилья</td>\n",
       "    </tr>\n",
       "    <tr>\n",
       "      <td>3</td>\n",
       "      <td>3</td>\n",
       "      <td>-4124.747207</td>\n",
       "      <td>32</td>\n",
       "      <td>среднее</td>\n",
       "      <td>1</td>\n",
       "      <td>женат / замужем</td>\n",
       "      <td>0</td>\n",
       "      <td>M</td>\n",
       "      <td>сотрудник</td>\n",
       "      <td>0</td>\n",
       "      <td>267628.550329</td>\n",
       "      <td>дополнительное образование</td>\n",
       "    </tr>\n",
       "    <tr>\n",
       "      <td>4</td>\n",
       "      <td>0</td>\n",
       "      <td>340266.072047</td>\n",
       "      <td>53</td>\n",
       "      <td>среднее</td>\n",
       "      <td>1</td>\n",
       "      <td>гражданский брак</td>\n",
       "      <td>1</td>\n",
       "      <td>F</td>\n",
       "      <td>пенсионер</td>\n",
       "      <td>0</td>\n",
       "      <td>158616.077870</td>\n",
       "      <td>сыграть свадьбу</td>\n",
       "    </tr>\n",
       "    <tr>\n",
       "      <td>...</td>\n",
       "      <td>...</td>\n",
       "      <td>...</td>\n",
       "      <td>...</td>\n",
       "      <td>...</td>\n",
       "      <td>...</td>\n",
       "      <td>...</td>\n",
       "      <td>...</td>\n",
       "      <td>...</td>\n",
       "      <td>...</td>\n",
       "      <td>...</td>\n",
       "      <td>...</td>\n",
       "      <td>...</td>\n",
       "    </tr>\n",
       "    <tr>\n",
       "      <td>21520</td>\n",
       "      <td>1</td>\n",
       "      <td>-4529.316663</td>\n",
       "      <td>43</td>\n",
       "      <td>среднее</td>\n",
       "      <td>1</td>\n",
       "      <td>гражданский брак</td>\n",
       "      <td>1</td>\n",
       "      <td>F</td>\n",
       "      <td>компаньон</td>\n",
       "      <td>0</td>\n",
       "      <td>224791.862382</td>\n",
       "      <td>операции с жильем</td>\n",
       "    </tr>\n",
       "    <tr>\n",
       "      <td>21521</td>\n",
       "      <td>0</td>\n",
       "      <td>343937.404131</td>\n",
       "      <td>67</td>\n",
       "      <td>среднее</td>\n",
       "      <td>1</td>\n",
       "      <td>женат / замужем</td>\n",
       "      <td>0</td>\n",
       "      <td>F</td>\n",
       "      <td>пенсионер</td>\n",
       "      <td>0</td>\n",
       "      <td>155999.806512</td>\n",
       "      <td>сделка с автомобилем</td>\n",
       "    </tr>\n",
       "    <tr>\n",
       "      <td>21522</td>\n",
       "      <td>1</td>\n",
       "      <td>-2113.346888</td>\n",
       "      <td>38</td>\n",
       "      <td>среднее</td>\n",
       "      <td>1</td>\n",
       "      <td>гражданский брак</td>\n",
       "      <td>1</td>\n",
       "      <td>M</td>\n",
       "      <td>сотрудник</td>\n",
       "      <td>1</td>\n",
       "      <td>89672.561153</td>\n",
       "      <td>недвижимость</td>\n",
       "    </tr>\n",
       "    <tr>\n",
       "      <td>21523</td>\n",
       "      <td>3</td>\n",
       "      <td>-3112.481705</td>\n",
       "      <td>38</td>\n",
       "      <td>среднее</td>\n",
       "      <td>1</td>\n",
       "      <td>женат / замужем</td>\n",
       "      <td>0</td>\n",
       "      <td>M</td>\n",
       "      <td>сотрудник</td>\n",
       "      <td>1</td>\n",
       "      <td>244093.050500</td>\n",
       "      <td>на покупку своего автомобиля</td>\n",
       "    </tr>\n",
       "    <tr>\n",
       "      <td>21524</td>\n",
       "      <td>2</td>\n",
       "      <td>-1984.507589</td>\n",
       "      <td>40</td>\n",
       "      <td>среднее</td>\n",
       "      <td>1</td>\n",
       "      <td>женат / замужем</td>\n",
       "      <td>0</td>\n",
       "      <td>F</td>\n",
       "      <td>сотрудник</td>\n",
       "      <td>0</td>\n",
       "      <td>82047.418899</td>\n",
       "      <td>на покупку автомобиля</td>\n",
       "    </tr>\n",
       "  </tbody>\n",
       "</table>\n",
       "<p>21525 rows × 12 columns</p>\n",
       "</div>"
      ],
      "text/plain": [
       "       children  days_employed  dob_years education  education_id  \\\n",
       "0             1   -8437.673028         42    высшее             0   \n",
       "1             1   -4024.803754         36   среднее             1   \n",
       "2             0   -5623.422610         33   Среднее             1   \n",
       "3             3   -4124.747207         32   среднее             1   \n",
       "4             0  340266.072047         53   среднее             1   \n",
       "...         ...            ...        ...       ...           ...   \n",
       "21520         1   -4529.316663         43   среднее             1   \n",
       "21521         0  343937.404131         67   среднее             1   \n",
       "21522         1   -2113.346888         38   среднее             1   \n",
       "21523         3   -3112.481705         38   среднее             1   \n",
       "21524         2   -1984.507589         40   среднее             1   \n",
       "\n",
       "          family_status  family_status_id gender income_type  debt  \\\n",
       "0       женат / замужем                 0      F   сотрудник     0   \n",
       "1       женат / замужем                 0      F   сотрудник     0   \n",
       "2       женат / замужем                 0      M   сотрудник     0   \n",
       "3       женат / замужем                 0      M   сотрудник     0   \n",
       "4      гражданский брак                 1      F   пенсионер     0   \n",
       "...                 ...               ...    ...         ...   ...   \n",
       "21520  гражданский брак                 1      F   компаньон     0   \n",
       "21521   женат / замужем                 0      F   пенсионер     0   \n",
       "21522  гражданский брак                 1      M   сотрудник     1   \n",
       "21523   женат / замужем                 0      M   сотрудник     1   \n",
       "21524   женат / замужем                 0      F   сотрудник     0   \n",
       "\n",
       "        total_income                       purpose  \n",
       "0      253875.639453                 покупка жилья  \n",
       "1      112080.014102       приобретение автомобиля  \n",
       "2      145885.952297                 покупка жилья  \n",
       "3      267628.550329    дополнительное образование  \n",
       "4      158616.077870               сыграть свадьбу  \n",
       "...              ...                           ...  \n",
       "21520  224791.862382             операции с жильем  \n",
       "21521  155999.806512          сделка с автомобилем  \n",
       "21522   89672.561153                  недвижимость  \n",
       "21523  244093.050500  на покупку своего автомобиля  \n",
       "21524   82047.418899         на покупку автомобиля  \n",
       "\n",
       "[21525 rows x 12 columns]"
      ]
     },
     "execution_count": 3,
     "metadata": {},
     "output_type": "execute_result"
    }
   ],
   "source": [
    "data"
   ]
  },
  {
   "cell_type": "code",
   "execution_count": 4,
   "id": "1d03bd65",
   "metadata": {},
   "outputs": [
    {
     "name": "stdout",
     "output_type": "stream",
     "text": [
      "<class 'pandas.core.frame.DataFrame'>\n",
      "RangeIndex: 21525 entries, 0 to 21524\n",
      "Data columns (total 12 columns):\n",
      "children            21525 non-null int64\n",
      "days_employed       19351 non-null float64\n",
      "dob_years           21525 non-null int64\n",
      "education           21525 non-null object\n",
      "education_id        21525 non-null int64\n",
      "family_status       21525 non-null object\n",
      "family_status_id    21525 non-null int64\n",
      "gender              21525 non-null object\n",
      "income_type         21525 non-null object\n",
      "debt                21525 non-null int64\n",
      "total_income        19351 non-null float64\n",
      "purpose             21525 non-null object\n",
      "dtypes: float64(2), int64(5), object(5)\n",
      "memory usage: 2.0+ MB\n"
     ]
    }
   ],
   "source": [
    "data.info()"
   ]
  },
  {
   "cell_type": "code",
   "execution_count": 5,
   "id": "e0b08068",
   "metadata": {},
   "outputs": [
    {
     "data": {
      "text/plain": [
       "54"
      ]
     },
     "execution_count": 5,
     "metadata": {},
     "output_type": "execute_result"
    }
   ],
   "source": [
    "data.duplicated().sum()"
   ]
  },
  {
   "cell_type": "code",
   "execution_count": 6,
   "id": "5a320d9f",
   "metadata": {},
   "outputs": [
    {
     "data": {
      "text/plain": [
       " 0     14149\n",
       " 1      4818\n",
       " 2      2055\n",
       " 3       330\n",
       " 20       76\n",
       "-1        47\n",
       " 4        41\n",
       " 5         9\n",
       "Name: children, dtype: int64"
      ]
     },
     "execution_count": 6,
     "metadata": {},
     "output_type": "execute_result"
    }
   ],
   "source": [
    "data.children.value_counts()"
   ]
  },
  {
   "cell_type": "code",
   "execution_count": 7,
   "id": "8dd61484",
   "metadata": {},
   "outputs": [
    {
     "data": {
      "text/plain": [
       "count    21525.000000\n",
       "mean        43.293380\n",
       "std         12.574584\n",
       "min          0.000000\n",
       "25%         33.000000\n",
       "50%         42.000000\n",
       "75%         53.000000\n",
       "max         75.000000\n",
       "Name: dob_years, dtype: float64"
      ]
     },
     "execution_count": 7,
     "metadata": {},
     "output_type": "execute_result"
    }
   ],
   "source": [
    "data.dob_years.describe()"
   ]
  },
  {
   "cell_type": "code",
   "execution_count": 8,
   "id": "d424812d",
   "metadata": {},
   "outputs": [
    {
     "data": {
      "text/plain": [
       "0    101\n",
       "Name: dob_years, dtype: int64"
      ]
     },
     "execution_count": 8,
     "metadata": {},
     "output_type": "execute_result"
    }
   ],
   "source": [
    "data[data.dob_years < 18].dob_years.value_counts()"
   ]
  },
  {
   "cell_type": "code",
   "execution_count": 9,
   "id": "54b8eedf",
   "metadata": {},
   "outputs": [
    {
     "data": {
      "text/html": [
       "<div>\n",
       "<style scoped>\n",
       "    .dataframe tbody tr th:only-of-type {\n",
       "        vertical-align: middle;\n",
       "    }\n",
       "\n",
       "    .dataframe tbody tr th {\n",
       "        vertical-align: top;\n",
       "    }\n",
       "\n",
       "    .dataframe thead th {\n",
       "        text-align: right;\n",
       "    }\n",
       "</style>\n",
       "<table border=\"1\" class=\"dataframe\">\n",
       "  <thead>\n",
       "    <tr style=\"text-align: right;\">\n",
       "      <th></th>\n",
       "      <th>children</th>\n",
       "      <th>days_employed</th>\n",
       "      <th>dob_years</th>\n",
       "      <th>education</th>\n",
       "      <th>education_id</th>\n",
       "      <th>family_status</th>\n",
       "      <th>family_status_id</th>\n",
       "      <th>gender</th>\n",
       "      <th>income_type</th>\n",
       "      <th>debt</th>\n",
       "      <th>total_income</th>\n",
       "      <th>purpose</th>\n",
       "    </tr>\n",
       "  </thead>\n",
       "  <tbody>\n",
       "    <tr>\n",
       "      <td>99</td>\n",
       "      <td>0</td>\n",
       "      <td>346541.618895</td>\n",
       "      <td>0</td>\n",
       "      <td>Среднее</td>\n",
       "      <td>1</td>\n",
       "      <td>женат / замужем</td>\n",
       "      <td>0</td>\n",
       "      <td>F</td>\n",
       "      <td>пенсионер</td>\n",
       "      <td>0</td>\n",
       "      <td>71291.522491</td>\n",
       "      <td>автомобиль</td>\n",
       "    </tr>\n",
       "    <tr>\n",
       "      <td>149</td>\n",
       "      <td>0</td>\n",
       "      <td>-2664.273168</td>\n",
       "      <td>0</td>\n",
       "      <td>среднее</td>\n",
       "      <td>1</td>\n",
       "      <td>в разводе</td>\n",
       "      <td>3</td>\n",
       "      <td>F</td>\n",
       "      <td>сотрудник</td>\n",
       "      <td>0</td>\n",
       "      <td>70176.435951</td>\n",
       "      <td>операции с жильем</td>\n",
       "    </tr>\n",
       "    <tr>\n",
       "      <td>270</td>\n",
       "      <td>3</td>\n",
       "      <td>-1872.663186</td>\n",
       "      <td>0</td>\n",
       "      <td>среднее</td>\n",
       "      <td>1</td>\n",
       "      <td>женат / замужем</td>\n",
       "      <td>0</td>\n",
       "      <td>F</td>\n",
       "      <td>сотрудник</td>\n",
       "      <td>0</td>\n",
       "      <td>102166.458894</td>\n",
       "      <td>ремонт жилью</td>\n",
       "    </tr>\n",
       "    <tr>\n",
       "      <td>578</td>\n",
       "      <td>0</td>\n",
       "      <td>397856.565013</td>\n",
       "      <td>0</td>\n",
       "      <td>среднее</td>\n",
       "      <td>1</td>\n",
       "      <td>женат / замужем</td>\n",
       "      <td>0</td>\n",
       "      <td>F</td>\n",
       "      <td>пенсионер</td>\n",
       "      <td>0</td>\n",
       "      <td>97620.687042</td>\n",
       "      <td>строительство собственной недвижимости</td>\n",
       "    </tr>\n",
       "    <tr>\n",
       "      <td>1040</td>\n",
       "      <td>0</td>\n",
       "      <td>-1158.029561</td>\n",
       "      <td>0</td>\n",
       "      <td>высшее</td>\n",
       "      <td>0</td>\n",
       "      <td>в разводе</td>\n",
       "      <td>3</td>\n",
       "      <td>F</td>\n",
       "      <td>компаньон</td>\n",
       "      <td>0</td>\n",
       "      <td>303994.134987</td>\n",
       "      <td>свой автомобиль</td>\n",
       "    </tr>\n",
       "  </tbody>\n",
       "</table>\n",
       "</div>"
      ],
      "text/plain": [
       "      children  days_employed  dob_years education  education_id  \\\n",
       "99           0  346541.618895          0   Среднее             1   \n",
       "149          0   -2664.273168          0   среднее             1   \n",
       "270          3   -1872.663186          0   среднее             1   \n",
       "578          0  397856.565013          0   среднее             1   \n",
       "1040         0   -1158.029561          0    высшее             0   \n",
       "\n",
       "        family_status  family_status_id gender income_type  debt  \\\n",
       "99    женат / замужем                 0      F   пенсионер     0   \n",
       "149         в разводе                 3      F   сотрудник     0   \n",
       "270   женат / замужем                 0      F   сотрудник     0   \n",
       "578   женат / замужем                 0      F   пенсионер     0   \n",
       "1040        в разводе                 3      F   компаньон     0   \n",
       "\n",
       "       total_income                                 purpose  \n",
       "99     71291.522491                              автомобиль  \n",
       "149    70176.435951                       операции с жильем  \n",
       "270   102166.458894                            ремонт жилью  \n",
       "578    97620.687042  строительство собственной недвижимости  \n",
       "1040  303994.134987                         свой автомобиль  "
      ]
     },
     "execution_count": 9,
     "metadata": {},
     "output_type": "execute_result"
    }
   ],
   "source": [
    "data[data.dob_years == 0].head()"
   ]
  },
  {
   "cell_type": "code",
   "execution_count": 10,
   "id": "84add5fd",
   "metadata": {},
   "outputs": [
    {
     "data": {
      "text/plain": [
       "(array(['высшее', 'среднее', 'Среднее', 'СРЕДНЕЕ', 'ВЫСШЕЕ',\n",
       "        'неоконченное высшее', 'начальное', 'Высшее',\n",
       "        'НЕОКОНЧЕННОЕ ВЫСШЕЕ', 'Неоконченное высшее', 'НАЧАЛЬНОЕ',\n",
       "        'Начальное', 'Ученая степень', 'УЧЕНАЯ СТЕПЕНЬ', 'ученая степень'],\n",
       "       dtype=object),\n",
       " array(['женат / замужем', 'гражданский брак', 'вдовец / вдова',\n",
       "        'в разводе', 'Не женат / не замужем'], dtype=object),\n",
       " array(['F', 'M', 'XNA'], dtype=object),\n",
       " array(['сотрудник', 'пенсионер', 'компаньон', 'госслужащий',\n",
       "        'безработный', 'предприниматель', 'студент', 'в декрете'],\n",
       "       dtype=object),\n",
       " array(['покупка жилья', 'приобретение автомобиля',\n",
       "        'дополнительное образование', 'сыграть свадьбу',\n",
       "        'операции с жильем', 'образование', 'на проведение свадьбы',\n",
       "        'покупка жилья для семьи', 'покупка недвижимости',\n",
       "        'покупка коммерческой недвижимости', 'покупка жилой недвижимости',\n",
       "        'строительство собственной недвижимости', 'недвижимость',\n",
       "        'строительство недвижимости', 'на покупку подержанного автомобиля',\n",
       "        'на покупку своего автомобиля',\n",
       "        'операции с коммерческой недвижимостью',\n",
       "        'строительство жилой недвижимости', 'жилье',\n",
       "        'операции со своей недвижимостью', 'автомобили',\n",
       "        'заняться образованием', 'сделка с подержанным автомобилем',\n",
       "        'получение образования', 'автомобиль', 'свадьба',\n",
       "        'получение дополнительного образования', 'покупка своего жилья',\n",
       "        'операции с недвижимостью', 'получение высшего образования',\n",
       "        'свой автомобиль', 'сделка с автомобилем',\n",
       "        'профильное образование', 'высшее образование',\n",
       "        'покупка жилья для сдачи', 'на покупку автомобиля', 'ремонт жилью',\n",
       "        'заняться высшим образованием'], dtype=object))"
      ]
     },
     "execution_count": 10,
     "metadata": {},
     "output_type": "execute_result"
    }
   ],
   "source": [
    "data.education.unique(), data.family_status.unique(), data.gender.unique(), data.income_type.unique(), data.purpose.unique()"
   ]
  },
  {
   "cell_type": "code",
   "execution_count": 11,
   "id": "86d9ce57",
   "metadata": {},
   "outputs": [
    {
     "data": {
      "text/plain": [
       "count     19351.000000\n",
       "mean      63046.497661\n",
       "std      140827.311974\n",
       "min      -18388.949901\n",
       "25%       -2747.423625\n",
       "50%       -1203.369529\n",
       "75%        -291.095954\n",
       "max      401755.400475\n",
       "Name: days_employed, dtype: float64"
      ]
     },
     "execution_count": 11,
     "metadata": {},
     "output_type": "execute_result"
    }
   ],
   "source": [
    "data.days_employed.describe()"
   ]
  },
  {
   "cell_type": "code",
   "execution_count": 12,
   "id": "4e7971a0",
   "metadata": {},
   "outputs": [
    {
     "data": {
      "text/plain": [
       "сотрудник          11119\n",
       "компаньон           5085\n",
       "пенсионер           3856\n",
       "госслужащий         1459\n",
       "безработный            2\n",
       "предприниматель        2\n",
       "в декрете              1\n",
       "студент                1\n",
       "Name: income_type, dtype: int64"
      ]
     },
     "execution_count": 12,
     "metadata": {},
     "output_type": "execute_result"
    }
   ],
   "source": [
    "data.income_type.value_counts()"
   ]
  },
  {
   "cell_type": "markdown",
   "id": "7d606af3",
   "metadata": {},
   "source": [
    "В данных пристуствуют следующие проблемы:\n",
    "- в столбцах days_employed и total_income есть пропущенные значения;\n",
    "- в столбцах days_employed и children пристуствуют отрицательные значения, что явлаестя аномалией;\n",
    "- пристуствуют дубликаты;\n",
    "- значения с разным регистром в стобцах education и family_status;\n",
    "- тип данных столбцов days_employed, total_income и dob_years вещественный;\n",
    "- в days_employed пристуствуют аномально-высокие значения. Для нашей задачи это не критично, так как от этого поля не зависят наши выводы;\n",
    "- есть некоректные данные в возрасте клиентов: 101 запись в возратом 0, возможно клиент не указала возраст.\n",
    "\n",
    "Также выделим данные в отдельные датафреймы и проведем категоризацию по доходу и цели полученяи кредита."
   ]
  },
  {
   "cell_type": "markdown",
   "id": "c9480ad0",
   "metadata": {},
   "source": [
    "## Предобработка данных"
   ]
  },
  {
   "cell_type": "markdown",
   "id": "922e2b1d",
   "metadata": {},
   "source": [
    "### Шаг 2.2 Проверка данных на аномалии и исправления."
   ]
  },
  {
   "cell_type": "code",
   "execution_count": 13,
   "id": "0f81435c",
   "metadata": {
    "scrolled": false
   },
   "outputs": [
    {
     "data": {
      "text/plain": [
       "count     19351.000000\n",
       "mean      63046.497661\n",
       "std      140827.311974\n",
       "min      -18388.949901\n",
       "25%       -2747.423625\n",
       "50%       -1203.369529\n",
       "75%        -291.095954\n",
       "max      401755.400475\n",
       "Name: days_employed, dtype: float64"
      ]
     },
     "execution_count": 13,
     "metadata": {},
     "output_type": "execute_result"
    }
   ],
   "source": [
    "data.days_employed.describe()"
   ]
  },
  {
   "cell_type": "markdown",
   "id": "31435d6d",
   "metadata": {},
   "source": [
    "Общий трудовой стаж не может быть отрицательным. Также и с количеством детей.\n",
    "Причина ошибки возможна как техническая, так и человеческий фактор.\n",
    "Заменим все значения в этом столбце на значения с модулем."
   ]
  },
  {
   "cell_type": "code",
   "execution_count": 14,
   "id": "48cb7622",
   "metadata": {},
   "outputs": [],
   "source": [
    "data.loc[data.days_employed < 0, 'days_employed'] = abs(data[data.days_employed < 0]['days_employed'])"
   ]
  },
  {
   "cell_type": "code",
   "execution_count": 15,
   "id": "a7767156",
   "metadata": {},
   "outputs": [],
   "source": [
    "data.loc[data.children == -1, 'children'] = 1"
   ]
  },
  {
   "cell_type": "markdown",
   "id": "15dc9618",
   "metadata": {},
   "source": [
    "Проверяем."
   ]
  },
  {
   "cell_type": "code",
   "execution_count": 16,
   "id": "a95d56fd",
   "metadata": {
    "scrolled": true
   },
   "outputs": [
    {
     "data": {
      "text/plain": [
       "(24.14163324048118, 401755.40047533, 2194.220566878695, 66914.72890682236)"
      ]
     },
     "execution_count": 16,
     "metadata": {},
     "output_type": "execute_result"
    }
   ],
   "source": [
    "data.days_employed.min(), data.days_employed.max(), data.days_employed.median(), data.days_employed.mean()"
   ]
  },
  {
   "cell_type": "code",
   "execution_count": 17,
   "id": "156801de",
   "metadata": {
    "scrolled": true
   },
   "outputs": [
    {
     "data": {
      "text/html": [
       "<div>\n",
       "<style scoped>\n",
       "    .dataframe tbody tr th:only-of-type {\n",
       "        vertical-align: middle;\n",
       "    }\n",
       "\n",
       "    .dataframe tbody tr th {\n",
       "        vertical-align: top;\n",
       "    }\n",
       "\n",
       "    .dataframe thead th {\n",
       "        text-align: right;\n",
       "    }\n",
       "</style>\n",
       "<table border=\"1\" class=\"dataframe\">\n",
       "  <thead>\n",
       "    <tr style=\"text-align: right;\">\n",
       "      <th></th>\n",
       "      <th>children</th>\n",
       "      <th>days_employed</th>\n",
       "      <th>dob_years</th>\n",
       "      <th>education</th>\n",
       "      <th>education_id</th>\n",
       "      <th>family_status</th>\n",
       "      <th>family_status_id</th>\n",
       "      <th>gender</th>\n",
       "      <th>income_type</th>\n",
       "      <th>debt</th>\n",
       "      <th>total_income</th>\n",
       "      <th>purpose</th>\n",
       "    </tr>\n",
       "  </thead>\n",
       "  <tbody>\n",
       "    <tr>\n",
       "      <td>0</td>\n",
       "      <td>1</td>\n",
       "      <td>8437.673028</td>\n",
       "      <td>42</td>\n",
       "      <td>высшее</td>\n",
       "      <td>0</td>\n",
       "      <td>женат / замужем</td>\n",
       "      <td>0</td>\n",
       "      <td>F</td>\n",
       "      <td>сотрудник</td>\n",
       "      <td>0</td>\n",
       "      <td>253875.639453</td>\n",
       "      <td>покупка жилья</td>\n",
       "    </tr>\n",
       "    <tr>\n",
       "      <td>1</td>\n",
       "      <td>1</td>\n",
       "      <td>4024.803754</td>\n",
       "      <td>36</td>\n",
       "      <td>среднее</td>\n",
       "      <td>1</td>\n",
       "      <td>женат / замужем</td>\n",
       "      <td>0</td>\n",
       "      <td>F</td>\n",
       "      <td>сотрудник</td>\n",
       "      <td>0</td>\n",
       "      <td>112080.014102</td>\n",
       "      <td>приобретение автомобиля</td>\n",
       "    </tr>\n",
       "    <tr>\n",
       "      <td>2</td>\n",
       "      <td>0</td>\n",
       "      <td>5623.422610</td>\n",
       "      <td>33</td>\n",
       "      <td>Среднее</td>\n",
       "      <td>1</td>\n",
       "      <td>женат / замужем</td>\n",
       "      <td>0</td>\n",
       "      <td>M</td>\n",
       "      <td>сотрудник</td>\n",
       "      <td>0</td>\n",
       "      <td>145885.952297</td>\n",
       "      <td>покупка жилья</td>\n",
       "    </tr>\n",
       "    <tr>\n",
       "      <td>3</td>\n",
       "      <td>3</td>\n",
       "      <td>4124.747207</td>\n",
       "      <td>32</td>\n",
       "      <td>среднее</td>\n",
       "      <td>1</td>\n",
       "      <td>женат / замужем</td>\n",
       "      <td>0</td>\n",
       "      <td>M</td>\n",
       "      <td>сотрудник</td>\n",
       "      <td>0</td>\n",
       "      <td>267628.550329</td>\n",
       "      <td>дополнительное образование</td>\n",
       "    </tr>\n",
       "    <tr>\n",
       "      <td>4</td>\n",
       "      <td>0</td>\n",
       "      <td>340266.072047</td>\n",
       "      <td>53</td>\n",
       "      <td>среднее</td>\n",
       "      <td>1</td>\n",
       "      <td>гражданский брак</td>\n",
       "      <td>1</td>\n",
       "      <td>F</td>\n",
       "      <td>пенсионер</td>\n",
       "      <td>0</td>\n",
       "      <td>158616.077870</td>\n",
       "      <td>сыграть свадьбу</td>\n",
       "    </tr>\n",
       "  </tbody>\n",
       "</table>\n",
       "</div>"
      ],
      "text/plain": [
       "   children  days_employed  dob_years education  education_id  \\\n",
       "0         1    8437.673028         42    высшее             0   \n",
       "1         1    4024.803754         36   среднее             1   \n",
       "2         0    5623.422610         33   Среднее             1   \n",
       "3         3    4124.747207         32   среднее             1   \n",
       "4         0  340266.072047         53   среднее             1   \n",
       "\n",
       "      family_status  family_status_id gender income_type  debt   total_income  \\\n",
       "0   женат / замужем                 0      F   сотрудник     0  253875.639453   \n",
       "1   женат / замужем                 0      F   сотрудник     0  112080.014102   \n",
       "2   женат / замужем                 0      M   сотрудник     0  145885.952297   \n",
       "3   женат / замужем                 0      M   сотрудник     0  267628.550329   \n",
       "4  гражданский брак                 1      F   пенсионер     0  158616.077870   \n",
       "\n",
       "                      purpose  \n",
       "0               покупка жилья  \n",
       "1     приобретение автомобиля  \n",
       "2               покупка жилья  \n",
       "3  дополнительное образование  \n",
       "4             сыграть свадьбу  "
      ]
     },
     "execution_count": 17,
     "metadata": {},
     "output_type": "execute_result"
    }
   ],
   "source": [
    "data.head(5)"
   ]
  },
  {
   "cell_type": "markdown",
   "id": "a9e4ae1b",
   "metadata": {},
   "source": [
    "Отрицательных значений больше нет."
   ]
  },
  {
   "cell_type": "markdown",
   "id": "a691034e",
   "metadata": {},
   "source": [
    "Заменим знаечние возрата 0 на медианное значение."
   ]
  },
  {
   "cell_type": "code",
   "execution_count": 18,
   "id": "da708c20",
   "metadata": {},
   "outputs": [],
   "source": [
    "data.loc[data.dob_years == 0, 'dob_years'] = data.dob_years.median()"
   ]
  },
  {
   "cell_type": "markdown",
   "id": "0c92bebf",
   "metadata": {},
   "source": [
    "Также в столбце со значением количества детей аномально высокий показатель клиентов с 20-тью детьми. "
   ]
  },
  {
   "cell_type": "code",
   "execution_count": 19,
   "id": "275a16b3",
   "metadata": {
    "scrolled": false
   },
   "outputs": [
    {
     "data": {
      "text/plain": [
       "0     14149\n",
       "1      4865\n",
       "2      2055\n",
       "3       330\n",
       "20       76\n",
       "4        41\n",
       "5         9\n",
       "Name: children, dtype: int64"
      ]
     },
     "execution_count": 19,
     "metadata": {},
     "output_type": "execute_result"
    }
   ],
   "source": [
    "data.children.value_counts()"
   ]
  },
  {
   "cell_type": "code",
   "execution_count": 20,
   "id": "2c24dd8f",
   "metadata": {
    "scrolled": false
   },
   "outputs": [
    {
     "data": {
      "text/html": [
       "<div>\n",
       "<style scoped>\n",
       "    .dataframe tbody tr th:only-of-type {\n",
       "        vertical-align: middle;\n",
       "    }\n",
       "\n",
       "    .dataframe tbody tr th {\n",
       "        vertical-align: top;\n",
       "    }\n",
       "\n",
       "    .dataframe thead th {\n",
       "        text-align: right;\n",
       "    }\n",
       "</style>\n",
       "<table border=\"1\" class=\"dataframe\">\n",
       "  <thead>\n",
       "    <tr style=\"text-align: right;\">\n",
       "      <th></th>\n",
       "      <th>children</th>\n",
       "      <th>days_employed</th>\n",
       "      <th>dob_years</th>\n",
       "      <th>education</th>\n",
       "      <th>education_id</th>\n",
       "      <th>family_status</th>\n",
       "      <th>family_status_id</th>\n",
       "      <th>gender</th>\n",
       "      <th>income_type</th>\n",
       "      <th>debt</th>\n",
       "      <th>total_income</th>\n",
       "      <th>purpose</th>\n",
       "    </tr>\n",
       "  </thead>\n",
       "  <tbody>\n",
       "    <tr>\n",
       "      <td>606</td>\n",
       "      <td>20</td>\n",
       "      <td>880.221113</td>\n",
       "      <td>21.0</td>\n",
       "      <td>среднее</td>\n",
       "      <td>1</td>\n",
       "      <td>женат / замужем</td>\n",
       "      <td>0</td>\n",
       "      <td>M</td>\n",
       "      <td>компаньон</td>\n",
       "      <td>0</td>\n",
       "      <td>145334.865002</td>\n",
       "      <td>покупка жилья</td>\n",
       "    </tr>\n",
       "    <tr>\n",
       "      <td>720</td>\n",
       "      <td>20</td>\n",
       "      <td>855.595512</td>\n",
       "      <td>44.0</td>\n",
       "      <td>среднее</td>\n",
       "      <td>1</td>\n",
       "      <td>женат / замужем</td>\n",
       "      <td>0</td>\n",
       "      <td>F</td>\n",
       "      <td>компаньон</td>\n",
       "      <td>0</td>\n",
       "      <td>112998.738649</td>\n",
       "      <td>покупка недвижимости</td>\n",
       "    </tr>\n",
       "    <tr>\n",
       "      <td>1074</td>\n",
       "      <td>20</td>\n",
       "      <td>3310.411598</td>\n",
       "      <td>56.0</td>\n",
       "      <td>среднее</td>\n",
       "      <td>1</td>\n",
       "      <td>женат / замужем</td>\n",
       "      <td>0</td>\n",
       "      <td>F</td>\n",
       "      <td>сотрудник</td>\n",
       "      <td>1</td>\n",
       "      <td>229518.537004</td>\n",
       "      <td>получение образования</td>\n",
       "    </tr>\n",
       "    <tr>\n",
       "      <td>2510</td>\n",
       "      <td>20</td>\n",
       "      <td>2714.161249</td>\n",
       "      <td>59.0</td>\n",
       "      <td>высшее</td>\n",
       "      <td>0</td>\n",
       "      <td>вдовец / вдова</td>\n",
       "      <td>2</td>\n",
       "      <td>F</td>\n",
       "      <td>сотрудник</td>\n",
       "      <td>0</td>\n",
       "      <td>264474.835577</td>\n",
       "      <td>операции с коммерческой недвижимостью</td>\n",
       "    </tr>\n",
       "    <tr>\n",
       "      <td>2941</td>\n",
       "      <td>20</td>\n",
       "      <td>2161.591519</td>\n",
       "      <td>42.0</td>\n",
       "      <td>среднее</td>\n",
       "      <td>1</td>\n",
       "      <td>женат / замужем</td>\n",
       "      <td>0</td>\n",
       "      <td>F</td>\n",
       "      <td>сотрудник</td>\n",
       "      <td>0</td>\n",
       "      <td>199739.941398</td>\n",
       "      <td>на покупку автомобиля</td>\n",
       "    </tr>\n",
       "    <tr>\n",
       "      <td>...</td>\n",
       "      <td>...</td>\n",
       "      <td>...</td>\n",
       "      <td>...</td>\n",
       "      <td>...</td>\n",
       "      <td>...</td>\n",
       "      <td>...</td>\n",
       "      <td>...</td>\n",
       "      <td>...</td>\n",
       "      <td>...</td>\n",
       "      <td>...</td>\n",
       "      <td>...</td>\n",
       "      <td>...</td>\n",
       "    </tr>\n",
       "    <tr>\n",
       "      <td>21008</td>\n",
       "      <td>20</td>\n",
       "      <td>1240.257910</td>\n",
       "      <td>40.0</td>\n",
       "      <td>среднее</td>\n",
       "      <td>1</td>\n",
       "      <td>женат / замужем</td>\n",
       "      <td>0</td>\n",
       "      <td>F</td>\n",
       "      <td>сотрудник</td>\n",
       "      <td>1</td>\n",
       "      <td>133524.010303</td>\n",
       "      <td>свой автомобиль</td>\n",
       "    </tr>\n",
       "    <tr>\n",
       "      <td>21325</td>\n",
       "      <td>20</td>\n",
       "      <td>601.174883</td>\n",
       "      <td>37.0</td>\n",
       "      <td>среднее</td>\n",
       "      <td>1</td>\n",
       "      <td>женат / замужем</td>\n",
       "      <td>0</td>\n",
       "      <td>F</td>\n",
       "      <td>компаньон</td>\n",
       "      <td>0</td>\n",
       "      <td>102986.065978</td>\n",
       "      <td>профильное образование</td>\n",
       "    </tr>\n",
       "    <tr>\n",
       "      <td>21390</td>\n",
       "      <td>20</td>\n",
       "      <td>NaN</td>\n",
       "      <td>53.0</td>\n",
       "      <td>среднее</td>\n",
       "      <td>1</td>\n",
       "      <td>женат / замужем</td>\n",
       "      <td>0</td>\n",
       "      <td>M</td>\n",
       "      <td>компаньон</td>\n",
       "      <td>0</td>\n",
       "      <td>NaN</td>\n",
       "      <td>покупка жилой недвижимости</td>\n",
       "    </tr>\n",
       "    <tr>\n",
       "      <td>21404</td>\n",
       "      <td>20</td>\n",
       "      <td>494.788448</td>\n",
       "      <td>52.0</td>\n",
       "      <td>среднее</td>\n",
       "      <td>1</td>\n",
       "      <td>женат / замужем</td>\n",
       "      <td>0</td>\n",
       "      <td>M</td>\n",
       "      <td>компаньон</td>\n",
       "      <td>0</td>\n",
       "      <td>156629.683642</td>\n",
       "      <td>операции со своей недвижимостью</td>\n",
       "    </tr>\n",
       "    <tr>\n",
       "      <td>21491</td>\n",
       "      <td>20</td>\n",
       "      <td>173.954460</td>\n",
       "      <td>27.0</td>\n",
       "      <td>среднее</td>\n",
       "      <td>1</td>\n",
       "      <td>женат / замужем</td>\n",
       "      <td>0</td>\n",
       "      <td>F</td>\n",
       "      <td>сотрудник</td>\n",
       "      <td>0</td>\n",
       "      <td>155520.899688</td>\n",
       "      <td>на покупку подержанного автомобиля</td>\n",
       "    </tr>\n",
       "  </tbody>\n",
       "</table>\n",
       "<p>76 rows × 12 columns</p>\n",
       "</div>"
      ],
      "text/plain": [
       "       children  days_employed  dob_years education  education_id  \\\n",
       "606          20     880.221113       21.0   среднее             1   \n",
       "720          20     855.595512       44.0   среднее             1   \n",
       "1074         20    3310.411598       56.0   среднее             1   \n",
       "2510         20    2714.161249       59.0    высшее             0   \n",
       "2941         20    2161.591519       42.0   среднее             1   \n",
       "...         ...            ...        ...       ...           ...   \n",
       "21008        20    1240.257910       40.0   среднее             1   \n",
       "21325        20     601.174883       37.0   среднее             1   \n",
       "21390        20            NaN       53.0   среднее             1   \n",
       "21404        20     494.788448       52.0   среднее             1   \n",
       "21491        20     173.954460       27.0   среднее             1   \n",
       "\n",
       "         family_status  family_status_id gender income_type  debt  \\\n",
       "606    женат / замужем                 0      M   компаньон     0   \n",
       "720    женат / замужем                 0      F   компаньон     0   \n",
       "1074   женат / замужем                 0      F   сотрудник     1   \n",
       "2510    вдовец / вдова                 2      F   сотрудник     0   \n",
       "2941   женат / замужем                 0      F   сотрудник     0   \n",
       "...                ...               ...    ...         ...   ...   \n",
       "21008  женат / замужем                 0      F   сотрудник     1   \n",
       "21325  женат / замужем                 0      F   компаньон     0   \n",
       "21390  женат / замужем                 0      M   компаньон     0   \n",
       "21404  женат / замужем                 0      M   компаньон     0   \n",
       "21491  женат / замужем                 0      F   сотрудник     0   \n",
       "\n",
       "        total_income                                purpose  \n",
       "606    145334.865002                          покупка жилья  \n",
       "720    112998.738649                   покупка недвижимости  \n",
       "1074   229518.537004                  получение образования  \n",
       "2510   264474.835577  операции с коммерческой недвижимостью  \n",
       "2941   199739.941398                  на покупку автомобиля  \n",
       "...              ...                                    ...  \n",
       "21008  133524.010303                        свой автомобиль  \n",
       "21325  102986.065978                 профильное образование  \n",
       "21390            NaN             покупка жилой недвижимости  \n",
       "21404  156629.683642        операции со своей недвижимостью  \n",
       "21491  155520.899688     на покупку подержанного автомобиля  \n",
       "\n",
       "[76 rows x 12 columns]"
      ]
     },
     "execution_count": 20,
     "metadata": {},
     "output_type": "execute_result"
    }
   ],
   "source": [
    "data[data.children == 20]"
   ]
  },
  {
   "cell_type": "markdown",
   "id": "e405176d",
   "metadata": {},
   "source": [
    "Скорее всего здесь человеческая ошибка. Заменим 20 на 2."
   ]
  },
  {
   "cell_type": "code",
   "execution_count": 21,
   "id": "106c9ee5",
   "metadata": {},
   "outputs": [],
   "source": [
    "data.loc[data.children == 20, 'children'] = 2"
   ]
  },
  {
   "cell_type": "code",
   "execution_count": 22,
   "id": "28e431fa",
   "metadata": {
    "scrolled": true
   },
   "outputs": [
    {
     "data": {
      "text/plain": [
       "0    14149\n",
       "1     4865\n",
       "2     2131\n",
       "3      330\n",
       "4       41\n",
       "5        9\n",
       "Name: children, dtype: int64"
      ]
     },
     "execution_count": 22,
     "metadata": {},
     "output_type": "execute_result"
    }
   ],
   "source": [
    "data.children.value_counts()"
   ]
  },
  {
   "cell_type": "markdown",
   "id": "9459920b",
   "metadata": {},
   "source": [
    "Рассмотрим столбец с указанием пола."
   ]
  },
  {
   "cell_type": "code",
   "execution_count": 23,
   "id": "8f3977bb",
   "metadata": {
    "scrolled": true
   },
   "outputs": [
    {
     "data": {
      "text/plain": [
       "F      14236\n",
       "M       7288\n",
       "XNA        1\n",
       "Name: gender, dtype: int64"
      ]
     },
     "execution_count": 23,
     "metadata": {},
     "output_type": "execute_result"
    }
   ],
   "source": [
    "data.gender.value_counts()"
   ]
  },
  {
   "cell_type": "code",
   "execution_count": 24,
   "id": "73e55a15",
   "metadata": {
    "scrolled": true
   },
   "outputs": [
    {
     "data": {
      "text/html": [
       "<div>\n",
       "<style scoped>\n",
       "    .dataframe tbody tr th:only-of-type {\n",
       "        vertical-align: middle;\n",
       "    }\n",
       "\n",
       "    .dataframe tbody tr th {\n",
       "        vertical-align: top;\n",
       "    }\n",
       "\n",
       "    .dataframe thead th {\n",
       "        text-align: right;\n",
       "    }\n",
       "</style>\n",
       "<table border=\"1\" class=\"dataframe\">\n",
       "  <thead>\n",
       "    <tr style=\"text-align: right;\">\n",
       "      <th></th>\n",
       "      <th>children</th>\n",
       "      <th>days_employed</th>\n",
       "      <th>dob_years</th>\n",
       "      <th>education</th>\n",
       "      <th>education_id</th>\n",
       "      <th>family_status</th>\n",
       "      <th>family_status_id</th>\n",
       "      <th>gender</th>\n",
       "      <th>income_type</th>\n",
       "      <th>debt</th>\n",
       "      <th>total_income</th>\n",
       "      <th>purpose</th>\n",
       "    </tr>\n",
       "  </thead>\n",
       "  <tbody>\n",
       "    <tr>\n",
       "      <td>10701</td>\n",
       "      <td>0</td>\n",
       "      <td>2358.600502</td>\n",
       "      <td>24.0</td>\n",
       "      <td>неоконченное высшее</td>\n",
       "      <td>2</td>\n",
       "      <td>гражданский брак</td>\n",
       "      <td>1</td>\n",
       "      <td>XNA</td>\n",
       "      <td>компаньон</td>\n",
       "      <td>0</td>\n",
       "      <td>203905.157261</td>\n",
       "      <td>покупка недвижимости</td>\n",
       "    </tr>\n",
       "  </tbody>\n",
       "</table>\n",
       "</div>"
      ],
      "text/plain": [
       "       children  days_employed  dob_years            education  education_id  \\\n",
       "10701         0    2358.600502       24.0  неоконченное высшее             2   \n",
       "\n",
       "          family_status  family_status_id gender income_type  debt  \\\n",
       "10701  гражданский брак                 1    XNA   компаньон     0   \n",
       "\n",
       "        total_income               purpose  \n",
       "10701  203905.157261  покупка недвижимости  "
      ]
     },
     "execution_count": 24,
     "metadata": {},
     "output_type": "execute_result"
    }
   ],
   "source": [
    "data[data.gender == 'XNA']"
   ]
  },
  {
   "cell_type": "markdown",
   "id": "4a105bcf",
   "metadata": {},
   "source": [
    "Имеется 1 клиент, который не указал свой пол. Удалим эту строку."
   ]
  },
  {
   "cell_type": "code",
   "execution_count": 25,
   "id": "8ab8e83f",
   "metadata": {},
   "outputs": [],
   "source": [
    "data = data[data.gender != 'XNA']"
   ]
  },
  {
   "cell_type": "code",
   "execution_count": 26,
   "id": "ef85f1fc",
   "metadata": {
    "scrolled": true
   },
   "outputs": [
    {
     "data": {
      "text/plain": [
       "F    14236\n",
       "M     7288\n",
       "Name: gender, dtype: int64"
      ]
     },
     "execution_count": 26,
     "metadata": {},
     "output_type": "execute_result"
    }
   ],
   "source": [
    "data.gender.value_counts()"
   ]
  },
  {
   "cell_type": "markdown",
   "id": "448ee91b",
   "metadata": {},
   "source": [
    "В наших данных остались аномально-высокие и аномально-низкие значения. В рамках этого проекта не будем их заменять, так как от этих данных не зависит наше иследование. О природе этих аномалий стоит проконсультироваться с инженером данных."
   ]
  },
  {
   "cell_type": "markdown",
   "id": "5ea1d0bf",
   "metadata": {},
   "source": [
    "Исправими регистр в столбцах education и family_status."
   ]
  },
  {
   "cell_type": "code",
   "execution_count": 27,
   "id": "53a1b572",
   "metadata": {
    "scrolled": true
   },
   "outputs": [
    {
     "name": "stderr",
     "output_type": "stream",
     "text": [
      "/opt/conda/lib/python3.7/site-packages/pandas/core/generic.py:5208: SettingWithCopyWarning: \n",
      "A value is trying to be set on a copy of a slice from a DataFrame.\n",
      "Try using .loc[row_indexer,col_indexer] = value instead\n",
      "\n",
      "See the caveats in the documentation: http://pandas.pydata.org/pandas-docs/stable/user_guide/indexing.html#returning-a-view-versus-a-copy\n",
      "  self[name] = value\n"
     ]
    }
   ],
   "source": [
    "data.education = data.education.str.lower()"
   ]
  },
  {
   "cell_type": "code",
   "execution_count": 28,
   "id": "5680bae9",
   "metadata": {
    "scrolled": true
   },
   "outputs": [
    {
     "data": {
      "text/plain": [
       "среднее                15233\n",
       "высшее                  5260\n",
       "неоконченное высшее      743\n",
       "начальное                282\n",
       "ученая степень             6\n",
       "Name: education, dtype: int64"
      ]
     },
     "execution_count": 28,
     "metadata": {},
     "output_type": "execute_result"
    }
   ],
   "source": [
    "data.education.value_counts()"
   ]
  },
  {
   "cell_type": "code",
   "execution_count": 29,
   "id": "8bc9d6da",
   "metadata": {
    "scrolled": true
   },
   "outputs": [],
   "source": [
    "data.family_status = data.family_status.str.lower()"
   ]
  },
  {
   "cell_type": "code",
   "execution_count": 30,
   "id": "b1f37448",
   "metadata": {
    "scrolled": true
   },
   "outputs": [
    {
     "data": {
      "text/plain": [
       "женат / замужем          12380\n",
       "гражданский брак          4176\n",
       "не женат / не замужем     2813\n",
       "в разводе                 1195\n",
       "вдовец / вдова             960\n",
       "Name: family_status, dtype: int64"
      ]
     },
     "execution_count": 30,
     "metadata": {},
     "output_type": "execute_result"
    }
   ],
   "source": [
    "data.family_status.value_counts()"
   ]
  },
  {
   "cell_type": "markdown",
   "id": "876b0482",
   "metadata": {},
   "source": [
    "### Шаг 2.1 Заполнение пропусков"
   ]
  },
  {
   "cell_type": "markdown",
   "id": "d72dfd59",
   "metadata": {},
   "source": [
    "Рассмотрим пропущенные значения."
   ]
  },
  {
   "cell_type": "code",
   "execution_count": 31,
   "id": "840fd59d",
   "metadata": {
    "scrolled": false
   },
   "outputs": [
    {
     "data": {
      "text/html": [
       "<div>\n",
       "<style scoped>\n",
       "    .dataframe tbody tr th:only-of-type {\n",
       "        vertical-align: middle;\n",
       "    }\n",
       "\n",
       "    .dataframe tbody tr th {\n",
       "        vertical-align: top;\n",
       "    }\n",
       "\n",
       "    .dataframe thead th {\n",
       "        text-align: right;\n",
       "    }\n",
       "</style>\n",
       "<table border=\"1\" class=\"dataframe\">\n",
       "  <thead>\n",
       "    <tr style=\"text-align: right;\">\n",
       "      <th></th>\n",
       "      <th>children</th>\n",
       "      <th>days_employed</th>\n",
       "      <th>dob_years</th>\n",
       "      <th>education</th>\n",
       "      <th>education_id</th>\n",
       "      <th>family_status</th>\n",
       "      <th>family_status_id</th>\n",
       "      <th>gender</th>\n",
       "      <th>income_type</th>\n",
       "      <th>debt</th>\n",
       "      <th>total_income</th>\n",
       "      <th>purpose</th>\n",
       "    </tr>\n",
       "  </thead>\n",
       "  <tbody>\n",
       "    <tr>\n",
       "      <td>12</td>\n",
       "      <td>0</td>\n",
       "      <td>NaN</td>\n",
       "      <td>65.0</td>\n",
       "      <td>среднее</td>\n",
       "      <td>1</td>\n",
       "      <td>гражданский брак</td>\n",
       "      <td>1</td>\n",
       "      <td>M</td>\n",
       "      <td>пенсионер</td>\n",
       "      <td>0</td>\n",
       "      <td>NaN</td>\n",
       "      <td>сыграть свадьбу</td>\n",
       "    </tr>\n",
       "    <tr>\n",
       "      <td>26</td>\n",
       "      <td>0</td>\n",
       "      <td>NaN</td>\n",
       "      <td>41.0</td>\n",
       "      <td>среднее</td>\n",
       "      <td>1</td>\n",
       "      <td>женат / замужем</td>\n",
       "      <td>0</td>\n",
       "      <td>M</td>\n",
       "      <td>госслужащий</td>\n",
       "      <td>0</td>\n",
       "      <td>NaN</td>\n",
       "      <td>образование</td>\n",
       "    </tr>\n",
       "    <tr>\n",
       "      <td>29</td>\n",
       "      <td>0</td>\n",
       "      <td>NaN</td>\n",
       "      <td>63.0</td>\n",
       "      <td>среднее</td>\n",
       "      <td>1</td>\n",
       "      <td>не женат / не замужем</td>\n",
       "      <td>4</td>\n",
       "      <td>F</td>\n",
       "      <td>пенсионер</td>\n",
       "      <td>0</td>\n",
       "      <td>NaN</td>\n",
       "      <td>строительство жилой недвижимости</td>\n",
       "    </tr>\n",
       "    <tr>\n",
       "      <td>41</td>\n",
       "      <td>0</td>\n",
       "      <td>NaN</td>\n",
       "      <td>50.0</td>\n",
       "      <td>среднее</td>\n",
       "      <td>1</td>\n",
       "      <td>женат / замужем</td>\n",
       "      <td>0</td>\n",
       "      <td>F</td>\n",
       "      <td>госслужащий</td>\n",
       "      <td>0</td>\n",
       "      <td>NaN</td>\n",
       "      <td>сделка с подержанным автомобилем</td>\n",
       "    </tr>\n",
       "    <tr>\n",
       "      <td>55</td>\n",
       "      <td>0</td>\n",
       "      <td>NaN</td>\n",
       "      <td>54.0</td>\n",
       "      <td>среднее</td>\n",
       "      <td>1</td>\n",
       "      <td>гражданский брак</td>\n",
       "      <td>1</td>\n",
       "      <td>F</td>\n",
       "      <td>пенсионер</td>\n",
       "      <td>1</td>\n",
       "      <td>NaN</td>\n",
       "      <td>сыграть свадьбу</td>\n",
       "    </tr>\n",
       "    <tr>\n",
       "      <td>...</td>\n",
       "      <td>...</td>\n",
       "      <td>...</td>\n",
       "      <td>...</td>\n",
       "      <td>...</td>\n",
       "      <td>...</td>\n",
       "      <td>...</td>\n",
       "      <td>...</td>\n",
       "      <td>...</td>\n",
       "      <td>...</td>\n",
       "      <td>...</td>\n",
       "      <td>...</td>\n",
       "      <td>...</td>\n",
       "    </tr>\n",
       "    <tr>\n",
       "      <td>21489</td>\n",
       "      <td>2</td>\n",
       "      <td>NaN</td>\n",
       "      <td>47.0</td>\n",
       "      <td>среднее</td>\n",
       "      <td>1</td>\n",
       "      <td>женат / замужем</td>\n",
       "      <td>0</td>\n",
       "      <td>M</td>\n",
       "      <td>компаньон</td>\n",
       "      <td>0</td>\n",
       "      <td>NaN</td>\n",
       "      <td>сделка с автомобилем</td>\n",
       "    </tr>\n",
       "    <tr>\n",
       "      <td>21495</td>\n",
       "      <td>1</td>\n",
       "      <td>NaN</td>\n",
       "      <td>50.0</td>\n",
       "      <td>среднее</td>\n",
       "      <td>1</td>\n",
       "      <td>гражданский брак</td>\n",
       "      <td>1</td>\n",
       "      <td>F</td>\n",
       "      <td>сотрудник</td>\n",
       "      <td>0</td>\n",
       "      <td>NaN</td>\n",
       "      <td>свадьба</td>\n",
       "    </tr>\n",
       "    <tr>\n",
       "      <td>21497</td>\n",
       "      <td>0</td>\n",
       "      <td>NaN</td>\n",
       "      <td>48.0</td>\n",
       "      <td>высшее</td>\n",
       "      <td>0</td>\n",
       "      <td>женат / замужем</td>\n",
       "      <td>0</td>\n",
       "      <td>F</td>\n",
       "      <td>компаньон</td>\n",
       "      <td>0</td>\n",
       "      <td>NaN</td>\n",
       "      <td>строительство недвижимости</td>\n",
       "    </tr>\n",
       "    <tr>\n",
       "      <td>21502</td>\n",
       "      <td>1</td>\n",
       "      <td>NaN</td>\n",
       "      <td>42.0</td>\n",
       "      <td>среднее</td>\n",
       "      <td>1</td>\n",
       "      <td>женат / замужем</td>\n",
       "      <td>0</td>\n",
       "      <td>F</td>\n",
       "      <td>сотрудник</td>\n",
       "      <td>0</td>\n",
       "      <td>NaN</td>\n",
       "      <td>строительство жилой недвижимости</td>\n",
       "    </tr>\n",
       "    <tr>\n",
       "      <td>21510</td>\n",
       "      <td>2</td>\n",
       "      <td>NaN</td>\n",
       "      <td>28.0</td>\n",
       "      <td>среднее</td>\n",
       "      <td>1</td>\n",
       "      <td>женат / замужем</td>\n",
       "      <td>0</td>\n",
       "      <td>F</td>\n",
       "      <td>сотрудник</td>\n",
       "      <td>0</td>\n",
       "      <td>NaN</td>\n",
       "      <td>приобретение автомобиля</td>\n",
       "    </tr>\n",
       "  </tbody>\n",
       "</table>\n",
       "<p>2174 rows × 12 columns</p>\n",
       "</div>"
      ],
      "text/plain": [
       "       children  days_employed  dob_years education  education_id  \\\n",
       "12            0            NaN       65.0   среднее             1   \n",
       "26            0            NaN       41.0   среднее             1   \n",
       "29            0            NaN       63.0   среднее             1   \n",
       "41            0            NaN       50.0   среднее             1   \n",
       "55            0            NaN       54.0   среднее             1   \n",
       "...         ...            ...        ...       ...           ...   \n",
       "21489         2            NaN       47.0   среднее             1   \n",
       "21495         1            NaN       50.0   среднее             1   \n",
       "21497         0            NaN       48.0    высшее             0   \n",
       "21502         1            NaN       42.0   среднее             1   \n",
       "21510         2            NaN       28.0   среднее             1   \n",
       "\n",
       "               family_status  family_status_id gender  income_type  debt  \\\n",
       "12          гражданский брак                 1      M    пенсионер     0   \n",
       "26           женат / замужем                 0      M  госслужащий     0   \n",
       "29     не женат / не замужем                 4      F    пенсионер     0   \n",
       "41           женат / замужем                 0      F  госслужащий     0   \n",
       "55          гражданский брак                 1      F    пенсионер     1   \n",
       "...                      ...               ...    ...          ...   ...   \n",
       "21489        женат / замужем                 0      M    компаньон     0   \n",
       "21495       гражданский брак                 1      F    сотрудник     0   \n",
       "21497        женат / замужем                 0      F    компаньон     0   \n",
       "21502        женат / замужем                 0      F    сотрудник     0   \n",
       "21510        женат / замужем                 0      F    сотрудник     0   \n",
       "\n",
       "       total_income                           purpose  \n",
       "12              NaN                   сыграть свадьбу  \n",
       "26              NaN                       образование  \n",
       "29              NaN  строительство жилой недвижимости  \n",
       "41              NaN  сделка с подержанным автомобилем  \n",
       "55              NaN                   сыграть свадьбу  \n",
       "...             ...                               ...  \n",
       "21489           NaN              сделка с автомобилем  \n",
       "21495           NaN                           свадьба  \n",
       "21497           NaN        строительство недвижимости  \n",
       "21502           NaN  строительство жилой недвижимости  \n",
       "21510           NaN           приобретение автомобиля  \n",
       "\n",
       "[2174 rows x 12 columns]"
      ]
     },
     "execution_count": 31,
     "metadata": {},
     "output_type": "execute_result"
    }
   ],
   "source": [
    "data[data.days_employed.isna()]"
   ]
  },
  {
   "cell_type": "code",
   "execution_count": 32,
   "id": "1d863cc7",
   "metadata": {
    "scrolled": false
   },
   "outputs": [
    {
     "data": {
      "text/html": [
       "<div>\n",
       "<style scoped>\n",
       "    .dataframe tbody tr th:only-of-type {\n",
       "        vertical-align: middle;\n",
       "    }\n",
       "\n",
       "    .dataframe tbody tr th {\n",
       "        vertical-align: top;\n",
       "    }\n",
       "\n",
       "    .dataframe thead th {\n",
       "        text-align: right;\n",
       "    }\n",
       "</style>\n",
       "<table border=\"1\" class=\"dataframe\">\n",
       "  <thead>\n",
       "    <tr style=\"text-align: right;\">\n",
       "      <th></th>\n",
       "      <th>children</th>\n",
       "      <th>days_employed</th>\n",
       "      <th>dob_years</th>\n",
       "      <th>education</th>\n",
       "      <th>education_id</th>\n",
       "      <th>family_status</th>\n",
       "      <th>family_status_id</th>\n",
       "      <th>gender</th>\n",
       "      <th>income_type</th>\n",
       "      <th>debt</th>\n",
       "      <th>total_income</th>\n",
       "      <th>purpose</th>\n",
       "    </tr>\n",
       "  </thead>\n",
       "  <tbody>\n",
       "    <tr>\n",
       "      <td>12</td>\n",
       "      <td>0</td>\n",
       "      <td>NaN</td>\n",
       "      <td>65.0</td>\n",
       "      <td>среднее</td>\n",
       "      <td>1</td>\n",
       "      <td>гражданский брак</td>\n",
       "      <td>1</td>\n",
       "      <td>M</td>\n",
       "      <td>пенсионер</td>\n",
       "      <td>0</td>\n",
       "      <td>NaN</td>\n",
       "      <td>сыграть свадьбу</td>\n",
       "    </tr>\n",
       "    <tr>\n",
       "      <td>26</td>\n",
       "      <td>0</td>\n",
       "      <td>NaN</td>\n",
       "      <td>41.0</td>\n",
       "      <td>среднее</td>\n",
       "      <td>1</td>\n",
       "      <td>женат / замужем</td>\n",
       "      <td>0</td>\n",
       "      <td>M</td>\n",
       "      <td>госслужащий</td>\n",
       "      <td>0</td>\n",
       "      <td>NaN</td>\n",
       "      <td>образование</td>\n",
       "    </tr>\n",
       "    <tr>\n",
       "      <td>29</td>\n",
       "      <td>0</td>\n",
       "      <td>NaN</td>\n",
       "      <td>63.0</td>\n",
       "      <td>среднее</td>\n",
       "      <td>1</td>\n",
       "      <td>не женат / не замужем</td>\n",
       "      <td>4</td>\n",
       "      <td>F</td>\n",
       "      <td>пенсионер</td>\n",
       "      <td>0</td>\n",
       "      <td>NaN</td>\n",
       "      <td>строительство жилой недвижимости</td>\n",
       "    </tr>\n",
       "    <tr>\n",
       "      <td>41</td>\n",
       "      <td>0</td>\n",
       "      <td>NaN</td>\n",
       "      <td>50.0</td>\n",
       "      <td>среднее</td>\n",
       "      <td>1</td>\n",
       "      <td>женат / замужем</td>\n",
       "      <td>0</td>\n",
       "      <td>F</td>\n",
       "      <td>госслужащий</td>\n",
       "      <td>0</td>\n",
       "      <td>NaN</td>\n",
       "      <td>сделка с подержанным автомобилем</td>\n",
       "    </tr>\n",
       "    <tr>\n",
       "      <td>55</td>\n",
       "      <td>0</td>\n",
       "      <td>NaN</td>\n",
       "      <td>54.0</td>\n",
       "      <td>среднее</td>\n",
       "      <td>1</td>\n",
       "      <td>гражданский брак</td>\n",
       "      <td>1</td>\n",
       "      <td>F</td>\n",
       "      <td>пенсионер</td>\n",
       "      <td>1</td>\n",
       "      <td>NaN</td>\n",
       "      <td>сыграть свадьбу</td>\n",
       "    </tr>\n",
       "    <tr>\n",
       "      <td>...</td>\n",
       "      <td>...</td>\n",
       "      <td>...</td>\n",
       "      <td>...</td>\n",
       "      <td>...</td>\n",
       "      <td>...</td>\n",
       "      <td>...</td>\n",
       "      <td>...</td>\n",
       "      <td>...</td>\n",
       "      <td>...</td>\n",
       "      <td>...</td>\n",
       "      <td>...</td>\n",
       "      <td>...</td>\n",
       "    </tr>\n",
       "    <tr>\n",
       "      <td>21489</td>\n",
       "      <td>2</td>\n",
       "      <td>NaN</td>\n",
       "      <td>47.0</td>\n",
       "      <td>среднее</td>\n",
       "      <td>1</td>\n",
       "      <td>женат / замужем</td>\n",
       "      <td>0</td>\n",
       "      <td>M</td>\n",
       "      <td>компаньон</td>\n",
       "      <td>0</td>\n",
       "      <td>NaN</td>\n",
       "      <td>сделка с автомобилем</td>\n",
       "    </tr>\n",
       "    <tr>\n",
       "      <td>21495</td>\n",
       "      <td>1</td>\n",
       "      <td>NaN</td>\n",
       "      <td>50.0</td>\n",
       "      <td>среднее</td>\n",
       "      <td>1</td>\n",
       "      <td>гражданский брак</td>\n",
       "      <td>1</td>\n",
       "      <td>F</td>\n",
       "      <td>сотрудник</td>\n",
       "      <td>0</td>\n",
       "      <td>NaN</td>\n",
       "      <td>свадьба</td>\n",
       "    </tr>\n",
       "    <tr>\n",
       "      <td>21497</td>\n",
       "      <td>0</td>\n",
       "      <td>NaN</td>\n",
       "      <td>48.0</td>\n",
       "      <td>высшее</td>\n",
       "      <td>0</td>\n",
       "      <td>женат / замужем</td>\n",
       "      <td>0</td>\n",
       "      <td>F</td>\n",
       "      <td>компаньон</td>\n",
       "      <td>0</td>\n",
       "      <td>NaN</td>\n",
       "      <td>строительство недвижимости</td>\n",
       "    </tr>\n",
       "    <tr>\n",
       "      <td>21502</td>\n",
       "      <td>1</td>\n",
       "      <td>NaN</td>\n",
       "      <td>42.0</td>\n",
       "      <td>среднее</td>\n",
       "      <td>1</td>\n",
       "      <td>женат / замужем</td>\n",
       "      <td>0</td>\n",
       "      <td>F</td>\n",
       "      <td>сотрудник</td>\n",
       "      <td>0</td>\n",
       "      <td>NaN</td>\n",
       "      <td>строительство жилой недвижимости</td>\n",
       "    </tr>\n",
       "    <tr>\n",
       "      <td>21510</td>\n",
       "      <td>2</td>\n",
       "      <td>NaN</td>\n",
       "      <td>28.0</td>\n",
       "      <td>среднее</td>\n",
       "      <td>1</td>\n",
       "      <td>женат / замужем</td>\n",
       "      <td>0</td>\n",
       "      <td>F</td>\n",
       "      <td>сотрудник</td>\n",
       "      <td>0</td>\n",
       "      <td>NaN</td>\n",
       "      <td>приобретение автомобиля</td>\n",
       "    </tr>\n",
       "  </tbody>\n",
       "</table>\n",
       "<p>2174 rows × 12 columns</p>\n",
       "</div>"
      ],
      "text/plain": [
       "       children  days_employed  dob_years education  education_id  \\\n",
       "12            0            NaN       65.0   среднее             1   \n",
       "26            0            NaN       41.0   среднее             1   \n",
       "29            0            NaN       63.0   среднее             1   \n",
       "41            0            NaN       50.0   среднее             1   \n",
       "55            0            NaN       54.0   среднее             1   \n",
       "...         ...            ...        ...       ...           ...   \n",
       "21489         2            NaN       47.0   среднее             1   \n",
       "21495         1            NaN       50.0   среднее             1   \n",
       "21497         0            NaN       48.0    высшее             0   \n",
       "21502         1            NaN       42.0   среднее             1   \n",
       "21510         2            NaN       28.0   среднее             1   \n",
       "\n",
       "               family_status  family_status_id gender  income_type  debt  \\\n",
       "12          гражданский брак                 1      M    пенсионер     0   \n",
       "26           женат / замужем                 0      M  госслужащий     0   \n",
       "29     не женат / не замужем                 4      F    пенсионер     0   \n",
       "41           женат / замужем                 0      F  госслужащий     0   \n",
       "55          гражданский брак                 1      F    пенсионер     1   \n",
       "...                      ...               ...    ...          ...   ...   \n",
       "21489        женат / замужем                 0      M    компаньон     0   \n",
       "21495       гражданский брак                 1      F    сотрудник     0   \n",
       "21497        женат / замужем                 0      F    компаньон     0   \n",
       "21502        женат / замужем                 0      F    сотрудник     0   \n",
       "21510        женат / замужем                 0      F    сотрудник     0   \n",
       "\n",
       "       total_income                           purpose  \n",
       "12              NaN                   сыграть свадьбу  \n",
       "26              NaN                       образование  \n",
       "29              NaN  строительство жилой недвижимости  \n",
       "41              NaN  сделка с подержанным автомобилем  \n",
       "55              NaN                   сыграть свадьбу  \n",
       "...             ...                               ...  \n",
       "21489           NaN              сделка с автомобилем  \n",
       "21495           NaN                           свадьба  \n",
       "21497           NaN        строительство недвижимости  \n",
       "21502           NaN  строительство жилой недвижимости  \n",
       "21510           NaN           приобретение автомобиля  \n",
       "\n",
       "[2174 rows x 12 columns]"
      ]
     },
     "execution_count": 32,
     "metadata": {},
     "output_type": "execute_result"
    }
   ],
   "source": [
    "data[data.total_income.isna()]"
   ]
  },
  {
   "cell_type": "code",
   "execution_count": 33,
   "id": "f03f5868",
   "metadata": {
    "scrolled": true
   },
   "outputs": [
    {
     "data": {
      "text/plain": [
       "children               0\n",
       "days_employed       2174\n",
       "dob_years              0\n",
       "education              0\n",
       "education_id           0\n",
       "family_status          0\n",
       "family_status_id       0\n",
       "gender                 0\n",
       "income_type            0\n",
       "debt                   0\n",
       "total_income        2174\n",
       "purpose                0\n",
       "dtype: int64"
      ]
     },
     "execution_count": 33,
     "metadata": {},
     "output_type": "execute_result"
    }
   ],
   "source": [
    "data.isna().sum()"
   ]
  },
  {
   "cell_type": "markdown",
   "id": "5c856b92",
   "metadata": {},
   "source": [
    "Пропущено 2174 значений в столбцах days_employed и total_income. Значения пропущени в одних записях. Возможна техническая ошибка, следует поговорить с разрабочтиками."
   ]
  },
  {
   "cell_type": "markdown",
   "id": "6d316a9e",
   "metadata": {},
   "source": [
    "Заменим все пропуски на медианные значения соответствующих столбцов."
   ]
  },
  {
   "cell_type": "code",
   "execution_count": 34,
   "id": "7de0c487",
   "metadata": {},
   "outputs": [
    {
     "name": "stderr",
     "output_type": "stream",
     "text": [
      "/opt/conda/lib/python3.7/site-packages/pandas/core/indexing.py:494: SettingWithCopyWarning: \n",
      "A value is trying to be set on a copy of a slice from a DataFrame.\n",
      "Try using .loc[row_indexer,col_indexer] = value instead\n",
      "\n",
      "See the caveats in the documentation: http://pandas.pydata.org/pandas-docs/stable/user_guide/indexing.html#returning-a-view-versus-a-copy\n",
      "  self.obj[item] = s\n"
     ]
    }
   ],
   "source": [
    "for income in data.income_type.unique():\n",
    "    median_days = data[data.income_type == income]['days_employed'].median()\n",
    "    median_total_income = data[data.income_type == income]['total_income'].median()\n",
    "#    print('days_employed:', median_days, ', total_income', median_total_income)\n",
    "    data.loc[(data.income_type == income) & (data.days_employed.isna()), 'days_employed'] = median_days\n",
    "    data.loc[(data.income_type == income) & (data.total_income.isna()), 'total_income'] = median_total_income"
   ]
  },
  {
   "cell_type": "code",
   "execution_count": 35,
   "id": "ec08932e",
   "metadata": {
    "scrolled": false
   },
   "outputs": [
    {
     "data": {
      "text/plain": [
       "children            0\n",
       "days_employed       0\n",
       "dob_years           0\n",
       "education           0\n",
       "education_id        0\n",
       "family_status       0\n",
       "family_status_id    0\n",
       "gender              0\n",
       "income_type         0\n",
       "debt                0\n",
       "total_income        0\n",
       "purpose             0\n",
       "dtype: int64"
      ]
     },
     "execution_count": 35,
     "metadata": {},
     "output_type": "execute_result"
    }
   ],
   "source": [
    "data.isna().sum()"
   ]
  },
  {
   "cell_type": "markdown",
   "id": "20f0015d",
   "metadata": {},
   "source": [
    "Отлично, пустых значений не осталось.\n",
    "Медианные значения в нашей ситуации подходят лучше, так как в наших данных большой размах. В случае медианы - половина значений больше, половина меньше."
   ]
  },
  {
   "cell_type": "markdown",
   "id": "d46f99fd",
   "metadata": {},
   "source": [
    "### Шаг 2.3. Изменение типов данных."
   ]
  },
  {
   "cell_type": "markdown",
   "id": "52a4645a",
   "metadata": {},
   "source": [
    "Преобразуем тип данных в стобцах days_employed, total_income и dob_years в int, таким образом будут записаны целые числа."
   ]
  },
  {
   "cell_type": "code",
   "execution_count": 36,
   "id": "f09fb25a",
   "metadata": {},
   "outputs": [],
   "source": [
    "data.days_employed = data.days_employed.astype('int')\n",
    "data.total_income = data.total_income.astype('int')\n",
    "data.dob_years = data.dob_years.astype('int')"
   ]
  },
  {
   "cell_type": "code",
   "execution_count": 37,
   "id": "c94096c6",
   "metadata": {},
   "outputs": [
    {
     "data": {
      "text/html": [
       "<div>\n",
       "<style scoped>\n",
       "    .dataframe tbody tr th:only-of-type {\n",
       "        vertical-align: middle;\n",
       "    }\n",
       "\n",
       "    .dataframe tbody tr th {\n",
       "        vertical-align: top;\n",
       "    }\n",
       "\n",
       "    .dataframe thead th {\n",
       "        text-align: right;\n",
       "    }\n",
       "</style>\n",
       "<table border=\"1\" class=\"dataframe\">\n",
       "  <thead>\n",
       "    <tr style=\"text-align: right;\">\n",
       "      <th></th>\n",
       "      <th>children</th>\n",
       "      <th>days_employed</th>\n",
       "      <th>dob_years</th>\n",
       "      <th>education</th>\n",
       "      <th>education_id</th>\n",
       "      <th>family_status</th>\n",
       "      <th>family_status_id</th>\n",
       "      <th>gender</th>\n",
       "      <th>income_type</th>\n",
       "      <th>debt</th>\n",
       "      <th>total_income</th>\n",
       "      <th>purpose</th>\n",
       "    </tr>\n",
       "  </thead>\n",
       "  <tbody>\n",
       "    <tr>\n",
       "      <td>0</td>\n",
       "      <td>1</td>\n",
       "      <td>8437</td>\n",
       "      <td>42</td>\n",
       "      <td>высшее</td>\n",
       "      <td>0</td>\n",
       "      <td>женат / замужем</td>\n",
       "      <td>0</td>\n",
       "      <td>F</td>\n",
       "      <td>сотрудник</td>\n",
       "      <td>0</td>\n",
       "      <td>253875</td>\n",
       "      <td>покупка жилья</td>\n",
       "    </tr>\n",
       "    <tr>\n",
       "      <td>1</td>\n",
       "      <td>1</td>\n",
       "      <td>4024</td>\n",
       "      <td>36</td>\n",
       "      <td>среднее</td>\n",
       "      <td>1</td>\n",
       "      <td>женат / замужем</td>\n",
       "      <td>0</td>\n",
       "      <td>F</td>\n",
       "      <td>сотрудник</td>\n",
       "      <td>0</td>\n",
       "      <td>112080</td>\n",
       "      <td>приобретение автомобиля</td>\n",
       "    </tr>\n",
       "    <tr>\n",
       "      <td>2</td>\n",
       "      <td>0</td>\n",
       "      <td>5623</td>\n",
       "      <td>33</td>\n",
       "      <td>среднее</td>\n",
       "      <td>1</td>\n",
       "      <td>женат / замужем</td>\n",
       "      <td>0</td>\n",
       "      <td>M</td>\n",
       "      <td>сотрудник</td>\n",
       "      <td>0</td>\n",
       "      <td>145885</td>\n",
       "      <td>покупка жилья</td>\n",
       "    </tr>\n",
       "    <tr>\n",
       "      <td>3</td>\n",
       "      <td>3</td>\n",
       "      <td>4124</td>\n",
       "      <td>32</td>\n",
       "      <td>среднее</td>\n",
       "      <td>1</td>\n",
       "      <td>женат / замужем</td>\n",
       "      <td>0</td>\n",
       "      <td>M</td>\n",
       "      <td>сотрудник</td>\n",
       "      <td>0</td>\n",
       "      <td>267628</td>\n",
       "      <td>дополнительное образование</td>\n",
       "    </tr>\n",
       "    <tr>\n",
       "      <td>4</td>\n",
       "      <td>0</td>\n",
       "      <td>340266</td>\n",
       "      <td>53</td>\n",
       "      <td>среднее</td>\n",
       "      <td>1</td>\n",
       "      <td>гражданский брак</td>\n",
       "      <td>1</td>\n",
       "      <td>F</td>\n",
       "      <td>пенсионер</td>\n",
       "      <td>0</td>\n",
       "      <td>158616</td>\n",
       "      <td>сыграть свадьбу</td>\n",
       "    </tr>\n",
       "  </tbody>\n",
       "</table>\n",
       "</div>"
      ],
      "text/plain": [
       "   children  days_employed  dob_years education  education_id  \\\n",
       "0         1           8437         42    высшее             0   \n",
       "1         1           4024         36   среднее             1   \n",
       "2         0           5623         33   среднее             1   \n",
       "3         3           4124         32   среднее             1   \n",
       "4         0         340266         53   среднее             1   \n",
       "\n",
       "      family_status  family_status_id gender income_type  debt  total_income  \\\n",
       "0   женат / замужем                 0      F   сотрудник     0        253875   \n",
       "1   женат / замужем                 0      F   сотрудник     0        112080   \n",
       "2   женат / замужем                 0      M   сотрудник     0        145885   \n",
       "3   женат / замужем                 0      M   сотрудник     0        267628   \n",
       "4  гражданский брак                 1      F   пенсионер     0        158616   \n",
       "\n",
       "                      purpose  \n",
       "0               покупка жилья  \n",
       "1     приобретение автомобиля  \n",
       "2               покупка жилья  \n",
       "3  дополнительное образование  \n",
       "4             сыграть свадьбу  "
      ]
     },
     "execution_count": 37,
     "metadata": {},
     "output_type": "execute_result"
    }
   ],
   "source": [
    "data.head()"
   ]
  },
  {
   "cell_type": "code",
   "execution_count": 38,
   "id": "9a4c9940",
   "metadata": {},
   "outputs": [
    {
     "name": "stdout",
     "output_type": "stream",
     "text": [
      "<class 'pandas.core.frame.DataFrame'>\n",
      "Int64Index: 21524 entries, 0 to 21524\n",
      "Data columns (total 12 columns):\n",
      "children            21524 non-null int64\n",
      "days_employed       21524 non-null int64\n",
      "dob_years           21524 non-null int64\n",
      "education           21524 non-null object\n",
      "education_id        21524 non-null int64\n",
      "family_status       21524 non-null object\n",
      "family_status_id    21524 non-null int64\n",
      "gender              21524 non-null object\n",
      "income_type         21524 non-null object\n",
      "debt                21524 non-null int64\n",
      "total_income        21524 non-null int64\n",
      "purpose             21524 non-null object\n",
      "dtypes: int64(7), object(5)\n",
      "memory usage: 2.1+ MB\n"
     ]
    }
   ],
   "source": [
    "data.info()"
   ]
  },
  {
   "cell_type": "markdown",
   "id": "fe0a9b5b",
   "metadata": {},
   "source": [
    "### Шаг 2.4. Удаление дубликатов."
   ]
  },
  {
   "cell_type": "code",
   "execution_count": 39,
   "id": "e960b90a",
   "metadata": {},
   "outputs": [
    {
     "data": {
      "text/plain": [
       "72"
      ]
     },
     "execution_count": 39,
     "metadata": {},
     "output_type": "execute_result"
    }
   ],
   "source": [
    "data.duplicated().sum()"
   ]
  },
  {
   "cell_type": "markdown",
   "id": "dfbc799d",
   "metadata": {},
   "source": [
    "Удалим полные дубликаты стандартным методом pandas с заменой индексов."
   ]
  },
  {
   "cell_type": "code",
   "execution_count": 40,
   "id": "f64d4855",
   "metadata": {},
   "outputs": [],
   "source": [
    "data = data.drop_duplicates().reset_index(drop=True)"
   ]
  },
  {
   "cell_type": "code",
   "execution_count": 41,
   "id": "f8eff283",
   "metadata": {},
   "outputs": [
    {
     "data": {
      "text/plain": [
       "0"
      ]
     },
     "execution_count": 41,
     "metadata": {},
     "output_type": "execute_result"
    }
   ],
   "source": [
    "data.duplicated().sum()"
   ]
  },
  {
   "cell_type": "markdown",
   "id": "a01c3b5a",
   "metadata": {},
   "source": [
    "Дубликатов не осталось"
   ]
  },
  {
   "cell_type": "markdown",
   "id": "b3f21a2c",
   "metadata": {},
   "source": [
    "### Шаг 2.5. Формирование дополнительных датафреймов словарей, декомпозиция исходного датафрейма."
   ]
  },
  {
   "cell_type": "markdown",
   "id": "06b15182",
   "metadata": {},
   "source": [
    "Выделим в отдельный датафрейм информацию об образовании."
   ]
  },
  {
   "cell_type": "code",
   "execution_count": 42,
   "id": "e40a748a",
   "metadata": {},
   "outputs": [],
   "source": [
    "education = data[['education_id', 'education']]"
   ]
  },
  {
   "cell_type": "code",
   "execution_count": 43,
   "id": "de903768",
   "metadata": {},
   "outputs": [],
   "source": [
    "education = education.drop_duplicates().reset_index(drop=True)"
   ]
  },
  {
   "cell_type": "code",
   "execution_count": 44,
   "id": "038dcd00",
   "metadata": {},
   "outputs": [
    {
     "data": {
      "text/html": [
       "<div>\n",
       "<style scoped>\n",
       "    .dataframe tbody tr th:only-of-type {\n",
       "        vertical-align: middle;\n",
       "    }\n",
       "\n",
       "    .dataframe tbody tr th {\n",
       "        vertical-align: top;\n",
       "    }\n",
       "\n",
       "    .dataframe thead th {\n",
       "        text-align: right;\n",
       "    }\n",
       "</style>\n",
       "<table border=\"1\" class=\"dataframe\">\n",
       "  <thead>\n",
       "    <tr style=\"text-align: right;\">\n",
       "      <th></th>\n",
       "      <th>education_id</th>\n",
       "      <th>education</th>\n",
       "    </tr>\n",
       "  </thead>\n",
       "  <tbody>\n",
       "    <tr>\n",
       "      <td>0</td>\n",
       "      <td>0</td>\n",
       "      <td>высшее</td>\n",
       "    </tr>\n",
       "    <tr>\n",
       "      <td>1</td>\n",
       "      <td>1</td>\n",
       "      <td>среднее</td>\n",
       "    </tr>\n",
       "    <tr>\n",
       "      <td>2</td>\n",
       "      <td>2</td>\n",
       "      <td>неоконченное высшее</td>\n",
       "    </tr>\n",
       "    <tr>\n",
       "      <td>3</td>\n",
       "      <td>3</td>\n",
       "      <td>начальное</td>\n",
       "    </tr>\n",
       "    <tr>\n",
       "      <td>4</td>\n",
       "      <td>4</td>\n",
       "      <td>ученая степень</td>\n",
       "    </tr>\n",
       "  </tbody>\n",
       "</table>\n",
       "</div>"
      ],
      "text/plain": [
       "   education_id            education\n",
       "0             0               высшее\n",
       "1             1              среднее\n",
       "2             2  неоконченное высшее\n",
       "3             3            начальное\n",
       "4             4       ученая степень"
      ]
     },
     "execution_count": 44,
     "metadata": {},
     "output_type": "execute_result"
    }
   ],
   "source": [
    "education"
   ]
  },
  {
   "cell_type": "markdown",
   "id": "fa1108d3",
   "metadata": {},
   "source": [
    "Также сделаем с семейным статусом."
   ]
  },
  {
   "cell_type": "code",
   "execution_count": 45,
   "id": "e403ce38",
   "metadata": {},
   "outputs": [],
   "source": [
    "family_status = data[['family_status_id', 'family_status']]"
   ]
  },
  {
   "cell_type": "code",
   "execution_count": 46,
   "id": "bdd3eaec",
   "metadata": {},
   "outputs": [],
   "source": [
    "family_status = family_status.drop_duplicates().reset_index(drop=True)"
   ]
  },
  {
   "cell_type": "code",
   "execution_count": 47,
   "id": "dde03cf4",
   "metadata": {},
   "outputs": [
    {
     "data": {
      "text/html": [
       "<div>\n",
       "<style scoped>\n",
       "    .dataframe tbody tr th:only-of-type {\n",
       "        vertical-align: middle;\n",
       "    }\n",
       "\n",
       "    .dataframe tbody tr th {\n",
       "        vertical-align: top;\n",
       "    }\n",
       "\n",
       "    .dataframe thead th {\n",
       "        text-align: right;\n",
       "    }\n",
       "</style>\n",
       "<table border=\"1\" class=\"dataframe\">\n",
       "  <thead>\n",
       "    <tr style=\"text-align: right;\">\n",
       "      <th></th>\n",
       "      <th>family_status_id</th>\n",
       "      <th>family_status</th>\n",
       "    </tr>\n",
       "  </thead>\n",
       "  <tbody>\n",
       "    <tr>\n",
       "      <td>0</td>\n",
       "      <td>0</td>\n",
       "      <td>женат / замужем</td>\n",
       "    </tr>\n",
       "    <tr>\n",
       "      <td>1</td>\n",
       "      <td>1</td>\n",
       "      <td>гражданский брак</td>\n",
       "    </tr>\n",
       "    <tr>\n",
       "      <td>2</td>\n",
       "      <td>2</td>\n",
       "      <td>вдовец / вдова</td>\n",
       "    </tr>\n",
       "    <tr>\n",
       "      <td>3</td>\n",
       "      <td>3</td>\n",
       "      <td>в разводе</td>\n",
       "    </tr>\n",
       "    <tr>\n",
       "      <td>4</td>\n",
       "      <td>4</td>\n",
       "      <td>не женат / не замужем</td>\n",
       "    </tr>\n",
       "  </tbody>\n",
       "</table>\n",
       "</div>"
      ],
      "text/plain": [
       "   family_status_id          family_status\n",
       "0                 0        женат / замужем\n",
       "1                 1       гражданский брак\n",
       "2                 2         вдовец / вдова\n",
       "3                 3              в разводе\n",
       "4                 4  не женат / не замужем"
      ]
     },
     "execution_count": 47,
     "metadata": {},
     "output_type": "execute_result"
    }
   ],
   "source": [
    "family_status"
   ]
  },
  {
   "cell_type": "markdown",
   "id": "e959edec",
   "metadata": {},
   "source": [
    "Удалим из таблицы информацию, которую мы вынесли в отдельные датафреймы. Оставим их id, по которым можно будет искать их значение."
   ]
  },
  {
   "cell_type": "code",
   "execution_count": 48,
   "id": "e342dd46",
   "metadata": {},
   "outputs": [],
   "source": [
    "data_upd = data.drop(['education', 'family_status'], axis=1)"
   ]
  },
  {
   "cell_type": "code",
   "execution_count": 49,
   "id": "b0493e62",
   "metadata": {
    "scrolled": true
   },
   "outputs": [
    {
     "data": {
      "text/html": [
       "<div>\n",
       "<style scoped>\n",
       "    .dataframe tbody tr th:only-of-type {\n",
       "        vertical-align: middle;\n",
       "    }\n",
       "\n",
       "    .dataframe tbody tr th {\n",
       "        vertical-align: top;\n",
       "    }\n",
       "\n",
       "    .dataframe thead th {\n",
       "        text-align: right;\n",
       "    }\n",
       "</style>\n",
       "<table border=\"1\" class=\"dataframe\">\n",
       "  <thead>\n",
       "    <tr style=\"text-align: right;\">\n",
       "      <th></th>\n",
       "      <th>children</th>\n",
       "      <th>days_employed</th>\n",
       "      <th>dob_years</th>\n",
       "      <th>education_id</th>\n",
       "      <th>family_status_id</th>\n",
       "      <th>gender</th>\n",
       "      <th>income_type</th>\n",
       "      <th>debt</th>\n",
       "      <th>total_income</th>\n",
       "      <th>purpose</th>\n",
       "    </tr>\n",
       "  </thead>\n",
       "  <tbody>\n",
       "    <tr>\n",
       "      <td>0</td>\n",
       "      <td>1</td>\n",
       "      <td>8437</td>\n",
       "      <td>42</td>\n",
       "      <td>0</td>\n",
       "      <td>0</td>\n",
       "      <td>F</td>\n",
       "      <td>сотрудник</td>\n",
       "      <td>0</td>\n",
       "      <td>253875</td>\n",
       "      <td>покупка жилья</td>\n",
       "    </tr>\n",
       "    <tr>\n",
       "      <td>1</td>\n",
       "      <td>1</td>\n",
       "      <td>4024</td>\n",
       "      <td>36</td>\n",
       "      <td>1</td>\n",
       "      <td>0</td>\n",
       "      <td>F</td>\n",
       "      <td>сотрудник</td>\n",
       "      <td>0</td>\n",
       "      <td>112080</td>\n",
       "      <td>приобретение автомобиля</td>\n",
       "    </tr>\n",
       "    <tr>\n",
       "      <td>2</td>\n",
       "      <td>0</td>\n",
       "      <td>5623</td>\n",
       "      <td>33</td>\n",
       "      <td>1</td>\n",
       "      <td>0</td>\n",
       "      <td>M</td>\n",
       "      <td>сотрудник</td>\n",
       "      <td>0</td>\n",
       "      <td>145885</td>\n",
       "      <td>покупка жилья</td>\n",
       "    </tr>\n",
       "    <tr>\n",
       "      <td>3</td>\n",
       "      <td>3</td>\n",
       "      <td>4124</td>\n",
       "      <td>32</td>\n",
       "      <td>1</td>\n",
       "      <td>0</td>\n",
       "      <td>M</td>\n",
       "      <td>сотрудник</td>\n",
       "      <td>0</td>\n",
       "      <td>267628</td>\n",
       "      <td>дополнительное образование</td>\n",
       "    </tr>\n",
       "    <tr>\n",
       "      <td>4</td>\n",
       "      <td>0</td>\n",
       "      <td>340266</td>\n",
       "      <td>53</td>\n",
       "      <td>1</td>\n",
       "      <td>1</td>\n",
       "      <td>F</td>\n",
       "      <td>пенсионер</td>\n",
       "      <td>0</td>\n",
       "      <td>158616</td>\n",
       "      <td>сыграть свадьбу</td>\n",
       "    </tr>\n",
       "    <tr>\n",
       "      <td>...</td>\n",
       "      <td>...</td>\n",
       "      <td>...</td>\n",
       "      <td>...</td>\n",
       "      <td>...</td>\n",
       "      <td>...</td>\n",
       "      <td>...</td>\n",
       "      <td>...</td>\n",
       "      <td>...</td>\n",
       "      <td>...</td>\n",
       "      <td>...</td>\n",
       "    </tr>\n",
       "    <tr>\n",
       "      <td>21447</td>\n",
       "      <td>1</td>\n",
       "      <td>4529</td>\n",
       "      <td>43</td>\n",
       "      <td>1</td>\n",
       "      <td>1</td>\n",
       "      <td>F</td>\n",
       "      <td>компаньон</td>\n",
       "      <td>0</td>\n",
       "      <td>224791</td>\n",
       "      <td>операции с жильем</td>\n",
       "    </tr>\n",
       "    <tr>\n",
       "      <td>21448</td>\n",
       "      <td>0</td>\n",
       "      <td>343937</td>\n",
       "      <td>67</td>\n",
       "      <td>1</td>\n",
       "      <td>0</td>\n",
       "      <td>F</td>\n",
       "      <td>пенсионер</td>\n",
       "      <td>0</td>\n",
       "      <td>155999</td>\n",
       "      <td>сделка с автомобилем</td>\n",
       "    </tr>\n",
       "    <tr>\n",
       "      <td>21449</td>\n",
       "      <td>1</td>\n",
       "      <td>2113</td>\n",
       "      <td>38</td>\n",
       "      <td>1</td>\n",
       "      <td>1</td>\n",
       "      <td>M</td>\n",
       "      <td>сотрудник</td>\n",
       "      <td>1</td>\n",
       "      <td>89672</td>\n",
       "      <td>недвижимость</td>\n",
       "    </tr>\n",
       "    <tr>\n",
       "      <td>21450</td>\n",
       "      <td>3</td>\n",
       "      <td>3112</td>\n",
       "      <td>38</td>\n",
       "      <td>1</td>\n",
       "      <td>0</td>\n",
       "      <td>M</td>\n",
       "      <td>сотрудник</td>\n",
       "      <td>1</td>\n",
       "      <td>244093</td>\n",
       "      <td>на покупку своего автомобиля</td>\n",
       "    </tr>\n",
       "    <tr>\n",
       "      <td>21451</td>\n",
       "      <td>2</td>\n",
       "      <td>1984</td>\n",
       "      <td>40</td>\n",
       "      <td>1</td>\n",
       "      <td>0</td>\n",
       "      <td>F</td>\n",
       "      <td>сотрудник</td>\n",
       "      <td>0</td>\n",
       "      <td>82047</td>\n",
       "      <td>на покупку автомобиля</td>\n",
       "    </tr>\n",
       "  </tbody>\n",
       "</table>\n",
       "<p>21452 rows × 10 columns</p>\n",
       "</div>"
      ],
      "text/plain": [
       "       children  days_employed  dob_years  education_id  family_status_id  \\\n",
       "0             1           8437         42             0                 0   \n",
       "1             1           4024         36             1                 0   \n",
       "2             0           5623         33             1                 0   \n",
       "3             3           4124         32             1                 0   \n",
       "4             0         340266         53             1                 1   \n",
       "...         ...            ...        ...           ...               ...   \n",
       "21447         1           4529         43             1                 1   \n",
       "21448         0         343937         67             1                 0   \n",
       "21449         1           2113         38             1                 1   \n",
       "21450         3           3112         38             1                 0   \n",
       "21451         2           1984         40             1                 0   \n",
       "\n",
       "      gender income_type  debt  total_income                       purpose  \n",
       "0          F   сотрудник     0        253875                 покупка жилья  \n",
       "1          F   сотрудник     0        112080       приобретение автомобиля  \n",
       "2          M   сотрудник     0        145885                 покупка жилья  \n",
       "3          M   сотрудник     0        267628    дополнительное образование  \n",
       "4          F   пенсионер     0        158616               сыграть свадьбу  \n",
       "...      ...         ...   ...           ...                           ...  \n",
       "21447      F   компаньон     0        224791             операции с жильем  \n",
       "21448      F   пенсионер     0        155999          сделка с автомобилем  \n",
       "21449      M   сотрудник     1         89672                  недвижимость  \n",
       "21450      M   сотрудник     1        244093  на покупку своего автомобиля  \n",
       "21451      F   сотрудник     0         82047         на покупку автомобиля  \n",
       "\n",
       "[21452 rows x 10 columns]"
      ]
     },
     "execution_count": 49,
     "metadata": {},
     "output_type": "execute_result"
    }
   ],
   "source": [
    "data_upd"
   ]
  },
  {
   "cell_type": "markdown",
   "id": "8779956b",
   "metadata": {},
   "source": [
    "### Шаг 2.6. Категоризация дохода."
   ]
  },
  {
   "cell_type": "markdown",
   "id": "e3ec4af8",
   "metadata": {},
   "source": [
    "Создадим функцию для присваивания категорий в зависимости от дохода."
   ]
  },
  {
   "cell_type": "code",
   "execution_count": 50,
   "id": "d50e6218",
   "metadata": {},
   "outputs": [],
   "source": [
    "def get_income_category(total_income):\n",
    "    if total_income <= 30000: return 'E'\n",
    "    if total_income <= 50000: return 'D'\n",
    "    if total_income <= 200000: return 'C'\n",
    "    if total_income <= 1000000: return 'B'\n",
    "    return 'A'"
   ]
  },
  {
   "cell_type": "code",
   "execution_count": 51,
   "id": "36333cb1",
   "metadata": {},
   "outputs": [],
   "source": [
    "data_upd['total_income_category'] = data_upd.total_income.apply(get_income_category)"
   ]
  },
  {
   "cell_type": "code",
   "execution_count": 52,
   "id": "c2ad6a0f",
   "metadata": {
    "scrolled": false
   },
   "outputs": [
    {
     "data": {
      "text/html": [
       "<div>\n",
       "<style scoped>\n",
       "    .dataframe tbody tr th:only-of-type {\n",
       "        vertical-align: middle;\n",
       "    }\n",
       "\n",
       "    .dataframe tbody tr th {\n",
       "        vertical-align: top;\n",
       "    }\n",
       "\n",
       "    .dataframe thead th {\n",
       "        text-align: right;\n",
       "    }\n",
       "</style>\n",
       "<table border=\"1\" class=\"dataframe\">\n",
       "  <thead>\n",
       "    <tr style=\"text-align: right;\">\n",
       "      <th></th>\n",
       "      <th>children</th>\n",
       "      <th>days_employed</th>\n",
       "      <th>dob_years</th>\n",
       "      <th>education_id</th>\n",
       "      <th>family_status_id</th>\n",
       "      <th>gender</th>\n",
       "      <th>income_type</th>\n",
       "      <th>debt</th>\n",
       "      <th>total_income</th>\n",
       "      <th>purpose</th>\n",
       "      <th>total_income_category</th>\n",
       "    </tr>\n",
       "  </thead>\n",
       "  <tbody>\n",
       "    <tr>\n",
       "      <td>0</td>\n",
       "      <td>1</td>\n",
       "      <td>8437</td>\n",
       "      <td>42</td>\n",
       "      <td>0</td>\n",
       "      <td>0</td>\n",
       "      <td>F</td>\n",
       "      <td>сотрудник</td>\n",
       "      <td>0</td>\n",
       "      <td>253875</td>\n",
       "      <td>покупка жилья</td>\n",
       "      <td>B</td>\n",
       "    </tr>\n",
       "    <tr>\n",
       "      <td>1</td>\n",
       "      <td>1</td>\n",
       "      <td>4024</td>\n",
       "      <td>36</td>\n",
       "      <td>1</td>\n",
       "      <td>0</td>\n",
       "      <td>F</td>\n",
       "      <td>сотрудник</td>\n",
       "      <td>0</td>\n",
       "      <td>112080</td>\n",
       "      <td>приобретение автомобиля</td>\n",
       "      <td>C</td>\n",
       "    </tr>\n",
       "    <tr>\n",
       "      <td>2</td>\n",
       "      <td>0</td>\n",
       "      <td>5623</td>\n",
       "      <td>33</td>\n",
       "      <td>1</td>\n",
       "      <td>0</td>\n",
       "      <td>M</td>\n",
       "      <td>сотрудник</td>\n",
       "      <td>0</td>\n",
       "      <td>145885</td>\n",
       "      <td>покупка жилья</td>\n",
       "      <td>C</td>\n",
       "    </tr>\n",
       "    <tr>\n",
       "      <td>3</td>\n",
       "      <td>3</td>\n",
       "      <td>4124</td>\n",
       "      <td>32</td>\n",
       "      <td>1</td>\n",
       "      <td>0</td>\n",
       "      <td>M</td>\n",
       "      <td>сотрудник</td>\n",
       "      <td>0</td>\n",
       "      <td>267628</td>\n",
       "      <td>дополнительное образование</td>\n",
       "      <td>B</td>\n",
       "    </tr>\n",
       "    <tr>\n",
       "      <td>4</td>\n",
       "      <td>0</td>\n",
       "      <td>340266</td>\n",
       "      <td>53</td>\n",
       "      <td>1</td>\n",
       "      <td>1</td>\n",
       "      <td>F</td>\n",
       "      <td>пенсионер</td>\n",
       "      <td>0</td>\n",
       "      <td>158616</td>\n",
       "      <td>сыграть свадьбу</td>\n",
       "      <td>C</td>\n",
       "    </tr>\n",
       "  </tbody>\n",
       "</table>\n",
       "</div>"
      ],
      "text/plain": [
       "   children  days_employed  dob_years  education_id  family_status_id gender  \\\n",
       "0         1           8437         42             0                 0      F   \n",
       "1         1           4024         36             1                 0      F   \n",
       "2         0           5623         33             1                 0      M   \n",
       "3         3           4124         32             1                 0      M   \n",
       "4         0         340266         53             1                 1      F   \n",
       "\n",
       "  income_type  debt  total_income                     purpose  \\\n",
       "0   сотрудник     0        253875               покупка жилья   \n",
       "1   сотрудник     0        112080     приобретение автомобиля   \n",
       "2   сотрудник     0        145885               покупка жилья   \n",
       "3   сотрудник     0        267628  дополнительное образование   \n",
       "4   пенсионер     0        158616             сыграть свадьбу   \n",
       "\n",
       "  total_income_category  \n",
       "0                     B  \n",
       "1                     C  \n",
       "2                     C  \n",
       "3                     B  \n",
       "4                     C  "
      ]
     },
     "execution_count": 52,
     "metadata": {},
     "output_type": "execute_result"
    }
   ],
   "source": [
    "data_upd.head()"
   ]
  },
  {
   "cell_type": "markdown",
   "id": "56374ec5",
   "metadata": {},
   "source": [
    "### Шаг 2.7. Категоризация целей кредита."
   ]
  },
  {
   "cell_type": "markdown",
   "id": "31460f4c",
   "metadata": {},
   "source": [
    "Также создадим функцию для категоризации целей кредита."
   ]
  },
  {
   "cell_type": "code",
   "execution_count": 53,
   "id": "d8ff1f84",
   "metadata": {},
   "outputs": [
    {
     "data": {
      "text/plain": [
       "свадьба                                   791\n",
       "на проведение свадьбы                     767\n",
       "сыграть свадьбу                           765\n",
       "операции с недвижимостью                  675\n",
       "покупка коммерческой недвижимости         661\n",
       "операции с жильем                         652\n",
       "покупка жилья для сдачи                   651\n",
       "операции с коммерческой недвижимостью     650\n",
       "покупка жилья                             646\n",
       "жилье                                     646\n",
       "покупка жилья для семьи                   638\n",
       "строительство собственной недвижимости    635\n",
       "недвижимость                              633\n",
       "операции со своей недвижимостью           627\n",
       "строительство жилой недвижимости          624\n",
       "покупка недвижимости                      620\n",
       "покупка своего жилья                      620\n",
       "строительство недвижимости                619\n",
       "ремонт жилью                              607\n",
       "покупка жилой недвижимости                606\n",
       "на покупку своего автомобиля              505\n",
       "заняться высшим образованием              496\n",
       "автомобиль                                494\n",
       "сделка с подержанным автомобилем          486\n",
       "автомобили                                478\n",
       "на покупку подержанного автомобиля        478\n",
       "свой автомобиль                           478\n",
       "на покупку автомобиля                     471\n",
       "приобретение автомобиля                   461\n",
       "дополнительное образование                460\n",
       "сделка с автомобилем                      455\n",
       "высшее образование                        452\n",
       "образование                               447\n",
       "получение дополнительного образования     446\n",
       "получение образования                     442\n",
       "профильное образование                    436\n",
       "получение высшего образования             426\n",
       "заняться образованием                     408\n",
       "Name: purpose, dtype: int64"
      ]
     },
     "execution_count": 53,
     "metadata": {},
     "output_type": "execute_result"
    }
   ],
   "source": [
    "data_upd.purpose.value_counts()"
   ]
  },
  {
   "cell_type": "code",
   "execution_count": 2,
   "id": "c2cfd0e8",
   "metadata": {},
   "outputs": [],
   "source": [
    "def get_purpose_category(purpose):\n",
    "    if 'авто' in purpose: return 'операции с автомобилем'\n",
    "    if 'недвижимост' in purpose or 'жиль' in purpose: return 'операции с недвижимостью'\n",
    "    if 'свадьб' in purpose: return 'проведение свадьбы'\n",
    "    if 'образован' in purpose: return 'получение образования'"
   ]
  },
  {
   "cell_type": "code",
   "execution_count": 55,
   "id": "9aa2b56a",
   "metadata": {},
   "outputs": [],
   "source": [
    "data_upd['purpose_category'] = data_upd.purpose.apply(get_purpose_category)"
   ]
  },
  {
   "cell_type": "code",
   "execution_count": 56,
   "id": "bec2fc99",
   "metadata": {},
   "outputs": [
    {
     "data": {
      "text/html": [
       "<div>\n",
       "<style scoped>\n",
       "    .dataframe tbody tr th:only-of-type {\n",
       "        vertical-align: middle;\n",
       "    }\n",
       "\n",
       "    .dataframe tbody tr th {\n",
       "        vertical-align: top;\n",
       "    }\n",
       "\n",
       "    .dataframe thead th {\n",
       "        text-align: right;\n",
       "    }\n",
       "</style>\n",
       "<table border=\"1\" class=\"dataframe\">\n",
       "  <thead>\n",
       "    <tr style=\"text-align: right;\">\n",
       "      <th></th>\n",
       "      <th>children</th>\n",
       "      <th>days_employed</th>\n",
       "      <th>dob_years</th>\n",
       "      <th>education_id</th>\n",
       "      <th>family_status_id</th>\n",
       "      <th>gender</th>\n",
       "      <th>income_type</th>\n",
       "      <th>debt</th>\n",
       "      <th>total_income</th>\n",
       "      <th>purpose</th>\n",
       "      <th>total_income_category</th>\n",
       "      <th>purpose_category</th>\n",
       "    </tr>\n",
       "  </thead>\n",
       "  <tbody>\n",
       "    <tr>\n",
       "      <td>0</td>\n",
       "      <td>1</td>\n",
       "      <td>8437</td>\n",
       "      <td>42</td>\n",
       "      <td>0</td>\n",
       "      <td>0</td>\n",
       "      <td>F</td>\n",
       "      <td>сотрудник</td>\n",
       "      <td>0</td>\n",
       "      <td>253875</td>\n",
       "      <td>покупка жилья</td>\n",
       "      <td>B</td>\n",
       "      <td>операции с недвижимостью</td>\n",
       "    </tr>\n",
       "    <tr>\n",
       "      <td>1</td>\n",
       "      <td>1</td>\n",
       "      <td>4024</td>\n",
       "      <td>36</td>\n",
       "      <td>1</td>\n",
       "      <td>0</td>\n",
       "      <td>F</td>\n",
       "      <td>сотрудник</td>\n",
       "      <td>0</td>\n",
       "      <td>112080</td>\n",
       "      <td>приобретение автомобиля</td>\n",
       "      <td>C</td>\n",
       "      <td>операции с автомобилем</td>\n",
       "    </tr>\n",
       "    <tr>\n",
       "      <td>2</td>\n",
       "      <td>0</td>\n",
       "      <td>5623</td>\n",
       "      <td>33</td>\n",
       "      <td>1</td>\n",
       "      <td>0</td>\n",
       "      <td>M</td>\n",
       "      <td>сотрудник</td>\n",
       "      <td>0</td>\n",
       "      <td>145885</td>\n",
       "      <td>покупка жилья</td>\n",
       "      <td>C</td>\n",
       "      <td>операции с недвижимостью</td>\n",
       "    </tr>\n",
       "    <tr>\n",
       "      <td>3</td>\n",
       "      <td>3</td>\n",
       "      <td>4124</td>\n",
       "      <td>32</td>\n",
       "      <td>1</td>\n",
       "      <td>0</td>\n",
       "      <td>M</td>\n",
       "      <td>сотрудник</td>\n",
       "      <td>0</td>\n",
       "      <td>267628</td>\n",
       "      <td>дополнительное образование</td>\n",
       "      <td>B</td>\n",
       "      <td>получение образования</td>\n",
       "    </tr>\n",
       "    <tr>\n",
       "      <td>4</td>\n",
       "      <td>0</td>\n",
       "      <td>340266</td>\n",
       "      <td>53</td>\n",
       "      <td>1</td>\n",
       "      <td>1</td>\n",
       "      <td>F</td>\n",
       "      <td>пенсионер</td>\n",
       "      <td>0</td>\n",
       "      <td>158616</td>\n",
       "      <td>сыграть свадьбу</td>\n",
       "      <td>C</td>\n",
       "      <td>проведение свадьбы</td>\n",
       "    </tr>\n",
       "  </tbody>\n",
       "</table>\n",
       "</div>"
      ],
      "text/plain": [
       "   children  days_employed  dob_years  education_id  family_status_id gender  \\\n",
       "0         1           8437         42             0                 0      F   \n",
       "1         1           4024         36             1                 0      F   \n",
       "2         0           5623         33             1                 0      M   \n",
       "3         3           4124         32             1                 0      M   \n",
       "4         0         340266         53             1                 1      F   \n",
       "\n",
       "  income_type  debt  total_income                     purpose  \\\n",
       "0   сотрудник     0        253875               покупка жилья   \n",
       "1   сотрудник     0        112080     приобретение автомобиля   \n",
       "2   сотрудник     0        145885               покупка жилья   \n",
       "3   сотрудник     0        267628  дополнительное образование   \n",
       "4   пенсионер     0        158616             сыграть свадьбу   \n",
       "\n",
       "  total_income_category          purpose_category  \n",
       "0                     B  операции с недвижимостью  \n",
       "1                     C    операции с автомобилем  \n",
       "2                     C  операции с недвижимостью  \n",
       "3                     B     получение образования  \n",
       "4                     C        проведение свадьбы  "
      ]
     },
     "execution_count": 56,
     "metadata": {},
     "output_type": "execute_result"
    }
   ],
   "source": [
    "data_upd.head()"
   ]
  },
  {
   "cell_type": "code",
   "execution_count": 57,
   "id": "88aa8bb5",
   "metadata": {
    "scrolled": true
   },
   "outputs": [
    {
     "data": {
      "text/plain": [
       "операции с недвижимостью    10810\n",
       "операции с автомобилем       4306\n",
       "получение образования        4013\n",
       "проведение свадьбы           2323\n",
       "Name: purpose_category, dtype: int64"
      ]
     },
     "execution_count": 57,
     "metadata": {},
     "output_type": "execute_result"
    }
   ],
   "source": [
    "data_upd.purpose_category.value_counts()"
   ]
  },
  {
   "cell_type": "markdown",
   "id": "d1697de3",
   "metadata": {},
   "source": [
    "### Ответы на вопросы."
   ]
  },
  {
   "cell_type": "markdown",
   "id": "49e64d4b",
   "metadata": {},
   "source": [
    "##### Вопрос 1: Есть ли зависимость между количеством детей и возвратом кредита в срок?"
   ]
  },
  {
   "cell_type": "markdown",
   "id": "edd4355f",
   "metadata": {},
   "source": [
    "Рассмотрим отношение количества клиентов, имеющих задолжности по возврату кредитов, к общему числу клиентов в заивисимости от количества детей."
   ]
  },
  {
   "cell_type": "code",
   "execution_count": 58,
   "id": "d9f24458",
   "metadata": {},
   "outputs": [
    {
     "data": {
      "text/html": [
       "<div>\n",
       "<style scoped>\n",
       "    .dataframe tbody tr th:only-of-type {\n",
       "        vertical-align: middle;\n",
       "    }\n",
       "\n",
       "    .dataframe tbody tr th {\n",
       "        vertical-align: top;\n",
       "    }\n",
       "\n",
       "    .dataframe thead th {\n",
       "        text-align: right;\n",
       "    }\n",
       "</style>\n",
       "<table border=\"1\" class=\"dataframe\">\n",
       "  <thead>\n",
       "    <tr style=\"text-align: right;\">\n",
       "      <th></th>\n",
       "      <th>children</th>\n",
       "      <th>debt</th>\n",
       "    </tr>\n",
       "  </thead>\n",
       "  <tbody>\n",
       "    <tr>\n",
       "      <td>0</td>\n",
       "      <td>0</td>\n",
       "      <td>7.544893</td>\n",
       "    </tr>\n",
       "    <tr>\n",
       "      <td>1</td>\n",
       "      <td>1</td>\n",
       "      <td>9.165808</td>\n",
       "    </tr>\n",
       "    <tr>\n",
       "      <td>2</td>\n",
       "      <td>2</td>\n",
       "      <td>9.492481</td>\n",
       "    </tr>\n",
       "    <tr>\n",
       "      <td>3</td>\n",
       "      <td>3</td>\n",
       "      <td>8.181818</td>\n",
       "    </tr>\n",
       "    <tr>\n",
       "      <td>4</td>\n",
       "      <td>4</td>\n",
       "      <td>9.756098</td>\n",
       "    </tr>\n",
       "    <tr>\n",
       "      <td>5</td>\n",
       "      <td>5</td>\n",
       "      <td>0.000000</td>\n",
       "    </tr>\n",
       "  </tbody>\n",
       "</table>\n",
       "</div>"
      ],
      "text/plain": [
       "   children      debt\n",
       "0         0  7.544893\n",
       "1         1  9.165808\n",
       "2         2  9.492481\n",
       "3         3  8.181818\n",
       "4         4  9.756098\n",
       "5         5  0.000000"
      ]
     },
     "execution_count": 58,
     "metadata": {},
     "output_type": "execute_result"
    }
   ],
   "source": [
    "data_children = (data_upd.groupby('children')['debt'].sum() * 100 / data_upd.groupby('children')['debt'].count()).reset_index()\n",
    "data_children"
   ]
  },
  {
   "cell_type": "markdown",
   "id": "c58f3569",
   "metadata": {},
   "source": [
    "У клиентов, имеющих от 0 до 4 детей, доля имеющих задолжность колеблется от 7.5 до 9.7%.\n",
    "Рассмотрим подробнее клиентов с 5 детьми."
   ]
  },
  {
   "cell_type": "code",
   "execution_count": 59,
   "id": "393ff17a",
   "metadata": {},
   "outputs": [
    {
     "data": {
      "text/html": [
       "<div>\n",
       "<style scoped>\n",
       "    .dataframe tbody tr th:only-of-type {\n",
       "        vertical-align: middle;\n",
       "    }\n",
       "\n",
       "    .dataframe tbody tr th {\n",
       "        vertical-align: top;\n",
       "    }\n",
       "\n",
       "    .dataframe thead th {\n",
       "        text-align: right;\n",
       "    }\n",
       "</style>\n",
       "<table border=\"1\" class=\"dataframe\">\n",
       "  <thead>\n",
       "    <tr style=\"text-align: right;\">\n",
       "      <th></th>\n",
       "      <th>children</th>\n",
       "      <th>debt</th>\n",
       "    </tr>\n",
       "  </thead>\n",
       "  <tbody>\n",
       "    <tr>\n",
       "      <td>3977</td>\n",
       "      <td>5</td>\n",
       "      <td>0</td>\n",
       "    </tr>\n",
       "    <tr>\n",
       "      <td>4394</td>\n",
       "      <td>5</td>\n",
       "      <td>0</td>\n",
       "    </tr>\n",
       "    <tr>\n",
       "      <td>7859</td>\n",
       "      <td>5</td>\n",
       "      <td>0</td>\n",
       "    </tr>\n",
       "    <tr>\n",
       "      <td>15785</td>\n",
       "      <td>5</td>\n",
       "      <td>0</td>\n",
       "    </tr>\n",
       "    <tr>\n",
       "      <td>15879</td>\n",
       "      <td>5</td>\n",
       "      <td>0</td>\n",
       "    </tr>\n",
       "    <tr>\n",
       "      <td>16171</td>\n",
       "      <td>5</td>\n",
       "      <td>0</td>\n",
       "    </tr>\n",
       "    <tr>\n",
       "      <td>20385</td>\n",
       "      <td>5</td>\n",
       "      <td>0</td>\n",
       "    </tr>\n",
       "    <tr>\n",
       "      <td>20768</td>\n",
       "      <td>5</td>\n",
       "      <td>0</td>\n",
       "    </tr>\n",
       "    <tr>\n",
       "      <td>21085</td>\n",
       "      <td>5</td>\n",
       "      <td>0</td>\n",
       "    </tr>\n",
       "  </tbody>\n",
       "</table>\n",
       "</div>"
      ],
      "text/plain": [
       "       children  debt\n",
       "3977          5     0\n",
       "4394          5     0\n",
       "7859          5     0\n",
       "15785         5     0\n",
       "15879         5     0\n",
       "16171         5     0\n",
       "20385         5     0\n",
       "20768         5     0\n",
       "21085         5     0"
      ]
     },
     "execution_count": 59,
     "metadata": {},
     "output_type": "execute_result"
    }
   ],
   "source": [
    "data_upd[data_upd.children == 5][['children','debt']]"
   ]
  },
  {
   "cell_type": "markdown",
   "id": "14d7f31c",
   "metadata": {},
   "source": [
    "Клиентов банка с 5 детьми всего 9 человек и все они не имели задолжности по платежам по кредитам. Но выборка из 9 человек слишком мала для каких-либо выводам по этой группе."
   ]
  },
  {
   "cell_type": "markdown",
   "id": "a585c29b",
   "metadata": {},
   "source": [
    "##### Вывод 1:"
   ]
  },
  {
   "cell_type": "code",
   "execution_count": 60,
   "id": "136e073e",
   "metadata": {},
   "outputs": [
    {
     "data": {
      "text/plain": [
       "<matplotlib.axes._subplots.AxesSubplot at 0x7fe413af8650>"
      ]
     },
     "execution_count": 60,
     "metadata": {},
     "output_type": "execute_result"
    },
    {
     "data": {
      "image/png": "[encoded data removed]",
      "text/plain": [
       "<Figure size 432x288 with 1 Axes>"
      ]
     },
     "metadata": {
      "needs_background": "light"
     },
     "output_type": "display_data"
    }
   ],
   "source": [
    "sns.barplot(x = data_children.children, y = data_children.debt)"
   ]
  },
  {
   "cell_type": "markdown",
   "id": "8679c450",
   "metadata": {},
   "source": [
    "Зависимость между количеством детей и возвратом кредита в срок прослеживается слабо. \n",
    "Доля не имеющих детей клиентов, имевших задолжности по возврату кредита - 7.5%.\n",
    "Доля клиентов с количеством детей от 1 до 4, имевших задолженность колеблется от 8.2 до 9.7%.\n",
    "Выделяется группа клиентов с 5 детьми, но таких всего 9. Поэтому такая выборка не является репрезентабельной.\n",
    "\n",
    "Делаем следующие выводы:\n",
    "- клиенты без детей и с 3 детьми не значительно реже имеют просрочки по кредитам;\n",
    "- клиенты с 1, 2, 4 в равной степени оплачивают кредит в срок.\n",
    "\n",
    "Количество детей не значительно влияет на возврат кредита в срок."
   ]
  },
  {
   "cell_type": "markdown",
   "id": "81fd6f11",
   "metadata": {},
   "source": [
    "##### Вопрос 2: Есть ли зависимость между семейным положением и возвратом кредита в срок?"
   ]
  },
  {
   "cell_type": "markdown",
   "id": "a4d85ceb",
   "metadata": {},
   "source": [
    "Рассмотрим отношение количества клиентов, имеющих задолжности по возврату кредитов, к общему числу клиентов в заивисимости от семейного положения."
   ]
  },
  {
   "cell_type": "code",
   "execution_count": 61,
   "id": "0257ee9d",
   "metadata": {},
   "outputs": [
    {
     "data": {
      "text/html": [
       "<div>\n",
       "<style scoped>\n",
       "    .dataframe tbody tr th:only-of-type {\n",
       "        vertical-align: middle;\n",
       "    }\n",
       "\n",
       "    .dataframe tbody tr th {\n",
       "        vertical-align: top;\n",
       "    }\n",
       "\n",
       "    .dataframe thead th {\n",
       "        text-align: right;\n",
       "    }\n",
       "</style>\n",
       "<table border=\"1\" class=\"dataframe\">\n",
       "  <thead>\n",
       "    <tr style=\"text-align: right;\">\n",
       "      <th></th>\n",
       "      <th>family_status</th>\n",
       "      <th>debt</th>\n",
       "    </tr>\n",
       "  </thead>\n",
       "  <tbody>\n",
       "    <tr>\n",
       "      <td>2</td>\n",
       "      <td>вдовец / вдова</td>\n",
       "      <td>6.569343</td>\n",
       "    </tr>\n",
       "    <tr>\n",
       "      <td>3</td>\n",
       "      <td>в разводе</td>\n",
       "      <td>7.112971</td>\n",
       "    </tr>\n",
       "    <tr>\n",
       "      <td>0</td>\n",
       "      <td>женат / замужем</td>\n",
       "      <td>7.545182</td>\n",
       "    </tr>\n",
       "    <tr>\n",
       "      <td>1</td>\n",
       "      <td>гражданский брак</td>\n",
       "      <td>9.351651</td>\n",
       "    </tr>\n",
       "    <tr>\n",
       "      <td>4</td>\n",
       "      <td>не женат / не замужем</td>\n",
       "      <td>9.750890</td>\n",
       "    </tr>\n",
       "  </tbody>\n",
       "</table>\n",
       "</div>"
      ],
      "text/plain": [
       "           family_status      debt\n",
       "2         вдовец / вдова  6.569343\n",
       "3              в разводе  7.112971\n",
       "0        женат / замужем  7.545182\n",
       "1       гражданский брак  9.351651\n",
       "4  не женат / не замужем  9.750890"
      ]
     },
     "execution_count": 61,
     "metadata": {},
     "output_type": "execute_result"
    }
   ],
   "source": [
    "data_family = family_status.merge(data_upd.groupby('family_status_id')['debt'].sum() * 100 / data_upd.groupby('family_status_id')['debt'].count(),\n",
    "                   on='family_status_id')[['family_status', 'debt']].sort_values(by='debt')\n",
    "data_family"
   ]
  },
  {
   "cell_type": "markdown",
   "id": "8ea4a1f2",
   "metadata": {},
   "source": [
    "#####  Вывод 2:"
   ]
  },
  {
   "cell_type": "code",
   "execution_count": 62,
   "id": "5eea1fe2",
   "metadata": {},
   "outputs": [
    {
     "data": {
      "text/plain": [
       "<matplotlib.axes._subplots.AxesSubplot at 0x7fe40b9d9e90>"
      ]
     },
     "execution_count": 62,
     "metadata": {},
     "output_type": "execute_result"
    },
    {
     "data": {
      "image/png": "[encoded data removed]",
      "text/plain": [
       "<Figure size 432x288 with 1 Axes>"
      ]
     },
     "metadata": {
      "needs_background": "light"
     },
     "output_type": "display_data"
    }
   ],
   "source": [
    "sns.barplot(y = data_family.family_status, x = data_family.debt)"
   ]
  },
  {
   "cell_type": "markdown",
   "id": "37088a84",
   "metadata": {},
   "source": [
    "Не женатые/не замужние и состоящие в гражданском браке клиенты в большей степени имеют просрочки.\n",
    "Клиенты же состоящие в браке/разводе, либо же являющиеся вдовцом/вдовой, более ответсвтенны и реже имеют просрочки по оплате кредита."
   ]
  },
  {
   "cell_type": "markdown",
   "id": "f94974da",
   "metadata": {},
   "source": [
    "##### Вопрос 3: Есть ли зависимость между уровнем дохода и возвратом кредита в срок?"
   ]
  },
  {
   "cell_type": "code",
   "execution_count": 63,
   "id": "2e2a5b6b",
   "metadata": {},
   "outputs": [
    {
     "data": {
      "text/html": [
       "<div>\n",
       "<style scoped>\n",
       "    .dataframe tbody tr th:only-of-type {\n",
       "        vertical-align: middle;\n",
       "    }\n",
       "\n",
       "    .dataframe tbody tr th {\n",
       "        vertical-align: top;\n",
       "    }\n",
       "\n",
       "    .dataframe thead th {\n",
       "        text-align: right;\n",
       "    }\n",
       "</style>\n",
       "<table border=\"1\" class=\"dataframe\">\n",
       "  <thead>\n",
       "    <tr style=\"text-align: right;\">\n",
       "      <th></th>\n",
       "      <th>total_income_category</th>\n",
       "      <th>debt</th>\n",
       "    </tr>\n",
       "  </thead>\n",
       "  <tbody>\n",
       "    <tr>\n",
       "      <td>0</td>\n",
       "      <td>D</td>\n",
       "      <td>6.000000</td>\n",
       "    </tr>\n",
       "    <tr>\n",
       "      <td>1</td>\n",
       "      <td>B</td>\n",
       "      <td>7.062091</td>\n",
       "    </tr>\n",
       "    <tr>\n",
       "      <td>2</td>\n",
       "      <td>A</td>\n",
       "      <td>8.000000</td>\n",
       "    </tr>\n",
       "    <tr>\n",
       "      <td>3</td>\n",
       "      <td>C</td>\n",
       "      <td>8.492569</td>\n",
       "    </tr>\n",
       "    <tr>\n",
       "      <td>4</td>\n",
       "      <td>E</td>\n",
       "      <td>9.090909</td>\n",
       "    </tr>\n",
       "  </tbody>\n",
       "</table>\n",
       "</div>"
      ],
      "text/plain": [
       "  total_income_category      debt\n",
       "0                     D  6.000000\n",
       "1                     B  7.062091\n",
       "2                     A  8.000000\n",
       "3                     C  8.492569\n",
       "4                     E  9.090909"
      ]
     },
     "execution_count": 63,
     "metadata": {},
     "output_type": "execute_result"
    }
   ],
   "source": [
    "data_income = (data_upd.groupby('total_income_category')['debt'].sum() * 100 / data_upd.groupby('total_income_category')['debt'].count()).sort_values().reset_index()\n",
    "data_income"
   ]
  },
  {
   "cell_type": "markdown",
   "id": "b1531a2c",
   "metadata": {},
   "source": [
    "#####  Вывод 3:"
   ]
  },
  {
   "cell_type": "code",
   "execution_count": 64,
   "id": "e4b0ebf3",
   "metadata": {},
   "outputs": [
    {
     "data": {
      "text/plain": [
       "<matplotlib.axes._subplots.AxesSubplot at 0x7fe40b2fe190>"
      ]
     },
     "execution_count": 64,
     "metadata": {},
     "output_type": "execute_result"
    },
    {
     "data": {
      "image/png": "[encoded data removed]",
      "text/plain": [
       "<Figure size 432x288 with 1 Axes>"
      ]
     },
     "metadata": {
      "needs_background": "light"
     },
     "output_type": "display_data"
    }
   ],
   "source": [
    "sns.barplot(x=data_income.total_income_category, y=data_income.debt)"
   ]
  },
  {
   "cell_type": "markdown",
   "id": "0f77c5ff",
   "metadata": {},
   "source": [
    "Наибольший риск просрочек у групп клиентов зарпалтных категорий \"E\" (зарплата до 30 000 рублей) и \"C\" (зарплата 50 001–200 000).\n"
   ]
  },
  {
   "cell_type": "markdown",
   "id": "402693c2",
   "metadata": {},
   "source": [
    "##### Вопрос 4: Как разные цели кредита влияют на его возврат в срок?"
   ]
  },
  {
   "cell_type": "code",
   "execution_count": 65,
   "id": "191c8cfe",
   "metadata": {},
   "outputs": [
    {
     "data": {
      "text/html": [
       "<div>\n",
       "<style scoped>\n",
       "    .dataframe tbody tr th:only-of-type {\n",
       "        vertical-align: middle;\n",
       "    }\n",
       "\n",
       "    .dataframe tbody tr th {\n",
       "        vertical-align: top;\n",
       "    }\n",
       "\n",
       "    .dataframe thead th {\n",
       "        text-align: right;\n",
       "    }\n",
       "</style>\n",
       "<table border=\"1\" class=\"dataframe\">\n",
       "  <thead>\n",
       "    <tr style=\"text-align: right;\">\n",
       "      <th></th>\n",
       "      <th>purpose_category</th>\n",
       "      <th>debt</th>\n",
       "    </tr>\n",
       "  </thead>\n",
       "  <tbody>\n",
       "    <tr>\n",
       "      <td>0</td>\n",
       "      <td>операции с недвижимостью</td>\n",
       "      <td>7.234043</td>\n",
       "    </tr>\n",
       "    <tr>\n",
       "      <td>1</td>\n",
       "      <td>проведение свадьбы</td>\n",
       "      <td>8.006888</td>\n",
       "    </tr>\n",
       "    <tr>\n",
       "      <td>2</td>\n",
       "      <td>получение образования</td>\n",
       "      <td>9.220035</td>\n",
       "    </tr>\n",
       "    <tr>\n",
       "      <td>3</td>\n",
       "      <td>операции с автомобилем</td>\n",
       "      <td>9.359034</td>\n",
       "    </tr>\n",
       "  </tbody>\n",
       "</table>\n",
       "</div>"
      ],
      "text/plain": [
       "           purpose_category      debt\n",
       "0  операции с недвижимостью  7.234043\n",
       "1        проведение свадьбы  8.006888\n",
       "2     получение образования  9.220035\n",
       "3    операции с автомобилем  9.359034"
      ]
     },
     "execution_count": 65,
     "metadata": {},
     "output_type": "execute_result"
    }
   ],
   "source": [
    "data_purpose = (data_upd.groupby('purpose_category')['debt'].sum() * 100 / data_upd.groupby('purpose_category')['debt'].count()).sort_values().reset_index()\n",
    "data_purpose"
   ]
  },
  {
   "cell_type": "markdown",
   "id": "0a1351bd",
   "metadata": {},
   "source": [
    "#####  Вывод 4:"
   ]
  },
  {
   "cell_type": "code",
   "execution_count": 66,
   "id": "7af33804",
   "metadata": {},
   "outputs": [
    {
     "data": {
      "text/plain": [
       "<matplotlib.axes._subplots.AxesSubplot at 0x7fe40b282c90>"
      ]
     },
     "execution_count": 66,
     "metadata": {},
     "output_type": "execute_result"
    },
    {
     "data": {
      "image/png": "[encoded data removed]",
      "text/plain": [
       "<Figure size 432x288 with 1 Axes>"
      ]
     },
     "metadata": {
      "needs_background": "light"
     },
     "output_type": "display_data"
    }
   ],
   "source": [
    "sns.barplot(x=data_purpose.debt, y=data_purpose.purpose_category)"
   ]
  },
  {
   "cell_type": "markdown",
   "id": "401329ad",
   "metadata": {},
   "source": [
    "Клиенты, берущие кредит для получения образования и операций с автомобилем, имеют больший процент просрочек."
   ]
  },
  {
   "cell_type": "markdown",
   "id": "401a48e7",
   "metadata": {},
   "source": [
    "## Общий вывод:"
   ]
  },
  {
   "cell_type": "code",
   "execution_count": 67,
   "id": "68848e1b",
   "metadata": {},
   "outputs": [
    {
     "data": {
      "text/plain": [
       "8"
      ]
     },
     "execution_count": 67,
     "metadata": {},
     "output_type": "execute_result"
    }
   ],
   "source": [
    "#общий процент должников возьмем за средний процент просрочки\n",
    "int(data_upd[data_upd.debt == 1].debt.count() * 100 / data_upd.debt.count())"
   ]
  },
  {
   "cell_type": "code",
   "execution_count": 68,
   "id": "f7a5b7e6",
   "metadata": {},
   "outputs": [],
   "source": [
    "sns.set_style('whitegrid')"
   ]
  },
  {
   "cell_type": "code",
   "execution_count": 70,
   "id": "8680cf05",
   "metadata": {},
   "outputs": [
    {
     "data": {
      "text/plain": [
       "Text(0.5, 1, '% просрочки по кредитам в зависимости от цели кредита')"
      ]
     },
     "execution_count": 70,
     "metadata": {},
     "output_type": "execute_result"
    }
   ],
   "source": [
    "# fig, axes = plt.subplots(2, 2, figsize=(15, 10), sharey=True)\n",
    "#fig.suptitle('Initial Pokemon - 1st Generation')\n",
    "sns.barplot(ax=axes[0][0], x = data_children.children, y = data_children.debt)\n",
    "axes[0][0].set_title('% просрочки по кредитам в зависимости от уровня дохода')\n",
    "sns.barplot(ax=axes[0][1], x=data_income.total_income_category, y=data_income.debt)\n",
    "axes[0][1].set_title('% просрочки по кредитам в зависимости от уровня дохода')\n",
    "\n",
    "family_status_gr = sns.barplot(ax=axes[1][0], x = data_family.family_status, y = data_family.debt)\n",
    "family_status_gr.set_xticklabels(family_status_gr.get_xticklabels(), \n",
    "                          rotation=90, \n",
    "                          horizontalalignment='right')\n",
    "axes[1][0].set_title('% просрочки по кредитам в зависимости от уровня дохода')\n",
    "\n",
    "purpose_category_gr = sns.barplot(ax=axes[1][1], y=data_purpose.debt, x=data_purpose.purpose_category)\n",
    "purpose_category_gr.set_xticklabels(purpose_category_gr.get_xticklabels(), \n",
    "                          rotation=90, \n",
    "                          horizontalalignment='right')\n",
    "axes[1][1].set_title('% просрочки по кредитам в зависимости от цели кредита')\n"
   ]
  },
  {
   "cell_type": "markdown",
   "id": "a1abc968",
   "metadata": {},
   "source": [
    "Общий процент клиентов, имевших просрочку по кредиту, составляет 8%.<br>\n",
    "При рассмотрении зависимости просрочки платежа от различных категорий клиентов доля задолжностей по кредиту отклоняется незначительно, в пределах 1.5% от средней доли должников.<br>\n",
    "Наибольший риск просрочек у следующих категорий клиентов:\n",
    "- клиенты с 1, 2 и 4 детьми;\n",
    "- клиенты зарпалтных категорий \"E\" (зарплата до 30 000 рублей) и \"C\" (зарплата 50 001–200 000);\n",
    "- не женатые/не замужние и состоящие в гражданском браке клиенты;\n",
    "- клиенты, берущие кредит для получения образования и операций с автомобилем."
   ]
  }
 ],
 "metadata": {
  "ExecuteTimeLog": [
   {
    "duration": 437,
    "start_time": "2022-02-25T12:01:46.179Z"
   },
   {
    "duration": 739,
    "start_time": "2022-02-25T12:01:53.178Z"
   },
   {
    "duration": 65,
    "start_time": "2022-02-25T12:01:53.920Z"
   },
   {
    "duration": 48,
    "start_time": "2022-02-25T12:01:59.677Z"
   },
   {
    "duration": 15,
    "start_time": "2022-02-25T12:02:24.611Z"
   },
   {
    "duration": 8,
    "start_time": "2022-02-25T12:36:26.959Z"
   },
   {
    "duration": 6,
    "start_time": "2022-02-25T12:36:33.847Z"
   },
   {
    "duration": 6,
    "start_time": "2022-02-25T12:36:45.185Z"
   },
   {
    "duration": 7,
    "start_time": "2022-02-25T12:36:57.160Z"
   },
   {
    "duration": 5,
    "start_time": "2022-02-25T12:37:02.304Z"
   },
   {
    "duration": 6,
    "start_time": "2022-02-25T12:37:06.536Z"
   },
   {
    "duration": 6,
    "start_time": "2022-02-25T12:37:47.081Z"
   },
   {
    "duration": 16,
    "start_time": "2022-02-25T12:37:56.031Z"
   },
   {
    "duration": 6,
    "start_time": "2022-02-25T12:38:04.112Z"
   },
   {
    "duration": 10,
    "start_time": "2022-02-25T12:38:24.855Z"
   },
   {
    "duration": 7,
    "start_time": "2022-02-25T12:38:32.392Z"
   },
   {
    "duration": 98,
    "start_time": "2022-02-25T12:40:08.632Z"
   },
   {
    "duration": 770,
    "start_time": "2022-02-25T12:42:54.514Z"
   },
   {
    "duration": 66,
    "start_time": "2022-02-25T12:42:55.778Z"
   },
   {
    "duration": 46,
    "start_time": "2022-02-25T12:42:57.746Z"
   },
   {
    "duration": 16,
    "start_time": "2022-02-25T12:43:11.634Z"
   },
   {
    "duration": 23,
    "start_time": "2022-02-25T12:43:25.946Z"
   },
   {
    "duration": 15,
    "start_time": "2022-02-25T13:00:33.967Z"
   },
   {
    "duration": 16,
    "start_time": "2022-02-25T13:00:42.910Z"
   },
   {
    "duration": 9,
    "start_time": "2022-02-25T13:06:43.126Z"
   },
   {
    "duration": 12,
    "start_time": "2022-02-25T13:09:17.221Z"
   },
   {
    "duration": 8,
    "start_time": "2022-02-25T13:09:29.004Z"
   },
   {
    "duration": 10,
    "start_time": "2022-02-25T13:09:52.532Z"
   },
   {
    "duration": 10,
    "start_time": "2022-02-25T13:09:55.764Z"
   },
   {
    "duration": 10,
    "start_time": "2022-02-25T13:10:09.573Z"
   },
   {
    "duration": 19,
    "start_time": "2022-02-25T13:10:36.796Z"
   },
   {
    "duration": 344,
    "start_time": "2022-02-25T13:10:59.250Z"
   },
   {
    "duration": 886,
    "start_time": "2022-02-25T13:11:04.858Z"
   },
   {
    "duration": 61,
    "start_time": "2022-02-25T13:11:06.394Z"
   },
   {
    "duration": 42,
    "start_time": "2022-02-25T13:11:07.586Z"
   },
   {
    "duration": 16,
    "start_time": "2022-02-25T13:11:09.627Z"
   },
   {
    "duration": 23,
    "start_time": "2022-02-25T13:11:11.586Z"
   },
   {
    "duration": 15,
    "start_time": "2022-02-25T13:11:12.930Z"
   },
   {
    "duration": 7,
    "start_time": "2022-02-25T13:11:15.539Z"
   },
   {
    "duration": 12,
    "start_time": "2022-02-25T13:11:50.202Z"
   },
   {
    "duration": 19,
    "start_time": "2022-02-25T13:11:50.714Z"
   },
   {
    "duration": 11,
    "start_time": "2022-02-25T13:11:51.290Z"
   },
   {
    "duration": 12,
    "start_time": "2022-02-25T13:14:23.666Z"
   },
   {
    "duration": 55,
    "start_time": "2022-02-25T13:14:31.386Z"
   },
   {
    "duration": 37,
    "start_time": "2022-02-25T13:14:37.481Z"
   },
   {
    "duration": 13,
    "start_time": "2022-02-25T13:15:12.042Z"
   },
   {
    "duration": 12,
    "start_time": "2022-02-25T13:15:15.657Z"
   },
   {
    "duration": 34,
    "start_time": "2022-02-25T13:15:21.290Z"
   },
   {
    "duration": 352,
    "start_time": "2022-02-25T13:15:27.658Z"
   },
   {
    "duration": 51,
    "start_time": "2022-02-25T13:15:35.250Z"
   },
   {
    "duration": 63,
    "start_time": "2022-02-25T13:16:23.962Z"
   },
   {
    "duration": 42,
    "start_time": "2022-02-25T13:17:33.169Z"
   },
   {
    "duration": 6,
    "start_time": "2022-02-25T13:18:26.441Z"
   },
   {
    "duration": 6,
    "start_time": "2022-02-25T13:20:07.673Z"
   },
   {
    "duration": 10,
    "start_time": "2022-02-25T13:20:13.641Z"
   },
   {
    "duration": 34,
    "start_time": "2022-02-25T13:21:00.905Z"
   },
   {
    "duration": 36,
    "start_time": "2022-02-25T13:21:45.152Z"
   },
   {
    "duration": 42,
    "start_time": "2022-02-25T13:22:16.008Z"
   },
   {
    "duration": 39,
    "start_time": "2022-02-25T13:24:52.759Z"
   },
   {
    "duration": 22,
    "start_time": "2022-02-25T13:25:16.551Z"
   },
   {
    "duration": 17,
    "start_time": "2022-02-25T13:25:47.960Z"
   },
   {
    "duration": 18,
    "start_time": "2022-02-25T14:09:10.417Z"
   },
   {
    "duration": 9,
    "start_time": "2022-02-25T14:10:51.665Z"
   },
   {
    "duration": 10,
    "start_time": "2022-02-25T14:11:20.040Z"
   },
   {
    "duration": 736,
    "start_time": "2022-02-25T14:17:14.630Z"
   },
   {
    "duration": 4,
    "start_time": "2022-02-25T14:17:31.614Z"
   },
   {
    "duration": 8,
    "start_time": "2022-02-25T14:18:08.742Z"
   },
   {
    "duration": 18,
    "start_time": "2022-02-25T14:18:44.077Z"
   },
   {
    "duration": 789,
    "start_time": "2022-02-25T14:18:59.161Z"
   },
   {
    "duration": 69,
    "start_time": "2022-02-25T14:19:00.610Z"
   },
   {
    "duration": 46,
    "start_time": "2022-02-25T14:19:01.323Z"
   },
   {
    "duration": 16,
    "start_time": "2022-02-25T14:19:03.538Z"
   },
   {
    "duration": 27,
    "start_time": "2022-02-25T14:19:04.738Z"
   },
   {
    "duration": 16,
    "start_time": "2022-02-25T14:19:06.907Z"
   },
   {
    "duration": 10,
    "start_time": "2022-02-25T14:19:09.217Z"
   },
   {
    "duration": 10,
    "start_time": "2022-02-25T14:19:10.540Z"
   },
   {
    "duration": 11,
    "start_time": "2022-02-25T14:19:19.889Z"
   },
   {
    "duration": 18,
    "start_time": "2022-02-25T14:19:20.404Z"
   },
   {
    "duration": 8,
    "start_time": "2022-02-25T14:19:23.026Z"
   },
   {
    "duration": 9,
    "start_time": "2022-02-25T14:19:26.505Z"
   },
   {
    "duration": 13,
    "start_time": "2022-02-25T14:19:44.722Z"
   },
   {
    "duration": 5,
    "start_time": "2022-02-25T14:23:59.001Z"
   },
   {
    "duration": 16,
    "start_time": "2022-02-25T14:24:11.048Z"
   },
   {
    "duration": 6,
    "start_time": "2022-02-25T14:24:39.968Z"
   },
   {
    "duration": 16,
    "start_time": "2022-02-25T14:25:05.823Z"
   },
   {
    "duration": 16,
    "start_time": "2022-02-25T14:25:15.872Z"
   },
   {
    "duration": 25,
    "start_time": "2022-02-25T14:26:16.695Z"
   },
   {
    "duration": 23,
    "start_time": "2022-02-25T14:26:33.223Z"
   },
   {
    "duration": 24,
    "start_time": "2022-02-25T14:26:52.247Z"
   },
   {
    "duration": 375,
    "start_time": "2022-02-25T14:27:14.551Z"
   },
   {
    "duration": 293,
    "start_time": "2022-02-25T14:27:22.919Z"
   },
   {
    "duration": 20,
    "start_time": "2022-02-25T14:27:29.067Z"
   },
   {
    "duration": 15,
    "start_time": "2022-02-25T14:28:10.247Z"
   },
   {
    "duration": 336,
    "start_time": "2022-02-25T14:28:26.367Z"
   },
   {
    "duration": 13,
    "start_time": "2022-02-25T14:28:37.103Z"
   },
   {
    "duration": 11,
    "start_time": "2022-02-25T14:29:01.559Z"
   },
   {
    "duration": 16,
    "start_time": "2022-02-25T14:29:08.712Z"
   },
   {
    "duration": 11,
    "start_time": "2022-02-25T14:29:09.112Z"
   },
   {
    "duration": 6,
    "start_time": "2022-02-25T14:29:47.102Z"
   },
   {
    "duration": 5,
    "start_time": "2022-02-25T14:30:12.646Z"
   },
   {
    "duration": 476,
    "start_time": "2022-02-25T14:32:00.959Z"
   },
   {
    "duration": 7,
    "start_time": "2022-02-25T14:32:16.535Z"
   },
   {
    "duration": 23,
    "start_time": "2022-02-25T14:32:23.734Z"
   },
   {
    "duration": 11,
    "start_time": "2022-02-25T14:33:45.670Z"
   },
   {
    "duration": 9,
    "start_time": "2022-02-25T14:34:13.838Z"
   },
   {
    "duration": 6,
    "start_time": "2022-02-25T14:34:40.726Z"
   },
   {
    "duration": 12,
    "start_time": "2022-02-25T14:34:41.070Z"
   },
   {
    "duration": 11,
    "start_time": "2022-02-25T14:34:48.534Z"
   },
   {
    "duration": 4,
    "start_time": "2022-02-25T14:34:49.606Z"
   },
   {
    "duration": 4,
    "start_time": "2022-02-25T14:34:51.374Z"
   },
   {
    "duration": 6,
    "start_time": "2022-02-25T14:34:56.238Z"
   },
   {
    "duration": 13,
    "start_time": "2022-02-25T14:34:56.861Z"
   },
   {
    "duration": 12,
    "start_time": "2022-02-25T14:34:59.829Z"
   },
   {
    "duration": 9,
    "start_time": "2022-02-25T14:35:04.341Z"
   },
   {
    "duration": 7,
    "start_time": "2022-02-25T14:35:33.038Z"
   },
   {
    "duration": 10,
    "start_time": "2022-02-25T14:35:34.109Z"
   },
   {
    "duration": 10,
    "start_time": "2022-02-25T14:35:45.221Z"
   },
   {
    "duration": 9,
    "start_time": "2022-02-25T14:35:46.046Z"
   },
   {
    "duration": 8,
    "start_time": "2022-02-25T14:35:52.781Z"
   },
   {
    "duration": 9,
    "start_time": "2022-02-25T14:35:53.734Z"
   },
   {
    "duration": 5,
    "start_time": "2022-02-25T14:35:56.765Z"
   },
   {
    "duration": 13,
    "start_time": "2022-02-25T14:35:57.773Z"
   },
   {
    "duration": 8,
    "start_time": "2022-02-25T14:35:58.877Z"
   },
   {
    "duration": 9,
    "start_time": "2022-02-25T14:35:59.813Z"
   },
   {
    "duration": 10,
    "start_time": "2022-02-25T14:36:43.566Z"
   },
   {
    "duration": 3,
    "start_time": "2022-02-25T14:36:46.053Z"
   },
   {
    "duration": 5,
    "start_time": "2022-02-25T14:36:48.098Z"
   },
   {
    "duration": 14,
    "start_time": "2022-02-25T14:36:48.797Z"
   },
   {
    "duration": 10,
    "start_time": "2022-02-25T14:36:50.669Z"
   },
   {
    "duration": 4,
    "start_time": "2022-02-25T14:36:51.452Z"
   },
   {
    "duration": 5,
    "start_time": "2022-02-25T14:36:56.012Z"
   },
   {
    "duration": 14,
    "start_time": "2022-02-25T14:36:57.292Z"
   },
   {
    "duration": 9,
    "start_time": "2022-02-25T14:37:20.086Z"
   },
   {
    "duration": 9,
    "start_time": "2022-02-25T14:37:20.405Z"
   },
   {
    "duration": 4,
    "start_time": "2022-02-25T14:49:21.808Z"
   },
   {
    "duration": 13,
    "start_time": "2022-02-25T14:50:23.392Z"
   },
   {
    "duration": 17,
    "start_time": "2022-02-25T14:50:31.887Z"
   },
   {
    "duration": 4,
    "start_time": "2022-02-25T14:51:01.714Z"
   },
   {
    "duration": 15,
    "start_time": "2022-02-25T14:51:02.128Z"
   },
   {
    "duration": 16,
    "start_time": "2022-02-25T14:51:02.903Z"
   },
   {
    "duration": 274,
    "start_time": "2022-02-25T14:56:53.919Z"
   },
   {
    "duration": 11,
    "start_time": "2022-02-25T14:57:01.638Z"
   },
   {
    "duration": 5,
    "start_time": "2022-02-25T15:01:01.767Z"
   },
   {
    "duration": 13,
    "start_time": "2022-02-25T15:01:46.126Z"
   },
   {
    "duration": 19,
    "start_time": "2022-02-25T15:01:54.197Z"
   },
   {
    "duration": 316,
    "start_time": "2022-02-25T15:02:27.149Z"
   },
   {
    "duration": 11,
    "start_time": "2022-02-25T15:02:36.172Z"
   },
   {
    "duration": 772,
    "start_time": "2022-02-25T15:18:40.036Z"
   },
   {
    "duration": 65,
    "start_time": "2022-02-25T15:18:40.811Z"
   },
   {
    "duration": 45,
    "start_time": "2022-02-25T15:18:40.971Z"
   },
   {
    "duration": 16,
    "start_time": "2022-02-25T15:18:43.036Z"
   },
   {
    "duration": 25,
    "start_time": "2022-02-25T15:18:43.571Z"
   },
   {
    "duration": 15,
    "start_time": "2022-02-25T15:18:44.491Z"
   },
   {
    "duration": 9,
    "start_time": "2022-02-25T15:18:47.388Z"
   },
   {
    "duration": 10,
    "start_time": "2022-02-25T15:18:48.524Z"
   },
   {
    "duration": 11,
    "start_time": "2022-02-25T15:18:58.380Z"
   },
   {
    "duration": 8,
    "start_time": "2022-02-25T15:18:58.964Z"
   },
   {
    "duration": 19,
    "start_time": "2022-02-25T15:19:00.836Z"
   },
   {
    "duration": 35,
    "start_time": "2022-02-25T15:19:26.004Z"
   },
   {
    "duration": 34,
    "start_time": "2022-02-25T15:20:29.316Z"
   },
   {
    "duration": 11,
    "start_time": "2022-02-25T15:28:16.354Z"
   },
   {
    "duration": 8,
    "start_time": "2022-02-25T15:28:28.849Z"
   },
   {
    "duration": 18,
    "start_time": "2022-02-25T15:28:29.732Z"
   },
   {
    "duration": 101,
    "start_time": "2022-02-25T15:28:46.713Z"
   },
   {
    "duration": 35,
    "start_time": "2022-02-25T15:29:45.065Z"
   },
   {
    "duration": 33,
    "start_time": "2022-02-25T15:29:47.824Z"
   },
   {
    "duration": 37,
    "start_time": "2022-02-25T15:29:50.249Z"
   },
   {
    "duration": 366,
    "start_time": "2022-02-25T15:30:10.585Z"
   },
   {
    "duration": 273,
    "start_time": "2022-02-25T15:30:16.377Z"
   },
   {
    "duration": 26,
    "start_time": "2022-02-25T15:30:22.969Z"
   },
   {
    "duration": 15,
    "start_time": "2022-02-25T15:30:36.480Z"
   },
   {
    "duration": 14,
    "start_time": "2022-02-25T15:30:41.537Z"
   },
   {
    "duration": 102,
    "start_time": "2022-02-25T15:33:17.513Z"
   },
   {
    "duration": 93,
    "start_time": "2022-02-25T15:36:24.207Z"
   },
   {
    "duration": 324,
    "start_time": "2022-02-25T15:36:30.070Z"
   },
   {
    "duration": 295,
    "start_time": "2022-02-25T15:36:41.800Z"
   },
   {
    "duration": 8,
    "start_time": "2022-02-25T15:37:01.255Z"
   },
   {
    "duration": 14,
    "start_time": "2022-02-25T15:37:02.270Z"
   },
   {
    "duration": 7,
    "start_time": "2022-02-25T15:37:05.422Z"
   },
   {
    "duration": 18,
    "start_time": "2022-02-25T15:37:16.382Z"
   },
   {
    "duration": 26,
    "start_time": "2022-02-25T15:38:12.254Z"
   },
   {
    "duration": 29,
    "start_time": "2022-02-25T15:38:13.743Z"
   },
   {
    "duration": 33,
    "start_time": "2022-02-25T15:38:20.908Z"
   },
   {
    "duration": 88,
    "start_time": "2022-02-25T15:39:15.614Z"
   },
   {
    "duration": 15,
    "start_time": "2022-02-25T15:39:18.997Z"
   },
   {
    "duration": 12,
    "start_time": "2022-02-25T15:39:19.725Z"
   },
   {
    "duration": 97,
    "start_time": "2022-02-25T15:39:28.813Z"
   },
   {
    "duration": 26,
    "start_time": "2022-02-25T15:39:41.542Z"
   },
   {
    "duration": 23,
    "start_time": "2022-02-25T15:40:11.773Z"
   },
   {
    "duration": 17,
    "start_time": "2022-02-25T15:40:35.445Z"
   },
   {
    "duration": 12,
    "start_time": "2022-02-25T15:40:35.974Z"
   },
   {
    "duration": 10,
    "start_time": "2022-02-25T15:40:45.766Z"
   },
   {
    "duration": 26,
    "start_time": "2022-02-25T15:40:48.317Z"
   },
   {
    "duration": 25,
    "start_time": "2022-02-25T15:40:48.916Z"
   },
   {
    "duration": 5,
    "start_time": "2022-02-25T15:40:59.516Z"
   },
   {
    "duration": 9,
    "start_time": "2022-02-25T15:40:59.886Z"
   },
   {
    "duration": 10,
    "start_time": "2022-02-25T15:41:00.220Z"
   },
   {
    "duration": 6,
    "start_time": "2022-02-25T15:41:37.293Z"
   },
   {
    "duration": 8,
    "start_time": "2022-02-25T15:41:37.556Z"
   },
   {
    "duration": 9,
    "start_time": "2022-02-25T15:41:37.828Z"
   },
   {
    "duration": 6,
    "start_time": "2022-02-25T15:41:55.709Z"
   },
   {
    "duration": 9,
    "start_time": "2022-02-25T15:41:56.036Z"
   },
   {
    "duration": 9,
    "start_time": "2022-02-25T15:41:56.445Z"
   },
   {
    "duration": 6,
    "start_time": "2022-02-25T15:43:07.596Z"
   },
   {
    "duration": 23,
    "start_time": "2022-02-25T15:43:08.212Z"
   },
   {
    "duration": 85,
    "start_time": "2022-02-25T15:43:34.124Z"
   },
   {
    "duration": 5,
    "start_time": "2022-02-25T15:43:36.717Z"
   },
   {
    "duration": 13,
    "start_time": "2022-02-25T15:43:37.196Z"
   },
   {
    "duration": 15,
    "start_time": "2022-02-25T15:43:38.236Z"
   },
   {
    "duration": 101,
    "start_time": "2022-02-25T15:44:06.844Z"
   },
   {
    "duration": 11,
    "start_time": "2022-02-25T15:44:09.707Z"
   },
   {
    "duration": 4,
    "start_time": "2022-02-25T15:44:12.028Z"
   },
   {
    "duration": 13,
    "start_time": "2022-02-25T15:44:12.332Z"
   },
   {
    "duration": 18,
    "start_time": "2022-02-25T15:44:12.708Z"
   },
   {
    "duration": 10,
    "start_time": "2022-02-25T15:44:16.336Z"
   },
   {
    "duration": 16,
    "start_time": "2022-02-25T15:47:05.347Z"
   },
   {
    "duration": 12,
    "start_time": "2022-02-25T15:49:21.859Z"
   },
   {
    "duration": 280,
    "start_time": "2022-02-25T15:49:35.682Z"
   },
   {
    "duration": 12,
    "start_time": "2022-02-25T15:49:43.747Z"
   },
   {
    "duration": 275,
    "start_time": "2022-02-25T15:53:20.210Z"
   },
   {
    "duration": 47,
    "start_time": "2022-02-25T15:53:28.849Z"
   },
   {
    "duration": 109,
    "start_time": "2022-02-25T15:55:27.872Z"
   },
   {
    "duration": 116,
    "start_time": "2022-02-25T15:56:27.704Z"
   },
   {
    "duration": 285,
    "start_time": "2022-02-25T15:56:33.280Z"
   },
   {
    "duration": 298,
    "start_time": "2022-02-25T15:56:47.217Z"
   },
   {
    "duration": 284,
    "start_time": "2022-02-25T15:59:48.048Z"
   },
   {
    "duration": 386,
    "start_time": "2022-02-25T16:03:18.951Z"
   },
   {
    "duration": 303,
    "start_time": "2022-02-25T16:03:25.838Z"
   },
   {
    "duration": 46,
    "start_time": "2022-02-25T16:03:33.999Z"
   },
   {
    "duration": 303,
    "start_time": "2022-02-25T16:04:46.150Z"
   },
   {
    "duration": 31,
    "start_time": "2022-02-25T16:05:02.135Z"
   },
   {
    "duration": 35,
    "start_time": "2022-02-25T16:05:09.590Z"
   },
   {
    "duration": 301,
    "start_time": "2022-02-25T16:05:53.798Z"
   },
   {
    "duration": 447,
    "start_time": "2022-02-25T16:06:08.461Z"
   },
   {
    "duration": 449,
    "start_time": "2022-02-25T16:07:04.773Z"
   },
   {
    "duration": 1100,
    "start_time": "2022-02-25T16:07:12.749Z"
   },
   {
    "duration": 297,
    "start_time": "2022-02-25T16:07:15.836Z"
   },
   {
    "duration": 5,
    "start_time": "2022-02-25T16:07:23.727Z"
   },
   {
    "duration": 31,
    "start_time": "2022-02-25T16:07:32.117Z"
   },
   {
    "duration": 12,
    "start_time": "2022-02-25T16:09:28.525Z"
   },
   {
    "duration": 277,
    "start_time": "2022-02-27T19:14:41.420Z"
   },
   {
    "duration": 788,
    "start_time": "2022-02-27T19:14:50.221Z"
   },
   {
    "duration": 267,
    "start_time": "2022-02-27T19:14:51.988Z"
   },
   {
    "duration": 44,
    "start_time": "2022-02-27T19:14:52.916Z"
   },
   {
    "duration": 15,
    "start_time": "2022-02-27T19:14:55.298Z"
   },
   {
    "duration": 24,
    "start_time": "2022-02-27T19:14:57.812Z"
   },
   {
    "duration": 8,
    "start_time": "2022-02-27T19:14:58.544Z"
   },
   {
    "duration": 22,
    "start_time": "2022-02-27T19:16:35.345Z"
   },
   {
    "duration": 10,
    "start_time": "2022-02-27T19:16:36.890Z"
   },
   {
    "duration": 11,
    "start_time": "2022-02-27T19:16:39.782Z"
   },
   {
    "duration": 8,
    "start_time": "2022-02-27T19:16:43.510Z"
   },
   {
    "duration": 18,
    "start_time": "2022-02-27T19:16:53.875Z"
   },
   {
    "duration": 19,
    "start_time": "2022-02-27T19:17:57.611Z"
   },
   {
    "duration": 8,
    "start_time": "2022-02-27T19:18:12.437Z"
   },
   {
    "duration": 19,
    "start_time": "2022-02-27T19:18:21.866Z"
   },
   {
    "duration": 8,
    "start_time": "2022-02-27T19:18:24.797Z"
   },
   {
    "duration": 729,
    "start_time": "2022-02-27T19:25:15.628Z"
   },
   {
    "duration": 14,
    "start_time": "2022-02-27T19:26:10.326Z"
   },
   {
    "duration": 6,
    "start_time": "2022-02-27T19:31:59.555Z"
   },
   {
    "duration": 448,
    "start_time": "2022-02-27T19:32:23.358Z"
   },
   {
    "duration": 10,
    "start_time": "2022-02-27T19:34:13.125Z"
   },
   {
    "duration": 18,
    "start_time": "2022-02-27T19:34:14.517Z"
   },
   {
    "duration": 8,
    "start_time": "2022-02-27T19:34:16.331Z"
   },
   {
    "duration": 17,
    "start_time": "2022-02-27T19:34:17.420Z"
   },
   {
    "duration": 225,
    "start_time": "2022-02-27T19:37:09.962Z"
   },
   {
    "duration": 13,
    "start_time": "2022-02-27T19:37:16.855Z"
   },
   {
    "duration": 14,
    "start_time": "2022-02-27T19:38:38.867Z"
   },
   {
    "duration": 28,
    "start_time": "2022-02-27T19:39:07.198Z"
   },
   {
    "duration": 29,
    "start_time": "2022-02-27T19:39:51.263Z"
   },
   {
    "duration": 36,
    "start_time": "2022-02-27T19:40:04.399Z"
   },
   {
    "duration": 78,
    "start_time": "2022-02-27T19:41:45.742Z"
   },
   {
    "duration": 25,
    "start_time": "2022-02-27T19:42:18.960Z"
   },
   {
    "duration": 11,
    "start_time": "2022-02-27T19:43:24.206Z"
   },
   {
    "duration": 35,
    "start_time": "2022-02-27T19:43:50.700Z"
   },
   {
    "duration": 298,
    "start_time": "2022-02-27T19:45:59.742Z"
   },
   {
    "duration": 10,
    "start_time": "2022-02-27T19:46:07.152Z"
   },
   {
    "duration": 36,
    "start_time": "2022-02-27T19:46:41.700Z"
   },
   {
    "duration": 230,
    "start_time": "2022-02-27T19:47:45.521Z"
   },
   {
    "duration": 227,
    "start_time": "2022-02-27T19:47:54.134Z"
   },
   {
    "duration": 35,
    "start_time": "2022-02-27T19:48:08.436Z"
   },
   {
    "duration": 285,
    "start_time": "2022-02-27T19:53:54.830Z"
   },
   {
    "duration": 10,
    "start_time": "2022-02-27T19:54:02.243Z"
   },
   {
    "duration": 20,
    "start_time": "2022-02-27T19:58:55.794Z"
   },
   {
    "duration": 21,
    "start_time": "2022-02-27T19:59:02.204Z"
   },
   {
    "duration": 1567,
    "start_time": "2022-02-27T20:00:27.073Z"
   },
   {
    "duration": 63,
    "start_time": "2022-02-27T20:00:28.643Z"
   },
   {
    "duration": 38,
    "start_time": "2022-02-27T20:00:28.709Z"
   },
   {
    "duration": 15,
    "start_time": "2022-02-27T20:00:28.970Z"
   },
   {
    "duration": 24,
    "start_time": "2022-02-27T20:00:30.196Z"
   },
   {
    "duration": 9,
    "start_time": "2022-02-27T20:00:32.704Z"
   },
   {
    "duration": 12,
    "start_time": "2022-02-27T20:00:33.314Z"
   },
   {
    "duration": 10,
    "start_time": "2022-02-27T20:00:36.459Z"
   },
   {
    "duration": 13,
    "start_time": "2022-02-27T20:00:44.366Z"
   },
   {
    "duration": 20,
    "start_time": "2022-02-27T20:00:49.654Z"
   },
   {
    "duration": 21,
    "start_time": "2022-02-27T20:01:34.511Z"
   },
   {
    "duration": 17,
    "start_time": "2022-02-27T20:01:35.490Z"
   },
   {
    "duration": 10,
    "start_time": "2022-02-27T20:01:36.844Z"
   },
   {
    "duration": 14,
    "start_time": "2022-02-27T20:01:51.426Z"
   },
   {
    "duration": 10,
    "start_time": "2022-02-27T20:01:54.507Z"
   },
   {
    "duration": 36,
    "start_time": "2022-02-27T20:02:31.745Z"
   },
   {
    "duration": 36,
    "start_time": "2022-02-27T20:02:35.599Z"
   },
   {
    "duration": 15,
    "start_time": "2022-02-27T20:02:36.742Z"
   },
   {
    "duration": 9,
    "start_time": "2022-02-27T20:02:41.320Z"
   },
   {
    "duration": 13,
    "start_time": "2022-02-27T20:02:41.838Z"
   },
   {
    "duration": 11,
    "start_time": "2022-02-27T20:02:46.594Z"
   },
   {
    "duration": 24,
    "start_time": "2022-02-27T20:02:55.467Z"
   },
   {
    "duration": 10,
    "start_time": "2022-02-27T20:03:01.091Z"
   },
   {
    "duration": 36,
    "start_time": "2022-02-27T20:03:05.878Z"
   },
   {
    "duration": 14,
    "start_time": "2022-02-27T20:03:27.741Z"
   },
   {
    "duration": 8,
    "start_time": "2022-02-27T20:03:35.856Z"
   },
   {
    "duration": 8,
    "start_time": "2022-02-27T20:03:38.349Z"
   },
   {
    "duration": 17,
    "start_time": "2022-02-27T20:03:41.574Z"
   },
   {
    "duration": 9,
    "start_time": "2022-02-27T20:03:48.880Z"
   },
   {
    "duration": 38,
    "start_time": "2022-02-27T20:04:20.417Z"
   },
   {
    "duration": 8,
    "start_time": "2022-02-27T20:06:25.962Z"
   },
   {
    "duration": 8,
    "start_time": "2022-02-27T20:06:38.293Z"
   },
   {
    "duration": 36,
    "start_time": "2022-02-27T20:10:58.528Z"
   },
   {
    "duration": 382,
    "start_time": "2022-02-27T20:12:42.854Z"
   },
   {
    "duration": 11,
    "start_time": "2022-02-27T20:12:46.663Z"
   },
   {
    "duration": 13,
    "start_time": "2022-02-27T20:12:52.138Z"
   },
   {
    "duration": 1138,
    "start_time": "2022-02-28T06:28:56.563Z"
   },
   {
    "duration": 46,
    "start_time": "2022-02-28T06:28:57.703Z"
   },
   {
    "duration": 25,
    "start_time": "2022-02-28T06:28:58.202Z"
   },
   {
    "duration": 11,
    "start_time": "2022-02-28T06:29:00.688Z"
   },
   {
    "duration": 16,
    "start_time": "2022-02-28T06:29:01.257Z"
   },
   {
    "duration": 6,
    "start_time": "2022-02-28T06:29:01.673Z"
   },
   {
    "duration": 10,
    "start_time": "2022-02-28T06:29:04.297Z"
   },
   {
    "duration": 8,
    "start_time": "2022-02-28T06:29:05.281Z"
   },
   {
    "duration": 19,
    "start_time": "2022-02-28T06:29:05.946Z"
   },
   {
    "duration": 12,
    "start_time": "2022-02-28T06:29:08.090Z"
   },
   {
    "duration": 9,
    "start_time": "2022-02-28T06:29:09.513Z"
   },
   {
    "duration": 7,
    "start_time": "2022-02-28T06:29:11.266Z"
   },
   {
    "duration": 22,
    "start_time": "2022-02-28T06:29:14.409Z"
   },
   {
    "duration": 22,
    "start_time": "2022-02-28T06:29:17.146Z"
   },
   {
    "duration": 11,
    "start_time": "2022-02-28T06:29:17.863Z"
   },
   {
    "duration": 6,
    "start_time": "2022-02-28T06:29:20.297Z"
   },
   {
    "duration": 11,
    "start_time": "2022-02-28T06:29:20.793Z"
   },
   {
    "duration": 9,
    "start_time": "2022-02-28T06:29:24.137Z"
   },
   {
    "duration": 10,
    "start_time": "2022-02-28T06:29:26.192Z"
   },
   {
    "duration": 7,
    "start_time": "2022-02-28T06:29:26.657Z"
   },
   {
    "duration": 8,
    "start_time": "2022-02-28T06:29:27.585Z"
   },
   {
    "duration": 11,
    "start_time": "2022-02-28T06:29:28.882Z"
   },
   {
    "duration": 24,
    "start_time": "2022-02-28T06:29:36.777Z"
   },
   {
    "duration": 57,
    "start_time": "2022-02-28T06:29:39.825Z"
   },
   {
    "duration": 6,
    "start_time": "2022-02-28T06:29:41.849Z"
   },
   {
    "duration": 23,
    "start_time": "2022-02-28T06:29:44.673Z"
   },
   {
    "duration": 7,
    "start_time": "2022-02-28T06:29:45.897Z"
   },
   {
    "duration": 6,
    "start_time": "2022-02-28T06:29:46.401Z"
   },
   {
    "duration": 5,
    "start_time": "2022-02-28T06:29:50.680Z"
   },
   {
    "duration": 12,
    "start_time": "2022-02-28T06:29:51.370Z"
   },
   {
    "duration": 11,
    "start_time": "2022-02-28T06:29:54.065Z"
   },
   {
    "duration": 15,
    "start_time": "2022-02-28T06:29:56.537Z"
   },
   {
    "duration": 12,
    "start_time": "2022-02-28T06:29:57.873Z"
   },
   {
    "duration": 9,
    "start_time": "2022-02-28T06:29:58.441Z"
   },
   {
    "duration": 23,
    "start_time": "2022-02-28T06:30:01.089Z"
   },
   {
    "duration": 19,
    "start_time": "2022-02-28T06:30:01.545Z"
   },
   {
    "duration": 4,
    "start_time": "2022-02-28T06:30:03.521Z"
   },
   {
    "duration": 7,
    "start_time": "2022-02-28T06:30:04.097Z"
   },
   {
    "duration": 8,
    "start_time": "2022-02-28T06:30:04.759Z"
   },
   {
    "duration": 4,
    "start_time": "2022-02-28T06:30:10.678Z"
   },
   {
    "duration": 6,
    "start_time": "2022-02-28T06:30:11.370Z"
   },
   {
    "duration": 7,
    "start_time": "2022-02-28T06:30:11.833Z"
   },
   {
    "duration": 5,
    "start_time": "2022-02-28T06:30:14.289Z"
   },
   {
    "duration": 15,
    "start_time": "2022-02-28T06:30:14.754Z"
   },
   {
    "duration": 3,
    "start_time": "2022-02-28T06:30:20.249Z"
   },
   {
    "duration": 10,
    "start_time": "2022-02-28T06:30:21.721Z"
   },
   {
    "duration": 13,
    "start_time": "2022-02-28T06:30:22.184Z"
   },
   {
    "duration": 8,
    "start_time": "2022-02-28T06:30:25.384Z"
   },
   {
    "duration": 3,
    "start_time": "2022-02-28T06:30:32.233Z"
   },
   {
    "duration": 11,
    "start_time": "2022-02-28T06:30:32.737Z"
   },
   {
    "duration": 12,
    "start_time": "2022-02-28T06:30:33.201Z"
   },
   {
    "duration": 8,
    "start_time": "2022-02-28T06:30:35.729Z"
   },
   {
    "duration": 11,
    "start_time": "2022-02-28T06:30:38.728Z"
   },
   {
    "duration": 6,
    "start_time": "2022-02-28T06:32:15.377Z"
   },
   {
    "duration": 7,
    "start_time": "2022-02-28T06:32:46.440Z"
   },
   {
    "duration": 9,
    "start_time": "2022-02-28T06:33:27.095Z"
   },
   {
    "duration": 6,
    "start_time": "2022-02-28T06:33:56.177Z"
   },
   {
    "duration": 9,
    "start_time": "2022-02-28T06:35:15.104Z"
   },
   {
    "duration": 10,
    "start_time": "2022-02-28T06:35:30.160Z"
   },
   {
    "duration": 12,
    "start_time": "2022-02-28T06:36:18.639Z"
   },
   {
    "duration": 8,
    "start_time": "2022-02-28T06:36:34.543Z"
   },
   {
    "duration": 378,
    "start_time": "2022-02-28T06:37:40.336Z"
   },
   {
    "duration": 7,
    "start_time": "2022-02-28T06:37:54.431Z"
   },
   {
    "duration": 7,
    "start_time": "2022-02-28T06:38:06.183Z"
   },
   {
    "duration": 9,
    "start_time": "2022-02-28T06:38:19.991Z"
   },
   {
    "duration": 7,
    "start_time": "2022-02-28T06:39:01.286Z"
   },
   {
    "duration": 11,
    "start_time": "2022-02-28T06:39:33.903Z"
   },
   {
    "duration": 10,
    "start_time": "2022-02-28T06:39:42.006Z"
   },
   {
    "duration": 7,
    "start_time": "2022-02-28T06:39:53.014Z"
   },
   {
    "duration": 5,
    "start_time": "2022-02-28T06:39:53.406Z"
   },
   {
    "duration": 8,
    "start_time": "2022-02-28T06:40:11.935Z"
   },
   {
    "duration": 8,
    "start_time": "2022-02-28T06:40:28.527Z"
   },
   {
    "duration": 5,
    "start_time": "2022-02-28T06:40:45.230Z"
   },
   {
    "duration": 278,
    "start_time": "2022-02-28T06:41:04.406Z"
   },
   {
    "duration": 11,
    "start_time": "2022-02-28T06:41:39.974Z"
   },
   {
    "duration": 14,
    "start_time": "2022-02-28T06:44:20.117Z"
   },
   {
    "duration": 10,
    "start_time": "2022-02-28T06:45:31.574Z"
   },
   {
    "duration": 12,
    "start_time": "2022-02-28T06:46:17.381Z"
   },
   {
    "duration": 15,
    "start_time": "2022-02-28T06:47:55.227Z"
   },
   {
    "duration": 228,
    "start_time": "2022-02-28T07:01:57.816Z"
   },
   {
    "duration": 9,
    "start_time": "2022-02-28T07:02:41.431Z"
   },
   {
    "duration": 14,
    "start_time": "2022-02-28T07:04:07.991Z"
   },
   {
    "duration": 7,
    "start_time": "2022-02-28T07:05:27.872Z"
   },
   {
    "duration": 8,
    "start_time": "2022-02-28T07:05:54.287Z"
   },
   {
    "duration": 14,
    "start_time": "2022-02-28T07:18:15.546Z"
   },
   {
    "duration": 13,
    "start_time": "2022-02-28T07:18:20.538Z"
   },
   {
    "duration": 65,
    "start_time": "2022-02-28T07:19:30.386Z"
   },
   {
    "duration": 12,
    "start_time": "2022-02-28T07:32:13.511Z"
   },
   {
    "duration": 9,
    "start_time": "2022-02-28T07:32:27.150Z"
   },
   {
    "duration": 13,
    "start_time": "2022-02-28T07:32:31.918Z"
   },
   {
    "duration": 9,
    "start_time": "2022-02-28T07:32:40.502Z"
   },
   {
    "duration": 9,
    "start_time": "2022-02-28T07:32:59.830Z"
   },
   {
    "duration": 203,
    "start_time": "2022-02-28T07:40:33.418Z"
   },
   {
    "duration": 9,
    "start_time": "2022-02-28T07:41:12.579Z"
   },
   {
    "duration": 200,
    "start_time": "2022-02-28T07:41:22.123Z"
   },
   {
    "duration": 9,
    "start_time": "2022-02-28T07:41:53.474Z"
   },
   {
    "duration": 12,
    "start_time": "2022-02-28T07:41:56.651Z"
   },
   {
    "duration": 206,
    "start_time": "2022-02-28T07:42:07.571Z"
   },
   {
    "duration": 13,
    "start_time": "2022-02-28T07:42:17.930Z"
   },
   {
    "duration": 9,
    "start_time": "2022-02-28T07:42:21.682Z"
   },
   {
    "duration": 134,
    "start_time": "2022-02-28T07:42:39.273Z"
   },
   {
    "duration": 194,
    "start_time": "2022-02-28T07:43:39.786Z"
   },
   {
    "duration": 247,
    "start_time": "2022-02-28T07:44:08.339Z"
   },
   {
    "duration": 13,
    "start_time": "2022-02-28T07:44:13.835Z"
   },
   {
    "duration": 12,
    "start_time": "2022-02-28T07:44:32.058Z"
   },
   {
    "duration": 171,
    "start_time": "2022-02-28T07:44:39.506Z"
   },
   {
    "duration": 14,
    "start_time": "2022-02-28T07:46:28.666Z"
   },
   {
    "duration": 179,
    "start_time": "2022-02-28T07:47:00.073Z"
   },
   {
    "duration": 16,
    "start_time": "2022-02-28T07:47:45.601Z"
   },
   {
    "duration": 171,
    "start_time": "2022-02-28T07:47:48.408Z"
   },
   {
    "duration": 16,
    "start_time": "2022-02-28T07:48:03.224Z"
   },
   {
    "duration": 177,
    "start_time": "2022-02-28T07:48:04.880Z"
   },
   {
    "duration": 228,
    "start_time": "2022-02-28T07:48:31.370Z"
   },
   {
    "duration": 14,
    "start_time": "2022-02-28T07:49:06.936Z"
   },
   {
    "duration": 185,
    "start_time": "2022-02-28T07:49:10.544Z"
   },
   {
    "duration": 137,
    "start_time": "2022-02-28T07:49:18.826Z"
   },
   {
    "duration": 158,
    "start_time": "2022-02-28T07:49:23.536Z"
   },
   {
    "duration": 14,
    "start_time": "2022-02-28T07:49:40.516Z"
   },
   {
    "duration": 159,
    "start_time": "2022-02-28T07:49:42.641Z"
   },
   {
    "duration": 195,
    "start_time": "2022-02-28T07:51:46.839Z"
   },
   {
    "duration": 13,
    "start_time": "2022-02-28T07:53:36.895Z"
   },
   {
    "duration": 160,
    "start_time": "2022-02-28T07:53:38.222Z"
   },
   {
    "duration": 180,
    "start_time": "2022-02-28T07:54:02.855Z"
   },
   {
    "duration": 174,
    "start_time": "2022-02-28T07:54:34.270Z"
   },
   {
    "duration": 171,
    "start_time": "2022-02-28T07:54:37.933Z"
   },
   {
    "duration": 247,
    "start_time": "2022-02-28T07:56:37.398Z"
   },
   {
    "duration": 169,
    "start_time": "2022-02-28T07:56:42.222Z"
   },
   {
    "duration": 1173,
    "start_time": "2022-02-28T07:57:10.942Z"
   },
   {
    "duration": 49,
    "start_time": "2022-02-28T07:57:12.117Z"
   },
   {
    "duration": 25,
    "start_time": "2022-02-28T07:57:12.168Z"
   },
   {
    "duration": 11,
    "start_time": "2022-02-28T07:57:12.195Z"
   },
   {
    "duration": 16,
    "start_time": "2022-02-28T07:57:12.207Z"
   },
   {
    "duration": 5,
    "start_time": "2022-02-28T07:57:12.225Z"
   },
   {
    "duration": 38,
    "start_time": "2022-02-28T07:57:12.232Z"
   },
   {
    "duration": 8,
    "start_time": "2022-02-28T07:57:12.272Z"
   },
   {
    "duration": 12,
    "start_time": "2022-02-28T07:57:12.282Z"
   },
   {
    "duration": 12,
    "start_time": "2022-02-28T07:57:12.296Z"
   },
   {
    "duration": 9,
    "start_time": "2022-02-28T07:57:12.310Z"
   },
   {
    "duration": 43,
    "start_time": "2022-02-28T07:57:12.320Z"
   },
   {
    "duration": 22,
    "start_time": "2022-02-28T07:57:12.365Z"
   },
   {
    "duration": 20,
    "start_time": "2022-02-28T07:57:12.389Z"
   },
   {
    "duration": 10,
    "start_time": "2022-02-28T07:57:12.410Z"
   },
   {
    "duration": 6,
    "start_time": "2022-02-28T07:57:12.421Z"
   },
   {
    "duration": 39,
    "start_time": "2022-02-28T07:57:12.428Z"
   },
   {
    "duration": 9,
    "start_time": "2022-02-28T07:57:12.469Z"
   },
   {
    "duration": 10,
    "start_time": "2022-02-28T07:57:12.479Z"
   },
   {
    "duration": 14,
    "start_time": "2022-02-28T07:57:12.491Z"
   },
   {
    "duration": 8,
    "start_time": "2022-02-28T07:57:12.507Z"
   },
   {
    "duration": 12,
    "start_time": "2022-02-28T07:57:12.516Z"
   },
   {
    "duration": 48,
    "start_time": "2022-02-28T07:57:12.532Z"
   },
   {
    "duration": 8,
    "start_time": "2022-02-28T07:57:12.583Z"
   },
   {
    "duration": 6,
    "start_time": "2022-02-28T07:57:12.593Z"
   },
   {
    "duration": 30,
    "start_time": "2022-02-28T07:57:12.600Z"
   },
   {
    "duration": 31,
    "start_time": "2022-02-28T07:57:12.632Z"
   },
   {
    "duration": 6,
    "start_time": "2022-02-28T07:57:12.665Z"
   },
   {
    "duration": 6,
    "start_time": "2022-02-28T07:57:12.673Z"
   },
   {
    "duration": 12,
    "start_time": "2022-02-28T07:57:12.680Z"
   },
   {
    "duration": 15,
    "start_time": "2022-02-28T07:57:12.694Z"
   },
   {
    "duration": 15,
    "start_time": "2022-02-28T07:57:12.711Z"
   },
   {
    "duration": 45,
    "start_time": "2022-02-28T07:57:12.728Z"
   },
   {
    "duration": 11,
    "start_time": "2022-02-28T07:57:12.774Z"
   },
   {
    "duration": 21,
    "start_time": "2022-02-28T07:57:12.787Z"
   },
   {
    "duration": 15,
    "start_time": "2022-02-28T07:57:12.810Z"
   },
   {
    "duration": 4,
    "start_time": "2022-02-28T07:57:12.827Z"
   },
   {
    "duration": 34,
    "start_time": "2022-02-28T07:57:12.833Z"
   },
   {
    "duration": 7,
    "start_time": "2022-02-28T07:57:12.869Z"
   },
   {
    "duration": 8,
    "start_time": "2022-02-28T07:57:12.877Z"
   },
   {
    "duration": 8,
    "start_time": "2022-02-28T07:57:12.886Z"
   },
   {
    "duration": 6,
    "start_time": "2022-02-28T07:57:12.895Z"
   },
   {
    "duration": 6,
    "start_time": "2022-02-28T07:57:12.903Z"
   },
   {
    "duration": 15,
    "start_time": "2022-02-28T07:57:12.910Z"
   },
   {
    "duration": 4,
    "start_time": "2022-02-28T07:57:12.927Z"
   },
   {
    "duration": 37,
    "start_time": "2022-02-28T07:57:12.933Z"
   },
   {
    "duration": 14,
    "start_time": "2022-02-28T07:57:12.971Z"
   },
   {
    "duration": 11,
    "start_time": "2022-02-28T07:57:12.986Z"
   },
   {
    "duration": 5,
    "start_time": "2022-02-28T07:57:12.998Z"
   },
   {
    "duration": 13,
    "start_time": "2022-02-28T07:57:13.004Z"
   },
   {
    "duration": 15,
    "start_time": "2022-02-28T07:57:13.018Z"
   },
   {
    "duration": 31,
    "start_time": "2022-02-28T07:57:13.035Z"
   },
   {
    "duration": 13,
    "start_time": "2022-02-28T07:57:13.068Z"
   },
   {
    "duration": 8,
    "start_time": "2022-02-28T07:57:13.083Z"
   },
   {
    "duration": 191,
    "start_time": "2022-02-28T07:57:13.093Z"
   },
   {
    "duration": 14,
    "start_time": "2022-02-28T07:57:13.285Z"
   },
   {
    "duration": 176,
    "start_time": "2022-02-28T07:57:13.300Z"
   },
   {
    "duration": 9,
    "start_time": "2022-02-28T07:57:13.478Z"
   },
   {
    "duration": 11,
    "start_time": "2022-02-28T07:57:13.489Z"
   },
   {
    "duration": 15,
    "start_time": "2022-02-28T07:58:11.610Z"
   },
   {
    "duration": 328,
    "start_time": "2022-02-28T07:58:16.121Z"
   },
   {
    "duration": 168,
    "start_time": "2022-02-28T07:58:20.673Z"
   },
   {
    "duration": 170,
    "start_time": "2022-02-28T07:59:05.729Z"
   },
   {
    "duration": 173,
    "start_time": "2022-02-28T07:59:19.936Z"
   },
   {
    "duration": 232,
    "start_time": "2022-02-28T08:03:04.351Z"
   },
   {
    "duration": 13,
    "start_time": "2022-02-28T08:03:21.440Z"
   },
   {
    "duration": 250,
    "start_time": "2022-02-28T08:03:31.414Z"
   },
   {
    "duration": 164,
    "start_time": "2022-02-28T08:03:45.711Z"
   },
   {
    "duration": 168,
    "start_time": "2022-02-28T08:03:50.984Z"
   },
   {
    "duration": 15,
    "start_time": "2022-02-28T08:04:06.056Z"
   },
   {
    "duration": 172,
    "start_time": "2022-02-28T08:04:07.399Z"
   },
   {
    "duration": 176,
    "start_time": "2022-02-28T08:12:52.597Z"
   },
   {
    "duration": 13,
    "start_time": "2022-02-28T08:13:16.885Z"
   },
   {
    "duration": 235,
    "start_time": "2022-02-28T08:13:19.525Z"
   },
   {
    "duration": 16,
    "start_time": "2022-02-28T08:13:26.581Z"
   },
   {
    "duration": 184,
    "start_time": "2022-02-28T08:13:33.661Z"
   },
   {
    "duration": 15,
    "start_time": "2022-02-28T08:14:02.269Z"
   },
   {
    "duration": 14,
    "start_time": "2022-02-28T08:14:52.156Z"
   },
   {
    "duration": 418,
    "start_time": "2022-02-28T08:15:08.109Z"
   },
   {
    "duration": 248,
    "start_time": "2022-02-28T08:15:30.725Z"
   },
   {
    "duration": 246,
    "start_time": "2022-02-28T08:15:41.324Z"
   },
   {
    "duration": 156,
    "start_time": "2022-02-28T08:15:54.780Z"
   },
   {
    "duration": 12,
    "start_time": "2022-02-28T08:16:31.108Z"
   },
   {
    "duration": 15,
    "start_time": "2022-02-28T08:19:43.956Z"
   },
   {
    "duration": 215,
    "start_time": "2022-02-28T08:19:59.018Z"
   },
   {
    "duration": 14,
    "start_time": "2022-02-28T08:20:08.547Z"
   },
   {
    "duration": 235,
    "start_time": "2022-02-28T08:20:10.480Z"
   },
   {
    "duration": 178,
    "start_time": "2022-02-28T08:20:31.212Z"
   },
   {
    "duration": 351,
    "start_time": "2022-02-28T08:22:19.083Z"
   },
   {
    "duration": 433,
    "start_time": "2022-02-28T08:22:25.938Z"
   },
   {
    "duration": 15,
    "start_time": "2022-02-28T08:22:29.667Z"
   },
   {
    "duration": 179,
    "start_time": "2022-02-28T08:22:34.354Z"
   },
   {
    "duration": 94,
    "start_time": "2022-02-28T08:22:50.851Z"
   },
   {
    "duration": 65,
    "start_time": "2022-02-28T08:22:55.467Z"
   },
   {
    "duration": 88,
    "start_time": "2022-02-28T08:23:05.241Z"
   },
   {
    "duration": 68,
    "start_time": "2022-02-28T08:23:08.242Z"
   },
   {
    "duration": 211,
    "start_time": "2022-02-28T08:23:15.778Z"
   },
   {
    "duration": 13,
    "start_time": "2022-02-28T08:23:27.698Z"
   },
   {
    "duration": 164,
    "start_time": "2022-02-28T08:23:31.346Z"
   },
   {
    "duration": 8,
    "start_time": "2022-02-28T08:33:51.343Z"
   },
   {
    "duration": 7,
    "start_time": "2022-02-28T08:34:02.232Z"
   },
   {
    "duration": 7,
    "start_time": "2022-02-28T08:34:10.567Z"
   },
   {
    "duration": 7,
    "start_time": "2022-02-28T08:42:35.989Z"
   },
   {
    "duration": 20,
    "start_time": "2022-02-28T10:22:46.590Z"
   },
   {
    "duration": 9,
    "start_time": "2022-02-28T10:23:46.534Z"
   },
   {
    "duration": 26,
    "start_time": "2022-02-28T10:25:28.997Z"
   },
   {
    "duration": 272,
    "start_time": "2022-02-28T10:25:49.421Z"
   },
   {
    "duration": 25,
    "start_time": "2022-02-28T10:26:15.237Z"
   },
   {
    "duration": 13,
    "start_time": "2022-02-28T10:28:09.524Z"
   },
   {
    "duration": 23,
    "start_time": "2022-02-28T10:28:37.660Z"
   },
   {
    "duration": 22,
    "start_time": "2022-02-28T10:28:52.549Z"
   },
   {
    "duration": 17,
    "start_time": "2022-02-28T10:29:31.988Z"
   },
   {
    "duration": 19,
    "start_time": "2022-02-28T10:29:44.116Z"
   },
   {
    "duration": 22,
    "start_time": "2022-02-28T10:31:08.779Z"
   },
   {
    "duration": 22,
    "start_time": "2022-02-28T10:32:59.779Z"
   },
   {
    "duration": 26,
    "start_time": "2022-02-28T10:33:20.747Z"
   },
   {
    "duration": 24,
    "start_time": "2022-02-28T10:33:59.380Z"
   },
   {
    "duration": 10,
    "start_time": "2022-02-28T10:34:31.987Z"
   },
   {
    "duration": 11,
    "start_time": "2022-02-28T10:35:17.211Z"
   },
   {
    "duration": 9,
    "start_time": "2022-02-28T10:35:53.569Z"
   },
   {
    "duration": 8,
    "start_time": "2022-02-28T10:36:16.498Z"
   },
   {
    "duration": 8,
    "start_time": "2022-02-28T10:36:59.968Z"
   },
   {
    "duration": 7,
    "start_time": "2022-02-28T10:37:45.369Z"
   },
   {
    "duration": 8,
    "start_time": "2022-02-28T10:37:58.001Z"
   },
   {
    "duration": 6,
    "start_time": "2022-02-28T10:39:23.672Z"
   },
   {
    "duration": 8,
    "start_time": "2022-02-28T10:39:43.999Z"
   },
   {
    "duration": 8,
    "start_time": "2022-02-28T10:39:58.656Z"
   },
   {
    "duration": 20,
    "start_time": "2022-02-28T10:40:17.808Z"
   },
   {
    "duration": 22,
    "start_time": "2022-02-28T10:41:01.897Z"
   },
   {
    "duration": 7,
    "start_time": "2022-02-28T10:42:55.040Z"
   },
   {
    "duration": 22,
    "start_time": "2022-02-28T10:42:57.063Z"
   },
   {
    "duration": 10,
    "start_time": "2022-02-28T10:43:08.871Z"
   },
   {
    "duration": 10,
    "start_time": "2022-02-28T10:43:13.111Z"
   },
   {
    "duration": 200,
    "start_time": "2022-02-28T10:44:20.583Z"
   },
   {
    "duration": 71,
    "start_time": "2022-02-28T10:44:39.071Z"
   },
   {
    "duration": 10,
    "start_time": "2022-02-28T10:44:43.679Z"
   },
   {
    "duration": 9,
    "start_time": "2022-02-28T10:45:00.352Z"
   },
   {
    "duration": 9,
    "start_time": "2022-02-28T10:45:12.001Z"
   },
   {
    "duration": 12,
    "start_time": "2022-02-28T10:45:25.423Z"
   },
   {
    "duration": 12,
    "start_time": "2022-02-28T10:48:05.166Z"
   },
   {
    "duration": 11,
    "start_time": "2022-02-28T10:48:24.271Z"
   },
   {
    "duration": 24,
    "start_time": "2022-02-28T10:49:12.655Z"
   },
   {
    "duration": 15,
    "start_time": "2022-02-28T10:51:29.134Z"
   },
   {
    "duration": 13,
    "start_time": "2022-02-28T10:52:47.389Z"
   },
   {
    "duration": 22,
    "start_time": "2022-02-28T10:53:42.165Z"
   },
   {
    "duration": 9,
    "start_time": "2022-02-28T10:55:41.901Z"
   },
   {
    "duration": 12,
    "start_time": "2022-02-28T10:57:32.468Z"
   },
   {
    "duration": 9,
    "start_time": "2022-02-28T10:57:38.371Z"
   },
   {
    "duration": 15,
    "start_time": "2022-02-28T10:57:50.044Z"
   },
   {
    "duration": 9,
    "start_time": "2022-02-28T10:58:08.212Z"
   },
   {
    "duration": 10,
    "start_time": "2022-02-28T10:58:11.091Z"
   },
   {
    "duration": 9,
    "start_time": "2022-02-28T10:58:13.363Z"
   },
   {
    "duration": 11,
    "start_time": "2022-02-28T10:58:16.667Z"
   },
   {
    "duration": 10,
    "start_time": "2022-02-28T10:58:19.779Z"
   },
   {
    "duration": 9,
    "start_time": "2022-02-28T10:58:22.290Z"
   },
   {
    "duration": 10,
    "start_time": "2022-02-28T10:58:25.674Z"
   },
   {
    "duration": 9,
    "start_time": "2022-02-28T11:00:12.875Z"
   },
   {
    "duration": 14,
    "start_time": "2022-02-28T11:00:18.402Z"
   },
   {
    "duration": 12,
    "start_time": "2022-02-28T11:00:34.578Z"
   },
   {
    "duration": 68,
    "start_time": "2022-02-28T11:01:02.290Z"
   },
   {
    "duration": 12,
    "start_time": "2022-02-28T11:01:06.138Z"
   },
   {
    "duration": 9,
    "start_time": "2022-02-28T11:02:23.810Z"
   },
   {
    "duration": 24,
    "start_time": "2022-02-28T11:02:42.426Z"
   },
   {
    "duration": 24,
    "start_time": "2022-02-28T11:03:11.971Z"
   },
   {
    "duration": 8,
    "start_time": "2022-02-28T11:03:39.193Z"
   },
   {
    "duration": 3,
    "start_time": "2022-02-28T11:04:52.251Z"
   },
   {
    "duration": 76,
    "start_time": "2022-02-28T11:08:24.856Z"
   },
   {
    "duration": 220,
    "start_time": "2022-02-28T11:09:00.873Z"
   },
   {
    "duration": 234,
    "start_time": "2022-02-28T11:09:20.272Z"
   },
   {
    "duration": 267,
    "start_time": "2022-02-28T11:09:40.825Z"
   },
   {
    "duration": 266,
    "start_time": "2022-02-28T11:09:53.864Z"
   },
   {
    "duration": 121,
    "start_time": "2022-02-28T11:10:05.937Z"
   },
   {
    "duration": 4,
    "start_time": "2022-02-28T11:13:56.527Z"
   },
   {
    "duration": 73,
    "start_time": "2022-02-28T11:14:45.559Z"
   },
   {
    "duration": 23,
    "start_time": "2022-02-28T11:15:17.198Z"
   },
   {
    "duration": 21,
    "start_time": "2022-02-28T11:15:27.607Z"
   },
   {
    "duration": 3,
    "start_time": "2022-02-28T11:16:06.054Z"
   },
   {
    "duration": 221,
    "start_time": "2022-02-28T11:16:06.879Z"
   },
   {
    "duration": 602,
    "start_time": "2022-02-28T11:16:13.150Z"
   },
   {
    "duration": 10450,
    "start_time": "2022-02-28T11:17:02.102Z"
   },
   {
    "duration": 4,
    "start_time": "2022-02-28T11:18:51.102Z"
   },
   {
    "duration": 11936,
    "start_time": "2022-02-28T11:18:51.533Z"
   },
   {
    "duration": 5,
    "start_time": "2022-02-28T11:24:39.123Z"
   },
   {
    "duration": 12,
    "start_time": "2022-02-28T11:24:39.453Z"
   },
   {
    "duration": 11,
    "start_time": "2022-02-28T11:24:39.908Z"
   },
   {
    "duration": 1175,
    "start_time": "2022-02-28T11:24:47.941Z"
   },
   {
    "duration": 49,
    "start_time": "2022-02-28T11:24:49.118Z"
   },
   {
    "duration": 23,
    "start_time": "2022-02-28T11:24:49.170Z"
   },
   {
    "duration": 11,
    "start_time": "2022-02-28T11:24:49.195Z"
   },
   {
    "duration": 27,
    "start_time": "2022-02-28T11:24:49.207Z"
   },
   {
    "duration": 6,
    "start_time": "2022-02-28T11:24:49.236Z"
   },
   {
    "duration": 25,
    "start_time": "2022-02-28T11:24:49.243Z"
   },
   {
    "duration": 6,
    "start_time": "2022-02-28T11:24:49.270Z"
   },
   {
    "duration": 15,
    "start_time": "2022-02-28T11:24:49.280Z"
   },
   {
    "duration": 14,
    "start_time": "2022-02-28T11:24:49.297Z"
   },
   {
    "duration": 9,
    "start_time": "2022-02-28T11:24:49.313Z"
   },
   {
    "duration": 40,
    "start_time": "2022-02-28T11:24:49.324Z"
   },
   {
    "duration": 22,
    "start_time": "2022-02-28T11:24:49.366Z"
   },
   {
    "duration": 21,
    "start_time": "2022-02-28T11:24:49.389Z"
   },
   {
    "duration": 9,
    "start_time": "2022-02-28T11:24:49.412Z"
   },
   {
    "duration": 44,
    "start_time": "2022-02-28T11:24:49.423Z"
   },
   {
    "duration": 39,
    "start_time": "2022-02-28T11:24:49.469Z"
   },
   {
    "duration": 12,
    "start_time": "2022-02-28T11:24:49.509Z"
   },
   {
    "duration": 8,
    "start_time": "2022-02-28T11:24:49.523Z"
   },
   {
    "duration": 12,
    "start_time": "2022-02-28T11:24:49.533Z"
   },
   {
    "duration": 9,
    "start_time": "2022-02-28T11:24:49.547Z"
   },
   {
    "duration": 12,
    "start_time": "2022-02-28T11:24:49.558Z"
   },
   {
    "duration": 8,
    "start_time": "2022-02-28T11:24:49.571Z"
   },
   {
    "duration": 6,
    "start_time": "2022-02-28T11:24:49.581Z"
   },
   {
    "duration": 28,
    "start_time": "2022-02-28T11:24:49.588Z"
   },
   {
    "duration": 6,
    "start_time": "2022-02-28T11:24:49.618Z"
   },
   {
    "duration": 7,
    "start_time": "2022-02-28T11:24:49.627Z"
   },
   {
    "duration": 29,
    "start_time": "2022-02-28T11:24:49.636Z"
   },
   {
    "duration": 12,
    "start_time": "2022-02-28T11:24:49.667Z"
   },
   {
    "duration": 15,
    "start_time": "2022-02-28T11:24:49.680Z"
   },
   {
    "duration": 15,
    "start_time": "2022-02-28T11:24:49.697Z"
   },
   {
    "duration": 12,
    "start_time": "2022-02-28T11:24:49.714Z"
   },
   {
    "duration": 38,
    "start_time": "2022-02-28T11:24:49.728Z"
   },
   {
    "duration": 22,
    "start_time": "2022-02-28T11:24:49.768Z"
   },
   {
    "duration": 16,
    "start_time": "2022-02-28T11:24:49.792Z"
   },
   {
    "duration": 5,
    "start_time": "2022-02-28T11:24:49.810Z"
   },
   {
    "duration": 17,
    "start_time": "2022-02-28T11:24:49.817Z"
   },
   {
    "duration": 27,
    "start_time": "2022-02-28T11:24:49.836Z"
   },
   {
    "duration": 8,
    "start_time": "2022-02-28T11:24:49.865Z"
   },
   {
    "duration": 9,
    "start_time": "2022-02-28T11:24:49.875Z"
   },
   {
    "duration": 6,
    "start_time": "2022-02-28T11:24:49.886Z"
   },
   {
    "duration": 9,
    "start_time": "2022-02-28T11:24:49.894Z"
   },
   {
    "duration": 20,
    "start_time": "2022-02-28T11:24:49.905Z"
   },
   {
    "duration": 9,
    "start_time": "2022-02-28T11:24:49.926Z"
   },
   {
    "duration": 26,
    "start_time": "2022-02-28T11:24:49.937Z"
   },
   {
    "duration": 11,
    "start_time": "2022-02-28T11:24:49.965Z"
   },
   {
    "duration": 11,
    "start_time": "2022-02-28T11:24:49.977Z"
   },
   {
    "duration": 16,
    "start_time": "2022-02-28T11:24:49.990Z"
   },
   {
    "duration": 19,
    "start_time": "2022-02-28T11:24:50.008Z"
   },
   {
    "duration": 23,
    "start_time": "2022-02-28T11:24:50.029Z"
   },
   {
    "duration": 12,
    "start_time": "2022-02-28T11:24:50.054Z"
   },
   {
    "duration": 18,
    "start_time": "2022-02-28T11:24:50.068Z"
   },
   {
    "duration": 8,
    "start_time": "2022-02-28T11:24:50.087Z"
   },
   {
    "duration": 186,
    "start_time": "2022-02-28T11:24:50.097Z"
   },
   {
    "duration": 14,
    "start_time": "2022-02-28T11:24:50.285Z"
   },
   {
    "duration": 190,
    "start_time": "2022-02-28T11:24:50.301Z"
   },
   {
    "duration": 14,
    "start_time": "2022-02-28T11:24:50.492Z"
   },
   {
    "duration": 168,
    "start_time": "2022-02-28T11:24:50.507Z"
   },
   {
    "duration": 15,
    "start_time": "2022-02-28T11:24:50.677Z"
   },
   {
    "duration": 178,
    "start_time": "2022-02-28T11:24:50.694Z"
   },
   {
    "duration": 7,
    "start_time": "2022-02-28T11:24:50.873Z"
   },
   {
    "duration": 1141,
    "start_time": "2022-03-07T19:44:24.343Z"
   },
   {
    "duration": 53,
    "start_time": "2022-03-07T19:44:25.486Z"
   },
   {
    "duration": 28,
    "start_time": "2022-03-07T19:44:25.541Z"
   },
   {
    "duration": 11,
    "start_time": "2022-03-07T19:44:25.572Z"
   },
   {
    "duration": 15,
    "start_time": "2022-03-07T19:44:25.585Z"
   },
   {
    "duration": 5,
    "start_time": "2022-03-07T19:44:25.601Z"
   },
   {
    "duration": 37,
    "start_time": "2022-03-07T19:44:25.607Z"
   },
   {
    "duration": 6,
    "start_time": "2022-03-07T19:44:25.647Z"
   },
   {
    "duration": 13,
    "start_time": "2022-03-07T19:44:25.655Z"
   },
   {
    "duration": 10,
    "start_time": "2022-03-07T19:44:25.670Z"
   },
   {
    "duration": 8,
    "start_time": "2022-03-07T19:44:25.681Z"
   },
   {
    "duration": 6,
    "start_time": "2022-03-07T19:44:25.690Z"
   },
   {
    "duration": 54,
    "start_time": "2022-03-07T19:44:25.698Z"
   },
   {
    "duration": 20,
    "start_time": "2022-03-07T19:44:25.753Z"
   },
   {
    "duration": 9,
    "start_time": "2022-03-07T19:44:25.774Z"
   },
   {
    "duration": 5,
    "start_time": "2022-03-07T19:44:25.784Z"
   },
   {
    "duration": 12,
    "start_time": "2022-03-07T19:44:25.790Z"
   },
   {
    "duration": 36,
    "start_time": "2022-03-07T19:44:25.804Z"
   },
   {
    "duration": 8,
    "start_time": "2022-03-07T19:44:25.842Z"
   },
   {
    "duration": 7,
    "start_time": "2022-03-07T19:44:25.851Z"
   },
   {
    "duration": 8,
    "start_time": "2022-03-07T19:44:25.860Z"
   },
   {
    "duration": 13,
    "start_time": "2022-03-07T19:44:25.869Z"
   },
   {
    "duration": 5,
    "start_time": "2022-03-07T19:44:25.885Z"
   },
   {
    "duration": 5,
    "start_time": "2022-03-07T19:44:25.892Z"
   },
   {
    "duration": 48,
    "start_time": "2022-03-07T19:44:25.899Z"
   },
   {
    "duration": 6,
    "start_time": "2022-03-07T19:44:25.949Z"
   },
   {
    "duration": 8,
    "start_time": "2022-03-07T19:44:25.957Z"
   },
   {
    "duration": 5,
    "start_time": "2022-03-07T19:44:25.967Z"
   },
   {
    "duration": 12,
    "start_time": "2022-03-07T19:44:25.974Z"
   },
   {
    "duration": 11,
    "start_time": "2022-03-07T19:44:25.988Z"
   },
   {
    "duration": 45,
    "start_time": "2022-03-07T19:44:26.000Z"
   },
   {
    "duration": 12,
    "start_time": "2022-03-07T19:44:26.047Z"
   },
   {
    "duration": 13,
    "start_time": "2022-03-07T19:44:26.061Z"
   },
   {
    "duration": 22,
    "start_time": "2022-03-07T19:44:26.076Z"
   },
   {
    "duration": 39,
    "start_time": "2022-03-07T19:44:26.100Z"
   },
   {
    "duration": 5,
    "start_time": "2022-03-07T19:44:26.140Z"
   },
   {
    "duration": 10,
    "start_time": "2022-03-07T19:44:26.147Z"
   },
   {
    "duration": 9,
    "start_time": "2022-03-07T19:44:26.159Z"
   },
   {
    "duration": 7,
    "start_time": "2022-03-07T19:44:26.170Z"
   },
   {
    "duration": 10,
    "start_time": "2022-03-07T19:44:26.179Z"
   },
   {
    "duration": 8,
    "start_time": "2022-03-07T19:44:26.191Z"
   },
   {
    "duration": 8,
    "start_time": "2022-03-07T19:44:26.200Z"
   },
   {
    "duration": 34,
    "start_time": "2022-03-07T19:44:26.209Z"
   },
   {
    "duration": 3,
    "start_time": "2022-03-07T19:44:26.244Z"
   },
   {
    "duration": 12,
    "start_time": "2022-03-07T19:44:26.249Z"
   },
   {
    "duration": 15,
    "start_time": "2022-03-07T19:44:26.263Z"
   },
   {
    "duration": 12,
    "start_time": "2022-03-07T19:44:26.279Z"
   },
   {
    "duration": 5,
    "start_time": "2022-03-07T19:44:26.293Z"
   },
   {
    "duration": 11,
    "start_time": "2022-03-07T19:44:26.299Z"
   },
   {
    "duration": 31,
    "start_time": "2022-03-07T19:44:26.311Z"
   },
   {
    "duration": 8,
    "start_time": "2022-03-07T19:44:26.343Z"
   },
   {
    "duration": 15,
    "start_time": "2022-03-07T19:44:26.353Z"
   },
   {
    "duration": 8,
    "start_time": "2022-03-07T19:44:26.369Z"
   },
   {
    "duration": 207,
    "start_time": "2022-03-07T19:44:26.379Z"
   },
   {
    "duration": 14,
    "start_time": "2022-03-07T19:44:26.588Z"
   },
   {
    "duration": 203,
    "start_time": "2022-03-07T19:44:26.604Z"
   },
   {
    "duration": 12,
    "start_time": "2022-03-07T19:44:26.809Z"
   },
   {
    "duration": 188,
    "start_time": "2022-03-07T19:44:26.823Z"
   },
   {
    "duration": 16,
    "start_time": "2022-03-07T19:44:27.012Z"
   },
   {
    "duration": 198,
    "start_time": "2022-03-07T19:44:27.029Z"
   },
   {
    "duration": 13,
    "start_time": "2022-03-07T19:44:27.228Z"
   },
   {
    "duration": 1094,
    "start_time": "2022-03-07T20:00:21.593Z"
   },
   {
    "duration": 47,
    "start_time": "2022-03-07T20:00:22.689Z"
   },
   {
    "duration": 24,
    "start_time": "2022-03-07T20:00:22.738Z"
   },
   {
    "duration": 11,
    "start_time": "2022-03-07T20:00:22.764Z"
   },
   {
    "duration": 27,
    "start_time": "2022-03-07T20:00:22.776Z"
   },
   {
    "duration": 7,
    "start_time": "2022-03-07T20:00:22.804Z"
   },
   {
    "duration": 31,
    "start_time": "2022-03-07T20:00:22.813Z"
   },
   {
    "duration": 6,
    "start_time": "2022-03-07T20:00:22.847Z"
   },
   {
    "duration": 15,
    "start_time": "2022-03-07T20:00:22.855Z"
   },
   {
    "duration": 12,
    "start_time": "2022-03-07T20:00:22.872Z"
   },
   {
    "duration": 8,
    "start_time": "2022-03-07T20:00:22.886Z"
   },
   {
    "duration": 6,
    "start_time": "2022-03-07T20:00:22.896Z"
   },
   {
    "duration": 52,
    "start_time": "2022-03-07T20:00:22.904Z"
   },
   {
    "duration": 21,
    "start_time": "2022-03-07T20:00:22.958Z"
   },
   {
    "duration": 10,
    "start_time": "2022-03-07T20:00:22.981Z"
   },
   {
    "duration": 6,
    "start_time": "2022-03-07T20:00:22.993Z"
   },
   {
    "duration": 41,
    "start_time": "2022-03-07T20:00:23.001Z"
   },
   {
    "duration": 9,
    "start_time": "2022-03-07T20:00:23.043Z"
   },
   {
    "duration": 9,
    "start_time": "2022-03-07T20:00:23.054Z"
   },
   {
    "duration": 6,
    "start_time": "2022-03-07T20:00:23.065Z"
   },
   {
    "duration": 7,
    "start_time": "2022-03-07T20:00:23.072Z"
   },
   {
    "duration": 15,
    "start_time": "2022-03-07T20:00:23.081Z"
   },
   {
    "duration": 7,
    "start_time": "2022-03-07T20:00:23.099Z"
   },
   {
    "duration": 5,
    "start_time": "2022-03-07T20:00:23.138Z"
   },
   {
    "duration": 24,
    "start_time": "2022-03-07T20:00:23.145Z"
   },
   {
    "duration": 5,
    "start_time": "2022-03-07T20:00:23.171Z"
   },
   {
    "duration": 9,
    "start_time": "2022-03-07T20:00:23.178Z"
   },
   {
    "duration": 6,
    "start_time": "2022-03-07T20:00:23.188Z"
   },
   {
    "duration": 12,
    "start_time": "2022-03-07T20:00:23.196Z"
   },
   {
    "duration": 12,
    "start_time": "2022-03-07T20:00:23.237Z"
   },
   {
    "duration": 16,
    "start_time": "2022-03-07T20:00:23.251Z"
   },
   {
    "duration": 12,
    "start_time": "2022-03-07T20:00:23.268Z"
   },
   {
    "duration": 10,
    "start_time": "2022-03-07T20:00:23.281Z"
   },
   {
    "duration": 51,
    "start_time": "2022-03-07T20:00:23.293Z"
   },
   {
    "duration": 17,
    "start_time": "2022-03-07T20:00:23.345Z"
   },
   {
    "duration": 4,
    "start_time": "2022-03-07T20:00:23.363Z"
   },
   {
    "duration": 12,
    "start_time": "2022-03-07T20:00:23.369Z"
   },
   {
    "duration": 7,
    "start_time": "2022-03-07T20:00:23.383Z"
   },
   {
    "duration": 16,
    "start_time": "2022-03-07T20:00:23.392Z"
   },
   {
    "duration": 12,
    "start_time": "2022-03-07T20:00:23.410Z"
   },
   {
    "duration": 16,
    "start_time": "2022-03-07T20:00:23.423Z"
   },
   {
    "duration": 9,
    "start_time": "2022-03-07T20:00:23.440Z"
   },
   {
    "duration": 19,
    "start_time": "2022-03-07T20:00:23.451Z"
   },
   {
    "duration": 4,
    "start_time": "2022-03-07T20:00:23.472Z"
   },
   {
    "duration": 11,
    "start_time": "2022-03-07T20:00:23.478Z"
   },
   {
    "duration": 14,
    "start_time": "2022-03-07T20:00:23.491Z"
   },
   {
    "duration": 32,
    "start_time": "2022-03-07T20:00:23.507Z"
   },
   {
    "duration": 6,
    "start_time": "2022-03-07T20:00:23.540Z"
   },
   {
    "duration": 17,
    "start_time": "2022-03-07T20:00:23.548Z"
   },
   {
    "duration": 16,
    "start_time": "2022-03-07T20:00:23.566Z"
   },
   {
    "duration": 8,
    "start_time": "2022-03-07T20:00:23.584Z"
   },
   {
    "duration": 15,
    "start_time": "2022-03-07T20:00:23.594Z"
   },
   {
    "duration": 27,
    "start_time": "2022-03-07T20:00:23.611Z"
   },
   {
    "duration": 191,
    "start_time": "2022-03-07T20:00:23.640Z"
   },
   {
    "duration": 14,
    "start_time": "2022-03-07T20:00:23.837Z"
   },
   {
    "duration": 191,
    "start_time": "2022-03-07T20:00:23.853Z"
   },
   {
    "duration": 14,
    "start_time": "2022-03-07T20:00:24.045Z"
   },
   {
    "duration": 183,
    "start_time": "2022-03-07T20:00:24.061Z"
   },
   {
    "duration": 15,
    "start_time": "2022-03-07T20:00:24.246Z"
   },
   {
    "duration": 192,
    "start_time": "2022-03-07T20:00:24.263Z"
   },
   {
    "duration": 6,
    "start_time": "2022-03-07T20:00:24.457Z"
   },
   {
    "duration": 1188,
    "start_time": "2022-03-08T15:48:56.665Z"
   },
   {
    "duration": 46,
    "start_time": "2022-03-08T15:48:58.684Z"
   },
   {
    "duration": 24,
    "start_time": "2022-03-08T15:48:59.534Z"
   },
   {
    "duration": 12,
    "start_time": "2022-03-08T15:49:03.176Z"
   },
   {
    "duration": 17,
    "start_time": "2022-03-08T15:49:04.237Z"
   },
   {
    "duration": 5,
    "start_time": "2022-03-08T15:49:05.429Z"
   },
   {
    "duration": 9,
    "start_time": "2022-03-08T15:49:07.737Z"
   },
   {
    "duration": 8,
    "start_time": "2022-03-08T15:49:08.597Z"
   },
   {
    "duration": 14,
    "start_time": "2022-03-08T15:49:11.749Z"
   },
   {
    "duration": 12,
    "start_time": "2022-03-08T15:49:12.325Z"
   },
   {
    "duration": 10,
    "start_time": "2022-03-08T15:49:16.051Z"
   },
   {
    "duration": 7,
    "start_time": "2022-03-08T15:49:16.587Z"
   },
   {
    "duration": 9,
    "start_time": "2022-03-08T15:49:43.220Z"
   },
   {
    "duration": 9,
    "start_time": "2022-03-08T15:49:57.633Z"
   },
   {
    "duration": 6,
    "start_time": "2022-03-08T15:49:57.959Z"
   },
   {
    "duration": 7,
    "start_time": "2022-03-08T15:50:03.778Z"
   },
   {
    "duration": 12,
    "start_time": "2022-03-08T15:50:07.193Z"
   },
   {
    "duration": 7,
    "start_time": "2022-03-08T15:50:16.285Z"
   },
   {
    "duration": 6,
    "start_time": "2022-03-08T15:50:23.157Z"
   },
   {
    "duration": 23,
    "start_time": "2022-03-08T15:50:26.363Z"
   },
   {
    "duration": 7,
    "start_time": "2022-03-08T15:50:31.193Z"
   },
   {
    "duration": 7,
    "start_time": "2022-03-08T15:50:31.665Z"
   },
   {
    "duration": 9,
    "start_time": "2022-03-08T15:51:32.793Z"
   },
   {
    "duration": 13,
    "start_time": "2022-03-08T15:53:32.664Z"
   },
   {
    "duration": 8,
    "start_time": "2022-03-08T15:55:59.493Z"
   },
   {
    "duration": 318,
    "start_time": "2022-03-08T16:09:47.741Z"
   },
   {
    "duration": 14,
    "start_time": "2022-03-08T16:09:53.448Z"
   },
   {
    "duration": 50,
    "start_time": "2022-03-08T16:11:17.957Z"
   },
   {
    "duration": 26,
    "start_time": "2022-03-08T16:11:18.725Z"
   },
   {
    "duration": 12,
    "start_time": "2022-03-08T16:11:22.514Z"
   },
   {
    "duration": 19,
    "start_time": "2022-03-08T16:11:23.373Z"
   },
   {
    "duration": 7,
    "start_time": "2022-03-08T16:11:24.999Z"
   },
   {
    "duration": 10,
    "start_time": "2022-03-08T16:11:25.327Z"
   },
   {
    "duration": 9,
    "start_time": "2022-03-08T16:11:25.748Z"
   },
   {
    "duration": 15,
    "start_time": "2022-03-08T16:11:27.523Z"
   },
   {
    "duration": 11,
    "start_time": "2022-03-08T16:11:27.718Z"
   },
   {
    "duration": 10,
    "start_time": "2022-03-08T16:11:29.950Z"
   },
   {
    "duration": 8,
    "start_time": "2022-03-08T16:11:30.688Z"
   },
   {
    "duration": 9,
    "start_time": "2022-03-08T16:11:45.598Z"
   },
   {
    "duration": 15,
    "start_time": "2022-03-08T16:11:48.076Z"
   },
   {
    "duration": 6,
    "start_time": "2022-03-08T16:11:48.491Z"
   },
   {
    "duration": 6,
    "start_time": "2022-03-08T16:11:49.571Z"
   },
   {
    "duration": 14,
    "start_time": "2022-03-08T16:11:50.048Z"
   },
   {
    "duration": 7,
    "start_time": "2022-03-08T16:11:52.898Z"
   },
   {
    "duration": 6,
    "start_time": "2022-03-08T16:11:53.726Z"
   },
   {
    "duration": 23,
    "start_time": "2022-03-08T16:11:56.223Z"
   },
   {
    "duration": 7,
    "start_time": "2022-03-08T16:11:59.581Z"
   },
   {
    "duration": 6,
    "start_time": "2022-03-08T16:11:59.857Z"
   },
   {
    "duration": 8,
    "start_time": "2022-03-08T16:12:03.900Z"
   },
   {
    "duration": 13,
    "start_time": "2022-03-08T16:12:04.462Z"
   },
   {
    "duration": 7,
    "start_time": "2022-03-08T16:12:29.651Z"
   },
   {
    "duration": 8,
    "start_time": "2022-03-08T16:12:37.640Z"
   },
   {
    "duration": 9,
    "start_time": "2022-03-08T16:12:47.538Z"
   },
   {
    "duration": 9,
    "start_time": "2022-03-08T16:15:40.252Z"
   },
   {
    "duration": 74,
    "start_time": "2022-03-08T16:16:08.545Z"
   },
   {
    "duration": 19,
    "start_time": "2022-03-08T16:16:14.868Z"
   },
   {
    "duration": 22,
    "start_time": "2022-03-08T16:16:39.700Z"
   },
   {
    "duration": 8,
    "start_time": "2022-03-08T16:16:51.495Z"
   },
   {
    "duration": 6,
    "start_time": "2022-03-08T16:20:16.385Z"
   },
   {
    "duration": 8,
    "start_time": "2022-03-08T16:20:26.802Z"
   },
   {
    "duration": 12,
    "start_time": "2022-03-08T16:20:52.816Z"
   },
   {
    "duration": 10,
    "start_time": "2022-03-08T16:20:54.403Z"
   },
   {
    "duration": 19,
    "start_time": "2022-03-08T16:21:34.079Z"
   },
   {
    "duration": 9,
    "start_time": "2022-03-08T16:21:56.224Z"
   },
   {
    "duration": 24,
    "start_time": "2022-03-08T16:24:27.869Z"
   },
   {
    "duration": 47,
    "start_time": "2022-03-08T16:24:30.999Z"
   },
   {
    "duration": 14,
    "start_time": "2022-03-08T16:24:34.766Z"
   },
   {
    "duration": 223,
    "start_time": "2022-03-08T16:25:54.115Z"
   },
   {
    "duration": 25,
    "start_time": "2022-03-08T16:26:23.265Z"
   },
   {
    "duration": 9,
    "start_time": "2022-03-08T16:27:13.311Z"
   },
   {
    "duration": 6,
    "start_time": "2022-03-08T16:27:49.306Z"
   },
   {
    "duration": 7,
    "start_time": "2022-03-08T16:28:30.854Z"
   },
   {
    "duration": 7,
    "start_time": "2022-03-08T16:28:35.092Z"
   },
   {
    "duration": 242,
    "start_time": "2022-03-08T16:28:40.961Z"
   },
   {
    "duration": 24,
    "start_time": "2022-03-08T16:30:49.653Z"
   },
   {
    "duration": 24,
    "start_time": "2022-03-08T16:31:49.913Z"
   },
   {
    "duration": 7,
    "start_time": "2022-03-08T16:32:08.586Z"
   },
   {
    "duration": 4,
    "start_time": "2022-03-08T16:33:16.316Z"
   },
   {
    "duration": 5,
    "start_time": "2022-03-08T16:35:07.377Z"
   },
   {
    "duration": 228,
    "start_time": "2022-03-08T16:35:15.880Z"
   },
   {
    "duration": 5,
    "start_time": "2022-03-08T16:35:19.116Z"
   },
   {
    "duration": 5,
    "start_time": "2022-03-08T16:36:06.742Z"
   },
   {
    "duration": 4,
    "start_time": "2022-03-08T16:37:59.772Z"
   },
   {
    "duration": 697,
    "start_time": "2022-03-08T16:38:30.741Z"
   },
   {
    "duration": 4,
    "start_time": "2022-03-08T16:38:48.382Z"
   },
   {
    "duration": 1449,
    "start_time": "2022-03-08T16:38:49.066Z"
   },
   {
    "duration": 3,
    "start_time": "2022-03-08T16:39:50.233Z"
   },
   {
    "duration": 1533,
    "start_time": "2022-03-08T16:39:50.870Z"
   },
   {
    "duration": 2994,
    "start_time": "2022-03-08T16:41:49.366Z"
   },
   {
    "duration": 219,
    "start_time": "2022-03-08T16:42:04.702Z"
   },
   {
    "duration": 238,
    "start_time": "2022-03-08T16:42:10.211Z"
   },
   {
    "duration": 6,
    "start_time": "2022-03-08T16:42:37.112Z"
   },
   {
    "duration": 40,
    "start_time": "2022-03-08T16:43:40.859Z"
   },
   {
    "duration": 40,
    "start_time": "2022-03-08T16:44:27.259Z"
   },
   {
    "duration": 4,
    "start_time": "2022-03-08T16:44:49.826Z"
   },
   {
    "duration": 44,
    "start_time": "2022-03-08T16:47:51.681Z"
   },
   {
    "duration": 11,
    "start_time": "2022-03-08T16:48:04.900Z"
   },
   {
    "duration": 218,
    "start_time": "2022-03-08T16:48:18.211Z"
   },
   {
    "duration": 77,
    "start_time": "2022-03-08T16:48:24.113Z"
   },
   {
    "duration": 24,
    "start_time": "2022-03-08T16:48:28.360Z"
   },
   {
    "duration": 11,
    "start_time": "2022-03-08T16:48:39.847Z"
   },
   {
    "duration": 45,
    "start_time": "2022-03-08T16:48:57.729Z"
   },
   {
    "duration": 11,
    "start_time": "2022-03-08T16:48:59.366Z"
   },
   {
    "duration": 62,
    "start_time": "2022-03-08T16:50:18.906Z"
   },
   {
    "duration": 22,
    "start_time": "2022-03-08T16:50:29.415Z"
   },
   {
    "duration": 22,
    "start_time": "2022-03-08T16:50:54.737Z"
   },
   {
    "duration": 22,
    "start_time": "2022-03-08T16:51:07.716Z"
   },
   {
    "duration": 28,
    "start_time": "2022-03-08T16:51:20.374Z"
   },
   {
    "duration": 99,
    "start_time": "2022-03-08T16:51:30.091Z"
   },
   {
    "duration": 32,
    "start_time": "2022-03-08T16:52:20.437Z"
   },
   {
    "duration": 30,
    "start_time": "2022-03-08T16:52:40.308Z"
   },
   {
    "duration": 29,
    "start_time": "2022-03-08T16:53:18.138Z"
   },
   {
    "duration": 47,
    "start_time": "2022-03-08T16:53:35.113Z"
   },
   {
    "duration": 10,
    "start_time": "2022-03-08T16:53:38.102Z"
   },
   {
    "duration": 45,
    "start_time": "2022-03-08T16:53:55.862Z"
   },
   {
    "duration": 11,
    "start_time": "2022-03-08T16:53:58.099Z"
   },
   {
    "duration": 25,
    "start_time": "2022-03-08T16:55:10.505Z"
   },
   {
    "duration": 13,
    "start_time": "2022-03-08T16:55:21.040Z"
   },
   {
    "duration": 14,
    "start_time": "2022-03-08T16:55:40.876Z"
   },
   {
    "duration": 15,
    "start_time": "2022-03-08T16:55:41.705Z"
   },
   {
    "duration": 13,
    "start_time": "2022-03-08T16:55:55.521Z"
   },
   {
    "duration": 11,
    "start_time": "2022-03-08T16:55:57.136Z"
   },
   {
    "duration": 26,
    "start_time": "2022-03-08T16:56:40.124Z"
   },
   {
    "duration": 12,
    "start_time": "2022-03-08T16:56:41.054Z"
   },
   {
    "duration": 5,
    "start_time": "2022-03-08T16:56:53.652Z"
   },
   {
    "duration": 27,
    "start_time": "2022-03-08T16:56:54.507Z"
   },
   {
    "duration": 8,
    "start_time": "2022-03-08T16:57:23.612Z"
   },
   {
    "duration": 11,
    "start_time": "2022-03-08T16:57:24.430Z"
   },
   {
    "duration": 13,
    "start_time": "2022-03-08T16:57:37.414Z"
   },
   {
    "duration": 11,
    "start_time": "2022-03-08T16:57:38.373Z"
   },
   {
    "duration": 13,
    "start_time": "2022-03-08T16:58:10.152Z"
   },
   {
    "duration": 12,
    "start_time": "2022-03-08T16:58:17.152Z"
   },
   {
    "duration": 12,
    "start_time": "2022-03-08T16:58:18.150Z"
   },
   {
    "duration": 11,
    "start_time": "2022-03-08T16:59:36.434Z"
   },
   {
    "duration": 13,
    "start_time": "2022-03-08T16:59:37.134Z"
   },
   {
    "duration": 4,
    "start_time": "2022-03-08T16:59:43.816Z"
   },
   {
    "duration": 23,
    "start_time": "2022-03-08T16:59:44.653Z"
   },
   {
    "duration": 12,
    "start_time": "2022-03-08T16:59:48.847Z"
   },
   {
    "duration": 11,
    "start_time": "2022-03-08T16:59:49.342Z"
   },
   {
    "duration": 232,
    "start_time": "2022-03-08T17:01:01.702Z"
   },
   {
    "duration": 8,
    "start_time": "2022-03-08T17:01:10.240Z"
   },
   {
    "duration": 11,
    "start_time": "2022-03-08T17:01:11.166Z"
   },
   {
    "duration": 8,
    "start_time": "2022-03-08T17:01:13.801Z"
   },
   {
    "duration": 11,
    "start_time": "2022-03-08T17:01:14.324Z"
   },
   {
    "duration": 6,
    "start_time": "2022-03-08T17:01:34.903Z"
   },
   {
    "duration": 21,
    "start_time": "2022-03-08T17:01:35.614Z"
   },
   {
    "duration": 9,
    "start_time": "2022-03-08T17:01:39.235Z"
   },
   {
    "duration": 13,
    "start_time": "2022-03-08T17:01:40.142Z"
   },
   {
    "duration": 9,
    "start_time": "2022-03-08T17:01:49.322Z"
   },
   {
    "duration": 13,
    "start_time": "2022-03-08T17:01:58.045Z"
   },
   {
    "duration": 7,
    "start_time": "2022-03-08T17:02:20.055Z"
   },
   {
    "duration": 6,
    "start_time": "2022-03-08T17:02:26.620Z"
   },
   {
    "duration": 8,
    "start_time": "2022-03-08T17:02:35.364Z"
   },
   {
    "duration": 14,
    "start_time": "2022-03-08T17:02:47.532Z"
   },
   {
    "duration": 12,
    "start_time": "2022-03-08T17:02:48.776Z"
   },
   {
    "duration": 14,
    "start_time": "2022-03-08T17:03:01.822Z"
   },
   {
    "duration": 6,
    "start_time": "2022-03-08T17:03:02.452Z"
   },
   {
    "duration": 12,
    "start_time": "2022-03-08T17:03:03.054Z"
   },
   {
    "duration": 21,
    "start_time": "2022-03-08T17:03:10.525Z"
   },
   {
    "duration": 1615,
    "start_time": "2022-03-09T06:26:44.670Z"
   },
   {
    "duration": 61,
    "start_time": "2022-03-09T06:26:46.288Z"
   },
   {
    "duration": 40,
    "start_time": "2022-03-09T06:26:47.103Z"
   },
   {
    "duration": 16,
    "start_time": "2022-03-09T06:26:50.383Z"
   },
   {
    "duration": 25,
    "start_time": "2022-03-09T06:26:51.158Z"
   },
   {
    "duration": 10,
    "start_time": "2022-03-09T06:26:52.798Z"
   },
   {
    "duration": 14,
    "start_time": "2022-03-09T06:26:53.334Z"
   },
   {
    "duration": 11,
    "start_time": "2022-03-09T06:26:55.024Z"
   },
   {
    "duration": 22,
    "start_time": "2022-03-09T06:26:55.591Z"
   },
   {
    "duration": 16,
    "start_time": "2022-03-09T06:26:57.609Z"
   },
   {
    "duration": 13,
    "start_time": "2022-03-09T06:26:59.583Z"
   },
   {
    "duration": 11,
    "start_time": "2022-03-09T06:27:00.055Z"
   },
   {
    "duration": 13,
    "start_time": "2022-03-09T06:27:04.030Z"
   },
   {
    "duration": 12,
    "start_time": "2022-03-09T06:27:06.449Z"
   },
   {
    "duration": 8,
    "start_time": "2022-03-09T06:27:06.895Z"
   },
   {
    "duration": 8,
    "start_time": "2022-03-09T06:27:08.039Z"
   },
   {
    "duration": 20,
    "start_time": "2022-03-09T06:27:08.576Z"
   },
   {
    "duration": 10,
    "start_time": "2022-03-09T06:27:11.614Z"
   },
   {
    "duration": 8,
    "start_time": "2022-03-09T06:27:13.709Z"
   },
   {
    "duration": 36,
    "start_time": "2022-03-09T06:27:14.463Z"
   },
   {
    "duration": 8,
    "start_time": "2022-03-09T06:27:17.159Z"
   },
   {
    "duration": 9,
    "start_time": "2022-03-09T06:27:17.655Z"
   },
   {
    "duration": 10,
    "start_time": "2022-03-09T06:27:18.622Z"
   },
   {
    "duration": 19,
    "start_time": "2022-03-09T06:27:20.399Z"
   },
   {
    "duration": 11,
    "start_time": "2022-03-09T06:27:21.358Z"
   },
   {
    "duration": 10,
    "start_time": "2022-03-09T06:27:21.831Z"
   },
   {
    "duration": 20,
    "start_time": "2022-03-09T06:27:24.606Z"
   },
   {
    "duration": 12,
    "start_time": "2022-03-09T06:27:25.150Z"
   },
   {
    "duration": 20,
    "start_time": "2022-03-09T06:27:26.270Z"
   },
   {
    "duration": 13,
    "start_time": "2022-03-09T06:27:30.534Z"
   },
   {
    "duration": 35,
    "start_time": "2022-03-09T06:27:35.702Z"
   },
   {
    "duration": 36,
    "start_time": "2022-03-09T06:27:38.040Z"
   },
   {
    "duration": 15,
    "start_time": "2022-03-09T06:27:40.543Z"
   },
   {
    "duration": 6,
    "start_time": "2022-03-09T06:28:00.278Z"
   },
   {
    "duration": 33,
    "start_time": "2022-03-09T06:28:00.847Z"
   },
   {
    "duration": 140,
    "start_time": "2022-03-09T06:29:45.247Z"
   },
   {
    "duration": 8,
    "start_time": "2022-03-09T06:29:48.670Z"
   },
   {
    "duration": 33,
    "start_time": "2022-03-09T06:29:49.918Z"
   },
   {
    "duration": 13,
    "start_time": "2022-03-09T06:29:57.374Z"
   },
   {
    "duration": 229,
    "start_time": "2022-03-09T06:31:16.540Z"
   },
   {
    "duration": 16,
    "start_time": "2022-03-09T06:31:20.456Z"
   },
   {
    "duration": 246,
    "start_time": "2022-03-09T06:32:40.147Z"
   },
   {
    "duration": 137,
    "start_time": "2022-03-09T06:33:04.039Z"
   },
   {
    "duration": 7,
    "start_time": "2022-03-09T06:36:12.533Z"
   },
   {
    "duration": 18,
    "start_time": "2022-03-09T06:36:13.070Z"
   },
   {
    "duration": 8,
    "start_time": "2022-03-09T06:37:00.661Z"
   },
   {
    "duration": 18,
    "start_time": "2022-03-09T06:37:02.940Z"
   },
   {
    "duration": 26,
    "start_time": "2022-03-09T06:37:58.324Z"
   },
   {
    "duration": 27,
    "start_time": "2022-03-09T06:38:02.490Z"
   },
   {
    "duration": 10,
    "start_time": "2022-03-09T06:38:09.283Z"
   },
   {
    "duration": 25,
    "start_time": "2022-03-09T06:38:17.619Z"
   },
   {
    "duration": 24,
    "start_time": "2022-03-09T06:38:18.037Z"
   },
   {
    "duration": 6,
    "start_time": "2022-03-09T06:38:23.634Z"
   },
   {
    "duration": 14,
    "start_time": "2022-03-09T06:38:23.948Z"
   },
   {
    "duration": 10,
    "start_time": "2022-03-09T06:38:24.268Z"
   },
   {
    "duration": 6,
    "start_time": "2022-03-09T06:38:26.892Z"
   },
   {
    "duration": 11,
    "start_time": "2022-03-09T06:38:27.141Z"
   },
   {
    "duration": 9,
    "start_time": "2022-03-09T06:38:27.468Z"
   },
   {
    "duration": 6,
    "start_time": "2022-03-09T06:38:30.684Z"
   },
   {
    "duration": 23,
    "start_time": "2022-03-09T06:38:31.443Z"
   },
   {
    "duration": 4,
    "start_time": "2022-03-09T06:40:31.163Z"
   },
   {
    "duration": 13,
    "start_time": "2022-03-09T06:40:32.691Z"
   },
   {
    "duration": 16,
    "start_time": "2022-03-09T06:40:33.084Z"
   },
   {
    "duration": 11,
    "start_time": "2022-03-09T06:40:40.995Z"
   },
   {
    "duration": 4,
    "start_time": "2022-03-09T06:40:42.909Z"
   },
   {
    "duration": 13,
    "start_time": "2022-03-09T06:40:43.171Z"
   },
   {
    "duration": 17,
    "start_time": "2022-03-09T06:40:43.532Z"
   },
   {
    "duration": 10,
    "start_time": "2022-03-09T06:40:45.860Z"
   },
   {
    "duration": 23,
    "start_time": "2022-03-09T06:40:49.235Z"
   },
   {
    "duration": 12,
    "start_time": "2022-03-09T06:41:00.324Z"
   },
   {
    "duration": 286,
    "start_time": "2022-03-09T06:41:06.839Z"
   },
   {
    "duration": 20,
    "start_time": "2022-03-09T06:41:12.690Z"
   },
   {
    "duration": 284,
    "start_time": "2022-03-09T06:41:15.363Z"
   },
   {
    "duration": 19,
    "start_time": "2022-03-09T06:41:40.259Z"
   },
   {
    "duration": 312,
    "start_time": "2022-03-09T06:41:43.011Z"
   },
   {
    "duration": 20,
    "start_time": "2022-03-09T06:41:57.851Z"
   },
   {
    "duration": 277,
    "start_time": "2022-03-09T06:42:00.435Z"
   },
   {
    "duration": 9,
    "start_time": "2022-03-09T06:42:08.827Z"
   },
   {
    "duration": 8,
    "start_time": "2022-03-09T06:42:19.818Z"
   },
   {
    "duration": 260,
    "start_time": "2022-03-09T07:06:59.733Z"
   },
   {
    "duration": 267,
    "start_time": "2022-03-09T07:07:04.389Z"
   },
   {
    "duration": 5,
    "start_time": "2022-03-09T07:11:51.436Z"
   },
   {
    "duration": 505,
    "start_time": "2022-03-09T07:12:27.004Z"
   },
   {
    "duration": 505,
    "start_time": "2022-03-09T07:14:20.739Z"
   },
   {
    "duration": 570,
    "start_time": "2022-03-09T07:14:38.771Z"
   },
   {
    "duration": 1049,
    "start_time": "2022-03-09T07:16:07.890Z"
   },
   {
    "duration": 574,
    "start_time": "2022-03-09T07:17:30.930Z"
   },
   {
    "duration": 628,
    "start_time": "2022-03-09T07:17:50.362Z"
   },
   {
    "duration": 581,
    "start_time": "2022-03-09T07:18:08.930Z"
   },
   {
    "duration": 578,
    "start_time": "2022-03-09T07:18:32.354Z"
   },
   {
    "duration": 677,
    "start_time": "2022-03-09T07:19:30.594Z"
   },
   {
    "duration": 596,
    "start_time": "2022-03-09T07:20:29.496Z"
   },
   {
    "duration": 997,
    "start_time": "2022-03-09T07:25:14.184Z"
   },
   {
    "duration": 5,
    "start_time": "2022-03-09T07:25:47.599Z"
   },
   {
    "duration": 1037,
    "start_time": "2022-03-09T07:26:11.056Z"
   },
   {
    "duration": 590,
    "start_time": "2022-03-09T07:26:18.094Z"
   },
   {
    "duration": 623,
    "start_time": "2022-03-09T07:26:46.304Z"
   },
   {
    "duration": 596,
    "start_time": "2022-03-09T07:26:53.511Z"
   },
   {
    "duration": 596,
    "start_time": "2022-03-09T07:27:00.983Z"
   },
   {
    "duration": 1595,
    "start_time": "2022-03-09T07:27:51.778Z"
   },
   {
    "duration": 59,
    "start_time": "2022-03-09T07:27:53.375Z"
   },
   {
    "duration": 45,
    "start_time": "2022-03-09T07:27:53.437Z"
   },
   {
    "duration": 15,
    "start_time": "2022-03-09T07:27:53.485Z"
   },
   {
    "duration": 25,
    "start_time": "2022-03-09T07:27:53.502Z"
   },
   {
    "duration": 45,
    "start_time": "2022-03-09T07:27:53.530Z"
   },
   {
    "duration": 14,
    "start_time": "2022-03-09T07:27:53.578Z"
   },
   {
    "duration": 9,
    "start_time": "2022-03-09T07:27:53.596Z"
   },
   {
    "duration": 19,
    "start_time": "2022-03-09T07:27:53.608Z"
   },
   {
    "duration": 52,
    "start_time": "2022-03-09T07:27:53.629Z"
   },
   {
    "duration": 12,
    "start_time": "2022-03-09T07:27:53.683Z"
   },
   {
    "duration": 9,
    "start_time": "2022-03-09T07:27:53.697Z"
   },
   {
    "duration": 17,
    "start_time": "2022-03-09T07:27:53.708Z"
   },
   {
    "duration": 50,
    "start_time": "2022-03-09T07:27:53.728Z"
   },
   {
    "duration": 8,
    "start_time": "2022-03-09T07:27:53.781Z"
   },
   {
    "duration": 8,
    "start_time": "2022-03-09T07:27:53.791Z"
   },
   {
    "duration": 18,
    "start_time": "2022-03-09T07:27:53.802Z"
   },
   {
    "duration": 10,
    "start_time": "2022-03-09T07:27:53.822Z"
   },
   {
    "duration": 45,
    "start_time": "2022-03-09T07:27:53.835Z"
   },
   {
    "duration": 34,
    "start_time": "2022-03-09T07:27:53.882Z"
   },
   {
    "duration": 8,
    "start_time": "2022-03-09T07:27:53.918Z"
   },
   {
    "duration": 47,
    "start_time": "2022-03-09T07:27:53.928Z"
   },
   {
    "duration": 11,
    "start_time": "2022-03-09T07:27:53.981Z"
   },
   {
    "duration": 23,
    "start_time": "2022-03-09T07:27:53.996Z"
   },
   {
    "duration": 10,
    "start_time": "2022-03-09T07:27:54.022Z"
   },
   {
    "duration": 47,
    "start_time": "2022-03-09T07:27:54.035Z"
   },
   {
    "duration": 20,
    "start_time": "2022-03-09T07:27:54.084Z"
   },
   {
    "duration": 12,
    "start_time": "2022-03-09T07:27:54.106Z"
   },
   {
    "duration": 53,
    "start_time": "2022-03-09T07:27:54.120Z"
   },
   {
    "duration": 13,
    "start_time": "2022-03-09T07:27:54.176Z"
   },
   {
    "duration": 35,
    "start_time": "2022-03-09T07:27:54.192Z"
   },
   {
    "duration": 62,
    "start_time": "2022-03-09T07:27:54.229Z"
   },
   {
    "duration": 12,
    "start_time": "2022-03-09T07:27:54.294Z"
   },
   {
    "duration": 154,
    "start_time": "2022-03-09T07:27:54.309Z"
   },
   {
    "duration": 12,
    "start_time": "2022-03-09T07:27:54.466Z"
   },
   {
    "duration": 8,
    "start_time": "2022-03-09T07:27:54.481Z"
   },
   {
    "duration": 24,
    "start_time": "2022-03-09T07:27:54.491Z"
   },
   {
    "duration": 18,
    "start_time": "2022-03-09T07:27:54.518Z"
   },
   {
    "duration": 60,
    "start_time": "2022-03-09T07:27:54.539Z"
   },
   {
    "duration": 29,
    "start_time": "2022-03-09T07:27:54.601Z"
   },
   {
    "duration": 57,
    "start_time": "2022-03-09T07:27:54.632Z"
   },
   {
    "duration": 5,
    "start_time": "2022-03-09T07:27:54.692Z"
   },
   {
    "duration": 11,
    "start_time": "2022-03-09T07:27:54.700Z"
   },
   {
    "duration": 10,
    "start_time": "2022-03-09T07:27:54.713Z"
   },
   {
    "duration": 8,
    "start_time": "2022-03-09T07:27:54.725Z"
   },
   {
    "duration": 41,
    "start_time": "2022-03-09T07:27:54.735Z"
   },
   {
    "duration": 9,
    "start_time": "2022-03-09T07:27:54.778Z"
   },
   {
    "duration": 10,
    "start_time": "2022-03-09T07:27:54.789Z"
   },
   {
    "duration": 23,
    "start_time": "2022-03-09T07:27:54.802Z"
   },
   {
    "duration": 5,
    "start_time": "2022-03-09T07:27:54.827Z"
   },
   {
    "duration": 48,
    "start_time": "2022-03-09T07:27:54.834Z"
   },
   {
    "duration": 17,
    "start_time": "2022-03-09T07:27:54.885Z"
   },
   {
    "duration": 13,
    "start_time": "2022-03-09T07:27:54.905Z"
   },
   {
    "duration": 5,
    "start_time": "2022-03-09T07:27:54.921Z"
   },
   {
    "duration": 50,
    "start_time": "2022-03-09T07:27:54.929Z"
   },
   {
    "duration": 20,
    "start_time": "2022-03-09T07:27:54.982Z"
   },
   {
    "duration": 12,
    "start_time": "2022-03-09T07:27:55.004Z"
   },
   {
    "duration": 24,
    "start_time": "2022-03-09T07:27:55.019Z"
   },
   {
    "duration": 12,
    "start_time": "2022-03-09T07:27:55.074Z"
   },
   {
    "duration": 294,
    "start_time": "2022-03-09T07:27:55.089Z"
   },
   {
    "duration": 20,
    "start_time": "2022-03-09T07:27:55.386Z"
   },
   {
    "duration": 310,
    "start_time": "2022-03-09T07:27:55.408Z"
   },
   {
    "duration": 19,
    "start_time": "2022-03-09T07:27:55.721Z"
   },
   {
    "duration": 290,
    "start_time": "2022-03-09T07:27:55.742Z"
   },
   {
    "duration": 21,
    "start_time": "2022-03-09T07:27:56.035Z"
   },
   {
    "duration": 288,
    "start_time": "2022-03-09T07:27:56.073Z"
   },
   {
    "duration": 10,
    "start_time": "2022-03-09T07:27:56.364Z"
   },
   {
    "duration": 618,
    "start_time": "2022-03-09T07:27:56.381Z"
   },
   {
    "duration": 942,
    "start_time": "2022-03-09T07:30:37.752Z"
   },
   {
    "duration": 872,
    "start_time": "2022-03-09T07:31:29.416Z"
   },
   {
    "duration": 991,
    "start_time": "2022-03-09T07:31:47.712Z"
   },
   {
    "duration": 878,
    "start_time": "2022-03-09T07:32:03.041Z"
   },
   {
    "duration": 1100,
    "start_time": "2022-03-09T07:32:51.425Z"
   },
   {
    "duration": 1149,
    "start_time": "2022-03-09T07:33:02.072Z"
   },
   {
    "duration": 1013,
    "start_time": "2022-03-09T07:33:13.720Z"
   },
   {
    "duration": 1339,
    "start_time": "2022-03-09T07:34:16.457Z"
   },
   {
    "duration": 1150,
    "start_time": "2022-03-09T07:34:27.848Z"
   },
   {
    "duration": 1149,
    "start_time": "2022-03-09T07:35:53.144Z"
   },
   {
    "duration": 1002,
    "start_time": "2022-03-09T07:36:02.936Z"
   },
   {
    "duration": 1045,
    "start_time": "2022-03-09T07:36:21.911Z"
   },
   {
    "duration": 914,
    "start_time": "2022-03-09T07:36:29.032Z"
   },
   {
    "duration": 919,
    "start_time": "2022-03-09T07:36:57.816Z"
   },
   {
    "duration": 993,
    "start_time": "2022-03-09T07:37:49.432Z"
   },
   {
    "duration": 880,
    "start_time": "2022-03-09T07:37:57.758Z"
   },
   {
    "duration": 904,
    "start_time": "2022-03-09T07:38:40.369Z"
   },
   {
    "duration": 1205,
    "start_time": "2022-03-09T07:41:37.982Z"
   },
   {
    "duration": 1094,
    "start_time": "2022-03-09T07:41:51.919Z"
   },
   {
    "duration": 909,
    "start_time": "2022-03-09T07:42:04.149Z"
   },
   {
    "duration": 995,
    "start_time": "2022-03-09T07:44:27.670Z"
   },
   {
    "duration": 1075,
    "start_time": "2022-03-09T07:44:57.125Z"
   },
   {
    "duration": 1142,
    "start_time": "2022-03-09T07:45:51.789Z"
   },
   {
    "duration": 1063,
    "start_time": "2022-03-09T07:46:03.933Z"
   },
   {
    "duration": 1085,
    "start_time": "2022-03-09T07:46:22.381Z"
   },
   {
    "duration": 9,
    "start_time": "2022-03-09T07:46:28.396Z"
   },
   {
    "duration": 1056,
    "start_time": "2022-03-09T07:46:28.853Z"
   },
   {
    "duration": 1349,
    "start_time": "2022-03-09T07:46:31.188Z"
   },
   {
    "duration": 1679,
    "start_time": "2022-03-09T07:47:20.085Z"
   },
   {
    "duration": 1462,
    "start_time": "2022-03-09T07:51:48.668Z"
   },
   {
    "duration": 1344,
    "start_time": "2022-03-09T07:52:03.356Z"
   },
   {
    "duration": 98,
    "start_time": "2022-03-09T07:52:36.619Z"
   },
   {
    "duration": 1446,
    "start_time": "2022-03-09T07:52:39.235Z"
   },
   {
    "duration": 1543,
    "start_time": "2022-03-09T07:52:59.948Z"
   },
   {
    "duration": 65,
    "start_time": "2022-03-09T07:53:01.494Z"
   },
   {
    "duration": 45,
    "start_time": "2022-03-09T07:53:01.563Z"
   },
   {
    "duration": 27,
    "start_time": "2022-03-09T07:53:01.611Z"
   },
   {
    "duration": 51,
    "start_time": "2022-03-09T07:53:01.642Z"
   },
   {
    "duration": 11,
    "start_time": "2022-03-09T07:53:01.696Z"
   },
   {
    "duration": 15,
    "start_time": "2022-03-09T07:53:01.709Z"
   },
   {
    "duration": 27,
    "start_time": "2022-03-09T07:53:01.726Z"
   },
   {
    "duration": 24,
    "start_time": "2022-03-09T07:53:01.776Z"
   },
   {
    "duration": 23,
    "start_time": "2022-03-09T07:53:01.803Z"
   },
   {
    "duration": 13,
    "start_time": "2022-03-09T07:53:01.828Z"
   },
   {
    "duration": 39,
    "start_time": "2022-03-09T07:53:01.843Z"
   },
   {
    "duration": 11,
    "start_time": "2022-03-09T07:53:01.885Z"
   },
   {
    "duration": 13,
    "start_time": "2022-03-09T07:53:01.899Z"
   },
   {
    "duration": 8,
    "start_time": "2022-03-09T07:53:01.915Z"
   },
   {
    "duration": 50,
    "start_time": "2022-03-09T07:53:01.925Z"
   },
   {
    "duration": 20,
    "start_time": "2022-03-09T07:53:01.978Z"
   },
   {
    "duration": 12,
    "start_time": "2022-03-09T07:53:02.001Z"
   },
   {
    "duration": 8,
    "start_time": "2022-03-09T07:53:02.016Z"
   },
   {
    "duration": 70,
    "start_time": "2022-03-09T07:53:02.027Z"
   },
   {
    "duration": 8,
    "start_time": "2022-03-09T07:53:02.100Z"
   },
   {
    "duration": 10,
    "start_time": "2022-03-09T07:53:02.111Z"
   },
   {
    "duration": 11,
    "start_time": "2022-03-09T07:53:02.123Z"
   },
   {
    "duration": 54,
    "start_time": "2022-03-09T07:53:02.136Z"
   },
   {
    "duration": 13,
    "start_time": "2022-03-09T07:53:02.192Z"
   },
   {
    "duration": 12,
    "start_time": "2022-03-09T07:53:02.207Z"
   },
   {
    "duration": 49,
    "start_time": "2022-03-09T07:53:02.225Z"
   },
   {
    "duration": 13,
    "start_time": "2022-03-09T07:53:02.277Z"
   },
   {
    "duration": 19,
    "start_time": "2022-03-09T07:53:02.292Z"
   },
   {
    "duration": 17,
    "start_time": "2022-03-09T07:53:02.314Z"
   },
   {
    "duration": 72,
    "start_time": "2022-03-09T07:53:02.333Z"
   },
   {
    "duration": 34,
    "start_time": "2022-03-09T07:53:02.408Z"
   },
   {
    "duration": 35,
    "start_time": "2022-03-09T07:53:02.445Z"
   },
   {
    "duration": 162,
    "start_time": "2022-03-09T07:53:02.483Z"
   },
   {
    "duration": 24,
    "start_time": "2022-03-09T07:53:02.648Z"
   },
   {
    "duration": 8,
    "start_time": "2022-03-09T07:53:02.675Z"
   },
   {
    "duration": 26,
    "start_time": "2022-03-09T07:53:02.685Z"
   },
   {
    "duration": 18,
    "start_time": "2022-03-09T07:53:02.714Z"
   },
   {
    "duration": 56,
    "start_time": "2022-03-09T07:53:02.735Z"
   },
   {
    "duration": 28,
    "start_time": "2022-03-09T07:53:02.793Z"
   },
   {
    "duration": 24,
    "start_time": "2022-03-09T07:53:02.823Z"
   },
   {
    "duration": 26,
    "start_time": "2022-03-09T07:53:02.850Z"
   },
   {
    "duration": 12,
    "start_time": "2022-03-09T07:53:02.878Z"
   },
   {
    "duration": 12,
    "start_time": "2022-03-09T07:53:02.893Z"
   },
   {
    "duration": 10,
    "start_time": "2022-03-09T07:53:02.908Z"
   },
   {
    "duration": 14,
    "start_time": "2022-03-09T07:53:02.921Z"
   },
   {
    "duration": 40,
    "start_time": "2022-03-09T07:53:02.937Z"
   },
   {
    "duration": 9,
    "start_time": "2022-03-09T07:53:02.979Z"
   },
   {
    "duration": 30,
    "start_time": "2022-03-09T07:53:02.991Z"
   },
   {
    "duration": 6,
    "start_time": "2022-03-09T07:53:03.023Z"
   },
   {
    "duration": 42,
    "start_time": "2022-03-09T07:53:03.031Z"
   },
   {
    "duration": 16,
    "start_time": "2022-03-09T07:53:03.076Z"
   },
   {
    "duration": 14,
    "start_time": "2022-03-09T07:53:03.094Z"
   },
   {
    "duration": 5,
    "start_time": "2022-03-09T07:53:03.111Z"
   },
   {
    "duration": 20,
    "start_time": "2022-03-09T07:53:03.119Z"
   },
   {
    "duration": 43,
    "start_time": "2022-03-09T07:53:03.142Z"
   },
   {
    "duration": 33,
    "start_time": "2022-03-09T07:53:03.188Z"
   },
   {
    "duration": 39,
    "start_time": "2022-03-09T07:53:03.224Z"
   },
   {
    "duration": 12,
    "start_time": "2022-03-09T07:53:03.265Z"
   },
   {
    "duration": 293,
    "start_time": "2022-03-09T07:53:03.280Z"
   },
   {
    "duration": 22,
    "start_time": "2022-03-09T07:53:03.575Z"
   },
   {
    "duration": 300,
    "start_time": "2022-03-09T07:53:03.599Z"
   },
   {
    "duration": 18,
    "start_time": "2022-03-09T07:53:03.902Z"
   },
   {
    "duration": 293,
    "start_time": "2022-03-09T07:53:03.923Z"
   },
   {
    "duration": 23,
    "start_time": "2022-03-09T07:53:04.218Z"
   },
   {
    "duration": 302,
    "start_time": "2022-03-09T07:53:04.243Z"
   },
   {
    "duration": 8,
    "start_time": "2022-03-09T07:53:04.548Z"
   },
   {
    "duration": 989,
    "start_time": "2022-03-09T07:53:04.574Z"
   },
   {
    "duration": 1171,
    "start_time": "2022-03-09T07:53:05.566Z"
   },
   {
    "duration": 1318,
    "start_time": "2022-03-09T07:53:11.312Z"
   },
   {
    "duration": 4,
    "start_time": "2022-03-09T07:53:25.907Z"
   },
   {
    "duration": 1147,
    "start_time": "2022-03-09T07:53:26.739Z"
   },
   {
    "duration": 1179,
    "start_time": "2022-03-09T07:55:54.299Z"
   },
   {
    "duration": 1261,
    "start_time": "2022-03-09T07:56:00.515Z"
   },
   {
    "duration": 1417,
    "start_time": "2022-03-09T07:56:06.339Z"
   },
   {
    "duration": 1631,
    "start_time": "2022-03-09T08:06:38.943Z"
   },
   {
    "duration": 64,
    "start_time": "2022-03-09T08:06:40.577Z"
   },
   {
    "duration": 45,
    "start_time": "2022-03-09T08:06:40.644Z"
   },
   {
    "duration": 15,
    "start_time": "2022-03-09T08:06:40.692Z"
   },
   {
    "duration": 25,
    "start_time": "2022-03-09T08:06:40.710Z"
   },
   {
    "duration": 9,
    "start_time": "2022-03-09T08:06:40.774Z"
   },
   {
    "duration": 16,
    "start_time": "2022-03-09T08:06:40.785Z"
   },
   {
    "duration": 9,
    "start_time": "2022-03-09T08:06:40.805Z"
   },
   {
    "duration": 55,
    "start_time": "2022-03-09T08:06:40.818Z"
   },
   {
    "duration": 16,
    "start_time": "2022-03-09T08:06:40.876Z"
   },
   {
    "duration": 12,
    "start_time": "2022-03-09T08:06:40.895Z"
   },
   {
    "duration": 11,
    "start_time": "2022-03-09T08:06:40.910Z"
   },
   {
    "duration": 58,
    "start_time": "2022-03-09T08:06:40.924Z"
   },
   {
    "duration": 14,
    "start_time": "2022-03-09T08:06:40.984Z"
   },
   {
    "duration": 9,
    "start_time": "2022-03-09T08:06:41.001Z"
   },
   {
    "duration": 11,
    "start_time": "2022-03-09T08:06:41.013Z"
   },
   {
    "duration": 59,
    "start_time": "2022-03-09T08:06:41.027Z"
   },
   {
    "duration": 12,
    "start_time": "2022-03-09T08:06:41.089Z"
   },
   {
    "duration": 10,
    "start_time": "2022-03-09T08:06:41.104Z"
   },
   {
    "duration": 80,
    "start_time": "2022-03-09T08:06:41.117Z"
   },
   {
    "duration": 9,
    "start_time": "2022-03-09T08:06:41.199Z"
   },
   {
    "duration": 16,
    "start_time": "2022-03-09T08:06:41.211Z"
   },
   {
    "duration": 38,
    "start_time": "2022-03-09T08:06:41.238Z"
   },
   {
    "duration": 18,
    "start_time": "2022-03-09T08:06:41.281Z"
   },
   {
    "duration": 12,
    "start_time": "2022-03-09T08:06:41.302Z"
   },
   {
    "duration": 11,
    "start_time": "2022-03-09T08:06:41.317Z"
   },
   {
    "duration": 52,
    "start_time": "2022-03-09T08:06:41.330Z"
   },
   {
    "duration": 12,
    "start_time": "2022-03-09T08:06:41.385Z"
   },
   {
    "duration": 18,
    "start_time": "2022-03-09T08:06:41.400Z"
   },
   {
    "duration": 16,
    "start_time": "2022-03-09T08:06:41.421Z"
   },
   {
    "duration": 67,
    "start_time": "2022-03-09T08:06:41.440Z"
   },
   {
    "duration": 34,
    "start_time": "2022-03-09T08:06:41.510Z"
   },
   {
    "duration": 17,
    "start_time": "2022-03-09T08:06:41.574Z"
   },
   {
    "duration": 161,
    "start_time": "2022-03-09T08:06:41.595Z"
   },
   {
    "duration": 20,
    "start_time": "2022-03-09T08:06:41.759Z"
   },
   {
    "duration": 8,
    "start_time": "2022-03-09T08:06:41.782Z"
   },
   {
    "duration": 18,
    "start_time": "2022-03-09T08:06:41.792Z"
   },
   {
    "duration": 17,
    "start_time": "2022-03-09T08:06:41.812Z"
   },
   {
    "duration": 66,
    "start_time": "2022-03-09T08:06:41.832Z"
   },
   {
    "duration": 28,
    "start_time": "2022-03-09T08:06:41.900Z"
   },
   {
    "duration": 54,
    "start_time": "2022-03-09T08:06:41.931Z"
   },
   {
    "duration": 5,
    "start_time": "2022-03-09T08:06:41.988Z"
   },
   {
    "duration": 12,
    "start_time": "2022-03-09T08:06:41.996Z"
   },
   {
    "duration": 10,
    "start_time": "2022-03-09T08:06:42.012Z"
   },
   {
    "duration": 7,
    "start_time": "2022-03-09T08:06:42.025Z"
   },
   {
    "duration": 46,
    "start_time": "2022-03-09T08:06:42.035Z"
   },
   {
    "duration": 11,
    "start_time": "2022-03-09T08:06:42.084Z"
   },
   {
    "duration": 11,
    "start_time": "2022-03-09T08:06:42.098Z"
   },
   {
    "duration": 33,
    "start_time": "2022-03-09T08:06:42.112Z"
   },
   {
    "duration": 27,
    "start_time": "2022-03-09T08:06:42.148Z"
   },
   {
    "duration": 18,
    "start_time": "2022-03-09T08:06:42.178Z"
   },
   {
    "duration": 20,
    "start_time": "2022-03-09T08:06:42.199Z"
   },
   {
    "duration": 12,
    "start_time": "2022-03-09T08:06:42.221Z"
   },
   {
    "duration": 38,
    "start_time": "2022-03-09T08:06:42.235Z"
   },
   {
    "duration": 13,
    "start_time": "2022-03-09T08:06:42.276Z"
   },
   {
    "duration": 19,
    "start_time": "2022-03-09T08:06:42.292Z"
   },
   {
    "duration": 10,
    "start_time": "2022-03-09T08:06:42.314Z"
   },
   {
    "duration": 58,
    "start_time": "2022-03-09T08:06:42.326Z"
   },
   {
    "duration": 12,
    "start_time": "2022-03-09T08:06:42.386Z"
   },
   {
    "duration": 307,
    "start_time": "2022-03-09T08:06:42.400Z"
   },
   {
    "duration": 21,
    "start_time": "2022-03-09T08:06:42.709Z"
   },
   {
    "duration": 335,
    "start_time": "2022-03-09T08:06:42.733Z"
   },
   {
    "duration": 27,
    "start_time": "2022-03-09T08:06:43.074Z"
   },
   {
    "duration": 317,
    "start_time": "2022-03-09T08:06:43.105Z"
   },
   {
    "duration": 22,
    "start_time": "2022-03-09T08:06:43.424Z"
   },
   {
    "duration": 299,
    "start_time": "2022-03-09T08:06:43.448Z"
   },
   {
    "duration": 25,
    "start_time": "2022-03-09T08:06:43.750Z"
   },
   {
    "duration": 4,
    "start_time": "2022-03-09T08:06:43.781Z"
   },
   {
    "duration": 1779,
    "start_time": "2022-03-09T08:06:43.788Z"
   },
   {
    "duration": 1532,
    "start_time": "2022-03-09T14:11:50.817Z"
   },
   {
    "duration": 92,
    "start_time": "2022-03-09T14:11:52.352Z"
   },
   {
    "duration": 68,
    "start_time": "2022-03-09T14:11:52.452Z"
   },
   {
    "duration": 21,
    "start_time": "2022-03-09T14:11:52.523Z"
   },
   {
    "duration": 50,
    "start_time": "2022-03-09T14:11:52.546Z"
   },
   {
    "duration": 10,
    "start_time": "2022-03-09T14:11:52.598Z"
   },
   {
    "duration": 13,
    "start_time": "2022-03-09T14:11:52.614Z"
   },
   {
    "duration": 51,
    "start_time": "2022-03-09T14:11:52.630Z"
   },
   {
    "duration": 23,
    "start_time": "2022-03-09T14:11:52.684Z"
   },
   {
    "duration": 64,
    "start_time": "2022-03-09T14:11:52.710Z"
   },
   {
    "duration": 14,
    "start_time": "2022-03-09T14:11:52.777Z"
   },
   {
    "duration": 12,
    "start_time": "2022-03-09T14:11:52.794Z"
   },
   {
    "duration": 14,
    "start_time": "2022-03-09T14:11:52.809Z"
   },
   {
    "duration": 57,
    "start_time": "2022-03-09T14:11:52.825Z"
   },
   {
    "duration": 12,
    "start_time": "2022-03-09T14:11:52.884Z"
   },
   {
    "duration": 15,
    "start_time": "2022-03-09T14:11:52.899Z"
   },
   {
    "duration": 18,
    "start_time": "2022-03-09T14:11:52.917Z"
   },
   {
    "duration": 37,
    "start_time": "2022-03-09T14:11:52.937Z"
   },
   {
    "duration": 7,
    "start_time": "2022-03-09T14:11:52.977Z"
   },
   {
    "duration": 34,
    "start_time": "2022-03-09T14:11:52.987Z"
   },
   {
    "duration": 7,
    "start_time": "2022-03-09T14:11:53.023Z"
   },
   {
    "duration": 42,
    "start_time": "2022-03-09T14:11:53.036Z"
   },
   {
    "duration": 11,
    "start_time": "2022-03-09T14:11:53.081Z"
   },
   {
    "duration": 20,
    "start_time": "2022-03-09T14:11:53.094Z"
   },
   {
    "duration": 10,
    "start_time": "2022-03-09T14:11:53.116Z"
   },
   {
    "duration": 47,
    "start_time": "2022-03-09T14:11:53.128Z"
   },
   {
    "duration": 20,
    "start_time": "2022-03-09T14:11:53.177Z"
   },
   {
    "duration": 11,
    "start_time": "2022-03-09T14:11:53.200Z"
   },
   {
    "duration": 19,
    "start_time": "2022-03-09T14:11:53.213Z"
   },
   {
    "duration": 45,
    "start_time": "2022-03-09T14:11:53.234Z"
   },
   {
    "duration": 38,
    "start_time": "2022-03-09T14:11:53.281Z"
   },
   {
    "duration": 54,
    "start_time": "2022-03-09T14:11:53.322Z"
   },
   {
    "duration": 14,
    "start_time": "2022-03-09T14:11:53.378Z"
   },
   {
    "duration": 155,
    "start_time": "2022-03-09T14:11:53.394Z"
   },
   {
    "duration": 26,
    "start_time": "2022-03-09T14:11:53.551Z"
   },
   {
    "duration": 7,
    "start_time": "2022-03-09T14:11:53.579Z"
   },
   {
    "duration": 22,
    "start_time": "2022-03-09T14:11:53.589Z"
   },
   {
    "duration": 18,
    "start_time": "2022-03-09T14:11:53.614Z"
   },
   {
    "duration": 28,
    "start_time": "2022-03-09T14:11:53.673Z"
   },
   {
    "duration": 30,
    "start_time": "2022-03-09T14:11:53.704Z"
   },
   {
    "duration": 56,
    "start_time": "2022-03-09T14:11:53.737Z"
   },
   {
    "duration": 6,
    "start_time": "2022-03-09T14:11:53.796Z"
   },
   {
    "duration": 12,
    "start_time": "2022-03-09T14:11:53.805Z"
   },
   {
    "duration": 10,
    "start_time": "2022-03-09T14:11:53.820Z"
   },
   {
    "duration": 41,
    "start_time": "2022-03-09T14:11:53.833Z"
   },
   {
    "duration": 11,
    "start_time": "2022-03-09T14:11:53.876Z"
   },
   {
    "duration": 9,
    "start_time": "2022-03-09T14:11:53.889Z"
   },
   {
    "duration": 9,
    "start_time": "2022-03-09T14:11:53.900Z"
   },
   {
    "duration": 23,
    "start_time": "2022-03-09T14:11:53.912Z"
   },
   {
    "duration": 4,
    "start_time": "2022-03-09T14:11:53.974Z"
   },
   {
    "duration": 18,
    "start_time": "2022-03-09T14:11:53.980Z"
   },
   {
    "duration": 15,
    "start_time": "2022-03-09T14:11:54.001Z"
   },
   {
    "duration": 12,
    "start_time": "2022-03-09T14:11:54.018Z"
   },
   {
    "duration": 40,
    "start_time": "2022-03-09T14:11:54.033Z"
   },
   {
    "duration": 17,
    "start_time": "2022-03-09T14:11:54.076Z"
   },
   {
    "duration": 23,
    "start_time": "2022-03-09T14:11:54.095Z"
   },
   {
    "duration": 10,
    "start_time": "2022-03-09T14:11:54.120Z"
   },
   {
    "duration": 45,
    "start_time": "2022-03-09T14:11:54.132Z"
   },
   {
    "duration": 12,
    "start_time": "2022-03-09T14:11:54.179Z"
   },
   {
    "duration": 300,
    "start_time": "2022-03-09T14:11:54.193Z"
   },
   {
    "duration": 20,
    "start_time": "2022-03-09T14:11:54.495Z"
   },
   {
    "duration": 298,
    "start_time": "2022-03-09T14:11:54.518Z"
   },
   {
    "duration": 20,
    "start_time": "2022-03-09T14:11:54.818Z"
   },
   {
    "duration": 283,
    "start_time": "2022-03-09T14:11:54.840Z"
   },
   {
    "duration": 22,
    "start_time": "2022-03-09T14:11:55.125Z"
   },
   {
    "duration": 305,
    "start_time": "2022-03-09T14:11:55.150Z"
   },
   {
    "duration": 17,
    "start_time": "2022-03-09T14:11:55.462Z"
   },
   {
    "duration": 4,
    "start_time": "2022-03-09T14:11:55.483Z"
   },
   {
    "duration": 1415,
    "start_time": "2022-03-09T14:11:55.491Z"
   },
   {
    "duration": 1603,
    "start_time": "2022-03-09T16:34:55.920Z"
   },
   {
    "duration": 65,
    "start_time": "2022-03-09T16:34:57.526Z"
   },
   {
    "duration": 40,
    "start_time": "2022-03-09T16:34:57.594Z"
   },
   {
    "duration": 38,
    "start_time": "2022-03-09T16:34:57.636Z"
   },
   {
    "duration": 26,
    "start_time": "2022-03-09T16:34:57.676Z"
   },
   {
    "duration": 8,
    "start_time": "2022-03-09T16:34:57.705Z"
   },
   {
    "duration": 19,
    "start_time": "2022-03-09T16:34:57.715Z"
   },
   {
    "duration": 43,
    "start_time": "2022-03-09T16:34:57.738Z"
   },
   {
    "duration": 19,
    "start_time": "2022-03-09T16:34:57.785Z"
   },
   {
    "duration": 16,
    "start_time": "2022-03-09T16:34:57.807Z"
   },
   {
    "duration": 49,
    "start_time": "2022-03-09T16:34:57.826Z"
   },
   {
    "duration": 12,
    "start_time": "2022-03-09T16:34:57.878Z"
   },
   {
    "duration": 12,
    "start_time": "2022-03-09T16:34:57.893Z"
   },
   {
    "duration": 13,
    "start_time": "2022-03-09T16:34:57.908Z"
   },
   {
    "duration": 59,
    "start_time": "2022-03-09T16:34:57.923Z"
   },
   {
    "duration": 17,
    "start_time": "2022-03-09T16:34:57.985Z"
   },
   {
    "duration": 27,
    "start_time": "2022-03-09T16:34:58.005Z"
   },
   {
    "duration": 44,
    "start_time": "2022-03-09T16:34:58.035Z"
   },
   {
    "duration": 15,
    "start_time": "2022-03-09T16:34:58.082Z"
   },
   {
    "duration": 74,
    "start_time": "2022-03-09T16:34:58.101Z"
   },
   {
    "duration": 10,
    "start_time": "2022-03-09T16:34:58.178Z"
   },
   {
    "duration": 14,
    "start_time": "2022-03-09T16:34:58.191Z"
   },
   {
    "duration": 10,
    "start_time": "2022-03-09T16:34:58.212Z"
   },
   {
    "duration": 51,
    "start_time": "2022-03-09T16:34:58.226Z"
   },
   {
    "duration": 11,
    "start_time": "2022-03-09T16:34:58.280Z"
   },
   {
    "duration": 13,
    "start_time": "2022-03-09T16:34:58.294Z"
   },
   {
    "duration": 25,
    "start_time": "2022-03-09T16:34:58.310Z"
   },
   {
    "duration": 43,
    "start_time": "2022-03-09T16:34:58.338Z"
   },
   {
    "duration": 19,
    "start_time": "2022-03-09T16:34:58.384Z"
   },
   {
    "duration": 22,
    "start_time": "2022-03-09T16:34:58.406Z"
   },
   {
    "duration": 81,
    "start_time": "2022-03-09T16:34:58.431Z"
   },
   {
    "duration": 69,
    "start_time": "2022-03-09T16:34:58.515Z"
   },
   {
    "duration": 19,
    "start_time": "2022-03-09T16:34:58.588Z"
   },
   {
    "duration": 238,
    "start_time": "2022-03-09T16:34:58.610Z"
   },
   {
    "duration": 29,
    "start_time": "2022-03-09T16:34:58.851Z"
   },
   {
    "duration": 10,
    "start_time": "2022-03-09T16:34:58.883Z"
   },
   {
    "duration": 31,
    "start_time": "2022-03-09T16:34:58.896Z"
   },
   {
    "duration": 53,
    "start_time": "2022-03-09T16:34:58.930Z"
   },
   {
    "duration": 42,
    "start_time": "2022-03-09T16:34:58.986Z"
   },
   {
    "duration": 65,
    "start_time": "2022-03-09T16:34:59.031Z"
   },
   {
    "duration": 25,
    "start_time": "2022-03-09T16:34:59.099Z"
   },
   {
    "duration": 6,
    "start_time": "2022-03-09T16:34:59.126Z"
   },
   {
    "duration": 39,
    "start_time": "2022-03-09T16:34:59.135Z"
   },
   {
    "duration": 15,
    "start_time": "2022-03-09T16:34:59.176Z"
   },
   {
    "duration": 10,
    "start_time": "2022-03-09T16:34:59.193Z"
   },
   {
    "duration": 11,
    "start_time": "2022-03-09T16:34:59.206Z"
   },
   {
    "duration": 9,
    "start_time": "2022-03-09T16:34:59.220Z"
   },
   {
    "duration": 43,
    "start_time": "2022-03-09T16:34:59.231Z"
   },
   {
    "duration": 25,
    "start_time": "2022-03-09T16:34:59.276Z"
   },
   {
    "duration": 9,
    "start_time": "2022-03-09T16:34:59.304Z"
   },
   {
    "duration": 17,
    "start_time": "2022-03-09T16:34:59.315Z"
   },
   {
    "duration": 41,
    "start_time": "2022-03-09T16:34:59.334Z"
   },
   {
    "duration": 10,
    "start_time": "2022-03-09T16:34:59.378Z"
   },
   {
    "duration": 5,
    "start_time": "2022-03-09T16:34:59.391Z"
   },
   {
    "duration": 16,
    "start_time": "2022-03-09T16:34:59.398Z"
   },
   {
    "duration": 17,
    "start_time": "2022-03-09T16:34:59.416Z"
   },
   {
    "duration": 49,
    "start_time": "2022-03-09T16:34:59.436Z"
   },
   {
    "duration": 31,
    "start_time": "2022-03-09T16:34:59.488Z"
   },
   {
    "duration": 16,
    "start_time": "2022-03-09T16:34:59.522Z"
   },
   {
    "duration": 474,
    "start_time": "2022-03-09T16:34:59.541Z"
   },
   {
    "duration": 31,
    "start_time": "2022-03-09T16:35:00.018Z"
   },
   {
    "duration": 327,
    "start_time": "2022-03-09T16:35:00.051Z"
   },
   {
    "duration": 21,
    "start_time": "2022-03-09T16:35:00.381Z"
   },
   {
    "duration": 298,
    "start_time": "2022-03-09T16:35:00.405Z"
   },
   {
    "duration": 23,
    "start_time": "2022-03-09T16:35:00.706Z"
   },
   {
    "duration": 302,
    "start_time": "2022-03-09T16:35:00.732Z"
   },
   {
    "duration": 9,
    "start_time": "2022-03-09T16:35:01.037Z"
   },
   {
    "duration": 5,
    "start_time": "2022-03-09T16:35:01.072Z"
   },
   {
    "duration": 1435,
    "start_time": "2022-03-09T16:35:01.080Z"
   },
   {
    "duration": 129,
    "start_time": "2022-03-09T16:41:04.846Z"
   }
  ],
  "kernelspec": {
   "display_name": "Python 3",
   "language": "python",
   "name": "python3"
  },
  "language_info": {
   "codemirror_mode": {
    "name": "ipython",
    "version": 3
   },
   "file_extension": ".py",
   "mimetype": "text/x-python",
   "name": "python",
   "nbconvert_exporter": "python",
   "pygments_lexer": "ipython3",
   "version": "3.8.8"
  },
  "toc": {
   "base_numbering": 1,
   "nav_menu": {},
   "number_sections": true,
   "sideBar": true,
   "skip_h1_title": true,
   "title_cell": "Table of Contents",
   "title_sidebar": "Contents",
   "toc_cell": false,
   "toc_position": {},
   "toc_section_display": true,
   "toc_window_display": true
  }
 },
 "nbformat": 4,
 "nbformat_minor": 5
}
