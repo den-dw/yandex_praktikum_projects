{
 "cells": [
  {
   "cell_type": "markdown",
   "metadata": {},
   "source": [
    "# Метанпромбанк. Сегментация пользователей по потреблению\n",
    "Задача - проанализировать клиентов регионального банка и сегментировать пользователей по количеству потребляемых продуктов.   \n",
    "Цель - снизить отток клиентов.\n",
    "# Описание данных\n",
    "Датасет содержит данные о клиентах банка «Метанпром». Банк располагается в Ярославле и областных городах: Ростов Великий и Рыбинск.   \n",
    "   \n",
    "Колонки:\n",
    "- `userid` — идентификатор пользователя,\n",
    "- `score` — баллы кредитного скоринга,\n",
    "- `City` — город,\n",
    "- `Gender` — пол,\n",
    "- `Age` — возраст,\n",
    "- `Objects` — количество объектов в собственности,\n",
    "- `Balance` — баланс на счёте,\n",
    "- `Products` — количество продуктов, которыми пользуется клиент,\n",
    "- `CreditCard` — есть ли кредитная карта,\n",
    "- `Loyalty` — активный клиент,\n",
    "- `estimated_salary` — заработная плата клиента,\n",
    "- `Churn` — ушёл или нет."
   ]
  },
  {
   "cell_type": "markdown",
   "metadata": {},
   "source": [
    "# Материалы\n",
    "[Презентация](https://disk.yandex.ru/d/vTdMNemrXBeSFg)   \n",
    "[Дашборд](https://public.tableau.com/app/profile/denis6362/viz/metaprombank/Dashboard1?publish=yes)"
   ]
  },
  {
   "cell_type": "markdown",
   "metadata": {},
   "source": [
    "## Предобработка данных\n",
    "На этом этапе посмотрим на данные, проверим на пропуски и дубликаты. При необходимости закодируем не числовые поля и проверим типы данных."
   ]
  },
  {
   "cell_type": "code",
   "execution_count": 4,
   "metadata": {},
   "outputs": [],
   "source": [
    "import pandas as pd\n",
    "import scipy.stats as st\n",
    "\n",
    "import matplotlib.pyplot as plt\n",
    "import seaborn as sns"
   ]
  },
  {
   "cell_type": "code",
   "execution_count": 5,
   "metadata": {},
   "outputs": [],
   "source": [
    "df = pd.read_csv('https://code.s3.yandex.net/datasets/bank_dataset.csv')"
   ]
  },
  {
   "cell_type": "code",
   "execution_count": 6,
   "metadata": {
    "scrolled": true
   },
   "outputs": [
    {
     "data": {
      "text/html": [
       "<div>\n",
       "<style scoped>\n",
       "    .dataframe tbody tr th:only-of-type {\n",
       "        vertical-align: middle;\n",
       "    }\n",
       "\n",
       "    .dataframe tbody tr th {\n",
       "        vertical-align: top;\n",
       "    }\n",
       "\n",
       "    .dataframe thead th {\n",
       "        text-align: right;\n",
       "    }\n",
       "</style>\n",
       "<table border=\"1\" class=\"dataframe\">\n",
       "  <thead>\n",
       "    <tr style=\"text-align: right;\">\n",
       "      <th></th>\n",
       "      <th>userid</th>\n",
       "      <th>score</th>\n",
       "      <th>City</th>\n",
       "      <th>Gender</th>\n",
       "      <th>Age</th>\n",
       "      <th>Objects</th>\n",
       "      <th>Balance</th>\n",
       "      <th>Products</th>\n",
       "      <th>CreditCard</th>\n",
       "      <th>Loyalty</th>\n",
       "      <th>estimated_salary</th>\n",
       "      <th>Churn</th>\n",
       "    </tr>\n",
       "  </thead>\n",
       "  <tbody>\n",
       "    <tr>\n",
       "      <th>6697</th>\n",
       "      <td>15698125</td>\n",
       "      <td>638</td>\n",
       "      <td>Ярославль</td>\n",
       "      <td>М</td>\n",
       "      <td>41</td>\n",
       "      <td>1</td>\n",
       "      <td>131762.94</td>\n",
       "      <td>1</td>\n",
       "      <td>1</td>\n",
       "      <td>1</td>\n",
       "      <td>47675.29</td>\n",
       "      <td>0</td>\n",
       "    </tr>\n",
       "    <tr>\n",
       "      <th>1433</th>\n",
       "      <td>15628018</td>\n",
       "      <td>755</td>\n",
       "      <td>Ярославль</td>\n",
       "      <td>М</td>\n",
       "      <td>62</td>\n",
       "      <td>1</td>\n",
       "      <td>127706.33</td>\n",
       "      <td>2</td>\n",
       "      <td>0</td>\n",
       "      <td>1</td>\n",
       "      <td>142377.69</td>\n",
       "      <td>0</td>\n",
       "    </tr>\n",
       "    <tr>\n",
       "      <th>2077</th>\n",
       "      <td>15787579</td>\n",
       "      <td>569</td>\n",
       "      <td>Рыбинск</td>\n",
       "      <td>Ж</td>\n",
       "      <td>34</td>\n",
       "      <td>6</td>\n",
       "      <td>144855.34</td>\n",
       "      <td>1</td>\n",
       "      <td>0</td>\n",
       "      <td>0</td>\n",
       "      <td>196555.32</td>\n",
       "      <td>0</td>\n",
       "    </tr>\n",
       "    <tr>\n",
       "      <th>2416</th>\n",
       "      <td>15749856</td>\n",
       "      <td>850</td>\n",
       "      <td>Ярославль</td>\n",
       "      <td>М</td>\n",
       "      <td>46</td>\n",
       "      <td>9</td>\n",
       "      <td>117640.39</td>\n",
       "      <td>1</td>\n",
       "      <td>1</td>\n",
       "      <td>0</td>\n",
       "      <td>88920.68</td>\n",
       "      <td>0</td>\n",
       "    </tr>\n",
       "    <tr>\n",
       "      <th>4219</th>\n",
       "      <td>15856240</td>\n",
       "      <td>543</td>\n",
       "      <td>Ростов Великий</td>\n",
       "      <td>Ж</td>\n",
       "      <td>25</td>\n",
       "      <td>1</td>\n",
       "      <td>146566.01</td>\n",
       "      <td>1</td>\n",
       "      <td>0</td>\n",
       "      <td>1</td>\n",
       "      <td>161407.48</td>\n",
       "      <td>0</td>\n",
       "    </tr>\n",
       "    <tr>\n",
       "      <th>8674</th>\n",
       "      <td>15762162</td>\n",
       "      <td>529</td>\n",
       "      <td>Ярославль</td>\n",
       "      <td>М</td>\n",
       "      <td>67</td>\n",
       "      <td>8</td>\n",
       "      <td>103101.56</td>\n",
       "      <td>2</td>\n",
       "      <td>1</td>\n",
       "      <td>1</td>\n",
       "      <td>154002.02</td>\n",
       "      <td>1</td>\n",
       "    </tr>\n",
       "    <tr>\n",
       "      <th>9066</th>\n",
       "      <td>15768245</td>\n",
       "      <td>662</td>\n",
       "      <td>Ростов Великий</td>\n",
       "      <td>М</td>\n",
       "      <td>30</td>\n",
       "      <td>5</td>\n",
       "      <td>115286.68</td>\n",
       "      <td>2</td>\n",
       "      <td>1</td>\n",
       "      <td>1</td>\n",
       "      <td>149587.92</td>\n",
       "      <td>0</td>\n",
       "    </tr>\n",
       "    <tr>\n",
       "      <th>2261</th>\n",
       "      <td>15724138</td>\n",
       "      <td>763</td>\n",
       "      <td>Ростов Великий</td>\n",
       "      <td>Ж</td>\n",
       "      <td>61</td>\n",
       "      <td>1</td>\n",
       "      <td>66101.89</td>\n",
       "      <td>1</td>\n",
       "      <td>1</td>\n",
       "      <td>1</td>\n",
       "      <td>143981.27</td>\n",
       "      <td>0</td>\n",
       "    </tr>\n",
       "    <tr>\n",
       "      <th>5351</th>\n",
       "      <td>15721784</td>\n",
       "      <td>558</td>\n",
       "      <td>Ростов Великий</td>\n",
       "      <td>М</td>\n",
       "      <td>41</td>\n",
       "      <td>2</td>\n",
       "      <td>124227.14</td>\n",
       "      <td>1</td>\n",
       "      <td>1</td>\n",
       "      <td>1</td>\n",
       "      <td>111184.67</td>\n",
       "      <td>0</td>\n",
       "    </tr>\n",
       "    <tr>\n",
       "      <th>3935</th>\n",
       "      <td>15691098</td>\n",
       "      <td>728</td>\n",
       "      <td>Ростов Великий</td>\n",
       "      <td>М</td>\n",
       "      <td>45</td>\n",
       "      <td>3</td>\n",
       "      <td>108924.33</td>\n",
       "      <td>2</td>\n",
       "      <td>1</td>\n",
       "      <td>0</td>\n",
       "      <td>84300.40</td>\n",
       "      <td>1</td>\n",
       "    </tr>\n",
       "  </tbody>\n",
       "</table>\n",
       "</div>"
      ],
      "text/plain": [
       "        userid  score            City Gender  Age  Objects    Balance  \\\n",
       "6697  15698125    638       Ярославль      М   41        1  131762.94   \n",
       "1433  15628018    755       Ярославль      М   62        1  127706.33   \n",
       "2077  15787579    569         Рыбинск      Ж   34        6  144855.34   \n",
       "2416  15749856    850       Ярославль      М   46        9  117640.39   \n",
       "4219  15856240    543  Ростов Великий      Ж   25        1  146566.01   \n",
       "8674  15762162    529       Ярославль      М   67        8  103101.56   \n",
       "9066  15768245    662  Ростов Великий      М   30        5  115286.68   \n",
       "2261  15724138    763  Ростов Великий      Ж   61        1   66101.89   \n",
       "5351  15721784    558  Ростов Великий      М   41        2  124227.14   \n",
       "3935  15691098    728  Ростов Великий      М   45        3  108924.33   \n",
       "\n",
       "      Products  CreditCard  Loyalty  estimated_salary  Churn  \n",
       "6697         1           1        1          47675.29      0  \n",
       "1433         2           0        1         142377.69      0  \n",
       "2077         1           0        0         196555.32      0  \n",
       "2416         1           1        0          88920.68      0  \n",
       "4219         1           0        1         161407.48      0  \n",
       "8674         2           1        1         154002.02      1  \n",
       "9066         2           1        1         149587.92      0  \n",
       "2261         1           1        1         143981.27      0  \n",
       "5351         1           1        1         111184.67      0  \n",
       "3935         2           1        0          84300.40      1  "
      ]
     },
     "execution_count": 6,
     "metadata": {},
     "output_type": "execute_result"
    }
   ],
   "source": [
    "df.sample(10)"
   ]
  },
  {
   "cell_type": "code",
   "execution_count": 7,
   "metadata": {},
   "outputs": [
    {
     "name": "stdout",
     "output_type": "stream",
     "text": [
      "<class 'pandas.core.frame.DataFrame'>\n",
      "RangeIndex: 10000 entries, 0 to 9999\n",
      "Data columns (total 12 columns):\n",
      " #   Column            Non-Null Count  Dtype  \n",
      "---  ------            --------------  -----  \n",
      " 0   userid            10000 non-null  int64  \n",
      " 1   score             10000 non-null  int64  \n",
      " 2   City              10000 non-null  object \n",
      " 3   Gender            10000 non-null  object \n",
      " 4   Age               10000 non-null  int64  \n",
      " 5   Objects           10000 non-null  int64  \n",
      " 6   Balance           6383 non-null   float64\n",
      " 7   Products          10000 non-null  int64  \n",
      " 8   CreditCard        10000 non-null  int64  \n",
      " 9   Loyalty           10000 non-null  int64  \n",
      " 10  estimated_salary  10000 non-null  float64\n",
      " 11  Churn             10000 non-null  int64  \n",
      "dtypes: float64(2), int64(8), object(2)\n",
      "memory usage: 937.6+ KB\n"
     ]
    }
   ],
   "source": [
    "df.info()"
   ]
  },
  {
   "cell_type": "code",
   "execution_count": 8,
   "metadata": {},
   "outputs": [
    {
     "data": {
      "text/html": [
       "<div>\n",
       "<style scoped>\n",
       "    .dataframe tbody tr th:only-of-type {\n",
       "        vertical-align: middle;\n",
       "    }\n",
       "\n",
       "    .dataframe tbody tr th {\n",
       "        vertical-align: top;\n",
       "    }\n",
       "\n",
       "    .dataframe thead th {\n",
       "        text-align: right;\n",
       "    }\n",
       "</style>\n",
       "<table border=\"1\" class=\"dataframe\">\n",
       "  <thead>\n",
       "    <tr style=\"text-align: right;\">\n",
       "      <th></th>\n",
       "      <th>userid</th>\n",
       "      <th>score</th>\n",
       "      <th>Age</th>\n",
       "      <th>Objects</th>\n",
       "      <th>Balance</th>\n",
       "      <th>Products</th>\n",
       "      <th>CreditCard</th>\n",
       "      <th>Loyalty</th>\n",
       "      <th>estimated_salary</th>\n",
       "      <th>Churn</th>\n",
       "    </tr>\n",
       "  </thead>\n",
       "  <tbody>\n",
       "    <tr>\n",
       "      <th>count</th>\n",
       "      <td>1.000000e+04</td>\n",
       "      <td>10000.000000</td>\n",
       "      <td>10000.000000</td>\n",
       "      <td>10000.000000</td>\n",
       "      <td>6383.000000</td>\n",
       "      <td>10000.000000</td>\n",
       "      <td>10000.00000</td>\n",
       "      <td>10000.000000</td>\n",
       "      <td>10000.000000</td>\n",
       "      <td>10000.000000</td>\n",
       "    </tr>\n",
       "    <tr>\n",
       "      <th>mean</th>\n",
       "      <td>1.573368e+07</td>\n",
       "      <td>650.528800</td>\n",
       "      <td>38.921800</td>\n",
       "      <td>5.012800</td>\n",
       "      <td>119827.493793</td>\n",
       "      <td>1.530200</td>\n",
       "      <td>0.70550</td>\n",
       "      <td>0.515100</td>\n",
       "      <td>100090.239881</td>\n",
       "      <td>0.203700</td>\n",
       "    </tr>\n",
       "    <tr>\n",
       "      <th>std</th>\n",
       "      <td>7.193619e+04</td>\n",
       "      <td>96.653299</td>\n",
       "      <td>10.487806</td>\n",
       "      <td>2.892174</td>\n",
       "      <td>30095.056462</td>\n",
       "      <td>0.581654</td>\n",
       "      <td>0.45584</td>\n",
       "      <td>0.499797</td>\n",
       "      <td>57510.492818</td>\n",
       "      <td>0.402769</td>\n",
       "    </tr>\n",
       "    <tr>\n",
       "      <th>min</th>\n",
       "      <td>1.560844e+07</td>\n",
       "      <td>350.000000</td>\n",
       "      <td>18.000000</td>\n",
       "      <td>0.000000</td>\n",
       "      <td>3768.690000</td>\n",
       "      <td>1.000000</td>\n",
       "      <td>0.00000</td>\n",
       "      <td>0.000000</td>\n",
       "      <td>11.580000</td>\n",
       "      <td>0.000000</td>\n",
       "    </tr>\n",
       "    <tr>\n",
       "      <th>25%</th>\n",
       "      <td>1.567126e+07</td>\n",
       "      <td>584.000000</td>\n",
       "      <td>32.000000</td>\n",
       "      <td>3.000000</td>\n",
       "      <td>100181.975000</td>\n",
       "      <td>1.000000</td>\n",
       "      <td>0.00000</td>\n",
       "      <td>0.000000</td>\n",
       "      <td>51002.110000</td>\n",
       "      <td>0.000000</td>\n",
       "    </tr>\n",
       "    <tr>\n",
       "      <th>50%</th>\n",
       "      <td>1.573347e+07</td>\n",
       "      <td>652.000000</td>\n",
       "      <td>37.000000</td>\n",
       "      <td>5.000000</td>\n",
       "      <td>119839.690000</td>\n",
       "      <td>1.000000</td>\n",
       "      <td>1.00000</td>\n",
       "      <td>1.000000</td>\n",
       "      <td>100193.915000</td>\n",
       "      <td>0.000000</td>\n",
       "    </tr>\n",
       "    <tr>\n",
       "      <th>75%</th>\n",
       "      <td>1.579597e+07</td>\n",
       "      <td>718.000000</td>\n",
       "      <td>44.000000</td>\n",
       "      <td>7.000000</td>\n",
       "      <td>139512.290000</td>\n",
       "      <td>2.000000</td>\n",
       "      <td>1.00000</td>\n",
       "      <td>1.000000</td>\n",
       "      <td>149388.247500</td>\n",
       "      <td>0.000000</td>\n",
       "    </tr>\n",
       "    <tr>\n",
       "      <th>max</th>\n",
       "      <td>1.585843e+07</td>\n",
       "      <td>850.000000</td>\n",
       "      <td>92.000000</td>\n",
       "      <td>10.000000</td>\n",
       "      <td>250898.090000</td>\n",
       "      <td>4.000000</td>\n",
       "      <td>1.00000</td>\n",
       "      <td>1.000000</td>\n",
       "      <td>199992.480000</td>\n",
       "      <td>1.000000</td>\n",
       "    </tr>\n",
       "  </tbody>\n",
       "</table>\n",
       "</div>"
      ],
      "text/plain": [
       "             userid         score           Age       Objects        Balance  \\\n",
       "count  1.000000e+04  10000.000000  10000.000000  10000.000000    6383.000000   \n",
       "mean   1.573368e+07    650.528800     38.921800      5.012800  119827.493793   \n",
       "std    7.193619e+04     96.653299     10.487806      2.892174   30095.056462   \n",
       "min    1.560844e+07    350.000000     18.000000      0.000000    3768.690000   \n",
       "25%    1.567126e+07    584.000000     32.000000      3.000000  100181.975000   \n",
       "50%    1.573347e+07    652.000000     37.000000      5.000000  119839.690000   \n",
       "75%    1.579597e+07    718.000000     44.000000      7.000000  139512.290000   \n",
       "max    1.585843e+07    850.000000     92.000000     10.000000  250898.090000   \n",
       "\n",
       "           Products   CreditCard       Loyalty  estimated_salary         Churn  \n",
       "count  10000.000000  10000.00000  10000.000000      10000.000000  10000.000000  \n",
       "mean       1.530200      0.70550      0.515100     100090.239881      0.203700  \n",
       "std        0.581654      0.45584      0.499797      57510.492818      0.402769  \n",
       "min        1.000000      0.00000      0.000000         11.580000      0.000000  \n",
       "25%        1.000000      0.00000      0.000000      51002.110000      0.000000  \n",
       "50%        1.000000      1.00000      1.000000     100193.915000      0.000000  \n",
       "75%        2.000000      1.00000      1.000000     149388.247500      0.000000  \n",
       "max        4.000000      1.00000      1.000000     199992.480000      1.000000  "
      ]
     },
     "execution_count": 8,
     "metadata": {},
     "output_type": "execute_result"
    }
   ],
   "source": [
    "df.describe()"
   ]
  },
  {
   "cell_type": "markdown",
   "metadata": {},
   "source": [
    "### Проверка данных на пропуски и дубликаты"
   ]
  },
  {
   "cell_type": "code",
   "execution_count": 9,
   "metadata": {},
   "outputs": [
    {
     "data": {
      "text/plain": [
       "userid              0.0000\n",
       "score               0.0000\n",
       "City                0.0000\n",
       "Gender              0.0000\n",
       "Age                 0.0000\n",
       "Objects             0.0000\n",
       "Balance             0.3617\n",
       "Products            0.0000\n",
       "CreditCard          0.0000\n",
       "Loyalty             0.0000\n",
       "estimated_salary    0.0000\n",
       "Churn               0.0000\n",
       "dtype: float64"
      ]
     },
     "execution_count": 9,
     "metadata": {},
     "output_type": "execute_result"
    }
   ],
   "source": [
    "df.isna().mean()"
   ]
  },
  {
   "cell_type": "markdown",
   "metadata": {},
   "source": [
    "В столбце Balance 36% пропусков.   \n",
    "Посомтрим на распределение пропусков по признакам."
   ]
  },
  {
   "cell_type": "code",
   "execution_count": 10,
   "metadata": {},
   "outputs": [
    {
     "data": {
      "text/plain": [
       "<AxesSubplot:xlabel='Age'>"
      ]
     },
     "execution_count": 10,
     "metadata": {},
     "output_type": "execute_result"
    },
    {
     "data": {
      "image/png": "[encoded data removed]",
      "text/plain": [
       "<Figure size 432x288 with 1 Axes>"
      ]
     },
     "metadata": {
      "needs_background": "light"
     },
     "output_type": "display_data"
    }
   ],
   "source": [
    "(100 * df[df.Balance.isna()].groupby('Age').userid.count() / df.groupby('Age').userid.count()).fillna(0).plot()"
   ]
  },
  {
   "cell_type": "code",
   "execution_count": 11,
   "metadata": {
    "scrolled": false
   },
   "outputs": [
    {
     "name": "stdout",
     "output_type": "stream",
     "text": [
      "score\n"
     ]
    },
    {
     "data": {
      "image/png": "[encoded data removed]",
      "text/plain": [
       "<Figure size 432x288 with 1 Axes>"
      ]
     },
     "metadata": {
      "needs_background": "light"
     },
     "output_type": "display_data"
    },
    {
     "name": "stdout",
     "output_type": "stream",
     "text": [
      "--------------------\n",
      "City\n"
     ]
    },
    {
     "data": {
      "text/plain": [
       "City\n",
       "Ростов Великий      NaN\n",
       "Рыбинск           48.41\n",
       "Ярославль         48.22\n",
       "Name: userid, dtype: float64"
      ]
     },
     "metadata": {},
     "output_type": "display_data"
    },
    {
     "name": "stdout",
     "output_type": "stream",
     "text": [
      "--------------------\n",
      "Gender\n"
     ]
    },
    {
     "data": {
      "text/plain": [
       "Gender\n",
       "Ж    36.41\n",
       "М    35.97\n",
       "Name: userid, dtype: float64"
      ]
     },
     "metadata": {},
     "output_type": "display_data"
    },
    {
     "name": "stdout",
     "output_type": "stream",
     "text": [
      "--------------------\n",
      "Age\n"
     ]
    },
    {
     "data": {
      "image/png": "[encoded data removed]",
      "text/plain": [
       "<Figure size 432x288 with 1 Axes>"
      ]
     },
     "metadata": {
      "needs_background": "light"
     },
     "output_type": "display_data"
    },
    {
     "name": "stdout",
     "output_type": "stream",
     "text": [
      "--------------------\n",
      "Objects\n"
     ]
    },
    {
     "data": {
      "text/plain": [
       "Objects\n",
       "0     33.17\n",
       "1     33.72\n",
       "2     36.45\n",
       "3     34.89\n",
       "4     37.31\n",
       "5     36.96\n",
       "6     37.95\n",
       "7     37.55\n",
       "8     35.41\n",
       "9     36.59\n",
       "10    36.33\n",
       "Name: userid, dtype: float64"
      ]
     },
     "metadata": {},
     "output_type": "display_data"
    },
    {
     "name": "stdout",
     "output_type": "stream",
     "text": [
      "--------------------\n",
      "Products\n"
     ]
    },
    {
     "data": {
      "text/plain": [
       "Products\n",
       "1    17.80\n",
       "2    56.64\n",
       "3    36.84\n",
       "4    23.33\n",
       "Name: userid, dtype: float64"
      ]
     },
     "metadata": {},
     "output_type": "display_data"
    },
    {
     "name": "stdout",
     "output_type": "stream",
     "text": [
      "--------------------\n",
      "CreditCard\n"
     ]
    },
    {
     "data": {
      "text/plain": [
       "CreditCard\n",
       "0    34.80\n",
       "1    36.74\n",
       "Name: userid, dtype: float64"
      ]
     },
     "metadata": {},
     "output_type": "display_data"
    },
    {
     "name": "stdout",
     "output_type": "stream",
     "text": [
      "--------------------\n",
      "Loyalty\n"
     ]
    },
    {
     "data": {
      "text/plain": [
       "Loyalty\n",
       "0    35.97\n",
       "1    36.36\n",
       "Name: userid, dtype: float64"
      ]
     },
     "metadata": {},
     "output_type": "display_data"
    },
    {
     "name": "stdout",
     "output_type": "stream",
     "text": [
      "--------------------\n",
      "Churn\n"
     ]
    },
    {
     "data": {
      "text/plain": [
       "Churn\n",
       "0    39.14\n",
       "1    24.55\n",
       "Name: userid, dtype: float64"
      ]
     },
     "metadata": {},
     "output_type": "display_data"
    },
    {
     "name": "stdout",
     "output_type": "stream",
     "text": [
      "--------------------\n"
     ]
    }
   ],
   "source": [
    "for col in df.drop(columns=['userid', 'Balance', 'estimated_salary']).columns:\n",
    "    print(col)\n",
    "    if col in ['score', 'Age']:\n",
    "        (100 * df[df.Balance.isna()].groupby(col).userid.count() / df.groupby(col).userid.count()).fillna(0).plot()\n",
    "        plt.ylabel('%')\n",
    "        plt.show()\n",
    "    else:\n",
    "        display(round(100* df[df.Balance.isna()].groupby(col)['userid'].count() / df.groupby(col)['userid'].count(), 2))\n",
    "    print(20*'-')"
   ]
  },
  {
   "cell_type": "markdown",
   "metadata": {},
   "source": [
    "Пустые значения Balance распредлеленые по всем признакам. Возомжно технический сбой при выгрузке, а возможно баг в самой базе. Стоит обратиться к разработчикам и выяснить причину."
   ]
  },
  {
   "cell_type": "markdown",
   "metadata": {},
   "source": [
    "Будем считать пустые значения - 0-вым балансом и заполним пропуски 0-мя."
   ]
  },
  {
   "cell_type": "code",
   "execution_count": 12,
   "metadata": {},
   "outputs": [],
   "source": [
    "df.Balance.fillna(0, inplace=True)"
   ]
  },
  {
   "cell_type": "code",
   "execution_count": 13,
   "metadata": {},
   "outputs": [
    {
     "data": {
      "text/plain": [
       "0"
      ]
     },
     "execution_count": 13,
     "metadata": {},
     "output_type": "execute_result"
    }
   ],
   "source": [
    "df.duplicated().sum()"
   ]
  },
  {
   "cell_type": "markdown",
   "metadata": {},
   "source": [
    "Дубликатов нет."
   ]
  },
  {
   "cell_type": "markdown",
   "metadata": {},
   "source": [
    "### Кодирование переменных"
   ]
  },
  {
   "cell_type": "markdown",
   "metadata": {},
   "source": [
    "Закодируем категориальные переменные Gender и City.   \n",
    "City закодируем унитарным кодированием (One Hot Encoding)."
   ]
  },
  {
   "cell_type": "code",
   "execution_count": 14,
   "metadata": {},
   "outputs": [],
   "source": [
    "df_c = pd.get_dummies(df, columns=['City'])"
   ]
  },
  {
   "cell_type": "code",
   "execution_count": 15,
   "metadata": {},
   "outputs": [
    {
     "data": {
      "text/plain": [
       "Index(['userid', 'score', 'Gender', 'Age', 'Objects', 'Balance', 'Products',\n",
       "       'CreditCard', 'Loyalty', 'estimated_salary', 'Churn',\n",
       "       'City_Ростов Великий', 'City_Рыбинск', 'City_Ярославль'],\n",
       "      dtype='object')"
      ]
     },
     "execution_count": 15,
     "metadata": {},
     "output_type": "execute_result"
    }
   ],
   "source": [
    "df_c.columns"
   ]
  },
  {
   "cell_type": "markdown",
   "metadata": {},
   "source": [
    "Переименуем столбец City_Ростов Великий в City_Ростов_Великий."
   ]
  },
  {
   "cell_type": "code",
   "execution_count": 16,
   "metadata": {},
   "outputs": [],
   "source": [
    "df_c.rename(columns={'City_Ростов Великий': 'City_Ростов_Великий'}, inplace=True)"
   ]
  },
  {
   "cell_type": "code",
   "execution_count": 17,
   "metadata": {},
   "outputs": [
    {
     "data": {
      "text/plain": [
       "array(['Ж', 'М'], dtype=object)"
      ]
     },
     "execution_count": 17,
     "metadata": {},
     "output_type": "execute_result"
    }
   ],
   "source": [
    "df_c.Gender.unique()"
   ]
  },
  {
   "cell_type": "markdown",
   "metadata": {},
   "source": [
    "В Gender заменим М на 0, Ж на 1."
   ]
  },
  {
   "cell_type": "code",
   "execution_count": 18,
   "metadata": {},
   "outputs": [],
   "source": [
    "df_c.replace({'М': 0, 'Ж': 1}, inplace=True)"
   ]
  },
  {
   "cell_type": "code",
   "execution_count": 19,
   "metadata": {
    "scrolled": false
   },
   "outputs": [
    {
     "data": {
      "text/html": [
       "<div>\n",
       "<style scoped>\n",
       "    .dataframe tbody tr th:only-of-type {\n",
       "        vertical-align: middle;\n",
       "    }\n",
       "\n",
       "    .dataframe tbody tr th {\n",
       "        vertical-align: top;\n",
       "    }\n",
       "\n",
       "    .dataframe thead th {\n",
       "        text-align: right;\n",
       "    }\n",
       "</style>\n",
       "<table border=\"1\" class=\"dataframe\">\n",
       "  <thead>\n",
       "    <tr style=\"text-align: right;\">\n",
       "      <th></th>\n",
       "      <th>userid</th>\n",
       "      <th>score</th>\n",
       "      <th>Gender</th>\n",
       "      <th>Age</th>\n",
       "      <th>Objects</th>\n",
       "      <th>Balance</th>\n",
       "      <th>Products</th>\n",
       "      <th>CreditCard</th>\n",
       "      <th>Loyalty</th>\n",
       "      <th>estimated_salary</th>\n",
       "      <th>Churn</th>\n",
       "      <th>City_Ростов_Великий</th>\n",
       "      <th>City_Рыбинск</th>\n",
       "      <th>City_Ярославль</th>\n",
       "    </tr>\n",
       "  </thead>\n",
       "  <tbody>\n",
       "    <tr>\n",
       "      <th>9835</th>\n",
       "      <td>15658908</td>\n",
       "      <td>838</td>\n",
       "      <td>0</td>\n",
       "      <td>31</td>\n",
       "      <td>2</td>\n",
       "      <td>0.00</td>\n",
       "      <td>2</td>\n",
       "      <td>1</td>\n",
       "      <td>0</td>\n",
       "      <td>8222.96</td>\n",
       "      <td>0</td>\n",
       "      <td>0</td>\n",
       "      <td>0</td>\n",
       "      <td>1</td>\n",
       "    </tr>\n",
       "    <tr>\n",
       "      <th>6928</th>\n",
       "      <td>15847589</td>\n",
       "      <td>781</td>\n",
       "      <td>1</td>\n",
       "      <td>48</td>\n",
       "      <td>0</td>\n",
       "      <td>57098.96</td>\n",
       "      <td>1</td>\n",
       "      <td>1</td>\n",
       "      <td>0</td>\n",
       "      <td>85644.06</td>\n",
       "      <td>1</td>\n",
       "      <td>0</td>\n",
       "      <td>0</td>\n",
       "      <td>1</td>\n",
       "    </tr>\n",
       "    <tr>\n",
       "      <th>3000</th>\n",
       "      <td>15627281</td>\n",
       "      <td>532</td>\n",
       "      <td>1</td>\n",
       "      <td>40</td>\n",
       "      <td>5</td>\n",
       "      <td>0.00</td>\n",
       "      <td>2</td>\n",
       "      <td>0</td>\n",
       "      <td>1</td>\n",
       "      <td>177099.71</td>\n",
       "      <td>0</td>\n",
       "      <td>0</td>\n",
       "      <td>0</td>\n",
       "      <td>1</td>\n",
       "    </tr>\n",
       "    <tr>\n",
       "      <th>3066</th>\n",
       "      <td>15832551</td>\n",
       "      <td>503</td>\n",
       "      <td>1</td>\n",
       "      <td>28</td>\n",
       "      <td>5</td>\n",
       "      <td>0.00</td>\n",
       "      <td>2</td>\n",
       "      <td>1</td>\n",
       "      <td>0</td>\n",
       "      <td>125918.17</td>\n",
       "      <td>0</td>\n",
       "      <td>0</td>\n",
       "      <td>0</td>\n",
       "      <td>1</td>\n",
       "    </tr>\n",
       "    <tr>\n",
       "      <th>6987</th>\n",
       "      <td>15619906</td>\n",
       "      <td>532</td>\n",
       "      <td>0</td>\n",
       "      <td>60</td>\n",
       "      <td>5</td>\n",
       "      <td>76705.87</td>\n",
       "      <td>2</td>\n",
       "      <td>0</td>\n",
       "      <td>1</td>\n",
       "      <td>13889.73</td>\n",
       "      <td>0</td>\n",
       "      <td>0</td>\n",
       "      <td>0</td>\n",
       "      <td>1</td>\n",
       "    </tr>\n",
       "    <tr>\n",
       "      <th>4109</th>\n",
       "      <td>15850504</td>\n",
       "      <td>702</td>\n",
       "      <td>0</td>\n",
       "      <td>28</td>\n",
       "      <td>1</td>\n",
       "      <td>103033.83</td>\n",
       "      <td>1</td>\n",
       "      <td>1</td>\n",
       "      <td>1</td>\n",
       "      <td>40321.87</td>\n",
       "      <td>0</td>\n",
       "      <td>1</td>\n",
       "      <td>0</td>\n",
       "      <td>0</td>\n",
       "    </tr>\n",
       "    <tr>\n",
       "      <th>7312</th>\n",
       "      <td>15731000</td>\n",
       "      <td>629</td>\n",
       "      <td>1</td>\n",
       "      <td>43</td>\n",
       "      <td>0</td>\n",
       "      <td>0.00</td>\n",
       "      <td>2</td>\n",
       "      <td>1</td>\n",
       "      <td>1</td>\n",
       "      <td>41263.69</td>\n",
       "      <td>0</td>\n",
       "      <td>0</td>\n",
       "      <td>0</td>\n",
       "      <td>1</td>\n",
       "    </tr>\n",
       "    <tr>\n",
       "      <th>612</th>\n",
       "      <td>15662593</td>\n",
       "      <td>605</td>\n",
       "      <td>1</td>\n",
       "      <td>64</td>\n",
       "      <td>2</td>\n",
       "      <td>129555.70</td>\n",
       "      <td>1</td>\n",
       "      <td>1</td>\n",
       "      <td>1</td>\n",
       "      <td>13601.79</td>\n",
       "      <td>0</td>\n",
       "      <td>0</td>\n",
       "      <td>0</td>\n",
       "      <td>1</td>\n",
       "    </tr>\n",
       "    <tr>\n",
       "      <th>9622</th>\n",
       "      <td>15661486</td>\n",
       "      <td>590</td>\n",
       "      <td>0</td>\n",
       "      <td>31</td>\n",
       "      <td>8</td>\n",
       "      <td>112211.61</td>\n",
       "      <td>1</td>\n",
       "      <td>1</td>\n",
       "      <td>0</td>\n",
       "      <td>26261.42</td>\n",
       "      <td>0</td>\n",
       "      <td>0</td>\n",
       "      <td>0</td>\n",
       "      <td>1</td>\n",
       "    </tr>\n",
       "    <tr>\n",
       "      <th>426</th>\n",
       "      <td>15695619</td>\n",
       "      <td>492</td>\n",
       "      <td>0</td>\n",
       "      <td>39</td>\n",
       "      <td>10</td>\n",
       "      <td>124576.65</td>\n",
       "      <td>2</td>\n",
       "      <td>1</td>\n",
       "      <td>0</td>\n",
       "      <td>148584.61</td>\n",
       "      <td>0</td>\n",
       "      <td>1</td>\n",
       "      <td>0</td>\n",
       "      <td>0</td>\n",
       "    </tr>\n",
       "  </tbody>\n",
       "</table>\n",
       "</div>"
      ],
      "text/plain": [
       "        userid  score  Gender  Age  Objects    Balance  Products  CreditCard  \\\n",
       "9835  15658908    838       0   31        2       0.00         2           1   \n",
       "6928  15847589    781       1   48        0   57098.96         1           1   \n",
       "3000  15627281    532       1   40        5       0.00         2           0   \n",
       "3066  15832551    503       1   28        5       0.00         2           1   \n",
       "6987  15619906    532       0   60        5   76705.87         2           0   \n",
       "4109  15850504    702       0   28        1  103033.83         1           1   \n",
       "7312  15731000    629       1   43        0       0.00         2           1   \n",
       "612   15662593    605       1   64        2  129555.70         1           1   \n",
       "9622  15661486    590       0   31        8  112211.61         1           1   \n",
       "426   15695619    492       0   39       10  124576.65         2           1   \n",
       "\n",
       "      Loyalty  estimated_salary  Churn  City_Ростов_Великий  City_Рыбинск  \\\n",
       "9835        0           8222.96      0                    0             0   \n",
       "6928        0          85644.06      1                    0             0   \n",
       "3000        1         177099.71      0                    0             0   \n",
       "3066        0         125918.17      0                    0             0   \n",
       "6987        1          13889.73      0                    0             0   \n",
       "4109        1          40321.87      0                    1             0   \n",
       "7312        1          41263.69      0                    0             0   \n",
       "612         1          13601.79      0                    0             0   \n",
       "9622        0          26261.42      0                    0             0   \n",
       "426         0         148584.61      0                    1             0   \n",
       "\n",
       "      City_Ярославль  \n",
       "9835               1  \n",
       "6928               1  \n",
       "3000               1  \n",
       "3066               1  \n",
       "6987               1  \n",
       "4109               0  \n",
       "7312               1  \n",
       "612                1  \n",
       "9622               1  \n",
       "426                0  "
      ]
     },
     "execution_count": 19,
     "metadata": {},
     "output_type": "execute_result"
    }
   ],
   "source": [
    "df_c.sample(10)"
   ]
  },
  {
   "cell_type": "markdown",
   "metadata": {},
   "source": [
    "### Проверка типов данных"
   ]
  },
  {
   "cell_type": "code",
   "execution_count": 20,
   "metadata": {},
   "outputs": [
    {
     "data": {
      "text/plain": [
       "userid                   int64\n",
       "score                    int64\n",
       "Gender                   int64\n",
       "Age                      int64\n",
       "Objects                  int64\n",
       "Balance                float64\n",
       "Products                 int64\n",
       "CreditCard               int64\n",
       "Loyalty                  int64\n",
       "estimated_salary       float64\n",
       "Churn                    int64\n",
       "City_Ростов_Великий      uint8\n",
       "City_Рыбинск             uint8\n",
       "City_Ярославль           uint8\n",
       "dtype: object"
      ]
     },
     "execution_count": 20,
     "metadata": {},
     "output_type": "execute_result"
    }
   ],
   "source": [
    "df_c.dtypes"
   ]
  },
  {
   "cell_type": "markdown",
   "metadata": {},
   "source": [
    "Типы данных определены верно."
   ]
  },
  {
   "cell_type": "markdown",
   "metadata": {},
   "source": [
    "## Анализ данных\n",
    "На этом этапе проведем исследовательский анализ данных: посмотрим на распределение признаков, сделаем первые выводы."
   ]
  },
  {
   "cell_type": "code",
   "execution_count": 21,
   "metadata": {},
   "outputs": [
    {
     "data": {
      "image/png": "[encoded data removed]",
      "text/plain": [
       "<Figure size 576x576 with 1 Axes>"
      ]
     },
     "metadata": {},
     "output_type": "display_data"
    }
   ],
   "source": [
    "plt.figure(figsize=(8,8))\n",
    "plt.pie(df.groupby('Churn').userid.count(), labels=['Клиенты', 'Ушедшие'], autopct='%.0f%%', explode=[0, 0.1])\n",
    "plt.title('Общий отток')\n",
    "plt.show()"
   ]
  },
  {
   "cell_type": "markdown",
   "metadata": {},
   "source": [
    "Отток клиентов - 20%."
   ]
  },
  {
   "cell_type": "markdown",
   "metadata": {},
   "source": [
    "### Распределение признаков"
   ]
  },
  {
   "cell_type": "code",
   "execution_count": 22,
   "metadata": {},
   "outputs": [
    {
     "data": {
      "text/plain": [
       "['Gender',\n",
       " 'CreditCard',\n",
       " 'Loyalty',\n",
       " 'Churn',\n",
       " 'City_Ростов_Великий',\n",
       " 'City_Рыбинск',\n",
       " 'City_Ярославль']"
      ]
     },
     "execution_count": 22,
     "metadata": {},
     "output_type": "execute_result"
    }
   ],
   "source": [
    "binary_cols= [col for col in df_c.columns if len(df_c[col].unique())==2]\n",
    "binary_cols"
   ]
  },
  {
   "cell_type": "code",
   "execution_count": 23,
   "metadata": {},
   "outputs": [],
   "source": [
    "sns.set_theme(style=\"whitegrid\")"
   ]
  },
  {
   "cell_type": "code",
   "execution_count": 24,
   "metadata": {
    "scrolled": false
   },
   "outputs": [
    {
     "data": {
      "image/png": "[encoded data removed]",
      "text/plain": [
       "<Figure size 864x504 with 1 Axes>"
      ]
     },
     "metadata": {},
     "output_type": "display_data"
    },
    {
     "name": "stdout",
     "output_type": "stream",
     "text": [
      "----------------------------------------------------------------------------------------------------\n"
     ]
    },
    {
     "data": {
      "image/png": "[encoded data removed]",
      "text/plain": [
       "<Figure size 864x504 with 1 Axes>"
      ]
     },
     "metadata": {},
     "output_type": "display_data"
    },
    {
     "name": "stdout",
     "output_type": "stream",
     "text": [
      "----------------------------------------------------------------------------------------------------\n"
     ]
    },
    {
     "data": {
      "image/png": "[encoded data removed]",
      "text/plain": [
       "<Figure size 864x504 with 1 Axes>"
      ]
     },
     "metadata": {},
     "output_type": "display_data"
    },
    {
     "name": "stdout",
     "output_type": "stream",
     "text": [
      "----------------------------------------------------------------------------------------------------\n"
     ]
    },
    {
     "data": {
      "image/png": "[encoded data removed]",
      "text/plain": [
       "<Figure size 864x504 with 1 Axes>"
      ]
     },
     "metadata": {},
     "output_type": "display_data"
    },
    {
     "name": "stdout",
     "output_type": "stream",
     "text": [
      "----------------------------------------------------------------------------------------------------\n"
     ]
    },
    {
     "data": {
      "image/png": "[encoded data removed]",
      "text/plain": [
       "<Figure size 864x504 with 1 Axes>"
      ]
     },
     "metadata": {},
     "output_type": "display_data"
    },
    {
     "name": "stdout",
     "output_type": "stream",
     "text": [
      "----------------------------------------------------------------------------------------------------\n"
     ]
    },
    {
     "data": {
      "image/png": "[encoded data removed]",
      "text/plain": [
       "<Figure size 864x504 with 1 Axes>"
      ]
     },
     "metadata": {},
     "output_type": "display_data"
    },
    {
     "name": "stdout",
     "output_type": "stream",
     "text": [
      "----------------------------------------------------------------------------------------------------\n"
     ]
    },
    {
     "data": {
      "image/png": "[encoded data removed]",
      "text/plain": [
       "<Figure size 864x504 with 1 Axes>"
      ]
     },
     "metadata": {},
     "output_type": "display_data"
    },
    {
     "name": "stdout",
     "output_type": "stream",
     "text": [
      "----------------------------------------------------------------------------------------------------\n"
     ]
    },
    {
     "data": {
      "image/png": "[encoded data removed]",
      "text/plain": [
       "<Figure size 864x504 with 1 Axes>"
      ]
     },
     "metadata": {},
     "output_type": "display_data"
    },
    {
     "name": "stdout",
     "output_type": "stream",
     "text": [
      "----------------------------------------------------------------------------------------------------\n"
     ]
    },
    {
     "data": {
      "image/png": "[encoded data removed]",
      "text/plain": [
       "<Figure size 864x504 with 1 Axes>"
      ]
     },
     "metadata": {},
     "output_type": "display_data"
    },
    {
     "name": "stdout",
     "output_type": "stream",
     "text": [
      "----------------------------------------------------------------------------------------------------\n"
     ]
    },
    {
     "data": {
      "image/png": "[encoded data removed]",
      "text/plain": [
       "<Figure size 864x504 with 1 Axes>"
      ]
     },
     "metadata": {},
     "output_type": "display_data"
    },
    {
     "name": "stdout",
     "output_type": "stream",
     "text": [
      "----------------------------------------------------------------------------------------------------\n"
     ]
    },
    {
     "data": {
      "image/png": "[encoded data removed]",
      "text/plain": [
       "<Figure size 864x504 with 1 Axes>"
      ]
     },
     "metadata": {},
     "output_type": "display_data"
    },
    {
     "name": "stdout",
     "output_type": "stream",
     "text": [
      "----------------------------------------------------------------------------------------------------\n"
     ]
    },
    {
     "data": {
      "image/png": "[encoded data removed]",
      "text/plain": [
       "<Figure size 864x504 with 1 Axes>"
      ]
     },
     "metadata": {},
     "output_type": "display_data"
    },
    {
     "name": "stdout",
     "output_type": "stream",
     "text": [
      "----------------------------------------------------------------------------------------------------\n"
     ]
    },
    {
     "data": {
      "image/png": "[encoded data removed]",
      "text/plain": [
       "<Figure size 864x504 with 1 Axes>"
      ]
     },
     "metadata": {},
     "output_type": "display_data"
    },
    {
     "name": "stdout",
     "output_type": "stream",
     "text": [
      "----------------------------------------------------------------------------------------------------\n"
     ]
    }
   ],
   "source": [
    "for col in df_c.drop(columns='userid').columns:\n",
    "    if col in binary_cols:\n",
    "        plt.figure(figsize=(12,7))\n",
    "        if col != 'Churn':\n",
    "            sns.barplot(data = df_c.groupby([col, 'Churn']).userid.count().reset_index(), x=col, y='userid', hue='Churn')\n",
    "        else: sns.barplot(data = df_c.groupby([col]).userid.count().reset_index(), x=col, y='userid')\n",
    "    else:\n",
    "        plt.figure(figsize=(12,7))\n",
    "        sns.histplot(data = df_c, x = col, hue = 'Churn')\n",
    "    plt.title(col)\n",
    "    plt.ylabel('Кол-во клиентов')\n",
    "    plt.show()\n",
    "    print(100*'-')"
   ]
  },
  {
   "cell_type": "code",
   "execution_count": 25,
   "metadata": {},
   "outputs": [
    {
     "data": {
      "text/plain": [
       "812.0"
      ]
     },
     "execution_count": 25,
     "metadata": {},
     "output_type": "execute_result"
    }
   ],
   "source": [
    "df_c.score.quantile(.95)"
   ]
  },
  {
   "cell_type": "code",
   "execution_count": 26,
   "metadata": {},
   "outputs": [
    {
     "data": {
      "text/plain": [
       "0.3617"
      ]
     },
     "execution_count": 26,
     "metadata": {},
     "output_type": "execute_result"
    }
   ],
   "source": [
    "df_c.query('Balance == 0').userid.count() / df_c.userid.count()"
   ]
  },
  {
   "cell_type": "code",
   "execution_count": 27,
   "metadata": {},
   "outputs": [
    {
     "data": {
      "text/plain": [
       "0.13823610727121924"
      ]
     },
     "execution_count": 27,
     "metadata": {},
     "output_type": "execute_result"
    }
   ],
   "source": [
    "df_c.query('Balance == 0 and Churn == 1').userid.count() / df_c.query('Balance == 0').userid.count()"
   ]
  },
  {
   "cell_type": "code",
   "execution_count": 28,
   "metadata": {},
   "outputs": [
    {
     "data": {
      "text/plain": [
       "0.7055"
      ]
     },
     "execution_count": 28,
     "metadata": {},
     "output_type": "execute_result"
    }
   ],
   "source": [
    "df_c.CreditCard.sum() / df_c.CreditCard.count()"
   ]
  },
  {
   "cell_type": "markdown",
   "metadata": {},
   "source": [
    "5% клиентов имеют очень высоки рейтинг, 812 и более (макс. 850).   \n",
    "И мужчины и женщины распределены примерно одинаково.   \n",
    "В основном возраст клиентов от 30 до 45 лет.   \n",
    "Клиенты с 1-9 объектами недвижимости распределены примерно одинаково, клиентов с 0 и 10 объектами меньше.   \n",
    "У 36% клиентов на балансе 0. Из них только 13% ушли из банка.\n",
    "Большая часть клиентов пользуется 1 или 2 продуктами.\n",
    "70% клиентов пользу.тся кредитной картой.\n",
    "Активность клиентов и зарплата распеределены равномерно.\n",
    "Половина клиентов из Ярославля. Из Ростова Великого и Рыбинска по ~25% клиентов."
   ]
  },
  {
   "cell_type": "markdown",
   "metadata": {},
   "source": [
    "### Корреляция признаков"
   ]
  },
  {
   "cell_type": "code",
   "execution_count": 29,
   "metadata": {},
   "outputs": [
    {
     "data": {
      "image/png": "[encoded data removed]",
      "text/plain": [
       "<Figure size 936x936 with 2 Axes>"
      ]
     },
     "metadata": {},
     "output_type": "display_data"
    }
   ],
   "source": [
    "plt.figure(figsize=(13,13))\n",
    "sns.heatmap(df_c.corr(), annot=True, fmt='.2%', center=0, cmap='vlag')\n",
    "plt.title('Корреляция признаков')\n",
    "plt.show()"
   ]
  },
  {
   "cell_type": "markdown",
   "metadata": {},
   "source": [
    "Сильной корреляции между признаками не наблюдается."
   ]
  },
  {
   "cell_type": "markdown",
   "metadata": {},
   "source": [
    "## Сегмантация пользователей\n",
    "На этом этапе проведем сегментацию пользователей по количеству потребляемых продуктов."
   ]
  },
  {
   "cell_type": "code",
   "execution_count": 30,
   "metadata": {},
   "outputs": [
    {
     "data": {
      "text/plain": [
       "1    5084\n",
       "2    4590\n",
       "3     266\n",
       "4      60\n",
       "Name: Products, dtype: int64"
      ]
     },
     "execution_count": 30,
     "metadata": {},
     "output_type": "execute_result"
    }
   ],
   "source": [
    "df_c.Products.value_counts()"
   ]
  },
  {
   "cell_type": "code",
   "execution_count": 31,
   "metadata": {},
   "outputs": [
    {
     "data": {
      "text/html": [
       "<div>\n",
       "<style scoped>\n",
       "    .dataframe tbody tr th:only-of-type {\n",
       "        vertical-align: middle;\n",
       "    }\n",
       "\n",
       "    .dataframe tbody tr th {\n",
       "        vertical-align: top;\n",
       "    }\n",
       "\n",
       "    .dataframe thead th {\n",
       "        text-align: right;\n",
       "    }\n",
       "</style>\n",
       "<table border=\"1\" class=\"dataframe\">\n",
       "  <thead>\n",
       "    <tr style=\"text-align: right;\">\n",
       "      <th>Products</th>\n",
       "      <th>1</th>\n",
       "      <th>2</th>\n",
       "      <th>3</th>\n",
       "      <th>4</th>\n",
       "    </tr>\n",
       "  </thead>\n",
       "  <tbody>\n",
       "    <tr>\n",
       "      <th>userid</th>\n",
       "      <td>1.573237e+07</td>\n",
       "      <td>1.573484e+07</td>\n",
       "      <td>1.574182e+07</td>\n",
       "      <td>1.571936e+07</td>\n",
       "    </tr>\n",
       "    <tr>\n",
       "      <th>score</th>\n",
       "      <td>6.491210e+02</td>\n",
       "      <td>6.521887e+02</td>\n",
       "      <td>6.481053e+02</td>\n",
       "      <td>6.535833e+02</td>\n",
       "    </tr>\n",
       "    <tr>\n",
       "      <th>Gender</th>\n",
       "      <td>4.516129e-01</td>\n",
       "      <td>4.488017e-01</td>\n",
       "      <td>5.601504e-01</td>\n",
       "      <td>6.333333e-01</td>\n",
       "    </tr>\n",
       "    <tr>\n",
       "      <th>Age</th>\n",
       "      <td>3.967309e+01</td>\n",
       "      <td>3.775359e+01</td>\n",
       "      <td>4.319549e+01</td>\n",
       "      <td>4.568333e+01</td>\n",
       "    </tr>\n",
       "    <tr>\n",
       "      <th>Objects</th>\n",
       "      <td>4.974626e+00</td>\n",
       "      <td>5.051852e+00</td>\n",
       "      <td>5.003759e+00</td>\n",
       "      <td>5.300000e+00</td>\n",
       "    </tr>\n",
       "    <tr>\n",
       "      <th>Balance</th>\n",
       "      <td>9.855187e+04</td>\n",
       "      <td>5.187915e+04</td>\n",
       "      <td>7.545833e+04</td>\n",
       "      <td>9.373314e+04</td>\n",
       "    </tr>\n",
       "    <tr>\n",
       "      <th>CreditCard</th>\n",
       "      <td>7.037766e-01</td>\n",
       "      <td>7.071895e-01</td>\n",
       "      <td>7.142857e-01</td>\n",
       "      <td>6.833333e-01</td>\n",
       "    </tr>\n",
       "    <tr>\n",
       "      <th>Loyalty</th>\n",
       "      <td>5.041306e-01</td>\n",
       "      <td>5.328976e-01</td>\n",
       "      <td>4.248120e-01</td>\n",
       "      <td>4.833333e-01</td>\n",
       "    </tr>\n",
       "    <tr>\n",
       "      <th>estimated_salary</th>\n",
       "      <td>9.948726e+04</td>\n",
       "      <td>1.004520e+05</td>\n",
       "      <td>1.043181e+05</td>\n",
       "      <td>1.047637e+05</td>\n",
       "    </tr>\n",
       "    <tr>\n",
       "      <th>Churn</th>\n",
       "      <td>2.771440e-01</td>\n",
       "      <td>7.581699e-02</td>\n",
       "      <td>8.270677e-01</td>\n",
       "      <td>1.000000e+00</td>\n",
       "    </tr>\n",
       "    <tr>\n",
       "      <th>City_Ростов_Великий</th>\n",
       "      <td>2.653423e-01</td>\n",
       "      <td>2.265795e-01</td>\n",
       "      <td>3.609023e-01</td>\n",
       "      <td>4.000000e-01</td>\n",
       "    </tr>\n",
       "    <tr>\n",
       "      <th>City_Рыбинск</th>\n",
       "      <td>2.401652e-01</td>\n",
       "      <td>2.577342e-01</td>\n",
       "      <td>2.481203e-01</td>\n",
       "      <td>1.166667e-01</td>\n",
       "    </tr>\n",
       "    <tr>\n",
       "      <th>City_Ярославль</th>\n",
       "      <td>4.944925e-01</td>\n",
       "      <td>5.156863e-01</td>\n",
       "      <td>3.909774e-01</td>\n",
       "      <td>4.833333e-01</td>\n",
       "    </tr>\n",
       "  </tbody>\n",
       "</table>\n",
       "</div>"
      ],
      "text/plain": [
       "Products                        1             2             3             4\n",
       "userid               1.573237e+07  1.573484e+07  1.574182e+07  1.571936e+07\n",
       "score                6.491210e+02  6.521887e+02  6.481053e+02  6.535833e+02\n",
       "Gender               4.516129e-01  4.488017e-01  5.601504e-01  6.333333e-01\n",
       "Age                  3.967309e+01  3.775359e+01  4.319549e+01  4.568333e+01\n",
       "Objects              4.974626e+00  5.051852e+00  5.003759e+00  5.300000e+00\n",
       "Balance              9.855187e+04  5.187915e+04  7.545833e+04  9.373314e+04\n",
       "CreditCard           7.037766e-01  7.071895e-01  7.142857e-01  6.833333e-01\n",
       "Loyalty              5.041306e-01  5.328976e-01  4.248120e-01  4.833333e-01\n",
       "estimated_salary     9.948726e+04  1.004520e+05  1.043181e+05  1.047637e+05\n",
       "Churn                2.771440e-01  7.581699e-02  8.270677e-01  1.000000e+00\n",
       "City_Ростов_Великий  2.653423e-01  2.265795e-01  3.609023e-01  4.000000e-01\n",
       "City_Рыбинск         2.401652e-01  2.577342e-01  2.481203e-01  1.166667e-01\n",
       "City_Ярославль       4.944925e-01  5.156863e-01  3.909774e-01  4.833333e-01"
      ]
     },
     "execution_count": 31,
     "metadata": {},
     "output_type": "execute_result"
    }
   ],
   "source": [
    "df_c.groupby('Products').mean().T"
   ]
  },
  {
   "cell_type": "code",
   "execution_count": 32,
   "metadata": {},
   "outputs": [
    {
     "data": {
      "text/plain": [
       "Products\n",
       "1    0.277144\n",
       "2    0.075817\n",
       "3    0.827068\n",
       "4    1.000000\n",
       "Name: Churn, dtype: float64"
      ]
     },
     "execution_count": 32,
     "metadata": {},
     "output_type": "execute_result"
    }
   ],
   "source": [
    "df_c.groupby('Products').Churn.mean()"
   ]
  },
  {
   "cell_type": "code",
   "execution_count": 33,
   "metadata": {
    "scrolled": false
   },
   "outputs": [
    {
     "name": "stdout",
     "output_type": "stream",
     "text": [
      "score\n"
     ]
    },
    {
     "data": {
      "image/png": "[encoded data removed]",
      "text/plain": [
       "<Figure size 1296x360 with 4 Axes>"
      ]
     },
     "metadata": {},
     "output_type": "display_data"
    },
    {
     "data": {
      "text/html": [
       "<div>\n",
       "<style scoped>\n",
       "    .dataframe tbody tr th:only-of-type {\n",
       "        vertical-align: middle;\n",
       "    }\n",
       "\n",
       "    .dataframe tbody tr th {\n",
       "        vertical-align: top;\n",
       "    }\n",
       "\n",
       "    .dataframe thead th {\n",
       "        text-align: right;\n",
       "    }\n",
       "</style>\n",
       "<table border=\"1\" class=\"dataframe\">\n",
       "  <thead>\n",
       "    <tr style=\"text-align: right;\">\n",
       "      <th></th>\n",
       "      <th>var</th>\n",
       "      <th>Число пр-в 1</th>\n",
       "      <th>2</th>\n",
       "      <th>3</th>\n",
       "      <th>4</th>\n",
       "    </tr>\n",
       "  </thead>\n",
       "  <tbody>\n",
       "    <tr>\n",
       "      <th>0</th>\n",
       "      <td>count</td>\n",
       "      <td>5084.000000</td>\n",
       "      <td>4590.000000</td>\n",
       "      <td>266.000000</td>\n",
       "      <td>60.000000</td>\n",
       "    </tr>\n",
       "    <tr>\n",
       "      <th>1</th>\n",
       "      <td>mean</td>\n",
       "      <td>649.120968</td>\n",
       "      <td>652.188671</td>\n",
       "      <td>648.105263</td>\n",
       "      <td>653.583333</td>\n",
       "    </tr>\n",
       "    <tr>\n",
       "      <th>2</th>\n",
       "      <td>std</td>\n",
       "      <td>97.203710</td>\n",
       "      <td>96.066831</td>\n",
       "      <td>95.190396</td>\n",
       "      <td>101.265600</td>\n",
       "    </tr>\n",
       "    <tr>\n",
       "      <th>3</th>\n",
       "      <td>min</td>\n",
       "      <td>350.000000</td>\n",
       "      <td>350.000000</td>\n",
       "      <td>358.000000</td>\n",
       "      <td>376.000000</td>\n",
       "    </tr>\n",
       "    <tr>\n",
       "      <th>4</th>\n",
       "      <td>25%</td>\n",
       "      <td>581.000000</td>\n",
       "      <td>586.000000</td>\n",
       "      <td>586.000000</td>\n",
       "      <td>595.000000</td>\n",
       "    </tr>\n",
       "    <tr>\n",
       "      <th>5</th>\n",
       "      <td>50%</td>\n",
       "      <td>651.000000</td>\n",
       "      <td>653.000000</td>\n",
       "      <td>650.000000</td>\n",
       "      <td>643.000000</td>\n",
       "    </tr>\n",
       "    <tr>\n",
       "      <th>6</th>\n",
       "      <td>75%</td>\n",
       "      <td>717.000000</td>\n",
       "      <td>719.000000</td>\n",
       "      <td>711.000000</td>\n",
       "      <td>708.000000</td>\n",
       "    </tr>\n",
       "    <tr>\n",
       "      <th>7</th>\n",
       "      <td>max</td>\n",
       "      <td>850.000000</td>\n",
       "      <td>850.000000</td>\n",
       "      <td>850.000000</td>\n",
       "      <td>850.000000</td>\n",
       "    </tr>\n",
       "  </tbody>\n",
       "</table>\n",
       "</div>"
      ],
      "text/plain": [
       "     var  Число пр-в 1            2           3           4\n",
       "0  count   5084.000000  4590.000000  266.000000   60.000000\n",
       "1   mean    649.120968   652.188671  648.105263  653.583333\n",
       "2    std     97.203710    96.066831   95.190396  101.265600\n",
       "3    min    350.000000   350.000000  358.000000  376.000000\n",
       "4    25%    581.000000   586.000000  586.000000  595.000000\n",
       "5    50%    651.000000   653.000000  650.000000  643.000000\n",
       "6    75%    717.000000   719.000000  711.000000  708.000000\n",
       "7    max    850.000000   850.000000  850.000000  850.000000"
      ]
     },
     "metadata": {},
     "output_type": "display_data"
    },
    {
     "name": "stdout",
     "output_type": "stream",
     "text": [
      "------------------------------------------------------------------------------------------------------------------------\n",
      "Gender\n"
     ]
    },
    {
     "data": {
      "image/png": "[encoded data removed]",
      "text/plain": [
       "<Figure size 1296x360 with 4 Axes>"
      ]
     },
     "metadata": {},
     "output_type": "display_data"
    },
    {
     "data": {
      "text/html": [
       "<div>\n",
       "<style scoped>\n",
       "    .dataframe tbody tr th:only-of-type {\n",
       "        vertical-align: middle;\n",
       "    }\n",
       "\n",
       "    .dataframe tbody tr th {\n",
       "        vertical-align: top;\n",
       "    }\n",
       "\n",
       "    .dataframe thead th {\n",
       "        text-align: right;\n",
       "    }\n",
       "</style>\n",
       "<table border=\"1\" class=\"dataframe\">\n",
       "  <thead>\n",
       "    <tr style=\"text-align: right;\">\n",
       "      <th></th>\n",
       "      <th>var</th>\n",
       "      <th>Число пр-в 1</th>\n",
       "      <th>2</th>\n",
       "      <th>3</th>\n",
       "      <th>4</th>\n",
       "    </tr>\n",
       "  </thead>\n",
       "  <tbody>\n",
       "    <tr>\n",
       "      <th>0</th>\n",
       "      <td>count</td>\n",
       "      <td>5084.000000</td>\n",
       "      <td>4590.000000</td>\n",
       "      <td>266.000000</td>\n",
       "      <td>60.000000</td>\n",
       "    </tr>\n",
       "    <tr>\n",
       "      <th>1</th>\n",
       "      <td>mean</td>\n",
       "      <td>0.451613</td>\n",
       "      <td>0.448802</td>\n",
       "      <td>0.560150</td>\n",
       "      <td>0.633333</td>\n",
       "    </tr>\n",
       "    <tr>\n",
       "      <th>2</th>\n",
       "      <td>std</td>\n",
       "      <td>0.497702</td>\n",
       "      <td>0.497426</td>\n",
       "      <td>0.497304</td>\n",
       "      <td>0.485961</td>\n",
       "    </tr>\n",
       "    <tr>\n",
       "      <th>3</th>\n",
       "      <td>min</td>\n",
       "      <td>0.000000</td>\n",
       "      <td>0.000000</td>\n",
       "      <td>0.000000</td>\n",
       "      <td>0.000000</td>\n",
       "    </tr>\n",
       "    <tr>\n",
       "      <th>4</th>\n",
       "      <td>25%</td>\n",
       "      <td>0.000000</td>\n",
       "      <td>0.000000</td>\n",
       "      <td>0.000000</td>\n",
       "      <td>0.000000</td>\n",
       "    </tr>\n",
       "    <tr>\n",
       "      <th>5</th>\n",
       "      <td>50%</td>\n",
       "      <td>0.000000</td>\n",
       "      <td>0.000000</td>\n",
       "      <td>1.000000</td>\n",
       "      <td>1.000000</td>\n",
       "    </tr>\n",
       "    <tr>\n",
       "      <th>6</th>\n",
       "      <td>75%</td>\n",
       "      <td>1.000000</td>\n",
       "      <td>1.000000</td>\n",
       "      <td>1.000000</td>\n",
       "      <td>1.000000</td>\n",
       "    </tr>\n",
       "    <tr>\n",
       "      <th>7</th>\n",
       "      <td>max</td>\n",
       "      <td>1.000000</td>\n",
       "      <td>1.000000</td>\n",
       "      <td>1.000000</td>\n",
       "      <td>1.000000</td>\n",
       "    </tr>\n",
       "  </tbody>\n",
       "</table>\n",
       "</div>"
      ],
      "text/plain": [
       "     var  Число пр-в 1            2           3          4\n",
       "0  count   5084.000000  4590.000000  266.000000  60.000000\n",
       "1   mean      0.451613     0.448802    0.560150   0.633333\n",
       "2    std      0.497702     0.497426    0.497304   0.485961\n",
       "3    min      0.000000     0.000000    0.000000   0.000000\n",
       "4    25%      0.000000     0.000000    0.000000   0.000000\n",
       "5    50%      0.000000     0.000000    1.000000   1.000000\n",
       "6    75%      1.000000     1.000000    1.000000   1.000000\n",
       "7    max      1.000000     1.000000    1.000000   1.000000"
      ]
     },
     "metadata": {},
     "output_type": "display_data"
    },
    {
     "name": "stdout",
     "output_type": "stream",
     "text": [
      "------------------------------------------------------------------------------------------------------------------------\n",
      "Age\n"
     ]
    },
    {
     "data": {
      "image/png": "[encoded data removed]",
      "text/plain": [
       "<Figure size 1296x360 with 4 Axes>"
      ]
     },
     "metadata": {},
     "output_type": "display_data"
    },
    {
     "data": {
      "text/html": [
       "<div>\n",
       "<style scoped>\n",
       "    .dataframe tbody tr th:only-of-type {\n",
       "        vertical-align: middle;\n",
       "    }\n",
       "\n",
       "    .dataframe tbody tr th {\n",
       "        vertical-align: top;\n",
       "    }\n",
       "\n",
       "    .dataframe thead th {\n",
       "        text-align: right;\n",
       "    }\n",
       "</style>\n",
       "<table border=\"1\" class=\"dataframe\">\n",
       "  <thead>\n",
       "    <tr style=\"text-align: right;\">\n",
       "      <th></th>\n",
       "      <th>var</th>\n",
       "      <th>Число пр-в 1</th>\n",
       "      <th>2</th>\n",
       "      <th>3</th>\n",
       "      <th>4</th>\n",
       "    </tr>\n",
       "  </thead>\n",
       "  <tbody>\n",
       "    <tr>\n",
       "      <th>0</th>\n",
       "      <td>count</td>\n",
       "      <td>5084.000000</td>\n",
       "      <td>4590.000000</td>\n",
       "      <td>266.000000</td>\n",
       "      <td>60.000000</td>\n",
       "    </tr>\n",
       "    <tr>\n",
       "      <th>1</th>\n",
       "      <td>mean</td>\n",
       "      <td>39.673092</td>\n",
       "      <td>37.753595</td>\n",
       "      <td>43.195489</td>\n",
       "      <td>45.683333</td>\n",
       "    </tr>\n",
       "    <tr>\n",
       "      <th>2</th>\n",
       "      <td>std</td>\n",
       "      <td>10.659566</td>\n",
       "      <td>10.145663</td>\n",
       "      <td>10.422008</td>\n",
       "      <td>8.619040</td>\n",
       "    </tr>\n",
       "    <tr>\n",
       "      <th>3</th>\n",
       "      <td>min</td>\n",
       "      <td>18.000000</td>\n",
       "      <td>18.000000</td>\n",
       "      <td>21.000000</td>\n",
       "      <td>29.000000</td>\n",
       "    </tr>\n",
       "    <tr>\n",
       "      <th>4</th>\n",
       "      <td>25%</td>\n",
       "      <td>32.000000</td>\n",
       "      <td>31.000000</td>\n",
       "      <td>36.000000</td>\n",
       "      <td>40.000000</td>\n",
       "    </tr>\n",
       "    <tr>\n",
       "      <th>5</th>\n",
       "      <td>50%</td>\n",
       "      <td>38.000000</td>\n",
       "      <td>36.000000</td>\n",
       "      <td>42.000000</td>\n",
       "      <td>45.000000</td>\n",
       "    </tr>\n",
       "    <tr>\n",
       "      <th>6</th>\n",
       "      <td>75%</td>\n",
       "      <td>45.000000</td>\n",
       "      <td>42.000000</td>\n",
       "      <td>50.000000</td>\n",
       "      <td>50.250000</td>\n",
       "    </tr>\n",
       "    <tr>\n",
       "      <th>7</th>\n",
       "      <td>max</td>\n",
       "      <td>92.000000</td>\n",
       "      <td>92.000000</td>\n",
       "      <td>77.000000</td>\n",
       "      <td>68.000000</td>\n",
       "    </tr>\n",
       "  </tbody>\n",
       "</table>\n",
       "</div>"
      ],
      "text/plain": [
       "     var  Число пр-в 1            2           3          4\n",
       "0  count   5084.000000  4590.000000  266.000000  60.000000\n",
       "1   mean     39.673092    37.753595   43.195489  45.683333\n",
       "2    std     10.659566    10.145663   10.422008   8.619040\n",
       "3    min     18.000000    18.000000   21.000000  29.000000\n",
       "4    25%     32.000000    31.000000   36.000000  40.000000\n",
       "5    50%     38.000000    36.000000   42.000000  45.000000\n",
       "6    75%     45.000000    42.000000   50.000000  50.250000\n",
       "7    max     92.000000    92.000000   77.000000  68.000000"
      ]
     },
     "metadata": {},
     "output_type": "display_data"
    },
    {
     "name": "stdout",
     "output_type": "stream",
     "text": [
      "------------------------------------------------------------------------------------------------------------------------\n",
      "Objects\n"
     ]
    },
    {
     "data": {
      "image/png": "[encoded data removed]",
      "text/plain": [
       "<Figure size 1296x360 with 4 Axes>"
      ]
     },
     "metadata": {},
     "output_type": "display_data"
    },
    {
     "data": {
      "text/html": [
       "<div>\n",
       "<style scoped>\n",
       "    .dataframe tbody tr th:only-of-type {\n",
       "        vertical-align: middle;\n",
       "    }\n",
       "\n",
       "    .dataframe tbody tr th {\n",
       "        vertical-align: top;\n",
       "    }\n",
       "\n",
       "    .dataframe thead th {\n",
       "        text-align: right;\n",
       "    }\n",
       "</style>\n",
       "<table border=\"1\" class=\"dataframe\">\n",
       "  <thead>\n",
       "    <tr style=\"text-align: right;\">\n",
       "      <th></th>\n",
       "      <th>var</th>\n",
       "      <th>Число пр-в 1</th>\n",
       "      <th>2</th>\n",
       "      <th>3</th>\n",
       "      <th>4</th>\n",
       "    </tr>\n",
       "  </thead>\n",
       "  <tbody>\n",
       "    <tr>\n",
       "      <th>0</th>\n",
       "      <td>count</td>\n",
       "      <td>5084.000000</td>\n",
       "      <td>4590.000000</td>\n",
       "      <td>266.000000</td>\n",
       "      <td>60.000000</td>\n",
       "    </tr>\n",
       "    <tr>\n",
       "      <th>1</th>\n",
       "      <td>mean</td>\n",
       "      <td>4.974626</td>\n",
       "      <td>5.051852</td>\n",
       "      <td>5.003759</td>\n",
       "      <td>5.300000</td>\n",
       "    </tr>\n",
       "    <tr>\n",
       "      <th>2</th>\n",
       "      <td>std</td>\n",
       "      <td>2.914269</td>\n",
       "      <td>2.867741</td>\n",
       "      <td>2.879332</td>\n",
       "      <td>2.947564</td>\n",
       "    </tr>\n",
       "    <tr>\n",
       "      <th>3</th>\n",
       "      <td>min</td>\n",
       "      <td>0.000000</td>\n",
       "      <td>0.000000</td>\n",
       "      <td>0.000000</td>\n",
       "      <td>1.000000</td>\n",
       "    </tr>\n",
       "    <tr>\n",
       "      <th>4</th>\n",
       "      <td>25%</td>\n",
       "      <td>2.000000</td>\n",
       "      <td>3.000000</td>\n",
       "      <td>3.000000</td>\n",
       "      <td>2.750000</td>\n",
       "    </tr>\n",
       "    <tr>\n",
       "      <th>5</th>\n",
       "      <td>50%</td>\n",
       "      <td>5.000000</td>\n",
       "      <td>5.000000</td>\n",
       "      <td>5.000000</td>\n",
       "      <td>5.000000</td>\n",
       "    </tr>\n",
       "    <tr>\n",
       "      <th>6</th>\n",
       "      <td>75%</td>\n",
       "      <td>7.000000</td>\n",
       "      <td>7.000000</td>\n",
       "      <td>8.000000</td>\n",
       "      <td>8.000000</td>\n",
       "    </tr>\n",
       "    <tr>\n",
       "      <th>7</th>\n",
       "      <td>max</td>\n",
       "      <td>10.000000</td>\n",
       "      <td>10.000000</td>\n",
       "      <td>10.000000</td>\n",
       "      <td>10.000000</td>\n",
       "    </tr>\n",
       "  </tbody>\n",
       "</table>\n",
       "</div>"
      ],
      "text/plain": [
       "     var  Число пр-в 1            2           3          4\n",
       "0  count   5084.000000  4590.000000  266.000000  60.000000\n",
       "1   mean      4.974626     5.051852    5.003759   5.300000\n",
       "2    std      2.914269     2.867741    2.879332   2.947564\n",
       "3    min      0.000000     0.000000    0.000000   1.000000\n",
       "4    25%      2.000000     3.000000    3.000000   2.750000\n",
       "5    50%      5.000000     5.000000    5.000000   5.000000\n",
       "6    75%      7.000000     7.000000    8.000000   8.000000\n",
       "7    max     10.000000    10.000000   10.000000  10.000000"
      ]
     },
     "metadata": {},
     "output_type": "display_data"
    },
    {
     "name": "stdout",
     "output_type": "stream",
     "text": [
      "------------------------------------------------------------------------------------------------------------------------\n",
      "Balance\n"
     ]
    },
    {
     "data": {
      "image/png": "[encoded data removed]",
      "text/plain": [
       "<Figure size 1296x360 with 4 Axes>"
      ]
     },
     "metadata": {},
     "output_type": "display_data"
    },
    {
     "data": {
      "text/html": [
       "<div>\n",
       "<style scoped>\n",
       "    .dataframe tbody tr th:only-of-type {\n",
       "        vertical-align: middle;\n",
       "    }\n",
       "\n",
       "    .dataframe tbody tr th {\n",
       "        vertical-align: top;\n",
       "    }\n",
       "\n",
       "    .dataframe thead th {\n",
       "        text-align: right;\n",
       "    }\n",
       "</style>\n",
       "<table border=\"1\" class=\"dataframe\">\n",
       "  <thead>\n",
       "    <tr style=\"text-align: right;\">\n",
       "      <th></th>\n",
       "      <th>var</th>\n",
       "      <th>Число пр-в 1</th>\n",
       "      <th>2</th>\n",
       "      <th>3</th>\n",
       "      <th>4</th>\n",
       "    </tr>\n",
       "  </thead>\n",
       "  <tbody>\n",
       "    <tr>\n",
       "      <th>0</th>\n",
       "      <td>count</td>\n",
       "      <td>5084.000000</td>\n",
       "      <td>4590.000000</td>\n",
       "      <td>266.000000</td>\n",
       "      <td>60.00000</td>\n",
       "    </tr>\n",
       "    <tr>\n",
       "      <th>1</th>\n",
       "      <td>mean</td>\n",
       "      <td>98551.870614</td>\n",
       "      <td>51879.145813</td>\n",
       "      <td>75458.328195</td>\n",
       "      <td>93733.13500</td>\n",
       "    </tr>\n",
       "    <tr>\n",
       "      <th>2</th>\n",
       "      <td>std</td>\n",
       "      <td>53234.092790</td>\n",
       "      <td>62644.474506</td>\n",
       "      <td>62924.623833</td>\n",
       "      <td>57507.38375</td>\n",
       "    </tr>\n",
       "    <tr>\n",
       "      <th>3</th>\n",
       "      <td>min</td>\n",
       "      <td>0.000000</td>\n",
       "      <td>0.000000</td>\n",
       "      <td>0.000000</td>\n",
       "      <td>0.00000</td>\n",
       "    </tr>\n",
       "    <tr>\n",
       "      <th>4</th>\n",
       "      <td>25%</td>\n",
       "      <td>79700.722500</td>\n",
       "      <td>0.000000</td>\n",
       "      <td>0.000000</td>\n",
       "      <td>65787.32000</td>\n",
       "    </tr>\n",
       "    <tr>\n",
       "      <th>5</th>\n",
       "      <td>50%</td>\n",
       "      <td>111886.035000</td>\n",
       "      <td>0.000000</td>\n",
       "      <td>95973.935000</td>\n",
       "      <td>116808.19500</td>\n",
       "    </tr>\n",
       "    <tr>\n",
       "      <th>6</th>\n",
       "      <td>75%</td>\n",
       "      <td>134596.312500</td>\n",
       "      <td>113593.457500</td>\n",
       "      <td>127522.350000</td>\n",
       "      <td>131589.51250</td>\n",
       "    </tr>\n",
       "    <tr>\n",
       "      <th>7</th>\n",
       "      <td>max</td>\n",
       "      <td>238387.560000</td>\n",
       "      <td>214346.960000</td>\n",
       "      <td>250898.090000</td>\n",
       "      <td>195238.29000</td>\n",
       "    </tr>\n",
       "  </tbody>\n",
       "</table>\n",
       "</div>"
      ],
      "text/plain": [
       "     var   Число пр-в 1              2              3             4\n",
       "0  count    5084.000000    4590.000000     266.000000      60.00000\n",
       "1   mean   98551.870614   51879.145813   75458.328195   93733.13500\n",
       "2    std   53234.092790   62644.474506   62924.623833   57507.38375\n",
       "3    min       0.000000       0.000000       0.000000       0.00000\n",
       "4    25%   79700.722500       0.000000       0.000000   65787.32000\n",
       "5    50%  111886.035000       0.000000   95973.935000  116808.19500\n",
       "6    75%  134596.312500  113593.457500  127522.350000  131589.51250\n",
       "7    max  238387.560000  214346.960000  250898.090000  195238.29000"
      ]
     },
     "metadata": {},
     "output_type": "display_data"
    },
    {
     "name": "stdout",
     "output_type": "stream",
     "text": [
      "------------------------------------------------------------------------------------------------------------------------\n",
      "CreditCard\n"
     ]
    },
    {
     "data": {
      "image/png": "[encoded data removed]",
      "text/plain": [
       "<Figure size 1296x360 with 4 Axes>"
      ]
     },
     "metadata": {},
     "output_type": "display_data"
    },
    {
     "data": {
      "text/html": [
       "<div>\n",
       "<style scoped>\n",
       "    .dataframe tbody tr th:only-of-type {\n",
       "        vertical-align: middle;\n",
       "    }\n",
       "\n",
       "    .dataframe tbody tr th {\n",
       "        vertical-align: top;\n",
       "    }\n",
       "\n",
       "    .dataframe thead th {\n",
       "        text-align: right;\n",
       "    }\n",
       "</style>\n",
       "<table border=\"1\" class=\"dataframe\">\n",
       "  <thead>\n",
       "    <tr style=\"text-align: right;\">\n",
       "      <th></th>\n",
       "      <th>var</th>\n",
       "      <th>Число пр-в 1</th>\n",
       "      <th>2</th>\n",
       "      <th>3</th>\n",
       "      <th>4</th>\n",
       "    </tr>\n",
       "  </thead>\n",
       "  <tbody>\n",
       "    <tr>\n",
       "      <th>0</th>\n",
       "      <td>count</td>\n",
       "      <td>5084.000000</td>\n",
       "      <td>4590.000000</td>\n",
       "      <td>266.000000</td>\n",
       "      <td>60.000000</td>\n",
       "    </tr>\n",
       "    <tr>\n",
       "      <th>1</th>\n",
       "      <td>mean</td>\n",
       "      <td>0.703777</td>\n",
       "      <td>0.707190</td>\n",
       "      <td>0.714286</td>\n",
       "      <td>0.683333</td>\n",
       "    </tr>\n",
       "    <tr>\n",
       "      <th>2</th>\n",
       "      <td>std</td>\n",
       "      <td>0.456636</td>\n",
       "      <td>0.455102</td>\n",
       "      <td>0.452606</td>\n",
       "      <td>0.469102</td>\n",
       "    </tr>\n",
       "    <tr>\n",
       "      <th>3</th>\n",
       "      <td>min</td>\n",
       "      <td>0.000000</td>\n",
       "      <td>0.000000</td>\n",
       "      <td>0.000000</td>\n",
       "      <td>0.000000</td>\n",
       "    </tr>\n",
       "    <tr>\n",
       "      <th>4</th>\n",
       "      <td>25%</td>\n",
       "      <td>0.000000</td>\n",
       "      <td>0.000000</td>\n",
       "      <td>0.000000</td>\n",
       "      <td>0.000000</td>\n",
       "    </tr>\n",
       "    <tr>\n",
       "      <th>5</th>\n",
       "      <td>50%</td>\n",
       "      <td>1.000000</td>\n",
       "      <td>1.000000</td>\n",
       "      <td>1.000000</td>\n",
       "      <td>1.000000</td>\n",
       "    </tr>\n",
       "    <tr>\n",
       "      <th>6</th>\n",
       "      <td>75%</td>\n",
       "      <td>1.000000</td>\n",
       "      <td>1.000000</td>\n",
       "      <td>1.000000</td>\n",
       "      <td>1.000000</td>\n",
       "    </tr>\n",
       "    <tr>\n",
       "      <th>7</th>\n",
       "      <td>max</td>\n",
       "      <td>1.000000</td>\n",
       "      <td>1.000000</td>\n",
       "      <td>1.000000</td>\n",
       "      <td>1.000000</td>\n",
       "    </tr>\n",
       "  </tbody>\n",
       "</table>\n",
       "</div>"
      ],
      "text/plain": [
       "     var  Число пр-в 1            2           3          4\n",
       "0  count   5084.000000  4590.000000  266.000000  60.000000\n",
       "1   mean      0.703777     0.707190    0.714286   0.683333\n",
       "2    std      0.456636     0.455102    0.452606   0.469102\n",
       "3    min      0.000000     0.000000    0.000000   0.000000\n",
       "4    25%      0.000000     0.000000    0.000000   0.000000\n",
       "5    50%      1.000000     1.000000    1.000000   1.000000\n",
       "6    75%      1.000000     1.000000    1.000000   1.000000\n",
       "7    max      1.000000     1.000000    1.000000   1.000000"
      ]
     },
     "metadata": {},
     "output_type": "display_data"
    },
    {
     "name": "stdout",
     "output_type": "stream",
     "text": [
      "------------------------------------------------------------------------------------------------------------------------\n",
      "Loyalty\n"
     ]
    },
    {
     "data": {
      "image/png": "[encoded data removed]",
      "text/plain": [
       "<Figure size 1296x360 with 4 Axes>"
      ]
     },
     "metadata": {},
     "output_type": "display_data"
    },
    {
     "data": {
      "text/html": [
       "<div>\n",
       "<style scoped>\n",
       "    .dataframe tbody tr th:only-of-type {\n",
       "        vertical-align: middle;\n",
       "    }\n",
       "\n",
       "    .dataframe tbody tr th {\n",
       "        vertical-align: top;\n",
       "    }\n",
       "\n",
       "    .dataframe thead th {\n",
       "        text-align: right;\n",
       "    }\n",
       "</style>\n",
       "<table border=\"1\" class=\"dataframe\">\n",
       "  <thead>\n",
       "    <tr style=\"text-align: right;\">\n",
       "      <th></th>\n",
       "      <th>var</th>\n",
       "      <th>Число пр-в 1</th>\n",
       "      <th>2</th>\n",
       "      <th>3</th>\n",
       "      <th>4</th>\n",
       "    </tr>\n",
       "  </thead>\n",
       "  <tbody>\n",
       "    <tr>\n",
       "      <th>0</th>\n",
       "      <td>count</td>\n",
       "      <td>5084.000000</td>\n",
       "      <td>4590.000000</td>\n",
       "      <td>266.000000</td>\n",
       "      <td>60.000000</td>\n",
       "    </tr>\n",
       "    <tr>\n",
       "      <th>1</th>\n",
       "      <td>mean</td>\n",
       "      <td>0.504131</td>\n",
       "      <td>0.532898</td>\n",
       "      <td>0.424812</td>\n",
       "      <td>0.483333</td>\n",
       "    </tr>\n",
       "    <tr>\n",
       "      <th>2</th>\n",
       "      <td>std</td>\n",
       "      <td>0.500032</td>\n",
       "      <td>0.498971</td>\n",
       "      <td>0.495246</td>\n",
       "      <td>0.503939</td>\n",
       "    </tr>\n",
       "    <tr>\n",
       "      <th>3</th>\n",
       "      <td>min</td>\n",
       "      <td>0.000000</td>\n",
       "      <td>0.000000</td>\n",
       "      <td>0.000000</td>\n",
       "      <td>0.000000</td>\n",
       "    </tr>\n",
       "    <tr>\n",
       "      <th>4</th>\n",
       "      <td>25%</td>\n",
       "      <td>0.000000</td>\n",
       "      <td>0.000000</td>\n",
       "      <td>0.000000</td>\n",
       "      <td>0.000000</td>\n",
       "    </tr>\n",
       "    <tr>\n",
       "      <th>5</th>\n",
       "      <td>50%</td>\n",
       "      <td>1.000000</td>\n",
       "      <td>1.000000</td>\n",
       "      <td>0.000000</td>\n",
       "      <td>0.000000</td>\n",
       "    </tr>\n",
       "    <tr>\n",
       "      <th>6</th>\n",
       "      <td>75%</td>\n",
       "      <td>1.000000</td>\n",
       "      <td>1.000000</td>\n",
       "      <td>1.000000</td>\n",
       "      <td>1.000000</td>\n",
       "    </tr>\n",
       "    <tr>\n",
       "      <th>7</th>\n",
       "      <td>max</td>\n",
       "      <td>1.000000</td>\n",
       "      <td>1.000000</td>\n",
       "      <td>1.000000</td>\n",
       "      <td>1.000000</td>\n",
       "    </tr>\n",
       "  </tbody>\n",
       "</table>\n",
       "</div>"
      ],
      "text/plain": [
       "     var  Число пр-в 1            2           3          4\n",
       "0  count   5084.000000  4590.000000  266.000000  60.000000\n",
       "1   mean      0.504131     0.532898    0.424812   0.483333\n",
       "2    std      0.500032     0.498971    0.495246   0.503939\n",
       "3    min      0.000000     0.000000    0.000000   0.000000\n",
       "4    25%      0.000000     0.000000    0.000000   0.000000\n",
       "5    50%      1.000000     1.000000    0.000000   0.000000\n",
       "6    75%      1.000000     1.000000    1.000000   1.000000\n",
       "7    max      1.000000     1.000000    1.000000   1.000000"
      ]
     },
     "metadata": {},
     "output_type": "display_data"
    },
    {
     "name": "stdout",
     "output_type": "stream",
     "text": [
      "------------------------------------------------------------------------------------------------------------------------\n",
      "estimated_salary\n"
     ]
    },
    {
     "data": {
      "image/png": "[encoded data removed]",
      "text/plain": [
       "<Figure size 1296x360 with 4 Axes>"
      ]
     },
     "metadata": {},
     "output_type": "display_data"
    },
    {
     "data": {
      "text/html": [
       "<div>\n",
       "<style scoped>\n",
       "    .dataframe tbody tr th:only-of-type {\n",
       "        vertical-align: middle;\n",
       "    }\n",
       "\n",
       "    .dataframe tbody tr th {\n",
       "        vertical-align: top;\n",
       "    }\n",
       "\n",
       "    .dataframe thead th {\n",
       "        text-align: right;\n",
       "    }\n",
       "</style>\n",
       "<table border=\"1\" class=\"dataframe\">\n",
       "  <thead>\n",
       "    <tr style=\"text-align: right;\">\n",
       "      <th></th>\n",
       "      <th>var</th>\n",
       "      <th>Число пр-в 1</th>\n",
       "      <th>2</th>\n",
       "      <th>3</th>\n",
       "      <th>4</th>\n",
       "    </tr>\n",
       "  </thead>\n",
       "  <tbody>\n",
       "    <tr>\n",
       "      <th>0</th>\n",
       "      <td>count</td>\n",
       "      <td>5084.000000</td>\n",
       "      <td>4590.000000</td>\n",
       "      <td>266.000000</td>\n",
       "      <td>60.000000</td>\n",
       "    </tr>\n",
       "    <tr>\n",
       "      <th>1</th>\n",
       "      <td>mean</td>\n",
       "      <td>99487.256851</td>\n",
       "      <td>100452.012821</td>\n",
       "      <td>104318.130564</td>\n",
       "      <td>104763.723333</td>\n",
       "    </tr>\n",
       "    <tr>\n",
       "      <th>2</th>\n",
       "      <td>std</td>\n",
       "      <td>57363.626412</td>\n",
       "      <td>57790.799984</td>\n",
       "      <td>55464.281426</td>\n",
       "      <td>57526.494114</td>\n",
       "    </tr>\n",
       "    <tr>\n",
       "      <th>3</th>\n",
       "      <td>min</td>\n",
       "      <td>11.580000</td>\n",
       "      <td>90.070000</td>\n",
       "      <td>3440.470000</td>\n",
       "      <td>5669.310000</td>\n",
       "    </tr>\n",
       "    <tr>\n",
       "      <th>4</th>\n",
       "      <td>25%</td>\n",
       "      <td>50414.515000</td>\n",
       "      <td>50797.287500</td>\n",
       "      <td>64344.800000</td>\n",
       "      <td>62033.390000</td>\n",
       "    </tr>\n",
       "    <tr>\n",
       "      <th>5</th>\n",
       "      <td>50%</td>\n",
       "      <td>99226.830000</td>\n",
       "      <td>100738.855000</td>\n",
       "      <td>101046.885000</td>\n",
       "      <td>112163.105000</td>\n",
       "    </tr>\n",
       "    <tr>\n",
       "      <th>6</th>\n",
       "      <td>75%</td>\n",
       "      <td>148212.695000</td>\n",
       "      <td>150151.460000</td>\n",
       "      <td>152230.195000</td>\n",
       "      <td>139371.955000</td>\n",
       "    </tr>\n",
       "    <tr>\n",
       "      <th>7</th>\n",
       "      <td>max</td>\n",
       "      <td>199970.740000</td>\n",
       "      <td>199992.480000</td>\n",
       "      <td>199357.240000</td>\n",
       "      <td>198874.520000</td>\n",
       "    </tr>\n",
       "  </tbody>\n",
       "</table>\n",
       "</div>"
      ],
      "text/plain": [
       "     var   Число пр-в 1              2              3              4\n",
       "0  count    5084.000000    4590.000000     266.000000      60.000000\n",
       "1   mean   99487.256851  100452.012821  104318.130564  104763.723333\n",
       "2    std   57363.626412   57790.799984   55464.281426   57526.494114\n",
       "3    min      11.580000      90.070000    3440.470000    5669.310000\n",
       "4    25%   50414.515000   50797.287500   64344.800000   62033.390000\n",
       "5    50%   99226.830000  100738.855000  101046.885000  112163.105000\n",
       "6    75%  148212.695000  150151.460000  152230.195000  139371.955000\n",
       "7    max  199970.740000  199992.480000  199357.240000  198874.520000"
      ]
     },
     "metadata": {},
     "output_type": "display_data"
    },
    {
     "name": "stdout",
     "output_type": "stream",
     "text": [
      "------------------------------------------------------------------------------------------------------------------------\n",
      "Churn\n"
     ]
    },
    {
     "data": {
      "image/png": "[encoded data removed]",
      "text/plain": [
       "<Figure size 1296x360 with 4 Axes>"
      ]
     },
     "metadata": {},
     "output_type": "display_data"
    },
    {
     "data": {
      "text/html": [
       "<div>\n",
       "<style scoped>\n",
       "    .dataframe tbody tr th:only-of-type {\n",
       "        vertical-align: middle;\n",
       "    }\n",
       "\n",
       "    .dataframe tbody tr th {\n",
       "        vertical-align: top;\n",
       "    }\n",
       "\n",
       "    .dataframe thead th {\n",
       "        text-align: right;\n",
       "    }\n",
       "</style>\n",
       "<table border=\"1\" class=\"dataframe\">\n",
       "  <thead>\n",
       "    <tr style=\"text-align: right;\">\n",
       "      <th></th>\n",
       "      <th>var</th>\n",
       "      <th>Число пр-в 1</th>\n",
       "      <th>2</th>\n",
       "      <th>3</th>\n",
       "      <th>4</th>\n",
       "    </tr>\n",
       "  </thead>\n",
       "  <tbody>\n",
       "    <tr>\n",
       "      <th>0</th>\n",
       "      <td>count</td>\n",
       "      <td>5084.000000</td>\n",
       "      <td>4590.000000</td>\n",
       "      <td>266.000000</td>\n",
       "      <td>60.0</td>\n",
       "    </tr>\n",
       "    <tr>\n",
       "      <th>1</th>\n",
       "      <td>mean</td>\n",
       "      <td>0.277144</td>\n",
       "      <td>0.075817</td>\n",
       "      <td>0.827068</td>\n",
       "      <td>1.0</td>\n",
       "    </tr>\n",
       "    <tr>\n",
       "      <th>2</th>\n",
       "      <td>std</td>\n",
       "      <td>0.447632</td>\n",
       "      <td>0.264734</td>\n",
       "      <td>0.378902</td>\n",
       "      <td>0.0</td>\n",
       "    </tr>\n",
       "    <tr>\n",
       "      <th>3</th>\n",
       "      <td>min</td>\n",
       "      <td>0.000000</td>\n",
       "      <td>0.000000</td>\n",
       "      <td>0.000000</td>\n",
       "      <td>1.0</td>\n",
       "    </tr>\n",
       "    <tr>\n",
       "      <th>4</th>\n",
       "      <td>25%</td>\n",
       "      <td>0.000000</td>\n",
       "      <td>0.000000</td>\n",
       "      <td>1.000000</td>\n",
       "      <td>1.0</td>\n",
       "    </tr>\n",
       "    <tr>\n",
       "      <th>5</th>\n",
       "      <td>50%</td>\n",
       "      <td>0.000000</td>\n",
       "      <td>0.000000</td>\n",
       "      <td>1.000000</td>\n",
       "      <td>1.0</td>\n",
       "    </tr>\n",
       "    <tr>\n",
       "      <th>6</th>\n",
       "      <td>75%</td>\n",
       "      <td>1.000000</td>\n",
       "      <td>0.000000</td>\n",
       "      <td>1.000000</td>\n",
       "      <td>1.0</td>\n",
       "    </tr>\n",
       "    <tr>\n",
       "      <th>7</th>\n",
       "      <td>max</td>\n",
       "      <td>1.000000</td>\n",
       "      <td>1.000000</td>\n",
       "      <td>1.000000</td>\n",
       "      <td>1.0</td>\n",
       "    </tr>\n",
       "  </tbody>\n",
       "</table>\n",
       "</div>"
      ],
      "text/plain": [
       "     var  Число пр-в 1            2           3     4\n",
       "0  count   5084.000000  4590.000000  266.000000  60.0\n",
       "1   mean      0.277144     0.075817    0.827068   1.0\n",
       "2    std      0.447632     0.264734    0.378902   0.0\n",
       "3    min      0.000000     0.000000    0.000000   1.0\n",
       "4    25%      0.000000     0.000000    1.000000   1.0\n",
       "5    50%      0.000000     0.000000    1.000000   1.0\n",
       "6    75%      1.000000     0.000000    1.000000   1.0\n",
       "7    max      1.000000     1.000000    1.000000   1.0"
      ]
     },
     "metadata": {},
     "output_type": "display_data"
    },
    {
     "name": "stdout",
     "output_type": "stream",
     "text": [
      "------------------------------------------------------------------------------------------------------------------------\n",
      "City_Ростов_Великий\n"
     ]
    },
    {
     "data": {
      "image/png": "[encoded data removed]",
      "text/plain": [
       "<Figure size 1296x360 with 4 Axes>"
      ]
     },
     "metadata": {},
     "output_type": "display_data"
    },
    {
     "data": {
      "text/html": [
       "<div>\n",
       "<style scoped>\n",
       "    .dataframe tbody tr th:only-of-type {\n",
       "        vertical-align: middle;\n",
       "    }\n",
       "\n",
       "    .dataframe tbody tr th {\n",
       "        vertical-align: top;\n",
       "    }\n",
       "\n",
       "    .dataframe thead th {\n",
       "        text-align: right;\n",
       "    }\n",
       "</style>\n",
       "<table border=\"1\" class=\"dataframe\">\n",
       "  <thead>\n",
       "    <tr style=\"text-align: right;\">\n",
       "      <th></th>\n",
       "      <th>var</th>\n",
       "      <th>Число пр-в 1</th>\n",
       "      <th>2</th>\n",
       "      <th>3</th>\n",
       "      <th>4</th>\n",
       "    </tr>\n",
       "  </thead>\n",
       "  <tbody>\n",
       "    <tr>\n",
       "      <th>0</th>\n",
       "      <td>count</td>\n",
       "      <td>5084.000000</td>\n",
       "      <td>4590.000000</td>\n",
       "      <td>266.000000</td>\n",
       "      <td>60.000000</td>\n",
       "    </tr>\n",
       "    <tr>\n",
       "      <th>1</th>\n",
       "      <td>mean</td>\n",
       "      <td>0.265342</td>\n",
       "      <td>0.226580</td>\n",
       "      <td>0.360902</td>\n",
       "      <td>0.400000</td>\n",
       "    </tr>\n",
       "    <tr>\n",
       "      <th>2</th>\n",
       "      <td>std</td>\n",
       "      <td>0.441559</td>\n",
       "      <td>0.418664</td>\n",
       "      <td>0.481168</td>\n",
       "      <td>0.494032</td>\n",
       "    </tr>\n",
       "    <tr>\n",
       "      <th>3</th>\n",
       "      <td>min</td>\n",
       "      <td>0.000000</td>\n",
       "      <td>0.000000</td>\n",
       "      <td>0.000000</td>\n",
       "      <td>0.000000</td>\n",
       "    </tr>\n",
       "    <tr>\n",
       "      <th>4</th>\n",
       "      <td>25%</td>\n",
       "      <td>0.000000</td>\n",
       "      <td>0.000000</td>\n",
       "      <td>0.000000</td>\n",
       "      <td>0.000000</td>\n",
       "    </tr>\n",
       "    <tr>\n",
       "      <th>5</th>\n",
       "      <td>50%</td>\n",
       "      <td>0.000000</td>\n",
       "      <td>0.000000</td>\n",
       "      <td>0.000000</td>\n",
       "      <td>0.000000</td>\n",
       "    </tr>\n",
       "    <tr>\n",
       "      <th>6</th>\n",
       "      <td>75%</td>\n",
       "      <td>1.000000</td>\n",
       "      <td>0.000000</td>\n",
       "      <td>1.000000</td>\n",
       "      <td>1.000000</td>\n",
       "    </tr>\n",
       "    <tr>\n",
       "      <th>7</th>\n",
       "      <td>max</td>\n",
       "      <td>1.000000</td>\n",
       "      <td>1.000000</td>\n",
       "      <td>1.000000</td>\n",
       "      <td>1.000000</td>\n",
       "    </tr>\n",
       "  </tbody>\n",
       "</table>\n",
       "</div>"
      ],
      "text/plain": [
       "     var  Число пр-в 1            2           3          4\n",
       "0  count   5084.000000  4590.000000  266.000000  60.000000\n",
       "1   mean      0.265342     0.226580    0.360902   0.400000\n",
       "2    std      0.441559     0.418664    0.481168   0.494032\n",
       "3    min      0.000000     0.000000    0.000000   0.000000\n",
       "4    25%      0.000000     0.000000    0.000000   0.000000\n",
       "5    50%      0.000000     0.000000    0.000000   0.000000\n",
       "6    75%      1.000000     0.000000    1.000000   1.000000\n",
       "7    max      1.000000     1.000000    1.000000   1.000000"
      ]
     },
     "metadata": {},
     "output_type": "display_data"
    },
    {
     "name": "stdout",
     "output_type": "stream",
     "text": [
      "------------------------------------------------------------------------------------------------------------------------\n",
      "City_Рыбинск\n"
     ]
    },
    {
     "data": {
      "image/png": "[encoded data removed]",
      "text/plain": [
       "<Figure size 1296x360 with 4 Axes>"
      ]
     },
     "metadata": {},
     "output_type": "display_data"
    },
    {
     "data": {
      "text/html": [
       "<div>\n",
       "<style scoped>\n",
       "    .dataframe tbody tr th:only-of-type {\n",
       "        vertical-align: middle;\n",
       "    }\n",
       "\n",
       "    .dataframe tbody tr th {\n",
       "        vertical-align: top;\n",
       "    }\n",
       "\n",
       "    .dataframe thead th {\n",
       "        text-align: right;\n",
       "    }\n",
       "</style>\n",
       "<table border=\"1\" class=\"dataframe\">\n",
       "  <thead>\n",
       "    <tr style=\"text-align: right;\">\n",
       "      <th></th>\n",
       "      <th>var</th>\n",
       "      <th>Число пр-в 1</th>\n",
       "      <th>2</th>\n",
       "      <th>3</th>\n",
       "      <th>4</th>\n",
       "    </tr>\n",
       "  </thead>\n",
       "  <tbody>\n",
       "    <tr>\n",
       "      <th>0</th>\n",
       "      <td>count</td>\n",
       "      <td>5084.000000</td>\n",
       "      <td>4590.000000</td>\n",
       "      <td>266.000000</td>\n",
       "      <td>60.000000</td>\n",
       "    </tr>\n",
       "    <tr>\n",
       "      <th>1</th>\n",
       "      <td>mean</td>\n",
       "      <td>0.240165</td>\n",
       "      <td>0.257734</td>\n",
       "      <td>0.248120</td>\n",
       "      <td>0.116667</td>\n",
       "    </tr>\n",
       "    <tr>\n",
       "      <th>2</th>\n",
       "      <td>std</td>\n",
       "      <td>0.427226</td>\n",
       "      <td>0.437435</td>\n",
       "      <td>0.432736</td>\n",
       "      <td>0.323732</td>\n",
       "    </tr>\n",
       "    <tr>\n",
       "      <th>3</th>\n",
       "      <td>min</td>\n",
       "      <td>0.000000</td>\n",
       "      <td>0.000000</td>\n",
       "      <td>0.000000</td>\n",
       "      <td>0.000000</td>\n",
       "    </tr>\n",
       "    <tr>\n",
       "      <th>4</th>\n",
       "      <td>25%</td>\n",
       "      <td>0.000000</td>\n",
       "      <td>0.000000</td>\n",
       "      <td>0.000000</td>\n",
       "      <td>0.000000</td>\n",
       "    </tr>\n",
       "    <tr>\n",
       "      <th>5</th>\n",
       "      <td>50%</td>\n",
       "      <td>0.000000</td>\n",
       "      <td>0.000000</td>\n",
       "      <td>0.000000</td>\n",
       "      <td>0.000000</td>\n",
       "    </tr>\n",
       "    <tr>\n",
       "      <th>6</th>\n",
       "      <td>75%</td>\n",
       "      <td>0.000000</td>\n",
       "      <td>1.000000</td>\n",
       "      <td>0.000000</td>\n",
       "      <td>0.000000</td>\n",
       "    </tr>\n",
       "    <tr>\n",
       "      <th>7</th>\n",
       "      <td>max</td>\n",
       "      <td>1.000000</td>\n",
       "      <td>1.000000</td>\n",
       "      <td>1.000000</td>\n",
       "      <td>1.000000</td>\n",
       "    </tr>\n",
       "  </tbody>\n",
       "</table>\n",
       "</div>"
      ],
      "text/plain": [
       "     var  Число пр-в 1            2           3          4\n",
       "0  count   5084.000000  4590.000000  266.000000  60.000000\n",
       "1   mean      0.240165     0.257734    0.248120   0.116667\n",
       "2    std      0.427226     0.437435    0.432736   0.323732\n",
       "3    min      0.000000     0.000000    0.000000   0.000000\n",
       "4    25%      0.000000     0.000000    0.000000   0.000000\n",
       "5    50%      0.000000     0.000000    0.000000   0.000000\n",
       "6    75%      0.000000     1.000000    0.000000   0.000000\n",
       "7    max      1.000000     1.000000    1.000000   1.000000"
      ]
     },
     "metadata": {},
     "output_type": "display_data"
    },
    {
     "name": "stdout",
     "output_type": "stream",
     "text": [
      "------------------------------------------------------------------------------------------------------------------------\n",
      "City_Ярославль\n"
     ]
    },
    {
     "data": {
      "image/png": "[encoded data removed]",
      "text/plain": [
       "<Figure size 1296x360 with 4 Axes>"
      ]
     },
     "metadata": {},
     "output_type": "display_data"
    },
    {
     "data": {
      "text/html": [
       "<div>\n",
       "<style scoped>\n",
       "    .dataframe tbody tr th:only-of-type {\n",
       "        vertical-align: middle;\n",
       "    }\n",
       "\n",
       "    .dataframe tbody tr th {\n",
       "        vertical-align: top;\n",
       "    }\n",
       "\n",
       "    .dataframe thead th {\n",
       "        text-align: right;\n",
       "    }\n",
       "</style>\n",
       "<table border=\"1\" class=\"dataframe\">\n",
       "  <thead>\n",
       "    <tr style=\"text-align: right;\">\n",
       "      <th></th>\n",
       "      <th>var</th>\n",
       "      <th>Число пр-в 1</th>\n",
       "      <th>2</th>\n",
       "      <th>3</th>\n",
       "      <th>4</th>\n",
       "    </tr>\n",
       "  </thead>\n",
       "  <tbody>\n",
       "    <tr>\n",
       "      <th>0</th>\n",
       "      <td>count</td>\n",
       "      <td>5084.000000</td>\n",
       "      <td>4590.000000</td>\n",
       "      <td>266.000000</td>\n",
       "      <td>60.000000</td>\n",
       "    </tr>\n",
       "    <tr>\n",
       "      <th>1</th>\n",
       "      <td>mean</td>\n",
       "      <td>0.494493</td>\n",
       "      <td>0.515686</td>\n",
       "      <td>0.390977</td>\n",
       "      <td>0.483333</td>\n",
       "    </tr>\n",
       "    <tr>\n",
       "      <th>2</th>\n",
       "      <td>std</td>\n",
       "      <td>0.500019</td>\n",
       "      <td>0.499808</td>\n",
       "      <td>0.488889</td>\n",
       "      <td>0.503939</td>\n",
       "    </tr>\n",
       "    <tr>\n",
       "      <th>3</th>\n",
       "      <td>min</td>\n",
       "      <td>0.000000</td>\n",
       "      <td>0.000000</td>\n",
       "      <td>0.000000</td>\n",
       "      <td>0.000000</td>\n",
       "    </tr>\n",
       "    <tr>\n",
       "      <th>4</th>\n",
       "      <td>25%</td>\n",
       "      <td>0.000000</td>\n",
       "      <td>0.000000</td>\n",
       "      <td>0.000000</td>\n",
       "      <td>0.000000</td>\n",
       "    </tr>\n",
       "    <tr>\n",
       "      <th>5</th>\n",
       "      <td>50%</td>\n",
       "      <td>0.000000</td>\n",
       "      <td>1.000000</td>\n",
       "      <td>0.000000</td>\n",
       "      <td>0.000000</td>\n",
       "    </tr>\n",
       "    <tr>\n",
       "      <th>6</th>\n",
       "      <td>75%</td>\n",
       "      <td>1.000000</td>\n",
       "      <td>1.000000</td>\n",
       "      <td>1.000000</td>\n",
       "      <td>1.000000</td>\n",
       "    </tr>\n",
       "    <tr>\n",
       "      <th>7</th>\n",
       "      <td>max</td>\n",
       "      <td>1.000000</td>\n",
       "      <td>1.000000</td>\n",
       "      <td>1.000000</td>\n",
       "      <td>1.000000</td>\n",
       "    </tr>\n",
       "  </tbody>\n",
       "</table>\n",
       "</div>"
      ],
      "text/plain": [
       "     var  Число пр-в 1            2           3          4\n",
       "0  count   5084.000000  4590.000000  266.000000  60.000000\n",
       "1   mean      0.494493     0.515686    0.390977   0.483333\n",
       "2    std      0.500019     0.499808    0.488889   0.503939\n",
       "3    min      0.000000     0.000000    0.000000   0.000000\n",
       "4    25%      0.000000     0.000000    0.000000   0.000000\n",
       "5    50%      0.000000     1.000000    0.000000   0.000000\n",
       "6    75%      1.000000     1.000000    1.000000   1.000000\n",
       "7    max      1.000000     1.000000    1.000000   1.000000"
      ]
     },
     "metadata": {},
     "output_type": "display_data"
    },
    {
     "name": "stdout",
     "output_type": "stream",
     "text": [
      "------------------------------------------------------------------------------------------------------------------------\n"
     ]
    }
   ],
   "source": [
    "for col in df_c.drop(columns=['userid', 'Products']).columns:\n",
    "    desc_df = pd.DataFrame()\n",
    "    plt.figure(figsize=[18, 5])\n",
    "    print(col)\n",
    "    tt = True\n",
    "    for gr in df_c.Products.sort_values().unique():\n",
    "        desc_df = (df_c.query('Products == @gr')[col].describe().reset_index().rename(columns={'index': 'var', col: f'Число пр-в {gr}'}) \n",
    "                   if desc_df.empty else \n",
    "                   desc_df.merge(df_c.query('Products == @gr')[col].describe().reset_index().rename(columns={'index': 'var', col: gr}), on='var'))\n",
    "        plt.subplot(1, 4, gr)\n",
    "        if col in binary_cols:\n",
    "            if col != 'Churn':\n",
    "                sns.barplot(data = df_c.query('Products == @gr').groupby([col, 'Churn']).userid.count().reset_index(), x=col, y='userid')\n",
    "            else:\n",
    "                try: plt.pie(df_c.query('Products == @gr').groupby(col).userid.count(), labels=['Клиенты', 'Ушедшие'], autopct='%.0f%%', explode=[0, 0.1])\n",
    "                except: plt.pie(df_c.query('Products == @gr').groupby(col).userid.count(), labels=['Ушедшие'], autopct='%.0f%%')\n",
    "        else:\n",
    "            sns.histplot(data = df_c.query('Products == @gr'), x = col)\n",
    "        plt.xlabel(f'Число продуктов {gr}')\n",
    "        if tt and col != 'Churn': \n",
    "            plt.ylabel('Кол-во клиентов')\n",
    "            tt = False\n",
    "        else: plt.ylabel('')\n",
    "    plt.show()\n",
    "    display(desc_df)\n",
    "    print(120*'-')"
   ]
  },
  {
   "cell_type": "markdown",
   "metadata": {},
   "source": [
    "Взглянем на среднее призанков в разрезе полученных сегментов."
   ]
  },
  {
   "cell_type": "code",
   "execution_count": 34,
   "metadata": {},
   "outputs": [
    {
     "data": {
      "text/html": [
       "<div>\n",
       "<style scoped>\n",
       "    .dataframe tbody tr th:only-of-type {\n",
       "        vertical-align: middle;\n",
       "    }\n",
       "\n",
       "    .dataframe tbody tr th {\n",
       "        vertical-align: top;\n",
       "    }\n",
       "\n",
       "    .dataframe thead th {\n",
       "        text-align: right;\n",
       "    }\n",
       "</style>\n",
       "<table border=\"1\" class=\"dataframe\">\n",
       "  <thead>\n",
       "    <tr style=\"text-align: right;\">\n",
       "      <th></th>\n",
       "      <th>Products</th>\n",
       "      <th>1</th>\n",
       "      <th>2</th>\n",
       "      <th>3</th>\n",
       "      <th>4</th>\n",
       "    </tr>\n",
       "  </thead>\n",
       "  <tbody>\n",
       "    <tr>\n",
       "      <th rowspan=\"2\" valign=\"top\">userid</th>\n",
       "      <th>mean</th>\n",
       "      <td>15732367.90</td>\n",
       "      <td>15734841.49</td>\n",
       "      <td>15741816.49</td>\n",
       "      <td>15719361.27</td>\n",
       "    </tr>\n",
       "    <tr>\n",
       "      <th>median</th>\n",
       "      <td>15732061.00</td>\n",
       "      <td>15735775.50</td>\n",
       "      <td>15744380.50</td>\n",
       "      <td>15707754.50</td>\n",
       "    </tr>\n",
       "    <tr>\n",
       "      <th rowspan=\"2\" valign=\"top\">score</th>\n",
       "      <th>mean</th>\n",
       "      <td>649.12</td>\n",
       "      <td>652.19</td>\n",
       "      <td>648.11</td>\n",
       "      <td>653.58</td>\n",
       "    </tr>\n",
       "    <tr>\n",
       "      <th>median</th>\n",
       "      <td>651.00</td>\n",
       "      <td>653.00</td>\n",
       "      <td>650.00</td>\n",
       "      <td>643.00</td>\n",
       "    </tr>\n",
       "    <tr>\n",
       "      <th rowspan=\"2\" valign=\"top\">Gender</th>\n",
       "      <th>mean</th>\n",
       "      <td>0.45</td>\n",
       "      <td>0.45</td>\n",
       "      <td>0.56</td>\n",
       "      <td>0.63</td>\n",
       "    </tr>\n",
       "    <tr>\n",
       "      <th>median</th>\n",
       "      <td>0.00</td>\n",
       "      <td>0.00</td>\n",
       "      <td>1.00</td>\n",
       "      <td>1.00</td>\n",
       "    </tr>\n",
       "    <tr>\n",
       "      <th rowspan=\"2\" valign=\"top\">Age</th>\n",
       "      <th>mean</th>\n",
       "      <td>39.67</td>\n",
       "      <td>37.75</td>\n",
       "      <td>43.20</td>\n",
       "      <td>45.68</td>\n",
       "    </tr>\n",
       "    <tr>\n",
       "      <th>median</th>\n",
       "      <td>38.00</td>\n",
       "      <td>36.00</td>\n",
       "      <td>42.00</td>\n",
       "      <td>45.00</td>\n",
       "    </tr>\n",
       "    <tr>\n",
       "      <th rowspan=\"2\" valign=\"top\">Objects</th>\n",
       "      <th>mean</th>\n",
       "      <td>4.97</td>\n",
       "      <td>5.05</td>\n",
       "      <td>5.00</td>\n",
       "      <td>5.30</td>\n",
       "    </tr>\n",
       "    <tr>\n",
       "      <th>median</th>\n",
       "      <td>5.00</td>\n",
       "      <td>5.00</td>\n",
       "      <td>5.00</td>\n",
       "      <td>5.00</td>\n",
       "    </tr>\n",
       "    <tr>\n",
       "      <th rowspan=\"2\" valign=\"top\">Balance</th>\n",
       "      <th>mean</th>\n",
       "      <td>98551.87</td>\n",
       "      <td>51879.15</td>\n",
       "      <td>75458.33</td>\n",
       "      <td>93733.14</td>\n",
       "    </tr>\n",
       "    <tr>\n",
       "      <th>median</th>\n",
       "      <td>111886.04</td>\n",
       "      <td>0.00</td>\n",
       "      <td>95973.94</td>\n",
       "      <td>116808.20</td>\n",
       "    </tr>\n",
       "    <tr>\n",
       "      <th rowspan=\"2\" valign=\"top\">CreditCard</th>\n",
       "      <th>mean</th>\n",
       "      <td>0.70</td>\n",
       "      <td>0.71</td>\n",
       "      <td>0.71</td>\n",
       "      <td>0.68</td>\n",
       "    </tr>\n",
       "    <tr>\n",
       "      <th>median</th>\n",
       "      <td>1.00</td>\n",
       "      <td>1.00</td>\n",
       "      <td>1.00</td>\n",
       "      <td>1.00</td>\n",
       "    </tr>\n",
       "    <tr>\n",
       "      <th rowspan=\"2\" valign=\"top\">Loyalty</th>\n",
       "      <th>mean</th>\n",
       "      <td>0.50</td>\n",
       "      <td>0.53</td>\n",
       "      <td>0.42</td>\n",
       "      <td>0.48</td>\n",
       "    </tr>\n",
       "    <tr>\n",
       "      <th>median</th>\n",
       "      <td>1.00</td>\n",
       "      <td>1.00</td>\n",
       "      <td>0.00</td>\n",
       "      <td>0.00</td>\n",
       "    </tr>\n",
       "    <tr>\n",
       "      <th rowspan=\"2\" valign=\"top\">estimated_salary</th>\n",
       "      <th>mean</th>\n",
       "      <td>99487.26</td>\n",
       "      <td>100452.01</td>\n",
       "      <td>104318.13</td>\n",
       "      <td>104763.72</td>\n",
       "    </tr>\n",
       "    <tr>\n",
       "      <th>median</th>\n",
       "      <td>99226.83</td>\n",
       "      <td>100738.86</td>\n",
       "      <td>101046.88</td>\n",
       "      <td>112163.11</td>\n",
       "    </tr>\n",
       "    <tr>\n",
       "      <th rowspan=\"2\" valign=\"top\">Churn</th>\n",
       "      <th>mean</th>\n",
       "      <td>0.28</td>\n",
       "      <td>0.08</td>\n",
       "      <td>0.83</td>\n",
       "      <td>1.00</td>\n",
       "    </tr>\n",
       "    <tr>\n",
       "      <th>median</th>\n",
       "      <td>0.00</td>\n",
       "      <td>0.00</td>\n",
       "      <td>1.00</td>\n",
       "      <td>1.00</td>\n",
       "    </tr>\n",
       "    <tr>\n",
       "      <th rowspan=\"2\" valign=\"top\">City_Ростов_Великий</th>\n",
       "      <th>mean</th>\n",
       "      <td>0.27</td>\n",
       "      <td>0.23</td>\n",
       "      <td>0.36</td>\n",
       "      <td>0.40</td>\n",
       "    </tr>\n",
       "    <tr>\n",
       "      <th>median</th>\n",
       "      <td>0.00</td>\n",
       "      <td>0.00</td>\n",
       "      <td>0.00</td>\n",
       "      <td>0.00</td>\n",
       "    </tr>\n",
       "    <tr>\n",
       "      <th rowspan=\"2\" valign=\"top\">City_Рыбинск</th>\n",
       "      <th>mean</th>\n",
       "      <td>0.24</td>\n",
       "      <td>0.26</td>\n",
       "      <td>0.25</td>\n",
       "      <td>0.12</td>\n",
       "    </tr>\n",
       "    <tr>\n",
       "      <th>median</th>\n",
       "      <td>0.00</td>\n",
       "      <td>0.00</td>\n",
       "      <td>0.00</td>\n",
       "      <td>0.00</td>\n",
       "    </tr>\n",
       "    <tr>\n",
       "      <th rowspan=\"2\" valign=\"top\">City_Ярославль</th>\n",
       "      <th>mean</th>\n",
       "      <td>0.49</td>\n",
       "      <td>0.52</td>\n",
       "      <td>0.39</td>\n",
       "      <td>0.48</td>\n",
       "    </tr>\n",
       "    <tr>\n",
       "      <th>median</th>\n",
       "      <td>0.00</td>\n",
       "      <td>1.00</td>\n",
       "      <td>0.00</td>\n",
       "      <td>0.00</td>\n",
       "    </tr>\n",
       "  </tbody>\n",
       "</table>\n",
       "</div>"
      ],
      "text/plain": [
       "Products                              1            2            3            4\n",
       "userid              mean    15732367.90  15734841.49  15741816.49  15719361.27\n",
       "                    median  15732061.00  15735775.50  15744380.50  15707754.50\n",
       "score               mean         649.12       652.19       648.11       653.58\n",
       "                    median       651.00       653.00       650.00       643.00\n",
       "Gender              mean           0.45         0.45         0.56         0.63\n",
       "                    median         0.00         0.00         1.00         1.00\n",
       "Age                 mean          39.67        37.75        43.20        45.68\n",
       "                    median        38.00        36.00        42.00        45.00\n",
       "Objects             mean           4.97         5.05         5.00         5.30\n",
       "                    median         5.00         5.00         5.00         5.00\n",
       "Balance             mean       98551.87     51879.15     75458.33     93733.14\n",
       "                    median    111886.04         0.00     95973.94    116808.20\n",
       "CreditCard          mean           0.70         0.71         0.71         0.68\n",
       "                    median         1.00         1.00         1.00         1.00\n",
       "Loyalty             mean           0.50         0.53         0.42         0.48\n",
       "                    median         1.00         1.00         0.00         0.00\n",
       "estimated_salary    mean       99487.26    100452.01    104318.13    104763.72\n",
       "                    median     99226.83    100738.86    101046.88    112163.11\n",
       "Churn               mean           0.28         0.08         0.83         1.00\n",
       "                    median         0.00         0.00         1.00         1.00\n",
       "City_Ростов_Великий mean           0.27         0.23         0.36         0.40\n",
       "                    median         0.00         0.00         0.00         0.00\n",
       "City_Рыбинск        mean           0.24         0.26         0.25         0.12\n",
       "                    median         0.00         0.00         0.00         0.00\n",
       "City_Ярославль      mean           0.49         0.52         0.39         0.48\n",
       "                    median         0.00         1.00         0.00         0.00"
      ]
     },
     "execution_count": 34,
     "metadata": {},
     "output_type": "execute_result"
    }
   ],
   "source": [
    "round(df_c.groupby('Products').agg(['mean', 'median']).T, 2)"
   ]
  },
  {
   "cell_type": "markdown",
   "metadata": {},
   "source": [
    "Сегменты 1 и 2 схожи, за исключением % оттока.   \n",
    "Меньше всего отток в сегменте с 2 продуктами. Отток клиентов с 3 продуктами - 82.7%, а с 4 - 100%.\n",
    "Основная часть клиентов, использующих 1-2 продукта, до 40 лет. 3-4 продукта - старше 40.   \n",
    "Среди клиентов с 1-2 продуктами преобладают мужчины, а с 3-4 продуктам женщины.   \n",
    "Во всех сегментах большое число клиентов с пустым балансом.   \n",
    "Во всех сегментах клиентов с кредитной картой примерно в 2 раза больше.   \n",
    "Среди клиентов с 1-2 продуктами преобладают активные.    \n",
    "\n",
    "Признак \\ Сегмент | 1 | 2 | 3 | 4\n",
    "--- | --- | --- | --- | ---\n",
    "Cредний рейтинг | 649.12 | 652.19 | 648.11 | 653.58\n",
    "Средний возраст (медиана) | 38 | 36 | 42 | 45\n",
    "Преобладающий пол | Мужчины (45%) | Мужчины (45%) | Женщины (56%) | Женщины (63%)\n",
    "Объекты недвижимости (медиана) | 5 | 5 | 5 | 5\n",
    "Средний статок на счету | 98551.87 | 51879.15 | 75458.33 | 93733.14\n",
    "Используют кредитную карту | 70% | 71% | 71% | 68%\n",
    "Активных клиентов (> 5 операций за месяц) | 50% | 53% | 42% | 48%\n",
    "Клиенты из Ярославля | 49% | 52% | 39% | 48%\n",
    "Клиенты из Рыбинска | 24% | 26% | 25% | 12%\n",
    "Клиенты из Ростова Великого | 27% | 23% | 36% | 40%\n",
    "Отток | 28% | 8% | 83% | 100%\n"
   ]
  },
  {
   "cell_type": "markdown",
   "metadata": {},
   "source": [
    "## Проверка гипотез\n",
    "На этом этапе проверим статистические гипотезы."
   ]
  },
  {
   "cell_type": "code",
   "execution_count": 35,
   "metadata": {},
   "outputs": [],
   "source": [
    "alpha = .05"
   ]
  },
  {
   "cell_type": "markdown",
   "metadata": {},
   "source": [
    "### Гипотеза 1: доходы между теми клиентами, которые пользуются двумя продуктами банка, и теми, которые пользуются одним, различаются."
   ]
  },
  {
   "cell_type": "markdown",
   "metadata": {},
   "source": [
    "Н0: Между доходами клиентов, которые пользуются двумя продуктами банка, и теми, которые пользуются одним, статистически значимых различий нет.   \n",
    "Н1: Между доходами клиентов, которые пользуются двумя продуктами банка, и теми, которые пользуются одним, есть статистически значимые различия. "
   ]
  },
  {
   "cell_type": "code",
   "execution_count": 36,
   "metadata": {},
   "outputs": [
    {
     "name": "stdout",
     "output_type": "stream",
     "text": [
      "Не получилось отвергнуть нулевую гипотезу, нет статистически значимых различий\n"
     ]
    }
   ],
   "source": [
    "if st.ttest_ind(df_c.query('Products == 2').estimated_salary, df_c.query('Products == 1').estimated_salary).pvalue < alpha:\n",
    "    print('Отвергаем нулевую гипотезу: есть статистически значимые различия')\n",
    "else: \n",
    "    print('Не получилось отвергнуть нулевую гипотезу, нет статистически значимых различий')"
   ]
  },
  {
   "cell_type": "markdown",
   "metadata": {},
   "source": [
    "### Гипотеза 2: кредитный рейтинг клиентов из Ярославля и кредитный рейтинг клиентов из областных городов (Ростов Великий и Рыбинск) различаются."
   ]
  },
  {
   "cell_type": "markdown",
   "metadata": {},
   "source": [
    "Н0: Между кредитным рейтингом клиентов из Ярославля и клиентов из областных городов (Ростов Великий и Рыбинск) статистически значимых различий нет.   \n",
    "Н1: Между кредитным рейтингом клиентов из Ярославля и клиентов из областных городов (Ростов Великий и Рыбинск) есть статистически значимые различия."
   ]
  },
  {
   "cell_type": "code",
   "execution_count": 37,
   "metadata": {},
   "outputs": [
    {
     "name": "stdout",
     "output_type": "stream",
     "text": [
      "Не получилось отвергнуть нулевую гипотезу, нет статистически значимых различий\n"
     ]
    }
   ],
   "source": [
    "if st.ttest_ind(df_c.query('City_Ярославль == 1').score, df_c.query('City_Ярославль == 0').score).pvalue < alpha:\n",
    "    print('Отвергаем нулевую гипотезу: есть статистически значимые различия')\n",
    "else: \n",
    "    print('Не получилось отвергнуть нулевую гипотезу, нет статистически значимых различий')"
   ]
  },
  {
   "cell_type": "markdown",
   "metadata": {},
   "source": [
    "## Выводы"
   ]
  },
  {
   "cell_type": "markdown",
   "metadata": {},
   "source": [
    "Все клиенты поделены на 4 сегмента в соответствии с числом используемых продуктов.   \n",
    "- **Сегмент 1**   \n",
    " Отток - 28%.   \n",
    " Средний возраст 38 лет.\n",
    " У 70% клиентов кредитная карта.\n",
    " Активных клиентов 50%.\n",
    " у 18% пустой баланс.   \n",
    " *Рекомендации*   \n",
    " Стоит предложить клеинтам этого сегмента оформить дебетовую карту на выгодных условиях.\n",
    "    \n",
    "- **Сегмент 2**     \n",
    " Отток 8%.   \n",
    " Средний возраст 38 лет.   \n",
    " 71% имеют кредитную карту.\n",
    " Активных клиентов 53%.\n",
    " У 57% пустой баланс.   \n",
    " *Рекомендации*   \n",
    " В данном сегменте самый низкий отток, но большая доля клиентов с пустым балансом. Стоит предложить им более выгодные условия при сохранении минимального ежемесячного остатка > 5000.   \n",
    "     \n",
    "- **Сегмент 3**     \n",
    " Отток 83%.   \n",
    " Средний возраст 42 года.   \n",
    " 71% имеют кредитную карту.   \n",
    " Активных клиентов 42%.\n",
    " У 37% пустой баланс.\n",
    " *Рекомендации*   \n",
    " В этом сегменте очень высокий отток. Преобладают люди старше 40% лет, стоит предлагать им соответствующие продукты. Например, пенсионные вклады.\n",
    " \n",
    "- **Сегмент 4**     \n",
    " Отток 100%.   \n",
    " Средний возраст 45 лет.   \n",
    " 68% имеют кредитную карту.   \n",
    " Активных клиентов 48%.\n",
    " У 23% пустой баланс.\n",
    " *Рекомендации*   \n",
    " В этом сегменте ужасная ситуация - отток 100%. Стоит подробнее изучить таких клиентов. Возможно клиенты набрали лишние продукты, и по итогу разочаровались в банке. Стоит связаться с ушедшими клиентами. узнать причину и предлоожить вернуться в наш банк на новых выгодных условиях. Так как преобладают клиенты старше 40 лет, стоит предложить им соответствующие продукты. Например, пенсионные вклады.   \n",
    "    \n",
    "\n",
    "Общий отток - 20%. Это достаточно высокий показатель. Стоит проанализировать текущие условия обслуживания, и пересмотреть их.   \n",
    "Также стоит стимулировать активность пользователей, т.к. она недостаточна высока - 52%. Рекомендую рассмотреть введение/измненение программы кэшбека, а также ввести процент на минимальны остаток по счету.\n",
    "   \n",
    "Также в ходе исследования были проведены статистические тесты, которые показали следующее:\n",
    "- между доходами клиентов, которые пользуются двумя продуктами банка, и теми, которые пользуются одним, статистически значимых различий нет;\n",
    "- между кредитным рейтингом клиентов из Ярославля и клиентов из областных городов (Ростов Великий и Рыбинск) статистически значимых различий нет. "
   ]
  }
 ],
 "metadata": {
  "ExecuteTimeLog": [
   {
    "duration": 1192,
    "start_time": "2022-08-24T08:19:12.981Z"
   },
   {
    "duration": 109,
    "start_time": "2022-08-24T08:19:38.954Z"
   },
   {
    "duration": 77,
    "start_time": "2022-08-24T08:19:41.873Z"
   },
   {
    "duration": 19,
    "start_time": "2022-08-24T08:19:55.710Z"
   },
   {
    "duration": 11,
    "start_time": "2022-08-24T08:20:05.589Z"
   },
   {
    "duration": 12,
    "start_time": "2022-08-24T08:20:15.545Z"
   },
   {
    "duration": 32,
    "start_time": "2022-08-24T08:20:24.749Z"
   },
   {
    "duration": 15,
    "start_time": "2022-08-24T08:22:15.645Z"
   },
   {
    "duration": 7,
    "start_time": "2022-08-24T08:22:19.901Z"
   },
   {
    "duration": 8,
    "start_time": "2022-08-24T08:23:36.198Z"
   },
   {
    "duration": 23,
    "start_time": "2022-08-24T08:37:15.086Z"
   },
   {
    "duration": 4,
    "start_time": "2022-08-24T08:38:40.498Z"
   },
   {
    "duration": 20,
    "start_time": "2022-08-24T08:39:21.000Z"
   },
   {
    "duration": 7,
    "start_time": "2022-08-24T08:40:17.170Z"
   },
   {
    "duration": 4,
    "start_time": "2022-08-24T08:40:24.090Z"
   },
   {
    "duration": 7,
    "start_time": "2022-08-24T08:40:34.218Z"
   },
   {
    "duration": 12,
    "start_time": "2022-08-24T08:40:42.194Z"
   },
   {
    "duration": 5,
    "start_time": "2022-08-24T08:40:56.726Z"
   },
   {
    "duration": 1295,
    "start_time": "2022-08-24T08:41:45.838Z"
   },
   {
    "duration": 1457,
    "start_time": "2022-08-24T08:42:04.222Z"
   },
   {
    "duration": 1316,
    "start_time": "2022-08-24T08:42:29.018Z"
   },
   {
    "duration": 1300,
    "start_time": "2022-08-24T08:42:41.176Z"
   },
   {
    "duration": 2906,
    "start_time": "2022-08-24T08:43:57.940Z"
   },
   {
    "duration": 2375,
    "start_time": "2022-08-24T08:44:26.970Z"
   },
   {
    "duration": 1340,
    "start_time": "2022-08-25T06:15:50.707Z"
   },
   {
    "duration": 163,
    "start_time": "2022-08-25T06:15:52.049Z"
   },
   {
    "duration": 24,
    "start_time": "2022-08-25T06:15:52.213Z"
   },
   {
    "duration": 11,
    "start_time": "2022-08-25T06:15:52.239Z"
   },
   {
    "duration": 36,
    "start_time": "2022-08-25T06:15:52.252Z"
   },
   {
    "duration": 8,
    "start_time": "2022-08-25T06:15:52.305Z"
   },
   {
    "duration": 14,
    "start_time": "2022-08-25T06:15:52.314Z"
   },
   {
    "duration": 8,
    "start_time": "2022-08-25T06:15:52.329Z"
   },
   {
    "duration": 9,
    "start_time": "2022-08-25T06:15:52.338Z"
   },
   {
    "duration": 13,
    "start_time": "2022-08-25T06:15:52.349Z"
   },
   {
    "duration": 14,
    "start_time": "2022-08-25T06:15:52.364Z"
   },
   {
    "duration": 5,
    "start_time": "2022-08-25T06:15:52.406Z"
   },
   {
    "duration": 1456,
    "start_time": "2022-08-25T06:15:52.412Z"
   },
   {
    "duration": 2679,
    "start_time": "2022-08-25T06:15:53.871Z"
   },
   {
    "duration": 7,
    "start_time": "2022-08-25T06:19:13.044Z"
   },
   {
    "duration": 3,
    "start_time": "2022-08-25T06:19:20.880Z"
   },
   {
    "duration": 9,
    "start_time": "2022-08-25T06:19:26.633Z"
   },
   {
    "duration": 9,
    "start_time": "2022-08-25T06:19:29.367Z"
   },
   {
    "duration": 4,
    "start_time": "2022-08-25T06:22:31.063Z"
   },
   {
    "duration": 85,
    "start_time": "2022-08-25T06:22:49.337Z"
   },
   {
    "duration": 8,
    "start_time": "2022-08-25T06:22:52.302Z"
   },
   {
    "duration": 8,
    "start_time": "2022-08-25T06:22:53.235Z"
   },
   {
    "duration": 4,
    "start_time": "2022-08-25T06:22:58.535Z"
   },
   {
    "duration": 20,
    "start_time": "2022-08-25T06:23:46.894Z"
   },
   {
    "duration": 3,
    "start_time": "2022-08-25T06:23:51.047Z"
   },
   {
    "duration": 3,
    "start_time": "2022-08-25T06:23:57.531Z"
   },
   {
    "duration": 4,
    "start_time": "2022-08-25T06:24:01.078Z"
   },
   {
    "duration": 8,
    "start_time": "2022-08-25T06:24:12.462Z"
   },
   {
    "duration": 13,
    "start_time": "2022-08-25T06:24:13.094Z"
   },
   {
    "duration": 6,
    "start_time": "2022-08-25T06:24:24.935Z"
   },
   {
    "duration": 1572,
    "start_time": "2022-08-25T06:27:34.438Z"
   },
   {
    "duration": 1398,
    "start_time": "2022-08-25T06:28:00.837Z"
   },
   {
    "duration": 1366,
    "start_time": "2022-08-25T06:29:08.862Z"
   },
   {
    "duration": 1341,
    "start_time": "2022-08-25T06:29:17.189Z"
   },
   {
    "duration": 1315,
    "start_time": "2022-08-25T06:31:21.270Z"
   },
   {
    "duration": 8,
    "start_time": "2022-08-25T06:44:50.044Z"
   },
   {
    "duration": 3,
    "start_time": "2022-08-25T06:45:39.925Z"
   },
   {
    "duration": 11,
    "start_time": "2022-08-25T06:45:55.476Z"
   },
   {
    "duration": 4,
    "start_time": "2022-08-25T06:46:18.824Z"
   },
   {
    "duration": 11,
    "start_time": "2022-08-25T06:46:38.955Z"
   },
   {
    "duration": 100,
    "start_time": "2022-08-25T06:46:50.979Z"
   },
   {
    "duration": 10,
    "start_time": "2022-08-25T06:46:55.325Z"
   },
   {
    "duration": 9,
    "start_time": "2022-08-25T06:47:01.060Z"
   },
   {
    "duration": 4,
    "start_time": "2022-08-25T06:47:28.299Z"
   },
   {
    "duration": 4,
    "start_time": "2022-08-25T06:47:34.006Z"
   },
   {
    "duration": 5,
    "start_time": "2022-08-25T06:47:41.251Z"
   },
   {
    "duration": 3,
    "start_time": "2022-08-25T06:48:13.125Z"
   },
   {
    "duration": 1087,
    "start_time": "2022-08-25T06:50:48.981Z"
   },
   {
    "duration": 40,
    "start_time": "2022-08-25T06:50:50.533Z"
   },
   {
    "duration": 16,
    "start_time": "2022-08-25T06:50:51.015Z"
   },
   {
    "duration": 12,
    "start_time": "2022-08-25T06:50:51.830Z"
   },
   {
    "duration": 35,
    "start_time": "2022-08-25T06:50:53.654Z"
   },
   {
    "duration": 6,
    "start_time": "2022-08-25T06:50:55.093Z"
   },
   {
    "duration": 4,
    "start_time": "2022-08-25T06:50:57.133Z"
   },
   {
    "duration": 9,
    "start_time": "2022-08-25T06:50:57.477Z"
   },
   {
    "duration": 8,
    "start_time": "2022-08-25T06:50:59.901Z"
   },
   {
    "duration": 3,
    "start_time": "2022-08-25T06:51:00.165Z"
   },
   {
    "duration": 4,
    "start_time": "2022-08-25T06:51:02.997Z"
   },
   {
    "duration": 5,
    "start_time": "2022-08-25T06:51:03.318Z"
   },
   {
    "duration": 9,
    "start_time": "2022-08-25T06:51:04.204Z"
   },
   {
    "duration": 14,
    "start_time": "2022-08-25T06:51:05.111Z"
   },
   {
    "duration": 5,
    "start_time": "2022-08-25T06:51:07.573Z"
   },
   {
    "duration": 7,
    "start_time": "2022-08-25T06:51:08.669Z"
   },
   {
    "duration": 5,
    "start_time": "2022-08-25T06:51:10.509Z"
   },
   {
    "duration": 254,
    "start_time": "2022-08-25T06:51:15.709Z"
   },
   {
    "duration": 108060,
    "start_time": "2022-08-25T06:51:24.230Z"
   },
   {
    "duration": 1112,
    "start_time": "2022-08-25T06:53:22.673Z"
   },
   {
    "duration": 39,
    "start_time": "2022-08-25T06:53:23.787Z"
   },
   {
    "duration": 17,
    "start_time": "2022-08-25T06:53:23.828Z"
   },
   {
    "duration": 12,
    "start_time": "2022-08-25T06:53:25.911Z"
   },
   {
    "duration": 48,
    "start_time": "2022-08-25T06:53:26.182Z"
   },
   {
    "duration": 6,
    "start_time": "2022-08-25T06:53:28.197Z"
   },
   {
    "duration": 3,
    "start_time": "2022-08-25T06:53:29.269Z"
   },
   {
    "duration": 8,
    "start_time": "2022-08-25T06:53:29.485Z"
   },
   {
    "duration": 7,
    "start_time": "2022-08-25T06:53:31.548Z"
   },
   {
    "duration": 4,
    "start_time": "2022-08-25T06:53:31.789Z"
   },
   {
    "duration": 3,
    "start_time": "2022-08-25T06:53:33.540Z"
   },
   {
    "duration": 6,
    "start_time": "2022-08-25T06:53:33.724Z"
   },
   {
    "duration": 7,
    "start_time": "2022-08-25T06:53:34.117Z"
   },
   {
    "duration": 12,
    "start_time": "2022-08-25T06:53:34.309Z"
   },
   {
    "duration": 4,
    "start_time": "2022-08-25T06:53:36.868Z"
   },
   {
    "duration": 7,
    "start_time": "2022-08-25T06:53:38.028Z"
   },
   {
    "duration": 48822,
    "start_time": "2022-08-25T06:53:49.454Z"
   },
   {
    "duration": 73,
    "start_time": "2022-08-25T06:55:28.380Z"
   },
   {
    "duration": 899,
    "start_time": "2022-08-25T06:56:25.676Z"
   },
   {
    "duration": 61,
    "start_time": "2022-08-25T06:57:37.689Z"
   },
   {
    "duration": 6,
    "start_time": "2022-08-25T06:59:09.213Z"
   },
   {
    "duration": 106,
    "start_time": "2022-08-25T06:59:14.139Z"
   },
   {
    "duration": 103,
    "start_time": "2022-08-25T06:59:19.707Z"
   },
   {
    "duration": 98,
    "start_time": "2022-08-25T06:59:32.364Z"
   },
   {
    "duration": 2145,
    "start_time": "2022-08-25T06:59:49.844Z"
   },
   {
    "duration": 58,
    "start_time": "2022-08-25T07:01:35.044Z"
   },
   {
    "duration": 44,
    "start_time": "2022-08-25T07:03:18.444Z"
   },
   {
    "duration": 2295,
    "start_time": "2022-08-25T07:04:29.172Z"
   },
   {
    "duration": 1670,
    "start_time": "2022-08-25T07:04:48.180Z"
   },
   {
    "duration": 1620,
    "start_time": "2022-08-25T07:05:18.796Z"
   },
   {
    "duration": 2088,
    "start_time": "2022-08-25T07:09:02.532Z"
   },
   {
    "duration": 2662,
    "start_time": "2022-08-25T07:10:14.035Z"
   },
   {
    "duration": 263,
    "start_time": "2022-08-25T07:10:47.283Z"
   },
   {
    "duration": 1827,
    "start_time": "2022-08-25T07:10:52.634Z"
   },
   {
    "duration": 1970,
    "start_time": "2022-08-25T07:11:29.507Z"
   },
   {
    "duration": 1915,
    "start_time": "2022-08-25T07:12:55.563Z"
   },
   {
    "duration": 2087,
    "start_time": "2022-08-25T07:14:25.081Z"
   },
   {
    "duration": 18,
    "start_time": "2022-08-25T07:15:47.866Z"
   },
   {
    "duration": 10,
    "start_time": "2022-08-25T07:15:56.003Z"
   },
   {
    "duration": 7,
    "start_time": "2022-08-25T07:16:07.673Z"
   },
   {
    "duration": 6,
    "start_time": "2022-08-25T07:16:26.617Z"
   },
   {
    "duration": 7,
    "start_time": "2022-08-25T07:16:30.040Z"
   },
   {
    "duration": 16,
    "start_time": "2022-08-25T07:17:08.193Z"
   },
   {
    "duration": 5,
    "start_time": "2022-08-25T07:17:23.385Z"
   },
   {
    "duration": 7,
    "start_time": "2022-08-25T07:17:28.799Z"
   },
   {
    "duration": 12,
    "start_time": "2022-08-25T07:17:55.161Z"
   },
   {
    "duration": 16,
    "start_time": "2022-08-25T07:17:58.714Z"
   },
   {
    "duration": 13,
    "start_time": "2022-08-25T07:18:17.920Z"
   },
   {
    "duration": 8,
    "start_time": "2022-08-25T07:18:28.137Z"
   },
   {
    "duration": 7,
    "start_time": "2022-08-25T07:18:48.986Z"
   },
   {
    "duration": 8,
    "start_time": "2022-08-25T07:19:20.513Z"
   },
   {
    "duration": 6,
    "start_time": "2022-08-25T07:19:59.088Z"
   },
   {
    "duration": 23,
    "start_time": "2022-08-25T07:24:18.031Z"
   },
   {
    "duration": 7,
    "start_time": "2022-08-25T07:24:28.160Z"
   },
   {
    "duration": 7,
    "start_time": "2022-08-25T07:24:40.096Z"
   },
   {
    "duration": 9,
    "start_time": "2022-08-25T07:25:24.935Z"
   },
   {
    "duration": 11,
    "start_time": "2022-08-25T07:25:33.631Z"
   },
   {
    "duration": 10,
    "start_time": "2022-08-25T07:25:50.382Z"
   },
   {
    "duration": 19,
    "start_time": "2022-08-25T07:27:45.551Z"
   },
   {
    "duration": 6,
    "start_time": "2022-08-25T07:27:59.143Z"
   },
   {
    "duration": 7,
    "start_time": "2022-08-25T07:28:13.415Z"
   },
   {
    "duration": 9,
    "start_time": "2022-08-25T07:28:23.358Z"
   },
   {
    "duration": 10,
    "start_time": "2022-08-25T07:29:28.318Z"
   },
   {
    "duration": 10,
    "start_time": "2022-08-25T07:30:27.702Z"
   },
   {
    "duration": 4,
    "start_time": "2022-08-25T07:31:16.974Z"
   },
   {
    "duration": 863,
    "start_time": "2022-08-25T07:35:54.381Z"
   },
   {
    "duration": 1465,
    "start_time": "2022-08-25T07:36:20.839Z"
   },
   {
    "duration": 1762,
    "start_time": "2022-08-25T07:36:33.502Z"
   },
   {
    "duration": 4,
    "start_time": "2022-08-25T07:40:06.820Z"
   },
   {
    "duration": 5,
    "start_time": "2022-08-25T07:40:46.965Z"
   },
   {
    "duration": 5,
    "start_time": "2022-08-25T07:41:27.846Z"
   },
   {
    "duration": 1213,
    "start_time": "2022-08-25T07:43:47.730Z"
   },
   {
    "duration": 1303,
    "start_time": "2022-08-25T07:43:57.820Z"
   },
   {
    "duration": 4,
    "start_time": "2022-08-25T07:44:11.244Z"
   },
   {
    "duration": 34,
    "start_time": "2022-08-25T07:44:32.228Z"
   },
   {
    "duration": 10,
    "start_time": "2022-08-25T07:44:43.940Z"
   },
   {
    "duration": 16,
    "start_time": "2022-08-25T07:44:49.212Z"
   },
   {
    "duration": 11,
    "start_time": "2022-08-25T07:45:34.252Z"
   },
   {
    "duration": 18,
    "start_time": "2022-08-25T07:45:37.684Z"
   },
   {
    "duration": 18,
    "start_time": "2022-08-25T07:45:40.507Z"
   },
   {
    "duration": 19,
    "start_time": "2022-08-25T07:45:43.996Z"
   },
   {
    "duration": 3,
    "start_time": "2022-08-25T07:46:02.540Z"
   },
   {
    "duration": 2,
    "start_time": "2022-08-25T07:46:05.420Z"
   },
   {
    "duration": 3,
    "start_time": "2022-08-25T07:46:14.284Z"
   },
   {
    "duration": 5,
    "start_time": "2022-08-25T07:46:23.564Z"
   },
   {
    "duration": 6,
    "start_time": "2022-08-25T07:46:26.461Z"
   },
   {
    "duration": 5,
    "start_time": "2022-08-25T07:46:33.667Z"
   },
   {
    "duration": 6,
    "start_time": "2022-08-25T07:46:38.555Z"
   },
   {
    "duration": 11,
    "start_time": "2022-08-25T07:46:55.004Z"
   },
   {
    "duration": 18,
    "start_time": "2022-08-25T07:46:55.643Z"
   },
   {
    "duration": 36,
    "start_time": "2022-08-25T07:47:00.307Z"
   },
   {
    "duration": 22,
    "start_time": "2022-08-25T07:49:24.043Z"
   },
   {
    "duration": 17,
    "start_time": "2022-08-25T07:49:41.058Z"
   },
   {
    "duration": 5354,
    "start_time": "2022-08-25T07:54:50.394Z"
   },
   {
    "duration": 5042,
    "start_time": "2022-08-25T07:56:22.313Z"
   },
   {
    "duration": 6027,
    "start_time": "2022-08-25T07:57:01.202Z"
   },
   {
    "duration": 4564,
    "start_time": "2022-08-25T07:58:54.874Z"
   },
   {
    "duration": 4458,
    "start_time": "2022-08-25T07:59:59.281Z"
   },
   {
    "duration": 18,
    "start_time": "2022-08-25T08:00:12.864Z"
   },
   {
    "duration": 180,
    "start_time": "2022-08-25T08:00:24.304Z"
   },
   {
    "duration": 172,
    "start_time": "2022-08-25T08:00:33.616Z"
   },
   {
    "duration": 128,
    "start_time": "2022-08-25T08:00:46.316Z"
   },
   {
    "duration": 17,
    "start_time": "2022-08-25T08:02:42.177Z"
   },
   {
    "duration": 4711,
    "start_time": "2022-08-25T08:03:33.336Z"
   },
   {
    "duration": 108,
    "start_time": "2022-08-25T08:03:52.664Z"
   },
   {
    "duration": 4651,
    "start_time": "2022-08-25T08:03:57.160Z"
   },
   {
    "duration": 132,
    "start_time": "2022-08-25T08:04:03.856Z"
   },
   {
    "duration": 5789,
    "start_time": "2022-08-25T08:04:08.192Z"
   },
   {
    "duration": 28,
    "start_time": "2022-08-25T08:05:44.960Z"
   },
   {
    "duration": 4719,
    "start_time": "2022-08-25T08:05:49.553Z"
   },
   {
    "duration": 10,
    "start_time": "2022-08-25T08:08:12.726Z"
   },
   {
    "duration": 10,
    "start_time": "2022-08-25T08:08:16.814Z"
   },
   {
    "duration": 3,
    "start_time": "2022-08-25T08:08:19.997Z"
   },
   {
    "duration": 14,
    "start_time": "2022-08-25T08:08:20.598Z"
   },
   {
    "duration": 3,
    "start_time": "2022-08-25T08:08:28.607Z"
   },
   {
    "duration": 17,
    "start_time": "2022-08-25T08:08:29.093Z"
   },
   {
    "duration": 3,
    "start_time": "2022-08-25T08:11:27.205Z"
   },
   {
    "duration": 15,
    "start_time": "2022-08-25T08:11:28.525Z"
   },
   {
    "duration": 3,
    "start_time": "2022-08-25T08:11:40.293Z"
   },
   {
    "duration": 15,
    "start_time": "2022-08-25T08:11:41.869Z"
   },
   {
    "duration": 10,
    "start_time": "2022-08-25T08:12:41.437Z"
   },
   {
    "duration": 11,
    "start_time": "2022-08-25T08:12:48.260Z"
   },
   {
    "duration": 15,
    "start_time": "2022-08-25T08:12:58.677Z"
   },
   {
    "duration": 2,
    "start_time": "2022-08-25T08:16:01.756Z"
   },
   {
    "duration": 10,
    "start_time": "2022-08-25T08:20:48.899Z"
   },
   {
    "duration": 11,
    "start_time": "2022-08-25T08:20:56.043Z"
   },
   {
    "duration": 4,
    "start_time": "2022-08-25T08:22:20.859Z"
   },
   {
    "duration": 6,
    "start_time": "2022-08-25T08:23:06.468Z"
   },
   {
    "duration": 5,
    "start_time": "2022-08-25T08:23:24.019Z"
   },
   {
    "duration": 5,
    "start_time": "2022-08-25T08:24:19.515Z"
   },
   {
    "duration": 35,
    "start_time": "2022-08-25T08:25:10.643Z"
   },
   {
    "duration": 28,
    "start_time": "2022-08-25T08:25:23.987Z"
   },
   {
    "duration": 27,
    "start_time": "2022-08-25T08:25:50.515Z"
   },
   {
    "duration": 27,
    "start_time": "2022-08-25T08:25:57.015Z"
   },
   {
    "duration": 25,
    "start_time": "2022-08-25T08:26:05.444Z"
   },
   {
    "duration": 25,
    "start_time": "2022-08-25T08:26:08.738Z"
   },
   {
    "duration": 17,
    "start_time": "2022-08-25T08:26:22.075Z"
   },
   {
    "duration": 30,
    "start_time": "2022-08-25T08:26:25.515Z"
   },
   {
    "duration": 13,
    "start_time": "2022-08-25T08:26:56.707Z"
   },
   {
    "duration": 19,
    "start_time": "2022-08-25T08:27:05.737Z"
   },
   {
    "duration": 40,
    "start_time": "2022-08-25T08:27:30.603Z"
   },
   {
    "duration": 46,
    "start_time": "2022-08-25T08:27:46.985Z"
   },
   {
    "duration": 60,
    "start_time": "2022-08-25T08:27:57.273Z"
   },
   {
    "duration": 17,
    "start_time": "2022-08-25T08:28:02.644Z"
   },
   {
    "duration": 9,
    "start_time": "2022-08-25T08:28:09.369Z"
   },
   {
    "duration": 5,
    "start_time": "2022-08-25T08:41:16.638Z"
   },
   {
    "duration": 5530,
    "start_time": "2022-08-25T08:44:20.445Z"
   },
   {
    "duration": 2,
    "start_time": "2022-08-25T09:47:32.344Z"
   },
   {
    "duration": 72,
    "start_time": "2022-08-25T09:48:50.259Z"
   },
   {
    "duration": 4,
    "start_time": "2022-08-25T09:48:57.860Z"
   },
   {
    "duration": 4,
    "start_time": "2022-08-25T09:49:03.699Z"
   },
   {
    "duration": 9,
    "start_time": "2022-08-25T09:49:55.572Z"
   },
   {
    "duration": 9,
    "start_time": "2022-08-25T09:50:45.708Z"
   },
   {
    "duration": 11,
    "start_time": "2022-08-25T09:53:27.348Z"
   },
   {
    "duration": 100,
    "start_time": "2022-08-25T09:55:48.561Z"
   },
   {
    "duration": 3451,
    "start_time": "2022-08-25T09:56:11.851Z"
   },
   {
    "duration": 3667,
    "start_time": "2022-08-25T09:57:52.570Z"
   },
   {
    "duration": 3617,
    "start_time": "2022-08-25T09:58:11.466Z"
   },
   {
    "duration": 5004,
    "start_time": "2022-08-25T09:58:32.027Z"
   },
   {
    "duration": 6,
    "start_time": "2022-08-25T10:00:28.474Z"
   },
   {
    "duration": 2071,
    "start_time": "2022-08-25T10:10:04.303Z"
   },
   {
    "duration": 16,
    "start_time": "2022-08-25T10:10:18.063Z"
   },
   {
    "duration": 126,
    "start_time": "2022-08-25T10:10:21.462Z"
   },
   {
    "duration": 214,
    "start_time": "2022-08-25T10:11:56.446Z"
   },
   {
    "duration": 530,
    "start_time": "2022-08-25T10:12:04.480Z"
   },
   {
    "duration": 619,
    "start_time": "2022-08-25T10:12:25.247Z"
   },
   {
    "duration": 1982,
    "start_time": "2022-08-25T10:14:11.134Z"
   },
   {
    "duration": 2158,
    "start_time": "2022-08-25T10:14:45.943Z"
   },
   {
    "duration": 11,
    "start_time": "2022-08-25T10:15:57.557Z"
   },
   {
    "duration": 97,
    "start_time": "2022-08-25T10:16:01.565Z"
   },
   {
    "duration": 110,
    "start_time": "2022-08-25T10:16:21.285Z"
   },
   {
    "duration": 128,
    "start_time": "2022-08-25T10:16:32.941Z"
   },
   {
    "duration": 87,
    "start_time": "2022-08-25T10:16:50.109Z"
   },
   {
    "duration": 73,
    "start_time": "2022-08-25T10:16:59.333Z"
   },
   {
    "duration": 6,
    "start_time": "2022-08-25T10:18:10.325Z"
   },
   {
    "duration": 8,
    "start_time": "2022-08-25T10:18:19.324Z"
   },
   {
    "duration": 18,
    "start_time": "2022-08-25T10:18:43.148Z"
   },
   {
    "duration": 97,
    "start_time": "2022-08-25T10:19:00.469Z"
   },
   {
    "duration": 96,
    "start_time": "2022-08-25T10:19:53.637Z"
   },
   {
    "duration": 179,
    "start_time": "2022-08-25T10:20:00.701Z"
   },
   {
    "duration": 171,
    "start_time": "2022-08-25T10:20:13.365Z"
   },
   {
    "duration": 179,
    "start_time": "2022-08-25T10:20:32.277Z"
   },
   {
    "duration": 6,
    "start_time": "2022-08-25T10:21:20.261Z"
   },
   {
    "duration": 9,
    "start_time": "2022-08-25T10:21:25.860Z"
   },
   {
    "duration": 121,
    "start_time": "2022-08-25T10:21:35.692Z"
   },
   {
    "duration": 2103,
    "start_time": "2022-08-25T10:22:33.565Z"
   },
   {
    "duration": 11,
    "start_time": "2022-08-25T10:23:53.604Z"
   },
   {
    "duration": 122,
    "start_time": "2022-08-25T10:24:08.524Z"
   },
   {
    "duration": 148,
    "start_time": "2022-08-25T10:24:28.499Z"
   },
   {
    "duration": 4938,
    "start_time": "2022-08-25T10:25:21.180Z"
   },
   {
    "duration": 2735,
    "start_time": "2022-08-25T10:25:33.116Z"
   },
   {
    "duration": 3,
    "start_time": "2022-08-25T10:27:02.923Z"
   },
   {
    "duration": 134,
    "start_time": "2022-08-25T10:27:04.731Z"
   },
   {
    "duration": 2710,
    "start_time": "2022-08-25T10:27:07.667Z"
   },
   {
    "duration": 2337,
    "start_time": "2022-08-25T10:28:21.332Z"
   },
   {
    "duration": 2978,
    "start_time": "2022-08-25T10:30:08.716Z"
   },
   {
    "duration": 4543,
    "start_time": "2022-08-25T10:31:44.971Z"
   },
   {
    "duration": 3449,
    "start_time": "2022-08-25T10:31:57.539Z"
   },
   {
    "duration": 9104,
    "start_time": "2022-08-25T10:34:14.098Z"
   },
   {
    "duration": 7888,
    "start_time": "2022-08-25T10:34:26.642Z"
   },
   {
    "duration": 10061,
    "start_time": "2022-08-25T10:36:08.100Z"
   },
   {
    "duration": 8373,
    "start_time": "2022-08-25T10:36:59.523Z"
   },
   {
    "duration": 7295,
    "start_time": "2022-08-25T10:37:37.001Z"
   },
   {
    "duration": 8549,
    "start_time": "2022-08-25T10:37:46.402Z"
   },
   {
    "duration": 7579,
    "start_time": "2022-08-25T10:38:03.130Z"
   },
   {
    "duration": 8941,
    "start_time": "2022-08-25T10:38:14.169Z"
   },
   {
    "duration": 7739,
    "start_time": "2022-08-25T10:38:34.942Z"
   },
   {
    "duration": 7351,
    "start_time": "2022-08-25T10:38:45.314Z"
   },
   {
    "duration": 8385,
    "start_time": "2022-08-25T10:38:57.641Z"
   },
   {
    "duration": 7500,
    "start_time": "2022-08-25T10:39:19.569Z"
   },
   {
    "duration": 36889,
    "start_time": "2022-08-25T10:47:38.831Z"
   },
   {
    "duration": 212,
    "start_time": "2022-08-25T10:49:26.141Z"
   },
   {
    "duration": 136,
    "start_time": "2022-08-25T10:49:37.839Z"
   },
   {
    "duration": 128,
    "start_time": "2022-08-25T10:50:02.566Z"
   },
   {
    "duration": 54,
    "start_time": "2022-08-25T10:50:09.366Z"
   },
   {
    "duration": 54,
    "start_time": "2022-08-25T10:50:15.350Z"
   },
   {
    "duration": 56,
    "start_time": "2022-08-25T10:50:22.037Z"
   },
   {
    "duration": 56,
    "start_time": "2022-08-25T10:50:47.477Z"
   },
   {
    "duration": 100,
    "start_time": "2022-08-25T10:51:09.021Z"
   },
   {
    "duration": 60,
    "start_time": "2022-08-25T10:51:11.782Z"
   },
   {
    "duration": 63,
    "start_time": "2022-08-25T10:51:34.782Z"
   },
   {
    "duration": 62,
    "start_time": "2022-08-25T10:52:11.646Z"
   },
   {
    "duration": 68,
    "start_time": "2022-08-25T10:52:30.533Z"
   },
   {
    "duration": 87,
    "start_time": "2022-08-25T10:53:09.862Z"
   },
   {
    "duration": 82,
    "start_time": "2022-08-25T10:53:19.870Z"
   },
   {
    "duration": 85,
    "start_time": "2022-08-25T10:53:27.813Z"
   },
   {
    "duration": 91,
    "start_time": "2022-08-25T10:54:08.197Z"
   },
   {
    "duration": 91,
    "start_time": "2022-08-25T10:54:14.269Z"
   },
   {
    "duration": 109,
    "start_time": "2022-08-25T10:54:33.429Z"
   },
   {
    "duration": 97,
    "start_time": "2022-08-25T10:54:45.693Z"
   },
   {
    "duration": 7282,
    "start_time": "2022-08-25T11:00:28.911Z"
   },
   {
    "duration": 7218,
    "start_time": "2022-08-25T11:00:49.774Z"
   },
   {
    "duration": 7927,
    "start_time": "2022-08-25T11:01:04.064Z"
   },
   {
    "duration": 2818,
    "start_time": "2022-08-25T11:07:49.408Z"
   },
   {
    "duration": 2949,
    "start_time": "2022-08-25T11:07:56.791Z"
   },
   {
    "duration": 127,
    "start_time": "2022-08-25T11:15:49.095Z"
   },
   {
    "duration": 5643,
    "start_time": "2022-08-25T11:17:49.717Z"
   },
   {
    "duration": 6917,
    "start_time": "2022-08-25T11:18:56.319Z"
   },
   {
    "duration": 7466,
    "start_time": "2022-08-25T11:21:22.159Z"
   },
   {
    "duration": 1234,
    "start_time": "2022-08-25T17:11:40.657Z"
   },
   {
    "duration": 81,
    "start_time": "2022-08-25T17:11:41.893Z"
   },
   {
    "duration": 18,
    "start_time": "2022-08-25T17:11:41.975Z"
   },
   {
    "duration": 12,
    "start_time": "2022-08-25T17:11:41.994Z"
   },
   {
    "duration": 39,
    "start_time": "2022-08-25T17:11:42.147Z"
   },
   {
    "duration": 124,
    "start_time": "2022-08-25T17:22:29.577Z"
   },
   {
    "duration": 75,
    "start_time": "2022-08-25T17:23:20.966Z"
   },
   {
    "duration": 69,
    "start_time": "2022-08-25T17:23:38.453Z"
   },
   {
    "duration": 52,
    "start_time": "2022-08-26T06:17:24.853Z"
   },
   {
    "duration": 7,
    "start_time": "2022-08-26T06:17:29.249Z"
   },
   {
    "duration": 1289,
    "start_time": "2022-08-26T06:17:38.282Z"
   },
   {
    "duration": 78,
    "start_time": "2022-08-26T06:17:42.129Z"
   },
   {
    "duration": 18,
    "start_time": "2022-08-26T06:17:42.433Z"
   },
   {
    "duration": 13,
    "start_time": "2022-08-26T06:17:43.097Z"
   },
   {
    "duration": 37,
    "start_time": "2022-08-26T06:17:45.370Z"
   },
   {
    "duration": 8,
    "start_time": "2022-08-26T06:17:46.667Z"
   },
   {
    "duration": 20,
    "start_time": "2022-08-26T06:18:54.034Z"
   },
   {
    "duration": 645,
    "start_time": "2022-08-26T06:20:19.049Z"
   },
   {
    "duration": 730378,
    "start_time": "2022-08-26T06:20:57.376Z"
   },
   {
    "duration": 1504,
    "start_time": "2022-08-26T06:50:28.585Z"
   },
   {
    "duration": 24,
    "start_time": "2022-08-26T06:50:46.751Z"
   },
   {
    "duration": 73,
    "start_time": "2022-08-26T06:51:53.712Z"
   },
   {
    "duration": 19,
    "start_time": "2022-08-26T06:52:04.264Z"
   },
   {
    "duration": 45,
    "start_time": "2022-08-26T06:52:50.272Z"
   },
   {
    "duration": 1525,
    "start_time": "2022-08-26T06:52:53.415Z"
   },
   {
    "duration": 1366,
    "start_time": "2022-08-26T06:53:06.639Z"
   },
   {
    "duration": 4,
    "start_time": "2022-08-26T06:53:57.190Z"
   },
   {
    "duration": 1427,
    "start_time": "2022-08-26T06:54:16.087Z"
   },
   {
    "duration": 36,
    "start_time": "2022-08-26T06:56:29.942Z"
   },
   {
    "duration": 398,
    "start_time": "2022-08-26T06:56:36.798Z"
   },
   {
    "duration": 1319,
    "start_time": "2022-08-26T06:56:49.847Z"
   },
   {
    "duration": 19,
    "start_time": "2022-08-26T06:57:39.621Z"
   },
   {
    "duration": 14,
    "start_time": "2022-08-26T07:06:31.596Z"
   },
   {
    "duration": 5,
    "start_time": "2022-08-26T07:06:39.968Z"
   },
   {
    "duration": 50,
    "start_time": "2022-08-26T07:06:39.975Z"
   },
   {
    "duration": 17,
    "start_time": "2022-08-26T07:06:40.027Z"
   },
   {
    "duration": 18,
    "start_time": "2022-08-26T07:06:40.047Z"
   },
   {
    "duration": 43,
    "start_time": "2022-08-26T07:06:40.067Z"
   },
   {
    "duration": 10,
    "start_time": "2022-08-26T07:06:40.112Z"
   },
   {
    "duration": 22,
    "start_time": "2022-08-26T07:06:40.124Z"
   },
   {
    "duration": 1344,
    "start_time": "2022-08-26T07:06:40.148Z"
   },
   {
    "duration": 3,
    "start_time": "2022-08-26T07:06:41.494Z"
   },
   {
    "duration": 11,
    "start_time": "2022-08-26T07:06:41.501Z"
   },
   {
    "duration": 10,
    "start_time": "2022-08-26T07:06:41.513Z"
   },
   {
    "duration": 7,
    "start_time": "2022-08-26T07:06:41.525Z"
   },
   {
    "duration": 35,
    "start_time": "2022-08-26T07:06:41.534Z"
   },
   {
    "duration": 13,
    "start_time": "2022-08-26T07:06:41.570Z"
   },
   {
    "duration": 16,
    "start_time": "2022-08-26T07:06:41.584Z"
   },
   {
    "duration": 24,
    "start_time": "2022-08-26T07:06:41.601Z"
   },
   {
    "duration": 16,
    "start_time": "2022-08-26T07:06:41.627Z"
   },
   {
    "duration": 93,
    "start_time": "2022-08-26T07:06:41.645Z"
   },
   {
    "duration": 11,
    "start_time": "2022-08-26T07:06:41.741Z"
   },
   {
    "duration": 17,
    "start_time": "2022-08-26T07:06:41.754Z"
   },
   {
    "duration": 3023,
    "start_time": "2022-08-26T07:06:41.773Z"
   },
   {
    "duration": 6,
    "start_time": "2022-08-26T07:06:44.798Z"
   },
   {
    "duration": 13,
    "start_time": "2022-08-26T07:06:44.806Z"
   },
   {
    "duration": 10,
    "start_time": "2022-08-26T07:06:44.820Z"
   },
   {
    "duration": 7,
    "start_time": "2022-08-26T07:06:44.831Z"
   },
   {
    "duration": 1593,
    "start_time": "2022-08-26T07:06:44.839Z"
   },
   {
    "duration": 7,
    "start_time": "2022-08-26T07:06:46.434Z"
   },
   {
    "duration": 58,
    "start_time": "2022-08-26T07:06:46.445Z"
   },
   {
    "duration": 24,
    "start_time": "2022-08-26T07:06:46.506Z"
   },
   {
    "duration": 13,
    "start_time": "2022-08-26T07:06:46.532Z"
   },
   {
    "duration": 0,
    "start_time": "2022-08-26T07:06:46.548Z"
   },
   {
    "duration": 0,
    "start_time": "2022-08-26T07:06:46.549Z"
   },
   {
    "duration": 0,
    "start_time": "2022-08-26T07:06:46.550Z"
   },
   {
    "duration": 6694,
    "start_time": "2022-08-26T07:07:36.890Z"
   },
   {
    "duration": 6335,
    "start_time": "2022-08-26T07:08:41.078Z"
   },
   {
    "duration": 7967,
    "start_time": "2022-08-26T07:09:03.380Z"
   },
   {
    "duration": 11096,
    "start_time": "2022-08-26T07:10:58.212Z"
   },
   {
    "duration": 7636,
    "start_time": "2022-08-26T07:11:49.586Z"
   },
   {
    "duration": 7904,
    "start_time": "2022-08-26T07:12:55.130Z"
   },
   {
    "duration": 58,
    "start_time": "2022-08-26T07:15:21.884Z"
   },
   {
    "duration": 55,
    "start_time": "2022-08-26T07:17:40.528Z"
   },
   {
    "duration": 103,
    "start_time": "2022-08-26T07:17:50.952Z"
   },
   {
    "duration": 31,
    "start_time": "2022-08-26T07:18:20.401Z"
   },
   {
    "duration": 28,
    "start_time": "2022-08-26T07:18:36.760Z"
   },
   {
    "duration": 79,
    "start_time": "2022-08-26T07:19:14.104Z"
   },
   {
    "duration": 7863,
    "start_time": "2022-08-26T07:19:20.704Z"
   },
   {
    "duration": 7656,
    "start_time": "2022-08-26T07:20:22.330Z"
   },
   {
    "duration": 7795,
    "start_time": "2022-08-26T07:20:44.185Z"
   },
   {
    "duration": 28,
    "start_time": "2022-08-26T07:21:18.362Z"
   },
   {
    "duration": 28,
    "start_time": "2022-08-26T07:21:32.280Z"
   },
   {
    "duration": 19,
    "start_time": "2022-08-26T07:23:50.825Z"
   },
   {
    "duration": 11,
    "start_time": "2022-08-26T07:24:17.951Z"
   },
   {
    "duration": 25,
    "start_time": "2022-08-26T07:24:47.839Z"
   },
   {
    "duration": 26,
    "start_time": "2022-08-26T07:25:34.741Z"
   },
   {
    "duration": 20,
    "start_time": "2022-08-26T07:25:57.382Z"
   },
   {
    "duration": 22,
    "start_time": "2022-08-26T07:26:01.925Z"
   },
   {
    "duration": 24,
    "start_time": "2022-08-26T07:26:26.725Z"
   },
   {
    "duration": 22,
    "start_time": "2022-08-26T07:26:47.373Z"
   },
   {
    "duration": 24,
    "start_time": "2022-08-26T07:26:52.831Z"
   },
   {
    "duration": 27,
    "start_time": "2022-08-26T07:28:31.023Z"
   },
   {
    "duration": 24,
    "start_time": "2022-08-26T07:28:49.517Z"
   },
   {
    "duration": 28,
    "start_time": "2022-08-26T07:29:00.453Z"
   },
   {
    "duration": 25,
    "start_time": "2022-08-26T07:30:34.373Z"
   },
   {
    "duration": 12139,
    "start_time": "2022-08-26T07:30:50.117Z"
   },
   {
    "duration": 8053,
    "start_time": "2022-08-26T07:31:24.871Z"
   },
   {
    "duration": 21,
    "start_time": "2022-08-26T07:34:12.267Z"
   },
   {
    "duration": 15,
    "start_time": "2022-08-26T07:34:20.075Z"
   },
   {
    "duration": 29,
    "start_time": "2022-08-26T07:46:54.323Z"
   },
   {
    "duration": 15,
    "start_time": "2022-08-26T07:47:39.684Z"
   },
   {
    "duration": 17,
    "start_time": "2022-08-26T07:47:50.579Z"
   },
   {
    "duration": 55,
    "start_time": "2022-08-26T07:50:56.221Z"
   },
   {
    "duration": 45,
    "start_time": "2022-08-26T07:50:59.418Z"
   },
   {
    "duration": 37,
    "start_time": "2022-08-26T08:02:35.424Z"
   },
   {
    "duration": 18,
    "start_time": "2022-08-26T08:02:40.080Z"
   },
   {
    "duration": 37,
    "start_time": "2022-08-26T08:02:54.905Z"
   },
   {
    "duration": 12,
    "start_time": "2022-08-26T08:04:23.840Z"
   },
   {
    "duration": 18,
    "start_time": "2022-08-26T08:04:44.080Z"
   },
   {
    "duration": 15,
    "start_time": "2022-08-26T08:04:50.328Z"
   },
   {
    "duration": 10,
    "start_time": "2022-08-26T08:05:49.883Z"
   },
   {
    "duration": 200,
    "start_time": "2022-08-26T08:05:54.040Z"
   },
   {
    "duration": 16,
    "start_time": "2022-08-26T08:06:20.040Z"
   },
   {
    "duration": 13,
    "start_time": "2022-08-26T08:07:09.512Z"
   },
   {
    "duration": 6,
    "start_time": "2022-08-26T08:07:43.720Z"
   },
   {
    "duration": 13,
    "start_time": "2022-08-26T08:08:09.200Z"
   },
   {
    "duration": 8,
    "start_time": "2022-08-26T08:08:30.718Z"
   },
   {
    "duration": 11,
    "start_time": "2022-08-26T08:09:04.934Z"
   },
   {
    "duration": 248,
    "start_time": "2022-08-26T08:13:03.191Z"
   },
   {
    "duration": 28,
    "start_time": "2022-08-26T08:13:36.702Z"
   },
   {
    "duration": 43,
    "start_time": "2022-08-26T08:13:55.623Z"
   },
   {
    "duration": 54,
    "start_time": "2022-08-26T08:14:01.541Z"
   },
   {
    "duration": 41,
    "start_time": "2022-08-26T08:14:18.606Z"
   },
   {
    "duration": 44,
    "start_time": "2022-08-26T08:15:42.166Z"
   },
   {
    "duration": 48,
    "start_time": "2022-08-26T08:15:55.022Z"
   },
   {
    "duration": 37,
    "start_time": "2022-08-26T08:16:03.272Z"
   },
   {
    "duration": 43,
    "start_time": "2022-08-26T08:16:12.303Z"
   },
   {
    "duration": 46,
    "start_time": "2022-08-26T08:16:39.558Z"
   },
   {
    "duration": 156,
    "start_time": "2022-08-26T08:17:33.486Z"
   },
   {
    "duration": 41,
    "start_time": "2022-08-26T08:17:42.734Z"
   },
   {
    "duration": 11,
    "start_time": "2022-08-26T08:17:45.629Z"
   },
   {
    "duration": 6,
    "start_time": "2022-08-26T08:17:48.749Z"
   },
   {
    "duration": 6,
    "start_time": "2022-08-26T08:17:55.190Z"
   },
   {
    "duration": 8,
    "start_time": "2022-08-26T08:18:08.500Z"
   },
   {
    "duration": 167,
    "start_time": "2022-08-26T08:18:58.150Z"
   },
   {
    "duration": 70,
    "start_time": "2022-08-26T08:25:11.430Z"
   },
   {
    "duration": 6,
    "start_time": "2022-08-26T08:26:19.635Z"
   },
   {
    "duration": 147,
    "start_time": "2022-08-26T08:26:24.131Z"
   },
   {
    "duration": 508,
    "start_time": "2022-08-26T08:26:55.780Z"
   },
   {
    "duration": 536,
    "start_time": "2022-08-26T08:27:03.619Z"
   },
   {
    "duration": 405,
    "start_time": "2022-08-26T08:27:22.315Z"
   },
   {
    "duration": 19,
    "start_time": "2022-08-26T08:27:43.987Z"
   },
   {
    "duration": 260,
    "start_time": "2022-08-26T08:27:47.547Z"
   },
   {
    "duration": 269,
    "start_time": "2022-08-26T08:28:08.099Z"
   },
   {
    "duration": 274,
    "start_time": "2022-08-26T08:28:28.395Z"
   },
   {
    "duration": 140,
    "start_time": "2022-08-26T08:28:35.707Z"
   },
   {
    "duration": 12,
    "start_time": "2022-08-26T08:28:58.667Z"
   },
   {
    "duration": 12,
    "start_time": "2022-08-26T08:29:04.467Z"
   },
   {
    "duration": 278,
    "start_time": "2022-08-26T08:29:11.849Z"
   },
   {
    "duration": 219,
    "start_time": "2022-08-26T08:31:44.557Z"
   },
   {
    "duration": 228,
    "start_time": "2022-08-26T08:32:10.322Z"
   },
   {
    "duration": 225,
    "start_time": "2022-08-26T08:32:49.818Z"
   },
   {
    "duration": 206,
    "start_time": "2022-08-26T08:36:45.626Z"
   },
   {
    "duration": 226,
    "start_time": "2022-08-26T08:37:36.489Z"
   },
   {
    "duration": 195,
    "start_time": "2022-08-26T08:37:42.033Z"
   },
   {
    "duration": 198,
    "start_time": "2022-08-26T08:37:46.904Z"
   },
   {
    "duration": 606,
    "start_time": "2022-08-26T08:38:02.176Z"
   },
   {
    "duration": 560,
    "start_time": "2022-08-26T08:38:32.546Z"
   },
   {
    "duration": 520,
    "start_time": "2022-08-26T08:38:42.897Z"
   },
   {
    "duration": 569,
    "start_time": "2022-08-26T08:39:21.120Z"
   },
   {
    "duration": 7,
    "start_time": "2022-08-26T10:25:52.912Z"
   },
   {
    "duration": 9,
    "start_time": "2022-08-26T10:26:37.908Z"
   },
   {
    "duration": 10,
    "start_time": "2022-08-26T10:26:54.115Z"
   },
   {
    "duration": 146,
    "start_time": "2022-08-26T10:27:03.853Z"
   },
   {
    "duration": 160,
    "start_time": "2022-08-26T10:27:15.915Z"
   },
   {
    "duration": 538,
    "start_time": "2022-08-26T10:28:08.126Z"
   },
   {
    "duration": 555,
    "start_time": "2022-08-26T10:30:04.957Z"
   },
   {
    "duration": 540,
    "start_time": "2022-08-26T10:30:27.132Z"
   },
   {
    "duration": 137,
    "start_time": "2022-08-26T10:31:05.524Z"
   },
   {
    "duration": 212,
    "start_time": "2022-08-26T10:31:14.660Z"
   },
   {
    "duration": 9,
    "start_time": "2022-08-26T10:31:43.964Z"
   },
   {
    "duration": 15,
    "start_time": "2022-08-26T10:32:05.219Z"
   },
   {
    "duration": 85,
    "start_time": "2022-08-26T10:33:24.587Z"
   },
   {
    "duration": 13,
    "start_time": "2022-08-26T10:33:29.370Z"
   },
   {
    "duration": 199,
    "start_time": "2022-08-26T10:33:36.312Z"
   },
   {
    "duration": 298,
    "start_time": "2022-08-26T10:33:44.283Z"
   },
   {
    "duration": 7,
    "start_time": "2022-08-26T10:34:53.971Z"
   },
   {
    "duration": 347,
    "start_time": "2022-08-26T10:35:33.713Z"
   },
   {
    "duration": 9,
    "start_time": "2022-08-26T10:36:41.827Z"
   },
   {
    "duration": 159,
    "start_time": "2022-08-26T10:37:00.645Z"
   },
   {
    "duration": 381,
    "start_time": "2022-08-26T10:37:39.820Z"
   },
   {
    "duration": 19,
    "start_time": "2022-08-26T10:41:02.041Z"
   },
   {
    "duration": 8,
    "start_time": "2022-08-26T10:41:13.530Z"
   },
   {
    "duration": 10,
    "start_time": "2022-08-26T11:26:01.502Z"
   },
   {
    "duration": 2977,
    "start_time": "2022-08-26T11:26:21.046Z"
   },
   {
    "duration": 35,
    "start_time": "2022-08-26T11:26:28.318Z"
   },
   {
    "duration": 604,
    "start_time": "2022-08-26T11:28:19.730Z"
   },
   {
    "duration": 17,
    "start_time": "2022-08-26T11:29:16.017Z"
   },
   {
    "duration": 9,
    "start_time": "2022-08-26T11:29:31.286Z"
   },
   {
    "duration": 8,
    "start_time": "2022-08-26T11:29:37.798Z"
   },
   {
    "duration": 6483,
    "start_time": "2022-08-26T11:29:47.646Z"
   },
   {
    "duration": 6689,
    "start_time": "2022-08-26T11:30:17.543Z"
   },
   {
    "duration": 1074,
    "start_time": "2022-08-26T11:34:19.829Z"
   },
   {
    "duration": 50,
    "start_time": "2022-08-26T11:34:29.014Z"
   },
   {
    "duration": 1188,
    "start_time": "2022-08-26T11:34:39.253Z"
   },
   {
    "duration": 2050,
    "start_time": "2022-08-26T11:34:52.629Z"
   },
   {
    "duration": 2399,
    "start_time": "2022-08-26T11:44:21.700Z"
   },
   {
    "duration": 2995,
    "start_time": "2022-08-26T11:44:39.602Z"
   },
   {
    "duration": 6521,
    "start_time": "2022-08-26T11:44:49.646Z"
   },
   {
    "duration": 27,
    "start_time": "2022-08-26T11:49:10.618Z"
   },
   {
    "duration": 8,
    "start_time": "2022-08-26T11:49:57.242Z"
   },
   {
    "duration": 9,
    "start_time": "2022-08-26T11:50:14.976Z"
   },
   {
    "duration": 9,
    "start_time": "2022-08-26T11:50:23.334Z"
   },
   {
    "duration": 6428,
    "start_time": "2022-08-26T11:52:27.795Z"
   },
   {
    "duration": 6897,
    "start_time": "2022-08-26T11:56:03.732Z"
   },
   {
    "duration": 6778,
    "start_time": "2022-08-26T11:56:11.913Z"
   }
  ],
  "kernelspec": {
   "display_name": "Python 3",
   "language": "python",
   "name": "python3"
  },
  "language_info": {
   "codemirror_mode": {
    "name": "ipython",
    "version": 3
   },
   "file_extension": ".py",
   "mimetype": "text/x-python",
   "name": "python",
   "nbconvert_exporter": "python",
   "pygments_lexer": "ipython3",
   "version": "3.8.8"
  },
  "toc": {
   "base_numbering": 1,
   "nav_menu": {
    "height": "156px",
    "width": "224px"
   },
   "number_sections": true,
   "sideBar": true,
   "skip_h1_title": true,
   "title_cell": "Table of Contents",
   "title_sidebar": "Contents",
   "toc_cell": false,
   "toc_position": {},
   "toc_section_display": true,
   "toc_window_display": false
  }
 },
 "nbformat": 4,
 "nbformat_minor": 2
}
