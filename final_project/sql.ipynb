{
 "cells": [
  {
   "cell_type": "markdown",
   "metadata": {},
   "source": [
    "# SQL\n",
    "\n",
    "Коронавирус застал мир врасплох, изменив привычный порядок вещей. В свободное время жители городов больше не выходят на улицу, не посещают кафе и торговые центры. Зато стало больше времени для книг. Это заметили стартаперы — и бросились создавать приложения для тех, кто любит читать.\n",
    "\n",
    "Наша компания решила быть на волне и купила крупный сервис для чтения книг по подписке. \n",
    "В базе данных — информация о книгах, издательствах, авторах, а также пользовательские обзоры книг. Эти данные помогут сформулировать ценностное предложение для нового продукта.\n",
    "\n",
    "### Описание данных\n",
    "\n",
    "**Таблица `books`**\n",
    "\n",
    "Содержит данные о книгах:\n",
    "\n",
    "- `book_id` — идентификатор книги;\n",
    "- `author_id` — идентификатор автора;\n",
    "- `title` — название книги;\n",
    "- `num_pages` — количество страниц;\n",
    "- `publication_date` — дата публикации книги;\n",
    "- `publisher_id` — идентификатор издателя.\n",
    "\n",
    "**Таблица `authors`**\n",
    "\n",
    "Содержит данные об авторах:\n",
    "\n",
    "- `author_id` — идентификатор автора;\n",
    "- `author` — имя автора.\n",
    "\n",
    "**Таблица `publishers`**\n",
    "\n",
    "Содержит данные об издательствах:\n",
    "\n",
    "- `publisher_id` — идентификатор издательства;\n",
    "- `publisher` — название издательства;\n",
    "\n",
    "**Таблица `ratings`**\n",
    "\n",
    "Содержит данные о пользовательских оценках книг:\n",
    "\n",
    "- `rating_id` — идентификатор оценки;\n",
    "- `book_id` — идентификатор книги;\n",
    "- `username` — имя пользователя, оставившего оценку;\n",
    "- `rating` — оценка книги.\n",
    "\n",
    "**Таблица `reviews`**\n",
    "\n",
    "Содержит данные о пользовательских обзорах на книги:\n",
    "\n",
    "- `review_id` — идентификатор обзора;\n",
    "- `book_id` — идентификатор книги;\n",
    "- `username` — имя пользователя, написавшего обзор;\n",
    "- `text` — текст обзора.Э"
   ]
  },
  {
   "cell_type": "markdown",
   "metadata": {},
   "source": [
    "![avatar](https://concrete-web-bad.notion.site/image/https%3A%2F%2Fs3-us-west-2.amazonaws.com%2Fsecure.notion-static.com%2F069818d1-0e5c-4d87-a461-0de584ab9c33%2FUntitled_(33).png?table=block&id=bd53c8db-b4fd-49eb-8cc9-572ebb3c9163&spaceId=9e4bd47b-c6e6-4ca3-bcee-279794b47315&width=2000&userId=&cache=v2)"
   ]
  },
  {
   "cell_type": "markdown",
   "metadata": {},
   "source": [
    "### Задания\n",
    "\n",
    "1. Посчитать, сколько книг вышло после 1 января 2000 года;\n",
    "2. Для каждой книги посчитать количество обзоров и среднюю оценку;\n",
    "3. Определить издательство, которое выпустило наибольшее число книг толще 50 страниц — так исключим из анализа брошюры;\n",
    "4. Определить автора с самой высокой средней оценкой книг — учитывать только книги с 50 и более оценками;\n",
    "5. Посчитать среднее количество обзоров от пользователей, которые поставили больше 50 оценок."
   ]
  },
  {
   "cell_type": "code",
   "execution_count": 11,
   "metadata": {},
   "outputs": [],
   "source": [
    "import pandas as pd\n",
    "from sqlalchemy import create_engine"
   ]
  },
  {
   "cell_type": "code",
   "execution_count": 12,
   "metadata": {},
   "outputs": [],
   "source": [
    "db_config = {'user': 'praktikum_student', # имя пользователя\n",
    "'pwd': 'Sdf4$2;d-d30pp', # пароль\n",
    "'host': 'rc1b-wcoijxj3yxfsf3fs.mdb.yandexcloud.net',\n",
    "'port': 6432, # порт подключения\n",
    "'db': 'data-analyst-final-project-db'} # название базы данных\n",
    "connection_string = 'postgresql://{}:{}@{}:{}/{}'.format(db_config['user'],\n",
    " db_config['pwd'],\n",
    " db_config['host'],\n",
    " db_config['port'],\n",
    " db_config['db']) \n",
    "engine = create_engine(connection_string, connect_args={'sslmode':'require'}) "
   ]
  },
  {
   "cell_type": "code",
   "execution_count": 13,
   "metadata": {},
   "outputs": [
    {
     "data": {
      "text/html": [
       "<div>\n",
       "<style scoped>\n",
       "    .dataframe tbody tr th:only-of-type {\n",
       "        vertical-align: middle;\n",
       "    }\n",
       "\n",
       "    .dataframe tbody tr th {\n",
       "        vertical-align: top;\n",
       "    }\n",
       "\n",
       "    .dataframe thead th {\n",
       "        text-align: right;\n",
       "    }\n",
       "</style>\n",
       "<table border=\"1\" class=\"dataframe\">\n",
       "  <thead>\n",
       "    <tr style=\"text-align: right;\">\n",
       "      <th></th>\n",
       "      <th>book_id</th>\n",
       "      <th>author_id</th>\n",
       "      <th>title</th>\n",
       "      <th>num_pages</th>\n",
       "      <th>publication_date</th>\n",
       "      <th>publisher_id</th>\n",
       "    </tr>\n",
       "  </thead>\n",
       "  <tbody>\n",
       "    <tr>\n",
       "      <th>0</th>\n",
       "      <td>1</td>\n",
       "      <td>546</td>\n",
       "      <td>'Salem's Lot</td>\n",
       "      <td>594</td>\n",
       "      <td>2005-11-01</td>\n",
       "      <td>93</td>\n",
       "    </tr>\n",
       "    <tr>\n",
       "      <th>1</th>\n",
       "      <td>2</td>\n",
       "      <td>465</td>\n",
       "      <td>1 000 Places to See Before You Die</td>\n",
       "      <td>992</td>\n",
       "      <td>2003-05-22</td>\n",
       "      <td>336</td>\n",
       "    </tr>\n",
       "    <tr>\n",
       "      <th>2</th>\n",
       "      <td>3</td>\n",
       "      <td>407</td>\n",
       "      <td>13 Little Blue Envelopes (Little Blue Envelope...</td>\n",
       "      <td>322</td>\n",
       "      <td>2010-12-21</td>\n",
       "      <td>135</td>\n",
       "    </tr>\n",
       "    <tr>\n",
       "      <th>3</th>\n",
       "      <td>4</td>\n",
       "      <td>82</td>\n",
       "      <td>1491: New Revelations of the Americas Before C...</td>\n",
       "      <td>541</td>\n",
       "      <td>2006-10-10</td>\n",
       "      <td>309</td>\n",
       "    </tr>\n",
       "    <tr>\n",
       "      <th>4</th>\n",
       "      <td>5</td>\n",
       "      <td>125</td>\n",
       "      <td>1776</td>\n",
       "      <td>386</td>\n",
       "      <td>2006-07-04</td>\n",
       "      <td>268</td>\n",
       "    </tr>\n",
       "    <tr>\n",
       "      <th>...</th>\n",
       "      <td>...</td>\n",
       "      <td>...</td>\n",
       "      <td>...</td>\n",
       "      <td>...</td>\n",
       "      <td>...</td>\n",
       "      <td>...</td>\n",
       "    </tr>\n",
       "    <tr>\n",
       "      <th>995</th>\n",
       "      <td>996</td>\n",
       "      <td>571</td>\n",
       "      <td>Wyrd Sisters (Discworld  #6; Witches #2)</td>\n",
       "      <td>265</td>\n",
       "      <td>2001-02-06</td>\n",
       "      <td>147</td>\n",
       "    </tr>\n",
       "    <tr>\n",
       "      <th>996</th>\n",
       "      <td>997</td>\n",
       "      <td>454</td>\n",
       "      <td>Xenocide (Ender's Saga  #3)</td>\n",
       "      <td>592</td>\n",
       "      <td>1996-07-15</td>\n",
       "      <td>297</td>\n",
       "    </tr>\n",
       "    <tr>\n",
       "      <th>997</th>\n",
       "      <td>998</td>\n",
       "      <td>201</td>\n",
       "      <td>Year of Wonders</td>\n",
       "      <td>358</td>\n",
       "      <td>2002-04-30</td>\n",
       "      <td>212</td>\n",
       "    </tr>\n",
       "    <tr>\n",
       "      <th>998</th>\n",
       "      <td>999</td>\n",
       "      <td>94</td>\n",
       "      <td>You Suck (A Love Story  #2)</td>\n",
       "      <td>328</td>\n",
       "      <td>2007-01-16</td>\n",
       "      <td>331</td>\n",
       "    </tr>\n",
       "    <tr>\n",
       "      <th>999</th>\n",
       "      <td>1000</td>\n",
       "      <td>509</td>\n",
       "      <td>Zen and the Art of Motorcycle Maintenance: An ...</td>\n",
       "      <td>540</td>\n",
       "      <td>2006-04-25</td>\n",
       "      <td>143</td>\n",
       "    </tr>\n",
       "  </tbody>\n",
       "</table>\n",
       "<p>1000 rows × 6 columns</p>\n",
       "</div>"
      ],
      "text/plain": [
       "     book_id  author_id                                              title  \\\n",
       "0          1        546                                       'Salem's Lot   \n",
       "1          2        465                 1 000 Places to See Before You Die   \n",
       "2          3        407  13 Little Blue Envelopes (Little Blue Envelope...   \n",
       "3          4         82  1491: New Revelations of the Americas Before C...   \n",
       "4          5        125                                               1776   \n",
       "..       ...        ...                                                ...   \n",
       "995      996        571           Wyrd Sisters (Discworld  #6; Witches #2)   \n",
       "996      997        454                        Xenocide (Ender's Saga  #3)   \n",
       "997      998        201                                    Year of Wonders   \n",
       "998      999         94                        You Suck (A Love Story  #2)   \n",
       "999     1000        509  Zen and the Art of Motorcycle Maintenance: An ...   \n",
       "\n",
       "     num_pages publication_date  publisher_id  \n",
       "0          594       2005-11-01            93  \n",
       "1          992       2003-05-22           336  \n",
       "2          322       2010-12-21           135  \n",
       "3          541       2006-10-10           309  \n",
       "4          386       2006-07-04           268  \n",
       "..         ...              ...           ...  \n",
       "995        265       2001-02-06           147  \n",
       "996        592       1996-07-15           297  \n",
       "997        358       2002-04-30           212  \n",
       "998        328       2007-01-16           331  \n",
       "999        540       2006-04-25           143  \n",
       "\n",
       "[1000 rows x 6 columns]"
      ]
     },
     "execution_count": 13,
     "metadata": {},
     "output_type": "execute_result"
    }
   ],
   "source": [
    "query = '''\n",
    "            SELECT *\n",
    "            FROM books\n",
    "'''\n",
    "pd.io.sql.read_sql(query, con = engine) "
   ]
  },
  {
   "cell_type": "markdown",
   "metadata": {},
   "source": [
    "## Задача 1\n",
    "Посчитать, сколько книг вышло после 1 января 2000 года"
   ]
  },
  {
   "cell_type": "code",
   "execution_count": 14,
   "metadata": {},
   "outputs": [
    {
     "data": {
      "text/html": [
       "<div>\n",
       "<style scoped>\n",
       "    .dataframe tbody tr th:only-of-type {\n",
       "        vertical-align: middle;\n",
       "    }\n",
       "\n",
       "    .dataframe tbody tr th {\n",
       "        vertical-align: top;\n",
       "    }\n",
       "\n",
       "    .dataframe thead th {\n",
       "        text-align: right;\n",
       "    }\n",
       "</style>\n",
       "<table border=\"1\" class=\"dataframe\">\n",
       "  <thead>\n",
       "    <tr style=\"text-align: right;\">\n",
       "      <th></th>\n",
       "      <th>count</th>\n",
       "    </tr>\n",
       "  </thead>\n",
       "  <tbody>\n",
       "    <tr>\n",
       "      <th>0</th>\n",
       "      <td>819</td>\n",
       "    </tr>\n",
       "  </tbody>\n",
       "</table>\n",
       "</div>"
      ],
      "text/plain": [
       "   count\n",
       "0    819"
      ]
     },
     "execution_count": 14,
     "metadata": {},
     "output_type": "execute_result"
    }
   ],
   "source": [
    "query = '''\n",
    "            SELECT COUNT(*)\n",
    "            FROM books\n",
    "            WHERE publication_date > '2000-01-01'\n",
    "'''\n",
    "\n",
    "pd.io.sql.read_sql(query, con = engine) "
   ]
  },
  {
   "cell_type": "markdown",
   "metadata": {},
   "source": [
    "## Задача 2\n",
    "Для каждой книги посчитать количество обзоров и среднюю оценку"
   ]
  },
  {
   "cell_type": "code",
   "execution_count": 15,
   "metadata": {},
   "outputs": [
    {
     "data": {
      "text/html": [
       "<div>\n",
       "<style scoped>\n",
       "    .dataframe tbody tr th:only-of-type {\n",
       "        vertical-align: middle;\n",
       "    }\n",
       "\n",
       "    .dataframe tbody tr th {\n",
       "        vertical-align: top;\n",
       "    }\n",
       "\n",
       "    .dataframe thead th {\n",
       "        text-align: right;\n",
       "    }\n",
       "</style>\n",
       "<table border=\"1\" class=\"dataframe\">\n",
       "  <thead>\n",
       "    <tr style=\"text-align: right;\">\n",
       "      <th></th>\n",
       "      <th>book_id</th>\n",
       "      <th>author_id</th>\n",
       "      <th>title</th>\n",
       "      <th>num_pages</th>\n",
       "      <th>publication_date</th>\n",
       "      <th>publisher_id</th>\n",
       "      <th>reviews_count</th>\n",
       "      <th>avg_rating</th>\n",
       "    </tr>\n",
       "  </thead>\n",
       "  <tbody>\n",
       "    <tr>\n",
       "      <th>0</th>\n",
       "      <td>652</td>\n",
       "      <td>3</td>\n",
       "      <td>The Body in the Library (Miss Marple  #3)</td>\n",
       "      <td>191</td>\n",
       "      <td>2006-09-01</td>\n",
       "      <td>50</td>\n",
       "      <td>2.0</td>\n",
       "      <td>4.500000</td>\n",
       "    </tr>\n",
       "    <tr>\n",
       "      <th>1</th>\n",
       "      <td>273</td>\n",
       "      <td>352</td>\n",
       "      <td>Galápagos</td>\n",
       "      <td>324</td>\n",
       "      <td>1999-01-12</td>\n",
       "      <td>88</td>\n",
       "      <td>2.0</td>\n",
       "      <td>4.500000</td>\n",
       "    </tr>\n",
       "    <tr>\n",
       "      <th>2</th>\n",
       "      <td>51</td>\n",
       "      <td>54</td>\n",
       "      <td>A Tree Grows in Brooklyn</td>\n",
       "      <td>496</td>\n",
       "      <td>2006-05-30</td>\n",
       "      <td>135</td>\n",
       "      <td>5.0</td>\n",
       "      <td>4.250000</td>\n",
       "    </tr>\n",
       "    <tr>\n",
       "      <th>3</th>\n",
       "      <td>951</td>\n",
       "      <td>540</td>\n",
       "      <td>Undaunted Courage: The Pioneering First Missio...</td>\n",
       "      <td>592</td>\n",
       "      <td>2003-10-06</td>\n",
       "      <td>269</td>\n",
       "      <td>2.0</td>\n",
       "      <td>4.000000</td>\n",
       "    </tr>\n",
       "    <tr>\n",
       "      <th>4</th>\n",
       "      <td>839</td>\n",
       "      <td>332</td>\n",
       "      <td>The Prophet</td>\n",
       "      <td>127</td>\n",
       "      <td>2010-01-01</td>\n",
       "      <td>251</td>\n",
       "      <td>4.0</td>\n",
       "      <td>4.285714</td>\n",
       "    </tr>\n",
       "    <tr>\n",
       "      <th>...</th>\n",
       "      <td>...</td>\n",
       "      <td>...</td>\n",
       "      <td>...</td>\n",
       "      <td>...</td>\n",
       "      <td>...</td>\n",
       "      <td>...</td>\n",
       "      <td>...</td>\n",
       "      <td>...</td>\n",
       "    </tr>\n",
       "    <tr>\n",
       "      <th>995</th>\n",
       "      <td>672</td>\n",
       "      <td>144</td>\n",
       "      <td>The Cat in the Hat and Other Dr. Seuss Favorites</td>\n",
       "      <td>61</td>\n",
       "      <td>2003-10-14</td>\n",
       "      <td>174</td>\n",
       "      <td>NaN</td>\n",
       "      <td>5.000000</td>\n",
       "    </tr>\n",
       "    <tr>\n",
       "      <th>996</th>\n",
       "      <td>83</td>\n",
       "      <td>174</td>\n",
       "      <td>Anne Rice's The Vampire Lestat: A Graphic Novel</td>\n",
       "      <td>404</td>\n",
       "      <td>1991-11-30</td>\n",
       "      <td>33</td>\n",
       "      <td>NaN</td>\n",
       "      <td>3.666667</td>\n",
       "    </tr>\n",
       "    <tr>\n",
       "      <th>997</th>\n",
       "      <td>221</td>\n",
       "      <td>151</td>\n",
       "      <td>Essential Tales and Poems</td>\n",
       "      <td>688</td>\n",
       "      <td>2004-10-25</td>\n",
       "      <td>42</td>\n",
       "      <td>NaN</td>\n",
       "      <td>4.000000</td>\n",
       "    </tr>\n",
       "    <tr>\n",
       "      <th>998</th>\n",
       "      <td>387</td>\n",
       "      <td>365</td>\n",
       "      <td>Leonardo's Notebooks</td>\n",
       "      <td>352</td>\n",
       "      <td>2005-08-01</td>\n",
       "      <td>49</td>\n",
       "      <td>NaN</td>\n",
       "      <td>4.000000</td>\n",
       "    </tr>\n",
       "    <tr>\n",
       "      <th>999</th>\n",
       "      <td>808</td>\n",
       "      <td>350</td>\n",
       "      <td>The Natural Way to Draw</td>\n",
       "      <td>240</td>\n",
       "      <td>1990-02-01</td>\n",
       "      <td>178</td>\n",
       "      <td>NaN</td>\n",
       "      <td>3.000000</td>\n",
       "    </tr>\n",
       "  </tbody>\n",
       "</table>\n",
       "<p>1000 rows × 8 columns</p>\n",
       "</div>"
      ],
      "text/plain": [
       "     book_id  author_id                                              title  \\\n",
       "0        652          3          The Body in the Library (Miss Marple  #3)   \n",
       "1        273        352                                          Galápagos   \n",
       "2         51         54                           A Tree Grows in Brooklyn   \n",
       "3        951        540  Undaunted Courage: The Pioneering First Missio...   \n",
       "4        839        332                                        The Prophet   \n",
       "..       ...        ...                                                ...   \n",
       "995      672        144   The Cat in the Hat and Other Dr. Seuss Favorites   \n",
       "996       83        174    Anne Rice's The Vampire Lestat: A Graphic Novel   \n",
       "997      221        151                          Essential Tales and Poems   \n",
       "998      387        365                               Leonardo's Notebooks   \n",
       "999      808        350                            The Natural Way to Draw   \n",
       "\n",
       "     num_pages publication_date  publisher_id  reviews_count  avg_rating  \n",
       "0          191       2006-09-01            50            2.0    4.500000  \n",
       "1          324       1999-01-12            88            2.0    4.500000  \n",
       "2          496       2006-05-30           135            5.0    4.250000  \n",
       "3          592       2003-10-06           269            2.0    4.000000  \n",
       "4          127       2010-01-01           251            4.0    4.285714  \n",
       "..         ...              ...           ...            ...         ...  \n",
       "995         61       2003-10-14           174            NaN    5.000000  \n",
       "996        404       1991-11-30            33            NaN    3.666667  \n",
       "997        688       2004-10-25            42            NaN    4.000000  \n",
       "998        352       2005-08-01            49            NaN    4.000000  \n",
       "999        240       1990-02-01           178            NaN    3.000000  \n",
       "\n",
       "[1000 rows x 8 columns]"
      ]
     },
     "execution_count": 15,
     "metadata": {},
     "output_type": "execute_result"
    }
   ],
   "source": [
    "query = '''\n",
    "            WITH rc AS (SELECT book_id, COUNT(*) AS reviews_count\n",
    "                        FROM reviews\n",
    "                        GROUP BY book_id),\n",
    "            avg_ratings AS (SELECT book_id, AVG(rating) AS avg_rating\n",
    "                            FROM ratings\n",
    "                            GROUP BY book_id)\n",
    "            \n",
    "            SELECT b.*, rc.reviews_count, ar.avg_rating\n",
    "            FROM books AS b\n",
    "            LEFT JOIN avg_ratings AS ar ON b.book_id = ar.book_id\n",
    "            LEFT JOIN rc ON  b.book_id = rc.book_id\n",
    "'''\n",
    "\n",
    "pd.io.sql.read_sql(query, con = engine) "
   ]
  },
  {
   "cell_type": "markdown",
   "metadata": {},
   "source": [
    "## Задача 3\n",
    "Определить издательство, которое выпустило наибольшее число книг толще 50 страниц"
   ]
  },
  {
   "cell_type": "code",
   "execution_count": 17,
   "metadata": {},
   "outputs": [
    {
     "data": {
      "text/html": [
       "<div>\n",
       "<style scoped>\n",
       "    .dataframe tbody tr th:only-of-type {\n",
       "        vertical-align: middle;\n",
       "    }\n",
       "\n",
       "    .dataframe tbody tr th {\n",
       "        vertical-align: top;\n",
       "    }\n",
       "\n",
       "    .dataframe thead th {\n",
       "        text-align: right;\n",
       "    }\n",
       "</style>\n",
       "<table border=\"1\" class=\"dataframe\">\n",
       "  <thead>\n",
       "    <tr style=\"text-align: right;\">\n",
       "      <th></th>\n",
       "      <th>publisher_id</th>\n",
       "      <th>publisher</th>\n",
       "      <th>count</th>\n",
       "    </tr>\n",
       "  </thead>\n",
       "  <tbody>\n",
       "    <tr>\n",
       "      <th>0</th>\n",
       "      <td>212</td>\n",
       "      <td>Penguin Books</td>\n",
       "      <td>42</td>\n",
       "    </tr>\n",
       "  </tbody>\n",
       "</table>\n",
       "</div>"
      ],
      "text/plain": [
       "   publisher_id      publisher  count\n",
       "0           212  Penguin Books     42"
      ]
     },
     "execution_count": 17,
     "metadata": {},
     "output_type": "execute_result"
    }
   ],
   "source": [
    "query = '''\n",
    "            SELECT b.publisher_id, p.publisher, COUNT(*)\n",
    "            FROM books AS b\n",
    "            JOIN publishers AS p ON p.publisher_id = b.publisher_id\n",
    "            WHERE b.num_pages > 50\n",
    "            GROUP BY 1, 2\n",
    "            ORDER BY COUNT(*) DESC\n",
    "            LIMIT 1\n",
    "'''\n",
    "\n",
    "pd.io.sql.read_sql(query, con = engine) "
   ]
  },
  {
   "cell_type": "markdown",
   "metadata": {},
   "source": [
    "## Задача 4\n",
    "Определить автора с самой высокой средней оценкой книг — учитывать только книги с 50 и более оценками"
   ]
  },
  {
   "cell_type": "code",
   "execution_count": 19,
   "metadata": {},
   "outputs": [
    {
     "data": {
      "text/html": [
       "<div>\n",
       "<style scoped>\n",
       "    .dataframe tbody tr th:only-of-type {\n",
       "        vertical-align: middle;\n",
       "    }\n",
       "\n",
       "    .dataframe tbody tr th {\n",
       "        vertical-align: top;\n",
       "    }\n",
       "\n",
       "    .dataframe thead th {\n",
       "        text-align: right;\n",
       "    }\n",
       "</style>\n",
       "<table border=\"1\" class=\"dataframe\">\n",
       "  <thead>\n",
       "    <tr style=\"text-align: right;\">\n",
       "      <th></th>\n",
       "      <th>author</th>\n",
       "      <th>avg</th>\n",
       "    </tr>\n",
       "  </thead>\n",
       "  <tbody>\n",
       "    <tr>\n",
       "      <th>0</th>\n",
       "      <td>J.K. Rowling/Mary GrandPré</td>\n",
       "      <td>4.283844</td>\n",
       "    </tr>\n",
       "  </tbody>\n",
       "</table>\n",
       "</div>"
      ],
      "text/plain": [
       "                       author       avg\n",
       "0  J.K. Rowling/Mary GrandPré  4.283844"
      ]
     },
     "execution_count": 19,
     "metadata": {},
     "output_type": "execute_result"
    }
   ],
   "source": [
    "query = ''' \n",
    "            WITH book_50 AS ( \n",
    "                SELECT book_id, AVG(rating) AS avg_rating\n",
    "                FROM ratings\n",
    "                GROUP BY book_id\n",
    "                HAVING COUNT(*) >= 50)\n",
    "                \n",
    "            SELECT a.author, AVG(b_50.avg_rating)\n",
    "            FROM book_50 AS b_50\n",
    "            LEFT JOIN books AS b ON b.book_id = b_50.book_id\n",
    "            JOIN authors AS a ON b.author_id = a.author_id\n",
    "            GROUP BY b.author_id, a.author\n",
    "            ORDER BY 2 DESC\n",
    "            LIMIT 1\n",
    "'''\n",
    "\n",
    "pd.io.sql.read_sql(query, con = engine)"
   ]
  },
  {
   "cell_type": "markdown",
   "metadata": {},
   "source": [
    "## Задача 5\n",
    "Посчитать среднее количество обзоров от пользователей, которые поставили больше 50 оценок"
   ]
  },
  {
   "cell_type": "code",
   "execution_count": 20,
   "metadata": {},
   "outputs": [
    {
     "data": {
      "text/html": [
       "<div>\n",
       "<style scoped>\n",
       "    .dataframe tbody tr th:only-of-type {\n",
       "        vertical-align: middle;\n",
       "    }\n",
       "\n",
       "    .dataframe tbody tr th {\n",
       "        vertical-align: top;\n",
       "    }\n",
       "\n",
       "    .dataframe thead th {\n",
       "        text-align: right;\n",
       "    }\n",
       "</style>\n",
       "<table border=\"1\" class=\"dataframe\">\n",
       "  <thead>\n",
       "    <tr style=\"text-align: right;\">\n",
       "      <th></th>\n",
       "      <th>round</th>\n",
       "    </tr>\n",
       "  </thead>\n",
       "  <tbody>\n",
       "    <tr>\n",
       "      <th>0</th>\n",
       "      <td>24.0</td>\n",
       "    </tr>\n",
       "  </tbody>\n",
       "</table>\n",
       "</div>"
      ],
      "text/plain": [
       "   round\n",
       "0   24.0"
      ]
     },
     "execution_count": 20,
     "metadata": {},
     "output_type": "execute_result"
    }
   ],
   "source": [
    "query = '''\n",
    "            WITH users_50 AS (SELECT username\n",
    "                                FROM ratings\n",
    "                                GROUP BY username\n",
    "                                HAVING COUNT(*) > 50),\n",
    "                                \n",
    "            rev_count AS (SELECT username, COUNT(*) AS rev_count\n",
    "                            FROM reviews\n",
    "                            GROUP BY username)\n",
    "                            \n",
    "            SELECT ROUND(AVG(rev_count))\n",
    "            FROM users_50 AS u\n",
    "            JOIN rev_count AS r ON u.username = r.username\n",
    "'''\n",
    "\n",
    "pd.io.sql.read_sql(query, con = engine) "
   ]
  },
  {
   "cell_type": "markdown",
   "metadata": {},
   "source": [
    "## Выводы\n",
    "819 книг вышло после 1 января 2000 года.   \n",
    "Издательство \"Penguin Books\" выпустило больше всего книг.   \n",
    "Автор с самой высокой средней оценкой книг - J.K. Rowling/Mary GrandPré.   \n",
    "Среднее количество обзоров от пользователей, которые поставили больше 50 оценок - 24.   \n"
   ]
  }
 ],
 "metadata": {
  "ExecuteTimeLog": [
   {
    "duration": 493,
    "start_time": "2022-09-01T18:28:04.324Z"
   },
   {
    "duration": 6062,
    "start_time": "2022-09-01T18:28:24.380Z"
   },
   {
    "duration": 317,
    "start_time": "2022-09-01T18:28:39.876Z"
   },
   {
    "duration": 74,
    "start_time": "2022-09-01T18:29:07.246Z"
   },
   {
    "duration": 123,
    "start_time": "2022-09-01T18:29:44.433Z"
   },
   {
    "duration": 76,
    "start_time": "2022-09-01T18:30:15.906Z"
   },
   {
    "duration": 80,
    "start_time": "2022-09-01T18:30:40.468Z"
   },
   {
    "duration": 77,
    "start_time": "2022-09-01T18:31:08.044Z"
   },
   {
    "duration": 544,
    "start_time": "2022-09-02T06:38:48.530Z"
   },
   {
    "duration": 5909,
    "start_time": "2022-09-02T06:38:49.077Z"
   },
   {
    "duration": 306,
    "start_time": "2022-09-02T06:38:54.988Z"
   },
   {
    "duration": 75,
    "start_time": "2022-09-02T06:38:55.296Z"
   },
   {
    "duration": 105,
    "start_time": "2022-09-02T06:38:55.373Z"
   },
   {
    "duration": 87,
    "start_time": "2022-09-02T06:38:55.480Z"
   },
   {
    "duration": 84,
    "start_time": "2022-09-02T06:38:55.568Z"
   },
   {
    "duration": 76,
    "start_time": "2022-09-02T06:38:55.653Z"
   },
   {
    "duration": 77,
    "start_time": "2022-09-02T06:40:23.530Z"
   },
   {
    "duration": 74,
    "start_time": "2022-09-02T06:40:36.262Z"
   },
   {
    "duration": 72,
    "start_time": "2022-09-02T06:41:15.118Z"
   },
   {
    "duration": 88,
    "start_time": "2022-09-02T06:42:07.856Z"
   },
   {
    "duration": 229,
    "start_time": "2022-09-02T06:42:36.552Z"
   },
   {
    "duration": 72,
    "start_time": "2022-09-02T06:45:16.018Z"
   },
   {
    "duration": 71,
    "start_time": "2022-09-02T06:48:08.616Z"
   },
   {
    "duration": 81,
    "start_time": "2022-09-02T06:49:01.294Z"
   },
   {
    "duration": 189,
    "start_time": "2022-09-02T06:49:07.688Z"
   },
   {
    "duration": 76,
    "start_time": "2022-09-02T06:49:11.366Z"
   },
   {
    "duration": 78,
    "start_time": "2022-09-02T06:49:13.949Z"
   },
   {
    "duration": 84,
    "start_time": "2022-09-02T06:49:17.181Z"
   },
   {
    "duration": 75,
    "start_time": "2022-09-02T06:49:19.518Z"
   },
   {
    "duration": 145,
    "start_time": "2022-09-02T06:52:11.219Z"
   },
   {
    "duration": 79,
    "start_time": "2022-09-02T06:52:20.741Z"
   },
   {
    "duration": 83,
    "start_time": "2022-09-02T06:53:16.852Z"
   },
   {
    "duration": 165,
    "start_time": "2022-09-02T06:53:56.014Z"
   },
   {
    "duration": 84,
    "start_time": "2022-09-02T06:54:09.796Z"
   },
   {
    "duration": 81,
    "start_time": "2022-09-02T06:55:30.618Z"
   },
   {
    "duration": 137,
    "start_time": "2022-09-02T06:55:36.084Z"
   },
   {
    "duration": 514,
    "start_time": "2022-09-02T06:55:46.421Z"
   },
   {
    "duration": 119,
    "start_time": "2022-09-02T06:57:19.787Z"
   },
   {
    "duration": 131,
    "start_time": "2022-09-02T06:58:51.477Z"
   },
   {
    "duration": 76,
    "start_time": "2022-09-02T06:58:55.755Z"
   },
   {
    "duration": 89,
    "start_time": "2022-09-02T06:59:17.546Z"
   },
   {
    "duration": 77,
    "start_time": "2022-09-02T06:59:34.219Z"
   },
   {
    "duration": 78,
    "start_time": "2022-09-02T07:00:00.810Z"
   },
   {
    "duration": 82,
    "start_time": "2022-09-02T07:00:08.877Z"
   },
   {
    "duration": 85,
    "start_time": "2022-09-02T07:00:18.402Z"
   },
   {
    "duration": 99,
    "start_time": "2022-09-02T07:00:25.298Z"
   },
   {
    "duration": 77,
    "start_time": "2022-09-02T07:02:33.624Z"
   },
   {
    "duration": 73,
    "start_time": "2022-09-02T07:04:18.505Z"
   },
   {
    "duration": 501,
    "start_time": "2022-09-02T08:22:25.196Z"
   },
   {
    "duration": 9678,
    "start_time": "2022-09-02T08:22:25.699Z"
   },
   {
    "duration": 78,
    "start_time": "2022-09-02T08:22:35.379Z"
   },
   {
    "duration": 10,
    "start_time": "2022-09-02T08:22:35.459Z"
   },
   {
    "duration": 30,
    "start_time": "2022-09-02T08:22:36.998Z"
   },
   {
    "duration": 14,
    "start_time": "2022-09-02T08:22:38.829Z"
   },
   {
    "duration": 13,
    "start_time": "2022-09-02T08:22:39.389Z"
   },
   {
    "duration": 14,
    "start_time": "2022-09-02T08:22:46.773Z"
   },
   {
    "duration": 15,
    "start_time": "2022-09-02T08:23:33.501Z"
   },
   {
    "duration": 14,
    "start_time": "2022-09-02T08:24:09.637Z"
   },
   {
    "duration": 12,
    "start_time": "2022-09-02T08:26:04.894Z"
   },
   {
    "duration": 63,
    "start_time": "2022-09-02T08:32:12.791Z"
   },
   {
    "duration": 591,
    "start_time": "2022-09-02T08:32:20.466Z"
   },
   {
    "duration": 8908,
    "start_time": "2022-09-02T08:32:21.059Z"
   },
   {
    "duration": 64,
    "start_time": "2022-09-02T08:32:35.539Z"
   },
   {
    "duration": 159,
    "start_time": "2022-09-02T08:33:02.715Z"
   },
   {
    "duration": 97,
    "start_time": "2022-09-02T08:33:10.339Z"
   },
   {
    "duration": 1362,
    "start_time": "2022-09-02T08:33:15.682Z"
   },
   {
    "duration": 5276,
    "start_time": "2022-09-02T08:33:26.447Z"
   },
   {
    "duration": 15,
    "start_time": "2022-09-02T08:33:42.058Z"
   },
   {
    "duration": 14,
    "start_time": "2022-09-02T08:34:29.883Z"
   },
   {
    "duration": 2,
    "start_time": "2022-09-02T08:35:18.547Z"
   },
   {
    "duration": 16,
    "start_time": "2022-09-02T08:35:18.551Z"
   },
   {
    "duration": 79,
    "start_time": "2022-09-02T08:35:18.570Z"
   },
   {
    "duration": 9,
    "start_time": "2022-09-02T08:35:18.651Z"
   },
   {
    "duration": 43,
    "start_time": "2022-09-02T08:35:18.662Z"
   },
   {
    "duration": 11,
    "start_time": "2022-09-02T08:35:18.707Z"
   },
   {
    "duration": 11,
    "start_time": "2022-09-02T08:35:18.719Z"
   },
   {
    "duration": 13,
    "start_time": "2022-09-02T08:35:18.731Z"
   },
   {
    "duration": 13,
    "start_time": "2022-09-02T08:35:18.746Z"
   },
   {
    "duration": 12,
    "start_time": "2022-09-02T08:35:18.761Z"
   }
  ],
  "kernelspec": {
   "display_name": "Python 3",
   "language": "python",
   "name": "python3"
  },
  "language_info": {
   "codemirror_mode": {
    "name": "ipython",
    "version": 3
   },
   "file_extension": ".py",
   "mimetype": "text/x-python",
   "name": "python",
   "nbconvert_exporter": "python",
   "pygments_lexer": "ipython3",
   "version": "3.8.8"
  },
  "toc": {
   "base_numbering": 1,
   "nav_menu": {},
   "number_sections": true,
   "sideBar": true,
   "skip_h1_title": true,
   "title_cell": "Table of Contents",
   "title_sidebar": "Contents",
   "toc_cell": false,
   "toc_position": {},
   "toc_section_display": true,
   "toc_window_display": false
  }
 },
 "nbformat": 4,
 "nbformat_minor": 2
}
