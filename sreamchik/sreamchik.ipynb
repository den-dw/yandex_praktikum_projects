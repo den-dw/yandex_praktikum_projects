{
 "cells": [
  {
   "cell_type": "markdown",
   "metadata": {},
   "source": [
    "# Описание проекта\n",
    "Вы работаете в интернет-магазине «Стримчик», который продаёт по всему миру\n",
    "компьютерные игры. Из открытых источников доступны исторические данные о\n",
    "продажах игр, оценки пользователей и экспертов, жанры и платформы\n",
    "(например, *Xbox* или *PlayStation*). Вам нужно выявить определяющие успешность\n",
    "игры закономерности. Это позволит сделать ставку на потенциально популярный\n",
    "продукт и спланировать рекламные кампании.  \n",
    "  \n",
    "Перед вами данные до 2016 года. Представим, что сейчас декабрь 2016 г., и вы\n",
    "планируете кампанию на 2017-й. Нужно отработать принцип работы с данными.\n",
    "Неважно, прогнозируете ли вы продажи на 2017 год по данным 2016-го или же\n",
    "2027-й — по данным 2026 года.  \n",
    "  \n",
    "В наборе данных попадается аббревиатура *ESRB (Entertainment Software Rating\n",
    "Board)* — это ассоциация, определяющая возрастной рейтинг компьютерных\n",
    "игр. *ESRB* оценивает игровой контент и присваивает ему подходящую возрастную\n",
    "категорию, например, «Для взрослых», «Для детей младшего возраста» или «Для\n",
    "подростков»."
   ]
  },
  {
   "cell_type": "markdown",
   "metadata": {},
   "source": [
    "## Описание данных\n",
    "* *Name* — название игры\n",
    "* *Platform* — платформа\n",
    "* *Year_of_Release* — год выпуска\n",
    "* *Genre* — жанр игры\n",
    "* *NA_sales* — продажи в Северной Америке (миллионы проданных копий)\n",
    "* *EU_sales* — продажи в Европе (миллионы проданных копий)\n",
    "* *JP_sales* — продажи в Японии (миллионы проданных копий)\n",
    "* *Other_sales* — продажи в других странах (миллионы проданных копий)\n",
    "* *Critic_Score* — оценка критиков (максимум 100)\n",
    "* *User_Score* — оценка пользователей (максимум 10)\n",
    "* *Rating* — рейтинг от организации ESRB (англ. Entertainment Software Rating\n",
    "Board). Эта ассоциация определяет рейтинг компьютерных игр и присваивает\n",
    "им подходящую возрастную категорию.  \n",
    "Данные за 2016 год могут быть неполными."
   ]
  },
  {
   "cell_type": "code",
   "execution_count": 1,
   "metadata": {},
   "outputs": [],
   "source": [
    "import pandas as pd\n",
    "import seaborn as sns\n",
    "from scipy import stats as st\n",
    "import matplotlib.pyplot as plt\n",
    "import numpy as np"
   ]
  },
  {
   "cell_type": "code",
   "execution_count": 2,
   "metadata": {},
   "outputs": [],
   "source": [
    "try:\n",
    "    data = pd.read_csv('games.csv')\n",
    "except:\n",
    "    data = pd.read_csv('https://code.s3.yandex.net/datasets/games.csv')"
   ]
  },
  {
   "cell_type": "markdown",
   "metadata": {},
   "source": [
    "## Обзор данных"
   ]
  },
  {
   "cell_type": "code",
   "execution_count": 3,
   "metadata": {},
   "outputs": [
    {
     "data": {
      "text/html": [
       "<div>\n",
       "<style scoped>\n",
       "    .dataframe tbody tr th:only-of-type {\n",
       "        vertical-align: middle;\n",
       "    }\n",
       "\n",
       "    .dataframe tbody tr th {\n",
       "        vertical-align: top;\n",
       "    }\n",
       "\n",
       "    .dataframe thead th {\n",
       "        text-align: right;\n",
       "    }\n",
       "</style>\n",
       "<table border=\"1\" class=\"dataframe\">\n",
       "  <thead>\n",
       "    <tr style=\"text-align: right;\">\n",
       "      <th></th>\n",
       "      <th>Name</th>\n",
       "      <th>Platform</th>\n",
       "      <th>Year_of_Release</th>\n",
       "      <th>Genre</th>\n",
       "      <th>NA_sales</th>\n",
       "      <th>EU_sales</th>\n",
       "      <th>JP_sales</th>\n",
       "      <th>Other_sales</th>\n",
       "      <th>Critic_Score</th>\n",
       "      <th>User_Score</th>\n",
       "      <th>Rating</th>\n",
       "    </tr>\n",
       "  </thead>\n",
       "  <tbody>\n",
       "    <tr>\n",
       "      <th>0</th>\n",
       "      <td>Wii Sports</td>\n",
       "      <td>Wii</td>\n",
       "      <td>2006.0</td>\n",
       "      <td>Sports</td>\n",
       "      <td>41.36</td>\n",
       "      <td>28.96</td>\n",
       "      <td>3.77</td>\n",
       "      <td>8.45</td>\n",
       "      <td>76.0</td>\n",
       "      <td>8</td>\n",
       "      <td>E</td>\n",
       "    </tr>\n",
       "    <tr>\n",
       "      <th>1</th>\n",
       "      <td>Super Mario Bros.</td>\n",
       "      <td>NES</td>\n",
       "      <td>1985.0</td>\n",
       "      <td>Platform</td>\n",
       "      <td>29.08</td>\n",
       "      <td>3.58</td>\n",
       "      <td>6.81</td>\n",
       "      <td>0.77</td>\n",
       "      <td>NaN</td>\n",
       "      <td>NaN</td>\n",
       "      <td>NaN</td>\n",
       "    </tr>\n",
       "    <tr>\n",
       "      <th>2</th>\n",
       "      <td>Mario Kart Wii</td>\n",
       "      <td>Wii</td>\n",
       "      <td>2008.0</td>\n",
       "      <td>Racing</td>\n",
       "      <td>15.68</td>\n",
       "      <td>12.76</td>\n",
       "      <td>3.79</td>\n",
       "      <td>3.29</td>\n",
       "      <td>82.0</td>\n",
       "      <td>8.3</td>\n",
       "      <td>E</td>\n",
       "    </tr>\n",
       "    <tr>\n",
       "      <th>3</th>\n",
       "      <td>Wii Sports Resort</td>\n",
       "      <td>Wii</td>\n",
       "      <td>2009.0</td>\n",
       "      <td>Sports</td>\n",
       "      <td>15.61</td>\n",
       "      <td>10.93</td>\n",
       "      <td>3.28</td>\n",
       "      <td>2.95</td>\n",
       "      <td>80.0</td>\n",
       "      <td>8</td>\n",
       "      <td>E</td>\n",
       "    </tr>\n",
       "    <tr>\n",
       "      <th>4</th>\n",
       "      <td>Pokemon Red/Pokemon Blue</td>\n",
       "      <td>GB</td>\n",
       "      <td>1996.0</td>\n",
       "      <td>Role-Playing</td>\n",
       "      <td>11.27</td>\n",
       "      <td>8.89</td>\n",
       "      <td>10.22</td>\n",
       "      <td>1.00</td>\n",
       "      <td>NaN</td>\n",
       "      <td>NaN</td>\n",
       "      <td>NaN</td>\n",
       "    </tr>\n",
       "    <tr>\n",
       "      <th>...</th>\n",
       "      <td>...</td>\n",
       "      <td>...</td>\n",
       "      <td>...</td>\n",
       "      <td>...</td>\n",
       "      <td>...</td>\n",
       "      <td>...</td>\n",
       "      <td>...</td>\n",
       "      <td>...</td>\n",
       "      <td>...</td>\n",
       "      <td>...</td>\n",
       "      <td>...</td>\n",
       "    </tr>\n",
       "    <tr>\n",
       "      <th>16710</th>\n",
       "      <td>Samurai Warriors: Sanada Maru</td>\n",
       "      <td>PS3</td>\n",
       "      <td>2016.0</td>\n",
       "      <td>Action</td>\n",
       "      <td>0.00</td>\n",
       "      <td>0.00</td>\n",
       "      <td>0.01</td>\n",
       "      <td>0.00</td>\n",
       "      <td>NaN</td>\n",
       "      <td>NaN</td>\n",
       "      <td>NaN</td>\n",
       "    </tr>\n",
       "    <tr>\n",
       "      <th>16711</th>\n",
       "      <td>LMA Manager 2007</td>\n",
       "      <td>X360</td>\n",
       "      <td>2006.0</td>\n",
       "      <td>Sports</td>\n",
       "      <td>0.00</td>\n",
       "      <td>0.01</td>\n",
       "      <td>0.00</td>\n",
       "      <td>0.00</td>\n",
       "      <td>NaN</td>\n",
       "      <td>NaN</td>\n",
       "      <td>NaN</td>\n",
       "    </tr>\n",
       "    <tr>\n",
       "      <th>16712</th>\n",
       "      <td>Haitaka no Psychedelica</td>\n",
       "      <td>PSV</td>\n",
       "      <td>2016.0</td>\n",
       "      <td>Adventure</td>\n",
       "      <td>0.00</td>\n",
       "      <td>0.00</td>\n",
       "      <td>0.01</td>\n",
       "      <td>0.00</td>\n",
       "      <td>NaN</td>\n",
       "      <td>NaN</td>\n",
       "      <td>NaN</td>\n",
       "    </tr>\n",
       "    <tr>\n",
       "      <th>16713</th>\n",
       "      <td>Spirits &amp; Spells</td>\n",
       "      <td>GBA</td>\n",
       "      <td>2003.0</td>\n",
       "      <td>Platform</td>\n",
       "      <td>0.01</td>\n",
       "      <td>0.00</td>\n",
       "      <td>0.00</td>\n",
       "      <td>0.00</td>\n",
       "      <td>NaN</td>\n",
       "      <td>NaN</td>\n",
       "      <td>NaN</td>\n",
       "    </tr>\n",
       "    <tr>\n",
       "      <th>16714</th>\n",
       "      <td>Winning Post 8 2016</td>\n",
       "      <td>PSV</td>\n",
       "      <td>2016.0</td>\n",
       "      <td>Simulation</td>\n",
       "      <td>0.00</td>\n",
       "      <td>0.00</td>\n",
       "      <td>0.01</td>\n",
       "      <td>0.00</td>\n",
       "      <td>NaN</td>\n",
       "      <td>NaN</td>\n",
       "      <td>NaN</td>\n",
       "    </tr>\n",
       "  </tbody>\n",
       "</table>\n",
       "<p>16715 rows × 11 columns</p>\n",
       "</div>"
      ],
      "text/plain": [
       "                                Name Platform  Year_of_Release         Genre  \\\n",
       "0                         Wii Sports      Wii           2006.0        Sports   \n",
       "1                  Super Mario Bros.      NES           1985.0      Platform   \n",
       "2                     Mario Kart Wii      Wii           2008.0        Racing   \n",
       "3                  Wii Sports Resort      Wii           2009.0        Sports   \n",
       "4           Pokemon Red/Pokemon Blue       GB           1996.0  Role-Playing   \n",
       "...                              ...      ...              ...           ...   \n",
       "16710  Samurai Warriors: Sanada Maru      PS3           2016.0        Action   \n",
       "16711               LMA Manager 2007     X360           2006.0        Sports   \n",
       "16712        Haitaka no Psychedelica      PSV           2016.0     Adventure   \n",
       "16713               Spirits & Spells      GBA           2003.0      Platform   \n",
       "16714            Winning Post 8 2016      PSV           2016.0    Simulation   \n",
       "\n",
       "       NA_sales  EU_sales  JP_sales  Other_sales  Critic_Score User_Score  \\\n",
       "0         41.36     28.96      3.77         8.45          76.0          8   \n",
       "1         29.08      3.58      6.81         0.77           NaN        NaN   \n",
       "2         15.68     12.76      3.79         3.29          82.0        8.3   \n",
       "3         15.61     10.93      3.28         2.95          80.0          8   \n",
       "4         11.27      8.89     10.22         1.00           NaN        NaN   \n",
       "...         ...       ...       ...          ...           ...        ...   \n",
       "16710      0.00      0.00      0.01         0.00           NaN        NaN   \n",
       "16711      0.00      0.01      0.00         0.00           NaN        NaN   \n",
       "16712      0.00      0.00      0.01         0.00           NaN        NaN   \n",
       "16713      0.01      0.00      0.00         0.00           NaN        NaN   \n",
       "16714      0.00      0.00      0.01         0.00           NaN        NaN   \n",
       "\n",
       "      Rating  \n",
       "0          E  \n",
       "1        NaN  \n",
       "2          E  \n",
       "3          E  \n",
       "4        NaN  \n",
       "...      ...  \n",
       "16710    NaN  \n",
       "16711    NaN  \n",
       "16712    NaN  \n",
       "16713    NaN  \n",
       "16714    NaN  \n",
       "\n",
       "[16715 rows x 11 columns]"
      ]
     },
     "execution_count": 3,
     "metadata": {},
     "output_type": "execute_result"
    }
   ],
   "source": [
    "data"
   ]
  },
  {
   "cell_type": "code",
   "execution_count": 4,
   "metadata": {},
   "outputs": [
    {
     "name": "stdout",
     "output_type": "stream",
     "text": [
      "<class 'pandas.core.frame.DataFrame'>\n",
      "RangeIndex: 16715 entries, 0 to 16714\n",
      "Data columns (total 11 columns):\n",
      " #   Column           Non-Null Count  Dtype  \n",
      "---  ------           --------------  -----  \n",
      " 0   Name             16713 non-null  object \n",
      " 1   Platform         16715 non-null  object \n",
      " 2   Year_of_Release  16446 non-null  float64\n",
      " 3   Genre            16713 non-null  object \n",
      " 4   NA_sales         16715 non-null  float64\n",
      " 5   EU_sales         16715 non-null  float64\n",
      " 6   JP_sales         16715 non-null  float64\n",
      " 7   Other_sales      16715 non-null  float64\n",
      " 8   Critic_Score     8137 non-null   float64\n",
      " 9   User_Score       10014 non-null  object \n",
      " 10  Rating           9949 non-null   object \n",
      "dtypes: float64(6), object(5)\n",
      "memory usage: 1.4+ MB\n"
     ]
    }
   ],
   "source": [
    "data.info()"
   ]
  },
  {
   "cell_type": "code",
   "execution_count": 5,
   "metadata": {},
   "outputs": [
    {
     "data": {
      "text/html": [
       "<div>\n",
       "<style scoped>\n",
       "    .dataframe tbody tr th:only-of-type {\n",
       "        vertical-align: middle;\n",
       "    }\n",
       "\n",
       "    .dataframe tbody tr th {\n",
       "        vertical-align: top;\n",
       "    }\n",
       "\n",
       "    .dataframe thead th {\n",
       "        text-align: right;\n",
       "    }\n",
       "</style>\n",
       "<table border=\"1\" class=\"dataframe\">\n",
       "  <thead>\n",
       "    <tr style=\"text-align: right;\">\n",
       "      <th></th>\n",
       "      <th>Year_of_Release</th>\n",
       "      <th>NA_sales</th>\n",
       "      <th>EU_sales</th>\n",
       "      <th>JP_sales</th>\n",
       "      <th>Other_sales</th>\n",
       "      <th>Critic_Score</th>\n",
       "    </tr>\n",
       "  </thead>\n",
       "  <tbody>\n",
       "    <tr>\n",
       "      <th>count</th>\n",
       "      <td>16446.000000</td>\n",
       "      <td>16715.000000</td>\n",
       "      <td>16715.000000</td>\n",
       "      <td>16715.000000</td>\n",
       "      <td>16715.000000</td>\n",
       "      <td>8137.000000</td>\n",
       "    </tr>\n",
       "    <tr>\n",
       "      <th>mean</th>\n",
       "      <td>2006.484616</td>\n",
       "      <td>0.263377</td>\n",
       "      <td>0.145060</td>\n",
       "      <td>0.077617</td>\n",
       "      <td>0.047342</td>\n",
       "      <td>68.967679</td>\n",
       "    </tr>\n",
       "    <tr>\n",
       "      <th>std</th>\n",
       "      <td>5.877050</td>\n",
       "      <td>0.813604</td>\n",
       "      <td>0.503339</td>\n",
       "      <td>0.308853</td>\n",
       "      <td>0.186731</td>\n",
       "      <td>13.938165</td>\n",
       "    </tr>\n",
       "    <tr>\n",
       "      <th>min</th>\n",
       "      <td>1980.000000</td>\n",
       "      <td>0.000000</td>\n",
       "      <td>0.000000</td>\n",
       "      <td>0.000000</td>\n",
       "      <td>0.000000</td>\n",
       "      <td>13.000000</td>\n",
       "    </tr>\n",
       "    <tr>\n",
       "      <th>25%</th>\n",
       "      <td>2003.000000</td>\n",
       "      <td>0.000000</td>\n",
       "      <td>0.000000</td>\n",
       "      <td>0.000000</td>\n",
       "      <td>0.000000</td>\n",
       "      <td>60.000000</td>\n",
       "    </tr>\n",
       "    <tr>\n",
       "      <th>50%</th>\n",
       "      <td>2007.000000</td>\n",
       "      <td>0.080000</td>\n",
       "      <td>0.020000</td>\n",
       "      <td>0.000000</td>\n",
       "      <td>0.010000</td>\n",
       "      <td>71.000000</td>\n",
       "    </tr>\n",
       "    <tr>\n",
       "      <th>75%</th>\n",
       "      <td>2010.000000</td>\n",
       "      <td>0.240000</td>\n",
       "      <td>0.110000</td>\n",
       "      <td>0.040000</td>\n",
       "      <td>0.030000</td>\n",
       "      <td>79.000000</td>\n",
       "    </tr>\n",
       "    <tr>\n",
       "      <th>max</th>\n",
       "      <td>2016.000000</td>\n",
       "      <td>41.360000</td>\n",
       "      <td>28.960000</td>\n",
       "      <td>10.220000</td>\n",
       "      <td>10.570000</td>\n",
       "      <td>98.000000</td>\n",
       "    </tr>\n",
       "  </tbody>\n",
       "</table>\n",
       "</div>"
      ],
      "text/plain": [
       "       Year_of_Release      NA_sales      EU_sales      JP_sales  \\\n",
       "count     16446.000000  16715.000000  16715.000000  16715.000000   \n",
       "mean       2006.484616      0.263377      0.145060      0.077617   \n",
       "std           5.877050      0.813604      0.503339      0.308853   \n",
       "min        1980.000000      0.000000      0.000000      0.000000   \n",
       "25%        2003.000000      0.000000      0.000000      0.000000   \n",
       "50%        2007.000000      0.080000      0.020000      0.000000   \n",
       "75%        2010.000000      0.240000      0.110000      0.040000   \n",
       "max        2016.000000     41.360000     28.960000     10.220000   \n",
       "\n",
       "        Other_sales  Critic_Score  \n",
       "count  16715.000000   8137.000000  \n",
       "mean       0.047342     68.967679  \n",
       "std        0.186731     13.938165  \n",
       "min        0.000000     13.000000  \n",
       "25%        0.000000     60.000000  \n",
       "50%        0.010000     71.000000  \n",
       "75%        0.030000     79.000000  \n",
       "max       10.570000     98.000000  "
      ]
     },
     "execution_count": 5,
     "metadata": {},
     "output_type": "execute_result"
    }
   ],
   "source": [
    "data.describe()"
   ]
  },
  {
   "cell_type": "markdown",
   "metadata": {},
   "source": [
    "Пропущены значения в столбцах:\n",
    "- *Year_of_Release*, заполнить не представляется возможным, важный параметр для нашего исследования;\n",
    "- *Name* и *Genre*, пропусков всего 2, а заполнить их не получится;\n",
    "- *Critic_Score* и *User_Score*, пропусков достаточно много, эти параметры требуются в нашем исследовании. Могут быть не заполнены ввиду осутсвия оценок. Параметры не имеют зависимости от чего-либо, поэтому воссоздать их не получится;\n",
    "- *Rating* также нужен в нашем исследовании, но заполнить пропуски не получится, так как нет зависимости.\n",
    "\n",
    "Также следует изменить регистр имен стобцов для более комфортной дальнейшей работы.  \n",
    "В столбце *User_Score* пристуствует значение tdb, ввиду чего не верный тип данных. Также *Year_of_Release* имеет не верный тип данных."
   ]
  },
  {
   "cell_type": "markdown",
   "metadata": {},
   "source": [
    "Подготовим данные:\n",
    "- приведем имена столбцов к нижнему регистру;\n",
    "- удалим записи с пропущенными значениями в столбцах *Year_of_Release*, *Name*, *Genre*;\n",
    "- изменим тип данных *User_Score* и *Year_of_Release*;\n",
    "- заполним пропуски *Critic_Score* и *User_Score* статическим значением -1;\n",
    "- заполним пропуски *Rating* значением 'Unknown'."
   ]
  },
  {
   "cell_type": "markdown",
   "metadata": {},
   "source": [
    "## Подготовка данных"
   ]
  },
  {
   "cell_type": "markdown",
   "metadata": {},
   "source": [
    "### Имена стобцов к нижнему регистру"
   ]
  },
  {
   "cell_type": "code",
   "execution_count": 6,
   "metadata": {},
   "outputs": [],
   "source": [
    "data.columns = data.columns.str.lower()"
   ]
  },
  {
   "cell_type": "code",
   "execution_count": 7,
   "metadata": {},
   "outputs": [
    {
     "data": {
      "text/html": [
       "<div>\n",
       "<style scoped>\n",
       "    .dataframe tbody tr th:only-of-type {\n",
       "        vertical-align: middle;\n",
       "    }\n",
       "\n",
       "    .dataframe tbody tr th {\n",
       "        vertical-align: top;\n",
       "    }\n",
       "\n",
       "    .dataframe thead th {\n",
       "        text-align: right;\n",
       "    }\n",
       "</style>\n",
       "<table border=\"1\" class=\"dataframe\">\n",
       "  <thead>\n",
       "    <tr style=\"text-align: right;\">\n",
       "      <th></th>\n",
       "      <th>name</th>\n",
       "      <th>platform</th>\n",
       "      <th>year_of_release</th>\n",
       "      <th>genre</th>\n",
       "      <th>na_sales</th>\n",
       "      <th>eu_sales</th>\n",
       "      <th>jp_sales</th>\n",
       "      <th>other_sales</th>\n",
       "      <th>critic_score</th>\n",
       "      <th>user_score</th>\n",
       "      <th>rating</th>\n",
       "    </tr>\n",
       "  </thead>\n",
       "  <tbody>\n",
       "    <tr>\n",
       "      <th>0</th>\n",
       "      <td>Wii Sports</td>\n",
       "      <td>Wii</td>\n",
       "      <td>2006.0</td>\n",
       "      <td>Sports</td>\n",
       "      <td>41.36</td>\n",
       "      <td>28.96</td>\n",
       "      <td>3.77</td>\n",
       "      <td>8.45</td>\n",
       "      <td>76.0</td>\n",
       "      <td>8</td>\n",
       "      <td>E</td>\n",
       "    </tr>\n",
       "    <tr>\n",
       "      <th>1</th>\n",
       "      <td>Super Mario Bros.</td>\n",
       "      <td>NES</td>\n",
       "      <td>1985.0</td>\n",
       "      <td>Platform</td>\n",
       "      <td>29.08</td>\n",
       "      <td>3.58</td>\n",
       "      <td>6.81</td>\n",
       "      <td>0.77</td>\n",
       "      <td>NaN</td>\n",
       "      <td>NaN</td>\n",
       "      <td>NaN</td>\n",
       "    </tr>\n",
       "    <tr>\n",
       "      <th>2</th>\n",
       "      <td>Mario Kart Wii</td>\n",
       "      <td>Wii</td>\n",
       "      <td>2008.0</td>\n",
       "      <td>Racing</td>\n",
       "      <td>15.68</td>\n",
       "      <td>12.76</td>\n",
       "      <td>3.79</td>\n",
       "      <td>3.29</td>\n",
       "      <td>82.0</td>\n",
       "      <td>8.3</td>\n",
       "      <td>E</td>\n",
       "    </tr>\n",
       "    <tr>\n",
       "      <th>3</th>\n",
       "      <td>Wii Sports Resort</td>\n",
       "      <td>Wii</td>\n",
       "      <td>2009.0</td>\n",
       "      <td>Sports</td>\n",
       "      <td>15.61</td>\n",
       "      <td>10.93</td>\n",
       "      <td>3.28</td>\n",
       "      <td>2.95</td>\n",
       "      <td>80.0</td>\n",
       "      <td>8</td>\n",
       "      <td>E</td>\n",
       "    </tr>\n",
       "    <tr>\n",
       "      <th>4</th>\n",
       "      <td>Pokemon Red/Pokemon Blue</td>\n",
       "      <td>GB</td>\n",
       "      <td>1996.0</td>\n",
       "      <td>Role-Playing</td>\n",
       "      <td>11.27</td>\n",
       "      <td>8.89</td>\n",
       "      <td>10.22</td>\n",
       "      <td>1.00</td>\n",
       "      <td>NaN</td>\n",
       "      <td>NaN</td>\n",
       "      <td>NaN</td>\n",
       "    </tr>\n",
       "    <tr>\n",
       "      <th>...</th>\n",
       "      <td>...</td>\n",
       "      <td>...</td>\n",
       "      <td>...</td>\n",
       "      <td>...</td>\n",
       "      <td>...</td>\n",
       "      <td>...</td>\n",
       "      <td>...</td>\n",
       "      <td>...</td>\n",
       "      <td>...</td>\n",
       "      <td>...</td>\n",
       "      <td>...</td>\n",
       "    </tr>\n",
       "    <tr>\n",
       "      <th>16710</th>\n",
       "      <td>Samurai Warriors: Sanada Maru</td>\n",
       "      <td>PS3</td>\n",
       "      <td>2016.0</td>\n",
       "      <td>Action</td>\n",
       "      <td>0.00</td>\n",
       "      <td>0.00</td>\n",
       "      <td>0.01</td>\n",
       "      <td>0.00</td>\n",
       "      <td>NaN</td>\n",
       "      <td>NaN</td>\n",
       "      <td>NaN</td>\n",
       "    </tr>\n",
       "    <tr>\n",
       "      <th>16711</th>\n",
       "      <td>LMA Manager 2007</td>\n",
       "      <td>X360</td>\n",
       "      <td>2006.0</td>\n",
       "      <td>Sports</td>\n",
       "      <td>0.00</td>\n",
       "      <td>0.01</td>\n",
       "      <td>0.00</td>\n",
       "      <td>0.00</td>\n",
       "      <td>NaN</td>\n",
       "      <td>NaN</td>\n",
       "      <td>NaN</td>\n",
       "    </tr>\n",
       "    <tr>\n",
       "      <th>16712</th>\n",
       "      <td>Haitaka no Psychedelica</td>\n",
       "      <td>PSV</td>\n",
       "      <td>2016.0</td>\n",
       "      <td>Adventure</td>\n",
       "      <td>0.00</td>\n",
       "      <td>0.00</td>\n",
       "      <td>0.01</td>\n",
       "      <td>0.00</td>\n",
       "      <td>NaN</td>\n",
       "      <td>NaN</td>\n",
       "      <td>NaN</td>\n",
       "    </tr>\n",
       "    <tr>\n",
       "      <th>16713</th>\n",
       "      <td>Spirits &amp; Spells</td>\n",
       "      <td>GBA</td>\n",
       "      <td>2003.0</td>\n",
       "      <td>Platform</td>\n",
       "      <td>0.01</td>\n",
       "      <td>0.00</td>\n",
       "      <td>0.00</td>\n",
       "      <td>0.00</td>\n",
       "      <td>NaN</td>\n",
       "      <td>NaN</td>\n",
       "      <td>NaN</td>\n",
       "    </tr>\n",
       "    <tr>\n",
       "      <th>16714</th>\n",
       "      <td>Winning Post 8 2016</td>\n",
       "      <td>PSV</td>\n",
       "      <td>2016.0</td>\n",
       "      <td>Simulation</td>\n",
       "      <td>0.00</td>\n",
       "      <td>0.00</td>\n",
       "      <td>0.01</td>\n",
       "      <td>0.00</td>\n",
       "      <td>NaN</td>\n",
       "      <td>NaN</td>\n",
       "      <td>NaN</td>\n",
       "    </tr>\n",
       "  </tbody>\n",
       "</table>\n",
       "<p>16715 rows × 11 columns</p>\n",
       "</div>"
      ],
      "text/plain": [
       "                                name platform  year_of_release         genre  \\\n",
       "0                         Wii Sports      Wii           2006.0        Sports   \n",
       "1                  Super Mario Bros.      NES           1985.0      Platform   \n",
       "2                     Mario Kart Wii      Wii           2008.0        Racing   \n",
       "3                  Wii Sports Resort      Wii           2009.0        Sports   \n",
       "4           Pokemon Red/Pokemon Blue       GB           1996.0  Role-Playing   \n",
       "...                              ...      ...              ...           ...   \n",
       "16710  Samurai Warriors: Sanada Maru      PS3           2016.0        Action   \n",
       "16711               LMA Manager 2007     X360           2006.0        Sports   \n",
       "16712        Haitaka no Psychedelica      PSV           2016.0     Adventure   \n",
       "16713               Spirits & Spells      GBA           2003.0      Platform   \n",
       "16714            Winning Post 8 2016      PSV           2016.0    Simulation   \n",
       "\n",
       "       na_sales  eu_sales  jp_sales  other_sales  critic_score user_score  \\\n",
       "0         41.36     28.96      3.77         8.45          76.0          8   \n",
       "1         29.08      3.58      6.81         0.77           NaN        NaN   \n",
       "2         15.68     12.76      3.79         3.29          82.0        8.3   \n",
       "3         15.61     10.93      3.28         2.95          80.0          8   \n",
       "4         11.27      8.89     10.22         1.00           NaN        NaN   \n",
       "...         ...       ...       ...          ...           ...        ...   \n",
       "16710      0.00      0.00      0.01         0.00           NaN        NaN   \n",
       "16711      0.00      0.01      0.00         0.00           NaN        NaN   \n",
       "16712      0.00      0.00      0.01         0.00           NaN        NaN   \n",
       "16713      0.01      0.00      0.00         0.00           NaN        NaN   \n",
       "16714      0.00      0.00      0.01         0.00           NaN        NaN   \n",
       "\n",
       "      rating  \n",
       "0          E  \n",
       "1        NaN  \n",
       "2          E  \n",
       "3          E  \n",
       "4        NaN  \n",
       "...      ...  \n",
       "16710    NaN  \n",
       "16711    NaN  \n",
       "16712    NaN  \n",
       "16713    NaN  \n",
       "16714    NaN  \n",
       "\n",
       "[16715 rows x 11 columns]"
      ]
     },
     "execution_count": 7,
     "metadata": {},
     "output_type": "execute_result"
    }
   ],
   "source": [
    "data"
   ]
  },
  {
   "cell_type": "markdown",
   "metadata": {},
   "source": [
    "### Изменение типов данных"
   ]
  },
  {
   "cell_type": "code",
   "execution_count": 8,
   "metadata": {},
   "outputs": [
    {
     "data": {
      "text/html": [
       "<div>\n",
       "<style scoped>\n",
       "    .dataframe tbody tr th:only-of-type {\n",
       "        vertical-align: middle;\n",
       "    }\n",
       "\n",
       "    .dataframe tbody tr th {\n",
       "        vertical-align: top;\n",
       "    }\n",
       "\n",
       "    .dataframe thead th {\n",
       "        text-align: right;\n",
       "    }\n",
       "</style>\n",
       "<table border=\"1\" class=\"dataframe\">\n",
       "  <thead>\n",
       "    <tr style=\"text-align: right;\">\n",
       "      <th></th>\n",
       "      <th>name</th>\n",
       "      <th>platform</th>\n",
       "      <th>year_of_release</th>\n",
       "      <th>genre</th>\n",
       "      <th>na_sales</th>\n",
       "      <th>eu_sales</th>\n",
       "      <th>jp_sales</th>\n",
       "      <th>other_sales</th>\n",
       "      <th>critic_score</th>\n",
       "      <th>user_score</th>\n",
       "      <th>rating</th>\n",
       "    </tr>\n",
       "  </thead>\n",
       "  <tbody>\n",
       "    <tr>\n",
       "      <th>119</th>\n",
       "      <td>Zumba Fitness</td>\n",
       "      <td>Wii</td>\n",
       "      <td>2010.0</td>\n",
       "      <td>Sports</td>\n",
       "      <td>3.45</td>\n",
       "      <td>2.59</td>\n",
       "      <td>0.0</td>\n",
       "      <td>0.66</td>\n",
       "      <td>NaN</td>\n",
       "      <td>tbd</td>\n",
       "      <td>E</td>\n",
       "    </tr>\n",
       "    <tr>\n",
       "      <th>301</th>\n",
       "      <td>Namco Museum: 50th Anniversary</td>\n",
       "      <td>PS2</td>\n",
       "      <td>2005.0</td>\n",
       "      <td>Misc</td>\n",
       "      <td>2.08</td>\n",
       "      <td>1.35</td>\n",
       "      <td>0.0</td>\n",
       "      <td>0.54</td>\n",
       "      <td>61.0</td>\n",
       "      <td>tbd</td>\n",
       "      <td>E10+</td>\n",
       "    </tr>\n",
       "    <tr>\n",
       "      <th>520</th>\n",
       "      <td>Zumba Fitness 2</td>\n",
       "      <td>Wii</td>\n",
       "      <td>2011.0</td>\n",
       "      <td>Sports</td>\n",
       "      <td>1.51</td>\n",
       "      <td>1.03</td>\n",
       "      <td>0.0</td>\n",
       "      <td>0.27</td>\n",
       "      <td>NaN</td>\n",
       "      <td>tbd</td>\n",
       "      <td>T</td>\n",
       "    </tr>\n",
       "    <tr>\n",
       "      <th>645</th>\n",
       "      <td>uDraw Studio</td>\n",
       "      <td>Wii</td>\n",
       "      <td>2010.0</td>\n",
       "      <td>Misc</td>\n",
       "      <td>1.65</td>\n",
       "      <td>0.57</td>\n",
       "      <td>0.0</td>\n",
       "      <td>0.20</td>\n",
       "      <td>71.0</td>\n",
       "      <td>tbd</td>\n",
       "      <td>E</td>\n",
       "    </tr>\n",
       "    <tr>\n",
       "      <th>657</th>\n",
       "      <td>Frogger's Adventures: Temple of the Frog</td>\n",
       "      <td>GBA</td>\n",
       "      <td>NaN</td>\n",
       "      <td>Adventure</td>\n",
       "      <td>2.15</td>\n",
       "      <td>0.18</td>\n",
       "      <td>0.0</td>\n",
       "      <td>0.07</td>\n",
       "      <td>73.0</td>\n",
       "      <td>tbd</td>\n",
       "      <td>E</td>\n",
       "    </tr>\n",
       "    <tr>\n",
       "      <th>...</th>\n",
       "      <td>...</td>\n",
       "      <td>...</td>\n",
       "      <td>...</td>\n",
       "      <td>...</td>\n",
       "      <td>...</td>\n",
       "      <td>...</td>\n",
       "      <td>...</td>\n",
       "      <td>...</td>\n",
       "      <td>...</td>\n",
       "      <td>...</td>\n",
       "      <td>...</td>\n",
       "    </tr>\n",
       "    <tr>\n",
       "      <th>16695</th>\n",
       "      <td>Planet Monsters</td>\n",
       "      <td>GBA</td>\n",
       "      <td>2001.0</td>\n",
       "      <td>Action</td>\n",
       "      <td>0.01</td>\n",
       "      <td>0.00</td>\n",
       "      <td>0.0</td>\n",
       "      <td>0.00</td>\n",
       "      <td>67.0</td>\n",
       "      <td>tbd</td>\n",
       "      <td>E</td>\n",
       "    </tr>\n",
       "    <tr>\n",
       "      <th>16697</th>\n",
       "      <td>Bust-A-Move 3000</td>\n",
       "      <td>GC</td>\n",
       "      <td>2003.0</td>\n",
       "      <td>Puzzle</td>\n",
       "      <td>0.01</td>\n",
       "      <td>0.00</td>\n",
       "      <td>0.0</td>\n",
       "      <td>0.00</td>\n",
       "      <td>53.0</td>\n",
       "      <td>tbd</td>\n",
       "      <td>E</td>\n",
       "    </tr>\n",
       "    <tr>\n",
       "      <th>16698</th>\n",
       "      <td>Mega Brain Boost</td>\n",
       "      <td>DS</td>\n",
       "      <td>2008.0</td>\n",
       "      <td>Puzzle</td>\n",
       "      <td>0.01</td>\n",
       "      <td>0.00</td>\n",
       "      <td>0.0</td>\n",
       "      <td>0.00</td>\n",
       "      <td>48.0</td>\n",
       "      <td>tbd</td>\n",
       "      <td>E</td>\n",
       "    </tr>\n",
       "    <tr>\n",
       "      <th>16704</th>\n",
       "      <td>Plushees</td>\n",
       "      <td>DS</td>\n",
       "      <td>2008.0</td>\n",
       "      <td>Simulation</td>\n",
       "      <td>0.01</td>\n",
       "      <td>0.00</td>\n",
       "      <td>0.0</td>\n",
       "      <td>0.00</td>\n",
       "      <td>NaN</td>\n",
       "      <td>tbd</td>\n",
       "      <td>E</td>\n",
       "    </tr>\n",
       "    <tr>\n",
       "      <th>16706</th>\n",
       "      <td>Men in Black II: Alien Escape</td>\n",
       "      <td>GC</td>\n",
       "      <td>2003.0</td>\n",
       "      <td>Shooter</td>\n",
       "      <td>0.01</td>\n",
       "      <td>0.00</td>\n",
       "      <td>0.0</td>\n",
       "      <td>0.00</td>\n",
       "      <td>NaN</td>\n",
       "      <td>tbd</td>\n",
       "      <td>T</td>\n",
       "    </tr>\n",
       "  </tbody>\n",
       "</table>\n",
       "<p>2424 rows × 11 columns</p>\n",
       "</div>"
      ],
      "text/plain": [
       "                                           name platform  year_of_release  \\\n",
       "119                               Zumba Fitness      Wii           2010.0   \n",
       "301              Namco Museum: 50th Anniversary      PS2           2005.0   \n",
       "520                             Zumba Fitness 2      Wii           2011.0   \n",
       "645                                uDraw Studio      Wii           2010.0   \n",
       "657    Frogger's Adventures: Temple of the Frog      GBA              NaN   \n",
       "...                                         ...      ...              ...   \n",
       "16695                           Planet Monsters      GBA           2001.0   \n",
       "16697                          Bust-A-Move 3000       GC           2003.0   \n",
       "16698                          Mega Brain Boost       DS           2008.0   \n",
       "16704                                  Plushees       DS           2008.0   \n",
       "16706             Men in Black II: Alien Escape       GC           2003.0   \n",
       "\n",
       "            genre  na_sales  eu_sales  jp_sales  other_sales  critic_score  \\\n",
       "119        Sports      3.45      2.59       0.0         0.66           NaN   \n",
       "301          Misc      2.08      1.35       0.0         0.54          61.0   \n",
       "520        Sports      1.51      1.03       0.0         0.27           NaN   \n",
       "645          Misc      1.65      0.57       0.0         0.20          71.0   \n",
       "657     Adventure      2.15      0.18       0.0         0.07          73.0   \n",
       "...           ...       ...       ...       ...          ...           ...   \n",
       "16695      Action      0.01      0.00       0.0         0.00          67.0   \n",
       "16697      Puzzle      0.01      0.00       0.0         0.00          53.0   \n",
       "16698      Puzzle      0.01      0.00       0.0         0.00          48.0   \n",
       "16704  Simulation      0.01      0.00       0.0         0.00           NaN   \n",
       "16706     Shooter      0.01      0.00       0.0         0.00           NaN   \n",
       "\n",
       "      user_score rating  \n",
       "119          tbd      E  \n",
       "301          tbd   E10+  \n",
       "520          tbd      T  \n",
       "645          tbd      E  \n",
       "657          tbd      E  \n",
       "...          ...    ...  \n",
       "16695        tbd      E  \n",
       "16697        tbd      E  \n",
       "16698        tbd      E  \n",
       "16704        tbd      E  \n",
       "16706        tbd      T  \n",
       "\n",
       "[2424 rows x 11 columns]"
      ]
     },
     "execution_count": 8,
     "metadata": {},
     "output_type": "execute_result"
    }
   ],
   "source": [
    "data[data.user_score == 'tbd']"
   ]
  },
  {
   "cell_type": "markdown",
   "metadata": {},
   "source": [
    "tbd - to be determined.  \n",
    "Информации пока нет, поэтому вставим пустые значения на место оценок в таких записях."
   ]
  },
  {
   "cell_type": "code",
   "execution_count": 9,
   "metadata": {},
   "outputs": [],
   "source": [
    "data.user_score = pd.to_numeric(data.user_score, errors='coerce')"
   ]
  },
  {
   "cell_type": "code",
   "execution_count": 10,
   "metadata": {
    "scrolled": true
   },
   "outputs": [
    {
     "data": {
      "text/plain": [
       "0.01609332934489979"
      ]
     },
     "execution_count": 10,
     "metadata": {},
     "output_type": "execute_result"
    }
   ],
   "source": [
    "len(data[data['year_of_release'].isnull()]) / len(data)"
   ]
  },
  {
   "cell_type": "code",
   "execution_count": 11,
   "metadata": {},
   "outputs": [],
   "source": [
    "data.dropna(subset=['year_of_release'], inplace=True)"
   ]
  },
  {
   "cell_type": "code",
   "execution_count": 12,
   "metadata": {},
   "outputs": [],
   "source": [
    "data.year_of_release = data.year_of_release.astype('int')"
   ]
  },
  {
   "cell_type": "markdown",
   "metadata": {},
   "source": [
    "### Заполним пропуски"
   ]
  },
  {
   "cell_type": "code",
   "execution_count": 13,
   "metadata": {},
   "outputs": [
    {
     "data": {
      "text/plain": [
       "name                  2\n",
       "platform              0\n",
       "year_of_release       0\n",
       "genre                 2\n",
       "na_sales              0\n",
       "eu_sales              0\n",
       "jp_sales              0\n",
       "other_sales           0\n",
       "critic_score       8463\n",
       "user_score         8983\n",
       "rating             6678\n",
       "dtype: int64"
      ]
     },
     "execution_count": 13,
     "metadata": {},
     "output_type": "execute_result"
    }
   ],
   "source": [
    "data.isna().sum()"
   ]
  },
  {
   "cell_type": "code",
   "execution_count": 14,
   "metadata": {},
   "outputs": [],
   "source": [
    "data.rating = data.rating.fillna('Unknown')"
   ]
  },
  {
   "cell_type": "code",
   "execution_count": 15,
   "metadata": {},
   "outputs": [],
   "source": [
    "data.dropna(subset=['name'], inplace=True)"
   ]
  },
  {
   "cell_type": "code",
   "execution_count": 16,
   "metadata": {},
   "outputs": [
    {
     "data": {
      "text/plain": [
       "name                  0\n",
       "platform              0\n",
       "year_of_release       0\n",
       "genre                 0\n",
       "na_sales              0\n",
       "eu_sales              0\n",
       "jp_sales              0\n",
       "other_sales           0\n",
       "critic_score       8461\n",
       "user_score         8981\n",
       "rating                0\n",
       "dtype: int64"
      ]
     },
     "execution_count": 16,
     "metadata": {},
     "output_type": "execute_result"
    }
   ],
   "source": [
    "data.isna().sum()"
   ]
  },
  {
   "cell_type": "markdown",
   "metadata": {},
   "source": [
    "Пропуски в *Genre* также удалены."
   ]
  },
  {
   "cell_type": "code",
   "execution_count": 17,
   "metadata": {},
   "outputs": [],
   "source": [
    "data.critic_score = data.critic_score.fillna(-1)\n",
    "data.user_score = data.user_score.fillna(-1)"
   ]
  },
  {
   "cell_type": "code",
   "execution_count": 18,
   "metadata": {},
   "outputs": [
    {
     "data": {
      "text/plain": [
       "array([ 8. , -1. ,  8.3,  8.5,  6.6,  8.4,  8.6,  7.7,  6.3,  7.4,  8.2,\n",
       "        9. ,  7.9,  8.1,  8.7,  7.1,  3.4,  5.3,  4.8,  3.2,  8.9,  6.4,\n",
       "        7.8,  7.5,  2.6,  7.2,  9.2,  7. ,  7.3,  4.3,  7.6,  5.7,  5. ,\n",
       "        9.1,  6.5,  8.8,  6.9,  9.4,  6.8,  6.1,  6.7,  5.4,  4. ,  4.9,\n",
       "        4.5,  9.3,  6.2,  4.2,  6. ,  3.7,  4.1,  5.8,  5.6,  5.5,  4.4,\n",
       "        4.6,  5.9,  3.9,  3.1,  2.9,  5.2,  3.3,  4.7,  5.1,  3.5,  2.5,\n",
       "        1.9,  3. ,  2.7,  2.2,  2. ,  9.5,  2.1,  3.6,  2.8,  1.8,  3.8,\n",
       "        0. ,  1.6,  9.6,  2.4,  1.7,  1.1,  0.3,  1.5,  0.7,  1.2,  2.3,\n",
       "        0.5,  1.3,  0.2,  0.6,  1.4,  0.9,  1. ,  9.7])"
      ]
     },
     "execution_count": 18,
     "metadata": {},
     "output_type": "execute_result"
    }
   ],
   "source": [
    "data['user_score'].unique()"
   ]
  },
  {
   "cell_type": "markdown",
   "metadata": {},
   "source": [
    "### Проверка на дубли"
   ]
  },
  {
   "cell_type": "code",
   "execution_count": 19,
   "metadata": {},
   "outputs": [
    {
     "data": {
      "text/plain": [
       "0"
      ]
     },
     "execution_count": 19,
     "metadata": {},
     "output_type": "execute_result"
    }
   ],
   "source": [
    "data.duplicated().sum()"
   ]
  },
  {
   "cell_type": "markdown",
   "metadata": {},
   "source": [
    "### Столбец общих продаж"
   ]
  },
  {
   "cell_type": "code",
   "execution_count": 20,
   "metadata": {},
   "outputs": [],
   "source": [
    "data['total_sales'] = data.na_sales + data.eu_sales + data.jp_sales + data.other_sales"
   ]
  },
  {
   "cell_type": "code",
   "execution_count": 21,
   "metadata": {},
   "outputs": [
    {
     "data": {
      "text/html": [
       "<div>\n",
       "<style scoped>\n",
       "    .dataframe tbody tr th:only-of-type {\n",
       "        vertical-align: middle;\n",
       "    }\n",
       "\n",
       "    .dataframe tbody tr th {\n",
       "        vertical-align: top;\n",
       "    }\n",
       "\n",
       "    .dataframe thead th {\n",
       "        text-align: right;\n",
       "    }\n",
       "</style>\n",
       "<table border=\"1\" class=\"dataframe\">\n",
       "  <thead>\n",
       "    <tr style=\"text-align: right;\">\n",
       "      <th></th>\n",
       "      <th>name</th>\n",
       "      <th>platform</th>\n",
       "      <th>year_of_release</th>\n",
       "      <th>genre</th>\n",
       "      <th>na_sales</th>\n",
       "      <th>eu_sales</th>\n",
       "      <th>jp_sales</th>\n",
       "      <th>other_sales</th>\n",
       "      <th>critic_score</th>\n",
       "      <th>user_score</th>\n",
       "      <th>rating</th>\n",
       "      <th>total_sales</th>\n",
       "    </tr>\n",
       "  </thead>\n",
       "  <tbody>\n",
       "    <tr>\n",
       "      <th>0</th>\n",
       "      <td>Wii Sports</td>\n",
       "      <td>Wii</td>\n",
       "      <td>2006</td>\n",
       "      <td>Sports</td>\n",
       "      <td>41.36</td>\n",
       "      <td>28.96</td>\n",
       "      <td>3.77</td>\n",
       "      <td>8.45</td>\n",
       "      <td>76.0</td>\n",
       "      <td>8.0</td>\n",
       "      <td>E</td>\n",
       "      <td>82.54</td>\n",
       "    </tr>\n",
       "    <tr>\n",
       "      <th>1</th>\n",
       "      <td>Super Mario Bros.</td>\n",
       "      <td>NES</td>\n",
       "      <td>1985</td>\n",
       "      <td>Platform</td>\n",
       "      <td>29.08</td>\n",
       "      <td>3.58</td>\n",
       "      <td>6.81</td>\n",
       "      <td>0.77</td>\n",
       "      <td>-1.0</td>\n",
       "      <td>-1.0</td>\n",
       "      <td>Unknown</td>\n",
       "      <td>40.24</td>\n",
       "    </tr>\n",
       "    <tr>\n",
       "      <th>2</th>\n",
       "      <td>Mario Kart Wii</td>\n",
       "      <td>Wii</td>\n",
       "      <td>2008</td>\n",
       "      <td>Racing</td>\n",
       "      <td>15.68</td>\n",
       "      <td>12.76</td>\n",
       "      <td>3.79</td>\n",
       "      <td>3.29</td>\n",
       "      <td>82.0</td>\n",
       "      <td>8.3</td>\n",
       "      <td>E</td>\n",
       "      <td>35.52</td>\n",
       "    </tr>\n",
       "    <tr>\n",
       "      <th>3</th>\n",
       "      <td>Wii Sports Resort</td>\n",
       "      <td>Wii</td>\n",
       "      <td>2009</td>\n",
       "      <td>Sports</td>\n",
       "      <td>15.61</td>\n",
       "      <td>10.93</td>\n",
       "      <td>3.28</td>\n",
       "      <td>2.95</td>\n",
       "      <td>80.0</td>\n",
       "      <td>8.0</td>\n",
       "      <td>E</td>\n",
       "      <td>32.77</td>\n",
       "    </tr>\n",
       "    <tr>\n",
       "      <th>4</th>\n",
       "      <td>Pokemon Red/Pokemon Blue</td>\n",
       "      <td>GB</td>\n",
       "      <td>1996</td>\n",
       "      <td>Role-Playing</td>\n",
       "      <td>11.27</td>\n",
       "      <td>8.89</td>\n",
       "      <td>10.22</td>\n",
       "      <td>1.00</td>\n",
       "      <td>-1.0</td>\n",
       "      <td>-1.0</td>\n",
       "      <td>Unknown</td>\n",
       "      <td>31.38</td>\n",
       "    </tr>\n",
       "  </tbody>\n",
       "</table>\n",
       "</div>"
      ],
      "text/plain": [
       "                       name platform  year_of_release         genre  na_sales  \\\n",
       "0                Wii Sports      Wii             2006        Sports     41.36   \n",
       "1         Super Mario Bros.      NES             1985      Platform     29.08   \n",
       "2            Mario Kart Wii      Wii             2008        Racing     15.68   \n",
       "3         Wii Sports Resort      Wii             2009        Sports     15.61   \n",
       "4  Pokemon Red/Pokemon Blue       GB             1996  Role-Playing     11.27   \n",
       "\n",
       "   eu_sales  jp_sales  other_sales  critic_score  user_score   rating  \\\n",
       "0     28.96      3.77         8.45          76.0         8.0        E   \n",
       "1      3.58      6.81         0.77          -1.0        -1.0  Unknown   \n",
       "2     12.76      3.79         3.29          82.0         8.3        E   \n",
       "3     10.93      3.28         2.95          80.0         8.0        E   \n",
       "4      8.89     10.22         1.00          -1.0        -1.0  Unknown   \n",
       "\n",
       "   total_sales  \n",
       "0        82.54  \n",
       "1        40.24  \n",
       "2        35.52  \n",
       "3        32.77  \n",
       "4        31.38  "
      ]
     },
     "execution_count": 21,
     "metadata": {},
     "output_type": "execute_result"
    }
   ],
   "source": [
    "data.head(5)"
   ]
  },
  {
   "cell_type": "markdown",
   "metadata": {},
   "source": [
    "## Анализ данных"
   ]
  },
  {
   "cell_type": "markdown",
   "metadata": {},
   "source": [
    "### Как менялись продажи по платформам"
   ]
  },
  {
   "cell_type": "code",
   "execution_count": 22,
   "metadata": {},
   "outputs": [
    {
     "data": {
      "text/plain": [
       "Text(0, 0.5, 'Количество игр')"
      ]
     },
     "execution_count": 22,
     "metadata": {},
     "output_type": "execute_result"
    },
    {
     "data": {
      "image/png": "[encoded data removed]",
      "text/plain": [
       "<Figure size 1512x648 with 1 Axes>"
      ]
     },
     "metadata": {
      "needs_background": "light"
     },
     "output_type": "display_data"
    }
   ],
   "source": [
    "(data\n",
    " .groupby('year_of_release')['name']\n",
    " .count()\n",
    " .reset_index()\n",
    " .plot(x = 'year_of_release', y = 'name', kind='bar', figsize=(21,9)))\n",
    "plt.title('Продажи по платформам')\n",
    "plt.xlabel('Год')\n",
    "plt.ylabel('Количество игр')"
   ]
  },
  {
   "cell_type": "markdown",
   "metadata": {},
   "source": [
    "Пик популярности игр был в 2008-2009 гг.  "
   ]
  },
  {
   "cell_type": "markdown",
   "metadata": {},
   "source": [
    "### Как менялись продажи по платформам"
   ]
  },
  {
   "cell_type": "code",
   "execution_count": 23,
   "metadata": {},
   "outputs": [
    {
     "data": {
      "text/plain": [
       "<AxesSubplot:xlabel='platform'>"
      ]
     },
     "execution_count": 23,
     "metadata": {},
     "output_type": "execute_result"
    },
    {
     "data": {
      "image/png": "[encoded data removed]",
      "text/plain": [
       "<Figure size 936x576 with 1 Axes>"
      ]
     },
     "metadata": {
      "needs_background": "light"
     },
     "output_type": "display_data"
    }
   ],
   "source": [
    "platform_sales = data.groupby('platform')['total_sales'].sum().sort_values(ascending=False)\n",
    "platform_sales.plot(kind = 'bar', figsize=(13, 8))"
   ]
  },
  {
   "cell_type": "markdown",
   "metadata": {},
   "source": [
    "Рассмотрим 6 платформ, принесших наибольшую выручку, по отдельности."
   ]
  },
  {
   "cell_type": "code",
   "execution_count": 24,
   "metadata": {
    "scrolled": false
   },
   "outputs": [
    {
     "name": "stdout",
     "output_type": "stream",
     "text": [
      "PS2\n"
     ]
    },
    {
     "data": {
      "image/png": "[encoded data removed]",
      "text/plain": [
       "<Figure size 432x288 with 1 Axes>"
      ]
     },
     "metadata": {
      "needs_background": "light"
     },
     "output_type": "display_data"
    },
    {
     "name": "stdout",
     "output_type": "stream",
     "text": [
      "X360\n"
     ]
    },
    {
     "data": {
      "image/png": "[encoded data removed]",
      "text/plain": [
       "<Figure size 432x288 with 1 Axes>"
      ]
     },
     "metadata": {
      "needs_background": "light"
     },
     "output_type": "display_data"
    },
    {
     "name": "stdout",
     "output_type": "stream",
     "text": [
      "PS3\n"
     ]
    },
    {
     "data": {
      "image/png": "[encoded data removed]",
      "text/plain": [
       "<Figure size 432x288 with 1 Axes>"
      ]
     },
     "metadata": {
      "needs_background": "light"
     },
     "output_type": "display_data"
    },
    {
     "name": "stdout",
     "output_type": "stream",
     "text": [
      "Wii\n"
     ]
    },
    {
     "data": {
      "image/png": "[encoded data removed]",
      "text/plain": [
       "<Figure size 432x288 with 1 Axes>"
      ]
     },
     "metadata": {
      "needs_background": "light"
     },
     "output_type": "display_data"
    },
    {
     "name": "stdout",
     "output_type": "stream",
     "text": [
      "DS\n"
     ]
    },
    {
     "data": {
      "image/png": "[encoded data removed]",
      "text/plain": [
       "<Figure size 432x288 with 1 Axes>"
      ]
     },
     "metadata": {
      "needs_background": "light"
     },
     "output_type": "display_data"
    },
    {
     "name": "stdout",
     "output_type": "stream",
     "text": [
      "PS\n"
     ]
    },
    {
     "data": {
      "image/png": "[encoded data removed]",
      "text/plain": [
       "<Figure size 432x288 with 1 Axes>"
      ]
     },
     "metadata": {
      "needs_background": "light"
     },
     "output_type": "display_data"
    }
   ],
   "source": [
    "for platform in platform_sales.head(6).index:\n",
    "    print(platform)\n",
    "    (data.query('platform == @platform')\n",
    "        .pivot_table(index='year_of_release', values='total_sales', aggfunc='sum')\n",
    "         .plot(kind = 'bar')\n",
    "    )\n",
    "    plt.show()"
   ]
  },
  {
   "cell_type": "markdown",
   "metadata": {},
   "source": [
    "Можно сделать вывод, что жизненый цикл игровой платформы составляет 10 лет."
   ]
  },
  {
   "cell_type": "markdown",
   "metadata": {},
   "source": [
    "### Актуальный период. Какие платформы лидируют по продажам, растут или падают?"
   ]
  },
  {
   "cell_type": "markdown",
   "metadata": {},
   "source": [
    "Актуальными данными будем считать данные за 2014-2016 гг., то есть за последние 3 года.  \n",
    "Таких данных достаточно, чтобы выделить актульные платформы и понять ситуацию на рынке в текущий момент, что поможет прогнозировать 2017 год."
   ]
  },
  {
   "cell_type": "code",
   "execution_count": 25,
   "metadata": {},
   "outputs": [],
   "source": [
    "data_actual = data[data.year_of_release >= 2014]"
   ]
  },
  {
   "cell_type": "code",
   "execution_count": 26,
   "metadata": {},
   "outputs": [
    {
     "data": {
      "text/plain": [
       "<AxesSubplot:xlabel='platform'>"
      ]
     },
     "execution_count": 26,
     "metadata": {},
     "output_type": "execute_result"
    },
    {
     "data": {
      "image/png": "[encoded data removed]",
      "text/plain": [
       "<Figure size 936x576 with 1 Axes>"
      ]
     },
     "metadata": {
      "needs_background": "light"
     },
     "output_type": "display_data"
    }
   ],
   "source": [
    "data_actual_platform = (data_actual.pivot_table(index='platform', values='total_sales', aggfunc='sum')\n",
    "                        .sort_values('total_sales', ascending=False))\n",
    "data_actual_platform.plot(kind='bar', figsize=(13, 8))"
   ]
  },
  {
   "cell_type": "code",
   "execution_count": 27,
   "metadata": {
    "scrolled": false
   },
   "outputs": [
    {
     "name": "stdout",
     "output_type": "stream",
     "text": [
      "PS4\n"
     ]
    },
    {
     "data": {
      "image/png": "[encoded data removed]",
      "text/plain": [
       "<Figure size 432x288 with 1 Axes>"
      ]
     },
     "metadata": {
      "needs_background": "light"
     },
     "output_type": "display_data"
    },
    {
     "name": "stdout",
     "output_type": "stream",
     "text": [
      "XOne\n"
     ]
    },
    {
     "data": {
      "image/png": "[encoded data removed]",
      "text/plain": [
       "<Figure size 432x288 with 1 Axes>"
      ]
     },
     "metadata": {
      "needs_background": "light"
     },
     "output_type": "display_data"
    },
    {
     "name": "stdout",
     "output_type": "stream",
     "text": [
      "3DS\n"
     ]
    },
    {
     "data": {
      "image/png": "[encoded data removed]",
      "text/plain": [
       "<Figure size 432x288 with 1 Axes>"
      ]
     },
     "metadata": {
      "needs_background": "light"
     },
     "output_type": "display_data"
    },
    {
     "name": "stdout",
     "output_type": "stream",
     "text": [
      "PS3\n"
     ]
    },
    {
     "data": {
      "image/png": "[encoded data removed]",
      "text/plain": [
       "<Figure size 432x288 with 1 Axes>"
      ]
     },
     "metadata": {
      "needs_background": "light"
     },
     "output_type": "display_data"
    },
    {
     "name": "stdout",
     "output_type": "stream",
     "text": [
      "X360\n"
     ]
    },
    {
     "data": {
      "image/png": "[encoded data removed]",
      "text/plain": [
       "<Figure size 432x288 with 1 Axes>"
      ]
     },
     "metadata": {
      "needs_background": "light"
     },
     "output_type": "display_data"
    },
    {
     "name": "stdout",
     "output_type": "stream",
     "text": [
      "WiiU\n"
     ]
    },
    {
     "data": {
      "image/png": "[encoded data removed]",
      "text/plain": [
       "<Figure size 432x288 with 1 Axes>"
      ]
     },
     "metadata": {
      "needs_background": "light"
     },
     "output_type": "display_data"
    },
    {
     "name": "stdout",
     "output_type": "stream",
     "text": [
      "PC\n"
     ]
    },
    {
     "data": {
      "image/png": "[encoded data removed]",
      "text/plain": [
       "<Figure size 432x288 with 1 Axes>"
      ]
     },
     "metadata": {
      "needs_background": "light"
     },
     "output_type": "display_data"
    },
    {
     "name": "stdout",
     "output_type": "stream",
     "text": [
      "PSV\n"
     ]
    },
    {
     "data": {
      "image/png": "[encoded data removed]",
      "text/plain": [
       "<Figure size 432x288 with 1 Axes>"
      ]
     },
     "metadata": {
      "needs_background": "light"
     },
     "output_type": "display_data"
    },
    {
     "name": "stdout",
     "output_type": "stream",
     "text": [
      "Wii\n"
     ]
    },
    {
     "data": {
      "image/png": "[encoded data removed]",
      "text/plain": [
       "<Figure size 432x288 with 1 Axes>"
      ]
     },
     "metadata": {
      "needs_background": "light"
     },
     "output_type": "display_data"
    },
    {
     "name": "stdout",
     "output_type": "stream",
     "text": [
      "PSP\n"
     ]
    },
    {
     "data": {
      "image/png": "[encoded data removed]",
      "text/plain": [
       "<Figure size 432x288 with 1 Axes>"
      ]
     },
     "metadata": {
      "needs_background": "light"
     },
     "output_type": "display_data"
    }
   ],
   "source": [
    "for platform in data_actual_platform.index:\n",
    "    print(platform)\n",
    "    (data_actual\n",
    "     .query('platform == @platform')\n",
    "     .pivot_table(index='year_of_release', values='total_sales', aggfunc='sum')\n",
    "     .plot(kind='bar')\n",
    "    )\n",
    "    plt.show()"
   ]
  },
  {
   "cell_type": "code",
   "execution_count": 28,
   "metadata": {},
   "outputs": [
    {
     "data": {
      "text/html": [
       "<div>\n",
       "<style scoped>\n",
       "    .dataframe tbody tr th:only-of-type {\n",
       "        vertical-align: middle;\n",
       "    }\n",
       "\n",
       "    .dataframe tbody tr th {\n",
       "        vertical-align: top;\n",
       "    }\n",
       "\n",
       "    .dataframe thead th {\n",
       "        text-align: right;\n",
       "    }\n",
       "</style>\n",
       "<table border=\"1\" class=\"dataframe\">\n",
       "  <thead>\n",
       "    <tr style=\"text-align: right;\">\n",
       "      <th></th>\n",
       "      <th>name</th>\n",
       "      <th>platform</th>\n",
       "      <th>year_of_release</th>\n",
       "      <th>genre</th>\n",
       "      <th>na_sales</th>\n",
       "      <th>eu_sales</th>\n",
       "      <th>jp_sales</th>\n",
       "      <th>other_sales</th>\n",
       "      <th>critic_score</th>\n",
       "      <th>user_score</th>\n",
       "      <th>rating</th>\n",
       "      <th>total_sales</th>\n",
       "    </tr>\n",
       "  </thead>\n",
       "  <tbody>\n",
       "    <tr>\n",
       "      <th>31</th>\n",
       "      <td>Call of Duty: Black Ops 3</td>\n",
       "      <td>PS4</td>\n",
       "      <td>2015</td>\n",
       "      <td>Shooter</td>\n",
       "      <td>6.03</td>\n",
       "      <td>5.86</td>\n",
       "      <td>0.36</td>\n",
       "      <td>2.38</td>\n",
       "      <td>-1.0</td>\n",
       "      <td>-1.0</td>\n",
       "      <td>Unknown</td>\n",
       "      <td>14.63</td>\n",
       "    </tr>\n",
       "    <tr>\n",
       "      <th>42</th>\n",
       "      <td>Grand Theft Auto V</td>\n",
       "      <td>PS4</td>\n",
       "      <td>2014</td>\n",
       "      <td>Action</td>\n",
       "      <td>3.96</td>\n",
       "      <td>6.31</td>\n",
       "      <td>0.38</td>\n",
       "      <td>1.97</td>\n",
       "      <td>97.0</td>\n",
       "      <td>8.3</td>\n",
       "      <td>M</td>\n",
       "      <td>12.62</td>\n",
       "    </tr>\n",
       "    <tr>\n",
       "      <th>47</th>\n",
       "      <td>Pokemon Omega Ruby/Pokemon Alpha Sapphire</td>\n",
       "      <td>3DS</td>\n",
       "      <td>2014</td>\n",
       "      <td>Role-Playing</td>\n",
       "      <td>4.35</td>\n",
       "      <td>3.49</td>\n",
       "      <td>3.10</td>\n",
       "      <td>0.74</td>\n",
       "      <td>-1.0</td>\n",
       "      <td>-1.0</td>\n",
       "      <td>Unknown</td>\n",
       "      <td>11.68</td>\n",
       "    </tr>\n",
       "    <tr>\n",
       "      <th>77</th>\n",
       "      <td>FIFA 16</td>\n",
       "      <td>PS4</td>\n",
       "      <td>2015</td>\n",
       "      <td>Sports</td>\n",
       "      <td>1.12</td>\n",
       "      <td>6.12</td>\n",
       "      <td>0.06</td>\n",
       "      <td>1.28</td>\n",
       "      <td>82.0</td>\n",
       "      <td>4.3</td>\n",
       "      <td>E</td>\n",
       "      <td>8.58</td>\n",
       "    </tr>\n",
       "    <tr>\n",
       "      <th>87</th>\n",
       "      <td>Star Wars Battlefront (2015)</td>\n",
       "      <td>PS4</td>\n",
       "      <td>2015</td>\n",
       "      <td>Shooter</td>\n",
       "      <td>2.99</td>\n",
       "      <td>3.49</td>\n",
       "      <td>0.22</td>\n",
       "      <td>1.28</td>\n",
       "      <td>-1.0</td>\n",
       "      <td>-1.0</td>\n",
       "      <td>Unknown</td>\n",
       "      <td>7.98</td>\n",
       "    </tr>\n",
       "  </tbody>\n",
       "</table>\n",
       "</div>"
      ],
      "text/plain": [
       "                                         name platform  year_of_release  \\\n",
       "31                  Call of Duty: Black Ops 3      PS4             2015   \n",
       "42                         Grand Theft Auto V      PS4             2014   \n",
       "47  Pokemon Omega Ruby/Pokemon Alpha Sapphire      3DS             2014   \n",
       "77                                    FIFA 16      PS4             2015   \n",
       "87               Star Wars Battlefront (2015)      PS4             2015   \n",
       "\n",
       "           genre  na_sales  eu_sales  jp_sales  other_sales  critic_score  \\\n",
       "31       Shooter      6.03      5.86      0.36         2.38          -1.0   \n",
       "42        Action      3.96      6.31      0.38         1.97          97.0   \n",
       "47  Role-Playing      4.35      3.49      3.10         0.74          -1.0   \n",
       "77        Sports      1.12      6.12      0.06         1.28          82.0   \n",
       "87       Shooter      2.99      3.49      0.22         1.28          -1.0   \n",
       "\n",
       "    user_score   rating  total_sales  \n",
       "31        -1.0  Unknown        14.63  \n",
       "42         8.3        M        12.62  \n",
       "47        -1.0  Unknown        11.68  \n",
       "77         4.3        E         8.58  \n",
       "87        -1.0  Unknown         7.98  "
      ]
     },
     "execution_count": 28,
     "metadata": {},
     "output_type": "execute_result"
    }
   ],
   "source": [
    "data_actual.head(5)"
   ]
  },
  {
   "cell_type": "code",
   "execution_count": 29,
   "metadata": {},
   "outputs": [
    {
     "data": {
      "text/plain": [
       "platform\n",
       "PS4     288.15\n",
       "XOne    140.36\n",
       "3DS      86.68\n",
       "PS3      68.18\n",
       "X360     48.22\n",
       "WiiU     42.98\n",
       "PC       27.05\n",
       "PSV      22.40\n",
       "Wii       5.07\n",
       "PSP       0.36\n",
       "Name: total_sales, dtype: float64"
      ]
     },
     "execution_count": 29,
     "metadata": {},
     "output_type": "execute_result"
    }
   ],
   "source": [
    "data_actual.groupby('platform')['total_sales'].sum().sort_values(ascending=False).head(10)"
   ]
  },
  {
   "cell_type": "markdown",
   "metadata": {},
   "source": [
    "Наиболее прибыльные платформы - консоли последнего поколения PS4 и Xbox ONE.  \n",
    "PS3 и XBOX 360 являются их устаревшими \"предками\". По графикам видно снижение продаж, их жизненый цикл закончен.  \n",
    "Исключением является PC, это единственная платформа в наших данных, которая не имеет жизненого цикла. График показывает периодическое повышение спроса, затем подение и очередной отскок.  \n",
    "WiiU - новое поколение семейства Wii, PSV - семейства PSP.  \n",
    "Для дальнейшего анализа оставим только актуальыне платформы, устаревшие устарели не только морально и технологически, но и не прибыльны."
   ]
  },
  {
   "cell_type": "code",
   "execution_count": 30,
   "metadata": {},
   "outputs": [],
   "source": [
    "data_actual = data_actual[data_actual.platform.isin(['PS4', 'XOne', 'PC', '3DS', 'WiiU', 'PSV'])]"
   ]
  },
  {
   "cell_type": "markdown",
   "metadata": {},
   "source": [
    "### График «ящик с усами» по глобальным продажам игр в разбивке по платформам"
   ]
  },
  {
   "cell_type": "code",
   "execution_count": 31,
   "metadata": {},
   "outputs": [
    {
     "data": {
      "text/plain": [
       "[Text(0.5, 1.0, 'Продажи по перспективным платформам за 2014-2016 гг'),\n",
       " Text(0.5, 0, 'Платформы'),\n",
       " Text(0, 0.5, 'Общие продажи'),\n",
       " (0.0, 3.0)]"
      ]
     },
     "execution_count": 31,
     "metadata": {},
     "output_type": "execute_result"
    },
    {
     "data": {
      "image/png": "[encoded data removed]",
      "text/plain": [
       "<Figure size 936x576 with 1 Axes>"
      ]
     },
     "metadata": {
      "needs_background": "light"
     },
     "output_type": "display_data"
    }
   ],
   "source": [
    "plt.figure(figsize=(13, 8))\n",
    "(sns.boxplot(x='platform', y='total_sales', data = data_actual)\n",
    " .set(title = 'Продажи по перспективным платформам за 2014-2016 гг', xlabel = 'Платформы', ylabel = 'Общие продажи', ylim=(0, 3)))"
   ]
  },
  {
   "cell_type": "markdown",
   "metadata": {},
   "source": [
    "Наибольшую прибыль приносят консоли PS4, Xbox One и WiiU. У них схожие медианы продаж.  \n",
    "3DS и PSV - портативные консоли, то есть более специализированный товар. Этим и обусловленые меньшие продажи игр и их количество."
   ]
  },
  {
   "cell_type": "markdown",
   "metadata": {},
   "source": [
    "### Как влияют на продажи внутри одной популярной платформы отзывы пользователей и критиков"
   ]
  },
  {
   "cell_type": "code",
   "execution_count": 32,
   "metadata": {
    "scrolled": false
   },
   "outputs": [
    {
     "name": "stdout",
     "output_type": "stream",
     "text": [
      "==================================================\n",
      "PS4\n"
     ]
    },
    {
     "data": {
      "image/png": "[encoded data removed]",
      "text/plain": [
       "<Figure size 432x288 with 1 Axes>"
      ]
     },
     "metadata": {
      "needs_background": "light"
     },
     "output_type": "display_data"
    },
    {
     "data": {
      "image/png": "[encoded data removed]",
      "text/plain": [
       "<Figure size 432x288 with 1 Axes>"
      ]
     },
     "metadata": {
      "needs_background": "light"
     },
     "output_type": "display_data"
    },
    {
     "name": "stdout",
     "output_type": "stream",
     "text": [
      "critic_score    0.401903\n",
      "user_score     -0.043186\n",
      "total_sales     1.000000\n",
      "Name: total_sales, dtype: float64\n",
      "==================================================\n",
      "3DS\n"
     ]
    },
    {
     "data": {
      "image/png": "[encoded data removed]",
      "text/plain": [
       "<Figure size 432x288 with 1 Axes>"
      ]
     },
     "metadata": {
      "needs_background": "light"
     },
     "output_type": "display_data"
    },
    {
     "data": {
      "image/png": "[encoded data removed]",
      "text/plain": [
       "<Figure size 432x288 with 1 Axes>"
      ]
     },
     "metadata": {
      "needs_background": "light"
     },
     "output_type": "display_data"
    },
    {
     "name": "stdout",
     "output_type": "stream",
     "text": [
      "critic_score    0.284686\n",
      "user_score      0.279850\n",
      "total_sales     1.000000\n",
      "Name: total_sales, dtype: float64\n",
      "==================================================\n",
      "XOne\n"
     ]
    },
    {
     "data": {
      "image/png": "[encoded data removed]",
      "text/plain": [
       "<Figure size 432x288 with 1 Axes>"
      ]
     },
     "metadata": {
      "needs_background": "light"
     },
     "output_type": "display_data"
    },
    {
     "data": {
      "image/png": "[encoded data removed]",
      "text/plain": [
       "<Figure size 432x288 with 1 Axes>"
      ]
     },
     "metadata": {
      "needs_background": "light"
     },
     "output_type": "display_data"
    },
    {
     "name": "stdout",
     "output_type": "stream",
     "text": [
      "critic_score    0.422112\n",
      "user_score     -0.091734\n",
      "total_sales     1.000000\n",
      "Name: total_sales, dtype: float64\n",
      "==================================================\n",
      "WiiU\n"
     ]
    },
    {
     "data": {
      "image/png": "[encoded data removed]",
      "text/plain": [
       "<Figure size 432x288 with 1 Axes>"
      ]
     },
     "metadata": {
      "needs_background": "light"
     },
     "output_type": "display_data"
    },
    {
     "data": {
      "image/png": "[encoded data removed]",
      "text/plain": [
       "<Figure size 432x288 with 1 Axes>"
      ]
     },
     "metadata": {
      "needs_background": "light"
     },
     "output_type": "display_data"
    },
    {
     "name": "stdout",
     "output_type": "stream",
     "text": [
      "critic_score    0.375640\n",
      "user_score      0.411451\n",
      "total_sales     1.000000\n",
      "Name: total_sales, dtype: float64\n",
      "==================================================\n",
      "PC\n"
     ]
    },
    {
     "data": {
      "image/png": "[encoded data removed]",
      "text/plain": [
       "<Figure size 432x288 with 1 Axes>"
      ]
     },
     "metadata": {
      "needs_background": "light"
     },
     "output_type": "display_data"
    },
    {
     "data": {
      "image/png": "[encoded data removed]",
      "text/plain": [
       "<Figure size 432x288 with 1 Axes>"
      ]
     },
     "metadata": {
      "needs_background": "light"
     },
     "output_type": "display_data"
    },
    {
     "name": "stdout",
     "output_type": "stream",
     "text": [
      "critic_score    0.172061\n",
      "user_score     -0.089974\n",
      "total_sales     1.000000\n",
      "Name: total_sales, dtype: float64\n",
      "==================================================\n",
      "PSV\n"
     ]
    },
    {
     "data": {
      "image/png": "[encoded data removed]",
      "text/plain": [
       "<Figure size 432x288 with 1 Axes>"
      ]
     },
     "metadata": {
      "needs_background": "light"
     },
     "output_type": "display_data"
    },
    {
     "data": {
      "image/png": "[encoded data removed]",
      "text/plain": [
       "<Figure size 432x288 with 1 Axes>"
      ]
     },
     "metadata": {
      "needs_background": "light"
     },
     "output_type": "display_data"
    },
    {
     "name": "stdout",
     "output_type": "stream",
     "text": [
      "critic_score    0.041029\n",
      "user_score      0.023528\n",
      "total_sales     1.000000\n",
      "Name: total_sales, dtype: float64\n"
     ]
    }
   ],
   "source": [
    "for platform in data_actual.platform.unique():\n",
    "    print('=' * 50)\n",
    "    print(platform)\n",
    "    df_i = data_actual.query('platform == @platform')\n",
    "    df_i.query('critic_score != -1').plot(kind = 'scatter', x = 'critic_score', y = 'total_sales')\n",
    "    df_i.query('user_score != -1').plot(kind = 'scatter', x = 'user_score', y = 'total_sales')\n",
    "    plt.show()\n",
    "    print(df_i[(df_i['critic_score'] != -1) \n",
    "                        & (df_i['user_score'] != -1)]\n",
    "                       [['critic_score', 'user_score', 'total_sales']].corr()['total_sales'])"
   ]
  },
  {
   "cell_type": "markdown",
   "metadata": {},
   "source": [
    "В случае стационарных консолей есть слабое влияние отзывов критиков на продажи игр.  \n",
    "Единственная платформа, на игры к которой прослеживается влияние отзывов пользоватлей - WiiU."
   ]
  },
  {
   "cell_type": "markdown",
   "metadata": {},
   "source": [
    "### Что можно сказать о самых прибыльных жанрах? Выделяются ли жанры с высокими и низкими продажами?"
   ]
  },
  {
   "cell_type": "code",
   "execution_count": 33,
   "metadata": {},
   "outputs": [
    {
     "data": {
      "text/plain": [
       "<AxesSubplot:xlabel='genre'>"
      ]
     },
     "execution_count": 33,
     "metadata": {},
     "output_type": "execute_result"
    },
    {
     "data": {
      "image/png": "[encoded data removed]",
      "text/plain": [
       "<Figure size 936x576 with 1 Axes>"
      ]
     },
     "metadata": {
      "needs_background": "light"
     },
     "output_type": "display_data"
    }
   ],
   "source": [
    "data_actual_genre = (data_actual.pivot_table(index='genre', values='total_sales', aggfunc='sum')\n",
    "                        .sort_values('total_sales', ascending=False))\n",
    "data_actual_genre.plot(kind='bar', figsize=(13, 8))"
   ]
  },
  {
   "cell_type": "code",
   "execution_count": 34,
   "metadata": {
    "scrolled": false
   },
   "outputs": [
    {
     "data": {
      "text/plain": [
       "<AxesSubplot:xlabel='genre'>"
      ]
     },
     "execution_count": 34,
     "metadata": {},
     "output_type": "execute_result"
    },
    {
     "data": {
      "image/png": "[encoded data removed]",
      "text/plain": [
       "<Figure size 936x576 with 1 Axes>"
      ]
     },
     "metadata": {
      "needs_background": "light"
     },
     "output_type": "display_data"
    }
   ],
   "source": [
    "data_actual_genre = (data_actual.pivot_table(index='genre', values='total_sales', aggfunc='count')\n",
    "                        .sort_values('total_sales', ascending=False))\n",
    "data_actual_genre.plot(kind='bar', figsize=(13, 8))"
   ]
  },
  {
   "cell_type": "code",
   "execution_count": 35,
   "metadata": {},
   "outputs": [
    {
     "data": {
      "text/plain": [
       "[Text(0.5, 1.0, 'Продажи по жанрам за 2014-2016 гг'),\n",
       " Text(0.5, 0, 'Жанр'),\n",
       " Text(0, 0.5, 'Общие продажи'),\n",
       " (0.0, 3.0)]"
      ]
     },
     "execution_count": 35,
     "metadata": {},
     "output_type": "execute_result"
    },
    {
     "data": {
      "image/png": "[encoded data removed]",
      "text/plain": [
       "<Figure size 936x576 with 1 Axes>"
      ]
     },
     "metadata": {
      "needs_background": "light"
     },
     "output_type": "display_data"
    }
   ],
   "source": [
    "plt.figure(figsize=(13, 8))\n",
    "(sns.boxplot(x='genre', y='total_sales', data = data_actual)\n",
    " .set(title = 'Продажи по жанрам за 2014-2016 гг', xlabel = 'Жанр', ylabel = 'Общие продажи', ylim=(0, 3)))"
   ]
  },
  {
   "cell_type": "markdown",
   "metadata": {},
   "source": [
    "Наиболее востребоване игры жанров Shooter и Action. Они принесли больше прибыли.  \n",
    "Также выделяются Role-Playing и Sports.  \n",
    "При этом \"ящик с усами\" показывает, что медианное значение продаж больше у игр жанра Shooter, хотя общая прибыль от Action больше.  \n",
    "Это объясняется количеством игр жанар Action, при этом одна игра Shooter приносит большую прибыль."
   ]
  },
  {
   "cell_type": "markdown",
   "metadata": {},
   "source": [
    "## Портрет пользователя каждого региона (NA, EU, JP)"
   ]
  },
  {
   "cell_type": "markdown",
   "metadata": {},
   "source": [
    "### Топ-5 платформ"
   ]
  },
  {
   "cell_type": "code",
   "execution_count": 36,
   "metadata": {},
   "outputs": [
    {
     "data": {
      "image/png": "[encoded data removed]",
      "text/plain": [
       "<Figure size 1080x360 with 3 Axes>"
      ]
     },
     "metadata": {},
     "output_type": "display_data"
    }
   ],
   "source": [
    "# задаем список регионов\n",
    "countries = data_actual.columns[4:7]\n",
    "# начертим круговую диаграмму для каждого региона\n",
    "fig, axs = plt.subplots(1, 3, figsize=(15, 5))\n",
    "fig.suptitle('ТОП-5 платформ в регионах')\n",
    "for i in range(3):\n",
    "  # выберем 5 самых продающих платформ\n",
    "  df_i = (data_actual.groupby('platform')[countries[i]].sum().\n",
    "             reset_index().\n",
    "             sort_values(countries[i], ascending = False, ignore_index = True).\n",
    "             head(5))\n",
    "  # занесем все остальыне продажи в Other_platforms\n",
    "  df_i = df_i.append({'platform': 'Other_platforms', countries[i]: data_actual[countries[i]].sum() - df_i[countries[i]].sum()}, ignore_index= True)\n",
    "  axs[i].pie(df_i[countries[i]], labels = df_i['platform'])\n",
    "\n",
    "  # Зададим название региона.\n",
    "  axs[i].set_title(df_i.columns[1].split('_')[0].upper())\n",
    "plt.show()"
   ]
  },
  {
   "cell_type": "markdown",
   "metadata": {},
   "source": [
    "Предпочтения пользователей из Северной Америки и Европы схожи.  \n",
    "В Японии же большая часть пользователей предпочитает портативный гейминг и выбирает соответсвтующие платформы."
   ]
  },
  {
   "cell_type": "code",
   "execution_count": 37,
   "metadata": {},
   "outputs": [
    {
     "data": {
      "text/plain": [
       "0.7218469851406116"
      ]
     },
     "execution_count": 37,
     "metadata": {},
     "output_type": "execute_result"
    }
   ],
   "source": [
    "data_actual.query('platform == \"3DS\" or platform == \"PSV\"')['jp_sales'].sum() / data_actual.jp_sales.sum()"
   ]
  },
  {
   "cell_type": "markdown",
   "metadata": {},
   "source": [
    "### Топ-5 жанров"
   ]
  },
  {
   "cell_type": "code",
   "execution_count": 38,
   "metadata": {},
   "outputs": [
    {
     "data": {
      "image/png": "[encoded data removed]",
      "text/plain": [
       "<Figure size 1080x360 with 3 Axes>"
      ]
     },
     "metadata": {},
     "output_type": "display_data"
    }
   ],
   "source": [
    "fig, axs = plt.subplots(1, 3, figsize=(15, 5))\n",
    "fig.suptitle('ТОП-5 жанров в регионах')\n",
    "for i in range(3):\n",
    "  # выберем 5 самых продающих жанров\n",
    "  df_i = (data_actual.groupby('genre')[countries[i]].sum().\n",
    "             reset_index().\n",
    "             sort_values(countries[i], ascending = False, ignore_index = True).\n",
    "             head(5))\n",
    "  # занесем все остальыне продажи в Other_genres\n",
    "  df_i = df_i.append({'genre': 'Other_genres', countries[i]: data_actual[countries[i]].sum() - df_i[countries[i]].sum()}, ignore_index= True)\n",
    "  axs[i].pie(df_i[countries[i]], labels = df_i['genre'])\n",
    "\n",
    "  # Зададим название региона.\n",
    "  axs[i].set_title(df_i.columns[1].split('_')[0].upper())\n",
    "plt.show()"
   ]
  },
  {
   "cell_type": "markdown",
   "metadata": {},
   "source": [
    "Как и с платформами, пользователи Северной Америки и Европы в основном покупают игры 4-х лидирующих жанров.  \n",
    "В случае же с Японией - пользователи отдают предпочтения иначе.  \n",
    "Единственный жанр, которому отдают пратическии в равной мере все пользователи - Action."
   ]
  },
  {
   "cell_type": "markdown",
   "metadata": {},
   "source": [
    "### ESRB"
   ]
  },
  {
   "cell_type": "code",
   "execution_count": 39,
   "metadata": {},
   "outputs": [
    {
     "data": {
      "image/png": "[encoded data removed]",
      "text/plain": [
       "<Figure size 1080x360 with 3 Axes>"
      ]
     },
     "metadata": {},
     "output_type": "display_data"
    }
   ],
   "source": [
    "fig, axs = plt.subplots(1, 3, figsize=(15, 5))\n",
    "fig.suptitle('ESRB в регионах')\n",
    "for i in range(3):\n",
    "  \n",
    "  df_i = (data_actual.groupby('rating')[countries[i]].sum().\n",
    "             reset_index().\n",
    "             sort_values(countries[i], ascending = False, ignore_index = True)\n",
    "             )\n",
    "  axs[i].pie(df_i[countries[i]], labels = df_i['rating'])\n",
    "\n",
    "  # Зададим название региона.\n",
    "  axs[i].set_title(df_i.columns[1].split('_')[0].upper())\n",
    "plt.show()"
   ]
  },
  {
   "cell_type": "markdown",
   "metadata": {},
   "source": [
    "В Европе и Северной Америке лучше продаются игры для взрослых (рейтинг M), остальные - примерно одинаково вне зависимости от рейтинга ESRB.  \n",
    "В японии же наиболее прибыльны игры без рейтинга ESRB. Среди имеющих рейтинг, популярны игры, подходящие для подростков (рейтинг T).\n",
    "Отсуствие рейтинга может быть следствием более специфического рынка в Японии. Те же игры по анимэ и подобные. Но это рынок азиатской страны, и это предсказуемо, что будет по другому, ввиду абсолютно другого менталитета людей."
   ]
  },
  {
   "cell_type": "markdown",
   "metadata": {},
   "source": [
    "## Гипотезы"
   ]
  },
  {
   "cell_type": "code",
   "execution_count": 40,
   "metadata": {},
   "outputs": [],
   "source": [
    "alpha = .05"
   ]
  },
  {
   "cell_type": "markdown",
   "metadata": {},
   "source": [
    "### Средние пользовательские рейтинги платформ Xbox One и PC одинаковые  \n",
    "Н0 - средние пользовательские рейтинги платформ Xbox One и PC равны.  \n",
    "Н1 - средние пользовательские рейтинги платформ Xbox One и PC не равны."
   ]
  },
  {
   "cell_type": "code",
   "execution_count": 41,
   "metadata": {},
   "outputs": [
    {
     "data": {
      "text/plain": [
       "2.901154315133451"
      ]
     },
     "execution_count": 41,
     "metadata": {},
     "output_type": "execute_result"
    }
   ],
   "source": [
    "data_actual[(data_actual.platform == 'PC') & (data_actual.user_score != -1)]['user_score'].var()"
   ]
  },
  {
   "cell_type": "code",
   "execution_count": 42,
   "metadata": {},
   "outputs": [
    {
     "data": {
      "text/plain": [
       "1.8910066518847013"
      ]
     },
     "execution_count": 42,
     "metadata": {},
     "output_type": "execute_result"
    }
   ],
   "source": [
    "data_actual[(data_actual.platform == 'XOne') & (data_actual.user_score != -1)]['user_score'].var()"
   ]
  },
  {
   "cell_type": "markdown",
   "metadata": {},
   "source": [
    "Дисперсии различаются достаточно сильно, укажем equal_var = False"
   ]
  },
  {
   "cell_type": "code",
   "execution_count": 43,
   "metadata": {},
   "outputs": [],
   "source": [
    "res1 = st.ttest_ind(\n",
    "    data_actual[(data_actual.platform == 'PC') & (data_actual.user_score != -1)]['user_score'], \n",
    "    data_actual[(data_actual.platform == 'XOne') & (data_actual.user_score != -1)]['user_score'], equal_var=False\n",
    ")"
   ]
  },
  {
   "cell_type": "code",
   "execution_count": 44,
   "metadata": {},
   "outputs": [
    {
     "name": "stdout",
     "output_type": "stream",
     "text": [
      "pvalue: 0.11601398086668827\n",
      "Не получилось отвергнуть нулевую гипотезу\n"
     ]
    }
   ],
   "source": [
    "print(f'pvalue: {res1.pvalue}')\n",
    "if res1.pvalue < alpha:\n",
    "    print(\"Отвергаем нулевую гипотезу\")\n",
    "else:\n",
    "    print(\"Не получилось отвергнуть нулевую гипотезу\")"
   ]
  },
  {
   "cell_type": "markdown",
   "metadata": {},
   "source": [
    "### Средние пользовательские рейтинги жанров Action и Sports разные."
   ]
  },
  {
   "cell_type": "markdown",
   "metadata": {},
   "source": [
    "Н0 - средние пользовательские рейтинги жанров Action и Sports равны.  \n",
    "Н1 - средние пользовательские рейтинги жанров Action и Sports не равны."
   ]
  },
  {
   "cell_type": "code",
   "execution_count": 45,
   "metadata": {},
   "outputs": [
    {
     "data": {
      "text/plain": [
       "1.8450642355302778"
      ]
     },
     "execution_count": 45,
     "metadata": {},
     "output_type": "execute_result"
    }
   ],
   "source": [
    "data_actual[(data_actual.genre == 'Action') & (data_actual.user_score != -1)]['user_score'].var()"
   ]
  },
  {
   "cell_type": "code",
   "execution_count": 46,
   "metadata": {},
   "outputs": [
    {
     "data": {
      "text/plain": [
       "2.640450068399453"
      ]
     },
     "execution_count": 46,
     "metadata": {},
     "output_type": "execute_result"
    }
   ],
   "source": [
    "data_actual[(data_actual.genre == 'Sports') & (data_actual.user_score != -1)]['user_score'].var()"
   ]
  },
  {
   "cell_type": "code",
   "execution_count": 47,
   "metadata": {},
   "outputs": [],
   "source": [
    "res2 = st.ttest_ind(\n",
    "    data_actual[(data_actual.genre == 'Action') & (data_actual.user_score != -1)]['user_score'], \n",
    "    data_actual[(data_actual.genre == 'Sports') & (data_actual.user_score != -1)]['user_score'], equal_var=False)"
   ]
  },
  {
   "cell_type": "code",
   "execution_count": 48,
   "metadata": {},
   "outputs": [
    {
     "name": "stdout",
     "output_type": "stream",
     "text": [
      "pvalue: 1.1664151897936176e-08\n",
      "Отвергаем нулевую гипотезу\n"
     ]
    }
   ],
   "source": [
    "print(f'pvalue: {res2.pvalue}')\n",
    "if res2.pvalue < alpha:\n",
    "    print(\"Отвергаем нулевую гипотезу\")\n",
    "else:\n",
    "    print(\"Не получилось отвергнуть нулевую гипотезу\")"
   ]
  },
  {
   "cell_type": "markdown",
   "metadata": {},
   "source": [
    "## Вывод"
   ]
  },
  {
   "cell_type": "markdown",
   "metadata": {},
   "source": [
    "Актуальные платформы:\n",
    "- стационарные консоли PlayStation 4, Xbox ONE, WiiU;\n",
    "- портативные консоли 3DS и PSV;\n",
    "- PC.  \n",
    "\n",
    "Жизненный цикл платформы - 10 лет. При этом прибыльность сильно падает в последние 3 года.\n",
    "\n",
    "В ходе анализа данных за 2014-2016 гг. по актуальным платформам были сделаны следующие выводы в соответсвии с регоном:\n",
    "- **Северная Америка и Европа**  \n",
    "Наиболее прибыльны игры для стационарных консолей последних поколений, а именно PlayStation 4, Xbox ONE и WiiU.\n",
    "Эти платформы показывают хорушю прибыль втечении 3 лет.  \n",
    "Наиболее востребованные жанры - Action, Shooter, RPG и Sports. Более 75% пользователей предпочитают эти жанры.  \n",
    "Лучше продаются игры для взрослых (рейтинг M).\n",
    "  \n",
    "- **Япония**\n",
    "72% выручки приносят игры для портативных консолей. \n",
    "Также некоторые пользователи отдают предпочтние PlayStation 4 и WiiU. Доля остальных платформ очень мала.  \n",
    "Наибольшую прибыль приносят игры жанров Action и RPG.  \n",
    "Лучше продаются игры для подростков (рейтинг T).\n",
    "  \n",
    "Средние пользовательские рейтинги платформ Xbox One и PC близки.  \n",
    "Средние пользовательские рейтинги жанров Action и Sports не равны."
   ]
  }
 ],
 "metadata": {
  "ExecuteTimeLog": [
   {
    "duration": 1598,
    "start_time": "2022-04-14T06:46:18.966Z"
   },
   {
    "duration": 111,
    "start_time": "2022-04-14T06:46:25.883Z"
   },
   {
    "duration": 25,
    "start_time": "2022-04-14T06:46:46.514Z"
   },
   {
    "duration": 15,
    "start_time": "2022-04-14T06:46:52.843Z"
   },
   {
    "duration": 30,
    "start_time": "2022-04-14T06:47:02.363Z"
   },
   {
    "duration": 4,
    "start_time": "2022-04-14T06:47:19.595Z"
   },
   {
    "duration": 23,
    "start_time": "2022-04-14T06:47:25.637Z"
   },
   {
    "duration": 7,
    "start_time": "2022-04-14T06:47:32.498Z"
   },
   {
    "duration": 23,
    "start_time": "2022-04-14T06:47:48.307Z"
   },
   {
    "duration": 9,
    "start_time": "2022-04-14T06:48:06.826Z"
   },
   {
    "duration": 139,
    "start_time": "2022-04-14T06:48:19.690Z"
   },
   {
    "duration": 10,
    "start_time": "2022-04-14T06:48:39.562Z"
   },
   {
    "duration": 12,
    "start_time": "2022-04-14T06:48:46.122Z"
   },
   {
    "duration": 4,
    "start_time": "2022-04-14T06:48:54.714Z"
   },
   {
    "duration": 16508,
    "start_time": "2022-04-14T06:49:02.795Z"
   },
   {
    "duration": 8,
    "start_time": "2022-04-14T06:49:33.122Z"
   },
   {
    "duration": 9,
    "start_time": "2022-04-14T06:49:41.147Z"
   },
   {
    "duration": 7,
    "start_time": "2022-04-14T06:50:03.282Z"
   },
   {
    "duration": 24,
    "start_time": "2022-04-14T06:50:12.387Z"
   },
   {
    "duration": 637,
    "start_time": "2022-04-14T06:50:53.067Z"
   },
   {
    "duration": 605,
    "start_time": "2022-04-14T06:51:18.052Z"
   },
   {
    "duration": 1904,
    "start_time": "2022-04-14T06:53:57.081Z"
   },
   {
    "duration": 6,
    "start_time": "2022-04-14T06:54:15.265Z"
   },
   {
    "duration": 17,
    "start_time": "2022-04-14T06:54:24.321Z"
   },
   {
    "duration": 180,
    "start_time": "2022-04-14T06:55:04.217Z"
   },
   {
    "duration": 321,
    "start_time": "2022-04-14T06:55:17.361Z"
   },
   {
    "duration": 8,
    "start_time": "2022-04-14T06:55:39.352Z"
   },
   {
    "duration": 536,
    "start_time": "2022-04-14T06:55:48.417Z"
   },
   {
    "duration": 485,
    "start_time": "2022-04-14T06:56:06.665Z"
   },
   {
    "duration": 9,
    "start_time": "2022-04-14T06:57:08.130Z"
   },
   {
    "duration": 9,
    "start_time": "2022-04-14T06:57:14.993Z"
   },
   {
    "duration": 8,
    "start_time": "2022-04-14T06:57:24.347Z"
   },
   {
    "duration": 1837,
    "start_time": "2022-04-14T12:53:58.489Z"
   },
   {
    "duration": 105,
    "start_time": "2022-04-14T12:54:00.329Z"
   },
   {
    "duration": 37,
    "start_time": "2022-04-14T12:54:00.437Z"
   },
   {
    "duration": 30,
    "start_time": "2022-04-14T12:54:00.476Z"
   },
   {
    "duration": 43,
    "start_time": "2022-04-14T12:54:00.509Z"
   },
   {
    "duration": 5,
    "start_time": "2022-04-14T12:54:00.554Z"
   },
   {
    "duration": 38,
    "start_time": "2022-04-14T12:54:00.586Z"
   },
   {
    "duration": 11,
    "start_time": "2022-04-14T12:54:00.626Z"
   },
   {
    "duration": 71,
    "start_time": "2022-04-14T12:54:00.639Z"
   },
   {
    "duration": 12,
    "start_time": "2022-04-14T12:54:00.713Z"
   },
   {
    "duration": 27,
    "start_time": "2022-04-14T12:54:00.727Z"
   },
   {
    "duration": 36,
    "start_time": "2022-04-14T12:54:00.756Z"
   },
   {
    "duration": 4,
    "start_time": "2022-04-14T12:54:00.794Z"
   },
   {
    "duration": 20799,
    "start_time": "2022-04-14T12:54:00.802Z"
   },
   {
    "duration": 9,
    "start_time": "2022-04-14T12:54:21.603Z"
   },
   {
    "duration": 12,
    "start_time": "2022-04-14T12:54:21.614Z"
   },
   {
    "duration": 7,
    "start_time": "2022-04-14T12:54:21.629Z"
   },
   {
    "duration": 49,
    "start_time": "2022-04-14T12:54:21.639Z"
   },
   {
    "duration": 624,
    "start_time": "2022-04-14T12:54:21.691Z"
   },
   {
    "duration": 2630,
    "start_time": "2022-04-14T12:54:22.318Z"
   },
   {
    "duration": 7,
    "start_time": "2022-04-14T12:54:24.950Z"
   },
   {
    "duration": 39,
    "start_time": "2022-04-14T12:54:24.959Z"
   },
   {
    "duration": 546,
    "start_time": "2022-04-14T12:54:25.000Z"
   },
   {
    "duration": 10,
    "start_time": "2022-04-14T12:54:25.549Z"
   },
   {
    "duration": 571,
    "start_time": "2022-04-14T12:54:25.561Z"
   },
   {
    "duration": 10,
    "start_time": "2022-04-14T12:54:26.135Z"
   },
   {
    "duration": 9,
    "start_time": "2022-04-14T12:54:26.147Z"
   },
   {
    "duration": 8,
    "start_time": "2022-04-14T12:54:26.182Z"
   },
   {
    "duration": 132,
    "start_time": "2022-04-14T14:25:12.134Z"
   },
   {
    "duration": 961,
    "start_time": "2022-04-14T14:26:12.621Z"
   },
   {
    "duration": 2849,
    "start_time": "2022-04-14T14:26:18.628Z"
   },
   {
    "duration": 2642,
    "start_time": "2022-04-14T14:27:28.275Z"
   },
   {
    "duration": 3296,
    "start_time": "2022-04-14T14:27:45.732Z"
   },
   {
    "duration": 6,
    "start_time": "2022-04-14T14:28:33.995Z"
   },
   {
    "duration": 24,
    "start_time": "2022-04-14T14:28:34.410Z"
   },
   {
    "duration": 458,
    "start_time": "2022-04-14T14:28:36.323Z"
   },
   {
    "duration": 562,
    "start_time": "2022-04-14T14:52:11.805Z"
   },
   {
    "duration": 1955,
    "start_time": "2022-04-14T14:53:15.398Z"
   },
   {
    "duration": 121,
    "start_time": "2022-04-14T14:56:02.195Z"
   },
   {
    "duration": 21,
    "start_time": "2022-04-14T14:56:06.595Z"
   },
   {
    "duration": 185,
    "start_time": "2022-04-14T14:56:18.018Z"
   },
   {
    "duration": 246,
    "start_time": "2022-04-14T14:56:26.075Z"
   },
   {
    "duration": 1677,
    "start_time": "2022-04-14T14:56:52.819Z"
   },
   {
    "duration": 1280,
    "start_time": "2022-04-14T14:56:59.915Z"
   },
   {
    "duration": 434,
    "start_time": "2022-04-14T14:57:13.427Z"
   },
   {
    "duration": 99,
    "start_time": "2022-04-14T14:58:55.562Z"
   },
   {
    "duration": 98,
    "start_time": "2022-04-14T14:59:08.426Z"
   },
   {
    "duration": 103,
    "start_time": "2022-04-14T14:59:25.026Z"
   },
   {
    "duration": 229,
    "start_time": "2022-04-14T14:59:38.706Z"
   },
   {
    "duration": 2437,
    "start_time": "2022-04-14T15:00:59.562Z"
   },
   {
    "duration": 439,
    "start_time": "2022-04-14T15:02:27.249Z"
   },
   {
    "duration": 847,
    "start_time": "2022-04-14T15:03:04.485Z"
   },
   {
    "duration": 1649,
    "start_time": "2022-04-15T07:17:46.689Z"
   },
   {
    "duration": 93,
    "start_time": "2022-04-15T07:17:48.341Z"
   },
   {
    "duration": 36,
    "start_time": "2022-04-15T07:17:48.437Z"
   },
   {
    "duration": 22,
    "start_time": "2022-04-15T07:17:48.477Z"
   },
   {
    "duration": 38,
    "start_time": "2022-04-15T07:17:48.502Z"
   },
   {
    "duration": 5,
    "start_time": "2022-04-15T07:17:48.543Z"
   },
   {
    "duration": 31,
    "start_time": "2022-04-15T07:17:48.581Z"
   },
   {
    "duration": 16,
    "start_time": "2022-04-15T07:17:48.615Z"
   },
   {
    "duration": 54,
    "start_time": "2022-04-15T07:17:48.634Z"
   },
   {
    "duration": 11,
    "start_time": "2022-04-15T07:17:48.694Z"
   },
   {
    "duration": 11,
    "start_time": "2022-04-15T07:17:48.707Z"
   },
   {
    "duration": 11,
    "start_time": "2022-04-15T07:17:48.721Z"
   },
   {
    "duration": 4,
    "start_time": "2022-04-15T07:17:48.734Z"
   },
   {
    "duration": 19927,
    "start_time": "2022-04-15T07:17:48.740Z"
   },
   {
    "duration": 12,
    "start_time": "2022-04-15T07:18:08.669Z"
   },
   {
    "duration": 16,
    "start_time": "2022-04-15T07:18:08.684Z"
   },
   {
    "duration": 7,
    "start_time": "2022-04-15T07:18:08.703Z"
   },
   {
    "duration": 22,
    "start_time": "2022-04-15T07:18:08.712Z"
   },
   {
    "duration": 682,
    "start_time": "2022-04-15T07:18:08.736Z"
   },
   {
    "duration": 1798,
    "start_time": "2022-04-15T07:18:09.420Z"
   },
   {
    "duration": 1375,
    "start_time": "2022-04-15T07:18:11.221Z"
   },
   {
    "duration": 7,
    "start_time": "2022-04-15T07:18:12.598Z"
   },
   {
    "duration": 333,
    "start_time": "2022-04-15T07:18:12.607Z"
   },
   {
    "duration": 2463,
    "start_time": "2022-04-15T07:18:12.943Z"
   },
   {
    "duration": 22,
    "start_time": "2022-04-15T07:18:15.409Z"
   },
   {
    "duration": 10,
    "start_time": "2022-04-15T07:18:15.434Z"
   },
   {
    "duration": 598,
    "start_time": "2022-04-15T07:18:15.447Z"
   },
   {
    "duration": 9,
    "start_time": "2022-04-15T07:18:16.050Z"
   },
   {
    "duration": 8,
    "start_time": "2022-04-15T07:18:16.081Z"
   },
   {
    "duration": 7,
    "start_time": "2022-04-15T07:18:16.092Z"
   },
   {
    "duration": 10,
    "start_time": "2022-04-15T07:21:42.797Z"
   },
   {
    "duration": 143,
    "start_time": "2022-04-15T07:24:30.518Z"
   },
   {
    "duration": 6,
    "start_time": "2022-04-15T07:28:30.718Z"
   },
   {
    "duration": 35,
    "start_time": "2022-04-15T07:29:10.901Z"
   },
   {
    "duration": 18,
    "start_time": "2022-04-15T07:29:13.646Z"
   },
   {
    "duration": 9,
    "start_time": "2022-04-15T07:29:24.548Z"
   },
   {
    "duration": 5,
    "start_time": "2022-04-15T07:29:25.221Z"
   },
   {
    "duration": 12,
    "start_time": "2022-04-15T07:29:27.493Z"
   },
   {
    "duration": 569,
    "start_time": "2022-04-15T07:30:13.036Z"
   },
   {
    "duration": 363,
    "start_time": "2022-04-15T07:34:33.443Z"
   },
   {
    "duration": 420,
    "start_time": "2022-04-15T07:34:43.131Z"
   },
   {
    "duration": 1292,
    "start_time": "2022-04-15T07:35:08.364Z"
   },
   {
    "duration": 252,
    "start_time": "2022-04-15T07:37:20.611Z"
   },
   {
    "duration": 264,
    "start_time": "2022-04-15T07:37:33.763Z"
   },
   {
    "duration": 6,
    "start_time": "2022-04-15T07:37:39.170Z"
   },
   {
    "duration": 259,
    "start_time": "2022-04-15T07:37:39.587Z"
   },
   {
    "duration": 254,
    "start_time": "2022-04-15T07:37:45.690Z"
   },
   {
    "duration": 417,
    "start_time": "2022-04-15T07:37:49.811Z"
   },
   {
    "duration": 351,
    "start_time": "2022-04-15T07:38:09.226Z"
   },
   {
    "duration": 470,
    "start_time": "2022-04-15T07:38:16.051Z"
   },
   {
    "duration": 311,
    "start_time": "2022-04-15T07:38:25.499Z"
   },
   {
    "duration": 446,
    "start_time": "2022-04-15T07:38:35.874Z"
   },
   {
    "duration": 313,
    "start_time": "2022-04-15T07:38:43.994Z"
   },
   {
    "duration": 406,
    "start_time": "2022-04-15T07:40:39.538Z"
   },
   {
    "duration": 45,
    "start_time": "2022-04-15T07:43:07.233Z"
   },
   {
    "duration": 7,
    "start_time": "2022-04-15T07:43:18.955Z"
   },
   {
    "duration": 4068,
    "start_time": "2022-04-15T07:44:20.066Z"
   },
   {
    "duration": 670,
    "start_time": "2022-04-15T07:44:49.346Z"
   },
   {
    "duration": 230,
    "start_time": "2022-04-15T07:46:10.585Z"
   },
   {
    "duration": 414,
    "start_time": "2022-04-15T07:46:28.241Z"
   },
   {
    "duration": 278,
    "start_time": "2022-04-15T07:46:51.354Z"
   },
   {
    "duration": 94,
    "start_time": "2022-04-15T07:47:19.033Z"
   },
   {
    "duration": 12,
    "start_time": "2022-04-15T07:47:26.954Z"
   },
   {
    "duration": 4,
    "start_time": "2022-04-15T07:47:35.977Z"
   },
   {
    "duration": 31,
    "start_time": "2022-04-15T07:47:36.447Z"
   },
   {
    "duration": 12,
    "start_time": "2022-04-15T07:48:39.264Z"
   },
   {
    "duration": 219,
    "start_time": "2022-04-15T07:48:52.465Z"
   },
   {
    "duration": 6,
    "start_time": "2022-04-15T07:49:01.706Z"
   },
   {
    "duration": 1781,
    "start_time": "2022-04-15T07:49:06.512Z"
   },
   {
    "duration": 6,
    "start_time": "2022-04-15T07:49:24.370Z"
   },
   {
    "duration": 1946,
    "start_time": "2022-04-15T07:49:32.194Z"
   },
   {
    "duration": 6,
    "start_time": "2022-04-15T07:49:49.625Z"
   },
   {
    "duration": 210,
    "start_time": "2022-04-15T07:49:55.361Z"
   },
   {
    "duration": 7,
    "start_time": "2022-04-15T07:50:25.553Z"
   },
   {
    "duration": 10,
    "start_time": "2022-04-15T07:50:27.000Z"
   },
   {
    "duration": 6,
    "start_time": "2022-04-15T07:50:28.824Z"
   },
   {
    "duration": 6,
    "start_time": "2022-04-15T07:50:36.977Z"
   },
   {
    "duration": 208,
    "start_time": "2022-04-15T07:50:42.896Z"
   },
   {
    "duration": 12,
    "start_time": "2022-04-15T07:51:58.904Z"
   },
   {
    "duration": 11,
    "start_time": "2022-04-15T07:52:01.377Z"
   },
   {
    "duration": 17,
    "start_time": "2022-04-15T07:52:02.681Z"
   },
   {
    "duration": 21718,
    "start_time": "2022-04-15T07:52:05.808Z"
   },
   {
    "duration": 9,
    "start_time": "2022-04-15T07:52:27.529Z"
   },
   {
    "duration": 12,
    "start_time": "2022-04-15T07:52:31.344Z"
   },
   {
    "duration": 6,
    "start_time": "2022-04-15T07:52:40.097Z"
   },
   {
    "duration": 309,
    "start_time": "2022-04-15T07:52:44.696Z"
   },
   {
    "duration": 253,
    "start_time": "2022-04-15T07:53:11.400Z"
   },
   {
    "duration": 219,
    "start_time": "2022-04-15T07:53:22.400Z"
   },
   {
    "duration": 8,
    "start_time": "2022-04-15T07:55:53.904Z"
   },
   {
    "duration": 7,
    "start_time": "2022-04-15T07:56:11.839Z"
   },
   {
    "duration": 6,
    "start_time": "2022-04-15T07:56:22.383Z"
   },
   {
    "duration": 107,
    "start_time": "2022-04-15T07:56:36.527Z"
   },
   {
    "duration": 5,
    "start_time": "2022-04-15T07:56:40.544Z"
   },
   {
    "duration": 31,
    "start_time": "2022-04-15T07:56:40.886Z"
   },
   {
    "duration": 32,
    "start_time": "2022-04-15T07:56:43.455Z"
   },
   {
    "duration": 11,
    "start_time": "2022-04-15T07:56:47.863Z"
   },
   {
    "duration": 9,
    "start_time": "2022-04-15T07:56:49.606Z"
   },
   {
    "duration": 10,
    "start_time": "2022-04-15T07:56:52.631Z"
   },
   {
    "duration": 5,
    "start_time": "2022-04-15T07:56:53.799Z"
   },
   {
    "duration": 13,
    "start_time": "2022-04-15T07:56:55.302Z"
   },
   {
    "duration": 10,
    "start_time": "2022-04-15T07:56:57.239Z"
   },
   {
    "duration": 4,
    "start_time": "2022-04-15T07:56:57.550Z"
   },
   {
    "duration": 8,
    "start_time": "2022-04-15T07:57:13.071Z"
   },
   {
    "duration": 20860,
    "start_time": "2022-04-15T07:57:22.335Z"
   },
   {
    "duration": 12,
    "start_time": "2022-04-15T07:57:54.480Z"
   },
   {
    "duration": 7,
    "start_time": "2022-04-15T07:57:56.807Z"
   },
   {
    "duration": 9,
    "start_time": "2022-04-15T07:58:10.151Z"
   },
   {
    "duration": 7,
    "start_time": "2022-04-15T07:58:13.136Z"
   },
   {
    "duration": 233,
    "start_time": "2022-04-15T07:58:34.479Z"
   },
   {
    "duration": 1471,
    "start_time": "2022-04-15T07:59:02.432Z"
   },
   {
    "duration": 103,
    "start_time": "2022-04-15T07:59:03.909Z"
   },
   {
    "duration": 51,
    "start_time": "2022-04-15T07:59:06.577Z"
   },
   {
    "duration": 20,
    "start_time": "2022-04-15T07:59:08.313Z"
   },
   {
    "duration": 39,
    "start_time": "2022-04-15T07:59:08.730Z"
   },
   {
    "duration": 4,
    "start_time": "2022-04-15T07:59:24.625Z"
   },
   {
    "duration": 31,
    "start_time": "2022-04-15T07:59:24.803Z"
   },
   {
    "duration": 31,
    "start_time": "2022-04-15T07:59:26.689Z"
   },
   {
    "duration": 11,
    "start_time": "2022-04-15T07:59:29.921Z"
   },
   {
    "duration": 8,
    "start_time": "2022-04-15T07:59:32.801Z"
   },
   {
    "duration": 14,
    "start_time": "2022-04-15T07:59:33.321Z"
   },
   {
    "duration": 6,
    "start_time": "2022-04-15T07:59:33.689Z"
   },
   {
    "duration": 12,
    "start_time": "2022-04-15T07:59:35.009Z"
   },
   {
    "duration": 10,
    "start_time": "2022-04-15T07:59:37.657Z"
   },
   {
    "duration": 6,
    "start_time": "2022-04-15T08:02:37.737Z"
   },
   {
    "duration": 5,
    "start_time": "2022-04-15T08:03:17.681Z"
   },
   {
    "duration": 4,
    "start_time": "2022-04-15T08:04:55.713Z"
   },
   {
    "duration": 6,
    "start_time": "2022-04-15T08:05:18.945Z"
   },
   {
    "duration": 92,
    "start_time": "2022-04-15T08:05:23.880Z"
   },
   {
    "duration": 29,
    "start_time": "2022-04-15T08:05:24.952Z"
   },
   {
    "duration": 20,
    "start_time": "2022-04-15T08:05:25.135Z"
   },
   {
    "duration": 39,
    "start_time": "2022-04-15T08:05:25.296Z"
   },
   {
    "duration": 4,
    "start_time": "2022-04-15T08:05:25.912Z"
   },
   {
    "duration": 32,
    "start_time": "2022-04-15T08:05:27.592Z"
   },
   {
    "duration": 34,
    "start_time": "2022-04-15T08:05:28.929Z"
   },
   {
    "duration": 12,
    "start_time": "2022-04-15T08:05:29.547Z"
   },
   {
    "duration": 9,
    "start_time": "2022-04-15T08:05:29.896Z"
   },
   {
    "duration": 9,
    "start_time": "2022-04-15T08:05:30.257Z"
   },
   {
    "duration": 6,
    "start_time": "2022-04-15T08:05:30.593Z"
   },
   {
    "duration": 13,
    "start_time": "2022-04-15T08:05:33.584Z"
   },
   {
    "duration": 11,
    "start_time": "2022-04-15T08:05:33.849Z"
   },
   {
    "duration": 4,
    "start_time": "2022-04-15T08:05:34.160Z"
   },
   {
    "duration": 6,
    "start_time": "2022-04-15T08:05:34.496Z"
   },
   {
    "duration": 6,
    "start_time": "2022-04-15T08:05:35.048Z"
   },
   {
    "duration": 7,
    "start_time": "2022-04-15T08:05:44.488Z"
   },
   {
    "duration": 22,
    "start_time": "2022-04-15T08:05:44.673Z"
   },
   {
    "duration": 649,
    "start_time": "2022-04-15T08:05:47.552Z"
   },
   {
    "duration": 618,
    "start_time": "2022-04-15T08:05:52.864Z"
   },
   {
    "duration": 1239,
    "start_time": "2022-04-15T08:05:55.529Z"
   },
   {
    "duration": 6,
    "start_time": "2022-04-15T08:06:12.481Z"
   },
   {
    "duration": 301,
    "start_time": "2022-04-15T08:06:13.049Z"
   },
   {
    "duration": 2400,
    "start_time": "2022-04-15T08:06:14.953Z"
   },
   {
    "duration": 21,
    "start_time": "2022-04-15T08:06:29.033Z"
   },
   {
    "duration": 10,
    "start_time": "2022-04-15T08:06:29.706Z"
   },
   {
    "duration": 410,
    "start_time": "2022-04-15T08:06:31.537Z"
   },
   {
    "duration": 208,
    "start_time": "2022-04-15T08:06:34.177Z"
   },
   {
    "duration": 254,
    "start_time": "2022-04-15T08:07:22.321Z"
   },
   {
    "duration": 408,
    "start_time": "2022-04-15T08:07:41.954Z"
   },
   {
    "duration": 225,
    "start_time": "2022-04-15T08:08:07.536Z"
   },
   {
    "duration": 245,
    "start_time": "2022-04-15T08:08:13.647Z"
   },
   {
    "duration": 726,
    "start_time": "2022-04-15T08:08:27.769Z"
   },
   {
    "duration": 5,
    "start_time": "2022-04-15T08:08:41.515Z"
   },
   {
    "duration": 94,
    "start_time": "2022-04-15T08:08:41.523Z"
   },
   {
    "duration": 33,
    "start_time": "2022-04-15T08:08:41.619Z"
   },
   {
    "duration": 40,
    "start_time": "2022-04-15T08:08:41.655Z"
   },
   {
    "duration": 41,
    "start_time": "2022-04-15T08:08:41.699Z"
   },
   {
    "duration": 6,
    "start_time": "2022-04-15T08:08:41.742Z"
   },
   {
    "duration": 60,
    "start_time": "2022-04-15T08:08:41.750Z"
   },
   {
    "duration": 34,
    "start_time": "2022-04-15T08:08:41.812Z"
   },
   {
    "duration": 35,
    "start_time": "2022-04-15T08:08:41.849Z"
   },
   {
    "duration": 10,
    "start_time": "2022-04-15T08:08:41.887Z"
   },
   {
    "duration": 11,
    "start_time": "2022-04-15T08:08:41.899Z"
   },
   {
    "duration": 6,
    "start_time": "2022-04-15T08:08:41.913Z"
   },
   {
    "duration": 61,
    "start_time": "2022-04-15T08:08:41.922Z"
   },
   {
    "duration": 13,
    "start_time": "2022-04-15T08:08:41.990Z"
   },
   {
    "duration": 5,
    "start_time": "2022-04-15T08:08:42.006Z"
   },
   {
    "duration": 11,
    "start_time": "2022-04-15T08:08:42.014Z"
   },
   {
    "duration": 10,
    "start_time": "2022-04-15T08:08:42.027Z"
   },
   {
    "duration": 8,
    "start_time": "2022-04-15T08:08:42.039Z"
   },
   {
    "duration": 23,
    "start_time": "2022-04-15T08:08:42.080Z"
   },
   {
    "duration": 1001,
    "start_time": "2022-04-15T08:08:42.106Z"
   },
   {
    "duration": 453,
    "start_time": "2022-04-15T08:08:43.109Z"
   },
   {
    "duration": 1329,
    "start_time": "2022-04-15T08:08:43.564Z"
   },
   {
    "duration": 8,
    "start_time": "2022-04-15T08:08:44.895Z"
   },
   {
    "duration": 319,
    "start_time": "2022-04-15T08:08:44.906Z"
   },
   {
    "duration": 2555,
    "start_time": "2022-04-15T08:08:45.227Z"
   },
   {
    "duration": 21,
    "start_time": "2022-04-15T08:08:47.785Z"
   },
   {
    "duration": 11,
    "start_time": "2022-04-15T08:08:47.809Z"
   },
   {
    "duration": 474,
    "start_time": "2022-04-15T08:08:47.822Z"
   },
   {
    "duration": 483,
    "start_time": "2022-04-15T08:08:48.298Z"
   },
   {
    "duration": 10,
    "start_time": "2022-04-15T08:08:48.784Z"
   },
   {
    "duration": 10,
    "start_time": "2022-04-15T08:08:48.796Z"
   },
   {
    "duration": 7,
    "start_time": "2022-04-15T08:08:48.808Z"
   },
   {
    "duration": 423,
    "start_time": "2022-04-15T08:10:09.072Z"
   },
   {
    "duration": 402,
    "start_time": "2022-04-15T08:10:52.736Z"
   },
   {
    "duration": 14,
    "start_time": "2022-04-15T08:12:01.767Z"
   },
   {
    "duration": 7,
    "start_time": "2022-04-15T08:13:11.712Z"
   },
   {
    "duration": 4,
    "start_time": "2022-04-15T08:14:06.874Z"
   },
   {
    "duration": 99,
    "start_time": "2022-04-15T08:14:06.881Z"
   },
   {
    "duration": 32,
    "start_time": "2022-04-15T08:14:06.983Z"
   },
   {
    "duration": 24,
    "start_time": "2022-04-15T08:14:07.018Z"
   },
   {
    "duration": 67,
    "start_time": "2022-04-15T08:14:07.046Z"
   },
   {
    "duration": 4,
    "start_time": "2022-04-15T08:14:07.116Z"
   },
   {
    "duration": 30,
    "start_time": "2022-04-15T08:14:07.123Z"
   },
   {
    "duration": 60,
    "start_time": "2022-04-15T08:14:07.156Z"
   },
   {
    "duration": 11,
    "start_time": "2022-04-15T08:14:07.218Z"
   },
   {
    "duration": 11,
    "start_time": "2022-04-15T08:14:07.231Z"
   },
   {
    "duration": 38,
    "start_time": "2022-04-15T08:14:07.244Z"
   },
   {
    "duration": 9,
    "start_time": "2022-04-15T08:14:07.284Z"
   },
   {
    "duration": 15,
    "start_time": "2022-04-15T08:14:07.295Z"
   },
   {
    "duration": 9,
    "start_time": "2022-04-15T08:14:07.315Z"
   },
   {
    "duration": 6,
    "start_time": "2022-04-15T08:14:07.326Z"
   },
   {
    "duration": 8,
    "start_time": "2022-04-15T08:14:07.334Z"
   },
   {
    "duration": 42,
    "start_time": "2022-04-15T08:14:07.344Z"
   },
   {
    "duration": 8,
    "start_time": "2022-04-15T08:14:07.389Z"
   },
   {
    "duration": 7,
    "start_time": "2022-04-15T08:14:07.399Z"
   },
   {
    "duration": 31,
    "start_time": "2022-04-15T08:14:07.409Z"
   },
   {
    "duration": 927,
    "start_time": "2022-04-15T08:14:07.443Z"
   },
   {
    "duration": 639,
    "start_time": "2022-04-15T08:14:08.373Z"
   },
   {
    "duration": 1719,
    "start_time": "2022-04-15T08:14:09.015Z"
   },
   {
    "duration": 7,
    "start_time": "2022-04-15T08:14:10.736Z"
   },
   {
    "duration": 490,
    "start_time": "2022-04-15T08:14:10.745Z"
   },
   {
    "duration": 2646,
    "start_time": "2022-04-15T08:14:11.238Z"
   },
   {
    "duration": 22,
    "start_time": "2022-04-15T08:14:13.887Z"
   },
   {
    "duration": 25,
    "start_time": "2022-04-15T08:14:13.911Z"
   },
   {
    "duration": 445,
    "start_time": "2022-04-15T08:14:13.939Z"
   },
   {
    "duration": 467,
    "start_time": "2022-04-15T08:14:14.387Z"
   },
   {
    "duration": 10,
    "start_time": "2022-04-15T08:14:14.856Z"
   },
   {
    "duration": 9,
    "start_time": "2022-04-15T08:14:14.882Z"
   },
   {
    "duration": 12,
    "start_time": "2022-04-15T08:14:14.894Z"
   },
   {
    "duration": 417,
    "start_time": "2022-04-15T08:14:28.831Z"
   },
   {
    "duration": 2150,
    "start_time": "2022-04-15T08:14:43.567Z"
   },
   {
    "duration": 422,
    "start_time": "2022-04-15T08:14:56.640Z"
   },
   {
    "duration": 460,
    "start_time": "2022-04-15T08:17:38.478Z"
   },
   {
    "duration": 460,
    "start_time": "2022-04-15T08:18:56.760Z"
   },
   {
    "duration": 447,
    "start_time": "2022-04-15T08:19:19.614Z"
   },
   {
    "duration": 395,
    "start_time": "2022-04-15T08:30:29.916Z"
   },
   {
    "duration": 402,
    "start_time": "2022-04-15T08:32:42.291Z"
   },
   {
    "duration": 747,
    "start_time": "2022-04-15T08:33:06.589Z"
   },
   {
    "duration": 327,
    "start_time": "2022-04-15T08:34:53.987Z"
   },
   {
    "duration": 14,
    "start_time": "2022-04-15T08:35:19.515Z"
   },
   {
    "duration": 8,
    "start_time": "2022-04-15T08:35:46.436Z"
   },
   {
    "duration": 5,
    "start_time": "2022-04-15T08:35:50.237Z"
   },
   {
    "duration": 112,
    "start_time": "2022-04-15T08:35:50.246Z"
   },
   {
    "duration": 42,
    "start_time": "2022-04-15T08:35:50.360Z"
   },
   {
    "duration": 24,
    "start_time": "2022-04-15T08:35:50.406Z"
   },
   {
    "duration": 68,
    "start_time": "2022-04-15T08:35:50.432Z"
   },
   {
    "duration": 5,
    "start_time": "2022-04-15T08:35:50.502Z"
   },
   {
    "duration": 30,
    "start_time": "2022-04-15T08:35:50.509Z"
   },
   {
    "duration": 61,
    "start_time": "2022-04-15T08:35:50.542Z"
   },
   {
    "duration": 13,
    "start_time": "2022-04-15T08:35:50.606Z"
   },
   {
    "duration": 8,
    "start_time": "2022-04-15T08:35:50.625Z"
   },
   {
    "duration": 47,
    "start_time": "2022-04-15T08:35:50.636Z"
   },
   {
    "duration": 7,
    "start_time": "2022-04-15T08:35:50.685Z"
   },
   {
    "duration": 12,
    "start_time": "2022-04-15T08:35:50.694Z"
   },
   {
    "duration": 6,
    "start_time": "2022-04-15T08:35:50.708Z"
   },
   {
    "duration": 22,
    "start_time": "2022-04-15T08:35:50.716Z"
   },
   {
    "duration": 5,
    "start_time": "2022-04-15T08:35:50.740Z"
   },
   {
    "duration": 37,
    "start_time": "2022-04-15T08:35:50.747Z"
   },
   {
    "duration": 7,
    "start_time": "2022-04-15T08:35:50.786Z"
   },
   {
    "duration": 8,
    "start_time": "2022-04-15T08:35:50.795Z"
   },
   {
    "duration": 8,
    "start_time": "2022-04-15T08:35:50.805Z"
   },
   {
    "duration": 21,
    "start_time": "2022-04-15T08:35:50.815Z"
   },
   {
    "duration": 631,
    "start_time": "2022-04-15T08:35:50.838Z"
   },
   {
    "duration": 432,
    "start_time": "2022-04-15T08:35:51.472Z"
   },
   {
    "duration": 1308,
    "start_time": "2022-04-15T08:35:51.906Z"
   },
   {
    "duration": 8,
    "start_time": "2022-04-15T08:35:53.217Z"
   },
   {
    "duration": 319,
    "start_time": "2022-04-15T08:35:53.227Z"
   },
   {
    "duration": 2458,
    "start_time": "2022-04-15T08:35:53.548Z"
   },
   {
    "duration": 22,
    "start_time": "2022-04-15T08:35:56.011Z"
   },
   {
    "duration": 26,
    "start_time": "2022-04-15T08:35:56.034Z"
   },
   {
    "duration": 441,
    "start_time": "2022-04-15T08:35:56.063Z"
   },
   {
    "duration": 444,
    "start_time": "2022-04-15T08:35:56.506Z"
   },
   {
    "duration": 374,
    "start_time": "2022-04-15T08:35:56.952Z"
   },
   {
    "duration": 571,
    "start_time": "2022-04-15T08:35:57.328Z"
   },
   {
    "duration": 416,
    "start_time": "2022-04-15T08:35:57.901Z"
   },
   {
    "duration": 765,
    "start_time": "2022-04-15T08:35:58.320Z"
   },
   {
    "duration": 376,
    "start_time": "2022-04-15T08:35:59.088Z"
   },
   {
    "duration": 17,
    "start_time": "2022-04-15T08:35:59.466Z"
   },
   {
    "duration": 8,
    "start_time": "2022-04-15T08:35:59.485Z"
   },
   {
    "duration": 9,
    "start_time": "2022-04-15T08:35:59.495Z"
   },
   {
    "duration": 8,
    "start_time": "2022-04-15T08:37:55.763Z"
   },
   {
    "duration": 12,
    "start_time": "2022-04-15T08:38:16.739Z"
   },
   {
    "duration": 4,
    "start_time": "2022-04-15T08:38:38.562Z"
   },
   {
    "duration": 5,
    "start_time": "2022-04-15T08:38:40.595Z"
   },
   {
    "duration": 10,
    "start_time": "2022-04-15T08:39:39.219Z"
   },
   {
    "duration": 7,
    "start_time": "2022-04-15T08:39:49.091Z"
   },
   {
    "duration": 8,
    "start_time": "2022-04-15T08:40:37.915Z"
   },
   {
    "duration": 5,
    "start_time": "2022-04-15T08:40:46.836Z"
   },
   {
    "duration": 46,
    "start_time": "2022-04-15T11:26:53.512Z"
   },
   {
    "duration": 1256,
    "start_time": "2022-04-15T11:28:55.304Z"
   },
   {
    "duration": 93,
    "start_time": "2022-04-15T11:28:56.562Z"
   },
   {
    "duration": 24,
    "start_time": "2022-04-15T11:28:56.656Z"
   },
   {
    "duration": 14,
    "start_time": "2022-04-15T11:28:56.681Z"
   },
   {
    "duration": 25,
    "start_time": "2022-04-15T11:28:56.697Z"
   },
   {
    "duration": 25,
    "start_time": "2022-04-15T11:28:56.723Z"
   },
   {
    "duration": 19,
    "start_time": "2022-04-15T11:28:56.749Z"
   },
   {
    "duration": 26,
    "start_time": "2022-04-15T11:28:56.770Z"
   },
   {
    "duration": 8,
    "start_time": "2022-04-15T11:28:56.798Z"
   },
   {
    "duration": 9,
    "start_time": "2022-04-15T11:28:56.807Z"
   },
   {
    "duration": 31,
    "start_time": "2022-04-15T11:28:56.817Z"
   },
   {
    "duration": 4,
    "start_time": "2022-04-15T11:28:56.849Z"
   },
   {
    "duration": 12,
    "start_time": "2022-04-15T11:28:56.854Z"
   },
   {
    "duration": 5,
    "start_time": "2022-04-15T11:28:56.869Z"
   },
   {
    "duration": 11,
    "start_time": "2022-04-15T11:28:56.876Z"
   },
   {
    "duration": 3,
    "start_time": "2022-04-15T11:28:56.889Z"
   },
   {
    "duration": 5,
    "start_time": "2022-04-15T11:28:56.893Z"
   },
   {
    "duration": 4,
    "start_time": "2022-04-15T11:28:56.900Z"
   },
   {
    "duration": 6,
    "start_time": "2022-04-15T11:28:56.905Z"
   },
   {
    "duration": 4,
    "start_time": "2022-04-15T11:28:56.912Z"
   },
   {
    "duration": 41,
    "start_time": "2022-04-15T11:28:56.917Z"
   },
   {
    "duration": 333,
    "start_time": "2022-04-15T11:28:56.960Z"
   },
   {
    "duration": 240,
    "start_time": "2022-04-15T11:28:57.295Z"
   },
   {
    "duration": 945,
    "start_time": "2022-04-15T11:28:57.536Z"
   },
   {
    "duration": 5,
    "start_time": "2022-04-15T11:28:58.483Z"
   },
   {
    "duration": 169,
    "start_time": "2022-04-15T11:28:58.489Z"
   },
   {
    "duration": 1491,
    "start_time": "2022-04-15T11:28:58.660Z"
   },
   {
    "duration": 14,
    "start_time": "2022-04-15T11:29:00.153Z"
   },
   {
    "duration": 12,
    "start_time": "2022-04-15T11:29:00.169Z"
   },
   {
    "duration": 248,
    "start_time": "2022-04-15T11:29:00.182Z"
   },
   {
    "duration": 249,
    "start_time": "2022-04-15T11:29:00.432Z"
   },
   {
    "duration": 195,
    "start_time": "2022-04-15T11:29:00.683Z"
   },
   {
    "duration": 267,
    "start_time": "2022-04-15T11:29:00.880Z"
   },
   {
    "duration": 224,
    "start_time": "2022-04-15T11:29:01.149Z"
   },
   {
    "duration": 235,
    "start_time": "2022-04-15T11:29:01.375Z"
   },
   {
    "duration": 288,
    "start_time": "2022-04-15T11:29:01.612Z"
   },
   {
    "duration": 3,
    "start_time": "2022-04-15T11:29:01.902Z"
   },
   {
    "duration": 14,
    "start_time": "2022-04-15T11:29:01.907Z"
   },
   {
    "duration": 8,
    "start_time": "2022-04-15T11:29:01.923Z"
   },
   {
    "duration": 15,
    "start_time": "2022-04-15T11:29:01.933Z"
   },
   {
    "duration": 3,
    "start_time": "2022-04-15T11:29:01.952Z"
   },
   {
    "duration": 16,
    "start_time": "2022-04-15T11:29:01.957Z"
   },
   {
    "duration": 12,
    "start_time": "2022-04-15T11:29:01.974Z"
   },
   {
    "duration": 11,
    "start_time": "2022-04-15T11:29:01.988Z"
   },
   {
    "duration": 4,
    "start_time": "2022-04-15T11:29:02.001Z"
   },
   {
    "duration": 5,
    "start_time": "2022-04-15T11:45:52.163Z"
   },
   {
    "duration": 176,
    "start_time": "2022-04-15T11:45:57.866Z"
   },
   {
    "duration": 450,
    "start_time": "2022-04-15T11:49:04.217Z"
   },
   {
    "duration": 2178,
    "start_time": "2022-04-15T11:51:34.936Z"
   },
   {
    "duration": 65,
    "start_time": "2022-04-15T11:52:14.170Z"
   },
   {
    "duration": 1376,
    "start_time": "2022-04-15T11:52:19.025Z"
   },
   {
    "duration": 1392,
    "start_time": "2022-04-15T11:52:49.873Z"
   },
   {
    "duration": 1364,
    "start_time": "2022-04-15T11:53:35.513Z"
   },
   {
    "duration": 226,
    "start_time": "2022-04-15T11:57:08.775Z"
   },
   {
    "duration": 535,
    "start_time": "2022-04-15T11:57:15.727Z"
   },
   {
    "duration": 217,
    "start_time": "2022-04-15T11:57:19.103Z"
   },
   {
    "duration": 218,
    "start_time": "2022-04-15T11:57:19.455Z"
   },
   {
    "duration": 190,
    "start_time": "2022-04-15T11:57:19.790Z"
   },
   {
    "duration": 3,
    "start_time": "2022-04-15T11:57:20.151Z"
   },
   {
    "duration": 5,
    "start_time": "2022-04-15T11:57:20.663Z"
   },
   {
    "duration": 5,
    "start_time": "2022-04-15T11:57:20.831Z"
   },
   {
    "duration": 5,
    "start_time": "2022-04-15T11:57:21.006Z"
   },
   {
    "duration": 3,
    "start_time": "2022-04-15T11:57:21.175Z"
   },
   {
    "duration": 6,
    "start_time": "2022-04-15T11:57:22.278Z"
   },
   {
    "duration": 5,
    "start_time": "2022-04-15T11:57:22.431Z"
   },
   {
    "duration": 6,
    "start_time": "2022-04-15T11:57:22.590Z"
   },
   {
    "duration": 4,
    "start_time": "2022-04-15T11:57:22.742Z"
   },
   {
    "duration": 9,
    "start_time": "2022-04-15T12:22:12.921Z"
   },
   {
    "duration": 7,
    "start_time": "2022-04-15T12:22:17.656Z"
   },
   {
    "duration": 7,
    "start_time": "2022-04-15T12:22:29.593Z"
   },
   {
    "duration": 7,
    "start_time": "2022-04-15T12:22:43.919Z"
   },
   {
    "duration": 13,
    "start_time": "2022-04-15T12:23:04.467Z"
   },
   {
    "duration": 7,
    "start_time": "2022-04-15T12:23:08.928Z"
   },
   {
    "duration": 7,
    "start_time": "2022-04-15T12:23:59.960Z"
   },
   {
    "duration": 1639,
    "start_time": "2022-04-24T17:21:54.399Z"
   },
   {
    "duration": 159,
    "start_time": "2022-04-24T17:21:56.041Z"
   },
   {
    "duration": 39,
    "start_time": "2022-04-24T17:21:56.202Z"
   },
   {
    "duration": 51,
    "start_time": "2022-04-24T17:21:56.244Z"
   },
   {
    "duration": 45,
    "start_time": "2022-04-24T17:21:56.298Z"
   },
   {
    "duration": 5,
    "start_time": "2022-04-24T17:21:56.345Z"
   },
   {
    "duration": 67,
    "start_time": "2022-04-24T17:21:56.352Z"
   },
   {
    "duration": 36,
    "start_time": "2022-04-24T17:21:56.421Z"
   },
   {
    "duration": 38,
    "start_time": "2022-04-24T17:21:56.459Z"
   },
   {
    "duration": 10,
    "start_time": "2022-04-24T17:21:56.504Z"
   },
   {
    "duration": 16,
    "start_time": "2022-04-24T17:21:56.518Z"
   },
   {
    "duration": 58,
    "start_time": "2022-04-24T17:21:56.538Z"
   },
   {
    "duration": 24,
    "start_time": "2022-04-24T17:21:56.600Z"
   },
   {
    "duration": 6,
    "start_time": "2022-04-24T17:21:56.629Z"
   },
   {
    "duration": 64,
    "start_time": "2022-04-24T17:21:56.639Z"
   },
   {
    "duration": 7,
    "start_time": "2022-04-24T17:21:56.707Z"
   },
   {
    "duration": 9,
    "start_time": "2022-04-24T17:21:56.719Z"
   },
   {
    "duration": 9,
    "start_time": "2022-04-24T17:21:56.733Z"
   },
   {
    "duration": 54,
    "start_time": "2022-04-24T17:21:56.747Z"
   },
   {
    "duration": 10,
    "start_time": "2022-04-24T17:21:56.806Z"
   },
   {
    "duration": 82,
    "start_time": "2022-04-24T17:21:56.820Z"
   },
   {
    "duration": 1147,
    "start_time": "2022-04-24T17:21:56.906Z"
   },
   {
    "duration": 923,
    "start_time": "2022-04-24T17:21:58.057Z"
   },
   {
    "duration": 3663,
    "start_time": "2022-04-24T17:21:58.984Z"
   },
   {
    "duration": 11,
    "start_time": "2022-04-24T17:22:02.651Z"
   },
   {
    "duration": 481,
    "start_time": "2022-04-24T17:22:02.667Z"
   },
   {
    "duration": 3720,
    "start_time": "2022-04-24T17:22:03.152Z"
   },
   {
    "duration": 33,
    "start_time": "2022-04-24T17:22:06.879Z"
   },
   {
    "duration": 15,
    "start_time": "2022-04-24T17:22:06.915Z"
   },
   {
    "duration": 61,
    "start_time": "2022-04-24T17:22:06.933Z"
   },
   {
    "duration": 704,
    "start_time": "2022-04-24T17:22:06.998Z"
   },
   {
    "duration": 4830,
    "start_time": "2022-04-24T17:22:07.706Z"
   },
   {
    "duration": 377,
    "start_time": "2022-04-24T17:22:12.539Z"
   },
   {
    "duration": 491,
    "start_time": "2022-04-24T17:22:12.919Z"
   },
   {
    "duration": 541,
    "start_time": "2022-04-24T17:22:13.412Z"
   },
   {
    "duration": 13,
    "start_time": "2022-04-24T17:22:13.955Z"
   },
   {
    "duration": 450,
    "start_time": "2022-04-24T17:22:13.971Z"
   },
   {
    "duration": 389,
    "start_time": "2022-04-24T17:22:14.425Z"
   },
   {
    "duration": 5,
    "start_time": "2022-04-24T17:22:14.817Z"
   },
   {
    "duration": 11,
    "start_time": "2022-04-24T17:22:14.824Z"
   },
   {
    "duration": 14,
    "start_time": "2022-04-24T17:22:14.839Z"
   },
   {
    "duration": 13,
    "start_time": "2022-04-24T17:22:14.895Z"
   },
   {
    "duration": 7,
    "start_time": "2022-04-24T17:22:14.911Z"
   },
   {
    "duration": 11,
    "start_time": "2022-04-24T17:22:14.920Z"
   },
   {
    "duration": 8,
    "start_time": "2022-04-24T17:22:14.936Z"
   },
   {
    "duration": 9,
    "start_time": "2022-04-24T17:22:14.994Z"
   },
   {
    "duration": 20,
    "start_time": "2022-04-24T17:22:15.006Z"
   },
   {
    "duration": 1263,
    "start_time": "2022-04-25T08:30:17.800Z"
   },
   {
    "duration": 106,
    "start_time": "2022-04-25T08:30:19.065Z"
   },
   {
    "duration": 24,
    "start_time": "2022-04-25T08:30:19.173Z"
   },
   {
    "duration": 18,
    "start_time": "2022-04-25T08:30:19.198Z"
   },
   {
    "duration": 26,
    "start_time": "2022-04-25T08:30:19.218Z"
   },
   {
    "duration": 27,
    "start_time": "2022-04-25T08:30:19.245Z"
   },
   {
    "duration": 19,
    "start_time": "2022-04-25T08:30:19.274Z"
   },
   {
    "duration": 22,
    "start_time": "2022-04-25T08:30:19.295Z"
   },
   {
    "duration": 7,
    "start_time": "2022-04-25T08:30:19.318Z"
   },
   {
    "duration": 9,
    "start_time": "2022-04-25T08:30:19.327Z"
   },
   {
    "duration": 6,
    "start_time": "2022-04-25T08:30:19.337Z"
   },
   {
    "duration": 31,
    "start_time": "2022-04-25T08:30:19.345Z"
   },
   {
    "duration": 10,
    "start_time": "2022-04-25T08:30:19.377Z"
   },
   {
    "duration": 4,
    "start_time": "2022-04-25T08:30:19.391Z"
   },
   {
    "duration": 11,
    "start_time": "2022-04-25T08:30:19.396Z"
   },
   {
    "duration": 3,
    "start_time": "2022-04-25T08:30:19.408Z"
   },
   {
    "duration": 6,
    "start_time": "2022-04-25T08:30:19.413Z"
   },
   {
    "duration": 7,
    "start_time": "2022-04-25T08:30:19.421Z"
   },
   {
    "duration": 17,
    "start_time": "2022-04-25T08:30:19.430Z"
   },
   {
    "duration": 25,
    "start_time": "2022-04-25T08:30:19.449Z"
   },
   {
    "duration": 22,
    "start_time": "2022-04-25T08:30:19.475Z"
   },
   {
    "duration": 376,
    "start_time": "2022-04-25T08:30:19.499Z"
   },
   {
    "duration": 269,
    "start_time": "2022-04-25T08:30:19.876Z"
   },
   {
    "duration": 1653,
    "start_time": "2022-04-25T08:30:20.147Z"
   },
   {
    "duration": 5,
    "start_time": "2022-04-25T08:30:21.801Z"
   },
   {
    "duration": 334,
    "start_time": "2022-04-25T08:30:21.808Z"
   },
   {
    "duration": 1669,
    "start_time": "2022-04-25T08:30:22.144Z"
   },
   {
    "duration": 13,
    "start_time": "2022-04-25T08:30:23.815Z"
   },
   {
    "duration": 9,
    "start_time": "2022-04-25T08:30:23.830Z"
   },
   {
    "duration": 4,
    "start_time": "2022-04-25T08:30:23.840Z"
   },
   {
    "duration": 235,
    "start_time": "2022-04-25T08:30:23.846Z"
   },
   {
    "duration": 1539,
    "start_time": "2022-04-25T08:30:24.083Z"
   },
   {
    "duration": 211,
    "start_time": "2022-04-25T08:30:25.623Z"
   },
   {
    "duration": 295,
    "start_time": "2022-04-25T08:30:25.836Z"
   },
   {
    "duration": 354,
    "start_time": "2022-04-25T08:30:26.133Z"
   },
   {
    "duration": 9,
    "start_time": "2022-04-25T08:30:26.489Z"
   },
   {
    "duration": 254,
    "start_time": "2022-04-25T08:30:26.500Z"
   },
   {
    "duration": 212,
    "start_time": "2022-04-25T08:30:26.755Z"
   },
   {
    "duration": 2,
    "start_time": "2022-04-25T08:30:26.968Z"
   },
   {
    "duration": 9,
    "start_time": "2022-04-25T08:30:26.972Z"
   },
   {
    "duration": 5,
    "start_time": "2022-04-25T08:30:26.985Z"
   },
   {
    "duration": 7,
    "start_time": "2022-04-25T08:30:26.991Z"
   },
   {
    "duration": 6,
    "start_time": "2022-04-25T08:30:27.000Z"
   },
   {
    "duration": 8,
    "start_time": "2022-04-25T08:30:27.008Z"
   },
   {
    "duration": 7,
    "start_time": "2022-04-25T08:30:27.017Z"
   },
   {
    "duration": 6,
    "start_time": "2022-04-25T08:30:27.025Z"
   },
   {
    "duration": 6,
    "start_time": "2022-04-25T08:30:27.032Z"
   },
   {
    "duration": 3,
    "start_time": "2022-04-25T08:42:21.473Z"
   },
   {
    "duration": 110,
    "start_time": "2022-04-25T08:42:21.621Z"
   },
   {
    "duration": 23,
    "start_time": "2022-04-25T08:42:22.979Z"
   },
   {
    "duration": 15,
    "start_time": "2022-04-25T08:42:23.071Z"
   },
   {
    "duration": 29,
    "start_time": "2022-04-25T08:42:24.091Z"
   },
   {
    "duration": 4,
    "start_time": "2022-04-25T08:42:26.841Z"
   },
   {
    "duration": 22,
    "start_time": "2022-04-25T08:42:27.819Z"
   },
   {
    "duration": 23,
    "start_time": "2022-04-25T08:42:29.099Z"
   },
   {
    "duration": 7,
    "start_time": "2022-04-25T08:42:33.628Z"
   },
   {
    "duration": 6,
    "start_time": "2022-04-25T08:42:37.831Z"
   },
   {
    "duration": 12,
    "start_time": "2022-04-25T08:43:01.571Z"
   },
   {
    "duration": 1218,
    "start_time": "2022-04-25T08:53:53.693Z"
   },
   {
    "duration": 83,
    "start_time": "2022-04-25T08:53:54.913Z"
   },
   {
    "duration": 27,
    "start_time": "2022-04-25T08:53:54.998Z"
   },
   {
    "duration": 16,
    "start_time": "2022-04-25T08:53:55.026Z"
   },
   {
    "duration": 49,
    "start_time": "2022-04-25T08:53:55.044Z"
   },
   {
    "duration": 3,
    "start_time": "2022-04-25T08:53:55.095Z"
   },
   {
    "duration": 25,
    "start_time": "2022-04-25T08:53:55.100Z"
   },
   {
    "duration": 24,
    "start_time": "2022-04-25T08:53:55.127Z"
   },
   {
    "duration": 22,
    "start_time": "2022-04-25T08:53:55.153Z"
   },
   {
    "duration": 10,
    "start_time": "2022-04-25T08:53:55.177Z"
   },
   {
    "duration": 7,
    "start_time": "2022-04-25T08:53:55.189Z"
   },
   {
    "duration": 5,
    "start_time": "2022-04-25T08:53:55.198Z"
   },
   {
    "duration": 11,
    "start_time": "2022-04-25T08:53:55.204Z"
   },
   {
    "duration": 8,
    "start_time": "2022-04-25T08:53:55.218Z"
   },
   {
    "duration": 11,
    "start_time": "2022-04-25T08:53:55.227Z"
   },
   {
    "duration": 4,
    "start_time": "2022-04-25T08:53:55.240Z"
   },
   {
    "duration": 6,
    "start_time": "2022-04-25T08:53:55.274Z"
   },
   {
    "duration": 7,
    "start_time": "2022-04-25T08:53:55.282Z"
   },
   {
    "duration": 7,
    "start_time": "2022-04-25T08:53:55.291Z"
   },
   {
    "duration": 7,
    "start_time": "2022-04-25T08:53:55.300Z"
   },
   {
    "duration": 16,
    "start_time": "2022-04-25T08:53:55.309Z"
   },
   {
    "duration": 395,
    "start_time": "2022-04-25T08:53:55.327Z"
   },
   {
    "duration": 286,
    "start_time": "2022-04-25T08:53:55.724Z"
   },
   {
    "duration": 1122,
    "start_time": "2022-04-25T08:53:56.012Z"
   },
   {
    "duration": 5,
    "start_time": "2022-04-25T08:53:57.136Z"
   },
   {
    "duration": 188,
    "start_time": "2022-04-25T08:53:57.143Z"
   },
   {
    "duration": 1676,
    "start_time": "2022-04-25T08:53:57.333Z"
   },
   {
    "duration": 15,
    "start_time": "2022-04-25T08:53:59.011Z"
   },
   {
    "duration": 9,
    "start_time": "2022-04-25T08:53:59.028Z"
   },
   {
    "duration": 5,
    "start_time": "2022-04-25T08:53:59.038Z"
   },
   {
    "duration": 236,
    "start_time": "2022-04-25T08:53:59.044Z"
   },
   {
    "duration": 1656,
    "start_time": "2022-04-25T08:53:59.282Z"
   },
   {
    "duration": 241,
    "start_time": "2022-04-25T08:54:00.940Z"
   },
   {
    "duration": 318,
    "start_time": "2022-04-25T08:54:01.183Z"
   },
   {
    "duration": 402,
    "start_time": "2022-04-25T08:54:01.503Z"
   },
   {
    "duration": 10,
    "start_time": "2022-04-25T08:54:01.907Z"
   },
   {
    "duration": 306,
    "start_time": "2022-04-25T08:54:01.918Z"
   },
   {
    "duration": 232,
    "start_time": "2022-04-25T08:54:02.226Z"
   },
   {
    "duration": 15,
    "start_time": "2022-04-25T08:54:02.459Z"
   },
   {
    "duration": 13,
    "start_time": "2022-04-25T08:54:02.476Z"
   },
   {
    "duration": 11,
    "start_time": "2022-04-25T08:54:02.493Z"
   },
   {
    "duration": 13,
    "start_time": "2022-04-25T08:54:02.506Z"
   },
   {
    "duration": 13,
    "start_time": "2022-04-25T08:54:02.521Z"
   },
   {
    "duration": 10,
    "start_time": "2022-04-25T08:54:02.535Z"
   },
   {
    "duration": 9,
    "start_time": "2022-04-25T08:54:02.547Z"
   },
   {
    "duration": 16,
    "start_time": "2022-04-25T08:54:02.557Z"
   },
   {
    "duration": 39,
    "start_time": "2022-04-25T08:54:02.575Z"
   },
   {
    "duration": 6,
    "start_time": "2022-04-25T09:23:06.822Z"
   },
   {
    "duration": 7,
    "start_time": "2022-04-25T09:23:08.165Z"
   },
   {
    "duration": 23,
    "start_time": "2022-04-25T09:23:10.285Z"
   },
   {
    "duration": 8,
    "start_time": "2022-04-25T09:23:21.485Z"
   },
   {
    "duration": 4,
    "start_time": "2022-04-25T09:23:34.639Z"
   },
   {
    "duration": 43,
    "start_time": "2022-04-25T13:04:04.174Z"
   },
   {
    "duration": 1171,
    "start_time": "2022-04-25T13:04:12.414Z"
   },
   {
    "duration": 97,
    "start_time": "2022-04-25T13:04:13.587Z"
   },
   {
    "duration": 21,
    "start_time": "2022-04-25T13:04:15.916Z"
   },
   {
    "duration": 15,
    "start_time": "2022-04-25T13:04:16.283Z"
   },
   {
    "duration": 25,
    "start_time": "2022-04-25T13:04:18.244Z"
   },
   {
    "duration": 5,
    "start_time": "2022-04-25T13:04:20.899Z"
   },
   {
    "duration": 18,
    "start_time": "2022-04-25T13:04:21.835Z"
   },
   {
    "duration": 18,
    "start_time": "2022-04-25T13:04:24.268Z"
   },
   {
    "duration": 7,
    "start_time": "2022-04-25T13:04:32.811Z"
   },
   {
    "duration": 6,
    "start_time": "2022-04-25T13:04:33.307Z"
   },
   {
    "duration": 8,
    "start_time": "2022-04-25T13:04:33.804Z"
   },
   {
    "duration": 3,
    "start_time": "2022-04-25T13:04:35.876Z"
   },
   {
    "duration": 11,
    "start_time": "2022-04-25T13:04:46.165Z"
   },
   {
    "duration": 4,
    "start_time": "2022-04-25T13:04:46.380Z"
   },
   {
    "duration": 7,
    "start_time": "2022-04-25T13:04:46.788Z"
   },
   {
    "duration": 3,
    "start_time": "2022-04-25T13:04:49.985Z"
   },
   {
    "duration": 102,
    "start_time": "2022-04-25T13:04:49.990Z"
   },
   {
    "duration": 18,
    "start_time": "2022-04-25T13:04:50.093Z"
   },
   {
    "duration": 14,
    "start_time": "2022-04-25T13:04:50.113Z"
   },
   {
    "duration": 35,
    "start_time": "2022-04-25T13:04:50.129Z"
   },
   {
    "duration": 3,
    "start_time": "2022-04-25T13:04:50.165Z"
   },
   {
    "duration": 31,
    "start_time": "2022-04-25T13:04:50.170Z"
   },
   {
    "duration": 21,
    "start_time": "2022-04-25T13:04:50.203Z"
   },
   {
    "duration": 27,
    "start_time": "2022-04-25T13:04:50.226Z"
   },
   {
    "duration": 20,
    "start_time": "2022-04-25T13:04:50.254Z"
   },
   {
    "duration": 5,
    "start_time": "2022-04-25T13:04:50.276Z"
   },
   {
    "duration": 3,
    "start_time": "2022-04-25T13:04:50.283Z"
   },
   {
    "duration": 9,
    "start_time": "2022-04-25T13:04:50.288Z"
   },
   {
    "duration": 6,
    "start_time": "2022-04-25T13:04:50.299Z"
   },
   {
    "duration": 9,
    "start_time": "2022-04-25T13:04:50.306Z"
   },
   {
    "duration": 4,
    "start_time": "2022-04-25T13:04:50.317Z"
   },
   {
    "duration": 8,
    "start_time": "2022-04-25T13:04:50.322Z"
   },
   {
    "duration": 19,
    "start_time": "2022-04-25T13:04:50.331Z"
   },
   {
    "duration": 18,
    "start_time": "2022-04-25T13:04:50.353Z"
   },
   {
    "duration": 8,
    "start_time": "2022-04-25T13:04:50.373Z"
   },
   {
    "duration": 15,
    "start_time": "2022-04-25T13:04:50.382Z"
   },
   {
    "duration": 352,
    "start_time": "2022-04-25T13:04:50.399Z"
   },
   {
    "duration": 279,
    "start_time": "2022-04-25T13:04:50.753Z"
   },
   {
    "duration": 1005,
    "start_time": "2022-04-25T13:04:51.036Z"
   },
   {
    "duration": 7,
    "start_time": "2022-04-25T13:04:52.042Z"
   },
   {
    "duration": 177,
    "start_time": "2022-04-25T13:04:52.052Z"
   },
   {
    "duration": 1833,
    "start_time": "2022-04-25T13:04:52.230Z"
   },
   {
    "duration": 13,
    "start_time": "2022-04-25T13:04:54.065Z"
   },
   {
    "duration": 14,
    "start_time": "2022-04-25T13:04:54.080Z"
   },
   {
    "duration": 5,
    "start_time": "2022-04-25T13:04:54.095Z"
   },
   {
    "duration": 204,
    "start_time": "2022-04-25T13:04:54.101Z"
   },
   {
    "duration": 1471,
    "start_time": "2022-04-25T13:04:54.306Z"
   },
   {
    "duration": 207,
    "start_time": "2022-04-25T13:04:55.779Z"
   },
   {
    "duration": 344,
    "start_time": "2022-04-25T13:04:55.987Z"
   },
   {
    "duration": 243,
    "start_time": "2022-04-25T13:04:56.332Z"
   },
   {
    "duration": 8,
    "start_time": "2022-04-25T13:04:56.577Z"
   },
   {
    "duration": 252,
    "start_time": "2022-04-25T13:04:56.586Z"
   },
   {
    "duration": 203,
    "start_time": "2022-04-25T13:04:56.839Z"
   },
   {
    "duration": 5,
    "start_time": "2022-04-25T13:04:57.044Z"
   },
   {
    "duration": 16,
    "start_time": "2022-04-25T13:04:57.053Z"
   },
   {
    "duration": 9,
    "start_time": "2022-04-25T13:04:57.071Z"
   },
   {
    "duration": 9,
    "start_time": "2022-04-25T13:04:57.081Z"
   },
   {
    "duration": 7,
    "start_time": "2022-04-25T13:04:57.091Z"
   },
   {
    "duration": 7,
    "start_time": "2022-04-25T13:04:57.099Z"
   },
   {
    "duration": 8,
    "start_time": "2022-04-25T13:04:57.107Z"
   },
   {
    "duration": 6,
    "start_time": "2022-04-25T13:04:57.117Z"
   },
   {
    "duration": 7,
    "start_time": "2022-04-25T13:04:57.124Z"
   },
   {
    "duration": 4,
    "start_time": "2022-04-25T13:05:51.653Z"
   },
   {
    "duration": 69,
    "start_time": "2022-04-25T13:08:24.963Z"
   },
   {
    "duration": 16,
    "start_time": "2022-04-25T13:08:28.149Z"
   },
   {
    "duration": 18,
    "start_time": "2022-04-25T13:08:31.151Z"
   },
   {
    "duration": 14,
    "start_time": "2022-04-25T13:08:47.404Z"
   },
   {
    "duration": 14,
    "start_time": "2022-04-25T13:08:51.084Z"
   },
   {
    "duration": 103,
    "start_time": "2022-04-25T13:24:38.474Z"
   },
   {
    "duration": 12,
    "start_time": "2022-04-25T13:26:31.458Z"
   },
   {
    "duration": 11,
    "start_time": "2022-04-25T13:27:27.378Z"
   },
   {
    "duration": 552,
    "start_time": "2022-04-25T13:31:42.248Z"
   },
   {
    "duration": 158,
    "start_time": "2022-04-25T13:32:58.528Z"
   },
   {
    "duration": 1230,
    "start_time": "2022-04-25T13:33:11.264Z"
   },
   {
    "duration": 113,
    "start_time": "2022-04-25T13:33:12.496Z"
   },
   {
    "duration": 32,
    "start_time": "2022-04-25T13:33:12.611Z"
   },
   {
    "duration": 18,
    "start_time": "2022-04-25T13:33:12.646Z"
   },
   {
    "duration": 33,
    "start_time": "2022-04-25T13:33:12.666Z"
   },
   {
    "duration": 4,
    "start_time": "2022-04-25T13:33:12.701Z"
   },
   {
    "duration": 42,
    "start_time": "2022-04-25T13:33:12.706Z"
   },
   {
    "duration": 19,
    "start_time": "2022-04-25T13:33:12.750Z"
   },
   {
    "duration": 7,
    "start_time": "2022-04-25T13:33:12.771Z"
   },
   {
    "duration": 11,
    "start_time": "2022-04-25T13:33:12.781Z"
   },
   {
    "duration": 6,
    "start_time": "2022-04-25T13:33:12.793Z"
   },
   {
    "duration": 4,
    "start_time": "2022-04-25T13:33:12.801Z"
   },
   {
    "duration": 11,
    "start_time": "2022-04-25T13:33:12.806Z"
   },
   {
    "duration": 32,
    "start_time": "2022-04-25T13:33:12.819Z"
   },
   {
    "duration": 9,
    "start_time": "2022-04-25T13:33:12.853Z"
   },
   {
    "duration": 10,
    "start_time": "2022-04-25T13:33:12.864Z"
   },
   {
    "duration": 5,
    "start_time": "2022-04-25T13:33:12.876Z"
   },
   {
    "duration": 14,
    "start_time": "2022-04-25T13:33:12.883Z"
   },
   {
    "duration": 21,
    "start_time": "2022-04-25T13:33:12.899Z"
   },
   {
    "duration": 6,
    "start_time": "2022-04-25T13:33:12.922Z"
   },
   {
    "duration": 14,
    "start_time": "2022-04-25T13:33:12.948Z"
   },
   {
    "duration": 518,
    "start_time": "2022-04-25T13:33:12.963Z"
   },
   {
    "duration": 404,
    "start_time": "2022-04-25T13:33:13.483Z"
   },
   {
    "duration": 1047,
    "start_time": "2022-04-25T13:33:13.889Z"
   },
   {
    "duration": 11,
    "start_time": "2022-04-25T13:33:14.938Z"
   },
   {
    "duration": 180,
    "start_time": "2022-04-25T13:33:14.951Z"
   },
   {
    "duration": 1416,
    "start_time": "2022-04-25T13:33:15.133Z"
   },
   {
    "duration": 15,
    "start_time": "2022-04-25T13:33:16.554Z"
   },
   {
    "duration": 15,
    "start_time": "2022-04-25T13:33:16.570Z"
   },
   {
    "duration": 7,
    "start_time": "2022-04-25T13:33:16.587Z"
   },
   {
    "duration": 218,
    "start_time": "2022-04-25T13:33:16.596Z"
   },
   {
    "duration": 1728,
    "start_time": "2022-04-25T13:33:16.816Z"
   },
   {
    "duration": 209,
    "start_time": "2022-04-25T13:33:18.548Z"
   },
   {
    "duration": 306,
    "start_time": "2022-04-25T13:33:18.759Z"
   },
   {
    "duration": 332,
    "start_time": "2022-04-25T13:33:19.067Z"
   },
   {
    "duration": 8,
    "start_time": "2022-04-25T13:33:19.400Z"
   },
   {
    "duration": 339,
    "start_time": "2022-04-25T13:33:19.410Z"
   },
   {
    "duration": 282,
    "start_time": "2022-04-25T13:33:19.752Z"
   },
   {
    "duration": 2,
    "start_time": "2022-04-25T13:33:20.036Z"
   },
   {
    "duration": 13,
    "start_time": "2022-04-25T13:33:20.040Z"
   },
   {
    "duration": 11,
    "start_time": "2022-04-25T13:33:20.054Z"
   },
   {
    "duration": 7,
    "start_time": "2022-04-25T13:33:20.066Z"
   },
   {
    "duration": 6,
    "start_time": "2022-04-25T13:33:20.075Z"
   },
   {
    "duration": 6,
    "start_time": "2022-04-25T13:33:20.083Z"
   },
   {
    "duration": 9,
    "start_time": "2022-04-25T13:33:20.091Z"
   },
   {
    "duration": 6,
    "start_time": "2022-04-25T13:33:20.101Z"
   },
   {
    "duration": 7,
    "start_time": "2022-04-25T13:33:20.108Z"
   },
   {
    "duration": 334,
    "start_time": "2022-04-25T13:38:32.162Z"
   },
   {
    "duration": 325,
    "start_time": "2022-04-25T13:39:33.715Z"
   },
   {
    "duration": 98,
    "start_time": "2022-04-25T13:45:52.104Z"
   },
   {
    "duration": 190,
    "start_time": "2022-04-25T13:46:09.041Z"
   },
   {
    "duration": 6,
    "start_time": "2022-04-25T13:55:32.064Z"
   },
   {
    "duration": 7,
    "start_time": "2022-04-25T13:55:46.127Z"
   },
   {
    "duration": 7,
    "start_time": "2022-04-25T13:56:59.838Z"
   },
   {
    "duration": 3,
    "start_time": "2022-04-25T13:57:02.590Z"
   },
   {
    "duration": 4,
    "start_time": "2022-04-25T13:57:29.127Z"
   },
   {
    "duration": 6,
    "start_time": "2022-04-25T13:58:57.415Z"
   },
   {
    "duration": 6,
    "start_time": "2022-04-25T13:59:07.326Z"
   },
   {
    "duration": 6,
    "start_time": "2022-04-25T13:59:32.334Z"
   },
   {
    "duration": 4,
    "start_time": "2022-04-25T13:59:49.469Z"
   },
   {
    "duration": 1444,
    "start_time": "2022-04-26T08:10:57.461Z"
   },
   {
    "duration": 85,
    "start_time": "2022-04-26T08:10:58.907Z"
   },
   {
    "duration": 42,
    "start_time": "2022-04-26T08:10:58.993Z"
   },
   {
    "duration": 22,
    "start_time": "2022-04-26T08:10:59.037Z"
   },
   {
    "duration": 30,
    "start_time": "2022-04-26T08:10:59.061Z"
   },
   {
    "duration": 22,
    "start_time": "2022-04-26T08:10:59.092Z"
   },
   {
    "duration": 37,
    "start_time": "2022-04-26T08:10:59.118Z"
   },
   {
    "duration": 23,
    "start_time": "2022-04-26T08:10:59.158Z"
   },
   {
    "duration": 27,
    "start_time": "2022-04-26T08:10:59.183Z"
   },
   {
    "duration": 19,
    "start_time": "2022-04-26T08:10:59.212Z"
   },
   {
    "duration": 9,
    "start_time": "2022-04-26T08:10:59.233Z"
   },
   {
    "duration": 4,
    "start_time": "2022-04-26T08:10:59.244Z"
   },
   {
    "duration": 10,
    "start_time": "2022-04-26T08:10:59.250Z"
   },
   {
    "duration": 5,
    "start_time": "2022-04-26T08:10:59.263Z"
   },
   {
    "duration": 8,
    "start_time": "2022-04-26T08:10:59.269Z"
   },
   {
    "duration": 52,
    "start_time": "2022-04-26T08:10:59.279Z"
   },
   {
    "duration": 6,
    "start_time": "2022-04-26T08:10:59.333Z"
   },
   {
    "duration": 6,
    "start_time": "2022-04-26T08:10:59.341Z"
   },
   {
    "duration": 18,
    "start_time": "2022-04-26T08:10:59.349Z"
   },
   {
    "duration": 5,
    "start_time": "2022-04-26T08:10:59.369Z"
   },
   {
    "duration": 54,
    "start_time": "2022-04-26T08:10:59.375Z"
   },
   {
    "duration": 534,
    "start_time": "2022-04-26T08:10:59.431Z"
   },
   {
    "duration": 310,
    "start_time": "2022-04-26T08:10:59.966Z"
   },
   {
    "duration": 1367,
    "start_time": "2022-04-26T08:11:00.278Z"
   },
   {
    "duration": 6,
    "start_time": "2022-04-26T08:11:01.647Z"
   },
   {
    "duration": 226,
    "start_time": "2022-04-26T08:11:01.655Z"
   },
   {
    "duration": 1490,
    "start_time": "2022-04-26T08:11:01.882Z"
   },
   {
    "duration": 22,
    "start_time": "2022-04-26T08:11:03.374Z"
   },
   {
    "duration": 18,
    "start_time": "2022-04-26T08:11:03.398Z"
   },
   {
    "duration": 6,
    "start_time": "2022-04-26T08:11:03.421Z"
   },
   {
    "duration": 277,
    "start_time": "2022-04-26T08:11:03.429Z"
   },
   {
    "duration": 2240,
    "start_time": "2022-04-26T08:11:03.713Z"
   },
   {
    "duration": 257,
    "start_time": "2022-04-26T08:11:05.955Z"
   },
   {
    "duration": 240,
    "start_time": "2022-04-26T08:11:06.214Z"
   },
   {
    "duration": 336,
    "start_time": "2022-04-26T08:11:06.456Z"
   },
   {
    "duration": 321,
    "start_time": "2022-04-26T08:11:06.794Z"
   },
   {
    "duration": 13,
    "start_time": "2022-04-26T08:11:07.118Z"
   },
   {
    "duration": 416,
    "start_time": "2022-04-26T08:11:07.135Z"
   },
   {
    "duration": 264,
    "start_time": "2022-04-26T08:11:07.553Z"
   },
   {
    "duration": 3,
    "start_time": "2022-04-26T08:11:07.824Z"
   },
   {
    "duration": 9,
    "start_time": "2022-04-26T08:11:07.833Z"
   },
   {
    "duration": 7,
    "start_time": "2022-04-26T08:11:07.843Z"
   },
   {
    "duration": 8,
    "start_time": "2022-04-26T08:11:07.852Z"
   },
   {
    "duration": 5,
    "start_time": "2022-04-26T08:11:07.862Z"
   },
   {
    "duration": 10,
    "start_time": "2022-04-26T08:11:07.869Z"
   },
   {
    "duration": 12,
    "start_time": "2022-04-26T08:11:07.911Z"
   },
   {
    "duration": 9,
    "start_time": "2022-04-26T08:11:07.926Z"
   },
   {
    "duration": 6,
    "start_time": "2022-04-26T08:11:07.937Z"
   },
   {
    "duration": 126,
    "start_time": "2022-04-26T08:12:51.462Z"
   },
   {
    "duration": 21,
    "start_time": "2022-04-26T08:13:02.301Z"
   },
   {
    "duration": 15,
    "start_time": "2022-04-26T08:13:33.160Z"
   },
   {
    "duration": 15,
    "start_time": "2022-04-26T08:13:45.788Z"
   },
   {
    "duration": 16,
    "start_time": "2022-04-26T08:13:50.529Z"
   },
   {
    "duration": 13,
    "start_time": "2022-04-26T08:13:57.548Z"
   },
   {
    "duration": 197,
    "start_time": "2022-04-26T08:14:03.669Z"
   }
  ],
  "kernelspec": {
   "display_name": "Python 3",
   "language": "python",
   "name": "python3"
  },
  "language_info": {
   "codemirror_mode": {
    "name": "ipython",
    "version": 3
   },
   "file_extension": ".py",
   "mimetype": "text/x-python",
   "name": "python",
   "nbconvert_exporter": "python",
   "pygments_lexer": "ipython3",
   "version": "3.8.8"
  },
  "toc": {
   "base_numbering": 1,
   "nav_menu": {
    "height": "433.767px",
    "width": "160px"
   },
   "number_sections": true,
   "sideBar": true,
   "skip_h1_title": true,
   "title_cell": "Table of Contents",
   "title_sidebar": "Contents",
   "toc_cell": false,
   "toc_position": {
    "height": "calc(100% - 180px)",
    "left": "10px",
    "top": "150px",
    "width": "282px"
   },
   "toc_section_display": true,
   "toc_window_display": true
  }
 },
 "nbformat": 4,
 "nbformat_minor": 2
}
